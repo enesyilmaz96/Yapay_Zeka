{
 "cells": [
  {
   "cell_type": "markdown",
   "id": "622d7bae",
   "metadata": {},
   "source": [
    "# KNN\n",
    "\n",
    "K-En Yakın Komşu (KNN), bir makine öğrenimi algoritmasıdır. Bir örneğin sınıfını veya değerini belirlemek için en yakın k komşusunun etrafındaki verilere dayanır. Uzaklık ölçüsü kullanarak, belirli bir örneğin k en yakın komşusunu seçer. Sınıflandırma için en yaygın etiketi, regresyon için ise ortalama değeri kullanarak tahmin yapar. Basit, eğitim süresi olmayan bir algoritmadır ancak büyük veri setlerinde performans sorunları yaşayabilir ve aykırı değerlere hassas olabilir.\n",
    "\n",
    "**1. Exploratory Data Analysis - Keşifsel Veri Analizi**\n",
    "\n",
    "**2. Data Preprocessing & Feature Engineering - Veri Ön İşleme ve Özellik Mühendisliği**\n",
    "\n",
    "**3. Modeling & Prediction - Modelleme ve Tahmin**\n",
    "\n",
    "**4. Model Evaluation - Model Değerlendirme**\n",
    "\n",
    "**5. Hyperparameter Optimization - Hiperparametre Optimizasyonu**\n",
    "\n",
    "**6. Final Model - Son Model**"
   ]
  },
  {
   "cell_type": "code",
   "execution_count": 1,
   "id": "83e44ddd",
   "metadata": {},
   "outputs": [],
   "source": [
    "# Pandas kütüphanesini ve gerekli sklearn modüllerini içe aktar\n",
    "import pandas as pd\n",
    "from sklearn.metrics import classification_report, roc_auc_score\n",
    "from sklearn.model_selection import GridSearchCV, cross_validate\n",
    "from sklearn.neighbors import KNeighborsClassifier\n",
    "from sklearn.preprocessing import StandardScaler"
   ]
  },
  {
   "cell_type": "code",
   "execution_count": 2,
   "id": "0cfd8882",
   "metadata": {},
   "outputs": [],
   "source": [
    "# DataFrame içindeki tüm sütunları ekrana yazdırma seçeneğini etkinleştir\n",
    "pd.set_option('display.max_columns', None)\n",
    "\n",
    "# Ekrana yazdırılan sütunların genişliğini artırma\n",
    "pd.set_option('display.width', 500)\n"
   ]
  },
  {
   "cell_type": "markdown",
   "id": "0120e2f6",
   "metadata": {},
   "source": [
    "### Exploratory Data Analysis - Keşifsel Veri Analizi"
   ]
  },
  {
   "cell_type": "code",
   "execution_count": 3,
   "id": "dd383147",
   "metadata": {},
   "outputs": [
    {
     "data": {
      "text/html": [
       "<div>\n",
       "<style scoped>\n",
       "    .dataframe tbody tr th:only-of-type {\n",
       "        vertical-align: middle;\n",
       "    }\n",
       "\n",
       "    .dataframe tbody tr th {\n",
       "        vertical-align: top;\n",
       "    }\n",
       "\n",
       "    .dataframe thead th {\n",
       "        text-align: right;\n",
       "    }\n",
       "</style>\n",
       "<table border=\"1\" class=\"dataframe\">\n",
       "  <thead>\n",
       "    <tr style=\"text-align: right;\">\n",
       "      <th></th>\n",
       "      <th>Pregnancies</th>\n",
       "      <th>Glucose</th>\n",
       "      <th>BloodPressure</th>\n",
       "      <th>SkinThickness</th>\n",
       "      <th>Insulin</th>\n",
       "      <th>BMI</th>\n",
       "      <th>DiabetesPedigreeFunction</th>\n",
       "      <th>Age</th>\n",
       "      <th>Outcome</th>\n",
       "    </tr>\n",
       "  </thead>\n",
       "  <tbody>\n",
       "    <tr>\n",
       "      <th>0</th>\n",
       "      <td>6</td>\n",
       "      <td>148</td>\n",
       "      <td>72</td>\n",
       "      <td>35</td>\n",
       "      <td>0</td>\n",
       "      <td>33.6</td>\n",
       "      <td>0.627</td>\n",
       "      <td>50</td>\n",
       "      <td>1</td>\n",
       "    </tr>\n",
       "    <tr>\n",
       "      <th>1</th>\n",
       "      <td>1</td>\n",
       "      <td>85</td>\n",
       "      <td>66</td>\n",
       "      <td>29</td>\n",
       "      <td>0</td>\n",
       "      <td>26.6</td>\n",
       "      <td>0.351</td>\n",
       "      <td>31</td>\n",
       "      <td>0</td>\n",
       "    </tr>\n",
       "    <tr>\n",
       "      <th>2</th>\n",
       "      <td>8</td>\n",
       "      <td>183</td>\n",
       "      <td>64</td>\n",
       "      <td>0</td>\n",
       "      <td>0</td>\n",
       "      <td>23.3</td>\n",
       "      <td>0.672</td>\n",
       "      <td>32</td>\n",
       "      <td>1</td>\n",
       "    </tr>\n",
       "    <tr>\n",
       "      <th>3</th>\n",
       "      <td>1</td>\n",
       "      <td>89</td>\n",
       "      <td>66</td>\n",
       "      <td>23</td>\n",
       "      <td>94</td>\n",
       "      <td>28.1</td>\n",
       "      <td>0.167</td>\n",
       "      <td>21</td>\n",
       "      <td>0</td>\n",
       "    </tr>\n",
       "    <tr>\n",
       "      <th>4</th>\n",
       "      <td>0</td>\n",
       "      <td>137</td>\n",
       "      <td>40</td>\n",
       "      <td>35</td>\n",
       "      <td>168</td>\n",
       "      <td>43.1</td>\n",
       "      <td>2.288</td>\n",
       "      <td>33</td>\n",
       "      <td>1</td>\n",
       "    </tr>\n",
       "  </tbody>\n",
       "</table>\n",
       "</div>"
      ],
      "text/plain": [
       "   Pregnancies  Glucose  BloodPressure  SkinThickness  Insulin   BMI  DiabetesPedigreeFunction  Age  Outcome\n",
       "0            6      148             72             35        0  33.6                     0.627   50        1\n",
       "1            1       85             66             29        0  26.6                     0.351   31        0\n",
       "2            8      183             64              0        0  23.3                     0.672   32        1\n",
       "3            1       89             66             23       94  28.1                     0.167   21        0\n",
       "4            0      137             40             35      168  43.1                     2.288   33        1"
      ]
     },
     "execution_count": 3,
     "metadata": {},
     "output_type": "execute_result"
    }
   ],
   "source": [
    "# \"diabetes.csv\" dosyasını kullanarak bir DataFrame oluştur\n",
    "df = pd.read_csv(\"datasets/diabetes.csv\")\n",
    "\n",
    "# DataFrame'in ilk 5 satırını ekrana yazdır\n",
    "df.head()\n"
   ]
  },
  {
   "cell_type": "code",
   "execution_count": 4,
   "id": "0297961e",
   "metadata": {},
   "outputs": [
    {
     "data": {
      "text/plain": [
       "(768, 9)"
      ]
     },
     "execution_count": 4,
     "metadata": {},
     "output_type": "execute_result"
    }
   ],
   "source": [
    "# DataFrame'in satır ve sütun sayısını ekrana yazdır\n",
    "df.shape\n"
   ]
  },
  {
   "cell_type": "code",
   "execution_count": 5,
   "id": "e6468110",
   "metadata": {},
   "outputs": [
    {
     "data": {
      "text/html": [
       "<div>\n",
       "<style scoped>\n",
       "    .dataframe tbody tr th:only-of-type {\n",
       "        vertical-align: middle;\n",
       "    }\n",
       "\n",
       "    .dataframe tbody tr th {\n",
       "        vertical-align: top;\n",
       "    }\n",
       "\n",
       "    .dataframe thead th {\n",
       "        text-align: right;\n",
       "    }\n",
       "</style>\n",
       "<table border=\"1\" class=\"dataframe\">\n",
       "  <thead>\n",
       "    <tr style=\"text-align: right;\">\n",
       "      <th></th>\n",
       "      <th>count</th>\n",
       "      <th>mean</th>\n",
       "      <th>std</th>\n",
       "      <th>min</th>\n",
       "      <th>25%</th>\n",
       "      <th>50%</th>\n",
       "      <th>75%</th>\n",
       "      <th>max</th>\n",
       "    </tr>\n",
       "  </thead>\n",
       "  <tbody>\n",
       "    <tr>\n",
       "      <th>Pregnancies</th>\n",
       "      <td>768.0</td>\n",
       "      <td>3.845052</td>\n",
       "      <td>3.369578</td>\n",
       "      <td>0.000</td>\n",
       "      <td>1.00000</td>\n",
       "      <td>3.0000</td>\n",
       "      <td>6.00000</td>\n",
       "      <td>17.00</td>\n",
       "    </tr>\n",
       "    <tr>\n",
       "      <th>Glucose</th>\n",
       "      <td>768.0</td>\n",
       "      <td>120.894531</td>\n",
       "      <td>31.972618</td>\n",
       "      <td>0.000</td>\n",
       "      <td>99.00000</td>\n",
       "      <td>117.0000</td>\n",
       "      <td>140.25000</td>\n",
       "      <td>199.00</td>\n",
       "    </tr>\n",
       "    <tr>\n",
       "      <th>BloodPressure</th>\n",
       "      <td>768.0</td>\n",
       "      <td>69.105469</td>\n",
       "      <td>19.355807</td>\n",
       "      <td>0.000</td>\n",
       "      <td>62.00000</td>\n",
       "      <td>72.0000</td>\n",
       "      <td>80.00000</td>\n",
       "      <td>122.00</td>\n",
       "    </tr>\n",
       "    <tr>\n",
       "      <th>SkinThickness</th>\n",
       "      <td>768.0</td>\n",
       "      <td>20.536458</td>\n",
       "      <td>15.952218</td>\n",
       "      <td>0.000</td>\n",
       "      <td>0.00000</td>\n",
       "      <td>23.0000</td>\n",
       "      <td>32.00000</td>\n",
       "      <td>99.00</td>\n",
       "    </tr>\n",
       "    <tr>\n",
       "      <th>Insulin</th>\n",
       "      <td>768.0</td>\n",
       "      <td>79.799479</td>\n",
       "      <td>115.244002</td>\n",
       "      <td>0.000</td>\n",
       "      <td>0.00000</td>\n",
       "      <td>30.5000</td>\n",
       "      <td>127.25000</td>\n",
       "      <td>846.00</td>\n",
       "    </tr>\n",
       "    <tr>\n",
       "      <th>BMI</th>\n",
       "      <td>768.0</td>\n",
       "      <td>31.992578</td>\n",
       "      <td>7.884160</td>\n",
       "      <td>0.000</td>\n",
       "      <td>27.30000</td>\n",
       "      <td>32.0000</td>\n",
       "      <td>36.60000</td>\n",
       "      <td>67.10</td>\n",
       "    </tr>\n",
       "    <tr>\n",
       "      <th>DiabetesPedigreeFunction</th>\n",
       "      <td>768.0</td>\n",
       "      <td>0.471876</td>\n",
       "      <td>0.331329</td>\n",
       "      <td>0.078</td>\n",
       "      <td>0.24375</td>\n",
       "      <td>0.3725</td>\n",
       "      <td>0.62625</td>\n",
       "      <td>2.42</td>\n",
       "    </tr>\n",
       "    <tr>\n",
       "      <th>Age</th>\n",
       "      <td>768.0</td>\n",
       "      <td>33.240885</td>\n",
       "      <td>11.760232</td>\n",
       "      <td>21.000</td>\n",
       "      <td>24.00000</td>\n",
       "      <td>29.0000</td>\n",
       "      <td>41.00000</td>\n",
       "      <td>81.00</td>\n",
       "    </tr>\n",
       "    <tr>\n",
       "      <th>Outcome</th>\n",
       "      <td>768.0</td>\n",
       "      <td>0.348958</td>\n",
       "      <td>0.476951</td>\n",
       "      <td>0.000</td>\n",
       "      <td>0.00000</td>\n",
       "      <td>0.0000</td>\n",
       "      <td>1.00000</td>\n",
       "      <td>1.00</td>\n",
       "    </tr>\n",
       "  </tbody>\n",
       "</table>\n",
       "</div>"
      ],
      "text/plain": [
       "                          count        mean         std     min       25%       50%        75%     max\n",
       "Pregnancies               768.0    3.845052    3.369578   0.000   1.00000    3.0000    6.00000   17.00\n",
       "Glucose                   768.0  120.894531   31.972618   0.000  99.00000  117.0000  140.25000  199.00\n",
       "BloodPressure             768.0   69.105469   19.355807   0.000  62.00000   72.0000   80.00000  122.00\n",
       "SkinThickness             768.0   20.536458   15.952218   0.000   0.00000   23.0000   32.00000   99.00\n",
       "Insulin                   768.0   79.799479  115.244002   0.000   0.00000   30.5000  127.25000  846.00\n",
       "BMI                       768.0   31.992578    7.884160   0.000  27.30000   32.0000   36.60000   67.10\n",
       "DiabetesPedigreeFunction  768.0    0.471876    0.331329   0.078   0.24375    0.3725    0.62625    2.42\n",
       "Age                       768.0   33.240885   11.760232  21.000  24.00000   29.0000   41.00000   81.00\n",
       "Outcome                   768.0    0.348958    0.476951   0.000   0.00000    0.0000    1.00000    1.00"
      ]
     },
     "execution_count": 5,
     "metadata": {},
     "output_type": "execute_result"
    }
   ],
   "source": [
    "# DataFrame'in temel istatistiksel özetini ekrana yazdır\n",
    "# .T Transpoz işlemidir. geniş veri setlerinde daha iyi okunabilir bir çıktı elde edilir\n",
    "df.describe().T\n"
   ]
  },
  {
   "cell_type": "code",
   "execution_count": 6,
   "id": "4dff6e3a",
   "metadata": {},
   "outputs": [
    {
     "data": {
      "text/plain": [
       "Outcome\n",
       "0    500\n",
       "1    268\n",
       "Name: count, dtype: int64"
      ]
     },
     "execution_count": 6,
     "metadata": {},
     "output_type": "execute_result"
    }
   ],
   "source": [
    "# \"Outcome\" sütunundaki benzersiz değerlerin sayısını ekrana yazdır\n",
    "df[\"Outcome\"].value_counts()\n"
   ]
  },
  {
   "cell_type": "markdown",
   "id": "7c23bc3a",
   "metadata": {},
   "source": [
    "### 2. Data Preprocessing (Veri Ön İşleme) & Feature Engineering (Özellik Mühendisliği)\n",
    "\n",
    "KNN aykırı değerlere karşı duyarlıdır. Bu yüzden verileri standartlaştırmak gerekir."
   ]
  },
  {
   "cell_type": "code",
   "execution_count": 7,
   "id": "f21ecb44",
   "metadata": {},
   "outputs": [
    {
     "data": {
      "text/html": [
       "<div>\n",
       "<style scoped>\n",
       "    .dataframe tbody tr th:only-of-type {\n",
       "        vertical-align: middle;\n",
       "    }\n",
       "\n",
       "    .dataframe tbody tr th {\n",
       "        vertical-align: top;\n",
       "    }\n",
       "\n",
       "    .dataframe thead th {\n",
       "        text-align: right;\n",
       "    }\n",
       "</style>\n",
       "<table border=\"1\" class=\"dataframe\">\n",
       "  <thead>\n",
       "    <tr style=\"text-align: right;\">\n",
       "      <th></th>\n",
       "      <th>count</th>\n",
       "      <th>mean</th>\n",
       "      <th>std</th>\n",
       "      <th>min</th>\n",
       "      <th>25%</th>\n",
       "      <th>50%</th>\n",
       "      <th>75%</th>\n",
       "      <th>max</th>\n",
       "    </tr>\n",
       "  </thead>\n",
       "  <tbody>\n",
       "    <tr>\n",
       "      <th>Pregnancies</th>\n",
       "      <td>768.0</td>\n",
       "      <td>-6.476301e-17</td>\n",
       "      <td>1.000652</td>\n",
       "      <td>-1.141852</td>\n",
       "      <td>-0.844885</td>\n",
       "      <td>-0.250952</td>\n",
       "      <td>0.639947</td>\n",
       "      <td>3.906578</td>\n",
       "    </tr>\n",
       "    <tr>\n",
       "      <th>Glucose</th>\n",
       "      <td>768.0</td>\n",
       "      <td>-9.251859e-18</td>\n",
       "      <td>1.000652</td>\n",
       "      <td>-3.783654</td>\n",
       "      <td>-0.685236</td>\n",
       "      <td>-0.121888</td>\n",
       "      <td>0.605771</td>\n",
       "      <td>2.444478</td>\n",
       "    </tr>\n",
       "    <tr>\n",
       "      <th>BloodPressure</th>\n",
       "      <td>768.0</td>\n",
       "      <td>1.503427e-17</td>\n",
       "      <td>1.000652</td>\n",
       "      <td>-3.572597</td>\n",
       "      <td>-0.367337</td>\n",
       "      <td>0.149641</td>\n",
       "      <td>0.563223</td>\n",
       "      <td>2.734528</td>\n",
       "    </tr>\n",
       "    <tr>\n",
       "      <th>SkinThickness</th>\n",
       "      <td>768.0</td>\n",
       "      <td>1.006140e-16</td>\n",
       "      <td>1.000652</td>\n",
       "      <td>-1.288212</td>\n",
       "      <td>-1.288212</td>\n",
       "      <td>0.154533</td>\n",
       "      <td>0.719086</td>\n",
       "      <td>4.921866</td>\n",
       "    </tr>\n",
       "    <tr>\n",
       "      <th>Insulin</th>\n",
       "      <td>768.0</td>\n",
       "      <td>-3.006854e-17</td>\n",
       "      <td>1.000652</td>\n",
       "      <td>-0.692891</td>\n",
       "      <td>-0.692891</td>\n",
       "      <td>-0.428062</td>\n",
       "      <td>0.412008</td>\n",
       "      <td>6.652839</td>\n",
       "    </tr>\n",
       "    <tr>\n",
       "      <th>BMI</th>\n",
       "      <td>768.0</td>\n",
       "      <td>2.590520e-16</td>\n",
       "      <td>1.000652</td>\n",
       "      <td>-4.060474</td>\n",
       "      <td>-0.595578</td>\n",
       "      <td>0.000942</td>\n",
       "      <td>0.584771</td>\n",
       "      <td>4.455807</td>\n",
       "    </tr>\n",
       "    <tr>\n",
       "      <th>DiabetesPedigreeFunction</th>\n",
       "      <td>768.0</td>\n",
       "      <td>2.451743e-16</td>\n",
       "      <td>1.000652</td>\n",
       "      <td>-1.189553</td>\n",
       "      <td>-0.688969</td>\n",
       "      <td>-0.300128</td>\n",
       "      <td>0.466227</td>\n",
       "      <td>5.883565</td>\n",
       "    </tr>\n",
       "    <tr>\n",
       "      <th>Age</th>\n",
       "      <td>768.0</td>\n",
       "      <td>1.931325e-16</td>\n",
       "      <td>1.000652</td>\n",
       "      <td>-1.041549</td>\n",
       "      <td>-0.786286</td>\n",
       "      <td>-0.360847</td>\n",
       "      <td>0.660206</td>\n",
       "      <td>4.063716</td>\n",
       "    </tr>\n",
       "  </tbody>\n",
       "</table>\n",
       "</div>"
      ],
      "text/plain": [
       "                          count          mean       std       min       25%       50%       75%       max\n",
       "Pregnancies               768.0 -6.476301e-17  1.000652 -1.141852 -0.844885 -0.250952  0.639947  3.906578\n",
       "Glucose                   768.0 -9.251859e-18  1.000652 -3.783654 -0.685236 -0.121888  0.605771  2.444478\n",
       "BloodPressure             768.0  1.503427e-17  1.000652 -3.572597 -0.367337  0.149641  0.563223  2.734528\n",
       "SkinThickness             768.0  1.006140e-16  1.000652 -1.288212 -1.288212  0.154533  0.719086  4.921866\n",
       "Insulin                   768.0 -3.006854e-17  1.000652 -0.692891 -0.692891 -0.428062  0.412008  6.652839\n",
       "BMI                       768.0  2.590520e-16  1.000652 -4.060474 -0.595578  0.000942  0.584771  4.455807\n",
       "DiabetesPedigreeFunction  768.0  2.451743e-16  1.000652 -1.189553 -0.688969 -0.300128  0.466227  5.883565\n",
       "Age                       768.0  1.931325e-16  1.000652 -1.041549 -0.786286 -0.360847  0.660206  4.063716"
      ]
     },
     "execution_count": 7,
     "metadata": {},
     "output_type": "execute_result"
    }
   ],
   "source": [
    "# \"Outcome\" sütununu hedef değişken olarak seç\n",
    "y = df[\"Outcome\"]\n",
    "\n",
    "# \"Outcome\" sütununu hariç tutarak bağımsız değişkenleri seç\n",
    "X = df.drop([\"Outcome\"], axis=1)\n",
    "\n",
    "# Bağımsız değişkenleri standartlaştır\n",
    "X_scaled = StandardScaler().fit_transform(X)\n",
    "X = pd.DataFrame(X_scaled, columns=X.columns)\n",
    "\n",
    "# Standartlaştırılmış verilerin temel istatistikleri ekrana yazdırılır.\n",
    "X.describe().T"
   ]
  },
  {
   "cell_type": "markdown",
   "id": "77d8efcf",
   "metadata": {},
   "source": [
    "### 3. Modeling & Prediction - Modelleme ve Tahmin"
   ]
  },
  {
   "cell_type": "code",
   "execution_count": 8,
   "id": "d669006d",
   "metadata": {},
   "outputs": [],
   "source": [
    "# K-En Yakın Komşular Sınıflandırıcı modelini oluştur ve eğit\n",
    "knn_model = KNeighborsClassifier().fit(X, y)\n"
   ]
  },
  {
   "cell_type": "code",
   "execution_count": 9,
   "id": "2d67a577",
   "metadata": {},
   "outputs": [
    {
     "data": {
      "text/plain": [
       "array([1], dtype=int64)"
      ]
     },
     "execution_count": 9,
     "metadata": {},
     "output_type": "execute_result"
    }
   ],
   "source": [
    "# Rastgele bir kullanıcı örneği seç ve KNN modeli ile tahmin yap\n",
    "# random_state=45 yaparsanız benim ile aynı sonucu elde edersiniz.\n",
    "random_user = X.sample(1, random_state=45)\n",
    "\n",
    "# KNN modeli ile tahmin yap\n",
    "knn_model.predict(random_user)\n"
   ]
  },
  {
   "cell_type": "markdown",
   "id": "40314ffe",
   "metadata": {},
   "source": [
    "### 4. Model Evaluation - Model Değerlendirme\n",
    "\n"
   ]
  },
  {
   "cell_type": "code",
   "execution_count": 10,
   "id": "fbe0433e",
   "metadata": {},
   "outputs": [],
   "source": [
    "# Confusion matrix oluşturmak için y_pred'i elde et\n",
    "y_pred = knn_model.predict(X)\n"
   ]
  },
  {
   "cell_type": "markdown",
   "id": "77f0fe97",
   "metadata": {},
   "source": [
    "KNN modelinin bağımsız değişkenler üzerinde sınıf olasılıklarını tahmin etmesini sağlar. **predict_proba(X)** fonksiyonu, her bir sınıf için olasılıkları içeren bir matris döndürür. **[ :, 1]** ifadesi, sadece pozitif sınıfın olasılıklarını içeren sütunu seçer. Bu olasılıklar genellikle AUC (Alan Altındaki Eğri) hesaplamak gibi performans metriklerinde kullanılır."
   ]
  },
  {
   "cell_type": "code",
   "execution_count": 11,
   "id": "4f29109b",
   "metadata": {},
   "outputs": [],
   "source": [
    "# AUC hesaplamak için y_prob'u elde et\n",
    "y_prob = knn_model.predict_proba(X)[:, 1]\n"
   ]
  },
  {
   "cell_type": "code",
   "execution_count": 12,
   "id": "1ff799c9",
   "metadata": {},
   "outputs": [
    {
     "name": "stdout",
     "output_type": "stream",
     "text": [
      "              precision    recall  f1-score   support\n",
      "\n",
      "           0       0.85      0.90      0.87       500\n",
      "           1       0.79      0.70      0.74       268\n",
      "\n",
      "    accuracy                           0.83       768\n",
      "   macro avg       0.82      0.80      0.81       768\n",
      "weighted avg       0.83      0.83      0.83       768\n",
      "\n"
     ]
    }
   ],
   "source": [
    "# Sınıflandırma raporunu ekrana yazdır\n",
    "print(classification_report(y, y_pred))"
   ]
  },
  {
   "cell_type": "code",
   "execution_count": 13,
   "id": "7bc92999",
   "metadata": {},
   "outputs": [
    {
     "data": {
      "text/plain": [
       "0.9017686567164179"
      ]
     },
     "execution_count": 13,
     "metadata": {},
     "output_type": "execute_result"
    }
   ],
   "source": [
    "# ROC AUC değerini hesapla\n",
    "roc_auc_score(y, y_prob)\n"
   ]
  },
  {
   "cell_type": "markdown",
   "id": "3d4be808",
   "metadata": {},
   "source": [
    "Bizim için önemli olan parametreler;\n",
    "\n",
    "**Accuracy(Kesinlik)** ==> 0.83 Toplam başarılı tahmin oranı\n",
    "\n",
    "**Precision (Hassasiyet)** ==> 0.79 Tahmini 1 olanların gerçekten 1 olma oranı\n",
    "\n",
    "**Recall (Duyarlılık)** ==> 0.70 Gerçekte 1 olanların 1 olarak tahmin edilme oranı\n",
    "\n",
    "**F1-Score** ==> 0.74 Hassasiyet ve duyarlılık ortalaması\n",
    "\n",
    "**ROC AUC** ==> 0.90 Bir sınıflandırma modelinin binary (iki sınıflı) sınıflandırma performansını ölçen bir metriktir."
   ]
  },
  {
   "cell_type": "markdown",
   "id": "391880c1",
   "metadata": {},
   "source": [
    "Modelin iyi eğitildiğinden emin olmak için 5 katlı çapraz doğrulama uygulayıp sonuçların ortalamasına göz atalım.\n"
   ]
  },
  {
   "cell_type": "code",
   "execution_count": 14,
   "id": "cf83e155",
   "metadata": {},
   "outputs": [],
   "source": [
    "# KNN modeli üzerinde çapraz doğrulama sonuçlarını al\n",
    "cv_results = cross_validate(knn_model, X, y, cv=5, scoring=[\"accuracy\", \"f1\", \"roc_auc\"])"
   ]
  },
  {
   "cell_type": "code",
   "execution_count": 15,
   "id": "6cb70d7d",
   "metadata": {},
   "outputs": [
    {
     "data": {
      "text/plain": [
       "0.733112638994992"
      ]
     },
     "execution_count": 15,
     "metadata": {},
     "output_type": "execute_result"
    }
   ],
   "source": [
    "# Çapraz doğrulama sonuçlarından ortalama accuracy değerini al\n",
    "cv_results['test_accuracy'].mean()"
   ]
  },
  {
   "cell_type": "code",
   "execution_count": 16,
   "id": "d397174f",
   "metadata": {},
   "outputs": [
    {
     "data": {
      "text/plain": [
       "0.5905780011534191"
      ]
     },
     "execution_count": 16,
     "metadata": {},
     "output_type": "execute_result"
    }
   ],
   "source": [
    "# Çapraz doğrulama sonuçlarından ortalama F1 score değerini al\n",
    "cv_results['test_f1'].mean()"
   ]
  },
  {
   "cell_type": "code",
   "execution_count": 17,
   "id": "083cdcd0",
   "metadata": {},
   "outputs": [
    {
     "data": {
      "text/plain": [
       "0.7805279524807827"
      ]
     },
     "execution_count": 17,
     "metadata": {},
     "output_type": "execute_result"
    }
   ],
   "source": [
    "# Çapraz doğrulama sonuçlarından ortalama ROC AUC değerini al\n",
    "cv_results['test_roc_auc'].mean()"
   ]
  },
  {
   "cell_type": "markdown",
   "id": "ac84a02c",
   "metadata": {},
   "source": [
    "Baktığımızda bulduğumuz değerler 5 katlı çapraz doğrulamadan elde edilen ortalamalardan yüksek "
   ]
  },
  {
   "cell_type": "markdown",
   "id": "3d6ff756",
   "metadata": {},
   "source": [
    "Peki bu değerleri arttırmak için ne yapabiliriz;\n",
    "--\n",
    "    1- Örnek boyutunu arttırmak\n",
    "    2- Veri ön işleme\n",
    "    3- Özellik mühendisliği\n",
    "    4- İlgili algoritma için optimizasyonlar\n",
    "    \n",
    "KNN algoritması için optimizasyon yapacak olursak;\n"
   ]
  },
  {
   "cell_type": "code",
   "execution_count": 18,
   "id": "c8d79f8b",
   "metadata": {},
   "outputs": [
    {
     "data": {
      "text/plain": [
       "{'algorithm': 'auto',\n",
       " 'leaf_size': 30,\n",
       " 'metric': 'minkowski',\n",
       " 'metric_params': None,\n",
       " 'n_jobs': None,\n",
       " 'n_neighbors': 5,\n",
       " 'p': 2,\n",
       " 'weights': 'uniform'}"
      ]
     },
     "execution_count": 18,
     "metadata": {},
     "output_type": "execute_result"
    }
   ],
   "source": [
    "# KNN modelinin parametrelerini ekrana yazdır\n",
    "knn_model.get_params()"
   ]
  },
  {
   "cell_type": "markdown",
   "id": "7e750757",
   "metadata": {},
   "source": [
    "Biz herhangi bir iyileştirme yapmadığımızda modelin parametreleri yukarıda görüldüğü gibidir. Şimdi modeli daha iyi hale getirmek için hiperparametreleri belirleyelim."
   ]
  },
  {
   "cell_type": "markdown",
   "id": "4ddafd68",
   "metadata": {},
   "source": [
    "### 5. Hyperparameter Optimization -  Hiperparametre Optimizasyonu\n"
   ]
  },
  {
   "cell_type": "code",
   "execution_count": 19,
   "id": "d0e59062",
   "metadata": {},
   "outputs": [
    {
     "name": "stdout",
     "output_type": "stream",
     "text": [
      "Fitting 5 folds for each of 48 candidates, totalling 240 fits\n"
     ]
    },
    {
     "data": {
      "text/plain": [
       "{'n_neighbors': 17}"
      ]
     },
     "execution_count": 19,
     "metadata": {},
     "output_type": "execute_result"
    }
   ],
   "source": [
    "# Yeni bir KNN modeli oluştur\n",
    "knn_model = KNeighborsClassifier()\n",
    "\n",
    "# KNN modeli için değerlendirilecek hiperparametre aralığını belirle\n",
    "knn_params = {\"n_neighbors\": range(2, 50)}\n",
    "\n",
    "# GridSearchCV kullanarak en iyi hiperparametreleri bul\n",
    "knn_gs_best = GridSearchCV(knn_model,\n",
    "                           knn_params,\n",
    "                           cv=5,\n",
    "                           n_jobs=-1,\n",
    "                           verbose=1).fit(X, y)\n",
    "\n",
    "# En iyi hiperparametreleri ekrana yazdır\n",
    "knn_gs_best.best_params_\n"
   ]
  },
  {
   "cell_type": "markdown",
   "id": "ff5f215f",
   "metadata": {},
   "source": [
    "Hiperparametre aralığını 2-50 olarak belirledik ve 5 katlı CV uyguladık. Yani 48 adayın her biri için 5 kat yerleştirme yapılarak toplamda 240 yerleştirme uygulandı. Bu işlem sonucunda en iyi **n_neighbors** parametresini **17** olarak belirledik. \n",
    "\n",
    "Daha önceki modelimizde bu değer 5'di. Şimdi bu parametre değerlerini modele tanımlayarak modelimizi yeniden oluşturulalım\n"
   ]
  },
  {
   "cell_type": "markdown",
   "id": "9ced9cb7",
   "metadata": {},
   "source": [
    "### 6. Final Model"
   ]
  },
  {
   "cell_type": "code",
   "execution_count": 20,
   "id": "9a8f1d4c",
   "metadata": {},
   "outputs": [],
   "source": [
    "# En iyi hiperparametreleri kullanarak final KNN modelini oluştur ve eğit;\n",
    "# **şeklinde kullanılma sebebi parametre sayısı birden fazla olabilir. Hepsini tek tek \n",
    "# girmemek için bu şekilde kullanılır.\n",
    "knn_final = knn_model.set_params(**knn_gs_best.best_params_).fit(X, y)\n",
    "\n",
    "# Çapraz doğrulama sonuçlarını al\n",
    "cv_results = cross_validate(knn_final,\n",
    "                            X,\n",
    "                            y,\n",
    "                            cv=5,\n",
    "                            scoring=[\"accuracy\", \"f1\", \"roc_auc\"])\n",
    "\n",
    "#scoring parametresi, hangi performans metriklerini değerlendireceğimizi belirler."
   ]
  },
  {
   "cell_type": "code",
   "execution_count": 21,
   "id": "91f84ea2",
   "metadata": {},
   "outputs": [
    {
     "data": {
      "text/plain": [
       "0.7669892199303965"
      ]
     },
     "execution_count": 21,
     "metadata": {},
     "output_type": "execute_result"
    }
   ],
   "source": [
    "# Çapraz doğrulama sonuçlarından ortalama accuracy değerini al\n",
    "cv_results['test_accuracy'].mean()\n"
   ]
  },
  {
   "cell_type": "code",
   "execution_count": 22,
   "id": "e11cf678",
   "metadata": {},
   "outputs": [
    {
     "data": {
      "text/plain": [
       "0.6170909049720137"
      ]
     },
     "execution_count": 22,
     "metadata": {},
     "output_type": "execute_result"
    }
   ],
   "source": [
    "cv_results['test_f1'].mean()"
   ]
  },
  {
   "cell_type": "code",
   "execution_count": 23,
   "id": "c6956888",
   "metadata": {},
   "outputs": [
    {
     "data": {
      "text/plain": [
       "0.8127938504542278"
      ]
     },
     "execution_count": 23,
     "metadata": {},
     "output_type": "execute_result"
    }
   ],
   "source": [
    "cv_results['test_roc_auc'].mean()"
   ]
  },
  {
   "cell_type": "markdown",
   "id": "fbe40443",
   "metadata": {},
   "source": [
    "Hiperparametreleri optimize ettikden sonra \n",
    "\n",
    "**Accuracy(Kesinlik)** ==> Eski Değer = **0.73** Yeni Değer = **0.76**\n",
    "\n",
    "**F1-Score** ==> Eski Değer = **0.59**  Yeni Değer = **0.61**\n",
    "\n",
    "**ROC AUC** ==> Eski Değer = **0.78** Yeni Değer = **0.81**\n",
    "\n",
    "Görüldüğü üzere KNN algoritması için hiperparametreleri optimize ettiğimizde başarı oranımız arttı."
   ]
  },
  {
   "cell_type": "code",
   "execution_count": 24,
   "id": "3dd9e0ea",
   "metadata": {},
   "outputs": [
    {
     "data": {
      "text/plain": [
       "array([0], dtype=int64)"
      ]
     },
     "execution_count": 24,
     "metadata": {},
     "output_type": "execute_result"
    }
   ],
   "source": [
    "# Rastgele bir kullanıcı örneği seç ve KNN modeli üzerinde tahmin yap\n",
    "# random_state = 42 yaparsanız aynı sonucu elde edersiniz.\n",
    "random_user = X.sample(1, random_state=42)\n",
    "knn_final.predict(random_user)\n"
   ]
  }
 ],
 "metadata": {
  "kernelspec": {
   "display_name": "Python 3 (ipykernel)",
   "language": "python",
   "name": "python3"
  },
  "language_info": {
   "codemirror_mode": {
    "name": "ipython",
    "version": 3
   },
   "file_extension": ".py",
   "mimetype": "text/x-python",
   "name": "python",
   "nbconvert_exporter": "python",
   "pygments_lexer": "ipython3",
   "version": "3.11.5"
  }
 },
 "nbformat": 4,
 "nbformat_minor": 5
}
