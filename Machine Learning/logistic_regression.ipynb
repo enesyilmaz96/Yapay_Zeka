{
 "cells": [
  {
   "cell_type": "markdown",
   "id": "65ff329e",
   "metadata": {},
   "source": [
    "\n",
    "# Lojistik Regresyon ile Diyabet Tahmini\n",
    "\n",
    "## Problem:\n",
    "\n",
    "Özellikleri belirtildiğinde kişilerin diyabet hastası olup olmadıklarını tahmin edebilecek bir makine öğrenmesi modeli geliştirebilir misiniz?\n",
    "\n",
    "Veri seti ABD'deki Ulusal Diyabet-Sindirim-Böbrek Hastalıkları Enstitüleri'nde tutulan büyük veri setinin parçasıdır. ABD'deki Arizona Eyaleti'nin en büyük 5. şehri olan Phoenix şehrinde yaşayan 21 yaş ve üzerinde olan Pima Indian kadınları üzerinde yapılan diyabet araştırması için kullanılan verilerdir. 768 gözlem ve 8 sayısal bağımsız değişkenden oluşmaktadır. Hedef değişken \"outcome\" olarak belirtilmiş olup; 1 diyabet test sonucunun pozitif oluşunu, 0 ise negatif oluşunu belirtmektedir.\n",
    "\n",
    "## Değişkenler\n",
    "\n",
    "- **Pregnancies**: Hamilelik sayısı\n",
    "- **Glucose**: Glikoz.\n",
    "- **BloodPressure**: Kan basıncı.\n",
    "- **SkinThickness**: Cilt Kalınlığı\n",
    "- **Insulin**: İnsülin.\n",
    "- **BMI**: Beden kitle indeksi.\n",
    "- **DiabetesPedigreeFunction**: Soyumuzdaki kişilere göre diyabet olma ihtimalimizi hesaplayan bir fonksiyon.\n",
    "- **Age**: Yaş (yıl)\n",
    "- **Outcome**: Kişinin diyabet olup olmadığı bilgisi. Hastalığa sahip (1) ya da değil (0)\n",
    "\n",
    "## Uygulanacak Adımlar;\n",
    "\n",
    "**1. Exploratory Data Analysis = Keşifsel Veri Analizi**\n",
    "\n",
    "**2. Data Preprocessing = Veri Ön İşleme**\n",
    "\n",
    "**3. Model & Prediction = Model ve Tahmin**\n",
    "\n",
    "**4. Model Evaluation = Model Değerlendirme**\n",
    "\n",
    "**5. Model Validation: Holdout = Model Doğrulama: Bekletme**\n",
    "\n",
    "**6. Model Validation: 5-Fold Cross Validation = Model Doğrulama: 5 Katlı Çapraz Doğrulama**\n",
    "\n",
    "**7. Prediction for A New Observation = Yeni Bir Gözlem için Tahmin**\n"
   ]
  },
  {
   "cell_type": "markdown",
   "id": "09db1101",
   "metadata": {},
   "source": [
    "### NOT = \"Precision ve Recall\" değeri önemli öğren\n",
    "\n"
   ]
  },
  {
   "cell_type": "markdown",
   "id": "9cfc9020",
   "metadata": {},
   "source": [
    "Bu kod bloğu, gerekli kütüphaneleri import eder ve her bir import satırında hangi amaçla kullanıldığını açıklar."
   ]
  },
  {
   "cell_type": "code",
   "execution_count": 1,
   "id": "0ad9dd24",
   "metadata": {
    "scrolled": true
   },
   "outputs": [],
   "source": [
    "# Veriyi görselleştirmek ve grafik çizimleri için matplotlib kütüphanesini kullan\n",
    "import matplotlib.pyplot as plt\n",
    "\n",
    "# Nümerik hesaplamalar ve veri manipülasyonu için numpy ve pandas kütüphanelerini kullan\n",
    "import numpy as np\n",
    "import pandas as pd\n",
    "\n",
    "# Veriyi çekici ve bilgilendirici şekilde görselleştirmek için seaborn kütüphanesini kullan\n",
    "import seaborn as sns\n",
    "\n",
    "# RobustScaler kullanarak ölçeklendirme yapmak için scikit-learn kütüphanesinden preprocessing modülünü kullan\n",
    "from sklearn.preprocessing import RobustScaler\n",
    "\n",
    "# Lojistik regresyon modeli oluşturmak için scikit-learn kütüphanesinden linear_model modülünü kullan\n",
    "from sklearn.linear_model import LogisticRegression\n",
    "\n",
    "# Sınıflandırma performans metrikleri, görselleştirmeleri ve veriyi bölmek, çapraz doğrulama yapmak için scikit-learn kütüphanesinden metrics ve model_selection modüllerini kullan\n",
    "from sklearn.metrics import accuracy_score, roc_auc_score, confusion_matrix, classification_report\n",
    "from sklearn.model_selection import train_test_split, cross_validate\n"
   ]
  },
  {
   "cell_type": "markdown",
   "id": "58598c47",
   "metadata": {},
   "source": [
    "Bu fonksiyonun amacı, veri çerçevesinde belirli bir sütunun aykırı değer sınırlarını hesaplamaktır. Çeyreklik değerleri (quartiles) ve interquartile range (IQR) kullanılarak üst ve alt sınırlar belirlenir. Varsayılan olarak, alt sınır çeyrek 1'in %5'ine, üst sınır çeyrek 3'ün %95'ine karşılık gelir. Ancak, bu değerler fonksiyona argüman olarak verilerek özelleştirilebilir."
   ]
  },
  {
   "cell_type": "code",
   "execution_count": 2,
   "id": "3f0735d2",
   "metadata": {},
   "outputs": [],
   "source": [
    "def outlier_thresholds(dataframe, col_name, q1=0.05, q3=0.95):\n",
    "    \"\"\"\n",
    "    Veri çerçevesindeki belirli bir sütunun aykırı değer sınırlarını hesaplayan fonksiyon.\n",
    "\n",
    "    Parameters:\n",
    "    - dataframe: Veri çerçevesi\n",
    "    - col_name: Aykırı değer sınırlarını hesaplamak istediğiniz sütunun adı\n",
    "    - q1: Alt sınırı belirlemek için kullanılacak çeyrek 1 değeri (varsayılan: 0.05)\n",
    "    - q3: Üst sınırı belirlemek için kullanılacak çeyrek 3 değeri (varsayılan: 0.95)\n",
    "\n",
    "    Returns:\n",
    "    - low_limit: Aykırı değerlerin alt sınırı\n",
    "    - up_limit: Aykırı değerlerin üst sınırı\n",
    "    \"\"\"\n",
    "    # Sütundaki verilerin çeyreklik değerlerini hesapla\n",
    "    quartile1 = dataframe[col_name].quantile(q1)\n",
    "    quartile3 = dataframe[col_name].quantile(q3)\n",
    "\n",
    "    # Çeyreklik aralığı (IQR) hesapla\n",
    "    interquantile_range = quartile3 - quartile1\n",
    "\n",
    "    # Üst ve alt sınırları hesapla\n",
    "    up_limit = quartile3 + 1.5 * interquantile_range\n",
    "    low_limit = quartile1 - 1.5 * interquantile_range\n",
    "\n",
    "    return low_limit, up_limit\n"
   ]
  },
  {
   "cell_type": "markdown",
   "id": "22aaa467",
   "metadata": {},
   "source": [
    "Bu fonksiyon, önceden tanımlanan **outlier_thresholds** fonksiyonunu kullanarak belirli bir sütundaki aykırı değer sınırlarını belirler. Daha sonra, bu sınırlar içinde yer almayan herhangi bir değer varsa (**any(axis=None)** ile kontrol edilir), sütunun aykırı değer içerdiği sonucunu döndürür. Bu durumda **True** değeri döner, aksi takdirde **False** değeri döner."
   ]
  },
  {
   "cell_type": "code",
   "execution_count": 3,
   "id": "b9557519",
   "metadata": {},
   "outputs": [],
   "source": [
    "def check_outlier(dataframe, col_name):\n",
    "    \"\"\"\n",
    "    Veri çerçevesindeki belirli bir sütunun aykırı değer içerip içermediğini kontrol eden fonksiyon.\n",
    "\n",
    "    Parameters:\n",
    "    - dataframe: Veri çerçevesi\n",
    "    - col_name: Aykırı değer kontrolü yapmak istediğiniz sütunun adı\n",
    "\n",
    "    Returns:\n",
    "    - True: Sütun aykırı değer içeriyorsa\n",
    "    - False: Sütun aykırı değer içermiyorsa\n",
    "    \"\"\"\n",
    "    # Aykırı değer sınırlarını al\n",
    "    low_limit, up_limit = outlier_thresholds(dataframe, col_name)\n",
    "\n",
    "    # Aykırı değer kontrolü yap\n",
    "    if dataframe[(dataframe[col_name] > up_limit) | (dataframe[col_name] < low_limit)].any(axis=None):\n",
    "        return True  # Aykırı değer içeriyorsa\n",
    "    else:\n",
    "        return False  # Aykırı değer içermiyorsa\n"
   ]
  },
  {
   "cell_type": "markdown",
   "id": "11470c4e",
   "metadata": {},
   "source": [
    "Bu fonksiyon, belirli bir sütundaki aykırı değerleri, bu sütunun alt sınırından daha küçük olanları alt sınıra, üst sınırından daha büyük olanları üst sınıra eşitleyerek değiştirir. **loc** metodu kullanılarak bu değişiklikler gerçekleştirilir."
   ]
  },
  {
   "cell_type": "code",
   "execution_count": 4,
   "id": "35447b44",
   "metadata": {},
   "outputs": [],
   "source": [
    "def replace_with_thresholds(dataframe, variable):\n",
    "    \"\"\"\n",
    "    Belirli bir sütundaki aykırı değerleri, önceden hesaplanan sınırlarla değiştiren fonksiyon.\n",
    "\n",
    "    Parameters:\n",
    "    - dataframe: Veri çerçevesi\n",
    "    - variable: Aykırı değerleri değiştirmek istediğiniz sütunun adı\n",
    "    \"\"\"\n",
    "    # Aykırı değer sınırlarını al\n",
    "    low_limit, up_limit = outlier_thresholds(dataframe, variable)\n",
    "\n",
    "    # Aykırı değerleri sınırlarla değiştir\n",
    "    dataframe.loc[(dataframe[variable] < low_limit), variable] = low_limit\n",
    "    dataframe.loc[(dataframe[variable] > up_limit), variable] = up_limit\n"
   ]
  },
  {
   "cell_type": "markdown",
   "id": "e1b073ea",
   "metadata": {},
   "source": [
    "Bu kod parçası, **pandas** kütüphanesindeki **set_option** fonksiyonunu kullanarak DataFrame'in görüntülenme şeklini özelleştirir. "
   ]
  },
  {
   "cell_type": "code",
   "execution_count": 5,
   "id": "1e950d23",
   "metadata": {},
   "outputs": [],
   "source": [
    "# DataFrame içinde görüntülenecek maksimum sütun sayısını belirleme\n",
    "pd.set_option('display.max_columns', None)\n",
    "\n",
    "# DataFrame içindeki float değerlerin görüntülenme biçimini belirleme\n",
    "# Float değerler üç ondalık basamağa kadar gösterilecektir\n",
    "pd.set_option('display.float_format', lambda x: '%.3f' % x)\n",
    "\n",
    "# DataFrame'in görüntülenme genişliğini belirleme\n",
    "# 500 piksel genişliğinde bir görüntü sağlanır\n",
    "pd.set_option('display.width', 500)\n"
   ]
  },
  {
   "cell_type": "markdown",
   "id": "21d1b8be",
   "metadata": {},
   "source": [
    "## Keşifsel Veri Analizi\n",
    "\n",
    "Bu kod parçası, **'pandas'** kütüphanesini **'pd'** takma adıyla içe aktarıp, ardından **'datasets/diabetes.csv**' dosyasından veri okuma işlemi gerçekleştirir. Okunan veriler, bir DataFrame olan **'df'** adlı değişkene atanır. Bu tip bir kod kullanılarak, CSV formatındaki veri setlerini pandas DataFrame'ine dönüştürebilir ve daha sonra bu DataFrame'i manipüle edebilirsiniz.\n",
    "\n",
    "**NOT !** = Başlangıçta tüm gerekli kütüphaneleri içe aktardık. Bu adımlarda tekrar kütüphaneleri içe aktarmaya gerek yok fakat ben hangi kütüphaneyi nerde kullandığımızı görmek adına import edeceğim."
   ]
  },
  {
   "cell_type": "code",
   "execution_count": 6,
   "id": "b2bc7954",
   "metadata": {},
   "outputs": [],
   "source": [
    "# pandas kütüphanesini 'pd' takma adıyla içe aktarın\n",
    "import pandas as pd\n",
    "\n",
    "# 'datasets/diabetes.csv' dosyasından veri okuma işlemi\n",
    "# Okunan veriler 'df' adlı DataFrame'e atanır\n",
    "df = pd.read_csv(\"datasets/diabetes.csv\")"
   ]
  },
  {
   "cell_type": "markdown",
   "id": "b208cb77",
   "metadata": {},
   "source": [
    "### Target'ın (Hedef) Analizi\n",
    "\n",
    "Bu kod, **\"Outcome\"** sütunundaki değerlerin sayısını ve yüzdelik oranlarını hesaplar ve bunları görüntüler. İlk olarak, **value_counts()** fonksiyonu ile **\"Outcome\"** sütunundaki her bir değerin kaç kez geçtiğini gösteren bir Seri oluşturulur. Ardından, **seaborn** kütüphanesini kullanarak bu değerlerin sayılarını çubuk grafikle görselleştirilir. Son olarak, yüzdelik oranlarını hesaplamak için **len(df)** (veri setindeki toplam gözlem sayısı) kullanılarak yüzdelik hesaplamaları yapılır ve bu değerler ekrana yazdırılır."
   ]
  },
  {
   "cell_type": "code",
   "execution_count": 7,
   "id": "89ddca01",
   "metadata": {},
   "outputs": [
    {
     "name": "stdout",
     "output_type": "stream",
     "text": [
      "Outcome\n",
      "0    500\n",
      "1    268\n",
      "Name: count, dtype: int64\n"
     ]
    },
    {
     "data": {
      "image/png": "[encoded data removed]",
      "text/plain": [
       "<Figure size 640x480 with 1 Axes>"
      ]
     },
     "metadata": {},
     "output_type": "display_data"
    },
    {
     "name": "stdout",
     "output_type": "stream",
     "text": [
      "Outcome\n",
      "0   65.104\n",
      "1   34.896\n",
      "Name: count, dtype: float64\n"
     ]
    }
   ],
   "source": [
    "# \"Outcome\" sütunundaki değerlerin sayısını görüntüleme\n",
    "outcome_counts = df[\"Outcome\"].value_counts()\n",
    "print(outcome_counts)\n",
    "\n",
    "# Seaborn kütüphanesini kullanarak \"Outcome\" sütunundaki değerlerin sayısını görselleştirme\n",
    "import seaborn as sns\n",
    "import matplotlib.pyplot as plt\n",
    "\n",
    "sns.countplot(x=\"Outcome\", data=df)\n",
    "plt.show()\n",
    "\n",
    "# \"Outcome\" sütunundaki değerlerin yüzdelik oranlarını görüntüleme\n",
    "percentage_distribution = 100 * df[\"Outcome\"].value_counts() / len(df)\n",
    "print(percentage_distribution)\n"
   ]
  },
  {
   "cell_type": "markdown",
   "id": "c8592b5e",
   "metadata": {},
   "source": [
    "### Feature'ların (Özelliklerin) Analizi\n",
    "\n",
    "Bu satır, veri setinin ilk beş satırını (**df.head()**) ekrana yazdırarak veri setini incelemenizi sağlar."
   ]
  },
  {
   "cell_type": "code",
   "execution_count": 8,
   "id": "cd870f2b",
   "metadata": {},
   "outputs": [
    {
     "data": {
      "text/html": [
       "<div>\n",
       "<style scoped>\n",
       "    .dataframe tbody tr th:only-of-type {\n",
       "        vertical-align: middle;\n",
       "    }\n",
       "\n",
       "    .dataframe tbody tr th {\n",
       "        vertical-align: top;\n",
       "    }\n",
       "\n",
       "    .dataframe thead th {\n",
       "        text-align: right;\n",
       "    }\n",
       "</style>\n",
       "<table border=\"1\" class=\"dataframe\">\n",
       "  <thead>\n",
       "    <tr style=\"text-align: right;\">\n",
       "      <th></th>\n",
       "      <th>Pregnancies</th>\n",
       "      <th>Glucose</th>\n",
       "      <th>BloodPressure</th>\n",
       "      <th>SkinThickness</th>\n",
       "      <th>Insulin</th>\n",
       "      <th>BMI</th>\n",
       "      <th>DiabetesPedigreeFunction</th>\n",
       "      <th>Age</th>\n",
       "      <th>Outcome</th>\n",
       "    </tr>\n",
       "  </thead>\n",
       "  <tbody>\n",
       "    <tr>\n",
       "      <th>0</th>\n",
       "      <td>6</td>\n",
       "      <td>148</td>\n",
       "      <td>72</td>\n",
       "      <td>35</td>\n",
       "      <td>0</td>\n",
       "      <td>33.600</td>\n",
       "      <td>0.627</td>\n",
       "      <td>50</td>\n",
       "      <td>1</td>\n",
       "    </tr>\n",
       "    <tr>\n",
       "      <th>1</th>\n",
       "      <td>1</td>\n",
       "      <td>85</td>\n",
       "      <td>66</td>\n",
       "      <td>29</td>\n",
       "      <td>0</td>\n",
       "      <td>26.600</td>\n",
       "      <td>0.351</td>\n",
       "      <td>31</td>\n",
       "      <td>0</td>\n",
       "    </tr>\n",
       "    <tr>\n",
       "      <th>2</th>\n",
       "      <td>8</td>\n",
       "      <td>183</td>\n",
       "      <td>64</td>\n",
       "      <td>0</td>\n",
       "      <td>0</td>\n",
       "      <td>23.300</td>\n",
       "      <td>0.672</td>\n",
       "      <td>32</td>\n",
       "      <td>1</td>\n",
       "    </tr>\n",
       "    <tr>\n",
       "      <th>3</th>\n",
       "      <td>1</td>\n",
       "      <td>89</td>\n",
       "      <td>66</td>\n",
       "      <td>23</td>\n",
       "      <td>94</td>\n",
       "      <td>28.100</td>\n",
       "      <td>0.167</td>\n",
       "      <td>21</td>\n",
       "      <td>0</td>\n",
       "    </tr>\n",
       "    <tr>\n",
       "      <th>4</th>\n",
       "      <td>0</td>\n",
       "      <td>137</td>\n",
       "      <td>40</td>\n",
       "      <td>35</td>\n",
       "      <td>168</td>\n",
       "      <td>43.100</td>\n",
       "      <td>2.288</td>\n",
       "      <td>33</td>\n",
       "      <td>1</td>\n",
       "    </tr>\n",
       "  </tbody>\n",
       "</table>\n",
       "</div>"
      ],
      "text/plain": [
       "   Pregnancies  Glucose  BloodPressure  SkinThickness  Insulin    BMI  DiabetesPedigreeFunction  Age  Outcome\n",
       "0            6      148             72             35        0 33.600                     0.627   50        1\n",
       "1            1       85             66             29        0 26.600                     0.351   31        0\n",
       "2            8      183             64              0        0 23.300                     0.672   32        1\n",
       "3            1       89             66             23       94 28.100                     0.167   21        0\n",
       "4            0      137             40             35      168 43.100                     2.288   33        1"
      ]
     },
     "execution_count": 8,
     "metadata": {},
     "output_type": "execute_result"
    }
   ],
   "source": [
    "# Veri setinin ilk birkaç satırını görüntüleme\n",
    "df.head()\n"
   ]
  },
  {
   "cell_type": "markdown",
   "id": "872e87e6",
   "metadata": {},
   "source": [
    "Bu satırlar, **\"BloodPressure\"** sütununun histogramını çizer. **hist()** fonksiyonu, bir sütunun dağılımını görselleştirmek için kullanılır. **bins** parametresi, histogramda kullanılacak çubuk sayısını belirtir. **plt.xlabel()** fonksiyonu ile x-ekseni etiketi belirlenir. Son olarak, **plt.show()** ile çizilen histogram ekrana getirilir. Bu grafik, \"BloodPressure\" sütunundaki değerlerin dağılımını gösterir."
   ]
  },
  {
   "cell_type": "code",
   "execution_count": 9,
   "id": "b75a075e",
   "metadata": {},
   "outputs": [
    {
     "data": {
      "image/png": "[encoded data removed]",
      "text/plain": [
       "<Figure size 640x480 with 1 Axes>"
      ]
     },
     "metadata": {},
     "output_type": "display_data"
    }
   ],
   "source": [
    "# \"BloodPressure\" sütununun histogramını çizme\n",
    "df[\"BloodPressure\"].hist(bins=20)\n",
    "plt.xlabel(\"BloodPressure\")\n",
    "plt.show()\n"
   ]
  },
  {
   "cell_type": "markdown",
   "id": "99b6263a",
   "metadata": {},
   "source": [
    "Bu fonksiyon, bir DataFrame ve sayısal bir sütun alır. Ardından, belirtilen sayısal sütunun histogramını çizer. Bu fonksiyon, belirli bir sayısal sütunun dağılımını hızlı bir şekilde görselleştirmek için kullanılabilir."
   ]
  },
  {
   "cell_type": "code",
   "execution_count": 10,
   "id": "69ec87cf",
   "metadata": {},
   "outputs": [],
   "source": [
    "def plot_numerical_col(dataframe, numerical_col):\n",
    "    \"\"\"\n",
    "    Belirtilen DataFrame içindeki bir sayısal sütunun histogramını çizen fonksiyon.\n",
    "\n",
    "    Parameters:\n",
    "    - dataframe: Histogramı çizilecek DataFrame\n",
    "    - numerical_col: Histogramı çizilecek sayısal sütunun adı\n",
    "    \"\"\"\n",
    "    # Belirtilen sayısal sütunun histogramını çizme\n",
    "    dataframe[numerical_col].hist(bins=20)\n",
    "    \n",
    "    # x-ekseni etiketi belirleme\n",
    "    plt.xlabel(numerical_col)\n",
    "    \n",
    "    # Histogramı ekrana gösterme \n",
    "    # block=true denme sebebi oluşturulacak histogramların birbirini ezmemesi\n",
    "    plt.show(block=True)\n"
   ]
  },
  {
   "cell_type": "markdown",
   "id": "0cddd21c",
   "metadata": {},
   "source": [
    "Bu kod parçacığı, DataFrame'deki her sayısal sütunun histogramını çizer ve ardından **\"Outcome\"** kelimesini içermeyen sütunların histogramlarını çizmek için yorum satırındaki kodu kullanma seçeneği sunar. Son olarak, **df.describe().T** ile DataFrame'in sayısal sütunlarına ait istatistiksel özeti görüntüler."
   ]
  },
  {
   "cell_type": "code",
   "execution_count": 11,
   "id": "c0c228ca",
   "metadata": {
    "scrolled": true
   },
   "outputs": [
    {
     "data": {
      "image/png": "[encoded data removed]",
      "text/plain": [
       "<Figure size 640x480 with 1 Axes>"
      ]
     },
     "metadata": {},
     "output_type": "display_data"
    },
    {
     "data": {
      "image/png": "[encoded data removed]",
      "text/plain": [
       "<Figure size 640x480 with 1 Axes>"
      ]
     },
     "metadata": {},
     "output_type": "display_data"
    },
    {
     "data": {
      "image/png": "[encoded data removed]",
      "text/plain": [
       "<Figure size 640x480 with 1 Axes>"
      ]
     },
     "metadata": {},
     "output_type": "display_data"
    },
    {
     "data": {
      "image/png": "[encoded data removed]",
      "text/plain": [
       "<Figure size 640x480 with 1 Axes>"
      ]
     },
     "metadata": {},
     "output_type": "display_data"
    },
    {
     "data": {
      "image/png": "[encoded data removed]",
      "text/plain": [
       "<Figure size 640x480 with 1 Axes>"
      ]
     },
     "metadata": {},
     "output_type": "display_data"
    },
    {
     "data": {
      "image/png": "[encoded data removed]",
      "text/plain": [
       "<Figure size 640x480 with 1 Axes>"
      ]
     },
     "metadata": {},
     "output_type": "display_data"
    },
    {
     "data": {
      "image/png": "[encoded data removed]",
      "text/plain": [
       "<Figure size 640x480 with 1 Axes>"
      ]
     },
     "metadata": {},
     "output_type": "display_data"
    },
    {
     "data": {
      "image/png": "[encoded data removed]",
      "text/plain": [
       "<Figure size 640x480 with 1 Axes>"
      ]
     },
     "metadata": {},
     "output_type": "display_data"
    },
    {
     "data": {
      "image/png": "[encoded data removed]",
      "text/plain": [
       "<Figure size 640x480 with 1 Axes>"
      ]
     },
     "metadata": {},
     "output_type": "display_data"
    },
    {
     "data": {
      "text/html": [
       "<div>\n",
       "<style scoped>\n",
       "    .dataframe tbody tr th:only-of-type {\n",
       "        vertical-align: middle;\n",
       "    }\n",
       "\n",
       "    .dataframe tbody tr th {\n",
       "        vertical-align: top;\n",
       "    }\n",
       "\n",
       "    .dataframe thead th {\n",
       "        text-align: right;\n",
       "    }\n",
       "</style>\n",
       "<table border=\"1\" class=\"dataframe\">\n",
       "  <thead>\n",
       "    <tr style=\"text-align: right;\">\n",
       "      <th></th>\n",
       "      <th>count</th>\n",
       "      <th>mean</th>\n",
       "      <th>std</th>\n",
       "      <th>min</th>\n",
       "      <th>25%</th>\n",
       "      <th>50%</th>\n",
       "      <th>75%</th>\n",
       "      <th>max</th>\n",
       "    </tr>\n",
       "  </thead>\n",
       "  <tbody>\n",
       "    <tr>\n",
       "      <th>Pregnancies</th>\n",
       "      <td>768.000</td>\n",
       "      <td>3.845</td>\n",
       "      <td>3.370</td>\n",
       "      <td>0.000</td>\n",
       "      <td>1.000</td>\n",
       "      <td>3.000</td>\n",
       "      <td>6.000</td>\n",
       "      <td>17.000</td>\n",
       "    </tr>\n",
       "    <tr>\n",
       "      <th>Glucose</th>\n",
       "      <td>768.000</td>\n",
       "      <td>120.895</td>\n",
       "      <td>31.973</td>\n",
       "      <td>0.000</td>\n",
       "      <td>99.000</td>\n",
       "      <td>117.000</td>\n",
       "      <td>140.250</td>\n",
       "      <td>199.000</td>\n",
       "    </tr>\n",
       "    <tr>\n",
       "      <th>BloodPressure</th>\n",
       "      <td>768.000</td>\n",
       "      <td>69.105</td>\n",
       "      <td>19.356</td>\n",
       "      <td>0.000</td>\n",
       "      <td>62.000</td>\n",
       "      <td>72.000</td>\n",
       "      <td>80.000</td>\n",
       "      <td>122.000</td>\n",
       "    </tr>\n",
       "    <tr>\n",
       "      <th>SkinThickness</th>\n",
       "      <td>768.000</td>\n",
       "      <td>20.536</td>\n",
       "      <td>15.952</td>\n",
       "      <td>0.000</td>\n",
       "      <td>0.000</td>\n",
       "      <td>23.000</td>\n",
       "      <td>32.000</td>\n",
       "      <td>99.000</td>\n",
       "    </tr>\n",
       "    <tr>\n",
       "      <th>Insulin</th>\n",
       "      <td>768.000</td>\n",
       "      <td>79.799</td>\n",
       "      <td>115.244</td>\n",
       "      <td>0.000</td>\n",
       "      <td>0.000</td>\n",
       "      <td>30.500</td>\n",
       "      <td>127.250</td>\n",
       "      <td>846.000</td>\n",
       "    </tr>\n",
       "    <tr>\n",
       "      <th>BMI</th>\n",
       "      <td>768.000</td>\n",
       "      <td>31.993</td>\n",
       "      <td>7.884</td>\n",
       "      <td>0.000</td>\n",
       "      <td>27.300</td>\n",
       "      <td>32.000</td>\n",
       "      <td>36.600</td>\n",
       "      <td>67.100</td>\n",
       "    </tr>\n",
       "    <tr>\n",
       "      <th>DiabetesPedigreeFunction</th>\n",
       "      <td>768.000</td>\n",
       "      <td>0.472</td>\n",
       "      <td>0.331</td>\n",
       "      <td>0.078</td>\n",
       "      <td>0.244</td>\n",
       "      <td>0.372</td>\n",
       "      <td>0.626</td>\n",
       "      <td>2.420</td>\n",
       "    </tr>\n",
       "    <tr>\n",
       "      <th>Age</th>\n",
       "      <td>768.000</td>\n",
       "      <td>33.241</td>\n",
       "      <td>11.760</td>\n",
       "      <td>21.000</td>\n",
       "      <td>24.000</td>\n",
       "      <td>29.000</td>\n",
       "      <td>41.000</td>\n",
       "      <td>81.000</td>\n",
       "    </tr>\n",
       "    <tr>\n",
       "      <th>Outcome</th>\n",
       "      <td>768.000</td>\n",
       "      <td>0.349</td>\n",
       "      <td>0.477</td>\n",
       "      <td>0.000</td>\n",
       "      <td>0.000</td>\n",
       "      <td>0.000</td>\n",
       "      <td>1.000</td>\n",
       "      <td>1.000</td>\n",
       "    </tr>\n",
       "  </tbody>\n",
       "</table>\n",
       "</div>"
      ],
      "text/plain": [
       "                           count    mean     std    min    25%     50%     75%     max\n",
       "Pregnancies              768.000   3.845   3.370  0.000  1.000   3.000   6.000  17.000\n",
       "Glucose                  768.000 120.895  31.973  0.000 99.000 117.000 140.250 199.000\n",
       "BloodPressure            768.000  69.105  19.356  0.000 62.000  72.000  80.000 122.000\n",
       "SkinThickness            768.000  20.536  15.952  0.000  0.000  23.000  32.000  99.000\n",
       "Insulin                  768.000  79.799 115.244  0.000  0.000  30.500 127.250 846.000\n",
       "BMI                      768.000  31.993   7.884  0.000 27.300  32.000  36.600  67.100\n",
       "DiabetesPedigreeFunction 768.000   0.472   0.331  0.078  0.244   0.372   0.626   2.420\n",
       "Age                      768.000  33.241  11.760 21.000 24.000  29.000  41.000  81.000\n",
       "Outcome                  768.000   0.349   0.477  0.000  0.000   0.000   1.000   1.000"
      ]
     },
     "execution_count": 11,
     "metadata": {},
     "output_type": "execute_result"
    }
   ],
   "source": [
    "# DataFrame'deki her bir sayısal sütunun histogramını çizme\n",
    "for col in df.columns:\n",
    "    plot_numerical_col(df, col)\n",
    "\n",
    "# \"Outcome\" kelimesi içermeyen sütunları seçme\n",
    "cols = [col for col in df.columns if \"Outcome\" not in col]\n",
    "\n",
    "# Seçilen sütunların histogramlarını çizme (Yorum satırındaki kodu kullanmak istiyorsanız)\n",
    "# for col in cols:\n",
    "#     plot_numerical_col(df, col)\n",
    "\n",
    "# DataFrame'in sayısal sütunlarına ait istatistiksel özet\n",
    "df.describe().T\n"
   ]
  },
  {
   "cell_type": "markdown",
   "id": "ab3243d8",
   "metadata": {},
   "source": [
    "### Target (Hedef) vs Features (Özellikler)\n",
    "\n",
    "Bu kod, **\"Outcome\"** sütununa göre gruplandırılmış veri setindeki **\"Pregnancies\"** sütununun ortalamasını görüntüler. Ardından, **target_summary_with_num** fonksiyonu, her sayısal sütunun **\"Outcome\"** sütunu tarafından gruplandırılmış ortalamasını yazdırmak için kullanılır. Yorum satırındaki kod, tüm sayısal sütunlar için bu işlemi gerçekleştirmek içindir."
   ]
  },
  {
   "cell_type": "code",
   "execution_count": 12,
   "id": "5fd34c36",
   "metadata": {
    "scrolled": true
   },
   "outputs": [
    {
     "name": "stdout",
     "output_type": "stream",
     "text": [
      "         Pregnancies\n",
      "Outcome             \n",
      "0              3.298\n",
      "1              4.866\n",
      "\n",
      "\n",
      "         Glucose\n",
      "Outcome         \n",
      "0        109.980\n",
      "1        141.257\n",
      "\n",
      "\n",
      "         BloodPressure\n",
      "Outcome               \n",
      "0               68.184\n",
      "1               70.825\n",
      "\n",
      "\n",
      "         SkinThickness\n",
      "Outcome               \n",
      "0               19.664\n",
      "1               22.164\n",
      "\n",
      "\n",
      "         Insulin\n",
      "Outcome         \n",
      "0         68.792\n",
      "1        100.336\n",
      "\n",
      "\n",
      "           BMI\n",
      "Outcome       \n",
      "0       30.304\n",
      "1       35.143\n",
      "\n",
      "\n",
      "         DiabetesPedigreeFunction\n",
      "Outcome                          \n",
      "0                           0.430\n",
      "1                           0.550\n",
      "\n",
      "\n",
      "           Age\n",
      "Outcome       \n",
      "0       31.190\n",
      "1       37.067\n",
      "\n",
      "\n"
     ]
    }
   ],
   "source": [
    "# \"Outcome\" sütununa göre gruplandırılmış veri setindeki \"Pregnancies\" sütununun ortalamasını görüntüleme\n",
    "df.groupby(\"Outcome\").agg({\"Pregnancies\": \"mean\"})\n",
    "\n",
    "# target_summary_with_num fonksiyonunu tanımlama\n",
    "def target_summary_with_num(dataframe, target, numerical_col):\n",
    "    \"\"\"\n",
    "    Belirtilen DataFrame içindeki bir sayısal sütunu, hedef değişken tarafından gruplandırılmış ortalamasını yazdıran fonksiyon.\n",
    "\n",
    "    Parameters:\n",
    "    - dataframe: Ortalaması alınacak DataFrame\n",
    "    - target: Hedef değişkenin adı (gruplandırma kriteri)\n",
    "    - numerical_col: Ortalaması alınacak sayısal sütunun adı\n",
    "    \"\"\"\n",
    "    # DataFrame'i \"target\" sütununa göre gruplandırıp, sayısal sütunun ortalamasını yazdırma\n",
    "    print(dataframe.groupby(target).agg({numerical_col: \"mean\"}), end=\"\\n\\n\\n\")\n",
    "\n",
    "# \"Outcome\" kelimesini içermeyen sütunları seçme\n",
    "cols = [col for col in df.columns if \"Outcome\" not in col]\n",
    "\n",
    "# Her sayısal sütun için target_summary_with_num fonksiyonunu kullanma\n",
    "for col in cols:\n",
    "    target_summary_with_num(df, \"Outcome\", col)\n"
   ]
  },
  {
   "cell_type": "markdown",
   "id": "2784bf9d",
   "metadata": {},
   "source": [
    "Bu verileri inceleyerek bağımsız değişkenler ile bağımlı değişken arasındaki bağlantıyı yorumlayabiliriz. Örneğin **Glucose** baktığımızda Diabet hastası olanların Glucose değeri ortalaması **141,257** iken, Diabet hastası olmayanların Glucose değeri ortalaması **109,98** olarak hesaplanmış. Yani yüksek oranda Glucose, Diabet hastalığı belirtisidir yorumunu çıkarabiliriz."
   ]
  },
  {
   "cell_type": "markdown",
   "id": "b1b7a3d0",
   "metadata": {},
   "source": [
    "## Data Preprocessing (Veri Ön İşleme)\n",
    "\n",
    "Bu kod parçası, veri seti üzerinde çeşitli veri ön işleme adımlarını içerir. Şekil ve başlangıçtaki veri ön izleme işlemleri, eksik değer kontrolü, istatistiksel özet, aykırı değer kontrolü, aykırı değer değiştirme ve sütunları RobustScaler kullanarak ölçeklendirme işlemleri gerçekleştirilir. Bu tür işlemler, veri setinin temizlenmesi ve modelleme sürecine hazır hale getirilmesi için yaygın olarak kullanılan adımlardır."
   ]
  },
  {
   "cell_type": "code",
   "execution_count": 13,
   "id": "7e781d00",
   "metadata": {},
   "outputs": [
    {
     "data": {
      "text/plain": [
       "(768, 9)"
      ]
     },
     "execution_count": 13,
     "metadata": {},
     "output_type": "execute_result"
    }
   ],
   "source": [
    "# Veri setinin şeklini görüntüleme\n",
    "df.shape"
   ]
  },
  {
   "cell_type": "code",
   "execution_count": 14,
   "id": "24ef56a6",
   "metadata": {},
   "outputs": [
    {
     "data": {
      "text/html": [
       "<div>\n",
       "<style scoped>\n",
       "    .dataframe tbody tr th:only-of-type {\n",
       "        vertical-align: middle;\n",
       "    }\n",
       "\n",
       "    .dataframe tbody tr th {\n",
       "        vertical-align: top;\n",
       "    }\n",
       "\n",
       "    .dataframe thead th {\n",
       "        text-align: right;\n",
       "    }\n",
       "</style>\n",
       "<table border=\"1\" class=\"dataframe\">\n",
       "  <thead>\n",
       "    <tr style=\"text-align: right;\">\n",
       "      <th></th>\n",
       "      <th>Pregnancies</th>\n",
       "      <th>Glucose</th>\n",
       "      <th>BloodPressure</th>\n",
       "      <th>SkinThickness</th>\n",
       "      <th>Insulin</th>\n",
       "      <th>BMI</th>\n",
       "      <th>DiabetesPedigreeFunction</th>\n",
       "      <th>Age</th>\n",
       "      <th>Outcome</th>\n",
       "    </tr>\n",
       "  </thead>\n",
       "  <tbody>\n",
       "    <tr>\n",
       "      <th>0</th>\n",
       "      <td>6</td>\n",
       "      <td>148</td>\n",
       "      <td>72</td>\n",
       "      <td>35</td>\n",
       "      <td>0</td>\n",
       "      <td>33.600</td>\n",
       "      <td>0.627</td>\n",
       "      <td>50</td>\n",
       "      <td>1</td>\n",
       "    </tr>\n",
       "    <tr>\n",
       "      <th>1</th>\n",
       "      <td>1</td>\n",
       "      <td>85</td>\n",
       "      <td>66</td>\n",
       "      <td>29</td>\n",
       "      <td>0</td>\n",
       "      <td>26.600</td>\n",
       "      <td>0.351</td>\n",
       "      <td>31</td>\n",
       "      <td>0</td>\n",
       "    </tr>\n",
       "    <tr>\n",
       "      <th>2</th>\n",
       "      <td>8</td>\n",
       "      <td>183</td>\n",
       "      <td>64</td>\n",
       "      <td>0</td>\n",
       "      <td>0</td>\n",
       "      <td>23.300</td>\n",
       "      <td>0.672</td>\n",
       "      <td>32</td>\n",
       "      <td>1</td>\n",
       "    </tr>\n",
       "    <tr>\n",
       "      <th>3</th>\n",
       "      <td>1</td>\n",
       "      <td>89</td>\n",
       "      <td>66</td>\n",
       "      <td>23</td>\n",
       "      <td>94</td>\n",
       "      <td>28.100</td>\n",
       "      <td>0.167</td>\n",
       "      <td>21</td>\n",
       "      <td>0</td>\n",
       "    </tr>\n",
       "    <tr>\n",
       "      <th>4</th>\n",
       "      <td>0</td>\n",
       "      <td>137</td>\n",
       "      <td>40</td>\n",
       "      <td>35</td>\n",
       "      <td>168</td>\n",
       "      <td>43.100</td>\n",
       "      <td>2.288</td>\n",
       "      <td>33</td>\n",
       "      <td>1</td>\n",
       "    </tr>\n",
       "  </tbody>\n",
       "</table>\n",
       "</div>"
      ],
      "text/plain": [
       "   Pregnancies  Glucose  BloodPressure  SkinThickness  Insulin    BMI  DiabetesPedigreeFunction  Age  Outcome\n",
       "0            6      148             72             35        0 33.600                     0.627   50        1\n",
       "1            1       85             66             29        0 26.600                     0.351   31        0\n",
       "2            8      183             64              0        0 23.300                     0.672   32        1\n",
       "3            1       89             66             23       94 28.100                     0.167   21        0\n",
       "4            0      137             40             35      168 43.100                     2.288   33        1"
      ]
     },
     "execution_count": 14,
     "metadata": {},
     "output_type": "execute_result"
    }
   ],
   "source": [
    "# Veri setinin ilk birkaç satırını yazdırma\n",
    "df.head()\n"
   ]
  },
  {
   "cell_type": "code",
   "execution_count": 15,
   "id": "1726555c",
   "metadata": {},
   "outputs": [
    {
     "data": {
      "text/plain": [
       "Pregnancies                 0\n",
       "Glucose                     0\n",
       "BloodPressure               0\n",
       "SkinThickness               0\n",
       "Insulin                     0\n",
       "BMI                         0\n",
       "DiabetesPedigreeFunction    0\n",
       "Age                         0\n",
       "Outcome                     0\n",
       "dtype: int64"
      ]
     },
     "execution_count": 15,
     "metadata": {},
     "output_type": "execute_result"
    }
   ],
   "source": [
    "# Eksik değerleri kontrol etme ve her sütundaki eksik değer sayısını görüntüleme\n",
    "df.isnull().sum()"
   ]
  },
  {
   "cell_type": "code",
   "execution_count": 16,
   "id": "3f8cf866",
   "metadata": {},
   "outputs": [
    {
     "data": {
      "text/html": [
       "<div>\n",
       "<style scoped>\n",
       "    .dataframe tbody tr th:only-of-type {\n",
       "        vertical-align: middle;\n",
       "    }\n",
       "\n",
       "    .dataframe tbody tr th {\n",
       "        vertical-align: top;\n",
       "    }\n",
       "\n",
       "    .dataframe thead th {\n",
       "        text-align: right;\n",
       "    }\n",
       "</style>\n",
       "<table border=\"1\" class=\"dataframe\">\n",
       "  <thead>\n",
       "    <tr style=\"text-align: right;\">\n",
       "      <th></th>\n",
       "      <th>count</th>\n",
       "      <th>mean</th>\n",
       "      <th>std</th>\n",
       "      <th>min</th>\n",
       "      <th>25%</th>\n",
       "      <th>50%</th>\n",
       "      <th>75%</th>\n",
       "      <th>max</th>\n",
       "    </tr>\n",
       "  </thead>\n",
       "  <tbody>\n",
       "    <tr>\n",
       "      <th>Pregnancies</th>\n",
       "      <td>768.000</td>\n",
       "      <td>3.845</td>\n",
       "      <td>3.370</td>\n",
       "      <td>0.000</td>\n",
       "      <td>1.000</td>\n",
       "      <td>3.000</td>\n",
       "      <td>6.000</td>\n",
       "      <td>17.000</td>\n",
       "    </tr>\n",
       "    <tr>\n",
       "      <th>Glucose</th>\n",
       "      <td>768.000</td>\n",
       "      <td>120.895</td>\n",
       "      <td>31.973</td>\n",
       "      <td>0.000</td>\n",
       "      <td>99.000</td>\n",
       "      <td>117.000</td>\n",
       "      <td>140.250</td>\n",
       "      <td>199.000</td>\n",
       "    </tr>\n",
       "    <tr>\n",
       "      <th>BloodPressure</th>\n",
       "      <td>768.000</td>\n",
       "      <td>69.105</td>\n",
       "      <td>19.356</td>\n",
       "      <td>0.000</td>\n",
       "      <td>62.000</td>\n",
       "      <td>72.000</td>\n",
       "      <td>80.000</td>\n",
       "      <td>122.000</td>\n",
       "    </tr>\n",
       "    <tr>\n",
       "      <th>SkinThickness</th>\n",
       "      <td>768.000</td>\n",
       "      <td>20.536</td>\n",
       "      <td>15.952</td>\n",
       "      <td>0.000</td>\n",
       "      <td>0.000</td>\n",
       "      <td>23.000</td>\n",
       "      <td>32.000</td>\n",
       "      <td>99.000</td>\n",
       "    </tr>\n",
       "    <tr>\n",
       "      <th>Insulin</th>\n",
       "      <td>768.000</td>\n",
       "      <td>79.799</td>\n",
       "      <td>115.244</td>\n",
       "      <td>0.000</td>\n",
       "      <td>0.000</td>\n",
       "      <td>30.500</td>\n",
       "      <td>127.250</td>\n",
       "      <td>846.000</td>\n",
       "    </tr>\n",
       "    <tr>\n",
       "      <th>BMI</th>\n",
       "      <td>768.000</td>\n",
       "      <td>31.993</td>\n",
       "      <td>7.884</td>\n",
       "      <td>0.000</td>\n",
       "      <td>27.300</td>\n",
       "      <td>32.000</td>\n",
       "      <td>36.600</td>\n",
       "      <td>67.100</td>\n",
       "    </tr>\n",
       "    <tr>\n",
       "      <th>DiabetesPedigreeFunction</th>\n",
       "      <td>768.000</td>\n",
       "      <td>0.472</td>\n",
       "      <td>0.331</td>\n",
       "      <td>0.078</td>\n",
       "      <td>0.244</td>\n",
       "      <td>0.372</td>\n",
       "      <td>0.626</td>\n",
       "      <td>2.420</td>\n",
       "    </tr>\n",
       "    <tr>\n",
       "      <th>Age</th>\n",
       "      <td>768.000</td>\n",
       "      <td>33.241</td>\n",
       "      <td>11.760</td>\n",
       "      <td>21.000</td>\n",
       "      <td>24.000</td>\n",
       "      <td>29.000</td>\n",
       "      <td>41.000</td>\n",
       "      <td>81.000</td>\n",
       "    </tr>\n",
       "    <tr>\n",
       "      <th>Outcome</th>\n",
       "      <td>768.000</td>\n",
       "      <td>0.349</td>\n",
       "      <td>0.477</td>\n",
       "      <td>0.000</td>\n",
       "      <td>0.000</td>\n",
       "      <td>0.000</td>\n",
       "      <td>1.000</td>\n",
       "      <td>1.000</td>\n",
       "    </tr>\n",
       "  </tbody>\n",
       "</table>\n",
       "</div>"
      ],
      "text/plain": [
       "                           count    mean     std    min    25%     50%     75%     max\n",
       "Pregnancies              768.000   3.845   3.370  0.000  1.000   3.000   6.000  17.000\n",
       "Glucose                  768.000 120.895  31.973  0.000 99.000 117.000 140.250 199.000\n",
       "BloodPressure            768.000  69.105  19.356  0.000 62.000  72.000  80.000 122.000\n",
       "SkinThickness            768.000  20.536  15.952  0.000  0.000  23.000  32.000  99.000\n",
       "Insulin                  768.000  79.799 115.244  0.000  0.000  30.500 127.250 846.000\n",
       "BMI                      768.000  31.993   7.884  0.000 27.300  32.000  36.600  67.100\n",
       "DiabetesPedigreeFunction 768.000   0.472   0.331  0.078  0.244   0.372   0.626   2.420\n",
       "Age                      768.000  33.241  11.760 21.000 24.000  29.000  41.000  81.000\n",
       "Outcome                  768.000   0.349   0.477  0.000  0.000   0.000   1.000   1.000"
      ]
     },
     "execution_count": 16,
     "metadata": {},
     "output_type": "execute_result"
    }
   ],
   "source": [
    "# Sayısal sütunların istatistiksel özetini görüntüleme\n",
    "df.describe().T\n"
   ]
  },
  {
   "cell_type": "markdown",
   "id": "2bee2661",
   "metadata": {},
   "source": [
    "**Min** değerleri incelediğimizde sıfır olan veriler var. Muhtemelen ilgili sütunlarda eksik veriler olduğundan sıfır atanmış. Bu problemde bunları görmezden geleceğiz. "
   ]
  },
  {
   "cell_type": "code",
   "execution_count": 17,
   "id": "3ff68676",
   "metadata": {},
   "outputs": [
    {
     "name": "stdout",
     "output_type": "stream",
     "text": [
      "Pregnancies False\n",
      "Glucose False\n",
      "BloodPressure False\n",
      "SkinThickness False\n",
      "Insulin True\n",
      "BMI False\n",
      "DiabetesPedigreeFunction False\n",
      "Age False\n"
     ]
    }
   ],
   "source": [
    "# Aykırı değerleri kontrol etme ve her sayısal sütundaki aykırı değer durumunu yazdırma\n",
    "for col in cols:\n",
    "    print(col, check_outlier(df, col))"
   ]
  },
  {
   "cell_type": "markdown",
   "id": "b288681c",
   "metadata": {},
   "source": [
    "Yukarıda birtek **Insulin True** olarak belirlenmiş. Yani Insulin sütunumuzda aykırı değerler var demektir. Bu aykırı değerleri aşağıdaki yöntem ile Insulin için belirlenen eşit değerler ile değiştereceğiz."
   ]
  },
  {
   "cell_type": "code",
   "execution_count": 18,
   "id": "5a816891",
   "metadata": {},
   "outputs": [
    {
     "name": "stderr",
     "output_type": "stream",
     "text": [
      "C:\\Users\\Administrator\\AppData\\Local\\Temp\\ipykernel_1624\\531118734.py:13: FutureWarning: Setting an item of incompatible dtype is deprecated and will raise in a future error of pandas. Value '-439.5' has dtype incompatible with int64, please explicitly cast to a compatible dtype first.\n",
      "  dataframe.loc[(dataframe[variable] < low_limit), variable] = low_limit\n"
     ]
    }
   ],
   "source": [
    "# \"Insulin\" sütunundaki aykırı değerleri belirlenen eşik değerlerle değiştirme\n",
    "replace_with_thresholds(df, \"Insulin\")"
   ]
  },
  {
   "cell_type": "markdown",
   "id": "470c1157",
   "metadata": {},
   "source": [
    "Tekrar kontrol ettiğimizde **Insuline** sütunundaki aykırı değerlerin kaybolduğunu göreceğiz;"
   ]
  },
  {
   "cell_type": "code",
   "execution_count": 49,
   "id": "80e41d59",
   "metadata": {},
   "outputs": [
    {
     "name": "stdout",
     "output_type": "stream",
     "text": [
      "Pregnancies False\n",
      "Glucose False\n",
      "BloodPressure False\n",
      "SkinThickness False\n",
      "Insulin False\n",
      "BMI False\n",
      "DiabetesPedigreeFunction False\n",
      "Age False\n"
     ]
    }
   ],
   "source": [
    "for col in cols:\n",
    "    print(col, check_outlier(df, col))"
   ]
  },
  {
   "cell_type": "code",
   "execution_count": 19,
   "id": "2e8388ed",
   "metadata": {},
   "outputs": [],
   "source": [
    "# Her sayısal sütunu RobustScaler kullanarak ölçeklendirme\n",
    "for col in cols:\n",
    "    df[col] = RobustScaler().fit_transform(df[[col]])"
   ]
  },
  {
   "cell_type": "code",
   "execution_count": 20,
   "id": "e9759974",
   "metadata": {},
   "outputs": [
    {
     "data": {
      "text/html": [
       "<div>\n",
       "<style scoped>\n",
       "    .dataframe tbody tr th:only-of-type {\n",
       "        vertical-align: middle;\n",
       "    }\n",
       "\n",
       "    .dataframe tbody tr th {\n",
       "        vertical-align: top;\n",
       "    }\n",
       "\n",
       "    .dataframe thead th {\n",
       "        text-align: right;\n",
       "    }\n",
       "</style>\n",
       "<table border=\"1\" class=\"dataframe\">\n",
       "  <thead>\n",
       "    <tr style=\"text-align: right;\">\n",
       "      <th></th>\n",
       "      <th>Pregnancies</th>\n",
       "      <th>Glucose</th>\n",
       "      <th>BloodPressure</th>\n",
       "      <th>SkinThickness</th>\n",
       "      <th>Insulin</th>\n",
       "      <th>BMI</th>\n",
       "      <th>DiabetesPedigreeFunction</th>\n",
       "      <th>Age</th>\n",
       "      <th>Outcome</th>\n",
       "    </tr>\n",
       "  </thead>\n",
       "  <tbody>\n",
       "    <tr>\n",
       "      <th>0</th>\n",
       "      <td>0.600</td>\n",
       "      <td>0.752</td>\n",
       "      <td>0.000</td>\n",
       "      <td>0.375</td>\n",
       "      <td>-0.240</td>\n",
       "      <td>0.172</td>\n",
       "      <td>0.665</td>\n",
       "      <td>1.235</td>\n",
       "      <td>1</td>\n",
       "    </tr>\n",
       "    <tr>\n",
       "      <th>1</th>\n",
       "      <td>-0.400</td>\n",
       "      <td>-0.776</td>\n",
       "      <td>-0.333</td>\n",
       "      <td>0.188</td>\n",
       "      <td>-0.240</td>\n",
       "      <td>-0.581</td>\n",
       "      <td>-0.056</td>\n",
       "      <td>0.118</td>\n",
       "      <td>0</td>\n",
       "    </tr>\n",
       "    <tr>\n",
       "      <th>2</th>\n",
       "      <td>1.000</td>\n",
       "      <td>1.600</td>\n",
       "      <td>-0.444</td>\n",
       "      <td>-0.719</td>\n",
       "      <td>-0.240</td>\n",
       "      <td>-0.935</td>\n",
       "      <td>0.783</td>\n",
       "      <td>0.176</td>\n",
       "      <td>1</td>\n",
       "    </tr>\n",
       "    <tr>\n",
       "      <th>3</th>\n",
       "      <td>-0.400</td>\n",
       "      <td>-0.679</td>\n",
       "      <td>-0.333</td>\n",
       "      <td>0.000</td>\n",
       "      <td>0.499</td>\n",
       "      <td>-0.419</td>\n",
       "      <td>-0.537</td>\n",
       "      <td>-0.471</td>\n",
       "      <td>0</td>\n",
       "    </tr>\n",
       "    <tr>\n",
       "      <th>4</th>\n",
       "      <td>-0.600</td>\n",
       "      <td>0.485</td>\n",
       "      <td>-1.778</td>\n",
       "      <td>0.375</td>\n",
       "      <td>1.081</td>\n",
       "      <td>1.194</td>\n",
       "      <td>5.008</td>\n",
       "      <td>0.235</td>\n",
       "      <td>1</td>\n",
       "    </tr>\n",
       "  </tbody>\n",
       "</table>\n",
       "</div>"
      ],
      "text/plain": [
       "   Pregnancies  Glucose  BloodPressure  SkinThickness  Insulin    BMI  DiabetesPedigreeFunction    Age  Outcome\n",
       "0        0.600    0.752          0.000          0.375   -0.240  0.172                     0.665  1.235        1\n",
       "1       -0.400   -0.776         -0.333          0.188   -0.240 -0.581                    -0.056  0.118        0\n",
       "2        1.000    1.600         -0.444         -0.719   -0.240 -0.935                     0.783  0.176        1\n",
       "3       -0.400   -0.679         -0.333          0.000    0.499 -0.419                    -0.537 -0.471        0\n",
       "4       -0.600    0.485         -1.778          0.375    1.081  1.194                     5.008  0.235        1"
      ]
     },
     "execution_count": 20,
     "metadata": {},
     "output_type": "execute_result"
    }
   ],
   "source": [
    "# Ölçeklendirilmiş veri setinin ilk birkaç satırını yazdırma\n",
    "df.head()\n"
   ]
  },
  {
   "cell_type": "markdown",
   "id": "6e614b0e",
   "metadata": {},
   "source": [
    "## Model & Prediction (Model ve Tahmin)\n",
    "\n",
    "Bu kod parçası, **\"Outcome\"** sütununu hedef değişken olarak belirler, bağımsız değişkenleri seçer ve bir Lojistik Regresyon modeli oluşturup eğitir. Modelin sabit ve katsayılarını görüntüler. Ardından, tüm bağımsız değişkenlere göre tahminler yapar ve gerçek \"Outcome\" değerleri ile karşılaştırır. Bu, modelin performansını değerlendirmek için kullanılabilir."
   ]
  },
  {
   "cell_type": "code",
   "execution_count": 22,
   "id": "a0e69d2a",
   "metadata": {},
   "outputs": [],
   "source": [
    "# \"Outcome\" sütununu hedef değişken olarak seçme\n",
    "y = df[\"Outcome\"]\n",
    "\n",
    "# \"Outcome\" sütununu hariç tutarak geri kalan sütunları bağımsız değişkenler olarak seçme\n",
    "X = df.drop([\"Outcome\"], axis=1)\n",
    "\n",
    "# Logistic Regression modelini oluşturup eğitme\n",
    "log_model = LogisticRegression().fit(X, y)"
   ]
  },
  {
   "cell_type": "code",
   "execution_count": 23,
   "id": "065c4ba2",
   "metadata": {},
   "outputs": [
    {
     "data": {
      "text/plain": [
       "array([-1.23439588])"
      ]
     },
     "execution_count": 23,
     "metadata": {},
     "output_type": "execute_result"
    }
   ],
   "source": [
    "# Modelin sabit (intercept) değerini görüntüleme\n",
    "log_model.intercept_\n"
   ]
  },
  {
   "cell_type": "code",
   "execution_count": 24,
   "id": "721fa7f6",
   "metadata": {},
   "outputs": [
    {
     "data": {
      "text/plain": [
       "array([[ 0.59906785,  1.41770936, -0.23152362,  0.01973855, -0.14571255,\n",
       "         0.81741997,  0.35522795,  0.25655154]])"
      ]
     },
     "execution_count": 24,
     "metadata": {},
     "output_type": "execute_result"
    }
   ],
   "source": [
    "# Modelin katsayılarını görüntüleme\n",
    "log_model.coef_\n"
   ]
  },
  {
   "cell_type": "code",
   "execution_count": 25,
   "id": "29181d97",
   "metadata": {},
   "outputs": [
    {
     "data": {
      "text/plain": [
       "array([1, 0, 1, 0, 1, 0, 0, 1, 1, 0], dtype=int64)"
      ]
     },
     "execution_count": 25,
     "metadata": {},
     "output_type": "execute_result"
    }
   ],
   "source": [
    "# Modelin bağımsız değişkenlere göre yaptığı tahminleri alıp ilk 10 tahmin değerini görüntüleme\n",
    "y_pred = log_model.predict(X)\n",
    "y_pred[0:10]"
   ]
  },
  {
   "cell_type": "code",
   "execution_count": 26,
   "id": "abbbb29e",
   "metadata": {},
   "outputs": [
    {
     "data": {
      "text/plain": [
       "0    1\n",
       "1    0\n",
       "2    1\n",
       "3    0\n",
       "4    1\n",
       "5    0\n",
       "6    1\n",
       "7    0\n",
       "8    1\n",
       "9    1\n",
       "Name: Outcome, dtype: int64"
      ]
     },
     "execution_count": 26,
     "metadata": {},
     "output_type": "execute_result"
    }
   ],
   "source": [
    "# Gerçek \"Outcome\" değerlerini alıp ilk 10 değeri görüntüleme\n",
    "y[0:10]"
   ]
  },
  {
   "cell_type": "markdown",
   "id": "e176a310",
   "metadata": {},
   "source": [
    "### Model Evaluation (Model Değerlendirme)\n",
    "\n",
    "Bu fonksiyon, gerçek ve tahmin edilen değerlere dayalı bir karışıklık matrisini görselleştirir ve doğruluk skorunu hesaplar. Ayrıca, **classification_report** fonksiyonu ile sınıflandırma raporunu yazdırır. Bu tür görselleştirmeler ve raporlar, bir sınıflandırma modelinin performansını değerlendirmek için kullanılır."
   ]
  },
  {
   "cell_type": "code",
   "execution_count": 27,
   "id": "8c03f198",
   "metadata": {},
   "outputs": [
    {
     "data": {
      "image/png": "[encoded data removed]",
      "text/plain": [
       "<Figure size 640x480 with 2 Axes>"
      ]
     },
     "metadata": {},
     "output_type": "display_data"
    },
    {
     "name": "stdout",
     "output_type": "stream",
     "text": [
      "              precision    recall  f1-score   support\n",
      "\n",
      "           0       0.80      0.89      0.84       500\n",
      "           1       0.74      0.58      0.65       268\n",
      "\n",
      "    accuracy                           0.78       768\n",
      "   macro avg       0.77      0.74      0.75       768\n",
      "weighted avg       0.78      0.78      0.78       768\n",
      "\n"
     ]
    }
   ],
   "source": [
    "def plot_confusion_matrix(y, y_pred):\n",
    "    \"\"\"\n",
    "    Confusion matrix ve accuracy score görselleştiren fonksiyon.\n",
    "\n",
    "    Parameters:\n",
    "    - y: Gerçek hedef değişken değerleri\n",
    "    - y_pred: Model tarafından yapılan tahminler\n",
    "    \"\"\"\n",
    "    # Accuracy score'u hesapla\n",
    "    acc = round(accuracy_score(y, y_pred), 2)\n",
    "    \n",
    "    # Confusion matrix'i oluştur\n",
    "    cm = confusion_matrix(y, y_pred)\n",
    "    \n",
    "    # Heatmap ile confusion matrix'i görselleştir\n",
    "    sns.heatmap(cm, annot=True, fmt=\".0f\")\n",
    "    \n",
    "    # x-ekseni etiketi\n",
    "    plt.xlabel('y_pred')\n",
    "    \n",
    "    # y-ekseni etiketi\n",
    "    plt.ylabel('y')\n",
    "    \n",
    "    # Grafik başlığı\n",
    "    plt.title('Accuracy Score: {0}'.format(acc), size=10)\n",
    "    \n",
    "    # Grafik gösterme\n",
    "    plt.show()\n",
    "\n",
    "# Confusion matrix ve accuracy score'u görselleştirme\n",
    "plot_confusion_matrix(y, y_pred)\n",
    "\n",
    "# Sınıflandırma raporunu yazdırma\n",
    "print(classification_report(y, y_pred))\n"
   ]
  },
  {
   "cell_type": "markdown",
   "id": "ebe84182",
   "metadata": {},
   "source": [
    "# !! Bizim için önemli olan parametereler;\n",
    "\n",
    "- **Accuracy**: 0.78  ==> Başarı oranı, toplam doğru tahmin edilme oranı\n",
    "\n",
    "- **Precision**: 0.74  ==> **Diabet olarak tahmin** edilenlerin gerçekte diabet olma oranı \n",
    "\n",
    "- **Recall**: 0.58  ==> **Gerçekte Diabet** (1) olanların Diabet olarak tahmin edilmesi\n",
    "\n",
    "- **F1-score**: 0.65 ==> Performans ölüçümünde kullanılan bir metriktir. Hassasiyet (precision) ve duyarlılık (recall) değerlerini birleştiren bir ölçümdür.\n",
    "\n",
    "**Hassasiyet (precision) ve duyarlılık (recall)**, özellikle dengesiz sınıflara sahip veri setlerinde performansı değerlendirmek için kullanılır. Eğer veri setinde Diabet olma ve olmama oranı %50-50 oranında olsaydı sadece Accuracy değerine bakarak yorum yapılabilirdir. Ancak bizim veri setimizde Diabet olmayan sayısı 500 iken Diabet sayısı 268 bu durumda diğer performans metriklerine de bakmak gerekir.\n",
    "\n",
    "Burada kritik hata **Recall** dır. Çünkü bu oran bize gerçekte diabet hastası olupda diabet olarak tahmin edilenlerin oranını verir. Başarı oranı %58 dir. Yani %42 oranında diabet hastası olanlar tespit edilememiştir. Önemli olan diabet hastalarını tespit edebilmektir. Bu sebeple bu problemdeki **kritik hatamız** bu durumdur.\n",
    "\n",
    "**Precision** ise diabet olarak tahmin edilenlerin, diabet olup olmama oranıdır. %74 oranında doğru tahmin edildiğine göre %26 oranında kişiye diabet olmadığı halde diabet tahmini yapılmıştır. Bu da bir hatadır fakat bizim için kritik bir hata değildir. Önemli olan diabet hastalarının tespit edilebilmesidir.\n",
    "\n",
    "**F1 skoru**, hassasiyet ve duyarlılık arasında bir denge sağlar ve özellikle dengesiz sınıflandırma problemlerinde kullanıcıya bir genel performans ölçümü sunar. F1 skoru, 0 ile 1 arasında bir değer alır, daha yüksek bir F1 skoru genellikle daha iyi bir performansı temsil eder."
   ]
  },
  {
   "cell_type": "markdown",
   "id": "213bcc9e",
   "metadata": {},
   "source": [
    "Bu, modelin sınıf olasılıklarını alarak ROC AUC skorunu hesaplar. ROC AUC, bir sınıflandırma modelinin performansını değerlendirmek için yaygın olarak kullanılan bir metriktir. 0 ile 1 arasında değer alır, yüksek değerler daha iyi performansı temsil eder."
   ]
  },
  {
   "cell_type": "code",
   "execution_count": 28,
   "id": "8eb29261",
   "metadata": {},
   "outputs": [
    {
     "data": {
      "text/plain": [
       "0.8393955223880598"
      ]
     },
     "execution_count": 28,
     "metadata": {},
     "output_type": "execute_result"
    }
   ],
   "source": [
    "# Modelin sınıf olasılıklarını alma\n",
    "y_prob = log_model.predict_proba(X)[:, 1]\n",
    "\n",
    "# ROC AUC skorunu hesapla\n",
    "roc_auc_score(y, y_prob)\n",
    "# 0.83939\n"
   ]
  },
  {
   "cell_type": "markdown",
   "id": "7dca4b56",
   "metadata": {},
   "source": [
    "**Buraya kadar yaptıklarımızda modelimizi aynı veri seti üzerinden eğittik ve testini gerçekleştirdik. Şimdi ise veri eğitim ve test olarak bölerek modelimizi oluşturalım.**"
   ]
  },
  {
   "cell_type": "markdown",
   "id": "7403164f",
   "metadata": {},
   "source": [
    "## Model Validation: Holdout (Model Doğrulama: Bekletme)\n",
    "\n",
    "Bu kod parçası, veriyi eğitim ve test setlerine böler, Lojistik Regresyon modelini eğitir, test seti üzerinde tahminler yapar ve sınıflandırma raporunu yazdırır.\n",
    "\n",
    "Burada önce verilerimizi eğitim veri seti ile eğiteceğiz. Daha sonra modelin görmemiş olduğu test veri setimiz ile tahmin sonuçlarını elde edeceğiz."
   ]
  },
  {
   "cell_type": "code",
   "execution_count": 29,
   "id": "884aef3a",
   "metadata": {},
   "outputs": [
    {
     "name": "stdout",
     "output_type": "stream",
     "text": [
      "              precision    recall  f1-score   support\n",
      "\n",
      "           0       0.77      0.92      0.84        97\n",
      "           1       0.79      0.53      0.63        57\n",
      "\n",
      "    accuracy                           0.77       154\n",
      "   macro avg       0.78      0.72      0.73       154\n",
      "weighted avg       0.78      0.77      0.76       154\n",
      "\n"
     ]
    }
   ],
   "source": [
    "# Veriyi eğitim ve test setlerine bölebilirsiniz\n",
    "# Burada veriler rastgele biçimde %80 eğitim ve %20 test olacak şekilde ayrılır.\n",
    "# Random_state ise bu rastgeliği sabitler. Eğer sizde kodunuzu çalıştırdığınızda\n",
    "# bu çözümdeki sonuçlar ile aynı değerleri elde etmek istiyorsanız random_state=17 olarak ayarlayın.\n",
    "X_train, X_test, y_train, y_test = train_test_split(X, y, test_size=0.20, random_state=17)\n",
    "\n",
    "# Logistic Regression modelini eğitim seti üzerinde oluşturup eğitme\n",
    "log_model = LogisticRegression().fit(X_train, y_train)\n",
    "\n",
    "# Test seti üzerinde tahminler yapma\n",
    "y_pred = log_model.predict(X_test)\n",
    "\n",
    "# Test seti üzerinde sınıf olasılıklarını alma\n",
    "y_prob = log_model.predict_proba(X_test)[:, 1]\n",
    "\n",
    "# Sınıflandırma raporunu yazdırma\n",
    "print(classification_report(y_test, y_pred))\n"
   ]
  },
  {
   "cell_type": "markdown",
   "id": "c2a22a1c",
   "metadata": {},
   "source": [
    "Modelimizin **Recall** değeri **0.53** görmediği verileri tahminleme konusunda başarılı olduğu söylenemez."
   ]
  },
  {
   "cell_type": "markdown",
   "id": "bf50a891",
   "metadata": {},
   "source": [
    "Bu kod parçası, ROC eğrisini ve altındaki alanı (AUC) çizmek için roc_curve ve auc fonksiyonlarını kullanır."
   ]
  },
  {
   "cell_type": "code",
   "execution_count": 32,
   "id": "02991278",
   "metadata": {},
   "outputs": [
    {
     "data": {
      "image/png": "[encoded data removed]",
      "text/plain": [
       "<Figure size 640x480 with 1 Axes>"
      ]
     },
     "metadata": {},
     "output_type": "display_data"
    }
   ],
   "source": [
    "from sklearn.metrics import roc_curve, auc\n",
    "\n",
    "# Lojistik Regresyon modelinin sınıf olasılıklarını al\n",
    "y_prob = log_model.predict_proba(X_test)[:, 1]\n",
    "\n",
    "# FPR, TPR ve eşik değerlerini hesapla\n",
    "fpr, tpr, thresholds = roc_curve(y_test, y_prob)\n",
    "\n",
    "# ROC eğrisini çiz\n",
    "plt.plot(fpr, tpr, label=f'AUC = {auc(fpr, tpr):.2f}')\n",
    "plt.plot([0, 1], [0, 1], 'r--', label='Random')\n",
    "plt.xlabel('False Positive Rate')\n",
    "plt.ylabel('True Positive Rate')\n",
    "plt.title('ROC Curve')\n",
    "plt.legend()\n",
    "plt.show()\n"
   ]
  },
  {
   "cell_type": "markdown",
   "id": "c55f4719",
   "metadata": {},
   "source": [
    "**AUC** skoru, bir sınıflandırma **modelinin performansını** ölçen önemli bir metriktir. 1'e yaklaşan bir AUC skoru, daha iyi bir performansı temsil eder."
   ]
  },
  {
   "cell_type": "code",
   "execution_count": 33,
   "id": "e0ef5bb7",
   "metadata": {},
   "outputs": [
    {
     "data": {
      "text/plain": [
       "0.8755652016639537"
      ]
     },
     "execution_count": 33,
     "metadata": {},
     "output_type": "execute_result"
    }
   ],
   "source": [
    "# AUC skorunu hesapla\n",
    "roc_auc_score(y_test, y_prob)"
   ]
  },
  {
   "cell_type": "markdown",
   "id": "b704c523",
   "metadata": {},
   "source": [
    "### Model Validation: 5-Fold Cross Validation\n",
    "\n",
    "**Model Doğrulama: 5 Kat Çapraz Doğrulama**\n",
    "\n",
    "Modelimizi eğitim (%80) ve test (%20) olarak ayırdığımızda da elde ettiğimiz sonuçlar çok başarılı olmadı. Şimdi ise katlı çapraz doğrulama yöntemini kullanarak modelimizi eğitelim.\n",
    "\n",
    "Veri setini eğitim ve test setleri olarak ayırmak yerine, veri seti farklı alt kümelerine bölünerek modelin birden çok kez eğitilip değerlendirilmesini sağlar. Bu yöntem, modelin genelleştirilebilirliğini kontrol etmek ve aşırı uyum sorunlarını önlemek için kullanılır. \n",
    "\n",
    "**Veri setimiz çok büyükse** önce veri setinin yukarıdaki gibi %80-20 ayrılması ve %80'lik veri ile katlı çapraz doğrulama yapılarak kalan %20 ile test yapılması önerilir. Fakat bizim burada veri setimiz yeterince büyük olmadığı için böyle bir ayırma işlemi yapmayacağız.\n",
    "\n",
    "Bu kod, çapraz doğrulama yaparak modelin performansını değerlendirir. **cross_validate** fonksiyonu, belirtilen metrikler (accuracy, precision, recall, f1, roc_auc) için çapraz doğrulama sonuçlarını döndürür."
   ]
  },
  {
   "cell_type": "code",
   "execution_count": 34,
   "id": "adea3d3e",
   "metadata": {},
   "outputs": [
    {
     "name": "stdout",
     "output_type": "stream",
     "text": [
      "Accuracy: [0.77272727 0.74675325 0.75324675 0.81699346 0.77124183]\n",
      "Precision: [0.71111111 0.64705882 0.71052632 0.79069767 0.73684211]\n",
      "Recall: [0.59259259 0.61111111 0.5        0.64150943 0.52830189]\n",
      "F1 Score: [0.64646465 0.62857143 0.58695652 0.70833333 0.61538462]\n",
      "ROC AUC: [0.81277778 0.80888889 0.825      0.87339623 0.84358491]\n"
     ]
    }
   ],
   "source": [
    "# Hedef değişkeni belirleme\n",
    "y = df[\"Outcome\"]\n",
    "\n",
    "# Bağımsız değişkenleri seçme\n",
    "X = df.drop([\"Outcome\"], axis=1)\n",
    "\n",
    "# Lojistik Regresyon modelini eğitme\n",
    "log_model = LogisticRegression().fit(X, y)\n",
    "\n",
    "# Çapraz doğrulama sonuçlarını alma\n",
    "cv_results = cross_validate(log_model,\n",
    "                            X, y,\n",
    "                            cv=5,  # 5 katlı çapraz doğrulama\n",
    "                            scoring=[\"accuracy\", \"precision\", \"recall\", \"f1\", \"roc_auc\"])\n",
    "\n",
    "# Çapraz doğrulama sonuçlarını yazdırma\n",
    "print(\"Accuracy:\", cv_results[\"test_accuracy\"])\n",
    "print(\"Precision:\", cv_results[\"test_precision\"])\n",
    "print(\"Recall:\", cv_results[\"test_recall\"])\n",
    "print(\"F1 Score:\", cv_results[\"test_f1\"])\n",
    "print(\"ROC AUC:\", cv_results[\"test_roc_auc\"])\n"
   ]
  },
  {
   "cell_type": "code",
   "execution_count": 35,
   "id": "487da2f4",
   "metadata": {},
   "outputs": [
    {
     "data": {
      "text/plain": [
       "0.7721925133689839"
      ]
     },
     "execution_count": 35,
     "metadata": {},
     "output_type": "execute_result"
    }
   ],
   "source": [
    "# Çapraz doğrulama sonuçlarından doğruluk skorlarının ortalamasını hesapla\n",
    "cv_results['test_accuracy'].mean()\n"
   ]
  },
  {
   "cell_type": "code",
   "execution_count": 36,
   "id": "b1f571b3",
   "metadata": {},
   "outputs": [
    {
     "data": {
      "text/plain": [
       "0.7192472060223519"
      ]
     },
     "execution_count": 36,
     "metadata": {},
     "output_type": "execute_result"
    }
   ],
   "source": [
    "# Çapraz doğrulama sonuçlarından hassasiyet skorlarının ortalamasını hesapla\n",
    "cv_results['test_precision'].mean()\n"
   ]
  },
  {
   "cell_type": "code",
   "execution_count": 37,
   "id": "45b7bcd0",
   "metadata": {},
   "outputs": [
    {
     "data": {
      "text/plain": [
       "0.5747030048916841"
      ]
     },
     "execution_count": 37,
     "metadata": {},
     "output_type": "execute_result"
    }
   ],
   "source": [
    "# Çapraz doğrulama sonuçlarından duyarlılık skorlarının ortalamasını hesapla\n",
    "cv_results['test_recall'].mean()\n"
   ]
  },
  {
   "cell_type": "code",
   "execution_count": 38,
   "id": "4798e5b5",
   "metadata": {},
   "outputs": [
    {
     "data": {
      "text/plain": [
       "0.6371421090986309"
      ]
     },
     "execution_count": 38,
     "metadata": {},
     "output_type": "execute_result"
    }
   ],
   "source": [
    "# Çapraz doğrulama sonuçlarından F1 skorlarının ortalamasını hesapla\n",
    "cv_results['test_f1'].mean()\n"
   ]
  },
  {
   "cell_type": "code",
   "execution_count": 39,
   "id": "c38e664f",
   "metadata": {},
   "outputs": [
    {
     "data": {
      "text/plain": [
       "0.8327295597484277"
      ]
     },
     "execution_count": 39,
     "metadata": {},
     "output_type": "execute_result"
    }
   ],
   "source": [
    "# Çapraz doğrulama sonuçlarından ROC AUC skorlarının ortalamasını hesapla\n",
    "cv_results['test_roc_auc'].mean()\n"
   ]
  },
  {
   "cell_type": "markdown",
   "id": "5a180182",
   "metadata": {},
   "source": [
    "Çapraz doğrulama ile elde etmiş olduğumuz ortalama başarı parametrelerini kontrol ederek. Daha önce oluşturmuş olduğumuz modellerin başarılı olup olmadığını yorumlayabiliriz. Eğer elde ettiğimiz başarı değerleri çapraz doğrulama ile elde edilen ortalama değerlerin altında ise kurduğumuz modeller daha da iyileştirilebilir demektir."
   ]
  },
  {
   "cell_type": "markdown",
   "id": "69de9c22",
   "metadata": {},
   "source": [
    "## Prediction for A New Observation\n",
    "**Yeni Bir Gözlem İçin Tahmin**\n",
    "\n",
    "Bu işlem, modelin belirli bir örneği nasıl tahmin ettiğini incelemek için yapılmıştır. Tahmin sonucu, örnek sınıf etiketi (örneğin, 0 veya 1) olarak dönecektir."
   ]
  },
  {
   "cell_type": "code",
   "execution_count": 40,
   "id": "a74fb4d1",
   "metadata": {},
   "outputs": [
    {
     "data": {
      "text/plain": [
       "Index(['Pregnancies', 'Glucose', 'BloodPressure', 'SkinThickness', 'Insulin', 'BMI', 'DiabetesPedigreeFunction', 'Age'], dtype='object')"
      ]
     },
     "execution_count": 40,
     "metadata": {},
     "output_type": "execute_result"
    }
   ],
   "source": [
    "# Bağımsız değişkenlerin isimlerini yazdırma\n",
    "X.columns\n"
   ]
  },
  {
   "cell_type": "code",
   "execution_count": 48,
   "id": "9c3d677d",
   "metadata": {},
   "outputs": [
    {
     "name": "stdout",
     "output_type": "stream",
     "text": [
      "[1]\n"
     ]
    }
   ],
   "source": [
    "# Rastgele bir kullanıcı örneği seçme\n",
    "random_user = X.sample(1, random_state=45)\n",
    "\n",
    "# Lojistik Regresyon modelini kullanarak yeni tahmin yapma\n",
    "new_preg = log_model.predict(random_user)\n",
    "\n",
    "# Yeni tahmini ekrana yazdırır.\n",
    "print(new_preg)"
   ]
  },
  {
   "cell_type": "markdown",
   "id": "883f9f2b",
   "metadata": {},
   "source": [
    "Rastgele seçilen bir kullancı, modelimiz tarafından diabet olarak tahmin edilmiştir. random_state değerini değiştirerek denemeler yapabilirsiniz."
   ]
  }
 ],
 "metadata": {
  "kernelspec": {
   "display_name": "Python 3 (ipykernel)",
   "language": "python",
   "name": "python3"
  },
  "language_info": {
   "codemirror_mode": {
    "name": "ipython",
    "version": 3
   },
   "file_extension": ".py",
   "mimetype": "text/x-python",
   "name": "python",
   "nbconvert_exporter": "python",
   "pygments_lexer": "ipython3",
   "version": "3.11.5"
  }
 },
 "nbformat": 4,
 "nbformat_minor": 5
}
