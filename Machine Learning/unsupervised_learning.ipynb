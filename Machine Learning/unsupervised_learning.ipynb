{
 "cells": [
  {
   "cell_type": "markdown",
   "id": "9e2d82d0",
   "metadata": {},
   "source": [
    "# Unsupervised Learning - Denetimsiz Öğrenme\n",
    "\n",
    "Denetimsiz öğrenme, algoritmanın etiketlenmemiş veri setlerinden desenler ve ilişkiler çıkarmaya çalıştığı bir makine öğrenimi türüdür. Etiketler veya hedef çıkışlar önceden verilmez, algoritma kendi başına örüntüleri tanımlar. Bu tür öğrenme genellikle kümeleme (benzer örnekleri gruplama) veya boyutsal azaltma (özellik sayısını azaltma) gibi görevlerde kullanılır. Etiketleme maliyeti yüksek veya mümkün değilse, denetimsiz öğrenme özellikle faydalıdır. Yani bağımlı değişkeni yoktur. Sadece bağımsız değişkenlerden oluşur.\n",
    "\n",
    "Bu uygulamaya başlamadan aşağıdaki kurulumu gerçekleştirmeniz gerekmektedir."
   ]
  },
  {
   "cell_type": "code",
   "execution_count": 1,
   "id": "91e899a2",
   "metadata": {},
   "outputs": [],
   "source": [
    "#!pip install yellowbrick"
   ]
  },
  {
   "cell_type": "code",
   "execution_count": 2,
   "id": "128a8953",
   "metadata": {},
   "outputs": [],
   "source": [
    "# Gerekli kütüphaneler\n",
    "import numpy as np\n",
    "import pandas as pd\n",
    "import random\n",
    "import matplotlib.pyplot as plt\n",
    "from sklearn.cluster import KMeans\n",
    "from sklearn.preprocessing import MinMaxScaler\n",
    "from yellowbrick.cluster import KElbowVisualizer\n",
    "from scipy.cluster.hierarchy import linkage, dendrogram\n",
    "from sklearn.preprocessing import StandardScaler\n",
    "from sklearn.decomposition import PCA\n",
    "from sklearn.model_selection import cross_val_score, GridSearchCV\n",
    "from sklearn.preprocessing import LabelEncoder\n"
   ]
  },
  {
   "cell_type": "markdown",
   "id": "90756f7d",
   "metadata": {},
   "source": [
    "# K-Means (K-Ortalamalar)\n",
    "\n",
    "Unsupervised learning (Denetimsiz Öğrenme), makine öğrenimi alanında bir tür öğrenme paradigmasıdır. Bu öğrenme tipinde, algoritma eğitim veri setindeki örnekleri etiketlenmemiş veya kategorize edilmemiş bir şekilde analiz eder. Yani, algoritmanın öğrenme sürecinde doğru çıkışlar veya hedef değerler verilmez. Bu nedenle, algoritmanın kendi başına desenleri ve ilişkileri bulması gerekmektedir.\n",
    "\n",
    "Denetimsiz öğrenme, veri setindeki yapıları anlamak, benzer örnekleri gruplamak veya veri setindeki gizli özellikleri çıkarmak gibi görevler için kullanılır. Bu öğrenme türü, özellikle büyük ve karmaşık veri setleriyle çalışma veya veri setindeki desenleri anlama amacı güden uygulamalarda yaygın olarak kullanılır.\n",
    "\n",
    "Denetimsiz öğrenme genellikle iki ana kategori altında incelenir:\n",
    "\n",
    "1. **Kümeleme (Clustering):** Veri setindeki benzer örnekleri gruplamak için kullanılır. K-means gibi algoritmalar kümeleme görevleri için sıkça kullanılır. Bu tür algoritmalar, veri setindeki örnekleri birbirine benzeyen gruplara ayırmaya çalışır.\n",
    "\n",
    "2. **Boyutsal Azaltma (Dimensionality Reduction):** Veri setindeki özellik sayısını azaltarak, veri setini daha anlaşılır ve işlenebilir hale getirmek amacıyla kullanılır. PCA (Principal Component Analysis) gibi algoritmalar, veri setindeki değişkenleri daha az sayıda özellikle ifade eden bir alt kümeyle değiştirir.\n",
    "\n",
    "Denetimsiz öğrenme, veri madenciliği, desen tanıma, doğal dil işleme ve birçok uygulama alanında kullanılmaktadır. Bu öğrenme türü, özellikle etiketleme maliyeti yüksek veya etiketleme imkansız olduğu durumlarda kullanışlıdır."
   ]
  },
  {
   "cell_type": "markdown",
   "id": "e03d8120",
   "metadata": {},
   "source": [
    "**Eyaletleri suç istatistiklerine göre gruplara ayırma işlemi yapacağız.**"
   ]
  },
  {
   "cell_type": "code",
   "execution_count": 3,
   "id": "e0c43460",
   "metadata": {},
   "outputs": [
    {
     "data": {
      "text/html": [
       "<div>\n",
       "<style scoped>\n",
       "    .dataframe tbody tr th:only-of-type {\n",
       "        vertical-align: middle;\n",
       "    }\n",
       "\n",
       "    .dataframe tbody tr th {\n",
       "        vertical-align: top;\n",
       "    }\n",
       "\n",
       "    .dataframe thead th {\n",
       "        text-align: right;\n",
       "    }\n",
       "</style>\n",
       "<table border=\"1\" class=\"dataframe\">\n",
       "  <thead>\n",
       "    <tr style=\"text-align: right;\">\n",
       "      <th></th>\n",
       "      <th>Murder</th>\n",
       "      <th>Assault</th>\n",
       "      <th>UrbanPop</th>\n",
       "      <th>Rape</th>\n",
       "    </tr>\n",
       "  </thead>\n",
       "  <tbody>\n",
       "    <tr>\n",
       "      <th>Alabama</th>\n",
       "      <td>13.2</td>\n",
       "      <td>236</td>\n",
       "      <td>58</td>\n",
       "      <td>21.2</td>\n",
       "    </tr>\n",
       "    <tr>\n",
       "      <th>Alaska</th>\n",
       "      <td>10.0</td>\n",
       "      <td>263</td>\n",
       "      <td>48</td>\n",
       "      <td>44.5</td>\n",
       "    </tr>\n",
       "    <tr>\n",
       "      <th>Arizona</th>\n",
       "      <td>8.1</td>\n",
       "      <td>294</td>\n",
       "      <td>80</td>\n",
       "      <td>31.0</td>\n",
       "    </tr>\n",
       "    <tr>\n",
       "      <th>Arkansas</th>\n",
       "      <td>8.8</td>\n",
       "      <td>190</td>\n",
       "      <td>50</td>\n",
       "      <td>19.5</td>\n",
       "    </tr>\n",
       "    <tr>\n",
       "      <th>California</th>\n",
       "      <td>9.0</td>\n",
       "      <td>276</td>\n",
       "      <td>91</td>\n",
       "      <td>40.6</td>\n",
       "    </tr>\n",
       "  </tbody>\n",
       "</table>\n",
       "</div>"
      ],
      "text/plain": [
       "            Murder  Assault  UrbanPop  Rape\n",
       "Alabama       13.2      236        58  21.2\n",
       "Alaska        10.0      263        48  44.5\n",
       "Arizona        8.1      294        80  31.0\n",
       "Arkansas       8.8      190        50  19.5\n",
       "California     9.0      276        91  40.6"
      ]
     },
     "execution_count": 3,
     "metadata": {},
     "output_type": "execute_result"
    }
   ],
   "source": [
    "# Veri setinin okutulması\n",
    "df = pd.read_csv(\"datasets/USArrests.csv\", index_col=0)\n",
    "\n",
    "# İlk 5 gözlemi göster\n",
    "df.head()"
   ]
  },
  {
   "cell_type": "code",
   "execution_count": 4,
   "id": "b027ef3f",
   "metadata": {},
   "outputs": [
    {
     "data": {
      "text/plain": [
       "Murder      0\n",
       "Assault     0\n",
       "UrbanPop    0\n",
       "Rape        0\n",
       "dtype: int64"
      ]
     },
     "execution_count": 4,
     "metadata": {},
     "output_type": "execute_result"
    }
   ],
   "source": [
    "# Eksik veri kontrolü\n",
    "df.isnull().sum()"
   ]
  },
  {
   "cell_type": "markdown",
   "id": "8049ba71",
   "metadata": {},
   "source": [
    "Eksik değer yok gibi gözüküyor."
   ]
  },
  {
   "cell_type": "code",
   "execution_count": 5,
   "id": "4b36c805",
   "metadata": {},
   "outputs": [
    {
     "name": "stdout",
     "output_type": "stream",
     "text": [
      "<class 'pandas.core.frame.DataFrame'>\n",
      "Index: 50 entries, Alabama to Wyoming\n",
      "Data columns (total 4 columns):\n",
      " #   Column    Non-Null Count  Dtype  \n",
      "---  ------    --------------  -----  \n",
      " 0   Murder    50 non-null     float64\n",
      " 1   Assault   50 non-null     int64  \n",
      " 2   UrbanPop  50 non-null     int64  \n",
      " 3   Rape      50 non-null     float64\n",
      "dtypes: float64(2), int64(2)\n",
      "memory usage: 2.0+ KB\n"
     ]
    }
   ],
   "source": [
    "# Veri seti bilgileri\n",
    "df.info()"
   ]
  },
  {
   "cell_type": "code",
   "execution_count": 6,
   "id": "3b5bf737",
   "metadata": {},
   "outputs": [
    {
     "data": {
      "text/html": [
       "<div>\n",
       "<style scoped>\n",
       "    .dataframe tbody tr th:only-of-type {\n",
       "        vertical-align: middle;\n",
       "    }\n",
       "\n",
       "    .dataframe tbody tr th {\n",
       "        vertical-align: top;\n",
       "    }\n",
       "\n",
       "    .dataframe thead th {\n",
       "        text-align: right;\n",
       "    }\n",
       "</style>\n",
       "<table border=\"1\" class=\"dataframe\">\n",
       "  <thead>\n",
       "    <tr style=\"text-align: right;\">\n",
       "      <th></th>\n",
       "      <th>count</th>\n",
       "      <th>mean</th>\n",
       "      <th>std</th>\n",
       "      <th>min</th>\n",
       "      <th>25%</th>\n",
       "      <th>50%</th>\n",
       "      <th>75%</th>\n",
       "      <th>max</th>\n",
       "    </tr>\n",
       "  </thead>\n",
       "  <tbody>\n",
       "    <tr>\n",
       "      <th>Murder</th>\n",
       "      <td>50.0</td>\n",
       "      <td>7.788</td>\n",
       "      <td>4.355510</td>\n",
       "      <td>0.8</td>\n",
       "      <td>4.075</td>\n",
       "      <td>7.25</td>\n",
       "      <td>11.250</td>\n",
       "      <td>17.4</td>\n",
       "    </tr>\n",
       "    <tr>\n",
       "      <th>Assault</th>\n",
       "      <td>50.0</td>\n",
       "      <td>170.760</td>\n",
       "      <td>83.337661</td>\n",
       "      <td>45.0</td>\n",
       "      <td>109.000</td>\n",
       "      <td>159.00</td>\n",
       "      <td>249.000</td>\n",
       "      <td>337.0</td>\n",
       "    </tr>\n",
       "    <tr>\n",
       "      <th>UrbanPop</th>\n",
       "      <td>50.0</td>\n",
       "      <td>65.540</td>\n",
       "      <td>14.474763</td>\n",
       "      <td>32.0</td>\n",
       "      <td>54.500</td>\n",
       "      <td>66.00</td>\n",
       "      <td>77.750</td>\n",
       "      <td>91.0</td>\n",
       "    </tr>\n",
       "    <tr>\n",
       "      <th>Rape</th>\n",
       "      <td>50.0</td>\n",
       "      <td>21.232</td>\n",
       "      <td>9.366385</td>\n",
       "      <td>7.3</td>\n",
       "      <td>15.075</td>\n",
       "      <td>20.10</td>\n",
       "      <td>26.175</td>\n",
       "      <td>46.0</td>\n",
       "    </tr>\n",
       "  </tbody>\n",
       "</table>\n",
       "</div>"
      ],
      "text/plain": [
       "          count     mean        std   min      25%     50%      75%    max\n",
       "Murder     50.0    7.788   4.355510   0.8    4.075    7.25   11.250   17.4\n",
       "Assault    50.0  170.760  83.337661  45.0  109.000  159.00  249.000  337.0\n",
       "UrbanPop   50.0   65.540  14.474763  32.0   54.500   66.00   77.750   91.0\n",
       "Rape       50.0   21.232   9.366385   7.3   15.075   20.10   26.175   46.0"
      ]
     },
     "execution_count": 6,
     "metadata": {},
     "output_type": "execute_result"
    }
   ],
   "source": [
    "# Temel istatistiksel bilgiler\n",
    "df.describe().T"
   ]
  },
  {
   "cell_type": "markdown",
   "id": "825076f5",
   "metadata": {},
   "source": [
    "Uzaklık temelli yöntemlerde değişkenlerin standartlaştırılması önemlidir. Bu nedenle verileri standartlaştıralım;"
   ]
  },
  {
   "cell_type": "code",
   "execution_count": 7,
   "id": "3c6c5698",
   "metadata": {},
   "outputs": [
    {
     "data": {
      "text/plain": [
       "array([[0.74698795, 0.65410959, 0.44067797, 0.35917313],\n",
       "       [0.55421687, 0.74657534, 0.27118644, 0.96124031],\n",
       "       [0.43975904, 0.85273973, 0.81355932, 0.6124031 ],\n",
       "       [0.48192771, 0.49657534, 0.30508475, 0.31524548],\n",
       "       [0.4939759 , 0.79109589, 1.        , 0.86046512]])"
      ]
     },
     "execution_count": 7,
     "metadata": {},
     "output_type": "execute_result"
    }
   ],
   "source": [
    "# Veriyi normalize etme\n",
    "sc = MinMaxScaler((0, 1))\n",
    "df = sc.fit_transform(df)\n",
    "df[0:5]"
   ]
  },
  {
   "cell_type": "code",
   "execution_count": 8,
   "id": "049e73de",
   "metadata": {},
   "outputs": [
    {
     "name": "stderr",
     "output_type": "stream",
     "text": [
      "C:\\ProgramData\\anaconda3\\Lib\\site-packages\\sklearn\\cluster\\_kmeans.py:1416: FutureWarning: The default value of `n_init` will change from 10 to 'auto' in 1.4. Set the value of `n_init` explicitly to suppress the warning\n",
      "  super()._check_params_vs_input(X, default_n_init=10)\n",
      "C:\\ProgramData\\anaconda3\\Lib\\site-packages\\sklearn\\cluster\\_kmeans.py:1440: UserWarning: KMeans is known to have a memory leak on Windows with MKL, when there are less chunks than available threads. You can avoid it by setting the environment variable OMP_NUM_THREADS=1.\n",
      "  warnings.warn(\n"
     ]
    }
   ],
   "source": [
    "# KMeans modelini oluşturma ve eğitme\n",
    "kmeans = KMeans(n_clusters=4, random_state=17).fit(df)"
   ]
  },
  {
   "cell_type": "code",
   "execution_count": 9,
   "id": "640d726f",
   "metadata": {},
   "outputs": [
    {
     "data": {
      "text/plain": [
       "{'algorithm': 'lloyd',\n",
       " 'copy_x': True,\n",
       " 'init': 'k-means++',\n",
       " 'max_iter': 300,\n",
       " 'n_clusters': 4,\n",
       " 'n_init': 'warn',\n",
       " 'random_state': 17,\n",
       " 'tol': 0.0001,\n",
       " 'verbose': 0}"
      ]
     },
     "execution_count": 9,
     "metadata": {},
     "output_type": "execute_result"
    }
   ],
   "source": [
    "# KMeans modelinin parametreleri\n",
    "kmeans.get_params()"
   ]
  },
  {
   "cell_type": "code",
   "execution_count": 10,
   "id": "ff0d0def",
   "metadata": {},
   "outputs": [
    {
     "data": {
      "text/plain": [
       "4"
      ]
     },
     "execution_count": 10,
     "metadata": {},
     "output_type": "execute_result"
    }
   ],
   "source": [
    "# Oluşturulan küme sayısı\n",
    "kmeans.n_clusters"
   ]
  },
  {
   "cell_type": "code",
   "execution_count": 11,
   "id": "6f291e80",
   "metadata": {},
   "outputs": [
    {
     "data": {
      "text/plain": [
       "array([[0.1686747 , 0.11485774, 0.34028683, 0.12601868],\n",
       "       [0.6124498 , 0.75      , 0.75423729, 0.67980189],\n",
       "       [0.30439405, 0.32937147, 0.70588235, 0.31098951],\n",
       "       [0.79141566, 0.6802226 , 0.36864407, 0.36466408]])"
      ]
     },
     "execution_count": 11,
     "metadata": {},
     "output_type": "execute_result"
    }
   ],
   "source": [
    "# Küme merkezleri\n",
    "kmeans.cluster_centers_"
   ]
  },
  {
   "cell_type": "code",
   "execution_count": 12,
   "id": "d4f74cf5",
   "metadata": {},
   "outputs": [
    {
     "data": {
      "text/plain": [
       "array([3, 1, 1, 3, 1, 1, 2, 2, 1, 3, 2, 0, 1, 2, 0, 2, 0, 3, 0, 1, 2, 1,\n",
       "       0, 3, 2, 0, 0, 1, 0, 2, 1, 1, 3, 0, 2, 2, 2, 2, 2, 3, 0, 3, 1, 2,\n",
       "       0, 2, 2, 0, 0, 2])"
      ]
     },
     "execution_count": 12,
     "metadata": {},
     "output_type": "execute_result"
    }
   ],
   "source": [
    "# Her bir gözlemin ait olduğu küme etiketleri\n",
    "kmeans.labels_"
   ]
  },
  {
   "cell_type": "code",
   "execution_count": 13,
   "id": "8797d57f",
   "metadata": {},
   "outputs": [
    {
     "data": {
      "text/plain": [
       "3.683456153585913"
      ]
     },
     "execution_count": 13,
     "metadata": {},
     "output_type": "execute_result"
    }
   ],
   "source": [
    "# Küme içi toplam karesel mesafe\n",
    "kmeans.inertia_"
   ]
  },
  {
   "attachments": {
    "image.png": {
     "image/png": "[encoded data removed]"
    }
   },
   "cell_type": "markdown",
   "id": "28f47419",
   "metadata": {},
   "source": [
    "K-means kümeleme algoritması sırasında, her küme için belirlenen merkez noktalar ile bu merkezlere olan uzaklıklar arasındaki toplam mesafeye **\"inertia\"** denir. Inertia, bir kümeleme **modelinin başarısını ölçen bir metriktir**. Amacı, küme merkezlerinin, kendilerine en yakın veri noktalarına olan uzaklıkların toplamını minimize etmektir.\n",
    "\n",
    "Inertia formülü şu şekildedir:\n",
    "\n",
    "![image.png](attachment:image.png)\n",
    "\n",
    "Burada:\n",
    "- \\(k\\), küme sayısını temsil eder.\n",
    "- \\(n_i\\), \\(i\\)-inci kümedeki veri noktalarının sayısını temsil eder.\n",
    "- \\(x_{ij}\\), \\(i\\)-inci kümedeki \\(j\\)-inci veri noktasını temsil eder.\n",
    "- \\(c_i\\), \\(i\\)-inci kümenin merkezini temsil eder.\n",
    "\n",
    "**Inertia'nın küçük olması**, küme merkezlerinin veri noktalarına daha yakın olduğunu ve böylece kümeleme **modelinin daha iyi performans gösterdiğini gösterir**. Kullanıcılar genellikle küme sayısını belirlemek için \"elbow method\" gibi teknikleri kullanarak inertia değerlerini analiz ederler. Elbow methodunda inertia değerlerinin grafikte bir dirseğe benzediği küme sayısını seçmek, optimal küme sayısını belirlemede yardımcı olabilir."
   ]
  },
  {
   "cell_type": "markdown",
   "id": "b10b09a1",
   "metadata": {},
   "source": [
    "## Optimum Küme Sayısının Belirlenmesi"
   ]
  },
  {
   "cell_type": "markdown",
   "id": "8684ce29",
   "metadata": {},
   "source": [
    "K-means kümeleme algoritması sırasında kullanılan bir başka ölçü olan **\"Inertia\" aslında SSE'nin bir türüdür**. Inertia, küme merkezlerine olan uzaklıkların karelerinin toplamını ifade eder. SSE, regresyon modellerinde de kullanılır ve gerçek değerler ile modelin tahmin ettiği değerler arasındaki farkların karelerini toplar.\n",
    "\n",
    "SSE'nin küçük olması, modelin veri noktalarını daha iyi açıkladığı veya küme merkezlerine daha yakın olduğu anlamına gelir. Bu ölçü, modelin ne kadar iyi uyarlandığını veya kümeleme algoritmasının ne kadar iyi performans gösterdiğini değerlendirmek için kullanılır."
   ]
  },
  {
   "cell_type": "code",
   "execution_count": 14,
   "id": "6f85d190",
   "metadata": {},
   "outputs": [
    {
     "name": "stderr",
     "output_type": "stream",
     "text": [
      "C:\\ProgramData\\anaconda3\\Lib\\site-packages\\sklearn\\cluster\\_kmeans.py:1416: FutureWarning: The default value of `n_init` will change from 10 to 'auto' in 1.4. Set the value of `n_init` explicitly to suppress the warning\n",
      "  super()._check_params_vs_input(X, default_n_init=10)\n",
      "C:\\ProgramData\\anaconda3\\Lib\\site-packages\\sklearn\\cluster\\_kmeans.py:1440: UserWarning: KMeans is known to have a memory leak on Windows with MKL, when there are less chunks than available threads. You can avoid it by setting the environment variable OMP_NUM_THREADS=1.\n",
      "  warnings.warn(\n",
      "C:\\ProgramData\\anaconda3\\Lib\\site-packages\\sklearn\\cluster\\_kmeans.py:1416: FutureWarning: The default value of `n_init` will change from 10 to 'auto' in 1.4. Set the value of `n_init` explicitly to suppress the warning\n",
      "  super()._check_params_vs_input(X, default_n_init=10)\n",
      "C:\\ProgramData\\anaconda3\\Lib\\site-packages\\sklearn\\cluster\\_kmeans.py:1440: UserWarning: KMeans is known to have a memory leak on Windows with MKL, when there are less chunks than available threads. You can avoid it by setting the environment variable OMP_NUM_THREADS=1.\n",
      "  warnings.warn(\n",
      "C:\\ProgramData\\anaconda3\\Lib\\site-packages\\sklearn\\cluster\\_kmeans.py:1416: FutureWarning: The default value of `n_init` will change from 10 to 'auto' in 1.4. Set the value of `n_init` explicitly to suppress the warning\n",
      "  super()._check_params_vs_input(X, default_n_init=10)\n",
      "C:\\ProgramData\\anaconda3\\Lib\\site-packages\\sklearn\\cluster\\_kmeans.py:1440: UserWarning: KMeans is known to have a memory leak on Windows with MKL, when there are less chunks than available threads. You can avoid it by setting the environment variable OMP_NUM_THREADS=1.\n",
      "  warnings.warn(\n",
      "C:\\ProgramData\\anaconda3\\Lib\\site-packages\\sklearn\\cluster\\_kmeans.py:1416: FutureWarning: The default value of `n_init` will change from 10 to 'auto' in 1.4. Set the value of `n_init` explicitly to suppress the warning\n",
      "  super()._check_params_vs_input(X, default_n_init=10)\n",
      "C:\\ProgramData\\anaconda3\\Lib\\site-packages\\sklearn\\cluster\\_kmeans.py:1440: UserWarning: KMeans is known to have a memory leak on Windows with MKL, when there are less chunks than available threads. You can avoid it by setting the environment variable OMP_NUM_THREADS=1.\n",
      "  warnings.warn(\n",
      "C:\\ProgramData\\anaconda3\\Lib\\site-packages\\sklearn\\cluster\\_kmeans.py:1416: FutureWarning: The default value of `n_init` will change from 10 to 'auto' in 1.4. Set the value of `n_init` explicitly to suppress the warning\n",
      "  super()._check_params_vs_input(X, default_n_init=10)\n",
      "C:\\ProgramData\\anaconda3\\Lib\\site-packages\\sklearn\\cluster\\_kmeans.py:1440: UserWarning: KMeans is known to have a memory leak on Windows with MKL, when there are less chunks than available threads. You can avoid it by setting the environment variable OMP_NUM_THREADS=1.\n",
      "  warnings.warn(\n",
      "C:\\ProgramData\\anaconda3\\Lib\\site-packages\\sklearn\\cluster\\_kmeans.py:1416: FutureWarning: The default value of `n_init` will change from 10 to 'auto' in 1.4. Set the value of `n_init` explicitly to suppress the warning\n",
      "  super()._check_params_vs_input(X, default_n_init=10)\n",
      "C:\\ProgramData\\anaconda3\\Lib\\site-packages\\sklearn\\cluster\\_kmeans.py:1440: UserWarning: KMeans is known to have a memory leak on Windows with MKL, when there are less chunks than available threads. You can avoid it by setting the environment variable OMP_NUM_THREADS=1.\n",
      "  warnings.warn(\n",
      "C:\\ProgramData\\anaconda3\\Lib\\site-packages\\sklearn\\cluster\\_kmeans.py:1416: FutureWarning: The default value of `n_init` will change from 10 to 'auto' in 1.4. Set the value of `n_init` explicitly to suppress the warning\n",
      "  super()._check_params_vs_input(X, default_n_init=10)\n",
      "C:\\ProgramData\\anaconda3\\Lib\\site-packages\\sklearn\\cluster\\_kmeans.py:1440: UserWarning: KMeans is known to have a memory leak on Windows with MKL, when there are less chunks than available threads. You can avoid it by setting the environment variable OMP_NUM_THREADS=1.\n",
      "  warnings.warn(\n",
      "C:\\ProgramData\\anaconda3\\Lib\\site-packages\\sklearn\\cluster\\_kmeans.py:1416: FutureWarning: The default value of `n_init` will change from 10 to 'auto' in 1.4. Set the value of `n_init` explicitly to suppress the warning\n",
      "  super()._check_params_vs_input(X, default_n_init=10)\n",
      "C:\\ProgramData\\anaconda3\\Lib\\site-packages\\sklearn\\cluster\\_kmeans.py:1440: UserWarning: KMeans is known to have a memory leak on Windows with MKL, when there are less chunks than available threads. You can avoid it by setting the environment variable OMP_NUM_THREADS=1.\n",
      "  warnings.warn(\n",
      "C:\\ProgramData\\anaconda3\\Lib\\site-packages\\sklearn\\cluster\\_kmeans.py:1416: FutureWarning: The default value of `n_init` will change from 10 to 'auto' in 1.4. Set the value of `n_init` explicitly to suppress the warning\n",
      "  super()._check_params_vs_input(X, default_n_init=10)\n",
      "C:\\ProgramData\\anaconda3\\Lib\\site-packages\\sklearn\\cluster\\_kmeans.py:1440: UserWarning: KMeans is known to have a memory leak on Windows with MKL, when there are less chunks than available threads. You can avoid it by setting the environment variable OMP_NUM_THREADS=1.\n",
      "  warnings.warn(\n",
      "C:\\ProgramData\\anaconda3\\Lib\\site-packages\\sklearn\\cluster\\_kmeans.py:1416: FutureWarning: The default value of `n_init` will change from 10 to 'auto' in 1.4. Set the value of `n_init` explicitly to suppress the warning\n",
      "  super()._check_params_vs_input(X, default_n_init=10)\n",
      "C:\\ProgramData\\anaconda3\\Lib\\site-packages\\sklearn\\cluster\\_kmeans.py:1440: UserWarning: KMeans is known to have a memory leak on Windows with MKL, when there are less chunks than available threads. You can avoid it by setting the environment variable OMP_NUM_THREADS=1.\n",
      "  warnings.warn(\n",
      "C:\\ProgramData\\anaconda3\\Lib\\site-packages\\sklearn\\cluster\\_kmeans.py:1416: FutureWarning: The default value of `n_init` will change from 10 to 'auto' in 1.4. Set the value of `n_init` explicitly to suppress the warning\n",
      "  super()._check_params_vs_input(X, default_n_init=10)\n",
      "C:\\ProgramData\\anaconda3\\Lib\\site-packages\\sklearn\\cluster\\_kmeans.py:1440: UserWarning: KMeans is known to have a memory leak on Windows with MKL, when there are less chunks than available threads. You can avoid it by setting the environment variable OMP_NUM_THREADS=1.\n",
      "  warnings.warn(\n",
      "C:\\ProgramData\\anaconda3\\Lib\\site-packages\\sklearn\\cluster\\_kmeans.py:1416: FutureWarning: The default value of `n_init` will change from 10 to 'auto' in 1.4. Set the value of `n_init` explicitly to suppress the warning\n",
      "  super()._check_params_vs_input(X, default_n_init=10)\n",
      "C:\\ProgramData\\anaconda3\\Lib\\site-packages\\sklearn\\cluster\\_kmeans.py:1440: UserWarning: KMeans is known to have a memory leak on Windows with MKL, when there are less chunks than available threads. You can avoid it by setting the environment variable OMP_NUM_THREADS=1.\n",
      "  warnings.warn(\n",
      "C:\\ProgramData\\anaconda3\\Lib\\site-packages\\sklearn\\cluster\\_kmeans.py:1416: FutureWarning: The default value of `n_init` will change from 10 to 'auto' in 1.4. Set the value of `n_init` explicitly to suppress the warning\n",
      "  super()._check_params_vs_input(X, default_n_init=10)\n",
      "C:\\ProgramData\\anaconda3\\Lib\\site-packages\\sklearn\\cluster\\_kmeans.py:1440: UserWarning: KMeans is known to have a memory leak on Windows with MKL, when there are less chunks than available threads. You can avoid it by setting the environment variable OMP_NUM_THREADS=1.\n",
      "  warnings.warn(\n",
      "C:\\ProgramData\\anaconda3\\Lib\\site-packages\\sklearn\\cluster\\_kmeans.py:1416: FutureWarning: The default value of `n_init` will change from 10 to 'auto' in 1.4. Set the value of `n_init` explicitly to suppress the warning\n",
      "  super()._check_params_vs_input(X, default_n_init=10)\n",
      "C:\\ProgramData\\anaconda3\\Lib\\site-packages\\sklearn\\cluster\\_kmeans.py:1440: UserWarning: KMeans is known to have a memory leak on Windows with MKL, when there are less chunks than available threads. You can avoid it by setting the environment variable OMP_NUM_THREADS=1.\n",
      "  warnings.warn(\n",
      "C:\\ProgramData\\anaconda3\\Lib\\site-packages\\sklearn\\cluster\\_kmeans.py:1416: FutureWarning: The default value of `n_init` will change from 10 to 'auto' in 1.4. Set the value of `n_init` explicitly to suppress the warning\n",
      "  super()._check_params_vs_input(X, default_n_init=10)\n",
      "C:\\ProgramData\\anaconda3\\Lib\\site-packages\\sklearn\\cluster\\_kmeans.py:1440: UserWarning: KMeans is known to have a memory leak on Windows with MKL, when there are less chunks than available threads. You can avoid it by setting the environment variable OMP_NUM_THREADS=1.\n",
      "  warnings.warn(\n",
      "C:\\ProgramData\\anaconda3\\Lib\\site-packages\\sklearn\\cluster\\_kmeans.py:1416: FutureWarning: The default value of `n_init` will change from 10 to 'auto' in 1.4. Set the value of `n_init` explicitly to suppress the warning\n",
      "  super()._check_params_vs_input(X, default_n_init=10)\n",
      "C:\\ProgramData\\anaconda3\\Lib\\site-packages\\sklearn\\cluster\\_kmeans.py:1440: UserWarning: KMeans is known to have a memory leak on Windows with MKL, when there are less chunks than available threads. You can avoid it by setting the environment variable OMP_NUM_THREADS=1.\n",
      "  warnings.warn(\n"
     ]
    },
    {
     "name": "stderr",
     "output_type": "stream",
     "text": [
      "C:\\ProgramData\\anaconda3\\Lib\\site-packages\\sklearn\\cluster\\_kmeans.py:1416: FutureWarning: The default value of `n_init` will change from 10 to 'auto' in 1.4. Set the value of `n_init` explicitly to suppress the warning\n",
      "  super()._check_params_vs_input(X, default_n_init=10)\n",
      "C:\\ProgramData\\anaconda3\\Lib\\site-packages\\sklearn\\cluster\\_kmeans.py:1440: UserWarning: KMeans is known to have a memory leak on Windows with MKL, when there are less chunks than available threads. You can avoid it by setting the environment variable OMP_NUM_THREADS=1.\n",
      "  warnings.warn(\n",
      "C:\\ProgramData\\anaconda3\\Lib\\site-packages\\sklearn\\cluster\\_kmeans.py:1416: FutureWarning: The default value of `n_init` will change from 10 to 'auto' in 1.4. Set the value of `n_init` explicitly to suppress the warning\n",
      "  super()._check_params_vs_input(X, default_n_init=10)\n",
      "C:\\ProgramData\\anaconda3\\Lib\\site-packages\\sklearn\\cluster\\_kmeans.py:1440: UserWarning: KMeans is known to have a memory leak on Windows with MKL, when there are less chunks than available threads. You can avoid it by setting the environment variable OMP_NUM_THREADS=1.\n",
      "  warnings.warn(\n",
      "C:\\ProgramData\\anaconda3\\Lib\\site-packages\\sklearn\\cluster\\_kmeans.py:1416: FutureWarning: The default value of `n_init` will change from 10 to 'auto' in 1.4. Set the value of `n_init` explicitly to suppress the warning\n",
      "  super()._check_params_vs_input(X, default_n_init=10)\n",
      "C:\\ProgramData\\anaconda3\\Lib\\site-packages\\sklearn\\cluster\\_kmeans.py:1440: UserWarning: KMeans is known to have a memory leak on Windows with MKL, when there are less chunks than available threads. You can avoid it by setting the environment variable OMP_NUM_THREADS=1.\n",
      "  warnings.warn(\n",
      "C:\\ProgramData\\anaconda3\\Lib\\site-packages\\sklearn\\cluster\\_kmeans.py:1416: FutureWarning: The default value of `n_init` will change from 10 to 'auto' in 1.4. Set the value of `n_init` explicitly to suppress the warning\n",
      "  super()._check_params_vs_input(X, default_n_init=10)\n",
      "C:\\ProgramData\\anaconda3\\Lib\\site-packages\\sklearn\\cluster\\_kmeans.py:1440: UserWarning: KMeans is known to have a memory leak on Windows with MKL, when there are less chunks than available threads. You can avoid it by setting the environment variable OMP_NUM_THREADS=1.\n",
      "  warnings.warn(\n",
      "C:\\ProgramData\\anaconda3\\Lib\\site-packages\\sklearn\\cluster\\_kmeans.py:1416: FutureWarning: The default value of `n_init` will change from 10 to 'auto' in 1.4. Set the value of `n_init` explicitly to suppress the warning\n",
      "  super()._check_params_vs_input(X, default_n_init=10)\n",
      "C:\\ProgramData\\anaconda3\\Lib\\site-packages\\sklearn\\cluster\\_kmeans.py:1440: UserWarning: KMeans is known to have a memory leak on Windows with MKL, when there are less chunks than available threads. You can avoid it by setting the environment variable OMP_NUM_THREADS=1.\n",
      "  warnings.warn(\n",
      "C:\\ProgramData\\anaconda3\\Lib\\site-packages\\sklearn\\cluster\\_kmeans.py:1416: FutureWarning: The default value of `n_init` will change from 10 to 'auto' in 1.4. Set the value of `n_init` explicitly to suppress the warning\n",
      "  super()._check_params_vs_input(X, default_n_init=10)\n",
      "C:\\ProgramData\\anaconda3\\Lib\\site-packages\\sklearn\\cluster\\_kmeans.py:1440: UserWarning: KMeans is known to have a memory leak on Windows with MKL, when there are less chunks than available threads. You can avoid it by setting the environment variable OMP_NUM_THREADS=1.\n",
      "  warnings.warn(\n",
      "C:\\ProgramData\\anaconda3\\Lib\\site-packages\\sklearn\\cluster\\_kmeans.py:1416: FutureWarning: The default value of `n_init` will change from 10 to 'auto' in 1.4. Set the value of `n_init` explicitly to suppress the warning\n",
      "  super()._check_params_vs_input(X, default_n_init=10)\n",
      "C:\\ProgramData\\anaconda3\\Lib\\site-packages\\sklearn\\cluster\\_kmeans.py:1440: UserWarning: KMeans is known to have a memory leak on Windows with MKL, when there are less chunks than available threads. You can avoid it by setting the environment variable OMP_NUM_THREADS=1.\n",
      "  warnings.warn(\n",
      "C:\\ProgramData\\anaconda3\\Lib\\site-packages\\sklearn\\cluster\\_kmeans.py:1416: FutureWarning: The default value of `n_init` will change from 10 to 'auto' in 1.4. Set the value of `n_init` explicitly to suppress the warning\n",
      "  super()._check_params_vs_input(X, default_n_init=10)\n",
      "C:\\ProgramData\\anaconda3\\Lib\\site-packages\\sklearn\\cluster\\_kmeans.py:1440: UserWarning: KMeans is known to have a memory leak on Windows with MKL, when there are less chunks than available threads. You can avoid it by setting the environment variable OMP_NUM_THREADS=1.\n",
      "  warnings.warn(\n",
      "C:\\ProgramData\\anaconda3\\Lib\\site-packages\\sklearn\\cluster\\_kmeans.py:1416: FutureWarning: The default value of `n_init` will change from 10 to 'auto' in 1.4. Set the value of `n_init` explicitly to suppress the warning\n",
      "  super()._check_params_vs_input(X, default_n_init=10)\n",
      "C:\\ProgramData\\anaconda3\\Lib\\site-packages\\sklearn\\cluster\\_kmeans.py:1440: UserWarning: KMeans is known to have a memory leak on Windows with MKL, when there are less chunks than available threads. You can avoid it by setting the environment variable OMP_NUM_THREADS=1.\n",
      "  warnings.warn(\n",
      "C:\\ProgramData\\anaconda3\\Lib\\site-packages\\sklearn\\cluster\\_kmeans.py:1416: FutureWarning: The default value of `n_init` will change from 10 to 'auto' in 1.4. Set the value of `n_init` explicitly to suppress the warning\n",
      "  super()._check_params_vs_input(X, default_n_init=10)\n",
      "C:\\ProgramData\\anaconda3\\Lib\\site-packages\\sklearn\\cluster\\_kmeans.py:1440: UserWarning: KMeans is known to have a memory leak on Windows with MKL, when there are less chunks than available threads. You can avoid it by setting the environment variable OMP_NUM_THREADS=1.\n",
      "  warnings.warn(\n",
      "C:\\ProgramData\\anaconda3\\Lib\\site-packages\\sklearn\\cluster\\_kmeans.py:1416: FutureWarning: The default value of `n_init` will change from 10 to 'auto' in 1.4. Set the value of `n_init` explicitly to suppress the warning\n",
      "  super()._check_params_vs_input(X, default_n_init=10)\n",
      "C:\\ProgramData\\anaconda3\\Lib\\site-packages\\sklearn\\cluster\\_kmeans.py:1440: UserWarning: KMeans is known to have a memory leak on Windows with MKL, when there are less chunks than available threads. You can avoid it by setting the environment variable OMP_NUM_THREADS=1.\n",
      "  warnings.warn(\n",
      "C:\\ProgramData\\anaconda3\\Lib\\site-packages\\sklearn\\cluster\\_kmeans.py:1416: FutureWarning: The default value of `n_init` will change from 10 to 'auto' in 1.4. Set the value of `n_init` explicitly to suppress the warning\n",
      "  super()._check_params_vs_input(X, default_n_init=10)\n",
      "C:\\ProgramData\\anaconda3\\Lib\\site-packages\\sklearn\\cluster\\_kmeans.py:1440: UserWarning: KMeans is known to have a memory leak on Windows with MKL, when there are less chunks than available threads. You can avoid it by setting the environment variable OMP_NUM_THREADS=1.\n",
      "  warnings.warn(\n"
     ]
    },
    {
     "name": "stdout",
     "output_type": "stream",
     "text": [
      "Sum of Squared Errors= [13.184122550256445, 6.596893867946196, 5.010878493006417, 3.683456153585913, 3.2498708511065924, 2.8373711751433066, 2.6092871883382704, 2.3753532801609243, 2.0638562625162082, 1.850900246143518, 1.670112234514309, 1.48211144028382, 1.3648661824036248, 1.2999896826836495, 1.1948715869439575, 1.14427282668102, 1.0274722046133686, 0.965049047259407, 0.9294661424041379, 0.8686430359698878, 0.8313998978678443, 0.7474573762548193, 0.6755829610490789, 0.6263239476808393, 0.579118291122158, 0.5336568048777836, 0.48578644420595685, 0.44512174236917323, 0.39001110795387434]\n"
     ]
    },
    {
     "name": "stderr",
     "output_type": "stream",
     "text": [
      "C:\\ProgramData\\anaconda3\\Lib\\site-packages\\sklearn\\cluster\\_kmeans.py:1416: FutureWarning: The default value of `n_init` will change from 10 to 'auto' in 1.4. Set the value of `n_init` explicitly to suppress the warning\n",
      "  super()._check_params_vs_input(X, default_n_init=10)\n",
      "C:\\ProgramData\\anaconda3\\Lib\\site-packages\\sklearn\\cluster\\_kmeans.py:1440: UserWarning: KMeans is known to have a memory leak on Windows with MKL, when there are less chunks than available threads. You can avoid it by setting the environment variable OMP_NUM_THREADS=1.\n",
      "  warnings.warn(\n"
     ]
    }
   ],
   "source": [
    "# Farklı küme sayıları için SSE (Sum of Squared Errors) hesaplayarak \n",
    "# Elbow yöntemi ile optimum küme sayısını belirleme\n",
    "\n",
    "kmeans = KMeans()\n",
    "ssd = []\n",
    "K = range(1, 30)\n",
    "\n",
    "# Her bir K değeri için KMeans modelini eğitme\n",
    "for k in K:\n",
    "    kmeans = KMeans(n_clusters=k).fit(df)\n",
    "    # Her k değeri için oluşturulan modelde elde edilen inertia değerini\n",
    "    # ssd dizinie aktardık.\n",
    "    ssd.append(kmeans.inertia_)\n",
    "\n",
    "# SSD değerlerini yazdırdık.\n",
    "print(\"Sum of Squared Errors=\",ssd)"
   ]
  },
  {
   "cell_type": "markdown",
   "id": "6dcb0e9c",
   "metadata": {},
   "source": [
    "Burdan yorum yapmak zor gözüküyor o yüzden grafik incelemesi yapalım;"
   ]
  },
  {
   "cell_type": "code",
   "execution_count": 15,
   "id": "819ef243",
   "metadata": {},
   "outputs": [
    {
     "data": {
      "image/png": "[encoded data removed]",
      "text/plain": [
       "<Figure size 800x550 with 1 Axes>"
      ]
     },
     "metadata": {},
     "output_type": "display_data"
    }
   ],
   "source": [
    "# Elbow yöntemi grafiği\n",
    "plt.plot(K, ssd, \"bx-\")\n",
    "plt.xlabel(\"Farklı K Değerlerine Karşılık SSE/SSR/SSD\")\n",
    "plt.title(\"Optimum Küme sayısı için Elbow Yöntemi\")\n",
    "plt.show()"
   ]
  },
  {
   "cell_type": "markdown",
   "id": "7db65ea1",
   "metadata": {},
   "source": [
    "Direkselenmenin başladığı nokta küme sayısı olarak seçileceğini söylemiştik. Grafiği incelediğimizde dirseklenme 4-6 arasında başlıyor gibi gözüküyor. Bu işlem için daha kesin bir yöntem var onu uygulayalım; "
   ]
  },
  {
   "cell_type": "code",
   "execution_count": 16,
   "id": "378d6da5",
   "metadata": {
    "scrolled": true
   },
   "outputs": [
    {
     "name": "stderr",
     "output_type": "stream",
     "text": [
      "C:\\ProgramData\\anaconda3\\Lib\\site-packages\\sklearn\\cluster\\_kmeans.py:1416: FutureWarning: The default value of `n_init` will change from 10 to 'auto' in 1.4. Set the value of `n_init` explicitly to suppress the warning\n",
      "  super()._check_params_vs_input(X, default_n_init=10)\n",
      "C:\\ProgramData\\anaconda3\\Lib\\site-packages\\sklearn\\cluster\\_kmeans.py:1440: UserWarning: KMeans is known to have a memory leak on Windows with MKL, when there are less chunks than available threads. You can avoid it by setting the environment variable OMP_NUM_THREADS=1.\n",
      "  warnings.warn(\n",
      "C:\\ProgramData\\anaconda3\\Lib\\site-packages\\sklearn\\cluster\\_kmeans.py:1416: FutureWarning: The default value of `n_init` will change from 10 to 'auto' in 1.4. Set the value of `n_init` explicitly to suppress the warning\n",
      "  super()._check_params_vs_input(X, default_n_init=10)\n",
      "C:\\ProgramData\\anaconda3\\Lib\\site-packages\\sklearn\\cluster\\_kmeans.py:1440: UserWarning: KMeans is known to have a memory leak on Windows with MKL, when there are less chunks than available threads. You can avoid it by setting the environment variable OMP_NUM_THREADS=1.\n",
      "  warnings.warn(\n",
      "C:\\ProgramData\\anaconda3\\Lib\\site-packages\\sklearn\\cluster\\_kmeans.py:1416: FutureWarning: The default value of `n_init` will change from 10 to 'auto' in 1.4. Set the value of `n_init` explicitly to suppress the warning\n",
      "  super()._check_params_vs_input(X, default_n_init=10)\n",
      "C:\\ProgramData\\anaconda3\\Lib\\site-packages\\sklearn\\cluster\\_kmeans.py:1440: UserWarning: KMeans is known to have a memory leak on Windows with MKL, when there are less chunks than available threads. You can avoid it by setting the environment variable OMP_NUM_THREADS=1.\n",
      "  warnings.warn(\n",
      "C:\\ProgramData\\anaconda3\\Lib\\site-packages\\sklearn\\cluster\\_kmeans.py:1416: FutureWarning: The default value of `n_init` will change from 10 to 'auto' in 1.4. Set the value of `n_init` explicitly to suppress the warning\n",
      "  super()._check_params_vs_input(X, default_n_init=10)\n",
      "C:\\ProgramData\\anaconda3\\Lib\\site-packages\\sklearn\\cluster\\_kmeans.py:1440: UserWarning: KMeans is known to have a memory leak on Windows with MKL, when there are less chunks than available threads. You can avoid it by setting the environment variable OMP_NUM_THREADS=1.\n",
      "  warnings.warn(\n",
      "C:\\ProgramData\\anaconda3\\Lib\\site-packages\\sklearn\\cluster\\_kmeans.py:1416: FutureWarning: The default value of `n_init` will change from 10 to 'auto' in 1.4. Set the value of `n_init` explicitly to suppress the warning\n",
      "  super()._check_params_vs_input(X, default_n_init=10)\n",
      "C:\\ProgramData\\anaconda3\\Lib\\site-packages\\sklearn\\cluster\\_kmeans.py:1440: UserWarning: KMeans is known to have a memory leak on Windows with MKL, when there are less chunks than available threads. You can avoid it by setting the environment variable OMP_NUM_THREADS=1.\n",
      "  warnings.warn(\n",
      "C:\\ProgramData\\anaconda3\\Lib\\site-packages\\sklearn\\cluster\\_kmeans.py:1416: FutureWarning: The default value of `n_init` will change from 10 to 'auto' in 1.4. Set the value of `n_init` explicitly to suppress the warning\n",
      "  super()._check_params_vs_input(X, default_n_init=10)\n",
      "C:\\ProgramData\\anaconda3\\Lib\\site-packages\\sklearn\\cluster\\_kmeans.py:1440: UserWarning: KMeans is known to have a memory leak on Windows with MKL, when there are less chunks than available threads. You can avoid it by setting the environment variable OMP_NUM_THREADS=1.\n",
      "  warnings.warn(\n",
      "C:\\ProgramData\\anaconda3\\Lib\\site-packages\\sklearn\\cluster\\_kmeans.py:1416: FutureWarning: The default value of `n_init` will change from 10 to 'auto' in 1.4. Set the value of `n_init` explicitly to suppress the warning\n",
      "  super()._check_params_vs_input(X, default_n_init=10)\n",
      "C:\\ProgramData\\anaconda3\\Lib\\site-packages\\sklearn\\cluster\\_kmeans.py:1440: UserWarning: KMeans is known to have a memory leak on Windows with MKL, when there are less chunks than available threads. You can avoid it by setting the environment variable OMP_NUM_THREADS=1.\n",
      "  warnings.warn(\n",
      "C:\\ProgramData\\anaconda3\\Lib\\site-packages\\sklearn\\cluster\\_kmeans.py:1416: FutureWarning: The default value of `n_init` will change from 10 to 'auto' in 1.4. Set the value of `n_init` explicitly to suppress the warning\n",
      "  super()._check_params_vs_input(X, default_n_init=10)\n",
      "C:\\ProgramData\\anaconda3\\Lib\\site-packages\\sklearn\\cluster\\_kmeans.py:1440: UserWarning: KMeans is known to have a memory leak on Windows with MKL, when there are less chunks than available threads. You can avoid it by setting the environment variable OMP_NUM_THREADS=1.\n",
      "  warnings.warn(\n",
      "C:\\ProgramData\\anaconda3\\Lib\\site-packages\\sklearn\\cluster\\_kmeans.py:1416: FutureWarning: The default value of `n_init` will change from 10 to 'auto' in 1.4. Set the value of `n_init` explicitly to suppress the warning\n",
      "  super()._check_params_vs_input(X, default_n_init=10)\n",
      "C:\\ProgramData\\anaconda3\\Lib\\site-packages\\sklearn\\cluster\\_kmeans.py:1440: UserWarning: KMeans is known to have a memory leak on Windows with MKL, when there are less chunks than available threads. You can avoid it by setting the environment variable OMP_NUM_THREADS=1.\n",
      "  warnings.warn(\n",
      "C:\\ProgramData\\anaconda3\\Lib\\site-packages\\sklearn\\cluster\\_kmeans.py:1416: FutureWarning: The default value of `n_init` will change from 10 to 'auto' in 1.4. Set the value of `n_init` explicitly to suppress the warning\n",
      "  super()._check_params_vs_input(X, default_n_init=10)\n",
      "C:\\ProgramData\\anaconda3\\Lib\\site-packages\\sklearn\\cluster\\_kmeans.py:1440: UserWarning: KMeans is known to have a memory leak on Windows with MKL, when there are less chunks than available threads. You can avoid it by setting the environment variable OMP_NUM_THREADS=1.\n",
      "  warnings.warn(\n",
      "C:\\ProgramData\\anaconda3\\Lib\\site-packages\\sklearn\\cluster\\_kmeans.py:1416: FutureWarning: The default value of `n_init` will change from 10 to 'auto' in 1.4. Set the value of `n_init` explicitly to suppress the warning\n",
      "  super()._check_params_vs_input(X, default_n_init=10)\n",
      "C:\\ProgramData\\anaconda3\\Lib\\site-packages\\sklearn\\cluster\\_kmeans.py:1440: UserWarning: KMeans is known to have a memory leak on Windows with MKL, when there are less chunks than available threads. You can avoid it by setting the environment variable OMP_NUM_THREADS=1.\n",
      "  warnings.warn(\n",
      "C:\\ProgramData\\anaconda3\\Lib\\site-packages\\sklearn\\cluster\\_kmeans.py:1416: FutureWarning: The default value of `n_init` will change from 10 to 'auto' in 1.4. Set the value of `n_init` explicitly to suppress the warning\n",
      "  super()._check_params_vs_input(X, default_n_init=10)\n",
      "C:\\ProgramData\\anaconda3\\Lib\\site-packages\\sklearn\\cluster\\_kmeans.py:1440: UserWarning: KMeans is known to have a memory leak on Windows with MKL, when there are less chunks than available threads. You can avoid it by setting the environment variable OMP_NUM_THREADS=1.\n",
      "  warnings.warn(\n",
      "C:\\ProgramData\\anaconda3\\Lib\\site-packages\\sklearn\\cluster\\_kmeans.py:1416: FutureWarning: The default value of `n_init` will change from 10 to 'auto' in 1.4. Set the value of `n_init` explicitly to suppress the warning\n",
      "  super()._check_params_vs_input(X, default_n_init=10)\n",
      "C:\\ProgramData\\anaconda3\\Lib\\site-packages\\sklearn\\cluster\\_kmeans.py:1440: UserWarning: KMeans is known to have a memory leak on Windows with MKL, when there are less chunks than available threads. You can avoid it by setting the environment variable OMP_NUM_THREADS=1.\n",
      "  warnings.warn(\n",
      "C:\\ProgramData\\anaconda3\\Lib\\site-packages\\sklearn\\cluster\\_kmeans.py:1416: FutureWarning: The default value of `n_init` will change from 10 to 'auto' in 1.4. Set the value of `n_init` explicitly to suppress the warning\n",
      "  super()._check_params_vs_input(X, default_n_init=10)\n",
      "C:\\ProgramData\\anaconda3\\Lib\\site-packages\\sklearn\\cluster\\_kmeans.py:1440: UserWarning: KMeans is known to have a memory leak on Windows with MKL, when there are less chunks than available threads. You can avoid it by setting the environment variable OMP_NUM_THREADS=1.\n",
      "  warnings.warn(\n",
      "C:\\ProgramData\\anaconda3\\Lib\\site-packages\\sklearn\\cluster\\_kmeans.py:1416: FutureWarning: The default value of `n_init` will change from 10 to 'auto' in 1.4. Set the value of `n_init` explicitly to suppress the warning\n",
      "  super()._check_params_vs_input(X, default_n_init=10)\n",
      "C:\\ProgramData\\anaconda3\\Lib\\site-packages\\sklearn\\cluster\\_kmeans.py:1440: UserWarning: KMeans is known to have a memory leak on Windows with MKL, when there are less chunks than available threads. You can avoid it by setting the environment variable OMP_NUM_THREADS=1.\n",
      "  warnings.warn(\n",
      "C:\\ProgramData\\anaconda3\\Lib\\site-packages\\sklearn\\cluster\\_kmeans.py:1416: FutureWarning: The default value of `n_init` will change from 10 to 'auto' in 1.4. Set the value of `n_init` explicitly to suppress the warning\n",
      "  super()._check_params_vs_input(X, default_n_init=10)\n",
      "C:\\ProgramData\\anaconda3\\Lib\\site-packages\\sklearn\\cluster\\_kmeans.py:1440: UserWarning: KMeans is known to have a memory leak on Windows with MKL, when there are less chunks than available threads. You can avoid it by setting the environment variable OMP_NUM_THREADS=1.\n",
      "  warnings.warn(\n"
     ]
    },
    {
     "name": "stderr",
     "output_type": "stream",
     "text": [
      "C:\\ProgramData\\anaconda3\\Lib\\site-packages\\sklearn\\cluster\\_kmeans.py:1416: FutureWarning: The default value of `n_init` will change from 10 to 'auto' in 1.4. Set the value of `n_init` explicitly to suppress the warning\n",
      "  super()._check_params_vs_input(X, default_n_init=10)\n",
      "C:\\ProgramData\\anaconda3\\Lib\\site-packages\\sklearn\\cluster\\_kmeans.py:1440: UserWarning: KMeans is known to have a memory leak on Windows with MKL, when there are less chunks than available threads. You can avoid it by setting the environment variable OMP_NUM_THREADS=1.\n",
      "  warnings.warn(\n",
      "C:\\ProgramData\\anaconda3\\Lib\\site-packages\\sklearn\\cluster\\_kmeans.py:1416: FutureWarning: The default value of `n_init` will change from 10 to 'auto' in 1.4. Set the value of `n_init` explicitly to suppress the warning\n",
      "  super()._check_params_vs_input(X, default_n_init=10)\n",
      "C:\\ProgramData\\anaconda3\\Lib\\site-packages\\sklearn\\cluster\\_kmeans.py:1440: UserWarning: KMeans is known to have a memory leak on Windows with MKL, when there are less chunks than available threads. You can avoid it by setting the environment variable OMP_NUM_THREADS=1.\n",
      "  warnings.warn(\n"
     ]
    },
    {
     "data": {
      "image/png": "[encoded data removed]",
      "text/plain": [
       "<Figure size 800x550 with 2 Axes>"
      ]
     },
     "metadata": {},
     "output_type": "display_data"
    },
    {
     "data": {
      "text/plain": [
       "5"
      ]
     },
     "execution_count": 16,
     "metadata": {},
     "output_type": "execute_result"
    }
   ],
   "source": [
    "# Elbow yöntemi ile optimum küme sayısını gösteren görselleştirme\n",
    "kmeans = KMeans()\n",
    "elbow = KElbowVisualizer(kmeans, k=(2, 20))\n",
    "elbow.fit(df)\n",
    "elbow.show()\n",
    "\n",
    "# Elbow yöntemi ile bulunan optimum küme sayısı\n",
    "elbow.elbow_value_\n"
   ]
  },
  {
   "cell_type": "markdown",
   "id": "5bb7c9dd",
   "metadata": {},
   "source": [
    "Grafikten görebileceğimiz gibi **optimum küme sayımız 6** olarak belirlenmiştir."
   ]
  },
  {
   "cell_type": "markdown",
   "id": "451e094d",
   "metadata": {},
   "source": [
    "## Final Cluster'ların Oluşturulması"
   ]
  },
  {
   "cell_type": "code",
   "execution_count": 17,
   "id": "96d58ebb",
   "metadata": {},
   "outputs": [
    {
     "name": "stderr",
     "output_type": "stream",
     "text": [
      "C:\\ProgramData\\anaconda3\\Lib\\site-packages\\sklearn\\cluster\\_kmeans.py:1416: FutureWarning: The default value of `n_init` will change from 10 to 'auto' in 1.4. Set the value of `n_init` explicitly to suppress the warning\n",
      "  super()._check_params_vs_input(X, default_n_init=10)\n",
      "C:\\ProgramData\\anaconda3\\Lib\\site-packages\\sklearn\\cluster\\_kmeans.py:1440: UserWarning: KMeans is known to have a memory leak on Windows with MKL, when there are less chunks than available threads. You can avoid it by setting the environment variable OMP_NUM_THREADS=1.\n",
      "  warnings.warn(\n"
     ]
    }
   ],
   "source": [
    "# Elbow yöntemi ile belirlenen optimum küme sayısı ile KMeans modelini eğitme\n",
    "kmeans = KMeans(n_clusters=elbow.elbow_value_).fit(df)\n"
   ]
  },
  {
   "cell_type": "code",
   "execution_count": 18,
   "id": "6206041c",
   "metadata": {
    "scrolled": true
   },
   "outputs": [
    {
     "name": "stdout",
     "output_type": "stream",
     "text": [
      "Number of clusters: 5\n",
      "\n",
      "Cluster Centers:\n",
      "[[0.25033467 0.27549467 0.81544256 0.27103072]\n",
      " [0.3939759  0.38356164 0.53050847 0.33953488]\n",
      " [0.13805221 0.10616438 0.34039548 0.1171404 ]\n",
      " [0.83562823 0.70645793 0.37772397 0.37172388]\n",
      " [0.6124498  0.75       0.75423729 0.67980189]]\n",
      "\n",
      "Cluster Labels:\n",
      "[3 4 4 1 4 4 0 1 4 3 0 2 4 1 2 1 1 3 2 4 0 4 2 3 1 2 2 4 2 0 4 4 3 2 0 1 1\n",
      " 0 0 3 2 3 4 0 2 1 0 2 2 1]\n"
     ]
    }
   ],
   "source": [
    "# KMeans modelinin özellikleri\n",
    "print(\"Number of clusters:\", kmeans.n_clusters)\n",
    "print(\"\\nCluster Centers:\")\n",
    "print(kmeans.cluster_centers_)\n",
    "print(\"\\nCluster Labels:\")\n",
    "print(kmeans.labels_)\n"
   ]
  },
  {
   "cell_type": "code",
   "execution_count": 19,
   "id": "dfa34f71",
   "metadata": {},
   "outputs": [
    {
     "data": {
      "text/plain": [
       "array([[0.74698795, 0.65410959, 0.44067797, 0.35917313],\n",
       "       [0.55421687, 0.74657534, 0.27118644, 0.96124031],\n",
       "       [0.43975904, 0.85273973, 0.81355932, 0.6124031 ],\n",
       "       [0.48192771, 0.49657534, 0.30508475, 0.31524548],\n",
       "       [0.4939759 , 0.79109589, 1.        , 0.86046512]])"
      ]
     },
     "execution_count": 19,
     "metadata": {},
     "output_type": "execute_result"
    }
   ],
   "source": [
    "# Veri setinin ilk 5 gözlemi ve bu gözlemlerin tahmini küme etiketleri\n",
    "df[0:5]\n"
   ]
  },
  {
   "cell_type": "markdown",
   "id": "a518085e",
   "metadata": {},
   "source": [
    "Hangi eyalet hangi sınıfda olduğunu bilmiyoruz. Hem gözlem birimlerinin ismi yok hem de hangi gözlem biriminin hangi sınıfa ait olduğu bilgisi yok. Bunları düzenlememiz gerekiyor."
   ]
  },
  {
   "cell_type": "code",
   "execution_count": 20,
   "id": "f1894523",
   "metadata": {},
   "outputs": [
    {
     "data": {
      "text/html": [
       "<div>\n",
       "<style scoped>\n",
       "    .dataframe tbody tr th:only-of-type {\n",
       "        vertical-align: middle;\n",
       "    }\n",
       "\n",
       "    .dataframe tbody tr th {\n",
       "        vertical-align: top;\n",
       "    }\n",
       "\n",
       "    .dataframe thead th {\n",
       "        text-align: right;\n",
       "    }\n",
       "</style>\n",
       "<table border=\"1\" class=\"dataframe\">\n",
       "  <thead>\n",
       "    <tr style=\"text-align: right;\">\n",
       "      <th></th>\n",
       "      <th>Murder</th>\n",
       "      <th>Assault</th>\n",
       "      <th>UrbanPop</th>\n",
       "      <th>Rape</th>\n",
       "      <th>cluster</th>\n",
       "    </tr>\n",
       "  </thead>\n",
       "  <tbody>\n",
       "    <tr>\n",
       "      <th>Alabama</th>\n",
       "      <td>13.2</td>\n",
       "      <td>236</td>\n",
       "      <td>58</td>\n",
       "      <td>21.2</td>\n",
       "      <td>3</td>\n",
       "    </tr>\n",
       "    <tr>\n",
       "      <th>Alaska</th>\n",
       "      <td>10.0</td>\n",
       "      <td>263</td>\n",
       "      <td>48</td>\n",
       "      <td>44.5</td>\n",
       "      <td>4</td>\n",
       "    </tr>\n",
       "    <tr>\n",
       "      <th>Arizona</th>\n",
       "      <td>8.1</td>\n",
       "      <td>294</td>\n",
       "      <td>80</td>\n",
       "      <td>31.0</td>\n",
       "      <td>4</td>\n",
       "    </tr>\n",
       "    <tr>\n",
       "      <th>Arkansas</th>\n",
       "      <td>8.8</td>\n",
       "      <td>190</td>\n",
       "      <td>50</td>\n",
       "      <td>19.5</td>\n",
       "      <td>1</td>\n",
       "    </tr>\n",
       "    <tr>\n",
       "      <th>California</th>\n",
       "      <td>9.0</td>\n",
       "      <td>276</td>\n",
       "      <td>91</td>\n",
       "      <td>40.6</td>\n",
       "      <td>4</td>\n",
       "    </tr>\n",
       "  </tbody>\n",
       "</table>\n",
       "</div>"
      ],
      "text/plain": [
       "            Murder  Assault  UrbanPop  Rape  cluster\n",
       "Alabama       13.2      236        58  21.2        3\n",
       "Alaska        10.0      263        48  44.5        4\n",
       "Arizona        8.1      294        80  31.0        4\n",
       "Arkansas       8.8      190        50  19.5        1\n",
       "California     9.0      276        91  40.6        4"
      ]
     },
     "execution_count": 20,
     "metadata": {},
     "output_type": "execute_result"
    }
   ],
   "source": [
    "# KMeans ile tahmin edilen küme etiketlerini saklama\n",
    "clusters_kmeans = kmeans.labels_\n",
    "\n",
    "# Veri setini tekrar yükleme\n",
    "df = pd.read_csv(\"datasets/USArrests.csv\", index_col=0)\n",
    "\n",
    "# Veri setine tahmin edilen küme etiketlerini ekleyerek gözlemleme\n",
    "df[\"cluster\"] = clusters_kmeans\n",
    "\n",
    "# Veri setini gözlemleyelim\n",
    "df.head()"
   ]
  },
  {
   "cell_type": "markdown",
   "id": "29c84e86",
   "metadata": {},
   "source": [
    "Görüldüğü üzere clusterlar geldi. Şimdi Hangi eyalet hangi clusterda bunu görelim;"
   ]
  },
  {
   "cell_type": "code",
   "execution_count": 21,
   "id": "3ba810c3",
   "metadata": {},
   "outputs": [
    {
     "data": {
      "text/html": [
       "<div>\n",
       "<style scoped>\n",
       "    .dataframe tbody tr th:only-of-type {\n",
       "        vertical-align: middle;\n",
       "    }\n",
       "\n",
       "    .dataframe tbody tr th {\n",
       "        vertical-align: top;\n",
       "    }\n",
       "\n",
       "    .dataframe thead th {\n",
       "        text-align: right;\n",
       "    }\n",
       "</style>\n",
       "<table border=\"1\" class=\"dataframe\">\n",
       "  <thead>\n",
       "    <tr style=\"text-align: right;\">\n",
       "      <th></th>\n",
       "      <th>Murder</th>\n",
       "      <th>Assault</th>\n",
       "      <th>UrbanPop</th>\n",
       "      <th>Rape</th>\n",
       "      <th>cluster</th>\n",
       "    </tr>\n",
       "  </thead>\n",
       "  <tbody>\n",
       "    <tr>\n",
       "      <th>Alaska</th>\n",
       "      <td>10.0</td>\n",
       "      <td>263</td>\n",
       "      <td>48</td>\n",
       "      <td>44.5</td>\n",
       "      <td>5</td>\n",
       "    </tr>\n",
       "    <tr>\n",
       "      <th>Arizona</th>\n",
       "      <td>8.1</td>\n",
       "      <td>294</td>\n",
       "      <td>80</td>\n",
       "      <td>31.0</td>\n",
       "      <td>5</td>\n",
       "    </tr>\n",
       "    <tr>\n",
       "      <th>California</th>\n",
       "      <td>9.0</td>\n",
       "      <td>276</td>\n",
       "      <td>91</td>\n",
       "      <td>40.6</td>\n",
       "      <td>5</td>\n",
       "    </tr>\n",
       "    <tr>\n",
       "      <th>Colorado</th>\n",
       "      <td>7.9</td>\n",
       "      <td>204</td>\n",
       "      <td>78</td>\n",
       "      <td>38.7</td>\n",
       "      <td>5</td>\n",
       "    </tr>\n",
       "    <tr>\n",
       "      <th>Florida</th>\n",
       "      <td>15.4</td>\n",
       "      <td>335</td>\n",
       "      <td>80</td>\n",
       "      <td>31.9</td>\n",
       "      <td>5</td>\n",
       "    </tr>\n",
       "    <tr>\n",
       "      <th>Illinois</th>\n",
       "      <td>10.4</td>\n",
       "      <td>249</td>\n",
       "      <td>83</td>\n",
       "      <td>24.0</td>\n",
       "      <td>5</td>\n",
       "    </tr>\n",
       "    <tr>\n",
       "      <th>Maryland</th>\n",
       "      <td>11.3</td>\n",
       "      <td>300</td>\n",
       "      <td>67</td>\n",
       "      <td>27.8</td>\n",
       "      <td>5</td>\n",
       "    </tr>\n",
       "    <tr>\n",
       "      <th>Michigan</th>\n",
       "      <td>12.1</td>\n",
       "      <td>255</td>\n",
       "      <td>74</td>\n",
       "      <td>35.1</td>\n",
       "      <td>5</td>\n",
       "    </tr>\n",
       "    <tr>\n",
       "      <th>Nevada</th>\n",
       "      <td>12.2</td>\n",
       "      <td>252</td>\n",
       "      <td>81</td>\n",
       "      <td>46.0</td>\n",
       "      <td>5</td>\n",
       "    </tr>\n",
       "    <tr>\n",
       "      <th>New Mexico</th>\n",
       "      <td>11.4</td>\n",
       "      <td>285</td>\n",
       "      <td>70</td>\n",
       "      <td>32.1</td>\n",
       "      <td>5</td>\n",
       "    </tr>\n",
       "    <tr>\n",
       "      <th>New York</th>\n",
       "      <td>11.1</td>\n",
       "      <td>254</td>\n",
       "      <td>86</td>\n",
       "      <td>26.1</td>\n",
       "      <td>5</td>\n",
       "    </tr>\n",
       "    <tr>\n",
       "      <th>Texas</th>\n",
       "      <td>12.7</td>\n",
       "      <td>201</td>\n",
       "      <td>80</td>\n",
       "      <td>25.5</td>\n",
       "      <td>5</td>\n",
       "    </tr>\n",
       "  </tbody>\n",
       "</table>\n",
       "</div>"
      ],
      "text/plain": [
       "            Murder  Assault  UrbanPop  Rape  cluster\n",
       "Alaska        10.0      263        48  44.5        5\n",
       "Arizona        8.1      294        80  31.0        5\n",
       "California     9.0      276        91  40.6        5\n",
       "Colorado       7.9      204        78  38.7        5\n",
       "Florida       15.4      335        80  31.9        5\n",
       "Illinois      10.4      249        83  24.0        5\n",
       "Maryland      11.3      300        67  27.8        5\n",
       "Michigan      12.1      255        74  35.1        5\n",
       "Nevada        12.2      252        81  46.0        5\n",
       "New Mexico    11.4      285        70  32.1        5\n",
       "New York      11.1      254        86  26.1        5\n",
       "Texas         12.7      201        80  25.5        5"
      ]
     },
     "execution_count": 21,
     "metadata": {},
     "output_type": "execute_result"
    }
   ],
   "source": [
    "# Küme etiketlerini 1'den başlatma\n",
    "df[\"cluster\"] = df[\"cluster\"] + 1\n",
    "\n",
    "# Belirli bir küme etiketine sahip gözlemleri filtreleme\n",
    "df[df[\"cluster\"]==5]"
   ]
  },
  {
   "cell_type": "markdown",
   "id": "79de2e71",
   "metadata": {},
   "source": [
    "Sadece 5. kümeye ait olan bilgiler yukarıda yer almakdatır. Şimdi ise tüm kümelere hakkında yorum yapabilmek için istatistiksel bilglerini inceleyelim."
   ]
  },
  {
   "cell_type": "code",
   "execution_count": 22,
   "id": "5767e0a8",
   "metadata": {},
   "outputs": [
    {
     "data": {
      "text/html": [
       "<div>\n",
       "<style scoped>\n",
       "    .dataframe tbody tr th:only-of-type {\n",
       "        vertical-align: middle;\n",
       "    }\n",
       "\n",
       "    .dataframe tbody tr th {\n",
       "        vertical-align: top;\n",
       "    }\n",
       "\n",
       "    .dataframe thead tr th {\n",
       "        text-align: left;\n",
       "    }\n",
       "\n",
       "    .dataframe thead tr:last-of-type th {\n",
       "        text-align: right;\n",
       "    }\n",
       "</style>\n",
       "<table border=\"1\" class=\"dataframe\">\n",
       "  <thead>\n",
       "    <tr>\n",
       "      <th></th>\n",
       "      <th colspan=\"3\" halign=\"left\">Murder</th>\n",
       "      <th colspan=\"3\" halign=\"left\">Assault</th>\n",
       "      <th colspan=\"3\" halign=\"left\">UrbanPop</th>\n",
       "      <th colspan=\"3\" halign=\"left\">Rape</th>\n",
       "    </tr>\n",
       "    <tr>\n",
       "      <th></th>\n",
       "      <th>count</th>\n",
       "      <th>mean</th>\n",
       "      <th>median</th>\n",
       "      <th>count</th>\n",
       "      <th>mean</th>\n",
       "      <th>median</th>\n",
       "      <th>count</th>\n",
       "      <th>mean</th>\n",
       "      <th>median</th>\n",
       "      <th>count</th>\n",
       "      <th>mean</th>\n",
       "      <th>median</th>\n",
       "    </tr>\n",
       "    <tr>\n",
       "      <th>cluster</th>\n",
       "      <th></th>\n",
       "      <th></th>\n",
       "      <th></th>\n",
       "      <th></th>\n",
       "      <th></th>\n",
       "      <th></th>\n",
       "      <th></th>\n",
       "      <th></th>\n",
       "      <th></th>\n",
       "      <th></th>\n",
       "      <th></th>\n",
       "      <th></th>\n",
       "    </tr>\n",
       "  </thead>\n",
       "  <tbody>\n",
       "    <tr>\n",
       "      <th>1</th>\n",
       "      <td>9</td>\n",
       "      <td>4.955556</td>\n",
       "      <td>4.4</td>\n",
       "      <td>9</td>\n",
       "      <td>125.444444</td>\n",
       "      <td>120.0</td>\n",
       "      <td>9</td>\n",
       "      <td>80.111111</td>\n",
       "      <td>80.0</td>\n",
       "      <td>9</td>\n",
       "      <td>17.788889</td>\n",
       "      <td>18.80</td>\n",
       "    </tr>\n",
       "    <tr>\n",
       "      <th>2</th>\n",
       "      <td>10</td>\n",
       "      <td>7.340000</td>\n",
       "      <td>7.0</td>\n",
       "      <td>10</td>\n",
       "      <td>157.000000</td>\n",
       "      <td>157.5</td>\n",
       "      <td>10</td>\n",
       "      <td>63.300000</td>\n",
       "      <td>65.5</td>\n",
       "      <td>10</td>\n",
       "      <td>20.440000</td>\n",
       "      <td>19.75</td>\n",
       "    </tr>\n",
       "    <tr>\n",
       "      <th>3</th>\n",
       "      <td>12</td>\n",
       "      <td>3.091667</td>\n",
       "      <td>2.6</td>\n",
       "      <td>12</td>\n",
       "      <td>76.000000</td>\n",
       "      <td>76.5</td>\n",
       "      <td>12</td>\n",
       "      <td>52.083333</td>\n",
       "      <td>53.5</td>\n",
       "      <td>12</td>\n",
       "      <td>11.833333</td>\n",
       "      <td>11.25</td>\n",
       "    </tr>\n",
       "    <tr>\n",
       "      <th>4</th>\n",
       "      <td>7</td>\n",
       "      <td>14.671429</td>\n",
       "      <td>14.4</td>\n",
       "      <td>7</td>\n",
       "      <td>251.285714</td>\n",
       "      <td>249.0</td>\n",
       "      <td>7</td>\n",
       "      <td>54.285714</td>\n",
       "      <td>58.0</td>\n",
       "      <td>7</td>\n",
       "      <td>21.685714</td>\n",
       "      <td>22.20</td>\n",
       "    </tr>\n",
       "    <tr>\n",
       "      <th>5</th>\n",
       "      <td>12</td>\n",
       "      <td>10.966667</td>\n",
       "      <td>11.2</td>\n",
       "      <td>12</td>\n",
       "      <td>264.000000</td>\n",
       "      <td>259.0</td>\n",
       "      <td>12</td>\n",
       "      <td>76.500000</td>\n",
       "      <td>80.0</td>\n",
       "      <td>12</td>\n",
       "      <td>33.608333</td>\n",
       "      <td>32.00</td>\n",
       "    </tr>\n",
       "  </tbody>\n",
       "</table>\n",
       "</div>"
      ],
      "text/plain": [
       "        Murder                   Assault                    UrbanPop  \\\n",
       "         count       mean median   count        mean median    count   \n",
       "cluster                                                                \n",
       "1            9   4.955556    4.4       9  125.444444  120.0        9   \n",
       "2           10   7.340000    7.0      10  157.000000  157.5       10   \n",
       "3           12   3.091667    2.6      12   76.000000   76.5       12   \n",
       "4            7  14.671429   14.4       7  251.285714  249.0        7   \n",
       "5           12  10.966667   11.2      12  264.000000  259.0       12   \n",
       "\n",
       "                           Rape                    \n",
       "              mean median count       mean median  \n",
       "cluster                                            \n",
       "1        80.111111   80.0     9  17.788889  18.80  \n",
       "2        63.300000   65.5    10  20.440000  19.75  \n",
       "3        52.083333   53.5    12  11.833333  11.25  \n",
       "4        54.285714   58.0     7  21.685714  22.20  \n",
       "5        76.500000   80.0    12  33.608333  32.00  "
      ]
     },
     "execution_count": 22,
     "metadata": {},
     "output_type": "execute_result"
    }
   ],
   "source": [
    "# Küme bazında istatistiksel bilgileri gösterme\n",
    "df.groupby(\"cluster\").agg([\"count\",\"mean\",\"median\"])"
   ]
  },
  {
   "cell_type": "code",
   "execution_count": 23,
   "id": "309a830f",
   "metadata": {},
   "outputs": [],
   "source": [
    "# Oluşturulan küme etiketlerini içeren veri setini CSV dosyasına kaydetme\n",
    "df.to_csv(\"clusters.csv\")"
   ]
  },
  {
   "cell_type": "markdown",
   "id": "7fda41a0",
   "metadata": {},
   "source": [
    "Aynı veri seti üzerinden birde hiyerarşik kümeleme yöntemini uygulayalım"
   ]
  },
  {
   "cell_type": "markdown",
   "id": "c44d16af",
   "metadata": {},
   "source": [
    "# Hierarchical Clustering \n",
    "\n",
    "Hierarchical Clustering (Hiyerarşik Kümeleme), bir veri setindeki benzer örnekleri gruplandırmak için kullanılan bir kümeleme algoritmasıdır. Bu algoritma, veri noktalarını bir hiyerarşiye göre düzenleyerek çalışır. Bu hiyerarşi genellikle bir ağaç yapısı olarak temsil edilir ve bu nedenle bu yöntem ağaç benzeri bir yapı oluşturduğu için \"hiyerarşik\" olarak adlandırılır.\n",
    "\n",
    "Hierarchical Clustering, iki ana türde uygulanabilir:\n",
    "\n",
    "1. **Agglomerative (Birleştirici) Hierarchical Clustering:**\n",
    "   - Her veri noktasını bir küme olarak başlatır ve ardından benzer olan küme veya veri noktalarını birleştirir.\n",
    "   - Adım adım küme birleştirmesi yaparak, tüm veri noktalarını veya kümeleme sonlandırma kriterini karşılayana kadar devam eder.\n",
    "   - Sonuç olarak, bir ağaç yapısı elde edilir, bu ağaç yapısında en alt düzeydeki düğümler veri noktalarını, en üst düzeydeki düğümler ise tüm veri setini temsil eder.\n",
    "\n",
    "2. **Divisive (Bölücü) Hierarchical Clustering:**\n",
    "   - Tüm veri setini tek bir küme olarak başlatır ve ardından bu küme içindeki en uzak veya en farklı örnekleri ayırarak alt kümeler oluşturur.\n",
    "   - Adım adım küme bölmesi yaparak, tüm veri noktalarını veya kümeleme sonlandırma kriterini karşılayana kadar devam eder.\n",
    "   - Sonuç olarak, bir ağaç yapısı elde edilir, bu ağaç yapısında en üst düzeydeki düğüm tüm veri setini, en alt düzeydeki düğümler ise veri noktalarını temsil eder.\n",
    "\n",
    "Hierarchical Clustering, kümeleme sonuçlarını görselleştirmek ve kümeleme için optimum sayıda küme seçimini yapmak gibi avantajlar sağlar. Ancak, büyük veri setlerinde hesaplama maliyeti nedeniyle pratikte bazen sınırlı kullanılabilir."
   ]
  },
  {
   "cell_type": "code",
   "execution_count": 24,
   "id": "18de8046",
   "metadata": {},
   "outputs": [
    {
     "data": {
      "image/png": "[encoded data removed]",
      "text/plain": [
       "<Figure size 1000x500 with 1 Axes>"
      ]
     },
     "metadata": {},
     "output_type": "display_data"
    }
   ],
   "source": [
    "# Veri setini yükleme ve Min-Max ölçeklendirme uygulama\n",
    "df = pd.read_csv(\"datasets/USArrests.csv\", index_col=0)\n",
    "# Uzaklık temelli olduğu için standartlaştırma işlemini gerçekleştirelim\n",
    "sc = MinMaxScaler((0, 1))\n",
    "df = sc.fit_transform(df)\n",
    "\n",
    "# Hiyerarşik kümeleme (average linkage) ile dendrogram oluşturma\n",
    "hc_average = linkage(df, \"average\")\n",
    "\n",
    "# Tüm gözlemleri içeren dendrogramı çizme\n",
    "plt.figure(figsize=(10, 5))\n",
    "plt.title(\"Hiyerarşik Kümeleme Dendogramı\")  # Grafik başlığı\n",
    "plt.xlabel(\"Gözlem Birimleri\")  # X ekseni etiketi\n",
    "plt.ylabel(\"Uzaklıklar\")  # Y ekseni etiketi\n",
    "# Hiyerarşik kümeleme dendrogramını çizme\n",
    "dendrogram(hc_average, leaf_font_size=10)  \n",
    "plt.show()  # Grafikleri gösterme\n"
   ]
  },
  {
   "cell_type": "code",
   "execution_count": 25,
   "id": "e959e95e",
   "metadata": {},
   "outputs": [
    {
     "data": {
      "image/png": "[encoded data removed]",
      "text/plain": [
       "<Figure size 700x500 with 1 Axes>"
      ]
     },
     "metadata": {},
     "output_type": "display_data"
    }
   ],
   "source": [
    "# İlk 10 gözlemi içeren ve dalları gösteren dendrogramı çizme\n",
    "plt.figure(figsize=(7, 5))  # Şeklin boyutunu belirleme\n",
    "plt.title(\"Hiyerarşik Kümeleme Dendogramı\")  # Grafik başlığı\n",
    "plt.xlabel(\"Gözlem Birimleri\")  # X ekseni etiketi\n",
    "plt.ylabel(\"Uzaklıklar\")  # Y ekseni etiketi\n",
    "\n",
    "# Hiyerarşik kümeleme modelinin dendrogramını çizme\n",
    "dendrogram(hc_average, truncate_mode=\"lastp\", p=10, show_contracted=True, leaf_font_size=10)\n",
    "# Grafikleri gösterme\n",
    "plt.show() "
   ]
  },
  {
   "cell_type": "markdown",
   "id": "84911b25",
   "metadata": {},
   "source": [
    "Dendograma bakarak kaç küme olacağı hakkında yorum yapılabilir. "
   ]
  },
  {
   "cell_type": "markdown",
   "id": "13f7fbfa",
   "metadata": {},
   "source": [
    "## Kume Sayısını Belirlemek"
   ]
  },
  {
   "cell_type": "code",
   "execution_count": 26,
   "id": "f40d4299",
   "metadata": {
    "scrolled": false
   },
   "outputs": [
    {
     "data": {
      "image/png": "[encoded data removed]",
      "text/plain": [
       "<Figure size 700x500 with 1 Axes>"
      ]
     },
     "metadata": {},
     "output_type": "display_data"
    }
   ],
   "source": [
    "# Belirli bir yükseklik için dendrogram çizme\n",
    "plt.figure(figsize=(7, 5))\n",
    "plt.title(\"Dendrogram\")\n",
    "dend = dendrogram(hc_average)\n",
    "\n",
    "# Kırmızı ve mavi kesim çizgilerini ekleyerek dendrogramı daha iyi anlama\n",
    "plt.axhline(y=0.5, color='r', linestyle='--', label='Kırmızı Çizgi: Kesim Hesaplaması 1')\n",
    "plt.axhline(y=0.6, color='b', linestyle='--', label='Mavi Çizgi: Kesim Hesaplaması 2')\n",
    "plt.legend()\n",
    "plt.show()\n"
   ]
  },
  {
   "cell_type": "markdown",
   "id": "a9dc9718",
   "metadata": {},
   "source": [
    "Kesikli çizgilerden yorumlayacak olursak;\n",
    "\n",
    "0.6 dan (mavi çizgi) kesersek küme sayımız 4 olacaktır.\n",
    "\n",
    "0.5 den (kırmızı çizgi) kesecek olursak küme sayımız 6 olacaktır.\n",
    "\n",
    "Sınıf sayımızı k-means yönteminde olduğu gibi 6 olarka karar verelim ve modelimizi oluşturalım."
   ]
  },
  {
   "cell_type": "markdown",
   "id": "285ae5eb",
   "metadata": {},
   "source": [
    "## Final Modeli Oluşturmak"
   ]
  },
  {
   "cell_type": "code",
   "execution_count": 27,
   "id": "db077744",
   "metadata": {},
   "outputs": [
    {
     "data": {
      "text/plain": [
       "array([3, 5, 0, 2, 0, 0, 1, 1, 0, 3, 1, 4, 0, 1, 4, 1, 2, 3, 4, 0, 1, 0,\n",
       "       4, 3, 0, 4, 4, 0, 4, 1, 0, 0, 3, 4, 1, 1, 1, 1, 1, 3, 4, 3, 0, 1,\n",
       "       4, 1, 1, 4, 4, 1], dtype=int64)"
      ]
     },
     "execution_count": 27,
     "metadata": {},
     "output_type": "execute_result"
    }
   ],
   "source": [
    "# Agglomerative Clustering\n",
    "from sklearn.cluster import AgglomerativeClustering\n",
    "\n",
    "# Hiyerarşik kümeleme modelini oluşturma\n",
    "# küme sayımızı 6 olarak belirledik\n",
    "cluster = AgglomerativeClustering(n_clusters=6, linkage=\"average\")\n",
    "\n",
    "# Verileri kümeleme\n",
    "clusters = cluster.fit_predict(df) # cluster.fit olarak da kullanılablir\n",
    "\n",
    "clusters"
   ]
  },
  {
   "cell_type": "code",
   "execution_count": 28,
   "id": "4e7b695d",
   "metadata": {},
   "outputs": [
    {
     "data": {
      "text/html": [
       "<div>\n",
       "<style scoped>\n",
       "    .dataframe tbody tr th:only-of-type {\n",
       "        vertical-align: middle;\n",
       "    }\n",
       "\n",
       "    .dataframe tbody tr th {\n",
       "        vertical-align: top;\n",
       "    }\n",
       "\n",
       "    .dataframe thead th {\n",
       "        text-align: right;\n",
       "    }\n",
       "</style>\n",
       "<table border=\"1\" class=\"dataframe\">\n",
       "  <thead>\n",
       "    <tr style=\"text-align: right;\">\n",
       "      <th></th>\n",
       "      <th>Murder</th>\n",
       "      <th>Assault</th>\n",
       "      <th>UrbanPop</th>\n",
       "      <th>Rape</th>\n",
       "      <th>hi_cluster_no</th>\n",
       "    </tr>\n",
       "  </thead>\n",
       "  <tbody>\n",
       "    <tr>\n",
       "      <th>Alabama</th>\n",
       "      <td>13.2</td>\n",
       "      <td>236</td>\n",
       "      <td>58</td>\n",
       "      <td>21.2</td>\n",
       "      <td>3</td>\n",
       "    </tr>\n",
       "    <tr>\n",
       "      <th>Alaska</th>\n",
       "      <td>10.0</td>\n",
       "      <td>263</td>\n",
       "      <td>48</td>\n",
       "      <td>44.5</td>\n",
       "      <td>5</td>\n",
       "    </tr>\n",
       "    <tr>\n",
       "      <th>Arizona</th>\n",
       "      <td>8.1</td>\n",
       "      <td>294</td>\n",
       "      <td>80</td>\n",
       "      <td>31.0</td>\n",
       "      <td>0</td>\n",
       "    </tr>\n",
       "    <tr>\n",
       "      <th>Arkansas</th>\n",
       "      <td>8.8</td>\n",
       "      <td>190</td>\n",
       "      <td>50</td>\n",
       "      <td>19.5</td>\n",
       "      <td>2</td>\n",
       "    </tr>\n",
       "    <tr>\n",
       "      <th>California</th>\n",
       "      <td>9.0</td>\n",
       "      <td>276</td>\n",
       "      <td>91</td>\n",
       "      <td>40.6</td>\n",
       "      <td>0</td>\n",
       "    </tr>\n",
       "  </tbody>\n",
       "</table>\n",
       "</div>"
      ],
      "text/plain": [
       "            Murder  Assault  UrbanPop  Rape  hi_cluster_no\n",
       "Alabama       13.2      236        58  21.2              3\n",
       "Alaska        10.0      263        48  44.5              5\n",
       "Arizona        8.1      294        80  31.0              0\n",
       "Arkansas       8.8      190        50  19.5              2\n",
       "California     9.0      276        91  40.6              0"
      ]
     },
     "execution_count": 28,
     "metadata": {},
     "output_type": "execute_result"
    }
   ],
   "source": [
    "# Veri setini tekrar yükleme\n",
    "df = pd.read_csv(\"datasets/USArrests.csv\", index_col=0)\n",
    "\n",
    "# Oluşan küme numarasını yeni bir sütun olarak ekleyerek mevcut DataFrame'i güncelleme\n",
    "df[\"hi_cluster_no\"] = clusters\n",
    "\n",
    "# Elde edilen DataFrame'i ekrana yazdırma\n",
    "df.head()"
   ]
  },
  {
   "cell_type": "markdown",
   "id": "efd50417",
   "metadata": {},
   "source": [
    "Cluster no sıfır gibi gözüküyor birden başlamasını sağlayalım ve karşılaştırma yapabilmek için k-means yöntemi ile bulmuş olduğumuz kümeleme sonuçlarını da getirelim;"
   ]
  },
  {
   "cell_type": "code",
   "execution_count": 29,
   "id": "e1e8e451",
   "metadata": {},
   "outputs": [
    {
     "data": {
      "text/html": [
       "<div>\n",
       "<style scoped>\n",
       "    .dataframe tbody tr th:only-of-type {\n",
       "        vertical-align: middle;\n",
       "    }\n",
       "\n",
       "    .dataframe tbody tr th {\n",
       "        vertical-align: top;\n",
       "    }\n",
       "\n",
       "    .dataframe thead th {\n",
       "        text-align: right;\n",
       "    }\n",
       "</style>\n",
       "<table border=\"1\" class=\"dataframe\">\n",
       "  <thead>\n",
       "    <tr style=\"text-align: right;\">\n",
       "      <th></th>\n",
       "      <th>Murder</th>\n",
       "      <th>Assault</th>\n",
       "      <th>UrbanPop</th>\n",
       "      <th>Rape</th>\n",
       "      <th>hi_cluster_no</th>\n",
       "      <th>kmeans_cluster_no</th>\n",
       "    </tr>\n",
       "  </thead>\n",
       "  <tbody>\n",
       "    <tr>\n",
       "      <th>Alabama</th>\n",
       "      <td>13.2</td>\n",
       "      <td>236</td>\n",
       "      <td>58</td>\n",
       "      <td>21.2</td>\n",
       "      <td>4</td>\n",
       "      <td>4</td>\n",
       "    </tr>\n",
       "    <tr>\n",
       "      <th>Alaska</th>\n",
       "      <td>10.0</td>\n",
       "      <td>263</td>\n",
       "      <td>48</td>\n",
       "      <td>44.5</td>\n",
       "      <td>6</td>\n",
       "      <td>5</td>\n",
       "    </tr>\n",
       "    <tr>\n",
       "      <th>Arizona</th>\n",
       "      <td>8.1</td>\n",
       "      <td>294</td>\n",
       "      <td>80</td>\n",
       "      <td>31.0</td>\n",
       "      <td>1</td>\n",
       "      <td>5</td>\n",
       "    </tr>\n",
       "    <tr>\n",
       "      <th>Arkansas</th>\n",
       "      <td>8.8</td>\n",
       "      <td>190</td>\n",
       "      <td>50</td>\n",
       "      <td>19.5</td>\n",
       "      <td>3</td>\n",
       "      <td>2</td>\n",
       "    </tr>\n",
       "    <tr>\n",
       "      <th>California</th>\n",
       "      <td>9.0</td>\n",
       "      <td>276</td>\n",
       "      <td>91</td>\n",
       "      <td>40.6</td>\n",
       "      <td>1</td>\n",
       "      <td>5</td>\n",
       "    </tr>\n",
       "  </tbody>\n",
       "</table>\n",
       "</div>"
      ],
      "text/plain": [
       "            Murder  Assault  UrbanPop  Rape  hi_cluster_no  kmeans_cluster_no\n",
       "Alabama       13.2      236        58  21.2              4                  4\n",
       "Alaska        10.0      263        48  44.5              6                  5\n",
       "Arizona        8.1      294        80  31.0              1                  5\n",
       "Arkansas       8.8      190        50  19.5              3                  2\n",
       "California     9.0      276        91  40.6              1                  5"
      ]
     },
     "execution_count": 29,
     "metadata": {},
     "output_type": "execute_result"
    }
   ],
   "source": [
    "# Küme numaralarını 1'den başlatma\n",
    "df[\"hi_cluster_no\"] = df[\"hi_cluster_no\"] + 1\n",
    "\n",
    "# K-Means kümeleme sonuçları ile Agglomerative kümeleme sonuçlarını karşılaştırma\n",
    "# \"kmeans_cluster_no\" sütununu doğrudan ekleyerek güncelleme\n",
    "df[\"kmeans_cluster_no\"] = clusters_kmeans + 1 \n",
    "\n",
    "df.head()"
   ]
  },
  {
   "cell_type": "markdown",
   "id": "ee6eac0c",
   "metadata": {},
   "source": [
    "Görüldüğü gibi iki yöntemde de eyaletler farklı kümelere atanmış. \n",
    "\n",
    "Hiyerarşik kümeleme de ile k-means da aynı kümeye olan eyaletler hangileri olduğunu inccelemenizi tavsiye ederim.\n",
    "\n",
    "Aynı zamanda iki yöntem sonucunda farklı kümelere atanmış olan eyaletler ve bunların nedeni de incelenebilir."
   ]
  },
  {
   "cell_type": "markdown",
   "id": "773a5eb6",
   "metadata": {},
   "source": [
    "# Principal Component Analysis - Temel Bileşen Analizi\n",
    "\n",
    "Principal Component Analysis (PCA), bir veri setindeki değişkenlerin sayısını azaltmak ve veri setini daha düşük boyutlu bir uzaya dönüştürmek için kullanılan bir boyut azaltma tekniğidir. PCA, özellikle çok sayıda değişken içeren veri setlerinde kullanılarak gereksiz karmaşıklığı azaltabilir ve veri setindeki temel yapıyı daha iyi anlamamıza yardımcı olabilir.\n",
    "\n",
    "PCA'nın temel amacı, orijinal değişkenlere (özelliklere) bağlı kalmadan, veri setindeki en fazla varyansı koruyarak yeni bir değişken seti oluşturmaktır. Bu yeni değişken seti, orijinal değişkenler arasındaki korelasyonu ortadan kaldırır ve değişkenler arasındaki bağımlılığı azaltır.\n",
    "\n",
    "PCA'nın çalışma adımları şunlardır:\n",
    "\n",
    "1. **Veri Standartlaştırma:** Değişkenleri standart hale getirerek (ortalama 0, varyans 1) PCA'nın daha iyi çalışmasını sağlar.\n",
    "\n",
    "2. **Kovaryans Matrisi Hesaplama:** Standartlaştırılmış veri üzerinden değişkenler arasındaki kovaryansları içeren bir kovaryans matrisi oluşturulur.\n",
    "\n",
    "3. **Özdeğer ve Özvektör Hesaplama:** Kovaryans matrisinin özdeğerleri ve özvektörleri hesaplanır.\n",
    "\n",
    "4. **Özdeğerlerin Sıralanması:** Özdeğerler büyükten küçüğe sıralanır. Bu, en yüksek varyansa sahip bileşenleri önce almamıza olanak tanır.\n",
    "\n",
    "5. **Özdeğerlere Göre Özvektörleri Seçme:** Özdeğerlere karşılık gelen en büyük özvektörleri seçerek yeni bileşenleri oluşturur.\n",
    "\n",
    "6. **Yeni Veri Matrisini Oluşturma:** Seçilen özvektörleri kullanarak orijinal veriyi daha düşük boyutlu bir uzaya dönüştürür.\n",
    "\n",
    "PCA'nın avantajları şunlardır:\n",
    "\n",
    "- Veri setindeki boyutu azaltarak gereksiz karmaşıklığı azaltır.\n",
    "- Değişkenler arasındaki bağımlılığı azaltır.\n",
    "- Temel veri yapısını anlamak ve yorumlamak için kullanılabilir.\n",
    "\n",
    "Ancak, PCA'nın bazı dezavantajları da vardır, özellikle de olası bilgi kaybıdır. Bu nedenle, PCA kullanmadan önce dikkatlice düşünülmelidir.\n",
    "\n",
    "\n",
    "Özetle belirli miktarda bilgi kaybını göze alarak boyut indirgemesi yapar."
   ]
  },
  {
   "cell_type": "code",
   "execution_count": 30,
   "id": "9173d78c",
   "metadata": {
    "scrolled": true
   },
   "outputs": [
    {
     "data": {
      "text/html": [
       "<div>\n",
       "<style scoped>\n",
       "    .dataframe tbody tr th:only-of-type {\n",
       "        vertical-align: middle;\n",
       "    }\n",
       "\n",
       "    .dataframe tbody tr th {\n",
       "        vertical-align: top;\n",
       "    }\n",
       "\n",
       "    .dataframe thead th {\n",
       "        text-align: right;\n",
       "    }\n",
       "</style>\n",
       "<table border=\"1\" class=\"dataframe\">\n",
       "  <thead>\n",
       "    <tr style=\"text-align: right;\">\n",
       "      <th></th>\n",
       "      <th>AtBat</th>\n",
       "      <th>Hits</th>\n",
       "      <th>HmRun</th>\n",
       "      <th>Runs</th>\n",
       "      <th>RBI</th>\n",
       "      <th>Walks</th>\n",
       "      <th>Years</th>\n",
       "      <th>CAtBat</th>\n",
       "      <th>CHits</th>\n",
       "      <th>CHmRun</th>\n",
       "      <th>CRuns</th>\n",
       "      <th>CRBI</th>\n",
       "      <th>CWalks</th>\n",
       "      <th>League</th>\n",
       "      <th>Division</th>\n",
       "      <th>PutOuts</th>\n",
       "      <th>Assists</th>\n",
       "      <th>Errors</th>\n",
       "      <th>Salary</th>\n",
       "      <th>NewLeague</th>\n",
       "    </tr>\n",
       "  </thead>\n",
       "  <tbody>\n",
       "    <tr>\n",
       "      <th>0</th>\n",
       "      <td>293</td>\n",
       "      <td>66</td>\n",
       "      <td>1</td>\n",
       "      <td>30</td>\n",
       "      <td>29</td>\n",
       "      <td>14</td>\n",
       "      <td>1</td>\n",
       "      <td>293</td>\n",
       "      <td>66</td>\n",
       "      <td>1</td>\n",
       "      <td>30</td>\n",
       "      <td>29</td>\n",
       "      <td>14</td>\n",
       "      <td>A</td>\n",
       "      <td>E</td>\n",
       "      <td>446</td>\n",
       "      <td>33</td>\n",
       "      <td>20</td>\n",
       "      <td>NaN</td>\n",
       "      <td>A</td>\n",
       "    </tr>\n",
       "    <tr>\n",
       "      <th>1</th>\n",
       "      <td>315</td>\n",
       "      <td>81</td>\n",
       "      <td>7</td>\n",
       "      <td>24</td>\n",
       "      <td>38</td>\n",
       "      <td>39</td>\n",
       "      <td>14</td>\n",
       "      <td>3449</td>\n",
       "      <td>835</td>\n",
       "      <td>69</td>\n",
       "      <td>321</td>\n",
       "      <td>414</td>\n",
       "      <td>375</td>\n",
       "      <td>N</td>\n",
       "      <td>W</td>\n",
       "      <td>632</td>\n",
       "      <td>43</td>\n",
       "      <td>10</td>\n",
       "      <td>475.0</td>\n",
       "      <td>N</td>\n",
       "    </tr>\n",
       "    <tr>\n",
       "      <th>2</th>\n",
       "      <td>479</td>\n",
       "      <td>130</td>\n",
       "      <td>18</td>\n",
       "      <td>66</td>\n",
       "      <td>72</td>\n",
       "      <td>76</td>\n",
       "      <td>3</td>\n",
       "      <td>1624</td>\n",
       "      <td>457</td>\n",
       "      <td>63</td>\n",
       "      <td>224</td>\n",
       "      <td>266</td>\n",
       "      <td>263</td>\n",
       "      <td>A</td>\n",
       "      <td>W</td>\n",
       "      <td>880</td>\n",
       "      <td>82</td>\n",
       "      <td>14</td>\n",
       "      <td>480.0</td>\n",
       "      <td>A</td>\n",
       "    </tr>\n",
       "    <tr>\n",
       "      <th>3</th>\n",
       "      <td>496</td>\n",
       "      <td>141</td>\n",
       "      <td>20</td>\n",
       "      <td>65</td>\n",
       "      <td>78</td>\n",
       "      <td>37</td>\n",
       "      <td>11</td>\n",
       "      <td>5628</td>\n",
       "      <td>1575</td>\n",
       "      <td>225</td>\n",
       "      <td>828</td>\n",
       "      <td>838</td>\n",
       "      <td>354</td>\n",
       "      <td>N</td>\n",
       "      <td>E</td>\n",
       "      <td>200</td>\n",
       "      <td>11</td>\n",
       "      <td>3</td>\n",
       "      <td>500.0</td>\n",
       "      <td>N</td>\n",
       "    </tr>\n",
       "    <tr>\n",
       "      <th>4</th>\n",
       "      <td>321</td>\n",
       "      <td>87</td>\n",
       "      <td>10</td>\n",
       "      <td>39</td>\n",
       "      <td>42</td>\n",
       "      <td>30</td>\n",
       "      <td>2</td>\n",
       "      <td>396</td>\n",
       "      <td>101</td>\n",
       "      <td>12</td>\n",
       "      <td>48</td>\n",
       "      <td>46</td>\n",
       "      <td>33</td>\n",
       "      <td>N</td>\n",
       "      <td>E</td>\n",
       "      <td>805</td>\n",
       "      <td>40</td>\n",
       "      <td>4</td>\n",
       "      <td>91.5</td>\n",
       "      <td>N</td>\n",
       "    </tr>\n",
       "  </tbody>\n",
       "</table>\n",
       "</div>"
      ],
      "text/plain": [
       "   AtBat  Hits  HmRun  Runs  RBI  Walks  Years  CAtBat  CHits  CHmRun  CRuns  \\\n",
       "0    293    66      1    30   29     14      1     293     66       1     30   \n",
       "1    315    81      7    24   38     39     14    3449    835      69    321   \n",
       "2    479   130     18    66   72     76      3    1624    457      63    224   \n",
       "3    496   141     20    65   78     37     11    5628   1575     225    828   \n",
       "4    321    87     10    39   42     30      2     396    101      12     48   \n",
       "\n",
       "   CRBI  CWalks League Division  PutOuts  Assists  Errors  Salary NewLeague  \n",
       "0    29      14      A        E      446       33      20     NaN         A  \n",
       "1   414     375      N        W      632       43      10   475.0         N  \n",
       "2   266     263      A        W      880       82      14   480.0         A  \n",
       "3   838     354      N        E      200       11       3   500.0         N  \n",
       "4    46      33      N        E      805       40       4    91.5         N  "
      ]
     },
     "execution_count": 30,
     "metadata": {},
     "output_type": "execute_result"
    }
   ],
   "source": [
    "# Hitters veri setini okuma\n",
    "df = pd.read_csv(\"datasets/Hitters.csv\")\n",
    "\n",
    "# Veri setinin ilk beş gözlemine göz atma\n",
    "df.head()"
   ]
  },
  {
   "cell_type": "markdown",
   "id": "4110341f",
   "metadata": {},
   "source": [
    "Konumuz denetimsiz öğrenme olduğu için kategorik verilerle ve \"Salary\" ile ilgilenmiyoruz. O yüzden bunları veri setimizden çıkaralım;"
   ]
  },
  {
   "cell_type": "code",
   "execution_count": 31,
   "id": "9b64c219",
   "metadata": {},
   "outputs": [
    {
     "data": {
      "text/html": [
       "<div>\n",
       "<style scoped>\n",
       "    .dataframe tbody tr th:only-of-type {\n",
       "        vertical-align: middle;\n",
       "    }\n",
       "\n",
       "    .dataframe tbody tr th {\n",
       "        vertical-align: top;\n",
       "    }\n",
       "\n",
       "    .dataframe thead th {\n",
       "        text-align: right;\n",
       "    }\n",
       "</style>\n",
       "<table border=\"1\" class=\"dataframe\">\n",
       "  <thead>\n",
       "    <tr style=\"text-align: right;\">\n",
       "      <th></th>\n",
       "      <th>AtBat</th>\n",
       "      <th>Hits</th>\n",
       "      <th>HmRun</th>\n",
       "      <th>Runs</th>\n",
       "      <th>RBI</th>\n",
       "      <th>Walks</th>\n",
       "      <th>Years</th>\n",
       "      <th>CAtBat</th>\n",
       "      <th>CHits</th>\n",
       "      <th>CHmRun</th>\n",
       "      <th>CRuns</th>\n",
       "      <th>CRBI</th>\n",
       "      <th>CWalks</th>\n",
       "      <th>PutOuts</th>\n",
       "      <th>Assists</th>\n",
       "      <th>Errors</th>\n",
       "    </tr>\n",
       "  </thead>\n",
       "  <tbody>\n",
       "    <tr>\n",
       "      <th>0</th>\n",
       "      <td>293</td>\n",
       "      <td>66</td>\n",
       "      <td>1</td>\n",
       "      <td>30</td>\n",
       "      <td>29</td>\n",
       "      <td>14</td>\n",
       "      <td>1</td>\n",
       "      <td>293</td>\n",
       "      <td>66</td>\n",
       "      <td>1</td>\n",
       "      <td>30</td>\n",
       "      <td>29</td>\n",
       "      <td>14</td>\n",
       "      <td>446</td>\n",
       "      <td>33</td>\n",
       "      <td>20</td>\n",
       "    </tr>\n",
       "    <tr>\n",
       "      <th>1</th>\n",
       "      <td>315</td>\n",
       "      <td>81</td>\n",
       "      <td>7</td>\n",
       "      <td>24</td>\n",
       "      <td>38</td>\n",
       "      <td>39</td>\n",
       "      <td>14</td>\n",
       "      <td>3449</td>\n",
       "      <td>835</td>\n",
       "      <td>69</td>\n",
       "      <td>321</td>\n",
       "      <td>414</td>\n",
       "      <td>375</td>\n",
       "      <td>632</td>\n",
       "      <td>43</td>\n",
       "      <td>10</td>\n",
       "    </tr>\n",
       "    <tr>\n",
       "      <th>2</th>\n",
       "      <td>479</td>\n",
       "      <td>130</td>\n",
       "      <td>18</td>\n",
       "      <td>66</td>\n",
       "      <td>72</td>\n",
       "      <td>76</td>\n",
       "      <td>3</td>\n",
       "      <td>1624</td>\n",
       "      <td>457</td>\n",
       "      <td>63</td>\n",
       "      <td>224</td>\n",
       "      <td>266</td>\n",
       "      <td>263</td>\n",
       "      <td>880</td>\n",
       "      <td>82</td>\n",
       "      <td>14</td>\n",
       "    </tr>\n",
       "    <tr>\n",
       "      <th>3</th>\n",
       "      <td>496</td>\n",
       "      <td>141</td>\n",
       "      <td>20</td>\n",
       "      <td>65</td>\n",
       "      <td>78</td>\n",
       "      <td>37</td>\n",
       "      <td>11</td>\n",
       "      <td>5628</td>\n",
       "      <td>1575</td>\n",
       "      <td>225</td>\n",
       "      <td>828</td>\n",
       "      <td>838</td>\n",
       "      <td>354</td>\n",
       "      <td>200</td>\n",
       "      <td>11</td>\n",
       "      <td>3</td>\n",
       "    </tr>\n",
       "    <tr>\n",
       "      <th>4</th>\n",
       "      <td>321</td>\n",
       "      <td>87</td>\n",
       "      <td>10</td>\n",
       "      <td>39</td>\n",
       "      <td>42</td>\n",
       "      <td>30</td>\n",
       "      <td>2</td>\n",
       "      <td>396</td>\n",
       "      <td>101</td>\n",
       "      <td>12</td>\n",
       "      <td>48</td>\n",
       "      <td>46</td>\n",
       "      <td>33</td>\n",
       "      <td>805</td>\n",
       "      <td>40</td>\n",
       "      <td>4</td>\n",
       "    </tr>\n",
       "  </tbody>\n",
       "</table>\n",
       "</div>"
      ],
      "text/plain": [
       "   AtBat  Hits  HmRun  Runs  RBI  Walks  Years  CAtBat  CHits  CHmRun  CRuns  \\\n",
       "0    293    66      1    30   29     14      1     293     66       1     30   \n",
       "1    315    81      7    24   38     39     14    3449    835      69    321   \n",
       "2    479   130     18    66   72     76      3    1624    457      63    224   \n",
       "3    496   141     20    65   78     37     11    5628   1575     225    828   \n",
       "4    321    87     10    39   42     30      2     396    101      12     48   \n",
       "\n",
       "   CRBI  CWalks  PutOuts  Assists  Errors  \n",
       "0    29      14      446       33      20  \n",
       "1   414     375      632       43      10  \n",
       "2   266     263      880       82      14  \n",
       "3   838     354      200       11       3  \n",
       "4    46      33      805       40       4  "
      ]
     },
     "execution_count": 31,
     "metadata": {},
     "output_type": "execute_result"
    }
   ],
   "source": [
    "# Sayısal sütunları seçme (Salary sütununu içermeyenler)\n",
    "num_cols = [col for col in df.columns if df[col].dtypes != \"O\" and \"Salary\" not in col]\n",
    "\n",
    "# Sadece sayısal sütunlardan oluşan yeni bir DataFrame oluşturma\n",
    "df[num_cols].head()"
   ]
  },
  {
   "cell_type": "code",
   "execution_count": 32,
   "id": "416741f3",
   "metadata": {},
   "outputs": [
    {
     "data": {
      "text/plain": [
       "(322, 16)"
      ]
     },
     "execution_count": 32,
     "metadata": {},
     "output_type": "execute_result"
    }
   ],
   "source": [
    "# Yeni DataFrame'den eksik değerleri çıkarma\n",
    "df = df[num_cols]\n",
    "df.dropna(inplace=True)\n",
    "\n",
    "# Veri setinin boyutlarını kontrol etme\n",
    "df.shape"
   ]
  },
  {
   "cell_type": "markdown",
   "id": "acf66787",
   "metadata": {},
   "source": [
    "Artık bağımlı değişkenimiz kalmadı. Şimdi amacımız çok değişkenli verinin daha az değişken ile ifade edilmesidir. Yani 16 olan değişken sayımızı azaltmaya çalışacağız."
   ]
  },
  {
   "cell_type": "code",
   "execution_count": 33,
   "id": "10e56115",
   "metadata": {},
   "outputs": [
    {
     "data": {
      "text/plain": [
       "array([[-0.57407148, -0.75512977, -1.12359063, ...,  0.56039893,\n",
       "        -0.54092397,  1.88089921],\n",
       "       [-0.43043703, -0.43173229, -0.43357884, ...,  1.2240485 ,\n",
       "        -0.46774014,  0.308192  ],\n",
       "       [ 0.64029256,  0.62469948,  0.83144278, ...,  2.10891458,\n",
       "        -0.1823232 ,  0.93727488],\n",
       "       ...,\n",
       "       [ 0.61417721,  0.53846015, -0.8935867 , ..., -0.8989165 ,\n",
       "         0.04454668, -0.16362016],\n",
       "       [ 1.25400343,  0.92653713, -0.20357491, ...,  3.65743023,\n",
       "         0.17627758,  0.62273344],\n",
       "       [ 1.63267609,  1.48709276, -0.20357491, ...,  0.42481462,\n",
       "        -0.75315708, -0.79270304]])"
      ]
     },
     "execution_count": 33,
     "metadata": {},
     "output_type": "execute_result"
    }
   ],
   "source": [
    "# Veriyi standartlaştırma\n",
    "df = StandardScaler().fit_transform(df)\n",
    "\n",
    "df"
   ]
  },
  {
   "cell_type": "code",
   "execution_count": 34,
   "id": "2ab2fed7",
   "metadata": {},
   "outputs": [],
   "source": [
    "# PCA (Principal Component Analysis) modelini oluşturma\n",
    "pca = PCA()\n",
    "\n",
    "# PCA modelini veri üzerine uygulama\n",
    "pca_fit = pca.fit_transform(df)"
   ]
  },
  {
   "cell_type": "markdown",
   "id": "24c7e0c5",
   "metadata": {},
   "source": [
    "Bileşenlerin başarısı açıklanan varyans oranı ile belirlenir."
   ]
  },
  {
   "cell_type": "code",
   "execution_count": 35,
   "id": "4f785c60",
   "metadata": {},
   "outputs": [
    {
     "data": {
      "text/plain": [
       "array([4.60378552e-01, 2.60398491e-01, 1.03388605e-01, 5.36902121e-02,\n",
       "       4.20784091e-02, 2.96359092e-02, 1.57079101e-02, 1.13928108e-02,\n",
       "       7.83230398e-03, 5.87669497e-03, 3.74765194e-03, 3.09384056e-03,\n",
       "       1.55679403e-03, 8.59034766e-04, 2.86873704e-04, 7.59064046e-05])"
      ]
     },
     "execution_count": 35,
     "metadata": {},
     "output_type": "execute_result"
    }
   ],
   "source": [
    "# Açıklanan varyans oranlarına bakma\n",
    "pca.explained_variance_ratio_"
   ]
  },
  {
   "cell_type": "code",
   "execution_count": 36,
   "id": "8ad06bb0",
   "metadata": {},
   "outputs": [
    {
     "data": {
      "text/plain": [
       "array([0.46037855, 0.72077704, 0.82416565, 0.87785586, 0.91993427,\n",
       "       0.94957018, 0.96527809, 0.9766709 , 0.9845032 , 0.9903799 ,\n",
       "       0.99412755, 0.99722139, 0.99877819, 0.99963722, 0.99992409,\n",
       "       1.        ])"
      ]
     },
     "execution_count": 36,
     "metadata": {},
     "output_type": "execute_result"
    }
   ],
   "source": [
    "# Kumulatif açıklanan varyans oranlarını hesaplama\n",
    "np.cumsum(pca.explained_variance_ratio_)"
   ]
  },
  {
   "cell_type": "markdown",
   "id": "0471b4a6",
   "metadata": {},
   "source": [
    "Burada açıklama oranlarını kümülatif olarak görmekteyiz. Birinci bileşen 0.46 oranında açıklarken, ikinci bileşen geldiğinde bu oaran 0.72 ye çıkmış. Baktığımızda 5 bileşen ile %91 oranında açıklanabilir. Sonuç toplamda 1 olmalıdır. Şimdi kaç bileşen kullanmamız gerektiğine karar verelim;\n"
   ]
  },
  {
   "cell_type": "markdown",
   "id": "e42da4a6",
   "metadata": {},
   "source": [
    "# Optimum Bileşen Sayısı"
   ]
  },
  {
   "cell_type": "code",
   "execution_count": 37,
   "id": "b07f3912",
   "metadata": {
    "scrolled": false
   },
   "outputs": [
    {
     "data": {
      "image/png": "[encoded data removed]",
      "text/plain": [
       "<Figure size 800x550 with 1 Axes>"
      ]
     },
     "metadata": {},
     "output_type": "display_data"
    }
   ],
   "source": [
    "# PCA modelini veri üzerine uygulayarak bileşenleri bulma ve hemen kümülatif varyans oranlarını elde etme\n",
    "pca = PCA().fit(df)\n",
    "\n",
    "# Kumulatif varyans oranlarını grafiğe çizme\n",
    "plt.plot(np.cumsum(pca.explained_variance_ratio_))\n",
    "\n",
    "# Grafiği düzenleme\n",
    "plt.xlabel(\"Bileşen Sayısı\")\n",
    "plt.ylabel(\"Kümülatif Varyans Oranı\")\n",
    "plt.title(\"Bileşen Sayısına Göre Kumulatif Varyans Oranı\")\n",
    "plt.show()\n"
   ]
  },
  {
   "cell_type": "markdown",
   "id": "0a52cf7d",
   "metadata": {},
   "source": [
    "Veri görselleştirme gibi bir işlem yapıyorsak mümkün olduğunca az bileşen seçmemiz gerekir. \n",
    "\n",
    "Grafiğe bakarak bileşen sayısını 3 olarak seçerek devam edelim."
   ]
  },
  {
   "cell_type": "markdown",
   "id": "805d1736",
   "metadata": {},
   "source": [
    "# Final PCA'in Oluşturulması"
   ]
  },
  {
   "cell_type": "code",
   "execution_count": 38,
   "id": "ded2dbc7",
   "metadata": {},
   "outputs": [
    {
     "name": "stdout",
     "output_type": "stream",
     "text": [
      "Açıklanan Varyans Oranları: [0.46037855 0.26039849 0.1033886 ]\n",
      "Kümülatif Varyans Oranları: [0.46037855 0.72077704 0.82416565]\n"
     ]
    }
   ],
   "source": [
    "# PCA modelini belirli bir bileşen sayısı (3) ile uygulayarak bileşenleri bulma\n",
    "pca = PCA(n_components=3)\n",
    "pca_fit = pca.fit_transform(df)\n",
    "\n",
    "# Her bir bileşenin açıkladığı varyans oranları\n",
    "explained_variance_ratios = pca.explained_variance_ratio_\n",
    "print(\"Açıklanan Varyans Oranları:\", explained_variance_ratios)\n",
    "\n",
    "# Kumulatif varyans oranları\n",
    "cumulative_variance_ratios = np.cumsum(explained_variance_ratios)\n",
    "print(\"Kümülatif Varyans Oranları:\", cumulative_variance_ratios)\n"
   ]
  },
  {
   "cell_type": "markdown",
   "id": "a23dd457",
   "metadata": {},
   "source": [
    "Yukarıdaki değerleri incelediğimizde bileşen tek açıklama oranı görülmekte;\n",
    "\n",
    "- Birinci bileşen %46\n",
    "- İkinci bileşen %26\n",
    "- Üçüncü bileşen %10\n",
    "\n",
    "Oranında açıklıyormuş. Kümülatif olarak baktığımızda ise üçünün toplam açıklama oranı ise %82 olduğunu görmekteyiz."
   ]
  },
  {
   "cell_type": "markdown",
   "id": "c2281779",
   "metadata": {},
   "source": [
    "# BONUS: Principal Component Regression\n",
    "\n",
    "Principal Component Regression (PCR), bir regresyon analizi tekniğidir ve Principal Component Analysis (PCA) ile regresyonu birleştirir. PCR, bir bağımlı değişken ile bir veya daha fazla bağımsız değişken arasındaki ilişkiyi modellemek için kullanılır.\n",
    "\n",
    "PCR'nin temel adımları şunlardır:\n",
    "\n",
    "1. **Veri Standartlaştırma:** Bağımsız değişkenler standart hale getirilir (ortalama 0, varyans 1).\n",
    "\n",
    "2. **PCA Uygulama:** Bağımsız değişkenlere PCA uygulanır. Bu, bağımsız değişkenlerin sayısını azaltır ve yeni bileşenleri (principal components) elde eder.\n",
    "\n",
    "3. **Regresyon Modeli Kurma:** Elde edilen principal components kullanılarak regresyon modeli kurulur.\n",
    "\n",
    "PCR'nin avantajları ve kullanım durumları şunlar olabilir:\n",
    "\n",
    "- **Çoklu Bağımsız Değişkenlerin İşlenmesi:** PCR, çok sayıda bağımsız değişkenin olduğu durumlarda kullanışlıdır. Özellikle bağımsız değişkenler arasında çoklu korelasyon varsa, PCR bu korelasyonu azaltabilir.\n",
    "\n",
    "- **Çoklu Kolinearite Probleminin Azaltılması:** PCR, çoklu kolinearite sorunlarını hafifletebilir. Bu durumda, bağımsız değişkenler arasında yüksek korelasyon olduğunda geleneksel regresyon modelleri tahminlerde istikrarsızlık ve güven aralıklarının genişlemesi gibi sorunlarla karşılaşabilir. PCR, bu sorunları hafifletebilir.\n",
    "\n",
    "- **Boyut Azaltma:** PCR, veri setindeki boyutu azaltarak gereksiz karmaşıklığı azaltabilir.\n",
    "\n",
    "Ancak, PCR'nin bazı dezavantajları vardır:\n",
    "\n",
    "- **Yorumlama Zorluğu:** PCR'nin bileşenleri, orijinal bağımsız değişkenlerle doğrudan ilişkilendirilemez ve bu nedenle modelin yorumlanması zor olabilir.\n",
    "\n",
    "- **Overfitting Riski:** PCR, tüm bileşenleri dahil etme eğiliminde olduğu için overfitting riski taşıyabilir. Bu durumu önlemek için çapraz doğrulama gibi yöntemler kullanılabilir.\n",
    "\n",
    "PCR, veri analizi ve modelleme süreçlerinde kullanılabilecek bir araçtır ancak uygulama bağlamına ve veri setinin özelliklerine göre dikkatlice değerlendirilmelidir."
   ]
  },
  {
   "cell_type": "code",
   "execution_count": 39,
   "id": "3319e9e3",
   "metadata": {},
   "outputs": [
    {
     "data": {
      "text/plain": [
       "(322, 20)"
      ]
     },
     "execution_count": 39,
     "metadata": {},
     "output_type": "execute_result"
    }
   ],
   "source": [
    "# Hitters veri setini yükle\n",
    "df = pd.read_csv(\"datasets/Hitters.csv\")\n",
    "df.shape  # Veri setinin boyutunu kontrol et"
   ]
  },
  {
   "cell_type": "markdown",
   "id": "3f9874b7",
   "metadata": {},
   "source": [
    "322 gözlem birimi olduğu görülmektedir. Yani gözlem birimimiz değişmemiş."
   ]
  },
  {
   "cell_type": "code",
   "execution_count": 40,
   "id": "c9b85dda",
   "metadata": {},
   "outputs": [
    {
     "data": {
      "text/plain": [
       "322"
      ]
     },
     "execution_count": 40,
     "metadata": {},
     "output_type": "execute_result"
    }
   ],
   "source": [
    "len(pca_fit)  # PCA'dan elde edilen bileşen sayısını kontrol et"
   ]
  },
  {
   "cell_type": "markdown",
   "id": "9f7faecc",
   "metadata": {},
   "source": [
    "Numerik değişken sayımıza bakalım"
   ]
  },
  {
   "cell_type": "code",
   "execution_count": 41,
   "id": "5b407004",
   "metadata": {},
   "outputs": [
    {
     "data": {
      "text/plain": [
       "16"
      ]
     },
     "execution_count": 41,
     "metadata": {},
     "output_type": "execute_result"
    }
   ],
   "source": [
    "# Veri setindeki sayısal sütunları bul\n",
    "num_cols = [col for col in df.columns if df[col].dtypes != \"O\" and \"Salary\" not in col]\n",
    "len(num_cols)  # Sayısal sütun sayısını kontrol et"
   ]
  },
  {
   "cell_type": "markdown",
   "id": "77bb9496",
   "metadata": {},
   "source": [
    "16 adet var biz az önce PCA ile bu 16 değişkeni 3'e indirdik. Diğer değişkenlere (numerik olmayan) de bir göz atalım;"
   ]
  },
  {
   "cell_type": "code",
   "execution_count": 42,
   "id": "002894d6",
   "metadata": {},
   "outputs": [
    {
     "name": "stdout",
     "output_type": "stream",
     "text": [
      "['League', 'Division', 'Salary', 'NewLeague']\n"
     ]
    }
   ],
   "source": [
    "# Veri setindeki diğer sütunları bul\n",
    "others = [col for col in df.columns if col not in num_cols]\n",
    "\n",
    "print(others)"
   ]
  },
  {
   "cell_type": "markdown",
   "id": "5714e11d",
   "metadata": {},
   "source": [
    "PCA ile elde edilen bileşenleri bir DataFrame e çevirelim;"
   ]
  },
  {
   "cell_type": "code",
   "execution_count": 43,
   "id": "cd2c8d57",
   "metadata": {},
   "outputs": [
    {
     "name": "stdout",
     "output_type": "stream",
     "text": [
      "          PC1       PC2       PC3\n",
      "0   -3.240106 -0.253173  0.776066\n",
      "1    0.245488  1.302951  0.118040\n",
      "2    0.603883 -2.617002 -0.698183\n",
      "3    3.591276  0.547821 -1.049022\n",
      "4   -2.264528 -0.698898 -1.290536\n",
      "..        ...       ...       ...\n",
      "317 -0.089503 -0.521050 -0.770721\n",
      "318  3.339811 -0.732713  3.114194\n",
      "319 -0.951442 -0.910086  0.286517\n",
      "320  2.091473 -2.265826 -0.192745\n",
      "321  1.905622 -0.311198 -0.356249\n",
      "\n",
      "[322 rows x 3 columns]\n"
     ]
    }
   ],
   "source": [
    "# PCA'dan elde edilen bileşenleri içeren bir veri çerçevesi oluştur\n",
    "pca_df = pd.DataFrame(pca_fit, columns=[\"PC1\", \"PC2\", \"PC3\"])\n",
    "# Ekrana yazdırdık\n",
    "print(pca_df)"
   ]
  },
  {
   "cell_type": "code",
   "execution_count": 44,
   "id": "d0bd1f02",
   "metadata": {},
   "outputs": [
    {
     "name": "stdout",
     "output_type": "stream",
     "text": [
      "    League Division  Salary NewLeague\n",
      "0        A        E     NaN         A\n",
      "1        N        W   475.0         N\n",
      "2        A        W   480.0         A\n",
      "3        N        E   500.0         N\n",
      "4        N        E    91.5         N\n",
      "..     ...      ...     ...       ...\n",
      "317      N        E   700.0         N\n",
      "318      A        E   875.0         A\n",
      "319      A        W   385.0         A\n",
      "320      A        E   960.0         A\n",
      "321      A        W  1000.0         A\n",
      "\n",
      "[322 rows x 4 columns]\n"
     ]
    }
   ],
   "source": [
    "# Diğer sütunları içeren bir veri çerçevesi oluştur\n",
    "others_df = df[others]\n",
    "# Ekrana yazdır\n",
    "print(others_df)"
   ]
  },
  {
   "cell_type": "markdown",
   "id": "531f0bc5",
   "metadata": {},
   "source": [
    "PCA ile elde ettiğimiz bileşenler ile kategorik bileşenlerimiz arasında regresyon uygulayabiliriz."
   ]
  },
  {
   "cell_type": "code",
   "execution_count": 45,
   "id": "8d3455ff",
   "metadata": {},
   "outputs": [
    {
     "data": {
      "text/html": [
       "<div>\n",
       "<style scoped>\n",
       "    .dataframe tbody tr th:only-of-type {\n",
       "        vertical-align: middle;\n",
       "    }\n",
       "\n",
       "    .dataframe tbody tr th {\n",
       "        vertical-align: top;\n",
       "    }\n",
       "\n",
       "    .dataframe thead th {\n",
       "        text-align: right;\n",
       "    }\n",
       "</style>\n",
       "<table border=\"1\" class=\"dataframe\">\n",
       "  <thead>\n",
       "    <tr style=\"text-align: right;\">\n",
       "      <th></th>\n",
       "      <th>PC1</th>\n",
       "      <th>PC2</th>\n",
       "      <th>PC3</th>\n",
       "      <th>League</th>\n",
       "      <th>Division</th>\n",
       "      <th>Salary</th>\n",
       "      <th>NewLeague</th>\n",
       "    </tr>\n",
       "  </thead>\n",
       "  <tbody>\n",
       "    <tr>\n",
       "      <th>0</th>\n",
       "      <td>-3.240106</td>\n",
       "      <td>-0.253173</td>\n",
       "      <td>0.776066</td>\n",
       "      <td>A</td>\n",
       "      <td>E</td>\n",
       "      <td>NaN</td>\n",
       "      <td>A</td>\n",
       "    </tr>\n",
       "    <tr>\n",
       "      <th>1</th>\n",
       "      <td>0.245488</td>\n",
       "      <td>1.302951</td>\n",
       "      <td>0.118040</td>\n",
       "      <td>N</td>\n",
       "      <td>W</td>\n",
       "      <td>475.0</td>\n",
       "      <td>N</td>\n",
       "    </tr>\n",
       "    <tr>\n",
       "      <th>2</th>\n",
       "      <td>0.603883</td>\n",
       "      <td>-2.617002</td>\n",
       "      <td>-0.698183</td>\n",
       "      <td>A</td>\n",
       "      <td>W</td>\n",
       "      <td>480.0</td>\n",
       "      <td>A</td>\n",
       "    </tr>\n",
       "    <tr>\n",
       "      <th>3</th>\n",
       "      <td>3.591276</td>\n",
       "      <td>0.547821</td>\n",
       "      <td>-1.049022</td>\n",
       "      <td>N</td>\n",
       "      <td>E</td>\n",
       "      <td>500.0</td>\n",
       "      <td>N</td>\n",
       "    </tr>\n",
       "    <tr>\n",
       "      <th>4</th>\n",
       "      <td>-2.264528</td>\n",
       "      <td>-0.698898</td>\n",
       "      <td>-1.290536</td>\n",
       "      <td>N</td>\n",
       "      <td>E</td>\n",
       "      <td>91.5</td>\n",
       "      <td>N</td>\n",
       "    </tr>\n",
       "  </tbody>\n",
       "</table>\n",
       "</div>"
      ],
      "text/plain": [
       "        PC1       PC2       PC3 League Division  Salary NewLeague\n",
       "0 -3.240106 -0.253173  0.776066      A        E     NaN         A\n",
       "1  0.245488  1.302951  0.118040      N        W   475.0         N\n",
       "2  0.603883 -2.617002 -0.698183      A        W   480.0         A\n",
       "3  3.591276  0.547821 -1.049022      N        E   500.0         N\n",
       "4 -2.264528 -0.698898 -1.290536      N        E    91.5         N"
      ]
     },
     "execution_count": 45,
     "metadata": {},
     "output_type": "execute_result"
    }
   ],
   "source": [
    "# PCA bileşenleri ve diğer sütunları birleştir\n",
    "final_df = pd.concat([pca_df, others_df], axis=1)\n",
    "final_df.head()  # Sonuçları görüntüle"
   ]
  },
  {
   "cell_type": "markdown",
   "id": "2ebf3b97",
   "metadata": {},
   "source": [
    "Görüldüğü üzere 16 bileşen 3'e indirildi. 16 bileşenin %82 sini bu 3 bileşen ile açıklamak mümkündür. 3 tane de kategorik değişkenmiz var ve bunların sınıf sayısı iki, bu nedenle Label Encoder ile binary (1-0) çevirebiliriz."
   ]
  },
  {
   "cell_type": "code",
   "execution_count": 46,
   "id": "b0526899",
   "metadata": {},
   "outputs": [],
   "source": [
    "from sklearn.linear_model import LinearRegression\n",
    "from sklearn.tree import DecisionTreeRegressor\n",
    "\n",
    "def label_encoder(dataframe, binary_col):\n",
    "    \"\"\"\n",
    "    Veri çerçevesinde belirli bir ikili sütunu etiketlemek için LabelEncoder kullanma.\n",
    "\n",
    "    Parameters:\n",
    "    - dataframe: Etiketleme işlemi uygulanacak olan veri çerçevesi.\n",
    "    - binary_col: Etiketleme işlemi uygulanacak ikili sütunun adı.\n",
    "\n",
    "    Returns:\n",
    "    - dataframe: Etiketlenmiş veri çerçevesi.\n",
    "    \"\"\"\n",
    "    labelencoder = LabelEncoder()\n",
    "    dataframe[binary_col] = labelencoder.fit_transform(dataframe[binary_col])\n",
    "    return dataframe\n",
    "\n",
    "for col in [\"NewLeague\", \"Division\", \"League\"]:\n",
    "    label_encoder(final_df, col)\n",
    "    "
   ]
  },
  {
   "cell_type": "markdown",
   "id": "9c3eb6e1",
   "metadata": {},
   "source": [
    "Bu fonksiyon, belirtilen veri çerçevesindeki belirli bir ikili sütunu etiketlemek için kullanılabilir. Etiketleme işlemi, **LabelEncoder** sınıfı kullanılarak gerçekleştirilir. Fonksiyon, etiketlenmiş veri çerçevesini döndürür. Etiketleme işlemi, ikili (binary) sütunu 0 ve 1 olarak kodlar, bu da genellikle makine öğrenimi modellerinde kategorik verileri işlemek için gereklidir."
   ]
  },
  {
   "cell_type": "code",
   "execution_count": 47,
   "id": "ae52a5d5",
   "metadata": {
    "scrolled": true
   },
   "outputs": [
    {
     "name": "stdout",
     "output_type": "stream",
     "text": [
      "          PC1       PC2       PC3  League  Division  Salary  NewLeague\n",
      "0   -3.240106 -0.253173  0.776066       0         0     NaN          0\n",
      "1    0.245488  1.302951  0.118040       1         1   475.0          1\n",
      "2    0.603883 -2.617002 -0.698183       0         1   480.0          0\n",
      "3    3.591276  0.547821 -1.049022       1         0   500.0          1\n",
      "4   -2.264528 -0.698898 -1.290536       1         0    91.5          1\n",
      "..        ...       ...       ...     ...       ...     ...        ...\n",
      "317 -0.089503 -0.521050 -0.770721       1         0   700.0          1\n",
      "318  3.339811 -0.732713  3.114194       0         0   875.0          0\n",
      "319 -0.951442 -0.910086  0.286517       0         1   385.0          0\n",
      "320  2.091473 -2.265826 -0.192745       0         0   960.0          0\n",
      "321  1.905622 -0.311198 -0.356249       0         1  1000.0          0\n",
      "\n",
      "[322 rows x 7 columns]\n"
     ]
    }
   ],
   "source": [
    "# Etiketlenmiş veri çerçevesini ekrana yazdırma\n",
    "print(final_df)"
   ]
  },
  {
   "cell_type": "code",
   "execution_count": 48,
   "id": "5c2edbcc",
   "metadata": {},
   "outputs": [
    {
     "name": "stdout",
     "output_type": "stream",
     "text": [
      "          PC1       PC2       PC3  League  Division  Salary  NewLeague\n",
      "1    0.245488  1.302951  0.118040       1         1   475.0          1\n",
      "2    0.603883 -2.617002 -0.698183       0         1   480.0          0\n",
      "3    3.591276  0.547821 -1.049022       1         0   500.0          1\n",
      "4   -2.264528 -0.698898 -1.290536       1         0    91.5          1\n",
      "5    1.229535 -1.825093  3.659220       0         1   750.0          0\n",
      "..        ...       ...       ...     ...       ...     ...        ...\n",
      "317 -0.089503 -0.521050 -0.770721       1         0   700.0          1\n",
      "318  3.339811 -0.732713  3.114194       0         0   875.0          0\n",
      "319 -0.951442 -0.910086  0.286517       0         1   385.0          0\n",
      "320  2.091473 -2.265826 -0.192745       0         0   960.0          0\n",
      "321  1.905622 -0.311198 -0.356249       0         1  1000.0          0\n",
      "\n",
      "[263 rows x 7 columns]\n"
     ]
    }
   ],
   "source": [
    "# Veri setindeki NaN değerleri attık\n",
    "final_df.dropna(inplace=True)\n",
    "\n",
    "print(final_df)"
   ]
  },
  {
   "cell_type": "code",
   "execution_count": 49,
   "id": "6405095b",
   "metadata": {},
   "outputs": [],
   "source": [
    "# Bağımlı değişken (Salary) ve bağımsız değişkenler (X) oluşturuluyor\n",
    "y = final_df[\"Salary\"]\n",
    "X = final_df.drop([\"Salary\"], axis=1)"
   ]
  },
  {
   "cell_type": "code",
   "execution_count": 50,
   "id": "21d1374e",
   "metadata": {},
   "outputs": [
    {
     "name": "stdout",
     "output_type": "stream",
     "text": [
      "RMSE (Root Mean Squared Error) for Linear Regression: 345.60211063519677\n",
      "Mean Salary: 535.9258821292775\n"
     ]
    }
   ],
   "source": [
    "# Doğrusal Regresyon Modeli Oluşturma\n",
    "lm = LinearRegression()\n",
    "\n",
    "# Çapraz Doğrulama ile Hata Hesaplama\n",
    "# cross_val_score fonksiyonu, belirtilen sayıda parçaya bölen veri seti üzerinde çapraz doğrulama yaparak RMSE değerini hesaplar.\n",
    "rmse_lm = np.mean(np.sqrt(-cross_val_score(lm, X, y, cv=5, scoring=\"neg_mean_squared_error\")))\n",
    "\n",
    "# Ortalama Maaşın Hesaplanması\n",
    "# Hedef değişken olan 'y' dizisinin ortalaması alınır.\n",
    "mean_salary = y.mean()\n",
    "\n",
    "# Sonuçları Ekrana Yazdırma\n",
    "# Hesaplanan RMSE değeri ve ortalama maaş ekrana yazdırılır.\n",
    "print(\"RMSE (Root Mean Squared Error) for Linear Regression:\", rmse_lm)\n",
    "print(\"Mean Salary:\", mean_salary)\n"
   ]
  },
  {
   "cell_type": "markdown",
   "id": "481d8619",
   "metadata": {},
   "source": [
    "Ortalama maaş değeri **535.93** birimdir, bu da modelin tahminlerinin veri setindeki genel maaş düzeyini temsil ettiğini gösterir. Ancak, **RMSE değeri** bu **tahminlerin gerçek değerlerden ne kadar sapma gösterdiğini** belirtir."
   ]
  },
  {
   "cell_type": "code",
   "execution_count": 51,
   "id": "c7c67c29",
   "metadata": {},
   "outputs": [
    {
     "name": "stdout",
     "output_type": "stream",
     "text": [
      "RMSE (Root Mean Squared Error) for Decision Tree (CART) Model: 384.8327934304234\n"
     ]
    }
   ],
   "source": [
    "# Karar Ağacı (CART) Modeli Oluşturma ve Performans Değerlendirmesi\n",
    "cart = DecisionTreeRegressor()\n",
    "rmse_cart = np.mean(np.sqrt(-cross_val_score(cart, X, y, cv=5, scoring=\"neg_mean_squared_error\")))\n",
    "\n",
    "# Ekrana Yazdırma: Karar Ağacı (CART) Modeli Performansı\n",
    "print(\"RMSE (Root Mean Squared Error) for Decision Tree (CART) Model:\", rmse_cart)"
   ]
  },
  {
   "cell_type": "markdown",
   "id": "5086909c",
   "metadata": {},
   "source": [
    "RMSE değerimiz daha yüksek (**396**) çıktı. Yani hata daha fazla birde hiperparametre optimizasyonu yaparak deneyelim."
   ]
  },
  {
   "cell_type": "code",
   "execution_count": 52,
   "id": "92b42bea",
   "metadata": {},
   "outputs": [
    {
     "name": "stdout",
     "output_type": "stream",
     "text": [
      "Hyperparameter Tuning Parameters for Decision Tree (CART) Model: {'max_depth': range(1, 11), 'min_samples_split': range(2, 20)}\n"
     ]
    }
   ],
   "source": [
    "# Karar Ağacı (CART) Modeli İçin Hiperparametre Ayarlama\n",
    "cart_params = {'max_depth': range(1, 11),\n",
    "               \"min_samples_split\": range(2, 20)}\n",
    "\n",
    "# Ekrana Yazdırma: Hiperparametre Ayarlama Parametreleri\n",
    "print(\"Hyperparameter Tuning Parameters for Decision Tree (CART) Model:\", cart_params)\n"
   ]
  },
  {
   "cell_type": "markdown",
   "id": "d492d50b",
   "metadata": {},
   "source": [
    "### GridSearchCV"
   ]
  },
  {
   "cell_type": "code",
   "execution_count": 53,
   "id": "af08aa05",
   "metadata": {},
   "outputs": [
    {
     "name": "stdout",
     "output_type": "stream",
     "text": [
      "Fitting 5 folds for each of 180 candidates, totalling 900 fits\n",
      "Best Parameters for Decision Tree (CART) Model after Grid Search: {'max_depth': 3, 'min_samples_split': 19}\n",
      "RMSE (Root Mean Squared Error) for Final Decision Tree (CART) Model: 330.1964109339104\n"
     ]
    }
   ],
   "source": [
    "from sklearn.model_selection import GridSearchCV\n",
    "\n",
    "# Karar Ağacı (CART) Modeli için Hiperparametre Ayarlaması\n",
    "cart_best_grid = GridSearchCV(cart,\n",
    "                              cart_params,\n",
    "                              cv=5,\n",
    "                              n_jobs=-1,\n",
    "                              verbose=True).fit(X, y)\n",
    "\n",
    "# Ekrana Yazdırma: En İyi Parametrelerle Karar Ağacı (CART) Modeli\n",
    "print(\"Best Parameters for Decision Tree (CART) Model after Grid Search:\", cart_best_grid.best_params_)\n",
    "\n",
    "# En iyi parametrelerle final bir Karar Ağacı modeli oluşturuluyor\n",
    "cart_final = DecisionTreeRegressor(**cart_best_grid.best_params_, random_state=17).fit(X, y)\n",
    "\n",
    "# Ekrana Yazdırma: Final Karar Ağacı (CART) Modeli Performansı\n",
    "rmse_cart_final = np.mean(np.sqrt(-cross_val_score(cart_final, X, y, cv=5, scoring=\"neg_mean_squared_error\")))\n",
    "print(\"RMSE (Root Mean Squared Error) for Final Decision Tree (CART) Model:\", rmse_cart_final)\n"
   ]
  },
  {
   "cell_type": "markdown",
   "id": "ad552902",
   "metadata": {},
   "source": [
    "Görüldüğü üzere hiperparametre optimizasyonu ile RMSE **330**'a düştü.\n",
    "\n",
    "# Mulakatlarda Sorulabilecek Soru\n",
    "--\n",
    "**Elimizde bir veri seti var ama label (etiket) yok. Fakat sınıflandırma modeli oluşturmak istiyorum. Bu durumda ne yapabilirim?**\n",
    "\n",
    "Diyelimki elimizde bin tane insan var ve bu insanların denetimsiz öğrenme ile kümeleniyor. Yeni bir müşteri geldiğinde önceki bin tane veriye bakılarak gelen müşterinin hangi kümeye ait olduğu belirleniyor. Bunu bir sınıflandırma modeline dönüştürmek için;\n",
    "\n",
    "Öncelikle denetimsiz şekilde kümeler (4 küme oluştuğunu varsayalım) oluşturulur. Daha sonra bu kümeleri sınıflara eşitleyebilirim. Yani 4 küme varsa 4 sınıf var demektir. Bunları 4 farklı sınıf olacak şekilde etiketleyebiliriz. Daha sonra herhangi bir sınıflandırma modeli ile model oluşturulur. Yeni bir müşteri geldiğinde ise elimizdeki model ile bu müşterinin hangi sınıfa ait olduğunu tahmin edebiliriz."
   ]
  },
  {
   "cell_type": "markdown",
   "id": "50a47837",
   "metadata": {},
   "source": [
    "# BONUS: PCA ile Çok Boyutlu Veriyi 2 Boyutta Görselleştirme"
   ]
  },
  {
   "cell_type": "markdown",
   "id": "0618d339",
   "metadata": {},
   "source": [
    "### Breast Cancer - Meme Kanseri"
   ]
  },
  {
   "cell_type": "code",
   "execution_count": 54,
   "id": "bed678d0",
   "metadata": {},
   "outputs": [
    {
     "data": {
      "text/html": [
       "<div>\n",
       "<style scoped>\n",
       "    .dataframe tbody tr th:only-of-type {\n",
       "        vertical-align: middle;\n",
       "    }\n",
       "\n",
       "    .dataframe tbody tr th {\n",
       "        vertical-align: top;\n",
       "    }\n",
       "\n",
       "    .dataframe thead th {\n",
       "        text-align: right;\n",
       "    }\n",
       "</style>\n",
       "<table border=\"1\" class=\"dataframe\">\n",
       "  <thead>\n",
       "    <tr style=\"text-align: right;\">\n",
       "      <th></th>\n",
       "      <th>id</th>\n",
       "      <th>diagnosis</th>\n",
       "      <th>radius_mean</th>\n",
       "      <th>texture_mean</th>\n",
       "      <th>perimeter_mean</th>\n",
       "      <th>area_mean</th>\n",
       "      <th>smoothness_mean</th>\n",
       "      <th>compactness_mean</th>\n",
       "      <th>concavity_mean</th>\n",
       "      <th>concave points_mean</th>\n",
       "      <th>symmetry_mean</th>\n",
       "      <th>fractal_dimension_mean</th>\n",
       "      <th>radius_se</th>\n",
       "      <th>texture_se</th>\n",
       "      <th>perimeter_se</th>\n",
       "      <th>area_se</th>\n",
       "      <th>smoothness_se</th>\n",
       "      <th>compactness_se</th>\n",
       "      <th>concavity_se</th>\n",
       "      <th>concave points_se</th>\n",
       "      <th>symmetry_se</th>\n",
       "      <th>fractal_dimension_se</th>\n",
       "      <th>radius_worst</th>\n",
       "      <th>texture_worst</th>\n",
       "      <th>perimeter_worst</th>\n",
       "      <th>area_worst</th>\n",
       "      <th>smoothness_worst</th>\n",
       "      <th>compactness_worst</th>\n",
       "      <th>concavity_worst</th>\n",
       "      <th>concave points_worst</th>\n",
       "      <th>symmetry_worst</th>\n",
       "      <th>fractal_dimension_worst</th>\n",
       "    </tr>\n",
       "  </thead>\n",
       "  <tbody>\n",
       "    <tr>\n",
       "      <th>0</th>\n",
       "      <td>842302</td>\n",
       "      <td>M</td>\n",
       "      <td>17.99</td>\n",
       "      <td>10.38</td>\n",
       "      <td>122.80</td>\n",
       "      <td>1001.0</td>\n",
       "      <td>0.11840</td>\n",
       "      <td>0.27760</td>\n",
       "      <td>0.3001</td>\n",
       "      <td>0.14710</td>\n",
       "      <td>0.2419</td>\n",
       "      <td>0.07871</td>\n",
       "      <td>1.0950</td>\n",
       "      <td>0.9053</td>\n",
       "      <td>8.589</td>\n",
       "      <td>153.40</td>\n",
       "      <td>0.006399</td>\n",
       "      <td>0.04904</td>\n",
       "      <td>0.05373</td>\n",
       "      <td>0.01587</td>\n",
       "      <td>0.03003</td>\n",
       "      <td>0.006193</td>\n",
       "      <td>25.38</td>\n",
       "      <td>17.33</td>\n",
       "      <td>184.60</td>\n",
       "      <td>2019.0</td>\n",
       "      <td>0.1622</td>\n",
       "      <td>0.6656</td>\n",
       "      <td>0.7119</td>\n",
       "      <td>0.2654</td>\n",
       "      <td>0.4601</td>\n",
       "      <td>0.11890</td>\n",
       "    </tr>\n",
       "    <tr>\n",
       "      <th>1</th>\n",
       "      <td>842517</td>\n",
       "      <td>M</td>\n",
       "      <td>20.57</td>\n",
       "      <td>17.77</td>\n",
       "      <td>132.90</td>\n",
       "      <td>1326.0</td>\n",
       "      <td>0.08474</td>\n",
       "      <td>0.07864</td>\n",
       "      <td>0.0869</td>\n",
       "      <td>0.07017</td>\n",
       "      <td>0.1812</td>\n",
       "      <td>0.05667</td>\n",
       "      <td>0.5435</td>\n",
       "      <td>0.7339</td>\n",
       "      <td>3.398</td>\n",
       "      <td>74.08</td>\n",
       "      <td>0.005225</td>\n",
       "      <td>0.01308</td>\n",
       "      <td>0.01860</td>\n",
       "      <td>0.01340</td>\n",
       "      <td>0.01389</td>\n",
       "      <td>0.003532</td>\n",
       "      <td>24.99</td>\n",
       "      <td>23.41</td>\n",
       "      <td>158.80</td>\n",
       "      <td>1956.0</td>\n",
       "      <td>0.1238</td>\n",
       "      <td>0.1866</td>\n",
       "      <td>0.2416</td>\n",
       "      <td>0.1860</td>\n",
       "      <td>0.2750</td>\n",
       "      <td>0.08902</td>\n",
       "    </tr>\n",
       "    <tr>\n",
       "      <th>2</th>\n",
       "      <td>84300903</td>\n",
       "      <td>M</td>\n",
       "      <td>19.69</td>\n",
       "      <td>21.25</td>\n",
       "      <td>130.00</td>\n",
       "      <td>1203.0</td>\n",
       "      <td>0.10960</td>\n",
       "      <td>0.15990</td>\n",
       "      <td>0.1974</td>\n",
       "      <td>0.12790</td>\n",
       "      <td>0.2069</td>\n",
       "      <td>0.05999</td>\n",
       "      <td>0.7456</td>\n",
       "      <td>0.7869</td>\n",
       "      <td>4.585</td>\n",
       "      <td>94.03</td>\n",
       "      <td>0.006150</td>\n",
       "      <td>0.04006</td>\n",
       "      <td>0.03832</td>\n",
       "      <td>0.02058</td>\n",
       "      <td>0.02250</td>\n",
       "      <td>0.004571</td>\n",
       "      <td>23.57</td>\n",
       "      <td>25.53</td>\n",
       "      <td>152.50</td>\n",
       "      <td>1709.0</td>\n",
       "      <td>0.1444</td>\n",
       "      <td>0.4245</td>\n",
       "      <td>0.4504</td>\n",
       "      <td>0.2430</td>\n",
       "      <td>0.3613</td>\n",
       "      <td>0.08758</td>\n",
       "    </tr>\n",
       "    <tr>\n",
       "      <th>3</th>\n",
       "      <td>84348301</td>\n",
       "      <td>M</td>\n",
       "      <td>11.42</td>\n",
       "      <td>20.38</td>\n",
       "      <td>77.58</td>\n",
       "      <td>386.1</td>\n",
       "      <td>0.14250</td>\n",
       "      <td>0.28390</td>\n",
       "      <td>0.2414</td>\n",
       "      <td>0.10520</td>\n",
       "      <td>0.2597</td>\n",
       "      <td>0.09744</td>\n",
       "      <td>0.4956</td>\n",
       "      <td>1.1560</td>\n",
       "      <td>3.445</td>\n",
       "      <td>27.23</td>\n",
       "      <td>0.009110</td>\n",
       "      <td>0.07458</td>\n",
       "      <td>0.05661</td>\n",
       "      <td>0.01867</td>\n",
       "      <td>0.05963</td>\n",
       "      <td>0.009208</td>\n",
       "      <td>14.91</td>\n",
       "      <td>26.50</td>\n",
       "      <td>98.87</td>\n",
       "      <td>567.7</td>\n",
       "      <td>0.2098</td>\n",
       "      <td>0.8663</td>\n",
       "      <td>0.6869</td>\n",
       "      <td>0.2575</td>\n",
       "      <td>0.6638</td>\n",
       "      <td>0.17300</td>\n",
       "    </tr>\n",
       "    <tr>\n",
       "      <th>4</th>\n",
       "      <td>84358402</td>\n",
       "      <td>M</td>\n",
       "      <td>20.29</td>\n",
       "      <td>14.34</td>\n",
       "      <td>135.10</td>\n",
       "      <td>1297.0</td>\n",
       "      <td>0.10030</td>\n",
       "      <td>0.13280</td>\n",
       "      <td>0.1980</td>\n",
       "      <td>0.10430</td>\n",
       "      <td>0.1809</td>\n",
       "      <td>0.05883</td>\n",
       "      <td>0.7572</td>\n",
       "      <td>0.7813</td>\n",
       "      <td>5.438</td>\n",
       "      <td>94.44</td>\n",
       "      <td>0.011490</td>\n",
       "      <td>0.02461</td>\n",
       "      <td>0.05688</td>\n",
       "      <td>0.01885</td>\n",
       "      <td>0.01756</td>\n",
       "      <td>0.005115</td>\n",
       "      <td>22.54</td>\n",
       "      <td>16.67</td>\n",
       "      <td>152.20</td>\n",
       "      <td>1575.0</td>\n",
       "      <td>0.1374</td>\n",
       "      <td>0.2050</td>\n",
       "      <td>0.4000</td>\n",
       "      <td>0.1625</td>\n",
       "      <td>0.2364</td>\n",
       "      <td>0.07678</td>\n",
       "    </tr>\n",
       "  </tbody>\n",
       "</table>\n",
       "</div>"
      ],
      "text/plain": [
       "         id diagnosis  radius_mean  texture_mean  perimeter_mean  area_mean  smoothness_mean  compactness_mean  concavity_mean  concave points_mean  symmetry_mean  fractal_dimension_mean  radius_se  texture_se  perimeter_se  area_se  smoothness_se  compactness_se  concavity_se  concave points_se  symmetry_se  fractal_dimension_se  radius_worst  texture_worst  perimeter_worst  area_worst  smoothness_worst  compactness_worst  concavity_worst  concave points_worst  symmetry_worst  \\\n",
       "0    842302         M        17.99         10.38          122.80     1001.0          0.11840           0.27760          0.3001              0.14710         0.2419                 0.07871     1.0950      0.9053         8.589   153.40       0.006399         0.04904       0.05373            0.01587      0.03003              0.006193         25.38          17.33           184.60      2019.0            0.1622             0.6656           0.7119                0.2654          0.4601   \n",
       "1    842517         M        20.57         17.77          132.90     1326.0          0.08474           0.07864          0.0869              0.07017         0.1812                 0.05667     0.5435      0.7339         3.398    74.08       0.005225         0.01308       0.01860            0.01340      0.01389              0.003532         24.99          23.41           158.80      1956.0            0.1238             0.1866           0.2416                0.1860          0.2750   \n",
       "2  84300903         M        19.69         21.25          130.00     1203.0          0.10960           0.15990          0.1974              0.12790         0.2069                 0.05999     0.7456      0.7869         4.585    94.03       0.006150         0.04006       0.03832            0.02058      0.02250              0.004571         23.57          25.53           152.50      1709.0            0.1444             0.4245           0.4504                0.2430          0.3613   \n",
       "3  84348301         M        11.42         20.38           77.58      386.1          0.14250           0.28390          0.2414              0.10520         0.2597                 0.09744     0.4956      1.1560         3.445    27.23       0.009110         0.07458       0.05661            0.01867      0.05963              0.009208         14.91          26.50            98.87       567.7            0.2098             0.8663           0.6869                0.2575          0.6638   \n",
       "4  84358402         M        20.29         14.34          135.10     1297.0          0.10030           0.13280          0.1980              0.10430         0.1809                 0.05883     0.7572      0.7813         5.438    94.44       0.011490         0.02461       0.05688            0.01885      0.01756              0.005115         22.54          16.67           152.20      1575.0            0.1374             0.2050           0.4000                0.1625          0.2364   \n",
       "\n",
       "   fractal_dimension_worst  \n",
       "0                  0.11890  \n",
       "1                  0.08902  \n",
       "2                  0.08758  \n",
       "3                  0.17300  \n",
       "4                  0.07678  "
      ]
     },
     "execution_count": 54,
     "metadata": {},
     "output_type": "execute_result"
    }
   ],
   "source": [
    "# Pandas ayarları, tüm sütunları göster ve genişlik sınırını artır\n",
    "pd.set_option('display.max_columns', None)\n",
    "pd.set_option('display.width', 500)\n",
    "\n",
    "# Meme kanseri veri setini okuma\n",
    "df = pd.read_csv(\"datasets/breast_cancer.csv\")\n",
    "\n",
    "df.head()"
   ]
  },
  {
   "cell_type": "markdown",
   "id": "5daf1ac4",
   "metadata": {},
   "source": [
    "Görüldüğü gibi çok fazla değişkene sahip. Bunu görselleştirmek mümkün değil. Şimdi bu veri setini iki boyuta indirirek görselleştirmeye çalışalım;"
   ]
  },
  {
   "cell_type": "code",
   "execution_count": 55,
   "id": "87324750",
   "metadata": {},
   "outputs": [],
   "source": [
    "# Hedef değişkeni (diagnosis) ve özellikleri (id sütununu hariç tutarak) belirleme\n",
    "y = df[\"diagnosis\"]\n",
    "X = df.drop([\"diagnosis\", \"id\"], axis=1)"
   ]
  },
  {
   "cell_type": "markdown",
   "id": "d33c350c",
   "metadata": {},
   "source": [
    "Aşağıdaki fonksiyon, PCA (Principal Component Analysis) analizi uygulayan ve PCA tarafından elde edilen bileşenleri kullanarak veriyi iki boyuta indirgeyen bir işlevdir. İşlev aşağıdaki adımları içerir:\n",
    "\n",
    "1. **Veriyi Standartlaştırma:**\n",
    "   - `StandardScaler()` kullanılarak veri standartlaştırılır. Bu adım, her bir özniteliği ortalama 0 ve standart sapma 1 olacak şekilde dönüştürür.\n",
    "\n",
    "2. **PCA Modelini Oluşturma ve Veriyi İki Boyuta İndirgeme:**\n",
    "   - `PCA` sınıfından bir PCA modeli oluşturulur ve `n_components=2` parametresiyle veriyi iki boyuta indirger.\n",
    "\n",
    "3. **PCA Dönüşüm Sonuçlarını İçeren DataFrame Oluşturma:**\n",
    "   - Elde edilen PCA dönüşüm sonuçları, 'PC1' ve 'PC2' adlı iki yeni bileşeni içeren bir DataFrame'e (`pca_df`) yerleştirilir.\n",
    "\n",
    "4. **Hedef Değişkeni DataFrame'e Ekleyerek Final DataFrame'i Oluşturma:**\n",
    "   - `pca_df`'e hedef değişkeni (`y`) eklenerek, sonuç olarak elde edilen DataFrame final bir DataFrame (`final_df`) oluşturulur.\n",
    "\n",
    "5. **Sonuçları Döndürme:**\n",
    "   - Oluşturulan final DataFrame (`final_df`) döndürülerek, PCA analizi sonucunda elde edilen veri seti elde edilir.\n",
    "\n",
    "Bu fonksiyonun kullanımı, veriyi daha düşük boyutlu bir uzayda temsil etmek ve bu yeni temsilin üzerinde analizler yapmak istendiğinde yararlı olabilir. Özellikle görselleştirme ve özniteliklerin etkileşimlerini daha anlaşılır bir şekilde inceleme amacına hizmet edebilir."
   ]
  },
  {
   "cell_type": "code",
   "execution_count": 56,
   "id": "0b53e785",
   "metadata": {},
   "outputs": [
    {
     "name": "stdout",
     "output_type": "stream",
     "text": [
      "           PC1        PC2 diagnosis\n",
      "0     9.192837   1.948583         M\n",
      "1     2.387802  -3.768172         M\n",
      "2     5.733896  -1.075174         M\n",
      "3     7.122953  10.275589         M\n",
      "4     3.935302  -1.948072         M\n",
      "..         ...        ...       ...\n",
      "564   6.439315  -3.576817         M\n",
      "565   3.793382  -3.584048         M\n",
      "566   1.256179  -1.902297         M\n",
      "567  10.374794   1.672010         M\n",
      "568  -5.475243  -0.670637         B\n",
      "\n",
      "[569 rows x 3 columns]\n"
     ]
    }
   ],
   "source": [
    "def create_pca_df(X, y):\n",
    "    # Veriyi standartlaştır\n",
    "    X = StandardScaler().fit_transform(X)\n",
    "    \n",
    "    # PCA modelini oluştur ve veriyi iki boyuta indirge\n",
    "    pca = PCA(n_components=2)\n",
    "    pca_fit = pca.fit_transform(X)\n",
    "    \n",
    "    # PCA dönüşüm sonuçlarını içeren DataFrame'i oluştur\n",
    "    pca_df = pd.DataFrame(data=pca_fit, columns=['PC1', 'PC2'])\n",
    "    \n",
    "    # Hedef değişkeni DataFrame'e ekleyerek final DataFrame'i oluştur\n",
    "    final_df = pd.concat([pca_df, pd.DataFrame(y)], axis=1)\n",
    "    \n",
    "    return final_df\n",
    "\n",
    "# PCA analizi uygula ve sonucu pca_df değişkenine atıyoruz\n",
    "pca_df = create_pca_df(X, y)\n",
    "\n",
    "print(pca_df)"
   ]
  },
  {
   "cell_type": "markdown",
   "id": "5dd5e489",
   "metadata": {},
   "source": [
    "Görüldüğü üzere veri setimizi **iki bileşene** indirgedik. Şimdi bunları görselleştirelim. \n",
    "\n",
    "Bu fonksiyon, PCA analizi sonucunda elde edilen iki bileşeni (PC1 ve PC2) kullanarak veriyi görselleştirmek için tasarlanmıştır."
   ]
  },
  {
   "cell_type": "code",
   "execution_count": 57,
   "id": "75d526e5",
   "metadata": {},
   "outputs": [
    {
     "data": {
      "image/png": "[encoded data removed]",
      "text/plain": [
       "<Figure size 700x500 with 1 Axes>"
      ]
     },
     "metadata": {},
     "output_type": "display_data"
    }
   ],
   "source": [
    "def plot_pca(dataframe, target):\n",
    "    # Görselleştirme için bir figür oluştur\n",
    "    fig = plt.figure(figsize=(7, 5))\n",
    "    \n",
    "    # Alt grafiği ekleyerek x ve y eksenlerini etiketle\n",
    "    ax = fig.add_subplot(1, 1, 1)\n",
    "    ax.set_xlabel('PC1', fontsize=15)\n",
    "    ax.set_ylabel('PC2', fontsize=15)\n",
    "    ax.set_title(f'{target.capitalize()} ', fontsize=20)\n",
    "\n",
    "    # Hedef değişkenin benzersiz değerlerini al\n",
    "    targets = list(dataframe[target].unique())\n",
    "    \n",
    "    # Benzersiz renkler kullanarak her bir hedef değeri için bir scatter plot çiz\n",
    "    colors = random.sample(['r', 'b', \"g\", \"y\"], len(targets))\n",
    "\n",
    "    for t, color in zip(targets, colors):\n",
    "        indices = dataframe[target] == t\n",
    "        ax.scatter(dataframe.loc[indices, 'PC1'], dataframe.loc[indices, 'PC2'], c=color, s=50)\n",
    "    \n",
    "    # Hedef değişkeninin benzersiz değerlerine göre legend ekle\n",
    "    ax.legend(targets)\n",
    "    \n",
    "    # Izgara ekle\n",
    "    ax.grid()\n",
    "    \n",
    "    # Görseli göster\n",
    "    plt.show()\n",
    "\n",
    "# PCA sonuçlarını ve hedef değişkeni içeren DataFrame'i kullanarak görselleştirme yap\n",
    "plot_pca(pca_df, \"diagnosis\")\n"
   ]
  },
  {
   "cell_type": "markdown",
   "id": "62f6ccb4",
   "metadata": {},
   "source": [
    "Görüldüğü üzere çok fazla bileşen ait olan veri setini iki bileşene indirerek görselleştirme işlemini gerçekleştirdik. Şimdi aynı işlemi başka bir veri seti üzerinden gerçekleştirelim;"
   ]
  },
  {
   "cell_type": "markdown",
   "id": "043a4548",
   "metadata": {},
   "source": [
    "# Iris"
   ]
  },
  {
   "cell_type": "code",
   "execution_count": 61,
   "id": "608e0404",
   "metadata": {},
   "outputs": [
    {
     "name": "stdout",
     "output_type": "stream",
     "text": [
      "Iris Veri Kümesi (İlk 5 Satır):\n",
      "    sepal length (cm)  sepal width (cm)  petal length (cm)  petal width (cm)\n",
      "0                5.1               3.5                1.4               0.2\n",
      "1                4.9               3.0                1.4               0.2\n",
      "2                4.7               3.2                1.3               0.2\n",
      "3                4.6               3.1                1.5               0.2\n",
      "4                5.0               3.6                1.4               0.2\n"
     ]
    }
   ],
   "source": [
    "# sklearn kütüphanesinden Iris veri kümesini yükle\n",
    "from sklearn.datasets import load_iris\n",
    "import pandas as pd\n",
    "\n",
    "# Iris veri kümesini yükle\n",
    "iris = load_iris()\n",
    "\n",
    "# Veri kümesini DataFrame'e dönüştür\n",
    "df = pd.DataFrame(data=iris.data, columns=iris.feature_names)\n",
    "\n",
    "# DataFrame'i ekrana yazdır\n",
    "print(\"Iris Veri Kümesi (İlk 5 Satır):\\n\", df.head())"
   ]
  },
  {
   "cell_type": "markdown",
   "id": "83167af1",
   "metadata": {},
   "source": [
    "Fonksiyona gönderilecek olan x değerlerinin sayısal olması gerekmektedir. Eğer kategorik değişken varsa gerekli işlemleri yaparak fonksiyona o şekilde gönderin. "
   ]
  },
  {
   "cell_type": "code",
   "execution_count": 58,
   "id": "5769e840",
   "metadata": {
    "scrolled": false
   },
   "outputs": [
    {
     "data": {
      "image/png": "[encoded data removed]",
      "text/plain": [
       "<Figure size 700x500 with 1 Axes>"
      ]
     },
     "metadata": {},
     "output_type": "display_data"
    }
   ],
   "source": [
    "# \"species\" sütununu ekleyerek hedef değişkeni tanımla\n",
    "df[\"species\"] = iris.target_names[iris.target]\n",
    "\n",
    "# Hedef değişken ve özellikleri belirle\n",
    "y = df[\"species\"]\n",
    "X = df.drop([\"species\"], axis=1)\n",
    "\n",
    "# create_pca_df fonksiyonunu kullanarak PCA sonuçlarını oluştur\n",
    "pca_df = create_pca_df(X, y)\n",
    "\n",
    "# plot_pca fonksiyonunu kullanarak PCA sonuçlarını görselleştir\n",
    "plot_pca(pca_df, \"species\")\n"
   ]
  },
  {
   "cell_type": "markdown",
   "id": "2d871f26",
   "metadata": {},
   "source": [
    "Artık elimizdeki herhangi bir veri setini **create_pca** fonksiyonu ile bileşen sayısını indirgeyebilir ve bu indirgenmiş veri setini **plot_pca** fonksiyonu ile görselleştirebiliriz.\n",
    "\n",
    "Aynı işlemi diabet veri seti için uygulayalım;"
   ]
  },
  {
   "cell_type": "markdown",
   "id": "8354d651",
   "metadata": {},
   "source": [
    "# Diabetes"
   ]
  },
  {
   "cell_type": "code",
   "execution_count": 24,
   "id": "8f76e9b8",
   "metadata": {},
   "outputs": [
    {
     "data": {
      "image/png": "[encoded data removed]",
      "text/plain": [
       "<Figure size 700x500 with 1 Axes>"
      ]
     },
     "metadata": {},
     "output_type": "display_data"
    }
   ],
   "source": [
    "# Diabetes veri kümesini yükle\n",
    "df = pd.read_csv(\"datasets/diabetes.csv\")\n",
    "\n",
    "# Hedef değişken ve özellikleri belirle\n",
    "y = df[\"Outcome\"]\n",
    "X = df.drop([\"Outcome\"], axis=1)\n",
    "\n",
    "# PCA sonuçlarını oluştur\n",
    "pca_df = create_pca_df(X, y)\n",
    "\n",
    "# PCA sonuçlarını görselleştir\n",
    "plot_pca(pca_df, \"Outcome\")\n"
   ]
  },
  {
   "cell_type": "markdown",
   "id": "4c608ddc",
   "metadata": {},
   "source": [
    "Diabet veri setindeki sınıflar çok iç içe gözüküyor. Sınıflandırma işlemi zor yorumu yapabiliriz."
   ]
  }
 ],
 "metadata": {
  "kernelspec": {
   "display_name": "Python 3 (ipykernel)",
   "language": "python",
   "name": "python3"
  },
  "language_info": {
   "codemirror_mode": {
    "name": "ipython",
    "version": 3
   },
   "file_extension": ".py",
   "mimetype": "text/x-python",
   "name": "python",
   "nbconvert_exporter": "python",
   "pygments_lexer": "ipython3",
   "version": "3.11.5"
  }
 },
 "nbformat": 4,
 "nbformat_minor": 5
}
