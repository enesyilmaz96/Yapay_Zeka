{
 "cells": [
  {
   "cell_type": "markdown",
   "id": "6ca74fdd",
   "metadata": {},
   "source": [
    "# End-to-End Diabetes Machine Learning \n",
    "\n",
    "# Pipeline I\n",
    "\n",
    "**Uçtan Uca Diyabet Makine Öğrenimi İş Hattı I**"
   ]
  },
  {
   "cell_type": "markdown",
   "id": "fa4e54b3",
   "metadata": {},
   "source": [
    "## 1. Exploratory Data Analysis\n",
    "## 2. Data Preprocessing & Feature Engineering\n",
    "## 3. Base Models\n",
    "## 4. Automated Hyperparameter Optimization\n",
    "## 5. Stacking & Ensemble Learning\n",
    "## 6. Prediction for a New Observation\n",
    "## 7. Pipeline Main Function\n"
   ]
  },
  {
   "cell_type": "code",
   "execution_count": 1,
   "id": "eac8052d",
   "metadata": {},
   "outputs": [],
   "source": [
    "# Gerekli kütüphanelerin yüklenmesi\n",
    "import joblib\n",
    "import pandas as pd\n",
    "import seaborn as sns\n",
    "from matplotlib import pyplot as plt\n",
    "from sklearn.ensemble import RandomForestClassifier, GradientBoostingClassifier, VotingClassifier, AdaBoostClassifier\n",
    "from sklearn.linear_model import LogisticRegression\n",
    "from sklearn.model_selection import cross_validate, GridSearchCV\n",
    "from sklearn.neighbors import KNeighborsClassifier\n",
    "from sklearn.svm import SVC\n",
    "from sklearn.tree import DecisionTreeClassifier\n",
    "from sklearn.preprocessing import StandardScaler\n"
   ]
  },
  {
   "cell_type": "code",
   "execution_count": 2,
   "id": "2097828a",
   "metadata": {},
   "outputs": [],
   "source": [
    "# Gerekli kütüphaneleri yükleyim\n",
    "\n",
    "#!pip install catboost\n",
    "#!pip install lightgbm\n",
    "#!pip install xgboost"
   ]
  },
  {
   "cell_type": "code",
   "execution_count": 3,
   "id": "a8936140",
   "metadata": {},
   "outputs": [],
   "source": [
    "from xgboost import XGBClassifier\n",
    "from lightgbm import LGBMClassifier\n",
    "from catboost import CatBoostClassifier"
   ]
  },
  {
   "cell_type": "code",
   "execution_count": 4,
   "id": "e9e44355",
   "metadata": {},
   "outputs": [],
   "source": [
    "# DataFrame görüntüleme seçeneklerinin ayarlanması\n",
    "pd.set_option('display.max_columns', None)\n",
    "pd.set_option('display.width', 500)\n"
   ]
  },
  {
   "cell_type": "markdown",
   "id": "ca62c5ab",
   "metadata": {},
   "source": [
    "# 1. Exploratory Data Analysis"
   ]
  },
  {
   "cell_type": "code",
   "execution_count": 5,
   "id": "0dfe8ed7",
   "metadata": {},
   "outputs": [],
   "source": [
    "def check_df(dataframe, head=5):\n",
    "    \"\"\"\n",
    "    Veri çerçevesinin şekli, türleri, başı ve sonu, eksik değer sayıları, çeyreklikler gibi temel bilgileri gösteren fonksiyon.\n",
    "\n",
    "    Parameters:\n",
    "    dataframe (pd.DataFrame): İncelenmek istenen veri çerçevesi.\n",
    "    head (int): Baş ve son kısımların kaç satır gösterileceğini belirten parametre. Varsayılan değer 5.\n",
    "\n",
    "    Returns:\n",
    "    None\n",
    "    \"\"\"\n",
    "    # Veri çerçevesinin şekli (satır ve sütun sayısı)\n",
    "    print(\"##################### Shape #####################\")\n",
    "    print(dataframe.shape)\n",
    "\n",
    "    # Veri çerçevesindeki değişkenlerin türleri\n",
    "    print(\"##################### Types #####################\")\n",
    "    print(dataframe.dtypes)\n",
    "\n",
    "    # Veri çerçevesinin başı (ilk `head` satır)\n",
    "    print(\"##################### Head #####################\")\n",
    "    print(dataframe.head(head))\n",
    "\n",
    "    # Veri çerçevesinin sonu (son `head` satır)\n",
    "    print(\"##################### Tail #####################\")\n",
    "    print(dataframe.tail(head))\n",
    "\n",
    "    # Eksik değer sayıları\n",
    "    print(\"##################### NA #####################\")\n",
    "    print(dataframe.isnull().sum())\n",
    "\n",
    "    # Çeyreklikler\n",
    "    print(\"##################### Quantiles #####################\")\n",
    "    print(dataframe.quantile([0, 0.05, 0.50, 0.95, 0.99, 1], interpolation='nearest').T)"
   ]
  },
  {
   "cell_type": "code",
   "execution_count": 6,
   "id": "8d5e9d48",
   "metadata": {},
   "outputs": [],
   "source": [
    "def cat_summary(dataframe, col_name, plot=False):\n",
    "    \"\"\"\n",
    "    Bu fonksiyon, bir veri çerçevesindeki kategorik bir değişkenin sınıf frekanslarına ve oranlarına dair bilgileri gösterir.\n",
    "\n",
    "    Parameters:\n",
    "    - dataframe: İncelenmek istenen veri çerçevesi.\n",
    "    - col_name: Frekansları ve oranları hesaplanacak kategorik değişkenin ismi.\n",
    "    - plot: Varsayılan olarak False değerine sahip bu parametre, kategorik değişkenin frekanslarını gösteren bir çubuk grafiği çizilip çizilmeyeceğini belirler.\n",
    "\n",
    "    Returns:\n",
    "    None\n",
    "    \"\"\"\n",
    "    # Kategorik değişkenin sınıf frekanslarını ve oranlarını hesapla\n",
    "    class_counts = dataframe[col_name].value_counts()\n",
    "    class_ratios = 100 * class_counts / len(dataframe)\n",
    "\n",
    "    # Hesaplanan bilgileri bir veri çerçevesine dönüştür\n",
    "    summary_df = pd.DataFrame({col_name: class_counts, \"Ratio\": class_ratios})\n",
    "\n",
    "    # Elde edilen bilgileri ekrana yazdır\n",
    "    print(summary_df)\n",
    "    print(\"##########################################\")\n",
    "\n",
    "    # Eğer plot parametresi True olarak belirlenmişse, çubuk grafiği çiz\n",
    "    if plot:\n",
    "        sns.countplot(x=dataframe[col_name], data=dataframe)\n"
   ]
  },
  {
   "cell_type": "code",
   "execution_count": 7,
   "id": "88448b36",
   "metadata": {},
   "outputs": [],
   "source": [
    "def num_summary(dataframe, numerical_col, plot=False):\n",
    "    \"\"\"\n",
    "    Bu fonksiyon, bir veri çerçevesindeki sayısal bir değişkenin temel istatistiklerini ve istenirse bir histogramını gösterir.\n",
    "\n",
    "    Parameters:\n",
    "    - dataframe: İncelenmek istenen veri çerçevesi.\n",
    "    - numerical_col: Temel istatistikleri ve histogramı çizilecek sayısal değişkenin ismi.\n",
    "    - plot: Varsayılan olarak False değerine sahip bu parametre, sayısal değişkenin histogramını çizilip çizilmeyeceğini belirler.\n",
    "\n",
    "    Returns:\n",
    "    None\n",
    "    \"\"\"\n",
    "    # Temel istatistikleri hesapla\n",
    "    quantiles = [0.05, 0.10, 0.20, 0.30, 0.40, 0.50, 0.60, 0.70, 0.80, 0.90, 0.95, 0.99]\n",
    "    descriptive_stats = dataframe[numerical_col].describe(quantiles).T\n",
    "\n",
    "    # Hesaplanan istatistikleri ekrana yazdır\n",
    "    print(descriptive_stats)\n",
    "\n",
    "    # Eğer plot parametresi True olarak belirlenmişse, sayısal değişkenin histogramını çiz\n",
    "    if plot:\n",
    "        dataframe[numerical_col].hist(bins=20)\n",
    "        plt.xlabel(numerical_col)\n",
    "        plt.title(numerical_col)\n",
    "        plt.show(block=True)\n"
   ]
  },
  {
   "cell_type": "markdown",
   "id": "2a6c5c6a",
   "metadata": {},
   "source": [
    "Bu fonksiyon, bir veri çerçevesindeki **kategorik bir hedef** değişkenle **sayısal** bir değişkenin **ilişkisini özetleyen istatistikler** üretir. Fonksiyon, gruplama işlemini gerçekleştirir, her kategori için sayısal değişkenin ortalamasını hesaplar ve sonuçları ekrana yazdırır."
   ]
  },
  {
   "cell_type": "code",
   "execution_count": 8,
   "id": "af729c4f",
   "metadata": {},
   "outputs": [],
   "source": [
    "def target_summary_with_num(dataframe, target, numerical_col):\n",
    "    \"\"\"\n",
    "    Bu fonksiyon, kategorik bir hedef değişkenle sayısal bir değişkenin ilişkisini gösteren özet istatistikler üretir.\n",
    "\n",
    "    Parameters:\n",
    "    - dataframe: İncelenmek istenen veri çerçevesi.\n",
    "    - target: Hedef değişkenin ismi.\n",
    "    - numerical_col: İlişkiyi göstermek istediğimiz sayısal değişkenin ismi.\n",
    "\n",
    "    Returns:\n",
    "    None\n",
    "    \"\"\"\n",
    "    # Veri çerçevesini hedef değişken üzerinden grupla, sayısal değişkenin ortalamasını hesapla ve ekrana yazdır\n",
    "    summary = dataframe.groupby(target).agg({numerical_col: \"mean\"})\n",
    "    print(summary, end=\"\\n\\n\\n\")"
   ]
  },
  {
   "cell_type": "markdown",
   "id": "aa74bb54",
   "metadata": {},
   "source": [
    "Bu fonksiyon, bir veri çerçevesindeki **sayısal bir hedef** değişkenle **kategorik** bir değişkenin **ilişkisini özetleyen istatistikler** üretir. Fonksiyon, gruplama işlemini gerçekleştirir, her kategori için hedef değişkenin ortalamasını hesaplar ve sonuçları ekrana yazdırır."
   ]
  },
  {
   "cell_type": "code",
   "execution_count": 9,
   "id": "5d54f1eb",
   "metadata": {},
   "outputs": [],
   "source": [
    "def target_summary_with_cat(dataframe, target, categorical_col):\n",
    "    \"\"\"\n",
    "    Bu fonksiyon, sayısal bir hedef değişkenle kategorik bir değişkenin ilişkisini gösteren özet istatistikler üretir.\n",
    "\n",
    "    Parameters:\n",
    "    - dataframe: İncelenmek istenen veri çerçevesi.\n",
    "    - target: Sayısal hedef değişkenin ismi.\n",
    "    - categorical_col: İlişkiyi göstermek istediğimiz kategorik değişkenin ismi.\n",
    "\n",
    "    Returns:\n",
    "    None\n",
    "    \"\"\"\n",
    "    # Veri çerçevesini kategorik değişken üzerinden grupla, hedef değişkenin ortalamasını hesapla ve ekrana yazdır\n",
    "    summary = pd.DataFrame({\"TARGET_MEAN\": dataframe.groupby(categorical_col)[target].mean()})\n",
    "    print(summary, end=\"\\n\\n\\n\")\n"
   ]
  },
  {
   "cell_type": "markdown",
   "id": "e629e54d",
   "metadata": {},
   "source": [
    "Bu fonksiyon, belirli sütunlardan oluşan bir veri çerçevesindeki **korelasyon matrisini** hesaplar ve görselleştirir. Korelasyon matrisini göstermek için seaborn kütüphanesinin heatmap fonksiyonunu kullanır. Fonksiyon, belirtilen sütunları içeren bir korelasyon matrisi oluşturur ve bu matrisi **ısı haritası** olarak görselleştirir."
   ]
  },
  {
   "cell_type": "code",
   "execution_count": 10,
   "id": "e2fa8bf6",
   "metadata": {},
   "outputs": [],
   "source": [
    "def correlation_matrix(df, cols):\n",
    "    \"\"\"\n",
    "    Bu fonksiyon, belirli sütunlardan oluşan bir veri çerçevesindeki korelasyon matrisini görselleştirir.\n",
    "\n",
    "    Parameters:\n",
    "    - df: Veri çerçevesi.\n",
    "    - cols: Korelasyon matrisini görselleştirmek istediğiniz sütunların listesi.\n",
    "\n",
    "    Returns:\n",
    "    None\n",
    "    \"\"\"\n",
    "    # Korelasyon matrisini hesapla\n",
    "    correlation_matrix = df[cols].corr()\n",
    "\n",
    "    # Görselleştirme\n",
    "    fig = plt.gcf()\n",
    "    fig.set_size_inches(10, 8)\n",
    "    plt.xticks(fontsize=10)\n",
    "    plt.yticks(fontsize=10)\n",
    "    sns.heatmap(correlation_matrix, annot=True, linewidths=0.5, annot_kws={'size': 12}, linecolor='w', cmap='RdBu')\n",
    "    plt.show(block=True)\n"
   ]
  },
  {
   "cell_type": "markdown",
   "id": "cf484ef1",
   "metadata": {},
   "source": [
    "Bu fonksiyon, bir veri çerçevesindeki **değişkenlerin türlerine göre** gruplandırılmasını sağlar. Veri çerçevesindeki değişkenleri;\n",
    "\n",
    "- Kategorik \n",
    "- Numerik \n",
    "- Kategorik görünümlü kardinal (Sayısal olsada sınıf sayısı az olduğu için kategorik listesine atılan değişkenler.)\n",
    "\n",
    "olarak **üç farklı grup altında toplar**. Fonksiyonun dönüş değeri olarak bu üç grup içindeki değişken isimlerini içeren üç liste verir. Fonksiyonun çağrılması örnekleri de açıklamalarda verilmiştir."
   ]
  },
  {
   "cell_type": "code",
   "execution_count": 11,
   "id": "f72276c1",
   "metadata": {},
   "outputs": [],
   "source": [
    "def grab_col_names(dataframe, cat_th=10, car_th=20):\n",
    "    \"\"\"\n",
    "    Veri setindeki kategorik, numerik ve kategorik fakat kardinal değişkenlerin isimlerini verir.\n",
    "    \n",
    "    Parameters\n",
    "    ------\n",
    "        dataframe: dataframe\n",
    "                Değişken isimleri alınmak istenilen dataframe\n",
    "        cat_th: int, optional\n",
    "                numerik fakat kategorik olan değişkenler için sınıf eşik değeri\n",
    "        car_th: int, optional\n",
    "                kategorik fakat kardinal değişkenler için sınıf eşik değeri\n",
    "\n",
    "    Returns\n",
    "    ------\n",
    "        cat_cols: list\n",
    "                Kategorik değişken listesi\n",
    "        num_cols: list\n",
    "                Numerik değişken listesi\n",
    "        cat_but_car: list\n",
    "                Kategorik görünümlü kardinal değişken listesi\n",
    "\n",
    "    Examples\n",
    "    ------\n",
    "        import seaborn as sns\n",
    "        df = sns.load_dataset(\"iris\")\n",
    "        print(grab_col_names(df))\n",
    "\n",
    "    Notes\n",
    "    ------\n",
    "        cat_cols + num_cols + cat_but_car = toplam değişken sayısı\n",
    "        num_but_cat cat_cols'un içerisinde.\n",
    "        Return olan 3 liste toplamı toplam değişken sayısına eşittir: cat_cols + num_cols + cat_but_car = değişken sayısı\n",
    "    \"\"\"\n",
    "\n",
    "    # cat_cols, cat_but_car\n",
    "    cat_cols = [col for col in dataframe.columns if dataframe[col].dtypes == \"O\"]\n",
    "    num_but_cat = [col for col in dataframe.columns if dataframe[col].nunique() < cat_th and\n",
    "                   dataframe[col].dtypes != \"O\"]\n",
    "    cat_but_car = [col for col in dataframe.columns if dataframe[col].nunique() > car_th and\n",
    "                   dataframe[col].dtypes == \"O\"]\n",
    "    cat_cols = cat_cols + num_but_cat\n",
    "    cat_cols = [col for col in cat_cols if col not in cat_but_car]\n",
    "\n",
    "    # num_cols\n",
    "    num_cols = [col for col in dataframe.columns if dataframe[col].dtypes != \"O\"]\n",
    "    num_cols = [col for col in num_cols if col not in num_but_cat]\n",
    "\n",
    "    return cat_cols, num_cols, cat_but_car"
   ]
  },
  {
   "cell_type": "markdown",
   "id": "a063ba86",
   "metadata": {},
   "source": [
    "Bu kod bloğu, bir veri çerçevesinin temel özelliklerini kontrol etmek için kullanılır."
   ]
  },
  {
   "cell_type": "code",
   "execution_count": 12,
   "id": "230d1dab",
   "metadata": {},
   "outputs": [
    {
     "name": "stdout",
     "output_type": "stream",
     "text": [
      "##################### Shape #####################\n",
      "(768, 9)\n",
      "##################### Types #####################\n",
      "Pregnancies                   int64\n",
      "Glucose                       int64\n",
      "BloodPressure                 int64\n",
      "SkinThickness                 int64\n",
      "Insulin                       int64\n",
      "BMI                         float64\n",
      "DiabetesPedigreeFunction    float64\n",
      "Age                           int64\n",
      "Outcome                       int64\n",
      "dtype: object\n",
      "##################### Head #####################\n",
      "   Pregnancies  Glucose  BloodPressure  SkinThickness  Insulin   BMI  DiabetesPedigreeFunction  Age  Outcome\n",
      "0            6      148             72             35        0  33.6                     0.627   50        1\n",
      "1            1       85             66             29        0  26.6                     0.351   31        0\n",
      "2            8      183             64              0        0  23.3                     0.672   32        1\n",
      "3            1       89             66             23       94  28.1                     0.167   21        0\n",
      "4            0      137             40             35      168  43.1                     2.288   33        1\n",
      "##################### Tail #####################\n",
      "     Pregnancies  Glucose  BloodPressure  SkinThickness  Insulin   BMI  DiabetesPedigreeFunction  Age  Outcome\n",
      "763           10      101             76             48      180  32.9                     0.171   63        0\n",
      "764            2      122             70             27        0  36.8                     0.340   27        0\n",
      "765            5      121             72             23      112  26.2                     0.245   30        0\n",
      "766            1      126             60              0        0  30.1                     0.349   47        1\n",
      "767            1       93             70             31        0  30.4                     0.315   23        0\n",
      "##################### NA #####################\n",
      "Pregnancies                 0\n",
      "Glucose                     0\n",
      "BloodPressure               0\n",
      "SkinThickness               0\n",
      "Insulin                     0\n",
      "BMI                         0\n",
      "DiabetesPedigreeFunction    0\n",
      "Age                         0\n",
      "Outcome                     0\n",
      "dtype: int64\n",
      "##################### Quantiles #####################\n",
      "                            0.00   0.05     0.50     0.95     0.99    1.00\n",
      "Pregnancies                0.000   0.00    3.000   10.000   13.000   17.00\n",
      "Glucose                    0.000  79.00  117.000  181.000  196.000  199.00\n",
      "BloodPressure              0.000  38.00   72.000   90.000  106.000  122.00\n",
      "SkinThickness              0.000   0.00   23.000   44.000   51.000   99.00\n",
      "Insulin                    0.000   0.00   32.000  293.000  510.000  846.00\n",
      "BMI                        0.000  21.80   32.000   44.500   50.000   67.10\n",
      "DiabetesPedigreeFunction   0.078   0.14    0.374    1.136    1.698    2.42\n",
      "Age                       21.000  21.00   29.000   58.000   67.000   81.00\n",
      "Outcome                    0.000   0.00    0.000    1.000    1.000    1.00\n"
     ]
    }
   ],
   "source": [
    "df = pd.read_csv(\"datasets/diabetes.csv\")  # Diabetes veri setini yükleme\n",
    "\n",
    "check_df(df)  # Veri setinin temel özelliklerini kontrol etme"
   ]
  },
  {
   "cell_type": "markdown",
   "id": "491fc372",
   "metadata": {},
   "source": [
    "Fonksiyonu çağırırken **cat_th=5** olarak ayarladık. Bu sayede bir sayısal değişkende 5 den az sınıf varsa bunu kategorik değişken olarak görecek. 5 den fazla varsa sayısal olarak görecek. Kardinal için ise bu değeri 20 olarak ayarladık. Herhangi bir bilgi girilmese fonksiyon içerisindeki varsayılan değeri kullanır. "
   ]
  },
  {
   "cell_type": "code",
   "execution_count": 13,
   "id": "d509b29f",
   "metadata": {},
   "outputs": [
    {
     "name": "stdout",
     "output_type": "stream",
     "text": [
      "Kategorik Değişkenler:\n",
      "['Outcome']\n",
      "\n",
      "Numerik Değişkenler:\n",
      "['Pregnancies', 'Glucose', 'BloodPressure', 'SkinThickness', 'Insulin', 'BMI', 'DiabetesPedigreeFunction', 'Age']\n",
      "\n",
      "Kategorik Görünümlü Kardinal Değişkenler:\n",
      "[]\n"
     ]
    }
   ],
   "source": [
    "# Değişken türlerinin ayrıştırılması\n",
    "cat_cols, num_cols, cat_but_car = grab_col_names(df, cat_th=5, car_th=20)\n",
    "\n",
    "print(\"Kategorik Değişkenler:\")\n",
    "print(cat_cols)\n",
    "print(\"\\nNumerik Değişkenler:\")\n",
    "print(num_cols)\n",
    "print(\"\\nKategorik Görünümlü Kardinal Değişkenler:\")\n",
    "print(cat_but_car)"
   ]
  },
  {
   "cell_type": "markdown",
   "id": "99f27df5",
   "metadata": {},
   "source": [
    "Görüldüğü üzere tek kategorik değişken bağımlı (hedef) değişkenimiz."
   ]
  },
  {
   "cell_type": "code",
   "execution_count": 14,
   "id": "86b3c266",
   "metadata": {},
   "outputs": [
    {
     "name": "stdout",
     "output_type": "stream",
     "text": [
      "         Outcome      Ratio\n",
      "Outcome                    \n",
      "0            500  65.104167\n",
      "1            268  34.895833\n",
      "##########################################\n"
     ]
    }
   ],
   "source": [
    "# Kategorik değişkenlerin incelenmesi\n",
    "for col in cat_cols:\n",
    "    cat_summary(df, col)"
   ]
  },
  {
   "cell_type": "code",
   "execution_count": 15,
   "id": "402e77a6",
   "metadata": {},
   "outputs": [
    {
     "data": {
      "text/html": [
       "<div>\n",
       "<style scoped>\n",
       "    .dataframe tbody tr th:only-of-type {\n",
       "        vertical-align: middle;\n",
       "    }\n",
       "\n",
       "    .dataframe tbody tr th {\n",
       "        vertical-align: top;\n",
       "    }\n",
       "\n",
       "    .dataframe thead th {\n",
       "        text-align: right;\n",
       "    }\n",
       "</style>\n",
       "<table border=\"1\" class=\"dataframe\">\n",
       "  <thead>\n",
       "    <tr style=\"text-align: right;\">\n",
       "      <th></th>\n",
       "      <th>count</th>\n",
       "      <th>mean</th>\n",
       "      <th>std</th>\n",
       "      <th>min</th>\n",
       "      <th>25%</th>\n",
       "      <th>50%</th>\n",
       "      <th>75%</th>\n",
       "      <th>max</th>\n",
       "    </tr>\n",
       "  </thead>\n",
       "  <tbody>\n",
       "    <tr>\n",
       "      <th>Pregnancies</th>\n",
       "      <td>768.0</td>\n",
       "      <td>3.845052</td>\n",
       "      <td>3.369578</td>\n",
       "      <td>0.000</td>\n",
       "      <td>1.00000</td>\n",
       "      <td>3.0000</td>\n",
       "      <td>6.00000</td>\n",
       "      <td>17.00</td>\n",
       "    </tr>\n",
       "    <tr>\n",
       "      <th>Glucose</th>\n",
       "      <td>768.0</td>\n",
       "      <td>120.894531</td>\n",
       "      <td>31.972618</td>\n",
       "      <td>0.000</td>\n",
       "      <td>99.00000</td>\n",
       "      <td>117.0000</td>\n",
       "      <td>140.25000</td>\n",
       "      <td>199.00</td>\n",
       "    </tr>\n",
       "    <tr>\n",
       "      <th>BloodPressure</th>\n",
       "      <td>768.0</td>\n",
       "      <td>69.105469</td>\n",
       "      <td>19.355807</td>\n",
       "      <td>0.000</td>\n",
       "      <td>62.00000</td>\n",
       "      <td>72.0000</td>\n",
       "      <td>80.00000</td>\n",
       "      <td>122.00</td>\n",
       "    </tr>\n",
       "    <tr>\n",
       "      <th>SkinThickness</th>\n",
       "      <td>768.0</td>\n",
       "      <td>20.536458</td>\n",
       "      <td>15.952218</td>\n",
       "      <td>0.000</td>\n",
       "      <td>0.00000</td>\n",
       "      <td>23.0000</td>\n",
       "      <td>32.00000</td>\n",
       "      <td>99.00</td>\n",
       "    </tr>\n",
       "    <tr>\n",
       "      <th>Insulin</th>\n",
       "      <td>768.0</td>\n",
       "      <td>79.799479</td>\n",
       "      <td>115.244002</td>\n",
       "      <td>0.000</td>\n",
       "      <td>0.00000</td>\n",
       "      <td>30.5000</td>\n",
       "      <td>127.25000</td>\n",
       "      <td>846.00</td>\n",
       "    </tr>\n",
       "    <tr>\n",
       "      <th>BMI</th>\n",
       "      <td>768.0</td>\n",
       "      <td>31.992578</td>\n",
       "      <td>7.884160</td>\n",
       "      <td>0.000</td>\n",
       "      <td>27.30000</td>\n",
       "      <td>32.0000</td>\n",
       "      <td>36.60000</td>\n",
       "      <td>67.10</td>\n",
       "    </tr>\n",
       "    <tr>\n",
       "      <th>DiabetesPedigreeFunction</th>\n",
       "      <td>768.0</td>\n",
       "      <td>0.471876</td>\n",
       "      <td>0.331329</td>\n",
       "      <td>0.078</td>\n",
       "      <td>0.24375</td>\n",
       "      <td>0.3725</td>\n",
       "      <td>0.62625</td>\n",
       "      <td>2.42</td>\n",
       "    </tr>\n",
       "    <tr>\n",
       "      <th>Age</th>\n",
       "      <td>768.0</td>\n",
       "      <td>33.240885</td>\n",
       "      <td>11.760232</td>\n",
       "      <td>21.000</td>\n",
       "      <td>24.00000</td>\n",
       "      <td>29.0000</td>\n",
       "      <td>41.00000</td>\n",
       "      <td>81.00</td>\n",
       "    </tr>\n",
       "  </tbody>\n",
       "</table>\n",
       "</div>"
      ],
      "text/plain": [
       "                          count        mean         std     min       25%       50%        75%     max\n",
       "Pregnancies               768.0    3.845052    3.369578   0.000   1.00000    3.0000    6.00000   17.00\n",
       "Glucose                   768.0  120.894531   31.972618   0.000  99.00000  117.0000  140.25000  199.00\n",
       "BloodPressure             768.0   69.105469   19.355807   0.000  62.00000   72.0000   80.00000  122.00\n",
       "SkinThickness             768.0   20.536458   15.952218   0.000   0.00000   23.0000   32.00000   99.00\n",
       "Insulin                   768.0   79.799479  115.244002   0.000   0.00000   30.5000  127.25000  846.00\n",
       "BMI                       768.0   31.992578    7.884160   0.000  27.30000   32.0000   36.60000   67.10\n",
       "DiabetesPedigreeFunction  768.0    0.471876    0.331329   0.078   0.24375    0.3725    0.62625    2.42\n",
       "Age                       768.0   33.240885   11.760232  21.000  24.00000   29.0000   41.00000   81.00"
      ]
     },
     "execution_count": 15,
     "metadata": {},
     "output_type": "execute_result"
    }
   ],
   "source": [
    "# Sayısal değişkenlerin incelenmesi\n",
    "df[num_cols].describe().T"
   ]
  },
  {
   "cell_type": "markdown",
   "id": "6c08e0f0",
   "metadata": {},
   "source": [
    "Tabloyu incelediğimizde **Insuline** değerinde anormallik var gibi gözüküyor. Çünkü ortalama değer 79 ve 3. çeyrek (%75) 127 iken max değer 846 gelmiş. "
   ]
  },
  {
   "cell_type": "code",
   "execution_count": 16,
   "id": "35b4f985",
   "metadata": {},
   "outputs": [
    {
     "name": "stdout",
     "output_type": "stream",
     "text": [
      "count    768.000000\n",
      "mean       3.845052\n",
      "std        3.369578\n",
      "min        0.000000\n",
      "5%         0.000000\n",
      "10%        0.000000\n",
      "20%        1.000000\n",
      "30%        1.000000\n",
      "40%        2.000000\n",
      "50%        3.000000\n",
      "60%        4.000000\n",
      "70%        5.000000\n",
      "80%        7.000000\n",
      "90%        9.000000\n",
      "95%       10.000000\n",
      "99%       13.000000\n",
      "max       17.000000\n",
      "Name: Pregnancies, dtype: float64\n"
     ]
    },
    {
     "data": {
      "image/png": "[encoded data removed]",
      "text/plain": [
       "<Figure size 640x480 with 1 Axes>"
      ]
     },
     "metadata": {},
     "output_type": "display_data"
    },
    {
     "name": "stdout",
     "output_type": "stream",
     "text": [
      "count    768.000000\n",
      "mean     120.894531\n",
      "std       31.972618\n",
      "min        0.000000\n",
      "5%        79.000000\n",
      "10%       85.000000\n",
      "20%       95.000000\n",
      "30%      102.000000\n",
      "40%      109.000000\n",
      "50%      117.000000\n",
      "60%      125.000000\n",
      "70%      134.000000\n",
      "80%      147.000000\n",
      "90%      167.000000\n",
      "95%      181.000000\n",
      "99%      196.000000\n",
      "max      199.000000\n",
      "Name: Glucose, dtype: float64\n"
     ]
    },
    {
     "data": {
      "image/png": "[encoded data removed]",
      "text/plain": [
       "<Figure size 640x480 with 1 Axes>"
      ]
     },
     "metadata": {},
     "output_type": "display_data"
    },
    {
     "name": "stdout",
     "output_type": "stream",
     "text": [
      "count    768.000000\n",
      "mean      69.105469\n",
      "std       19.355807\n",
      "min        0.000000\n",
      "5%        38.700000\n",
      "10%       54.000000\n",
      "20%       60.000000\n",
      "30%       64.000000\n",
      "40%       68.000000\n",
      "50%       72.000000\n",
      "60%       74.000000\n",
      "70%       78.000000\n",
      "80%       82.000000\n",
      "90%       88.000000\n",
      "95%       90.000000\n",
      "99%      106.000000\n",
      "max      122.000000\n",
      "Name: BloodPressure, dtype: float64\n"
     ]
    },
    {
     "data": {
      "image/png": "[encoded data removed]",
      "text/plain": [
       "<Figure size 640x480 with 1 Axes>"
      ]
     },
     "metadata": {},
     "output_type": "display_data"
    },
    {
     "name": "stdout",
     "output_type": "stream",
     "text": [
      "count    768.000000\n",
      "mean      20.536458\n",
      "std       15.952218\n",
      "min        0.000000\n",
      "5%         0.000000\n",
      "10%        0.000000\n",
      "20%        0.000000\n",
      "30%        8.200000\n",
      "40%       18.000000\n",
      "50%       23.000000\n",
      "60%       27.000000\n",
      "70%       31.000000\n",
      "80%       35.000000\n",
      "90%       40.000000\n",
      "95%       44.000000\n",
      "99%       51.330000\n",
      "max       99.000000\n",
      "Name: SkinThickness, dtype: float64\n"
     ]
    },
    {
     "data": {
      "image/png": "[encoded data removed]",
      "text/plain": [
       "<Figure size 640x480 with 1 Axes>"
      ]
     },
     "metadata": {},
     "output_type": "display_data"
    },
    {
     "name": "stdout",
     "output_type": "stream",
     "text": [
      "count    768.000000\n",
      "mean      79.799479\n",
      "std      115.244002\n",
      "min        0.000000\n",
      "5%         0.000000\n",
      "10%        0.000000\n",
      "20%        0.000000\n",
      "30%        0.000000\n",
      "40%        0.000000\n",
      "50%       30.500000\n",
      "60%       72.200000\n",
      "70%      106.000000\n",
      "80%      150.000000\n",
      "90%      210.000000\n",
      "95%      293.000000\n",
      "99%      519.900000\n",
      "max      846.000000\n",
      "Name: Insulin, dtype: float64\n"
     ]
    },
    {
     "data": {
      "image/png": "[encoded data removed]",
      "text/plain": [
       "<Figure size 640x480 with 1 Axes>"
      ]
     },
     "metadata": {},
     "output_type": "display_data"
    },
    {
     "name": "stdout",
     "output_type": "stream",
     "text": [
      "count    768.000000\n",
      "mean      31.992578\n",
      "std        7.884160\n",
      "min        0.000000\n",
      "5%        21.800000\n",
      "10%       23.600000\n",
      "20%       25.900000\n",
      "30%       28.200000\n",
      "40%       30.100000\n",
      "50%       32.000000\n",
      "60%       33.700000\n",
      "70%       35.490000\n",
      "80%       37.800000\n",
      "90%       41.500000\n",
      "95%       44.395000\n",
      "99%       50.759000\n",
      "max       67.100000\n",
      "Name: BMI, dtype: float64\n"
     ]
    },
    {
     "data": {
      "image/png": "[encoded data removed]",
      "text/plain": [
       "<Figure size 640x480 with 1 Axes>"
      ]
     },
     "metadata": {},
     "output_type": "display_data"
    },
    {
     "name": "stdout",
     "output_type": "stream",
     "text": [
      "count    768.000000\n",
      "mean       0.471876\n",
      "std        0.331329\n",
      "min        0.078000\n",
      "5%         0.140350\n",
      "10%        0.165000\n",
      "20%        0.219400\n",
      "30%        0.259000\n",
      "40%        0.302800\n",
      "50%        0.372500\n",
      "60%        0.454200\n",
      "70%        0.563700\n",
      "80%        0.687000\n",
      "90%        0.878600\n",
      "95%        1.132850\n",
      "99%        1.698330\n",
      "max        2.420000\n",
      "Name: DiabetesPedigreeFunction, dtype: float64\n"
     ]
    },
    {
     "data": {
      "image/png": "[encoded data removed]",
      "text/plain": [
       "<Figure size 640x480 with 1 Axes>"
      ]
     },
     "metadata": {},
     "output_type": "display_data"
    },
    {
     "name": "stdout",
     "output_type": "stream",
     "text": [
      "count    768.000000\n",
      "mean      33.240885\n",
      "std       11.760232\n",
      "min       21.000000\n",
      "5%        21.000000\n",
      "10%       22.000000\n",
      "20%       23.000000\n",
      "30%       25.000000\n",
      "40%       27.000000\n",
      "50%       29.000000\n",
      "60%       33.000000\n",
      "70%       38.000000\n",
      "80%       42.600000\n",
      "90%       51.000000\n",
      "95%       58.000000\n",
      "99%       67.000000\n",
      "max       81.000000\n",
      "Name: Age, dtype: float64\n"
     ]
    },
    {
     "data": {
      "image/png": "[encoded data removed]",
      "text/plain": [
       "<Figure size 640x480 with 1 Axes>"
      ]
     },
     "metadata": {},
     "output_type": "display_data"
    }
   ],
   "source": [
    "# Sayısal değişkenlerin grafiği\n",
    "for col in num_cols:\n",
    "    num_summary(df, col, plot=True)"
   ]
  },
  {
   "cell_type": "markdown",
   "id": "bd7537fa",
   "metadata": {},
   "source": [
    "Grafikte genel veri dağılımına aykırı gözüken değerleri inceleyebilirsiniz."
   ]
  },
  {
   "cell_type": "code",
   "execution_count": 17,
   "id": "63830368",
   "metadata": {},
   "outputs": [
    {
     "data": {
      "image/png": "[encoded data removed]",
      "text/plain": [
       "<Figure size 1000x800 with 2 Axes>"
      ]
     },
     "metadata": {},
     "output_type": "display_data"
    }
   ],
   "source": [
    "# Sayısal değişkenkerin birbirleri ile korelasyonu\n",
    "correlation_matrix(df, num_cols)"
   ]
  },
  {
   "cell_type": "markdown",
   "id": "1adefe75",
   "metadata": {},
   "source": [
    "Matrisi inecelersek hamilelik ile yas arasındaki 0.54'luk pozitif yönlü orta şiddetli bir korelasyon mevcut. Yani yaş arttıkça hamilelik oranı artmaktadır.\n",
    "\n",
    "Aynı şekilde Insulin ile SkinThickness arasında 0.44 oranında pozitif korelasyon mevcut."
   ]
  },
  {
   "cell_type": "code",
   "execution_count": 18,
   "id": "32b2c812",
   "metadata": {
    "scrolled": false
   },
   "outputs": [
    {
     "name": "stdout",
     "output_type": "stream",
     "text": [
      "         Pregnancies\n",
      "Outcome             \n",
      "0           3.298000\n",
      "1           4.865672\n",
      "\n",
      "\n",
      "            Glucose\n",
      "Outcome            \n",
      "0        109.980000\n",
      "1        141.257463\n",
      "\n",
      "\n",
      "         BloodPressure\n",
      "Outcome               \n",
      "0            68.184000\n",
      "1            70.824627\n",
      "\n",
      "\n",
      "         SkinThickness\n",
      "Outcome               \n",
      "0            19.664000\n",
      "1            22.164179\n",
      "\n",
      "\n",
      "            Insulin\n",
      "Outcome            \n",
      "0         68.792000\n",
      "1        100.335821\n",
      "\n",
      "\n",
      "               BMI\n",
      "Outcome           \n",
      "0        30.304200\n",
      "1        35.142537\n",
      "\n",
      "\n",
      "         DiabetesPedigreeFunction\n",
      "Outcome                          \n",
      "0                        0.429734\n",
      "1                        0.550500\n",
      "\n",
      "\n",
      "               Age\n",
      "Outcome           \n",
      "0        31.190000\n",
      "1        37.067164\n",
      "\n",
      "\n"
     ]
    }
   ],
   "source": [
    "# Target ile sayısal değişkenlerin incelemesi\n",
    "for col in num_cols:\n",
    "    target_summary_with_num(df, \"Outcome\", col)\n"
   ]
  },
  {
   "cell_type": "markdown",
   "id": "b144ce9a",
   "metadata": {},
   "source": [
    "Yukarıda bağımlı değişkene göre, bağımsı değişkenlerin ortalaması görülmektedir. Yani diabet hastası (1) olanların yaş ortalaması 37 iken diabet hastası olmayanların (0) yaş ortalaması 31 miş. Bu şekilde bilgi edinebiliriz."
   ]
  },
  {
   "cell_type": "markdown",
   "id": "28cc74e0",
   "metadata": {},
   "source": [
    "# 2. Data Preprocessing & Feature Engineering"
   ]
  },
  {
   "cell_type": "markdown",
   "id": "f8327669",
   "metadata": {},
   "source": [
    "Bu fonksiyon, veri setindeki sayısal değişkenler için aykırı değer sınırlarını hesaplamak için kullanılır."
   ]
  },
  {
   "cell_type": "code",
   "execution_count": 19,
   "id": "f2bb3828",
   "metadata": {},
   "outputs": [],
   "source": [
    "def outlier_thresholds(dataframe, col_name, q1=0.25, q3=0.75):\n",
    "    # col_name isimli sayısal değişkenin aykırı değer sınırlarını belirleme\n",
    "\n",
    "    # quartile1 ve quartile3, col_name değişkeninin belirtilen quantile'larını hesapla\n",
    "    quartile1 = dataframe[col_name].quantile(q1)\n",
    "    quartile3 = dataframe[col_name].quantile(q3)\n",
    "\n",
    "    # interquantile_range, col_name değişkeninin interquantile range'ini hesapla\n",
    "    interquantile_range = quartile3 - quartile1\n",
    "\n",
    "    # up_limit ve low_limit, belirtilen formülle aykırı değer sınırlarını hesapla\n",
    "    up_limit = quartile3 + 1.5 * interquantile_range\n",
    "    low_limit = quartile1 - 1.5 * interquantile_range\n",
    "\n",
    "    # low_limit ve up_limit değerlerini döndür\n",
    "    return low_limit, up_limit"
   ]
  },
  {
   "cell_type": "markdown",
   "id": "5184280d",
   "metadata": {},
   "source": [
    "Bu fonksiyon, belirli bir sayısal değişkenin aykırı değerlerini, önceden belirlenen alt ve üst sınırlarla değiştirmek için kullanılır. "
   ]
  },
  {
   "cell_type": "code",
   "execution_count": 20,
   "id": "2888a903",
   "metadata": {},
   "outputs": [],
   "source": [
    "def replace_with_thresholds(dataframe, variable):\n",
    "    # dataframe içindeki belirli bir sayısal değişkenin aykırı değerlerini alt ve üst sınırlarla değiştirme\n",
    "\n",
    "    # alt_limit ve up_limit, belirli değişken için önceden hesaplanmış aykırı değer sınırlarını al\n",
    "    low_limit, up_limit = outlier_thresholds(dataframe, variable)\n",
    "\n",
    "    # dataframe içinde, belirli değişkenin altındaki değerleri low_limit ile değiştir\n",
    "    dataframe.loc[(dataframe[variable] < low_limit), variable] = low_limit\n",
    "\n",
    "    # dataframe içinde, belirli değişkenin üstündeki değerleri up_limit ile değiştir\n",
    "    dataframe.loc[(dataframe[variable] > up_limit), variable] = up_limit"
   ]
  },
  {
   "cell_type": "markdown",
   "id": "0fa91733",
   "metadata": {},
   "source": [
    "Bu fonksiyon, belirli bir sayısal değişkenin altında veya üstünde aykırı değer içerip içermediğini kontrol eder. Eğer aykırı değer bulunursa True, bulunmazsa False döndürür."
   ]
  },
  {
   "cell_type": "code",
   "execution_count": 21,
   "id": "c113e8e4",
   "metadata": {},
   "outputs": [],
   "source": [
    "def check_outlier(dataframe, col_name, q1=0.25, q3=0.75):\n",
    "    # belirli bir sayısal değişkenin aykırı değer içerip içermediğini kontrol etme\n",
    "\n",
    "    # outlier_thresholds fonksiyonunu kullanarak alt ve üst sınırları al\n",
    "    low_limit, up_limit = outlier_thresholds(dataframe, col_name, q1, q3)\n",
    "\n",
    "    # dataframe içinde, belirli değişkenin altındaki veya üstündeki değerler var mı kontrol et\n",
    "    if dataframe[(dataframe[col_name] > up_limit) | (dataframe[col_name] < low_limit)].any(axis=None):\n",
    "        # Eğer aykırı değer varsa True döndür\n",
    "        return True\n",
    "    else:\n",
    "        # Eğer aykırı değer yoksa False döndür\n",
    "        return False"
   ]
  },
  {
   "cell_type": "markdown",
   "id": "17463552",
   "metadata": {},
   "source": [
    "Bu fonksiyon, belirtilen kategorik değişkenleri one-hot encoding ile dönüştürür ve dönüştürülmüş veriyi geri döndürür."
   ]
  },
  {
   "cell_type": "code",
   "execution_count": 22,
   "id": "9d1ea458",
   "metadata": {},
   "outputs": [],
   "source": [
    "def one_hot_encoder(dataframe, categorical_cols, drop_first=False):\n",
    "    # Kategorik değişkenleri one-hot encoding ile dönüştürme\n",
    "\n",
    "    # get_dummies fonksiyonunu kullanarak one-hot encoding yap\n",
    "    # drop_first parametresi, ilk kategoriyi bırakma veya bırakmama seçeneğini kontrol eder\n",
    "    dataframe = pd.get_dummies(dataframe, columns=categorical_cols, drop_first=drop_first)\n",
    "\n",
    "    # dönüştürülmüş veriyi döndür\n",
    "    return dataframe"
   ]
  },
  {
   "cell_type": "code",
   "execution_count": 23,
   "id": "b364aa84",
   "metadata": {},
   "outputs": [
    {
     "data": {
      "text/html": [
       "<div>\n",
       "<style scoped>\n",
       "    .dataframe tbody tr th:only-of-type {\n",
       "        vertical-align: middle;\n",
       "    }\n",
       "\n",
       "    .dataframe tbody tr th {\n",
       "        vertical-align: top;\n",
       "    }\n",
       "\n",
       "    .dataframe thead th {\n",
       "        text-align: right;\n",
       "    }\n",
       "</style>\n",
       "<table border=\"1\" class=\"dataframe\">\n",
       "  <thead>\n",
       "    <tr style=\"text-align: right;\">\n",
       "      <th></th>\n",
       "      <th>Pregnancies</th>\n",
       "      <th>Glucose</th>\n",
       "      <th>BloodPressure</th>\n",
       "      <th>SkinThickness</th>\n",
       "      <th>Insulin</th>\n",
       "      <th>BMI</th>\n",
       "      <th>DiabetesPedigreeFunction</th>\n",
       "      <th>Age</th>\n",
       "      <th>Outcome</th>\n",
       "    </tr>\n",
       "  </thead>\n",
       "  <tbody>\n",
       "    <tr>\n",
       "      <th>0</th>\n",
       "      <td>6</td>\n",
       "      <td>148</td>\n",
       "      <td>72</td>\n",
       "      <td>35</td>\n",
       "      <td>0</td>\n",
       "      <td>33.6</td>\n",
       "      <td>0.627</td>\n",
       "      <td>50</td>\n",
       "      <td>1</td>\n",
       "    </tr>\n",
       "    <tr>\n",
       "      <th>1</th>\n",
       "      <td>1</td>\n",
       "      <td>85</td>\n",
       "      <td>66</td>\n",
       "      <td>29</td>\n",
       "      <td>0</td>\n",
       "      <td>26.6</td>\n",
       "      <td>0.351</td>\n",
       "      <td>31</td>\n",
       "      <td>0</td>\n",
       "    </tr>\n",
       "    <tr>\n",
       "      <th>2</th>\n",
       "      <td>8</td>\n",
       "      <td>183</td>\n",
       "      <td>64</td>\n",
       "      <td>0</td>\n",
       "      <td>0</td>\n",
       "      <td>23.3</td>\n",
       "      <td>0.672</td>\n",
       "      <td>32</td>\n",
       "      <td>1</td>\n",
       "    </tr>\n",
       "    <tr>\n",
       "      <th>3</th>\n",
       "      <td>1</td>\n",
       "      <td>89</td>\n",
       "      <td>66</td>\n",
       "      <td>23</td>\n",
       "      <td>94</td>\n",
       "      <td>28.1</td>\n",
       "      <td>0.167</td>\n",
       "      <td>21</td>\n",
       "      <td>0</td>\n",
       "    </tr>\n",
       "    <tr>\n",
       "      <th>4</th>\n",
       "      <td>0</td>\n",
       "      <td>137</td>\n",
       "      <td>40</td>\n",
       "      <td>35</td>\n",
       "      <td>168</td>\n",
       "      <td>43.1</td>\n",
       "      <td>2.288</td>\n",
       "      <td>33</td>\n",
       "      <td>1</td>\n",
       "    </tr>\n",
       "  </tbody>\n",
       "</table>\n",
       "</div>"
      ],
      "text/plain": [
       "   Pregnancies  Glucose  BloodPressure  SkinThickness  Insulin   BMI  DiabetesPedigreeFunction  Age  Outcome\n",
       "0            6      148             72             35        0  33.6                     0.627   50        1\n",
       "1            1       85             66             29        0  26.6                     0.351   31        0\n",
       "2            8      183             64              0        0  23.3                     0.672   32        1\n",
       "3            1       89             66             23       94  28.1                     0.167   21        0\n",
       "4            0      137             40             35      168  43.1                     2.288   33        1"
      ]
     },
     "execution_count": 23,
     "metadata": {},
     "output_type": "execute_result"
    }
   ],
   "source": [
    "df.head()"
   ]
  },
  {
   "cell_type": "code",
   "execution_count": 24,
   "id": "ddc6b079",
   "metadata": {},
   "outputs": [],
   "source": [
    "# Değişken isimleri büyütmek\n",
    "df.columns = [col.upper() for col in df.columns]"
   ]
  },
  {
   "cell_type": "markdown",
   "id": "162aa332",
   "metadata": {},
   "source": [
    "Bu kod parçası, \"GLUCOSE\" değişkenini bölerek yeni bir kategorik değişken oluşturmayı amaçlar. Burada amaç glucose değeri 0-139 arasında olanlara = normal, 140-200 arasında olanlara prediabetes (ön diabet) gibi bir isimlendirme yapılır.\n",
    "\n",
    "-1' den başlama sebebi sıfırı da dahil etmektir. Eğer bu şekilde yapmazsak değeri NA değerler oluşabilir."
   ]
  },
  {
   "cell_type": "code",
   "execution_count": 25,
   "id": "94d2cd05",
   "metadata": {},
   "outputs": [],
   "source": [
    "# 'GLUCOSE' değişkenini belirli aralıklara bölerek yeni bir kategorik değişken oluşturma\n",
    "# Bins: -1'den 139'a kadar olanlar 'normal', 139'dan 200'e kadar olanlar 'prediabetes' olarak etiketlenir\n",
    "df['NEW_GLUCOSE_CAT'] = pd.cut(x=df['GLUCOSE'], bins=[-1, 139, 200], labels=[\"normal\", \"prediabetes\"])\n"
   ]
  },
  {
   "cell_type": "code",
   "execution_count": 26,
   "id": "4c6180cc",
   "metadata": {
    "scrolled": true
   },
   "outputs": [
    {
     "data": {
      "text/html": [
       "<div>\n",
       "<style scoped>\n",
       "    .dataframe tbody tr th:only-of-type {\n",
       "        vertical-align: middle;\n",
       "    }\n",
       "\n",
       "    .dataframe tbody tr th {\n",
       "        vertical-align: top;\n",
       "    }\n",
       "\n",
       "    .dataframe thead th {\n",
       "        text-align: right;\n",
       "    }\n",
       "</style>\n",
       "<table border=\"1\" class=\"dataframe\">\n",
       "  <thead>\n",
       "    <tr style=\"text-align: right;\">\n",
       "      <th></th>\n",
       "      <th>PREGNANCIES</th>\n",
       "      <th>GLUCOSE</th>\n",
       "      <th>BLOODPRESSURE</th>\n",
       "      <th>SKINTHICKNESS</th>\n",
       "      <th>INSULIN</th>\n",
       "      <th>BMI</th>\n",
       "      <th>DIABETESPEDIGREEFUNCTION</th>\n",
       "      <th>AGE</th>\n",
       "      <th>OUTCOME</th>\n",
       "      <th>NEW_GLUCOSE_CAT</th>\n",
       "    </tr>\n",
       "  </thead>\n",
       "  <tbody>\n",
       "    <tr>\n",
       "      <th>0</th>\n",
       "      <td>6</td>\n",
       "      <td>148</td>\n",
       "      <td>72</td>\n",
       "      <td>35</td>\n",
       "      <td>0</td>\n",
       "      <td>33.6</td>\n",
       "      <td>0.627</td>\n",
       "      <td>50</td>\n",
       "      <td>1</td>\n",
       "      <td>prediabetes</td>\n",
       "    </tr>\n",
       "    <tr>\n",
       "      <th>1</th>\n",
       "      <td>1</td>\n",
       "      <td>85</td>\n",
       "      <td>66</td>\n",
       "      <td>29</td>\n",
       "      <td>0</td>\n",
       "      <td>26.6</td>\n",
       "      <td>0.351</td>\n",
       "      <td>31</td>\n",
       "      <td>0</td>\n",
       "      <td>normal</td>\n",
       "    </tr>\n",
       "    <tr>\n",
       "      <th>2</th>\n",
       "      <td>8</td>\n",
       "      <td>183</td>\n",
       "      <td>64</td>\n",
       "      <td>0</td>\n",
       "      <td>0</td>\n",
       "      <td>23.3</td>\n",
       "      <td>0.672</td>\n",
       "      <td>32</td>\n",
       "      <td>1</td>\n",
       "      <td>prediabetes</td>\n",
       "    </tr>\n",
       "    <tr>\n",
       "      <th>3</th>\n",
       "      <td>1</td>\n",
       "      <td>89</td>\n",
       "      <td>66</td>\n",
       "      <td>23</td>\n",
       "      <td>94</td>\n",
       "      <td>28.1</td>\n",
       "      <td>0.167</td>\n",
       "      <td>21</td>\n",
       "      <td>0</td>\n",
       "      <td>normal</td>\n",
       "    </tr>\n",
       "    <tr>\n",
       "      <th>4</th>\n",
       "      <td>0</td>\n",
       "      <td>137</td>\n",
       "      <td>40</td>\n",
       "      <td>35</td>\n",
       "      <td>168</td>\n",
       "      <td>43.1</td>\n",
       "      <td>2.288</td>\n",
       "      <td>33</td>\n",
       "      <td>1</td>\n",
       "      <td>normal</td>\n",
       "    </tr>\n",
       "  </tbody>\n",
       "</table>\n",
       "</div>"
      ],
      "text/plain": [
       "   PREGNANCIES  GLUCOSE  BLOODPRESSURE  SKINTHICKNESS  INSULIN   BMI  DIABETESPEDIGREEFUNCTION  AGE  OUTCOME NEW_GLUCOSE_CAT\n",
       "0            6      148             72             35        0  33.6                     0.627   50        1     prediabetes\n",
       "1            1       85             66             29        0  26.6                     0.351   31        0          normal\n",
       "2            8      183             64              0        0  23.3                     0.672   32        1     prediabetes\n",
       "3            1       89             66             23       94  28.1                     0.167   21        0          normal\n",
       "4            0      137             40             35      168  43.1                     2.288   33        1          normal"
      ]
     },
     "execution_count": 26,
     "metadata": {},
     "output_type": "execute_result"
    }
   ],
   "source": [
    "df.head()"
   ]
  },
  {
   "cell_type": "markdown",
   "id": "452941ac",
   "metadata": {},
   "source": [
    "Artık elimizde iki sınıflı yeni bir kategorik değişken var. Aynı işlem diğer değişkenler için de yapılabilir.\n",
    "\n",
    "\n",
    "Bu kod parçası, \"AGE\" değişkenini belirli aralıklara göre böler ve bu aralıklara göre yeni bir kategorik değişken olan \"NEW_AGE_CAT\" oluşturur. \n",
    "\n",
    "- Yaşı 35 den küçük olanlar \"young\"\n",
    "\n",
    "- 35'e eşit ve büyük olanlar \"middleage\"\n",
    "\n",
    "- 55'den büyük olanlar ise \"old\""
   ]
  },
  {
   "cell_type": "code",
   "execution_count": 27,
   "id": "28dd2290",
   "metadata": {},
   "outputs": [],
   "source": [
    "# 'AGE' değişkenini belirli aralıklara göre bölen ve yeni bir kategorik değişken oluşturan kod\n",
    "# Yaş 35'ten küçükse 'young', 35 ile 55 arasındaysa 'middleage', 55'ten büyükse 'old' olarak etiketlenir\n",
    "df.loc[(df['AGE'] < 35), \"NEW_AGE_CAT\"] = 'young'\n",
    "df.loc[(df['AGE'] >= 35) & (df['AGE'] <= 55), \"NEW_AGE_CAT\"] = 'middleage'\n",
    "df.loc[(df['AGE'] > 55), \"NEW_AGE_CAT\"] = 'old'"
   ]
  },
  {
   "cell_type": "markdown",
   "id": "9d92da77",
   "metadata": {},
   "source": [
    "Bu kod parçası, \"BMI\" (Vücut Kitle İndeksi) değişkenini belirli aralıklara göre bölen ve bu aralıklara göre yeni bir kategorik değişken olan \"NEW_BMI_RANGE\" oluşturan bir kod parçasıdır."
   ]
  },
  {
   "cell_type": "code",
   "execution_count": 28,
   "id": "3affb2c8",
   "metadata": {},
   "outputs": [],
   "source": [
    "# 'BMI' değişkenini belirli aralıklara göre bölen ve yeni bir kategorik değişken oluşturan kod\n",
    "# BMI'nın değerine göre, 'underweight', 'healty', 'overweight' ve 'obese' kategorilerine ayrılır\n",
    "df['NEW_BMI_RANGE'] = pd.cut(x=df['BMI'], bins=[-1, 18.5, 24.9, 29.9, 100],\n",
    "                             labels=[\"underweight\", \"healty\", \"overweight\", \"obese\"])\n"
   ]
  },
  {
   "cell_type": "markdown",
   "id": "53cf7356",
   "metadata": {},
   "source": [
    "Bu kod parçası, \"BLOODPRESSURE\" (Kan Basıncı) değişkenini belirli aralıklara göre bölen ve bu aralıklara göre yeni bir kategorik değişken olan \"NEW_BLOODPRESSURE\" oluşturan bir kod parçasıdır."
   ]
  },
  {
   "cell_type": "code",
   "execution_count": 29,
   "id": "577ae495",
   "metadata": {},
   "outputs": [],
   "source": [
    "# 'BLOODPRESSURE' değişkenini belirli aralıklara göre bölen ve yeni bir kategorik değişken oluşturan kod\n",
    "# Kan basıncının değerine göre, 'normal', 'hs1' ve 'hs2' kategorilerine ayrılır\n",
    "df['NEW_BLOODPRESSURE'] = pd.cut(x=df['BLOODPRESSURE'], bins=[-1, 79, 89, 123], labels=[\"normal\", \"hs1\", \"hs2\"])"
   ]
  },
  {
   "cell_type": "code",
   "execution_count": 30,
   "id": "54df67bc",
   "metadata": {
    "scrolled": false
   },
   "outputs": [
    {
     "name": "stdout",
     "output_type": "stream",
     "text": [
      "##################### Shape #####################\n",
      "(768, 13)\n",
      "##################### Types #####################\n",
      "PREGNANCIES                    int64\n",
      "GLUCOSE                        int64\n",
      "BLOODPRESSURE                  int64\n",
      "SKINTHICKNESS                  int64\n",
      "INSULIN                        int64\n",
      "BMI                          float64\n",
      "DIABETESPEDIGREEFUNCTION     float64\n",
      "AGE                            int64\n",
      "OUTCOME                        int64\n",
      "NEW_GLUCOSE_CAT             category\n",
      "NEW_AGE_CAT                   object\n",
      "NEW_BMI_RANGE               category\n",
      "NEW_BLOODPRESSURE           category\n",
      "dtype: object\n",
      "##################### Head #####################\n",
      "   PREGNANCIES  GLUCOSE  BLOODPRESSURE  SKINTHICKNESS  INSULIN   BMI  DIABETESPEDIGREEFUNCTION  AGE  OUTCOME NEW_GLUCOSE_CAT NEW_AGE_CAT NEW_BMI_RANGE NEW_BLOODPRESSURE\n",
      "0            6      148             72             35        0  33.6                     0.627   50        1     prediabetes   middleage         obese            normal\n",
      "1            1       85             66             29        0  26.6                     0.351   31        0          normal       young    overweight            normal\n",
      "2            8      183             64              0        0  23.3                     0.672   32        1     prediabetes       young        healty            normal\n",
      "3            1       89             66             23       94  28.1                     0.167   21        0          normal       young    overweight            normal\n",
      "4            0      137             40             35      168  43.1                     2.288   33        1          normal       young         obese            normal\n",
      "##################### Tail #####################\n",
      "     PREGNANCIES  GLUCOSE  BLOODPRESSURE  SKINTHICKNESS  INSULIN   BMI  DIABETESPEDIGREEFUNCTION  AGE  OUTCOME NEW_GLUCOSE_CAT NEW_AGE_CAT NEW_BMI_RANGE NEW_BLOODPRESSURE\n",
      "763           10      101             76             48      180  32.9                     0.171   63        0          normal         old         obese            normal\n",
      "764            2      122             70             27        0  36.8                     0.340   27        0          normal       young         obese            normal\n",
      "765            5      121             72             23      112  26.2                     0.245   30        0          normal       young    overweight            normal\n",
      "766            1      126             60              0        0  30.1                     0.349   47        1          normal   middleage         obese            normal\n",
      "767            1       93             70             31        0  30.4                     0.315   23        0          normal       young         obese            normal\n",
      "##################### NA #####################\n",
      "PREGNANCIES                 0\n",
      "GLUCOSE                     0\n",
      "BLOODPRESSURE               0\n",
      "SKINTHICKNESS               0\n",
      "INSULIN                     0\n",
      "BMI                         0\n",
      "DIABETESPEDIGREEFUNCTION    0\n",
      "AGE                         0\n",
      "OUTCOME                     0\n",
      "NEW_GLUCOSE_CAT             0\n",
      "NEW_AGE_CAT                 0\n",
      "NEW_BMI_RANGE               0\n",
      "NEW_BLOODPRESSURE           0\n",
      "dtype: int64\n",
      "##################### Quantiles #####################\n",
      "                                 0.00       0.05    0.50         0.95         0.99         1.00\n",
      "PREGNANCIES                         0          0       3           10           13           17\n",
      "GLUCOSE                             0         79     117          181          196          199\n",
      "BLOODPRESSURE                       0         38      72           90          106          122\n",
      "SKINTHICKNESS                       0          0      23           44           51           99\n",
      "INSULIN                             0          0      32          293          510          846\n",
      "BMI                               0.0       21.8    32.0         44.5         50.0         67.1\n",
      "DIABETESPEDIGREEFUNCTION        0.078       0.14   0.374        1.136        1.698         2.42\n",
      "AGE                                21         21      29           58           67           81\n",
      "OUTCOME                             0          0       0            1            1            1\n",
      "NEW_GLUCOSE_CAT                normal     normal  normal  prediabetes  prediabetes  prediabetes\n",
      "NEW_AGE_CAT                 middleage  middleage   young        young        young        young\n",
      "NEW_BMI_RANGE             underweight     healty   obese        obese        obese        obese\n",
      "NEW_BLOODPRESSURE              normal     normal  normal          hs2          hs2          hs2\n"
     ]
    }
   ],
   "source": [
    "check_df(df)"
   ]
  },
  {
   "cell_type": "markdown",
   "id": "cbafb025",
   "metadata": {},
   "source": [
    "Bu kod, `df` veri çerçevesindeki değişkenleri ayırarak üç farklı değişken listesi elde etmenizi sağlar. Bu listeler şunlardır:\n",
    "\n",
    "- **`cat_cols`**: Kategorik değişkenlerin isimlerini içeren liste.\n",
    "- **`num_cols`**: Sayısal değişkenlerin isimlerini içeren liste.\n",
    "- **`cat_but_car`**: Kategorik fakat kardinal değişkenlerin isimlerini içeren liste.\n",
    "\n",
    "Bu listeleri daha sonra çeşitli analiz ve işlemlerde kullanabilirsiniz."
   ]
  },
  {
   "cell_type": "code",
   "execution_count": 31,
   "id": "bb358658",
   "metadata": {},
   "outputs": [],
   "source": [
    "# Kategorik, numerik ve kategorik fakat kardinal değişkenleri belirleme\n",
    "cat_cols, num_cols, cat_but_car = grab_col_names(df, cat_th=5, car_th=20)"
   ]
  },
  {
   "cell_type": "code",
   "execution_count": 32,
   "id": "3cd276e6",
   "metadata": {},
   "outputs": [
    {
     "name": "stdout",
     "output_type": "stream",
     "text": [
      "             NEW_AGE_CAT      Ratio\n",
      "NEW_AGE_CAT                        \n",
      "young                488  63.541667\n",
      "middleage            230  29.947917\n",
      "old                   50   6.510417\n",
      "##########################################\n",
      "         OUTCOME      Ratio\n",
      "OUTCOME                    \n",
      "0            500  65.104167\n",
      "1            268  34.895833\n",
      "##########################################\n",
      "                 NEW_GLUCOSE_CAT      Ratio\n",
      "NEW_GLUCOSE_CAT                            \n",
      "normal                       571  74.348958\n",
      "prediabetes                  197  25.651042\n",
      "##########################################\n",
      "               NEW_BMI_RANGE      Ratio\n",
      "NEW_BMI_RANGE                          \n",
      "obese                    472  61.458333\n",
      "overweight               179  23.307292\n",
      "healty                   102  13.281250\n",
      "underweight               15   1.953125\n",
      "##########################################\n",
      "                   NEW_BLOODPRESSURE      Ratio\n",
      "NEW_BLOODPRESSURE                              \n",
      "normal                           563  73.307292\n",
      "hs1                              145  18.880208\n",
      "hs2                               60   7.812500\n",
      "##########################################\n"
     ]
    }
   ],
   "source": [
    "# Kategorik değişkenlerin özetini görüntüleme\n",
    "for col in cat_cols:\n",
    "    cat_summary(df, col)"
   ]
  },
  {
   "cell_type": "markdown",
   "id": "2c96399f",
   "metadata": {},
   "source": [
    "Bağımlı değişkenimiz ile yeni oluşturulan değişkenler arasındaki ilişkiyi inceleyelim;"
   ]
  },
  {
   "cell_type": "code",
   "execution_count": 33,
   "id": "165aa5b6",
   "metadata": {},
   "outputs": [
    {
     "name": "stdout",
     "output_type": "stream",
     "text": [
      "             TARGET_MEAN\n",
      "NEW_AGE_CAT             \n",
      "middleage       0.543478\n",
      "old             0.340000\n",
      "young           0.258197\n",
      "\n",
      "\n",
      "         TARGET_MEAN\n",
      "OUTCOME             \n",
      "0                0.0\n",
      "1                1.0\n",
      "\n",
      "\n",
      "                 TARGET_MEAN\n",
      "NEW_GLUCOSE_CAT             \n",
      "normal              0.232925\n",
      "prediabetes         0.685279\n",
      "\n",
      "\n",
      "               TARGET_MEAN\n",
      "NEW_BMI_RANGE             \n",
      "underweight       0.133333\n",
      "healty            0.068627\n",
      "overweight        0.223464\n",
      "obese             0.463983\n",
      "\n",
      "\n",
      "                   TARGET_MEAN\n",
      "NEW_BLOODPRESSURE             \n",
      "normal                0.316163\n",
      "hs1                   0.420690\n",
      "hs2                   0.483333\n",
      "\n",
      "\n"
     ]
    },
    {
     "name": "stderr",
     "output_type": "stream",
     "text": [
      "C:\\Users\\Administrator\\AppData\\Local\\Temp\\ipykernel_18572\\1826451413.py:14: FutureWarning: The default of observed=False is deprecated and will be changed to True in a future version of pandas. Pass observed=False to retain current behavior or observed=True to adopt the future default and silence this warning.\n",
      "  summary = pd.DataFrame({\"TARGET_MEAN\": dataframe.groupby(categorical_col)[target].mean()})\n",
      "C:\\Users\\Administrator\\AppData\\Local\\Temp\\ipykernel_18572\\1826451413.py:14: FutureWarning: The default of observed=False is deprecated and will be changed to True in a future version of pandas. Pass observed=False to retain current behavior or observed=True to adopt the future default and silence this warning.\n",
      "  summary = pd.DataFrame({\"TARGET_MEAN\": dataframe.groupby(categorical_col)[target].mean()})\n",
      "C:\\Users\\Administrator\\AppData\\Local\\Temp\\ipykernel_18572\\1826451413.py:14: FutureWarning: The default of observed=False is deprecated and will be changed to True in a future version of pandas. Pass observed=False to retain current behavior or observed=True to adopt the future default and silence this warning.\n",
      "  summary = pd.DataFrame({\"TARGET_MEAN\": dataframe.groupby(categorical_col)[target].mean()})\n"
     ]
    }
   ],
   "source": [
    "# Kategorik değişkenlerin target değişkenle ilişkisini inceleme\n",
    "for col in cat_cols:\n",
    "    target_summary_with_cat(df, \"OUTCOME\", col)"
   ]
  },
  {
   "cell_type": "code",
   "execution_count": 34,
   "id": "3bdcda28",
   "metadata": {},
   "outputs": [],
   "source": [
    "# \"OUTCOME\" içeren kategorik değişkenlerden çıkarma\n",
    "cat_cols = [col for col in cat_cols if \"OUTCOME\" not in col]"
   ]
  },
  {
   "cell_type": "code",
   "execution_count": 35,
   "id": "50973b7e",
   "metadata": {},
   "outputs": [
    {
     "name": "stdout",
     "output_type": "stream",
     "text": [
      "##################### Shape #####################\n",
      "(768, 17)\n",
      "##################### Types #####################\n",
      "PREGNANCIES                      int64\n",
      "GLUCOSE                          int64\n",
      "BLOODPRESSURE                    int64\n",
      "SKINTHICKNESS                    int64\n",
      "INSULIN                          int64\n",
      "BMI                            float64\n",
      "DIABETESPEDIGREEFUNCTION       float64\n",
      "AGE                              int64\n",
      "OUTCOME                          int64\n",
      "NEW_AGE_CAT_old                   bool\n",
      "NEW_AGE_CAT_young                 bool\n",
      "NEW_GLUCOSE_CAT_prediabetes       bool\n",
      "NEW_BMI_RANGE_healty              bool\n",
      "NEW_BMI_RANGE_overweight          bool\n",
      "NEW_BMI_RANGE_obese               bool\n",
      "NEW_BLOODPRESSURE_hs1             bool\n",
      "NEW_BLOODPRESSURE_hs2             bool\n",
      "dtype: object\n",
      "##################### Head #####################\n",
      "   PREGNANCIES  GLUCOSE  BLOODPRESSURE  SKINTHICKNESS  INSULIN   BMI  DIABETESPEDIGREEFUNCTION  AGE  OUTCOME  NEW_AGE_CAT_old  NEW_AGE_CAT_young  NEW_GLUCOSE_CAT_prediabetes  NEW_BMI_RANGE_healty  NEW_BMI_RANGE_overweight  NEW_BMI_RANGE_obese  NEW_BLOODPRESSURE_hs1  NEW_BLOODPRESSURE_hs2\n",
      "0            6      148             72             35        0  33.6                     0.627   50        1            False              False                         True                 False                     False                 True                  False                  False\n",
      "1            1       85             66             29        0  26.6                     0.351   31        0            False               True                        False                 False                      True                False                  False                  False\n",
      "2            8      183             64              0        0  23.3                     0.672   32        1            False               True                         True                  True                     False                False                  False                  False\n",
      "3            1       89             66             23       94  28.1                     0.167   21        0            False               True                        False                 False                      True                False                  False                  False\n",
      "4            0      137             40             35      168  43.1                     2.288   33        1            False               True                        False                 False                     False                 True                  False                  False\n",
      "##################### Tail #####################\n",
      "     PREGNANCIES  GLUCOSE  BLOODPRESSURE  SKINTHICKNESS  INSULIN   BMI  DIABETESPEDIGREEFUNCTION  AGE  OUTCOME  NEW_AGE_CAT_old  NEW_AGE_CAT_young  NEW_GLUCOSE_CAT_prediabetes  NEW_BMI_RANGE_healty  NEW_BMI_RANGE_overweight  NEW_BMI_RANGE_obese  NEW_BLOODPRESSURE_hs1  NEW_BLOODPRESSURE_hs2\n",
      "763           10      101             76             48      180  32.9                     0.171   63        0             True              False                        False                 False                     False                 True                  False                  False\n",
      "764            2      122             70             27        0  36.8                     0.340   27        0            False               True                        False                 False                     False                 True                  False                  False\n",
      "765            5      121             72             23      112  26.2                     0.245   30        0            False               True                        False                 False                      True                False                  False                  False\n",
      "766            1      126             60              0        0  30.1                     0.349   47        1            False              False                        False                 False                     False                 True                  False                  False\n",
      "767            1       93             70             31        0  30.4                     0.315   23        0            False               True                        False                 False                     False                 True                  False                  False\n",
      "##################### NA #####################\n",
      "PREGNANCIES                    0\n",
      "GLUCOSE                        0\n",
      "BLOODPRESSURE                  0\n",
      "SKINTHICKNESS                  0\n",
      "INSULIN                        0\n",
      "BMI                            0\n",
      "DIABETESPEDIGREEFUNCTION       0\n",
      "AGE                            0\n",
      "OUTCOME                        0\n",
      "NEW_AGE_CAT_old                0\n",
      "NEW_AGE_CAT_young              0\n",
      "NEW_GLUCOSE_CAT_prediabetes    0\n",
      "NEW_BMI_RANGE_healty           0\n",
      "NEW_BMI_RANGE_overweight       0\n",
      "NEW_BMI_RANGE_obese            0\n",
      "NEW_BLOODPRESSURE_hs1          0\n",
      "NEW_BLOODPRESSURE_hs2          0\n",
      "dtype: int64\n",
      "##################### Quantiles #####################\n",
      "                              0.00   0.05   0.50   0.95   0.99  1.00\n",
      "PREGNANCIES                      0      0      3     10     13    17\n",
      "GLUCOSE                          0     79    117    181    196   199\n",
      "BLOODPRESSURE                    0     38     72     90    106   122\n",
      "SKINTHICKNESS                    0      0     23     44     51    99\n",
      "INSULIN                          0      0     32    293    510   846\n",
      "BMI                            0.0   21.8   32.0   44.5   50.0  67.1\n",
      "DIABETESPEDIGREEFUNCTION     0.078   0.14  0.374  1.136  1.698  2.42\n",
      "AGE                             21     21     29     58     67    81\n",
      "OUTCOME                          0      0      0      1      1     1\n",
      "NEW_AGE_CAT_old              False  False  False   True   True  True\n",
      "NEW_AGE_CAT_young            False  False   True   True   True  True\n",
      "NEW_GLUCOSE_CAT_prediabetes  False  False  False   True   True  True\n",
      "NEW_BMI_RANGE_healty         False  False  False   True   True  True\n",
      "NEW_BMI_RANGE_overweight     False  False  False   True   True  True\n",
      "NEW_BMI_RANGE_obese          False  False   True   True   True  True\n",
      "NEW_BLOODPRESSURE_hs1        False  False  False   True   True  True\n",
      "NEW_BLOODPRESSURE_hs2        False  False  False   True   True  True\n"
     ]
    }
   ],
   "source": [
    "# One-Hot Encoding işlemi\n",
    "df = one_hot_encoder(df, cat_cols, drop_first=True)\n",
    "\n",
    "# Veri setini kontrol etme\n",
    "check_df(df)"
   ]
  },
  {
   "cell_type": "code",
   "execution_count": 36,
   "id": "53a6ac1e",
   "metadata": {},
   "outputs": [],
   "source": [
    "# Sütun isimlerini büyük harfe çevirme\n",
    "df.columns = [col.upper() for col in df.columns]"
   ]
  },
  {
   "cell_type": "markdown",
   "id": "4104433e",
   "metadata": {},
   "source": []
  },
  {
   "cell_type": "code",
   "execution_count": 37,
   "id": "7db6c3ab",
   "metadata": {},
   "outputs": [],
   "source": [
    "# Değişken türlerini belirleme\n",
    "cat_cols, num_cols, cat_but_car = grab_col_names(df, cat_th=5, car_th=20)\n",
    "\n",
    "# \"OUTCOME\" kelimesini içeren kategorik değişkenleri filtreleme\n",
    "cat_cols = [col for col in cat_cols if \"OUTCOME\" not in col]"
   ]
  },
  {
   "cell_type": "code",
   "execution_count": 38,
   "id": "f7242d9b",
   "metadata": {},
   "outputs": [
    {
     "name": "stdout",
     "output_type": "stream",
     "text": [
      "PREGNANCIES False\n",
      "GLUCOSE False\n",
      "BLOODPRESSURE False\n",
      "SKINTHICKNESS False\n",
      "INSULIN True\n",
      "BMI False\n",
      "DIABETESPEDIGREEFUNCTION False\n",
      "AGE False\n"
     ]
    }
   ],
   "source": [
    "# Sayısal değişkenlerin aykırı değerlerini kontrol etme\n",
    "for col in num_cols:\n",
    "    print(col, check_outlier(df, col, 0.05, 0.95))"
   ]
  },
  {
   "cell_type": "markdown",
   "id": "960107b0",
   "metadata": {},
   "source": [
    "**Insulin** değişkeni **aykırı** olarak gözüküyor.\n"
   ]
  },
  {
   "cell_type": "code",
   "execution_count": 39,
   "id": "0bffb63f",
   "metadata": {},
   "outputs": [
    {
     "name": "stderr",
     "output_type": "stream",
     "text": [
      "C:\\Users\\Administrator\\AppData\\Local\\Temp\\ipykernel_18572\\830357479.py:8: FutureWarning: Setting an item of incompatible dtype is deprecated and will raise in a future error of pandas. Value '-190.875' has dtype incompatible with int64, please explicitly cast to a compatible dtype first.\n",
      "  dataframe.loc[(dataframe[variable] < low_limit), variable] = low_limit\n"
     ]
    }
   ],
   "source": [
    "# \"INSULIN\" değişkeninin aykırı değerlerini düzenleme\n",
    "replace_with_thresholds(df, \"INSULIN\")"
   ]
  },
  {
   "cell_type": "code",
   "execution_count": 40,
   "id": "fa6f4f67",
   "metadata": {},
   "outputs": [],
   "source": [
    "# Standartlaştırma\n",
    "X_scaled = StandardScaler().fit_transform(df[num_cols])\n",
    "df[num_cols] = pd.DataFrame(X_scaled, columns=df[num_cols].columns)\n",
    "\n",
    "# Bağımlı ve bağımsız değişkenleri ayarlama\n",
    "y = df[\"OUTCOME\"]\n",
    "X = df.drop([\"OUTCOME\"], axis=1)"
   ]
  },
  {
   "cell_type": "code",
   "execution_count": 41,
   "id": "bce489e0",
   "metadata": {},
   "outputs": [
    {
     "name": "stdout",
     "output_type": "stream",
     "text": [
      "##################### Shape #####################\n",
      "(768, 16)\n",
      "##################### Types #####################\n",
      "PREGNANCIES                    float64\n",
      "GLUCOSE                        float64\n",
      "BLOODPRESSURE                  float64\n",
      "SKINTHICKNESS                  float64\n",
      "INSULIN                        float64\n",
      "BMI                            float64\n",
      "DIABETESPEDIGREEFUNCTION       float64\n",
      "AGE                            float64\n",
      "NEW_AGE_CAT_OLD                   bool\n",
      "NEW_AGE_CAT_YOUNG                 bool\n",
      "NEW_GLUCOSE_CAT_PREDIABETES       bool\n",
      "NEW_BMI_RANGE_HEALTY              bool\n",
      "NEW_BMI_RANGE_OVERWEIGHT          bool\n",
      "NEW_BMI_RANGE_OBESE               bool\n",
      "NEW_BLOODPRESSURE_HS1             bool\n",
      "NEW_BLOODPRESSURE_HS2             bool\n",
      "dtype: object\n",
      "##################### Head #####################\n",
      "   PREGNANCIES   GLUCOSE  BLOODPRESSURE  SKINTHICKNESS   INSULIN       BMI  DIABETESPEDIGREEFUNCTION       AGE  NEW_AGE_CAT_OLD  NEW_AGE_CAT_YOUNG  NEW_GLUCOSE_CAT_PREDIABETES  NEW_BMI_RANGE_HEALTY  NEW_BMI_RANGE_OVERWEIGHT  NEW_BMI_RANGE_OBESE  NEW_BLOODPRESSURE_HS1  NEW_BLOODPRESSURE_HS2\n",
      "0     0.639947  0.848324       0.149641       0.907270 -0.787602  0.204013                  0.468492  1.425995            False              False                         True                 False                     False                 True                  False                  False\n",
      "1    -0.844885 -1.123396      -0.160546       0.530902 -0.787602 -0.684422                 -0.365061 -0.190672            False               True                        False                 False                      True                False                  False                  False\n",
      "2     1.233880  1.943724      -0.263941      -1.288212 -0.787602 -1.103255                  0.604397 -0.105584            False               True                         True                  True                     False                False                  False                  False\n",
      "3    -0.844885 -0.998208      -0.160546       0.154533  0.217583 -0.494043                 -0.920763 -1.041549            False               True                        False                 False                      True                False                  False                  False\n",
      "4    -1.141852  0.504055      -1.504687       0.907270  1.008900  1.409746                  5.484909 -0.020496            False               True                        False                 False                     False                 True                  False                  False\n",
      "##################### Tail #####################\n",
      "     PREGNANCIES   GLUCOSE  BLOODPRESSURE  SKINTHICKNESS   INSULIN       BMI  DIABETESPEDIGREEFUNCTION       AGE  NEW_AGE_CAT_OLD  NEW_AGE_CAT_YOUNG  NEW_GLUCOSE_CAT_PREDIABETES  NEW_BMI_RANGE_HEALTY  NEW_BMI_RANGE_OVERWEIGHT  NEW_BMI_RANGE_OBESE  NEW_BLOODPRESSURE_HS1  NEW_BLOODPRESSURE_HS2\n",
      "763     1.827813 -0.622642       0.356432       1.722735  1.137221  0.115169                 -0.908682  2.532136             True              False                        False                 False                     False                 True                  False                  False\n",
      "764    -0.547919  0.034598       0.046245       0.405445 -0.787602  0.610154                 -0.398282 -0.531023            False               True                        False                 False                     False                 True                  False                  False\n",
      "765     0.342981  0.003301       0.149641       0.154533  0.410066 -0.735190                 -0.685193 -0.275760            False               True                        False                 False                      True                False                  False                  False\n",
      "766    -0.844885  0.159787      -0.470732      -1.288212 -0.787602 -0.240205                 -0.371101  1.170732            False              False                        False                 False                     False                 True                  False                  False\n",
      "767    -0.844885 -0.873019       0.046245       0.656358 -0.787602 -0.202129                 -0.473785 -0.871374            False               True                        False                 False                     False                 True                  False                  False\n",
      "##################### NA #####################\n",
      "PREGNANCIES                    0\n",
      "GLUCOSE                        0\n",
      "BLOODPRESSURE                  0\n",
      "SKINTHICKNESS                  0\n",
      "INSULIN                        0\n",
      "BMI                            0\n",
      "DIABETESPEDIGREEFUNCTION       0\n",
      "AGE                            0\n",
      "NEW_AGE_CAT_OLD                0\n",
      "NEW_AGE_CAT_YOUNG              0\n",
      "NEW_GLUCOSE_CAT_PREDIABETES    0\n",
      "NEW_BMI_RANGE_HEALTY           0\n",
      "NEW_BMI_RANGE_OVERWEIGHT       0\n",
      "NEW_BMI_RANGE_OBESE            0\n",
      "NEW_BLOODPRESSURE_HS1          0\n",
      "NEW_BLOODPRESSURE_HS2          0\n",
      "dtype: int64\n",
      "##################### Quantiles #####################\n",
      "                                 0.00      0.05      0.50      0.95      0.99      1.00\n",
      "PREGNANCIES                 -1.141852 -1.141852 -0.250952  1.827813  2.718712  3.906578\n",
      "GLUCOSE                     -3.783654 -1.311179 -0.121888   1.88113  2.350587  2.444478\n",
      "BLOODPRESSURE               -3.572597 -1.608083  0.149641    1.0802  1.907364  2.734528\n",
      "SKINTHICKNESS               -1.288212 -1.288212  0.154533  1.471822  1.910919  4.921866\n",
      "INSULIN                     -0.787602 -0.787602 -0.445411  2.345582  2.614256  2.614256\n",
      "BMI                         -4.060474 -1.293634  0.000942  1.587433  2.285488  4.455807\n",
      "DIABETESPEDIGREEFUNCTION    -1.189553 -1.002306 -0.295598  2.005732  3.703039  5.883565\n",
      "AGE                         -1.041549 -1.041549 -0.360847  2.106697  2.872487  4.063716\n",
      "NEW_AGE_CAT_OLD                 False     False     False      True      True      True\n",
      "NEW_AGE_CAT_YOUNG               False     False      True      True      True      True\n",
      "NEW_GLUCOSE_CAT_PREDIABETES     False     False     False      True      True      True\n",
      "NEW_BMI_RANGE_HEALTY            False     False     False      True      True      True\n",
      "NEW_BMI_RANGE_OVERWEIGHT        False     False     False      True      True      True\n",
      "NEW_BMI_RANGE_OBESE             False     False      True      True      True      True\n",
      "NEW_BLOODPRESSURE_HS1           False     False     False      True      True      True\n",
      "NEW_BLOODPRESSURE_HS2           False     False     False      True      True      True\n"
     ]
    }
   ],
   "source": [
    "check_df(X)"
   ]
  },
  {
   "cell_type": "markdown",
   "id": "2f675320",
   "metadata": {},
   "source": [
    "Bu fonksiyon, veri setinde yer alan \"DIABETES\" adlı veri setini hazırlamak için kullanılır. Veri setindeki değişkenlerin isimlerini büyük harfe çevirir, yeni özellikler ekler, kategorik değişkenleri one-hot encode eder, aykırı değerleri düzeltir ve sayısal değişkenleri standartlaştırır. Son olarak, bağımlı değişkeni (\"OUTCOME\") ve bağımsız değişkenleri ayırarak X ve y olarak döndürür.\n",
    "\n",
    "Fonksiyonun adı **`diabetes_data_prep`**, ve parametre olarak bir dataframe (**`dataframe`**) alır. Fonksiyonun döndürdüğü değerler X ve y'dir. Bu değerler, veri setinin hazırlanmış hali ile modelleme aşamasında kullanılmak üzere elde edilmiş olacaktır."
   ]
  },
  {
   "cell_type": "code",
   "execution_count": 42,
   "id": "a0275ca1",
   "metadata": {},
   "outputs": [],
   "source": [
    "def diabetes_data_prep(dataframe):\n",
    "    # Değişken isimlerini büyük harfe çevirme\n",
    "    dataframe.columns = [col.upper() for col in dataframe.columns]\n",
    "\n",
    "    # Glucose için yeni kategorik değişken oluşturma\n",
    "    dataframe['NEW_GLUCOSE_CAT'] = pd.cut(x=dataframe['GLUCOSE'], bins=[-1, 139, 200], labels=[\"normal\", \"prediabetes\"])\n",
    "\n",
    "    # Age için yeni kategorik değişken oluşturma\n",
    "    dataframe.loc[(dataframe['AGE'] < 35), \"NEW_AGE_CAT\"] = 'young'\n",
    "    dataframe.loc[(dataframe['AGE'] >= 35) & (dataframe['AGE'] <= 55), \"NEW_AGE_CAT\"] = 'middleage'\n",
    "    dataframe.loc[(dataframe['AGE'] > 55), \"NEW_AGE_CAT\"] = 'old'\n",
    "\n",
    "    # BMI için yeni kategorik değişken oluşturma\n",
    "    dataframe['NEW_BMI_RANGE'] = pd.cut(x=dataframe['BMI'], bins=[-1, 18.5, 24.9, 29.9, 100],\n",
    "                                        labels=[\"underweight\", \"healty\", \"overweight\", \"obese\"])\n",
    "\n",
    "    # BloodPressure için yeni kategorik değişken oluşturma\n",
    "    dataframe['NEW_BLOODPRESSURE'] = pd.cut(x=dataframe['BLOODPRESSURE'], bins=[-1, 79, 89, 123],\n",
    "                                            labels=[\"normal\", \"hs1\", \"hs2\"])\n",
    "\n",
    "    # Veri setindeki kategorik, numerik ve kategorik fakat kardinal değişkenlerin isimlerini al\n",
    "    cat_cols, num_cols, cat_but_car = grab_col_names(dataframe, cat_th=5, car_th=20)\n",
    "\n",
    "    # Kategorik değişkenleri one-hot encode et\n",
    "    cat_cols = [col for col in cat_cols if \"OUTCOME\" not in col]\n",
    "    df = one_hot_encoder(dataframe, cat_cols, drop_first=True)\n",
    "\n",
    "    # One-hot encode sonrası değişken isimlerini büyük harfe çevir\n",
    "    df.columns = [col.upper() for col in df.columns]\n",
    "\n",
    "    # Veri setindeki kategorik, numerik ve kategorik fakat kardinal değişkenlerin isimlerini al\n",
    "    cat_cols, num_cols, cat_but_car = grab_col_names(df, cat_th=5, car_th=20)\n",
    "\n",
    "    # Aykırı değerleri düzeltme\n",
    "    replace_with_thresholds(df, \"INSULIN\")\n",
    "\n",
    "    # Sayısal değişkenleri standartlaştırma\n",
    "    X_scaled = StandardScaler().fit_transform(df[num_cols])\n",
    "    df[num_cols] = pd.DataFrame(X_scaled, columns=df[num_cols].columns)\n",
    "\n",
    "    # Bağımlı ve bağımsız değişkenleri ayırma\n",
    "    y = df[\"OUTCOME\"]\n",
    "    X = df.drop([\"OUTCOME\"], axis=1)\n",
    "\n",
    "    return X, y"
   ]
  },
  {
   "cell_type": "markdown",
   "id": "b4e419cc",
   "metadata": {},
   "source": [
    "Veri setimizi baştan okuttuk ve artık tek fonksiyon (**diabetes_data_prep**) ile tüm işlemeleri gerçekleştireceğiz."
   ]
  },
  {
   "cell_type": "code",
   "execution_count": 43,
   "id": "efbb0f07",
   "metadata": {
    "scrolled": true
   },
   "outputs": [
    {
     "name": "stdout",
     "output_type": "stream",
     "text": [
      "##################### Shape #####################\n",
      "(768, 9)\n",
      "##################### Types #####################\n",
      "Pregnancies                   int64\n",
      "Glucose                       int64\n",
      "BloodPressure                 int64\n",
      "SkinThickness                 int64\n",
      "Insulin                       int64\n",
      "BMI                         float64\n",
      "DiabetesPedigreeFunction    float64\n",
      "Age                           int64\n",
      "Outcome                       int64\n",
      "dtype: object\n",
      "##################### Head #####################\n",
      "   Pregnancies  Glucose  BloodPressure  SkinThickness  Insulin   BMI  DiabetesPedigreeFunction  Age  Outcome\n",
      "0            6      148             72             35        0  33.6                     0.627   50        1\n",
      "1            1       85             66             29        0  26.6                     0.351   31        0\n",
      "2            8      183             64              0        0  23.3                     0.672   32        1\n",
      "3            1       89             66             23       94  28.1                     0.167   21        0\n",
      "4            0      137             40             35      168  43.1                     2.288   33        1\n",
      "##################### Tail #####################\n",
      "     Pregnancies  Glucose  BloodPressure  SkinThickness  Insulin   BMI  DiabetesPedigreeFunction  Age  Outcome\n",
      "763           10      101             76             48      180  32.9                     0.171   63        0\n",
      "764            2      122             70             27        0  36.8                     0.340   27        0\n",
      "765            5      121             72             23      112  26.2                     0.245   30        0\n",
      "766            1      126             60              0        0  30.1                     0.349   47        1\n",
      "767            1       93             70             31        0  30.4                     0.315   23        0\n",
      "##################### NA #####################\n",
      "Pregnancies                 0\n",
      "Glucose                     0\n",
      "BloodPressure               0\n",
      "SkinThickness               0\n",
      "Insulin                     0\n",
      "BMI                         0\n",
      "DiabetesPedigreeFunction    0\n",
      "Age                         0\n",
      "Outcome                     0\n",
      "dtype: int64\n",
      "##################### Quantiles #####################\n",
      "                            0.00   0.05     0.50     0.95     0.99    1.00\n",
      "Pregnancies                0.000   0.00    3.000   10.000   13.000   17.00\n",
      "Glucose                    0.000  79.00  117.000  181.000  196.000  199.00\n",
      "BloodPressure              0.000  38.00   72.000   90.000  106.000  122.00\n",
      "SkinThickness              0.000   0.00   23.000   44.000   51.000   99.00\n",
      "Insulin                    0.000   0.00   32.000  293.000  510.000  846.00\n",
      "BMI                        0.000  21.80   32.000   44.500   50.000   67.10\n",
      "DiabetesPedigreeFunction   0.078   0.14    0.374    1.136    1.698    2.42\n",
      "Age                       21.000  21.00   29.000   58.000   67.000   81.00\n",
      "Outcome                    0.000   0.00    0.000    1.000    1.000    1.00\n"
     ]
    }
   ],
   "source": [
    "# Diabetes veri setini okuma\n",
    "df = pd.read_csv(\"datasets/diabetes.csv\")\n",
    "\n",
    "# Veri setini kontrol etme\n",
    "check_df(df)"
   ]
  },
  {
   "cell_type": "code",
   "execution_count": 44,
   "id": "81f7d63e",
   "metadata": {
    "scrolled": false
   },
   "outputs": [
    {
     "name": "stdout",
     "output_type": "stream",
     "text": [
      "##################### Shape #####################\n",
      "(768, 16)\n",
      "##################### Types #####################\n",
      "PREGNANCIES                    float64\n",
      "GLUCOSE                        float64\n",
      "BLOODPRESSURE                  float64\n",
      "SKINTHICKNESS                  float64\n",
      "INSULIN                        float64\n",
      "BMI                            float64\n",
      "DIABETESPEDIGREEFUNCTION       float64\n",
      "AGE                            float64\n",
      "NEW_AGE_CAT_OLD                   bool\n",
      "NEW_AGE_CAT_YOUNG                 bool\n",
      "NEW_GLUCOSE_CAT_PREDIABETES       bool\n",
      "NEW_BMI_RANGE_HEALTY              bool\n",
      "NEW_BMI_RANGE_OVERWEIGHT          bool\n",
      "NEW_BMI_RANGE_OBESE               bool\n",
      "NEW_BLOODPRESSURE_HS1             bool\n",
      "NEW_BLOODPRESSURE_HS2             bool\n",
      "dtype: object\n",
      "##################### Head #####################\n",
      "   PREGNANCIES   GLUCOSE  BLOODPRESSURE  SKINTHICKNESS   INSULIN       BMI  DIABETESPEDIGREEFUNCTION       AGE  NEW_AGE_CAT_OLD  NEW_AGE_CAT_YOUNG  NEW_GLUCOSE_CAT_PREDIABETES  NEW_BMI_RANGE_HEALTY  NEW_BMI_RANGE_OVERWEIGHT  NEW_BMI_RANGE_OBESE  NEW_BLOODPRESSURE_HS1  NEW_BLOODPRESSURE_HS2\n",
      "0     0.639947  0.848324       0.149641       0.907270 -0.787602  0.204013                  0.468492  1.425995            False              False                         True                 False                     False                 True                  False                  False\n",
      "1    -0.844885 -1.123396      -0.160546       0.530902 -0.787602 -0.684422                 -0.365061 -0.190672            False               True                        False                 False                      True                False                  False                  False\n",
      "2     1.233880  1.943724      -0.263941      -1.288212 -0.787602 -1.103255                  0.604397 -0.105584            False               True                         True                  True                     False                False                  False                  False\n",
      "3    -0.844885 -0.998208      -0.160546       0.154533  0.217583 -0.494043                 -0.920763 -1.041549            False               True                        False                 False                      True                False                  False                  False\n",
      "4    -1.141852  0.504055      -1.504687       0.907270  1.008900  1.409746                  5.484909 -0.020496            False               True                        False                 False                     False                 True                  False                  False\n",
      "##################### Tail #####################\n",
      "     PREGNANCIES   GLUCOSE  BLOODPRESSURE  SKINTHICKNESS   INSULIN       BMI  DIABETESPEDIGREEFUNCTION       AGE  NEW_AGE_CAT_OLD  NEW_AGE_CAT_YOUNG  NEW_GLUCOSE_CAT_PREDIABETES  NEW_BMI_RANGE_HEALTY  NEW_BMI_RANGE_OVERWEIGHT  NEW_BMI_RANGE_OBESE  NEW_BLOODPRESSURE_HS1  NEW_BLOODPRESSURE_HS2\n",
      "763     1.827813 -0.622642       0.356432       1.722735  1.137221  0.115169                 -0.908682  2.532136             True              False                        False                 False                     False                 True                  False                  False\n",
      "764    -0.547919  0.034598       0.046245       0.405445 -0.787602  0.610154                 -0.398282 -0.531023            False               True                        False                 False                     False                 True                  False                  False\n",
      "765     0.342981  0.003301       0.149641       0.154533  0.410066 -0.735190                 -0.685193 -0.275760            False               True                        False                 False                      True                False                  False                  False\n",
      "766    -0.844885  0.159787      -0.470732      -1.288212 -0.787602 -0.240205                 -0.371101  1.170732            False              False                        False                 False                     False                 True                  False                  False\n",
      "767    -0.844885 -0.873019       0.046245       0.656358 -0.787602 -0.202129                 -0.473785 -0.871374            False               True                        False                 False                     False                 True                  False                  False\n",
      "##################### NA #####################\n",
      "PREGNANCIES                    0\n",
      "GLUCOSE                        0\n",
      "BLOODPRESSURE                  0\n",
      "SKINTHICKNESS                  0\n",
      "INSULIN                        0\n",
      "BMI                            0\n",
      "DIABETESPEDIGREEFUNCTION       0\n",
      "AGE                            0\n",
      "NEW_AGE_CAT_OLD                0\n",
      "NEW_AGE_CAT_YOUNG              0\n",
      "NEW_GLUCOSE_CAT_PREDIABETES    0\n",
      "NEW_BMI_RANGE_HEALTY           0\n",
      "NEW_BMI_RANGE_OVERWEIGHT       0\n",
      "NEW_BMI_RANGE_OBESE            0\n",
      "NEW_BLOODPRESSURE_HS1          0\n",
      "NEW_BLOODPRESSURE_HS2          0\n",
      "dtype: int64\n",
      "##################### Quantiles #####################\n",
      "                                 0.00      0.05      0.50      0.95      0.99      1.00\n",
      "PREGNANCIES                 -1.141852 -1.141852 -0.250952  1.827813  2.718712  3.906578\n",
      "GLUCOSE                     -3.783654 -1.311179 -0.121888   1.88113  2.350587  2.444478\n",
      "BLOODPRESSURE               -3.572597 -1.608083  0.149641    1.0802  1.907364  2.734528\n",
      "SKINTHICKNESS               -1.288212 -1.288212  0.154533  1.471822  1.910919  4.921866\n",
      "INSULIN                     -0.787602 -0.787602 -0.445411  2.345582  2.614256  2.614256\n",
      "BMI                         -4.060474 -1.293634  0.000942  1.587433  2.285488  4.455807\n",
      "DIABETESPEDIGREEFUNCTION    -1.189553 -1.002306 -0.295598  2.005732  3.703039  5.883565\n",
      "AGE                         -1.041549 -1.041549 -0.360847  2.106697  2.872487  4.063716\n",
      "NEW_AGE_CAT_OLD                 False     False     False      True      True      True\n",
      "NEW_AGE_CAT_YOUNG               False     False      True      True      True      True\n",
      "NEW_GLUCOSE_CAT_PREDIABETES     False     False     False      True      True      True\n",
      "NEW_BMI_RANGE_HEALTY            False     False     False      True      True      True\n",
      "NEW_BMI_RANGE_OVERWEIGHT        False     False     False      True      True      True\n",
      "NEW_BMI_RANGE_OBESE             False     False      True      True      True      True\n",
      "NEW_BLOODPRESSURE_HS1           False     False     False      True      True      True\n",
      "NEW_BLOODPRESSURE_HS2           False     False     False      True      True      True\n"
     ]
    },
    {
     "name": "stderr",
     "output_type": "stream",
     "text": [
      "C:\\Users\\Administrator\\AppData\\Local\\Temp\\ipykernel_18572\\830357479.py:8: FutureWarning: Setting an item of incompatible dtype is deprecated and will raise in a future error of pandas. Value '-190.875' has dtype incompatible with int64, please explicitly cast to a compatible dtype first.\n",
      "  dataframe.loc[(dataframe[variable] < low_limit), variable] = low_limit\n"
     ]
    }
   ],
   "source": [
    "# Veri setini hazırlama işlemi\n",
    "X, y = diabetes_data_prep(df)\n",
    "\n",
    "# Hazırlanan veri setini kontrol etme\n",
    "check_df(X)"
   ]
  },
  {
   "cell_type": "markdown",
   "id": "638fa1b3",
   "metadata": {},
   "source": [
    "# 3. Base Models"
   ]
  },
  {
   "cell_type": "code",
   "execution_count": 45,
   "id": "08164afa",
   "metadata": {},
   "outputs": [],
   "source": [
    "import warnings\n",
    "\n",
    "warnings.filterwarnings(\"ignore\", category=UserWarning)"
   ]
  },
  {
   "cell_type": "markdown",
   "id": "514857f8",
   "metadata": {},
   "source": [
    "Bu kod, base_models fonksiyonu aracılığıyla farklı sınıflandırma modellerinin performansını ölçer. Ayrıca, accuracy metriği kullanılarak değerlendirme yapılmıştır. "
   ]
  },
  {
   "cell_type": "code",
   "execution_count": 46,
   "id": "23caad9d",
   "metadata": {},
   "outputs": [
    {
     "name": "stdout",
     "output_type": "stream",
     "text": [
      "Base Models....\n",
      "accuracy: 0.7604 (LR) \n"
     ]
    },
    {
     "name": "stderr",
     "output_type": "stream",
     "text": [
      "C:\\Users\\Administrator\\AppData\\Local\\Temp\\ipykernel_18572\\830357479.py:8: FutureWarning: Setting an item of incompatible dtype is deprecated and will raise in a future error of pandas. Value '-190.875' has dtype incompatible with int64, please explicitly cast to a compatible dtype first.\n",
      "  dataframe.loc[(dataframe[variable] < low_limit), variable] = low_limit\n"
     ]
    },
    {
     "name": "stdout",
     "output_type": "stream",
     "text": [
      "accuracy: 0.7617 (KNN) \n",
      "accuracy: 0.7656 (SVC) \n",
      "accuracy: 0.6901 (CART) \n",
      "accuracy: 0.7695 (RF) \n",
      "accuracy: 0.7578 (Adaboost) \n",
      "accuracy: 0.7539 (GBM) \n",
      "accuracy: 0.7526 (XGBoost) \n",
      "accuracy: 0.7383 (LightGBM) \n",
      "accuracy: 0.7591 (CatBoost) \n"
     ]
    }
   ],
   "source": [
    "def base_models(X, y, scoring=\"roc_auc\"):\n",
    "    \"\"\"\n",
    "    Verilen X ve y veri seti üzerinde temel sınıflandırma modellerini kullanarak performanslarını değerlendirir.\n",
    "\n",
    "    Parameters:\n",
    "    - X: Bağımsız değişkenler\n",
    "    - y: Bağımlı değişken\n",
    "    - scoring: Değerlendirme metriği (varsayılan olarak \"roc_auc\" kullanılmıştır)\n",
    "\n",
    "    Returns:\n",
    "    - None\n",
    "    \"\"\"\n",
    "    print(\"Base Models....\")\n",
    "\n",
    "    # Kullanılacak sınıflandırıcıları tanımlama\n",
    "    classifiers = [('LR', LogisticRegression()),\n",
    "                   ('KNN', KNeighborsClassifier()),\n",
    "                   (\"SVC\", SVC()),\n",
    "                   (\"CART\", DecisionTreeClassifier()),\n",
    "                   (\"RF\", RandomForestClassifier()),\n",
    "                   ('Adaboost', AdaBoostClassifier()),\n",
    "                   ('GBM', GradientBoostingClassifier()),\n",
    "                   ('XGBoost', XGBClassifier(use_label_encoder=False, eval_metric='logloss')),\n",
    "                   ('LightGBM', LGBMClassifier(verbose=-1)),\n",
    "                    ('CatBoost', CatBoostClassifier(verbose=False))\n",
    "                   ]\n",
    "\n",
    "    # Her bir sınıflandırıcı için çapraz doğrulama yapma ve sonuçları yazdırma\n",
    "    for name, classifier in classifiers:\n",
    "        cv_results = cross_validate(classifier, X, y, cv=3, scoring=scoring)\n",
    "        print(f\"{scoring}: {round(cv_results['test_score'].mean(), 4)} ({name}) \")\n",
    "\n",
    "# Veri setini hazırlama\n",
    "X, y = diabetes_data_prep(df)\n",
    "\n",
    "# Temel modelleri değerlendirme\n",
    "# Bu kısımda hangi başarı skoruna bakmak istiyorsanız onu yazın.\n",
    "# Scoring belirtmezseniz default değer olan AUC ROC değerini gösterir.\n",
    "\n",
    "# base_models(X, y)\n",
    "# base_models(X, y, scoring=\"f1\")\n",
    "\n",
    "base_models(X, y, scoring=\"accuracy\")"
   ]
  },
  {
   "cell_type": "markdown",
   "id": "6fee993a",
   "metadata": {},
   "source": [
    "Accuracy değerlerine bakacak olursak en başarılı model **RF>SVC>KNN...** gibi gözüküyor. Fakat değerler birbirine çok yakın. Şimdi ise hiperparametre optimizasyonu yaparak yeniden değerlendirelim."
   ]
  },
  {
   "cell_type": "markdown",
   "id": "66302f2d",
   "metadata": {},
   "source": [
    "# 4. Automated Hyperparameter Optimization"
   ]
  },
  {
   "cell_type": "markdown",
   "id": "86a905f7",
   "metadata": {},
   "source": [
    "Bu kod, sınıflandırıcıların hiperparametre optimizasyonunu gerçekleştirmek için kullanılan bir fonksiyon içerir.\n",
    "\n",
    "Her bir sınıflandırıcı için hiperparametre araması yapılacak parametre grid'lerini içerir. Bu grid'ler, GridSearchCV veya RandomizedSearchCV gibi fonksiyonlarda kullanılarak en iyi hiperparametre setini bulmak için kullanılabilir.Çapraz doğrulama skorları, optimizasyon öncesi ve sonrası olarak ekrana yazdırılır."
   ]
  },
  {
   "cell_type": "code",
   "execution_count": 47,
   "id": "e31292b6",
   "metadata": {},
   "outputs": [],
   "source": [
    "# KNN için parametre grid\n",
    "knn_params = {\"n_neighbors\": range(2, 50)}\n",
    "\n",
    "# Decision Tree (CART) için parametre grid\n",
    "cart_params = {'max_depth': range(1, 20),\n",
    "               \"min_samples_split\": range(2, 30)}\n",
    "\n",
    "# Random Forest için parametre grid\n",
    "rf_params = {\"max_depth\": [8, 15, None],\n",
    "             \"max_features\": [5, 7, \"auto\"],\n",
    "             \"min_samples_split\": [15, 20],\n",
    "             \"n_estimators\": [200, 300]}\n",
    "\n",
    "# XGBoost için parametre grid\n",
    "xgboost_params = {\"learning_rate\": [0.1, 0.01],\n",
    "                  \"max_depth\": [5, 8],\n",
    "                  \"n_estimators\": [100, 200]}\n",
    "\n",
    "# LightGBM için parametre grid\n",
    "lightgbm_params = {\"learning_rate\": [0.01, 0.1],\n",
    "                   \"n_estimators\": [300, 500]}\n",
    "\n",
    "# Sınıflandırıcılar ve ilgili parametre grid'leri\n",
    "classifiers = [('KNN', KNeighborsClassifier(), knn_params),\n",
    "               (\"CART\", DecisionTreeClassifier(), cart_params),\n",
    "               (\"RF\", RandomForestClassifier(), rf_params),\n",
    "               ('XGBoost', XGBClassifier(use_label_encoder=False, eval_metric='logloss'), xgboost_params),\n",
    "               ('LightGBM', LGBMClassifier(verbose=-1), lightgbm_params)]\n",
    "\n",
    "def hyperparameter_optimization(X, y, cv=3, scoring=\"roc_auc\"):\n",
    "    \"\"\"\n",
    "    Verilen sınıflandırıcı modelleri için hiperparametre optimizasyonu gerçekleştirir.\n",
    "\n",
    "    Parameters\n",
    "    ----------\n",
    "    X : pandas.DataFrame\n",
    "        Bağımsız değişkenlerin bulunduğu veri seti.\n",
    "    y : pandas.Series\n",
    "        Bağımlı değişken.\n",
    "    cv : int, optional\n",
    "        Çapraz doğrulama kat sayısı. Varsayılan değer 3.\n",
    "    scoring : str, optional\n",
    "        Model performansını değerlendirmek için kullanılacak metrik. Varsayılan değer \"roc_auc\".\n",
    "\n",
    "    Returns\n",
    "    -------\n",
    "    best_models : dict\n",
    "        Hiperparametre optimizasyonu sonucu bulunan en iyi modellerin sözlüğü.\n",
    "\n",
    "    \"\"\"\n",
    "    print(\"Hyperparameter Optimization....\")\n",
    "    # En iyi modelleri tutmak için dizi oluşturduk.\n",
    "    best_models = {}\n",
    "    \n",
    "    # Her bir sınıflandırıcı için hiperparametre optimizasyonu gerçekleştirme\n",
    "    for name, classifier, params in classifiers:\n",
    "        print(f\"########## {name} ##########\")\n",
    "        \n",
    "        # Çapraz doğrulama ile modelin performansını değerlendirme (önce)\n",
    "        cv_results = cross_validate(classifier, X, y, cv=cv, scoring=scoring)\n",
    "        print(f\"{scoring} (Before): {round(cv_results['test_score'].mean(), 4)}\")\n",
    "\n",
    "        # GridSearchCV kullanarak en iyi hiperparametreleri bulma\n",
    "        gs_best = GridSearchCV(classifier, params, cv=cv, n_jobs=-1, verbose=False).fit(X, y)\n",
    "        final_model = classifier.set_params(**gs_best.best_params_)\n",
    "\n",
    "        # Çapraz doğrulama ile modelin performansını değerlendirme (sonra)\n",
    "        cv_results = cross_validate(final_model, X, y, cv=cv, scoring=scoring)\n",
    "        print(f\"{scoring} (After): {round(cv_results['test_score'].mean(), 4)}\")\n",
    "        \n",
    "        # En iyi modeli ve hiperparametrelerini kaydetme\n",
    "        print(f\"{name} best params: {gs_best.best_params_}\", end=\"\\n\\n\")\n",
    "        best_models[name] = final_model\n",
    "    \n",
    "    return best_models"
   ]
  },
  {
   "cell_type": "markdown",
   "id": "7675a9a4",
   "metadata": {},
   "source": [
    "Artık en iyi modellere ve hiperparametre setlerine erişebiliriz. Bu şekilde, en iyi modelleri kullanarak tahminleme yapabilir ve model performanslarını değerlendirebilirsiniz. "
   ]
  },
  {
   "cell_type": "code",
   "execution_count": 48,
   "id": "027999a5",
   "metadata": {},
   "outputs": [
    {
     "name": "stdout",
     "output_type": "stream",
     "text": [
      "Hyperparameter Optimization....\n",
      "########## KNN ##########\n",
      "roc_auc (Before): 0.791\n",
      "roc_auc (After): 0.8211\n",
      "KNN best params: {'n_neighbors': 20}\n",
      "\n",
      "########## CART ##########\n",
      "roc_auc (Before): 0.6534\n",
      "roc_auc (After): 0.7943\n",
      "CART best params: {'max_depth': 6, 'min_samples_split': 23}\n",
      "\n",
      "########## RF ##########\n",
      "roc_auc (Before): 0.8289\n"
     ]
    },
    {
     "name": "stderr",
     "output_type": "stream",
     "text": [
      "C:\\ProgramData\\anaconda3\\Lib\\site-packages\\sklearn\\model_selection\\_validation.py:425: FitFailedWarning: \n",
      "36 fits failed out of a total of 108.\n",
      "The score on these train-test partitions for these parameters will be set to nan.\n",
      "If these failures are not expected, you can try to debug them by setting error_score='raise'.\n",
      "\n",
      "Below are more details about the failures:\n",
      "--------------------------------------------------------------------------------\n",
      "24 fits failed with the following error:\n",
      "Traceback (most recent call last):\n",
      "  File \"C:\\ProgramData\\anaconda3\\Lib\\site-packages\\sklearn\\model_selection\\_validation.py\", line 729, in _fit_and_score\n",
      "    estimator.fit(X_train, y_train, **fit_params)\n",
      "  File \"C:\\ProgramData\\anaconda3\\Lib\\site-packages\\sklearn\\base.py\", line 1145, in wrapper\n",
      "    estimator._validate_params()\n",
      "  File \"C:\\ProgramData\\anaconda3\\Lib\\site-packages\\sklearn\\base.py\", line 638, in _validate_params\n",
      "    validate_parameter_constraints(\n",
      "  File \"C:\\ProgramData\\anaconda3\\Lib\\site-packages\\sklearn\\utils\\_param_validation.py\", line 96, in validate_parameter_constraints\n",
      "    raise InvalidParameterError(\n",
      "sklearn.utils._param_validation.InvalidParameterError: The 'max_features' parameter of RandomForestClassifier must be an int in the range [1, inf), a float in the range (0.0, 1.0], a str among {'log2', 'sqrt'} or None. Got 'auto' instead.\n",
      "\n",
      "--------------------------------------------------------------------------------\n",
      "12 fits failed with the following error:\n",
      "Traceback (most recent call last):\n",
      "  File \"C:\\ProgramData\\anaconda3\\Lib\\site-packages\\sklearn\\model_selection\\_validation.py\", line 729, in _fit_and_score\n",
      "    estimator.fit(X_train, y_train, **fit_params)\n",
      "  File \"C:\\ProgramData\\anaconda3\\Lib\\site-packages\\sklearn\\base.py\", line 1145, in wrapper\n",
      "    estimator._validate_params()\n",
      "  File \"C:\\ProgramData\\anaconda3\\Lib\\site-packages\\sklearn\\base.py\", line 638, in _validate_params\n",
      "    validate_parameter_constraints(\n",
      "  File \"C:\\ProgramData\\anaconda3\\Lib\\site-packages\\sklearn\\utils\\_param_validation.py\", line 96, in validate_parameter_constraints\n",
      "    raise InvalidParameterError(\n",
      "sklearn.utils._param_validation.InvalidParameterError: The 'max_features' parameter of RandomForestClassifier must be an int in the range [1, inf), a float in the range (0.0, 1.0], a str among {'sqrt', 'log2'} or None. Got 'auto' instead.\n",
      "\n",
      "  warnings.warn(some_fits_failed_message, FitFailedWarning)\n"
     ]
    },
    {
     "name": "stdout",
     "output_type": "stream",
     "text": [
      "roc_auc (After): 0.8353\n",
      "RF best params: {'max_depth': 8, 'max_features': 7, 'min_samples_split': 20, 'n_estimators': 200}\n",
      "\n",
      "########## XGBoost ##########\n",
      "roc_auc (Before): 0.8008\n",
      "roc_auc (After): 0.8147\n",
      "XGBoost best params: {'learning_rate': 0.1, 'max_depth': 5, 'n_estimators': 100}\n",
      "\n",
      "########## LightGBM ##########\n",
      "roc_auc (Before): 0.807\n",
      "roc_auc (After): 0.8185\n",
      "LightGBM best params: {'learning_rate': 0.01, 'n_estimators': 300}\n",
      "\n"
     ]
    }
   ],
   "source": [
    "best_models = hyperparameter_optimization(X, y)"
   ]
  },
  {
   "cell_type": "markdown",
   "id": "9f698e1f",
   "metadata": {},
   "source": [
    "Hiperparametre optimizasyonu sonrasında en başarılır model **0.8353** ile **RF** gibi gözüküyor."
   ]
  },
  {
   "cell_type": "markdown",
   "id": "c424f1f9",
   "metadata": {},
   "source": [
    "# 5. Stacking & Ensemble Learning"
   ]
  },
  {
   "cell_type": "markdown",
   "id": "34a100e8",
   "metadata": {},
   "source": [
    "Bu fonksiyonun ana görevi, VotingClassifier sınıfını kullanarak verilen en iyi modellerin kombinasyonundan bir ensemble modeli oluşturmak ve bu model üzerinde çapraz doğrulama sonuçlarını değerlendirmektir. Oylama tipi 'soft' olarak belirlenmiştir, yani sınıflandırma sonuçlarının ağırlıklı ortalaması kullanılır. Fonksiyon, oluşturulan Voting Classifier'ın çeşitli performans metriklerini ekrana yazdırır ve son olarak bu modeli döndürür.\n",
    "\n",
    "Bu kodu kullanarak, en iyi modelleri bir araya getirip bir ensemble modeli oluşturabilir ve bu model üzerinde performans değerlendirmesi yapabilirsiniz.\n",
    "\n",
    "Burada KNN, RF ve LightGBM kullanmayı tercih ettik. Fakat bir önceki aşamada bulduğumuz en başarılı üç yöntem de tercih edilebilirdi."
   ]
  },
  {
   "cell_type": "code",
   "execution_count": 49,
   "id": "4c158f3b",
   "metadata": {},
   "outputs": [],
   "source": [
    "def voting_classifier(best_models, X, y):\n",
    "    # Fonksiyon başlığı\n",
    "    print(\"Voting Classifier...\")\n",
    "\n",
    "    # Voting Classifier'ın oluşturulması\n",
    "    voting_clf = VotingClassifier(estimators=[('KNN', best_models[\"KNN\"]),\n",
    "                                              ('RF', best_models[\"RF\"]),\n",
    "                                              ('LightGBM', best_models[\"LightGBM\"])],\n",
    "                                  voting='soft').fit(X, y)\n",
    "\n",
    "    # Voting Classifier üzerinde çapraz doğrulama sonuçlarının hesaplanması\n",
    "    cv_results = cross_validate(voting_clf, X, y, cv=3, scoring=[\"accuracy\", \"f1\", \"roc_auc\"])\n",
    "\n",
    "    # Çapraz doğrulama sonuçlarının ekrana yazdırılması\n",
    "    print(f\"Accuracy: {cv_results['test_accuracy'].mean()}\")\n",
    "    print(f\"F1Score: {cv_results['test_f1'].mean()}\")\n",
    "    print(f\"ROC_AUC: {cv_results['test_roc_auc'].mean()}\")\n",
    "\n",
    "    # Oluşturulan Voting Classifier'ın döndürülmesi\n",
    "    return voting_clf"
   ]
  },
  {
   "cell_type": "markdown",
   "id": "103d1bd9",
   "metadata": {},
   "source": [
    "Bu modeli kullanarak tahminlerde bulunabilir ve performansını değerlendirebilirsiniz. "
   ]
  },
  {
   "cell_type": "code",
   "execution_count": 50,
   "id": "57a9b657",
   "metadata": {},
   "outputs": [
    {
     "name": "stdout",
     "output_type": "stream",
     "text": [
      "Voting Classifier...\n",
      "Accuracy: 0.76953125\n",
      "F1Score: 0.634075880507638\n",
      "ROC_AUC: 0.836414121803773\n"
     ]
    }
   ],
   "source": [
    "voting_clf = voting_classifier(best_models, X, y)"
   ]
  },
  {
   "cell_type": "markdown",
   "id": "b3e6957d",
   "metadata": {},
   "source": [
    "# 6. Prediction for a New Observation\n",
    "\n",
    "Oluşturulan voting classifier ile tahmin yapacağız."
   ]
  },
  {
   "cell_type": "code",
   "execution_count": 51,
   "id": "5513bb46",
   "metadata": {},
   "outputs": [
    {
     "data": {
      "text/plain": [
       "Index(['PREGNANCIES', 'GLUCOSE', 'BLOODPRESSURE', 'SKINTHICKNESS', 'INSULIN', 'BMI', 'DIABETESPEDIGREEFUNCTION', 'AGE', 'NEW_AGE_CAT_OLD', 'NEW_AGE_CAT_YOUNG', 'NEW_GLUCOSE_CAT_PREDIABETES', 'NEW_BMI_RANGE_HEALTY', 'NEW_BMI_RANGE_OVERWEIGHT', 'NEW_BMI_RANGE_OBESE', 'NEW_BLOODPRESSURE_HS1', 'NEW_BLOODPRESSURE_HS2'], dtype='object')"
      ]
     },
     "execution_count": 51,
     "metadata": {},
     "output_type": "execute_result"
    }
   ],
   "source": [
    "# X.columns ile kullanılabilir özellik isimlerini görüntüleme\n",
    "X.columns"
   ]
  },
  {
   "cell_type": "code",
   "execution_count": 52,
   "id": "8b071c8b",
   "metadata": {},
   "outputs": [
    {
     "data": {
      "text/plain": [
       "array([1], dtype=int64)"
      ]
     },
     "execution_count": 52,
     "metadata": {},
     "output_type": "execute_result"
    }
   ],
   "source": [
    "# Rastgele bir kullanıcı seçme\n",
    "random_user = X.sample(1, random_state=45)\n",
    "\n",
    "# Voting Classifier ile tahmin yapma\n",
    "voting_clf.predict(random_user)"
   ]
  },
  {
   "cell_type": "markdown",
   "id": "c9b378fb",
   "metadata": {},
   "source": [
    "Bu modeli daha sonra da kullanabilmek için kaydediyoruz."
   ]
  },
  {
   "cell_type": "code",
   "execution_count": 53,
   "id": "e9bbcebf",
   "metadata": {},
   "outputs": [
    {
     "data": {
      "text/plain": [
       "['voting_clf2.pkl']"
      ]
     },
     "execution_count": 53,
     "metadata": {},
     "output_type": "execute_result"
    }
   ],
   "source": [
    "# Modeli diske kaydetme\n",
    "joblib.dump(voting_clf, \"voting_clf2.pkl\")"
   ]
  },
  {
   "cell_type": "code",
   "execution_count": 54,
   "id": "b18a29a9",
   "metadata": {},
   "outputs": [
    {
     "data": {
      "text/plain": [
       "array([1], dtype=int64)"
      ]
     },
     "execution_count": 54,
     "metadata": {},
     "output_type": "execute_result"
    }
   ],
   "source": [
    "# Kaydedilen modeli yükleme\n",
    "new_model = joblib.load(\"voting_clf2.pkl\")\n",
    "\n",
    "# Yeni model ile tahmin yapma\n",
    "new_model.predict(random_user)"
   ]
  },
  {
   "cell_type": "markdown",
   "id": "8cf7592b",
   "metadata": {},
   "source": [
    "Böylece oluşturduğumuz voting classifier ile 3 farklı model üzerinden tahmin yaparak bunların ağırlıklı ortalamasına göre tahmin sonucunu görebiliyoruz."
   ]
  }
 ],
 "metadata": {
  "kernelspec": {
   "display_name": "Python 3 (ipykernel)",
   "language": "python",
   "name": "python3"
  },
  "language_info": {
   "codemirror_mode": {
    "name": "ipython",
    "version": 3
   },
   "file_extension": ".py",
   "mimetype": "text/x-python",
   "name": "python",
   "nbconvert_exporter": "python",
   "pygments_lexer": "ipython3",
   "version": "3.11.5"
  }
 },
 "nbformat": 4,
 "nbformat_minor": 5
}
