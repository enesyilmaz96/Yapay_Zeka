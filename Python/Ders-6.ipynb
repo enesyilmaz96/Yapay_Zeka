{
 "cells": [
  {
   "cell_type": "markdown",
   "id": "fc0b830f",
   "metadata": {},
   "source": [
    " Önce herhangi bir özel şekilde yapılanmamış olan düz metin dosyalarını işlemeyi göreceğiz. Ardından _csv_ modülüyle CSV biçiminde yapılanmış dosyaları okuyup yazmayı inceleyeceğiz. JSON, ZIP, PDF, Word, Excel, HTML dosyalarının işlenmesine kısaca değineceğiz. Son olarak, Python oturumunda yarattığımız nesneleri ikili (binary) formda dosyaya kaydetmemizi ve sonra dosyadan tekrar yüklememizi sağlayan **`pickle`** modülünün kullanımını özetleyeceğiz.\n"
   ]
  },
  {
   "cell_type": "markdown",
   "id": "5fd45458",
   "metadata": {},
   "source": [
    "Genel dosya okuma/yazma\n",
    "===\n",
    "Dosya okumak\n",
    "---\n",
    "Öncelikle, IPython sihirleriyle _deneme.txt_ isimli bir dosya yaratalım (Jupyter kullanmıyorsanız aşağıdaki metni bir metin editörüne kopyalayıp _deneme.txt_ ismiyle çalışma dizininize kaydedebilirsiniz)."
   ]
  },
  {
   "cell_type": "code",
   "execution_count": 1,
   "id": "9b4207a1",
   "metadata": {},
   "outputs": [
    {
     "name": "stdout",
     "output_type": "stream",
     "text": [
      "Writing deneme.txt\n"
     ]
    }
   ],
   "source": [
    "%%writefile deneme.txt\n",
    "Ey Türk Gençliği!\n",
    "Birinci vazifen, \n",
    "Türk istiklâlini, Türk Cumhuriyeti'ni, \n",
    "ilelebet muhafaza ve müdafaa etmektir."
   ]
  },
  {
   "cell_type": "markdown",
   "id": "7afbb232",
   "metadata": {},
   "source": [
    "Bir dosyayı açmak için `open()` fonksiyonunu kullanırız. En basit halinde `open()` mevcut bir metin dosyasını okumak için açar ve bir dosya nesnesi döndürür."
   ]
  },
  {
   "cell_type": "code",
   "execution_count": 2,
   "id": "facaf215",
   "metadata": {},
   "outputs": [],
   "source": [
    "f = open(\"deneme.txt\")"
   ]
  },
  {
   "cell_type": "markdown",
   "id": "a0e954f8",
   "metadata": {},
   "source": [
    "Dosya nesnesinin `read()` metodu dosya içeriğini tek bir dize halinde döndürür."
   ]
  },
  {
   "cell_type": "code",
   "execution_count": 3,
   "id": "1ec297db",
   "metadata": {},
   "outputs": [
    {
     "data": {
      "text/plain": [
       "\"Ey Türk Gençliği!\\nBirinci vazifen, \\nTürk istiklâlini, Türk Cumhuriyeti'ni, \\nilelebet muhafaza ve müdafaa etmektir.\""
      ]
     },
     "execution_count": 3,
     "metadata": {},
     "output_type": "execute_result"
    }
   ],
   "source": [
    "f.read()"
   ]
  },
  {
   "cell_type": "markdown",
   "id": "2895b96b",
   "metadata": {},
   "source": [
    "Açılmış dosyalarla işimiz bittiğinde kapatmamız gerekir, yoksa bellekte birikip yer işgal edebilirler."
   ]
  },
  {
   "cell_type": "code",
   "execution_count": 4,
   "id": "e8323c90",
   "metadata": {},
   "outputs": [],
   "source": [
    "f.close()"
   ]
  },
  {
   "cell_type": "markdown",
   "id": "b720918f",
   "metadata": {},
   "source": [
    "`readlines()` metodu, satırlardan oluşan bir liste döndürür:"
   ]
  },
  {
   "cell_type": "code",
   "execution_count": 5,
   "id": "90256d21",
   "metadata": {},
   "outputs": [
    {
     "data": {
      "text/plain": [
       "['Ey Türk Gençliği!\\n',\n",
       " 'Birinci vazifen, \\n',\n",
       " \"Türk istiklâlini, Türk Cumhuriyeti'ni, \\n\",\n",
       " 'ilelebet muhafaza ve müdafaa etmektir.']"
      ]
     },
     "execution_count": 5,
     "metadata": {},
     "output_type": "execute_result"
    }
   ],
   "source": [
    "f = open(\"deneme.txt\")\n",
    "f.readlines()"
   ]
  },
  {
   "cell_type": "code",
   "execution_count": 6,
   "id": "17074a90",
   "metadata": {},
   "outputs": [],
   "source": [
    "f.close()"
   ]
  },
  {
   "cell_type": "markdown",
   "id": "d97a0761",
   "metadata": {},
   "source": [
    "Bir dosya nesnesi bir _iteratördür_; bütün dosyayı bir kerede belleğe yüklemez, ama talep geldikçe satırları birer birer verir. `readline()` metodu dosyadaki mevcut satırı okumak için kullanılır. Her yeni `readline()` çağrısı bir sonraki satırı getirir."
   ]
  },
  {
   "cell_type": "code",
   "execution_count": 7,
   "id": "f73f0d28",
   "metadata": {},
   "outputs": [
    {
     "data": {
      "text/plain": [
       "'Ey Türk Gençliği!\\n'"
      ]
     },
     "execution_count": 7,
     "metadata": {},
     "output_type": "execute_result"
    }
   ],
   "source": [
    "f = open(\"deneme.txt\")\n",
    "f.readline()"
   ]
  },
  {
   "cell_type": "code",
   "execution_count": 8,
   "id": "6c45a96f",
   "metadata": {},
   "outputs": [
    {
     "data": {
      "text/plain": [
       "'Birinci vazifen, \\n'"
      ]
     },
     "execution_count": 8,
     "metadata": {},
     "output_type": "execute_result"
    }
   ],
   "source": [
    "f.readline()"
   ]
  },
  {
   "cell_type": "markdown",
   "id": "3c721021",
   "metadata": {},
   "source": [
    "Dosya nesnesi bir iteratör olduğu için `for` döngüsünde kullanılabilir. Bir dosyayı satır satır işlemek için şöyle bir döngü kurulur."
   ]
  },
  {
   "cell_type": "code",
   "execution_count": 9,
   "id": "3b423e40",
   "metadata": {},
   "outputs": [
    {
     "name": "stdout",
     "output_type": "stream",
     "text": [
      "TÜRK ISTIKLÂLINI, TÜRK CUMHURIYETI'NI, \n",
      "ILELEBET MUHAFAZA VE MÜDAFAA ETMEKTIR."
     ]
    }
   ],
   "source": [
    "for satır in f:\n",
    "    print(satır.upper(),end=\"\")\n",
    "f.close()"
   ]
  },
  {
   "cell_type": "markdown",
   "id": "547a10c6",
   "metadata": {},
   "source": [
    "with ... as\n",
    "---\n",
    "Yukarıda, dosyayı `open()` ile açtıktan sonra `close()` metoduyla kapatmak gerektiğini söyledik. Bu basit bir kural olsa da, karmaşık programlar içinde gözden kaçabiliyor. Dosya açma/kapama işlemini daha düzenli hale getirmek için Python programcıları _context manager_ denen bir yapı kullanırlar. Bir context manager oluşturmak için `with` komutu kullanılır."
   ]
  },
  {
   "cell_type": "code",
   "execution_count": 10,
   "id": "5b47897f",
   "metadata": {},
   "outputs": [
    {
     "name": "stdout",
     "output_type": "stream",
     "text": [
      "Ey Türk Gençliği!\n",
      "Birinci vazifen, \n",
      "Türk istiklâlini, Türk Cumhuriyeti'ni, \n",
      "ilelebet muhafaza ve müdafaa etmektir.\n"
     ]
    }
   ],
   "source": [
    "with open(\"deneme.txt\") as f:\n",
    "    print(f.read())"
   ]
  },
  {
   "cell_type": "markdown",
   "id": "947dccec",
   "metadata": {},
   "source": [
    "Context manager ayrı ve geniş bir konudur, ayrıntısı için [Python belgelerine](https://docs.python.org/3/reference/compound_stmts.html#with) bakabilirsiniz. Bizim açımızdan önemli olan, burada `with` bloku bitince dosyanın otomatik olarak kapatılmasıdır. Dosyanın kapanmış olduğunu, dosya nesnesinin `closed` değişkeninin durumuyla kontrol edebiliriz."
   ]
  },
  {
   "cell_type": "code",
   "execution_count": 11,
   "id": "cddb5b52",
   "metadata": {},
   "outputs": [
    {
     "data": {
      "text/plain": [
       "True"
      ]
     },
     "execution_count": 11,
     "metadata": {},
     "output_type": "execute_result"
    }
   ],
   "source": [
    "f.closed"
   ]
  },
  {
   "cell_type": "markdown",
   "id": "b0bc929d",
   "metadata": {},
   "source": [
    "Dosyaya yazmak\n",
    "-----\n",
    "Bir dosyaya yazmak için `open()` fonksiyonunda `\"w\"` (write) modunu kullanırız."
   ]
  },
  {
   "cell_type": "code",
   "execution_count": 12,
   "id": "1ad7e081",
   "metadata": {},
   "outputs": [],
   "source": [
    "f = open(\"deneme2.txt\", \"w\")"
   ]
  },
  {
   "cell_type": "markdown",
   "id": "288782bc",
   "metadata": {},
   "source": [
    "Bu komutla, mevcut dizinde _deneme2.txt_ dosyası yoksa yaratılır, varsa mevcut içeriği silinip üstüne yeni veri yazılır. Açılan dosyaya bir dize yazmak için `write()` metodu kullanılır."
   ]
  },
  {
   "cell_type": "code",
   "execution_count": 13,
   "id": "87dd6ac9",
   "metadata": {},
   "outputs": [],
   "source": [
    "f.write(\"ABCDE\\n\")\n",
    "f.write(\"123456\\n\")\n",
    "f.write(\"wxyz\\n\")\n",
    "f.close()"
   ]
  },
  {
   "cell_type": "markdown",
   "id": "31656f79",
   "metadata": {},
   "source": [
    "Dosyayı açarak, veya `%cat` sihirini kullanarak içeriğine bakabiliriz."
   ]
  },
  {
   "cell_type": "code",
   "execution_count": 14,
   "id": "99caeafd",
   "metadata": {},
   "outputs": [
    {
     "name": "stdout",
     "output_type": "stream",
     "text": [
      "ABCDE\n",
      "123456\n",
      "wxyz\n"
     ]
    }
   ],
   "source": [
    "%cat deneme2.txt"
   ]
  },
  {
   "cell_type": "markdown",
   "id": "980d0def",
   "metadata": {},
   "source": [
    "Aynısını bir context manager ile de yapabiliriz:"
   ]
  },
  {
   "cell_type": "code",
   "execution_count": 15,
   "id": "3e1d9ffb",
   "metadata": {},
   "outputs": [],
   "source": [
    "with open(\"deneme2.txt\", \"w\") as f:\n",
    "    f.write(\"ABCDE\\n\")\n",
    "    f.write(\"123456\\n\")\n",
    "    f.write(\"wxyz\\n\")"
   ]
  },
  {
   "cell_type": "markdown",
   "id": "ac405f69",
   "metadata": {},
   "source": [
    "Dosyada mevcut bulunan verileri silmeden, yeni verilerin dosyanın altına eklenmesini istersek dosyayı `\"a\"` (append) modunda açmalıyız."
   ]
  },
  {
   "cell_type": "code",
   "execution_count": 16,
   "id": "b8c2b437",
   "metadata": {},
   "outputs": [],
   "source": [
    "with open(\"deneme2.txt\", \"a\") as f:\n",
    "    f.write(\"Yeni satır 1\\n\")\n",
    "    f.write(\"Yeni satır 2\\n\")"
   ]
  },
  {
   "cell_type": "code",
   "execution_count": 17,
   "id": "8287db74",
   "metadata": {},
   "outputs": [
    {
     "name": "stdout",
     "output_type": "stream",
     "text": [
      "ABCDE\n",
      "123456\n",
      "wxyz\n",
      "Yeni satır 1\n",
      "Yeni satır 2\n"
     ]
    }
   ],
   "source": [
    "%cat deneme2.txt"
   ]
  },
  {
   "cell_type": "markdown",
   "id": "194f8ee3",
   "metadata": {},
   "source": [
    "CSV dosya biçimi\n",
    "=====\n",
    " \n",
    "Bir çok veri dosyasında veriler tablo halinde, her satırda bir _kayıt_ ve her sütunda o kayda ait bir _alan_ olacak şekilde düzenlenmişlerdir. Alanlar birbirlerinden boşlukla, virgülle, veya başka bir karakterle ayrılabilir. Bu tür bir dosya düzenine CSV (comma-separated values, virgülle ayrılmış değerler) adı verilir. CSV biçimindeki dosyaları okumak için yukarıda açıkladığımız genel yöntemleri kullanmak mümkünse de, Python'un `csv` modülü işleri basitleştirir. Sözgelişi MS Excel ve benzeri bir hesap tablosunu CSV biçiminde kaydedip, verileri Python ile okuyabilirsiniz; veya Python'la üretilen verileri CSV dosyası olarak kaydedip hesap tablosu uygulamasıyla açabilirsiniz.\n",
    "\n",
    "CSV okuma\n",
    "-----\n",
    "Önce bir örnek veri dosyası hazırlayalım."
   ]
  },
  {
   "cell_type": "code",
   "execution_count": 18,
   "id": "5e6041f5",
   "metadata": {},
   "outputs": [
    {
     "name": "stdout",
     "output_type": "stream",
     "text": [
      "Overwriting ornek.csv\n"
     ]
    }
   ],
   "source": [
    "%%writefile ornek.csv\n",
    "\"Potter, H\",37,\"Londra, İngiltere\"\n",
    "\"Granger, H\",36,\"Sydney, Avustralya\"\n",
    "\"Weasley, Bill\",45,\"Bükreş, Romanya\""
   ]
  },
  {
   "cell_type": "markdown",
   "id": "6b4cfdf3",
   "metadata": {},
   "source": [
    "Bu örnekte isim ve adres alanı değerlerinin tırnak içinde yazıldığına dikkat edin. Eğer tırnak kullanılmasaydı, alanları virgülle ayırma kuralı bize `\"Potter\"`, `\"H\"`, `37`, `\"Londra\"`, `\"İngiltere\"` gibi beş ayrı alan verirdi. \n",
    "\n",
    "Bir CSV dosyasını açtıktan sonra, `csv` modülündeki `reader()` fonksiyonunu kullanarak onu satır satır okuyacak bir iteratör nesnesi yaratırız. Sonra bu iteratör nesnesi üzerinde bir döngüyle dosyayı tarayabiliriz."
   ]
  },
  {
   "cell_type": "code",
   "execution_count": 19,
   "id": "8f07d517",
   "metadata": {},
   "outputs": [
    {
     "name": "stdout",
     "output_type": "stream",
     "text": [
      "['Potter, H', '37', 'Londra, İngiltere']\n",
      "['Granger, H', '36', 'Sydney, Avustralya']\n",
      "['Weasley, Bill', '45', 'Bükreş, Romanya']\n"
     ]
    }
   ],
   "source": [
    "import csv\n",
    "with open(\"ornek.csv\") as f:\n",
    "    okur = csv.reader(f)\n",
    "    for satır in okur:\n",
    "        print(satır)"
   ]
  },
  {
   "cell_type": "markdown",
   "id": "4edbd9a8",
   "metadata": {},
   "source": [
    "Veya dosyamızda alan ayırıcı olarak boşluk karakteri, alan gruplama için bölü işareti (`/`) kullanılmış olabilir. Bu durumda `reader()` fonksiyonundaki `delimiter` ve `quotechar` parametrelerini değiştirerek dosyayı doğru şekilde alabiliriz."
   ]
  },
  {
   "cell_type": "code",
   "execution_count": 20,
   "id": "46330a4d",
   "metadata": {},
   "outputs": [
    {
     "name": "stdout",
     "output_type": "stream",
     "text": [
      "Overwriting ornek2.csv\n"
     ]
    }
   ],
   "source": [
    "%%writefile ornek2.csv\n",
    "/Potter, H/ 37 /Londra, İngiltere/\n",
    "/Granger, H/ 36 /Sydney, Avustralya/\n",
    "/Weasley, Bill/ 45 /Bükreş, Romanya/"
   ]
  },
  {
   "cell_type": "code",
   "execution_count": 21,
   "id": "64edc465",
   "metadata": {},
   "outputs": [
    {
     "name": "stdout",
     "output_type": "stream",
     "text": [
      "['Potter, H', '37', 'Londra, İngiltere']\n",
      "['Granger, H', '36', 'Sydney, Avustralya']\n",
      "['Weasley, Bill', '45', 'Bükreş, Romanya']\n"
     ]
    }
   ],
   "source": [
    "with open(\"ornek2.csv\") as f:\n",
    "    okur = csv.reader(f, delimiter=\" \", quotechar=\"/\")\n",
    "    for satır in okur:\n",
    "        print(satır)"
   ]
  },
  {
   "cell_type": "markdown",
   "id": "968c3c26",
   "metadata": {},
   "source": [
    "Görüldüğü gibi, bir CSV dosyasında alan ayırma, gruplama, satır sonu karakterleri için farklı tercihler olabilir. Her bir tercih kümesine bir _lehçe_ (dialect) adı veriliyor. `csv.reader()` için varsayılan lehçe olan `\"excel\"`, MS Excel ile üretilen CSV dosyalarını okumaya ayarlıdır. Ancak yukarıda gördüğümüz gibi bu tercihler kolaylıkla değiştirilebilir.\n",
    "\n",
    "Eğer özel bir CSV biçimini sık sık kullanıyorsanız, o lehçeye özel bir `Dialect` nesnesi oluşturup `reader()` ile birlikte kullanabilirsiniz. Bunun ayrıntılarını [Python belgelerinden](https://docs.python.org/3/library/csv.html) öğrenebilirsiniz.\n",
    "\n",
    "CSV yazma\n",
    "---\n",
    "Elimizdeki verileri bir CSV dosyasına yazmak için önce `csv` modülünün `writer()` fonksiyonuyla bir yazıcı nesnesi yaratırız. Yazıcı nesnesi verilen veriyi kullanılan \"lehçe\"ye uygun şekilde bir dizeye dönüştürür ve dosyaya yazar. Yazılacak dosyayı `open()` ile açarken `newline=\"\"` parametresi vermemiz gerekir.\n",
    "\n",
    "Yazıcı nesnesinin `writerow()` metodu yazılacak satırı bir liste olarak alır."
   ]
  },
  {
   "cell_type": "code",
   "execution_count": 22,
   "id": "9ac2320e",
   "metadata": {},
   "outputs": [],
   "source": [
    "with open(\"ornek3.csv\", \"w\", newline=\"\") as f:\n",
    "    yazıcı = csv.writer(f)\n",
    "    yazıcı.writerow(['Potter, H', '37', 'Londra, İngiltere'])\n",
    "    yazıcı.writerow(['Granger, H', '36', 'Sydney, Avustralya'])"
   ]
  },
  {
   "cell_type": "markdown",
   "id": "1a292017",
   "metadata": {},
   "source": [
    "Dosyanın içeriğine bakarak doğru yazılıp yazılmadığını kontrol edelim:"
   ]
  },
  {
   "cell_type": "code",
   "execution_count": 23,
   "id": "3d93a356",
   "metadata": {},
   "outputs": [
    {
     "name": "stdout",
     "output_type": "stream",
     "text": [
      "\"Potter, H\",37,\"Londra, İngiltere\"\n",
      "\"Granger, H\",36,\"Sydney, Avustralya\"\n"
     ]
    }
   ],
   "source": [
    "%cat ornek3.csv"
   ]
  },
  {
   "cell_type": "markdown",
   "id": "77c4fbea",
   "metadata": {},
   "source": [
    "Pandas ile CSV okuma\n",
    "---"
   ]
  },
  {
   "cell_type": "markdown",
   "id": "f6e4f622",
   "metadata": {},
   "source": [
    "CSV dosyalarını veri analizi paketi _pandas_ ile de okumak ve yazmak mümkündür. Pandas ile CSV okumak hem daha basittir, hem de `csv` modülünde bulunmayan sözgelişi veri içindeki yorumları elemek, sadece istenen sütunları almak gibi ince ayarlara da imkan verir.\n",
    "\n",
    "Pandas'ın `read_csv()` fonksiyonu dosyanın içeriğini bir veri çerçevesi olarak okur; ardından bu veri çerçevesinden çeşitli satırlar veya sütunlar alınabilir. Pandas kullanımı bu notların kapsamı dışında olduğu için ayrıntıya girmiyorum."
   ]
  },
  {
   "cell_type": "markdown",
   "id": "130491b9",
   "metadata": {},
   "source": [
    "Diğer dosya formatları\n",
    "====\n",
    "Birçok dosya biçimi için Python'da özelleşmiş kütüphaneler vardır. Bunların bazılarına değinelim.\n",
    "JSON\n",
    "----\n",
    "Birçok internet hizmeti API'si, sorgulama sonuçlarını JSON biçiminde bir dosya olarak verir (sözgelişi daha önce [Foursquare](http://www.veridefteri.com/2018/01/23/foursquare-api/), [Weather Underground](http://www.veridefteri.com/2018/03/22/weather-underground-api/) ve [Star Wars](http://www.veridefteri.com/2017/12/13/veri-defteri-ben-seviyor-cok/) API'lerini JSON verilerini incelemiştik). Python standart kütüphanesindeki `json` modülü, JSON biçimli bir dosyayı okuyup bir Python sözlük veya listesine dönüştüren, ve Python nesnelerinden JSON biçimli bir dosya oluşturan fonksiyonları içerir.\n",
    "\n",
    "[Mockaroo](https://www.mockaroo.com/) sitesini kullanarak yalancı veri içeren küçük bir JSON dosyası üretelim."
   ]
  },
  {
   "cell_type": "code",
   "execution_count": 24,
   "id": "1837d88c",
   "metadata": {},
   "outputs": [
    {
     "name": "stdout",
     "output_type": "stream",
     "text": [
      "Overwriting yalanci_veri.json\n"
     ]
    }
   ],
   "source": [
    "%%writefile yalanci_veri.json\n",
    "[{\n",
    "  \"id\": 1,\n",
    "  \"first_name\": \"Fredia\",\n",
    "  \"last_name\": \"Waith\",\n",
    "  \"email\": \"fwaith0@tamu.edu\"\n",
    "}, {\n",
    "  \"id\": 2,\n",
    "  \"first_name\": \"Rafaello\",\n",
    "  \"last_name\": \"Rowthorn\",\n",
    "  \"email\": \"rrowthorn1@stanford.edu\"\n",
    "}, {\n",
    "  \"id\": 3,\n",
    "  \"first_name\": \"Harriette\",\n",
    "  \"last_name\": \"Patters\",\n",
    "  \"email\": \"hpatters2@samsung.com\"\n",
    "}]"
   ]
  },
  {
   "cell_type": "markdown",
   "id": "357053a1",
   "metadata": {},
   "source": [
    "Şimdi bu dosyayı açıp, içeriğini yorumlayalım ve bir Python nesnesine aktaralım."
   ]
  },
  {
   "cell_type": "code",
   "execution_count": 25,
   "id": "289de414",
   "metadata": {},
   "outputs": [],
   "source": [
    "import json\n",
    "with open(\"yalanci_veri.json\") as f:\n",
    "    yalanciveriler = json.load(f)"
   ]
  },
  {
   "cell_type": "markdown",
   "id": "71bc0eb4",
   "metadata": {},
   "source": [
    "Bu işlem sonucunda bir sözlükler listesi elde etmiş oluruz. Bilindik indeksleme işlemleriyle tek tek elemanlara ulaşabiliriz."
   ]
  },
  {
   "cell_type": "code",
   "execution_count": 26,
   "id": "bc648a0d",
   "metadata": {},
   "outputs": [
    {
     "data": {
      "text/plain": [
       "('Rafaello', 'rrowthorn1@stanford.edu')"
      ]
     },
     "execution_count": 26,
     "metadata": {},
     "output_type": "execute_result"
    }
   ],
   "source": [
    "yalanciveriler[1][\"first_name\"], yalanciveriler[1][\"email\"]"
   ]
  },
  {
   "cell_type": "markdown",
   "id": "e55032f5",
   "metadata": {},
   "source": [
    "Şimdi JSON dosyası yazmayı görelim. Elimizdeki veriye bir satır daha ekleyelim ve nesnenin yeni halini `json.dump()` ile dosyaya yazalım."
   ]
  },
  {
   "cell_type": "code",
   "execution_count": 27,
   "id": "987b5078",
   "metadata": {},
   "outputs": [],
   "source": [
    "yalanciveriler.append(\n",
    "{\n",
    "  \"id\": 4,\n",
    "  \"first_name\": \"Giffer\",\n",
    "  \"last_name\": \"Dur\",\n",
    "  \"email\": \"gdur2@cnbc.com\"\n",
    "})\n",
    "\n",
    "with open(\"yalanci_veri.json\", \"w\") as f:\n",
    "    json.dump(yalanciveriler,f)"
   ]
  },
  {
   "cell_type": "markdown",
   "id": "9c40df24",
   "metadata": {},
   "source": [
    "Dosyanın içeriğine bakarak beklediğimiz şekilde yazıldığını görebiliyoruz."
   ]
  },
  {
   "cell_type": "code",
   "execution_count": 28,
   "id": "78e7ff36",
   "metadata": {},
   "outputs": [
    {
     "name": "stdout",
     "output_type": "stream",
     "text": [
      "[{\"id\": 1, \"first_name\": \"Fredia\", \"last_name\": \"Waith\", \"email\": \"fwaith0@tamu.edu\"}, {\"id\": 2, \"first_name\": \"Rafaello\", \"last_name\": \"Rowthorn\", \"email\": \"rrowthorn1@stanford.edu\"}, {\"id\": 3, \"first_name\": \"Harriette\", \"last_name\": \"Patters\", \"email\": \"hpatters2@samsung.com\"}, {\"id\": 4, \"first_name\": \"Giffer\", \"last_name\": \"Dur\", \"email\": \"gdur2@cnbc.com\"}]"
     ]
    }
   ],
   "source": [
    "%cat yalanci_veri.json"
   ]
  },
  {
   "cell_type": "markdown",
   "id": "5294e7f1",
   "metadata": {},
   "source": [
    "HTML\n",
    "---\n",
    "HTML dosyaları zaten düz metinden oluştuğu için onları okumakta teknik bir zorluk yok. HTML işlemede asıl istenen şey _parsing_, yani çeşitli HTML elemanlarına erişebilmektir. Söz gelişi, bir HTML'deki bağlantıları almak, tablo veriyi okumak gibi işlemler yapmamız gerekebilir. Bu tür işlemler bu yazı dizisinin kapsamını aşıyor. İlgilenenler, en çok kullanılan araçlardan biri olan [_Beautiful Soup_ modülüyle](https://www.crummy.com/software/BeautifulSoup/bs4/doc/) denemeler yapabilirler.\n",
    "\n",
    "Excel\n",
    "---\n",
    "MS Excel dosyalarını CSV olarak kaydederseniz _CSV okuma/yazma_ kısmındaki yöntemleri kullanabilirsiniz. Bunu istemiyorsanız, veya tablodaki verileriniz bu işleme uygun değilse, veya birden fazla yapraktan oluşuyorsa, Excel dosyasını doğrudan açmak için [_xlrd_ modülünü](http://xlrd.readthedocs.io/en/latest/) kullanabilirsiniz.\n",
    "\n",
    "Daha geniş özelliklere sahip bir paket olan [_pyexcel_](http://pyexcel.readthedocs.io/en/latest/) ile hem okuma hem de yazmayı daha kolay işlemlerle yapabilirsiniz.\n",
    "\n",
    "_Pandas_ paketinin `read_excel()` fonksiyonu ile bir Excel dosyasını doğrudan okuyarak bir veri çerçevesi haline getirebilirsiniz. Kullanımına bir örnek görmek için [\"Groupby\" yazımıza](http://www.veridefteri.com/2017/10/30/groupby/) bakabilirsiniz. \n",
    "Word\n",
    "---\n",
    "MS Word belgelerinin içinden metin almak, belge yaratmak ve varolan belgeye içerik eklemek için [_python-docx_](https://python-docx.readthedocs.io/en/latest/index.html) modülü kullanılabilir. Örnekler için Al Sweigart'ın _Automate The Boring Stuff with Python_ [kitabına](https://automatetheboringstuff.com/chapter13/) bakabilirsiniz.\n",
    "\n",
    "PDF\n",
    "---\n",
    "PDF dosyalarından bilgi almak, PDF dosyası yaratmak, mevcut dosyada değişiklik yapmak gibi işler için [_pyPDF2_](https://pythonhosted.org/PyPDF2/) modülünü kullanabilirsiniz. Sweigart'ın _Automate The Boring Stuff with Python_ [kitabında] (https://automatetheboringstuff.com/chapter13/) bu modülün kullanımına dair açıklayıcı örnekler bulabilirsiniz.\n",
    "ZIP\n",
    "---\n",
    "Python standart kütüphanesindeki [_zipfile_ modülü](https://docs.python.org/3/library/zipfile.html), ZIP formatında sıkıştırma ve açma fonksiyonları sağlar.\n",
    "Basit bir örnek olarak, yukarıda kullandığımız _deneme.txt_ ve *yalanci_veri.json* dosyalarını sıkıştırarak bir arşiv dosyası oluşturalım."
   ]
  },
  {
   "cell_type": "code",
   "execution_count": 29,
   "id": "4148671b",
   "metadata": {},
   "outputs": [],
   "source": [
    "import zipfile\n",
    "with zipfile.ZipFile(\"arsiv.zip\",\"w\") as z:\n",
    "    z.write(\"deneme.txt\")\n",
    "    z.write(\"yalanci_veri.json\")"
   ]
  },
  {
   "cell_type": "markdown",
   "id": "19b0a5ac",
   "metadata": {},
   "source": [
    "Mevcut bir arşive bir dosya eklemek istiyorsak, `ZipFile()` fonksiyonunun açılma modunu `\"w\"` yerine `\"a\"` yaparız.\n",
    "\n",
    "`ZipFile()` fonksiyonu, yukarıda gördüğümüz `open()` gibi çalışır. Arşivi açmak için `ZipFile()` fonksiyonunu okuma modunda kullanırız, ve arşiv dosyası nesnesine ait `open()` metoduyla dosyayı açarız. Açılan dosyanın içeriği `read()`, `readline()` veya `readlines()` metodlarıyla okunabilir. Bu metodlar kodlanmış dizeler döndürdüğü için `decode()` dize metoduyla Unicode'a çevrilmelidir."
   ]
  },
  {
   "cell_type": "code",
   "execution_count": 30,
   "id": "cdf88891",
   "metadata": {},
   "outputs": [
    {
     "name": "stdout",
     "output_type": "stream",
     "text": [
      "Ey Türk Gençliği!\n",
      "Birinci vazifen, \n",
      "Türk istiklâlini, Türk Cumhuriyeti'ni, \n",
      "ilelebet muhafaza ve müdafaa etmektir.\n"
     ]
    }
   ],
   "source": [
    "with zipfile.ZipFile('arsiv.zip') as z:\n",
    "    with z.open('deneme.txt') as f:\n",
    "        print(f.read().decode(\"utf-8\"))"
   ]
  },
  {
   "cell_type": "markdown",
   "id": "9303332e",
   "metadata": {},
   "source": [
    "Bir ZIP arşivindeki bir dosyayı açarak diske kaydetmek için `extract()`, arşivdeki bütün dosyaları açmak için `extractall()` fonksiyonları kullanabiliriz."
   ]
  },
  {
   "cell_type": "markdown",
   "id": "41d732ce",
   "metadata": {},
   "source": [
    "Değişkenlerimizi kaydetmek: pickle\n",
    "====\n",
    "Bir oturumda hazırladığınız değişkenleri, oturumu kapattığınızda kaybetmemek isterseniz bunları ikili (binary) bir veri yapısı haline getirip diske kaydetmeniz gerekir. Bu işi standart kütüphanedeki [_pickle_ modülü](https://docs.python.org/3/library/pickle.html) ile yapabilirsiniz. Neredeyse bütün Python nesnelerini (kendi tanımladığımız nesne sınıfları dahil) dosyaya kaydetmeniz ve sonra tekrar okumanız mümkündür. Bu işleme _serialization_ adı verilir.\n",
    "\n",
    "Birkaç değişken tanımlayalım."
   ]
  },
  {
   "cell_type": "code",
   "execution_count": 34,
   "id": "3aa8edf5",
   "metadata": {},
   "outputs": [],
   "source": [
    "x = 3.14159\n",
    "L = [1,3,2,5,4]\n",
    "D = {\"abc\": 123, \"def\": 456}\n",
    "def fon(x):\n",
    "    return x*x"
   ]
  },
  {
   "cell_type": "markdown",
   "id": "9d8172cd",
   "metadata": {},
   "source": [
    "Verileri kaydetmek istediğimiz dosyayı ikili yazma modunda açalım ve _pickle_ modülündeki `dump()` fonksiyonuyla değişkenleri dosyaya ekleyelim."
   ]
  },
  {
   "cell_type": "code",
   "execution_count": 35,
   "id": "e26577b4",
   "metadata": {},
   "outputs": [],
   "source": [
    "import pickle\n",
    "with open(\"data.p\", \"wb\") as f:\n",
    "    pickle.dump(x,f)\n",
    "    pickle.dump(L,f)\n",
    "    pickle.dump(D,f)\n",
    "    pickle.dump(fon,f)"
   ]
  },
  {
   "cell_type": "markdown",
   "id": "6021cde2",
   "metadata": {},
   "source": [
    "Değişkenleri dosyadan okumak için `load()` fonksiyonunu kullanırız. Nesneler dosyaya kondukları sırayla geri alınırlar. Değişkenlerin orijinal adını kullanmamız gerekmez."
   ]
  },
  {
   "cell_type": "code",
   "execution_count": 36,
   "id": "1eb7bc99",
   "metadata": {},
   "outputs": [
    {
     "name": "stdout",
     "output_type": "stream",
     "text": [
      "3.14159\n",
      "[1, 3, 2, 5, 4]\n",
      "{'abc': 123, 'def': 456}\n",
      "9.869587728099999\n"
     ]
    }
   ],
   "source": [
    "with open(\"data.p\", \"rb\") as f:\n",
    "    y = pickle.load(f)\n",
    "    print(y)\n",
    "    J = pickle.load(f)\n",
    "    print(J)\n",
    "    F = pickle.load(f)\n",
    "    print(F)\n",
    "    G = pickle.load(f)\n",
    "    print(G(y))"
   ]
  },
  {
   "cell_type": "markdown",
   "id": "4a8fb55a",
   "metadata": {},
   "source": [
    "Bazı nesneler _pickle_ ile kaydedilemezler; ağ bağlantıları, veri tabanı bağlantıları, açık dosya nesneleri gibi.\n",
    "\n",
    "Dikkat: _pickle_ işlemleri herhangi bir emniyet tedbiri içermez. Pickle dosyasının içindeki nesne `load()` ile doğrudan doğruya çalıştırılır. Bu nesnenin içinde kötü amaçlı bir kod parçası varsa sisteminize zarar gelebilir. Bu yüzden bilmediğiniz bir yerden gelen pickle dosyalarını açmayın. "
   ]
  },
  {
   "cell_type": "markdown",
   "id": "71bce1b0",
   "metadata": {},
   "source": [
    "Her programlama dilinde olduğu gibi Python’da da tekrar tekrar kullanılabilen fonksiyon ve sınıfların bir kütüphane şeklinde ayrı dosyalarda saklanması ve yeni yazılan programlara entegre edilmesi için bir mekanizma vardır. Standart kütüphaneler, SciPy ve benzeri paketler, veya kendi kişisel fonksiyon kütüphaneniz bu modül sistemiyle inşa edilir.\n",
    "\n",
    "\n",
    "\n",
    "Modüller\n",
    "====\n",
    "\n",
    "Python’da bir modül yaratmak için özel bir işleme gerek yoktur. Python kodu içeren, `.py` uzantılı herhangi bir dosya bir modül olabilir. Sözgelişi, aşağıdaki kodu `basitmodul.py` isimli bir dosyaya yazıp kaydettiğinizde, bir modül yaratmış olursunuz.\n",
    "\n",
    "(Burada dosyayı yaratmak için IPython'un [hücre sihirlerinden birini](http://www.veridefteri.com/2017/11/28/ipython-sihirli-ifadeler/) kullanıyoruz. İsterseniz `%%writefile ...` satırından sonraki kısmı koyalayıp bir metin editörüne yapıştırarak `basitmodul.py` adıyla kaydedebilirsiniz.)"
   ]
  },
  {
   "cell_type": "code",
   "execution_count": 1,
   "id": "d8de1e2a",
   "metadata": {},
   "outputs": [
    {
     "name": "stdout",
     "output_type": "stream",
     "text": [
      "Writing basitmodul.py\n"
     ]
    }
   ],
   "source": [
    "%%writefile basitmodul.py\n",
    "print(\"basitmodul çalıştırıldı.\")\n",
    "x = 5\n",
    "def f(x):\n",
    "    return x**2\n",
    "def g():\n",
    "    print(\"Merhaba\")"
   ]
  },
  {
   "cell_type": "markdown",
   "id": "bed059c1",
   "metadata": {},
   "source": [
    "Komut satırında veya başka bir program içinde `import basitmodul` komutunu vererek (sonunda .py olmayacak) bu modülün içindeki bütün komutların işletilmesini sağlarsınız."
   ]
  },
  {
   "cell_type": "code",
   "execution_count": 2,
   "id": "7ea597ec",
   "metadata": {},
   "outputs": [
    {
     "name": "stdout",
     "output_type": "stream",
     "text": [
      "basitmodul çalıştırıldı.\n"
     ]
    }
   ],
   "source": [
    "import basitmodul"
   ]
  },
  {
   "cell_type": "markdown",
   "id": "2c7cb75a",
   "metadata": {},
   "source": [
    "Elbette `basitmodul.py` dosyasını nereye kaydettiğiniz önemli. Bu örnekte, dosyanın mevcut çalışma dizininde bulunduğunu varsaydım. Bir `import` komutunda yorumlayıcı önce çalışma dizinine, sonra `PYTHONPATH` kabuk değişkeninde yazan dizinlere, sonra da kurulum sırasında belirlenmiş dizinlere bakar. İkincisini Linux bash kabuğunda `echo $PYTHONPATH` komutu ile görebilirsiniz.\n",
    "\n",
    "Diyelim yazdığınız modülleri `modullerim` isimli bir dizin altında tutmak istiyorsunuz. Python yorumlayıcısı içindeki `sys.path` değişkeni bakılacak dizinlerin listesini tutar (önce import sys yazmayı unutmayın). Bu listeye `sys.path.append(\"<ev dizininiz>/modullerim\")` komutuyla bir ekleme yaparak, ev dizininizin altındaki `modullerim` dizinine bakmasını sağlayabilirsiniz.\n",
    "\n",
    "Modülü `import` etmekle yeni bir _isim alanı_ yaratmış oldunuz. Bir isim alanı bir nesnedir; dolayısıyla modülde tanımlanan değişken ve fonksiyonlara erişmek için nokta notasyonu kullanılır."
   ]
  },
  {
   "cell_type": "code",
   "execution_count": 3,
   "id": "4713a7be",
   "metadata": {},
   "outputs": [
    {
     "data": {
      "text/plain": [
       "(5, 25)"
      ]
     },
     "execution_count": 3,
     "metadata": {},
     "output_type": "execute_result"
    }
   ],
   "source": [
    "basitmodul.x, basitmodul.f(5)"
   ]
  },
  {
   "cell_type": "code",
   "execution_count": 4,
   "id": "640d7171",
   "metadata": {},
   "outputs": [
    {
     "name": "stdout",
     "output_type": "stream",
     "text": [
      "Merhaba\n"
     ]
    }
   ],
   "source": [
    "basitmodul.g()"
   ]
  },
  {
   "cell_type": "markdown",
   "id": "3af5c78a",
   "metadata": {},
   "source": [
    "Modülden sadece belli isimleri almak istiyorsak `from ... import` komutunu kullanabiliriz. O zaman bu değişkenler ana isim alanına aktarılmış olurlar ve onlara nokta işlemi olmadan doğrudan erişebiliriz."
   ]
  },
  {
   "cell_type": "code",
   "execution_count": 5,
   "id": "674aab60",
   "metadata": {},
   "outputs": [
    {
     "data": {
      "text/plain": [
       "(5, 25)"
      ]
     },
     "execution_count": 5,
     "metadata": {},
     "output_type": "execute_result"
    }
   ],
   "source": [
    "from basitmodul import x,f\n",
    "basitmodul.x, basitmodul.f(5)"
   ]
  },
  {
   "cell_type": "markdown",
   "id": "c2bfea5a",
   "metadata": {},
   "source": [
    "Yukarıdaki işlemde `g` fonksiyonunu ana isim alanına aktarmadığımız için doğrudan kullanmaya kalktığımızda hata mesajı alırız."
   ]
  },
  {
   "cell_type": "code",
   "execution_count": 6,
   "id": "1311c972",
   "metadata": {},
   "outputs": [
    {
     "ename": "NameError",
     "evalue": "name 'g' is not defined",
     "output_type": "error",
     "traceback": [
      "\u001b[0;31m---------------------------------------------------------------------------\u001b[0m",
      "\u001b[0;31mNameError\u001b[0m                                 Traceback (most recent call last)",
      "\u001b[0;32m<ipython-input-6-5fd69ddb5074>\u001b[0m in \u001b[0;36m<module>\u001b[0;34m()\u001b[0m\n\u001b[0;32m----> 1\u001b[0;31m \u001b[0mg\u001b[0m\u001b[0;34m(\u001b[0m\u001b[0;34m)\u001b[0m\u001b[0;34m\u001b[0m\u001b[0m\n\u001b[0m",
      "\u001b[0;31mNameError\u001b[0m: name 'g' is not defined"
     ]
    }
   ],
   "source": [
    "g()"
   ]
  },
  {
   "cell_type": "markdown",
   "id": "fda2ef2c",
   "metadata": {},
   "source": [
    "Modüldeki bütün isimleri ana isim alanına aktarmak için `from basitmodul import *` komutu verilebilir. Ancak, böyle yaptığınızda modüldeki isimler daha önce tanımlanmış isimlerin yerine geçebilir. Söz gelişi, yeni bir `g()` fonksiyonu tanımlamış olalım."
   ]
  },
  {
   "cell_type": "code",
   "execution_count": 7,
   "id": "4aeb5eda",
   "metadata": {},
   "outputs": [
    {
     "name": "stdout",
     "output_type": "stream",
     "text": [
      "Hasta la vista\n"
     ]
    }
   ],
   "source": [
    "def g(): print(\"Hasta la vista\")\n",
    "g()"
   ]
  },
  {
   "cell_type": "markdown",
   "id": "aab1e584",
   "metadata": {},
   "source": [
    "Bu tanımdan sonra, `basitmodul`'deki bütün isimleri aşağıdaki komutla alırsak, bu fonksiyon yerine `basitmodul`'deki `g()` geçecektir."
   ]
  },
  {
   "cell_type": "code",
   "execution_count": 8,
   "id": "f091460b",
   "metadata": {},
   "outputs": [
    {
     "name": "stdout",
     "output_type": "stream",
     "text": [
      "Merhaba\n"
     ]
    }
   ],
   "source": [
    "from basitmodul import *\n",
    "g()"
   ]
  },
  {
   "cell_type": "markdown",
   "id": "008af805",
   "metadata": {},
   "source": [
    "Bu tür çatışmalara meydan vermemek için, modülleri `import *` ile yüklemek tavsiye edilmez. Modüldeki değişkenlere modül ismi aracılığıyla (meselâ `basitmodul.g()` ile) ulaşmak daha emniyetlidir.\n",
    "\n",
    "Ancak her seferinde modül ismini  uzun uzun yazmak epeyce zahmetli olabilir ve kodun okunaklılığını azaltır. Modüle daha kısa bir isim atamak için `import ... as` komutunu kullanabiliriz."
   ]
  },
  {
   "cell_type": "code",
   "execution_count": 9,
   "id": "a0486e38",
   "metadata": {},
   "outputs": [],
   "source": [
    "import basitmodul as bm"
   ]
  },
  {
   "cell_type": "code",
   "execution_count": 10,
   "id": "12dec6d2",
   "metadata": {},
   "outputs": [
    {
     "data": {
      "text/plain": [
       "(5, 9)"
      ]
     },
     "execution_count": 10,
     "metadata": {},
     "output_type": "execute_result"
    }
   ],
   "source": [
    "bm.x, bm.f(3)"
   ]
  },
  {
   "cell_type": "markdown",
   "id": "239fb0ee",
   "metadata": {},
   "source": [
    "`from ... import ... as` komutuyla modülden belli bir nesne (değişken, fonksiyon, vs.) alabilir ve onu yeni bir isimle kullanabilirsiniz."
   ]
  },
  {
   "cell_type": "code",
   "execution_count": 11,
   "id": "e58edcd8",
   "metadata": {},
   "outputs": [
    {
     "name": "stdout",
     "output_type": "stream",
     "text": [
      "Merhaba\n"
     ]
    }
   ],
   "source": [
    "from basitmodul import g as selamlama\n",
    "selamlama()"
   ]
  },
  {
   "cell_type": "markdown",
   "id": "70b6d4cf",
   "metadata": {},
   "source": [
    "## dir() fonksiyonu\n",
    "\n",
    "Bir modülde tanımlanmış isimlerin (değişken ve fonksiyon) tam listesini görmek isterseniz `dir()` fonksiyonunu kullanabilirsiniz."
   ]
  },
  {
   "cell_type": "code",
   "execution_count": 12,
   "id": "9ab6c47f",
   "metadata": {},
   "outputs": [
    {
     "data": {
      "text/plain": [
       "['__builtins__',\n",
       " '__cached__',\n",
       " '__doc__',\n",
       " '__file__',\n",
       " '__loader__',\n",
       " '__name__',\n",
       " '__package__',\n",
       " '__spec__',\n",
       " 'f',\n",
       " 'g',\n",
       " 'x']"
      ]
     },
     "execution_count": 12,
     "metadata": {},
     "output_type": "execute_result"
    }
   ],
   "source": [
    "dir(bm)"
   ]
  },
  {
   "cell_type": "markdown",
   "id": "f7674457",
   "metadata": {},
   "source": [
    "`dir()` fonksiyonu sadece modüllerde değil, bir sınıf (class) içindeki isimleri almak için de kullanılabilir. Örneğin, bir liste nesnesindeki metodları listelemek için `dir(list)` komutu verebiliriz."
   ]
  },
  {
   "cell_type": "code",
   "execution_count": 13,
   "id": "4b65d333",
   "metadata": {},
   "outputs": [
    {
     "data": {
      "text/plain": [
       "['__add__',\n",
       " '__class__',\n",
       " '__contains__',\n",
       " '__delattr__',\n",
       " '__delitem__',\n",
       " '__dir__',\n",
       " '__doc__',\n",
       " '__eq__',\n",
       " '__format__',\n",
       " '__ge__',\n",
       " '__getattribute__',\n",
       " '__getitem__',\n",
       " '__gt__',\n",
       " '__hash__',\n",
       " '__iadd__',\n",
       " '__imul__',\n",
       " '__init__',\n",
       " '__init_subclass__',\n",
       " '__iter__',\n",
       " '__le__',\n",
       " '__len__',\n",
       " '__lt__',\n",
       " '__mul__',\n",
       " '__ne__',\n",
       " '__new__',\n",
       " '__reduce__',\n",
       " '__reduce_ex__',\n",
       " '__repr__',\n",
       " '__reversed__',\n",
       " '__rmul__',\n",
       " '__setattr__',\n",
       " '__setitem__',\n",
       " '__sizeof__',\n",
       " '__str__',\n",
       " '__subclasshook__',\n",
       " 'append',\n",
       " 'clear',\n",
       " 'copy',\n",
       " 'count',\n",
       " 'extend',\n",
       " 'index',\n",
       " 'insert',\n",
       " 'pop',\n",
       " 'remove',\n",
       " 'reverse',\n",
       " 'sort']"
      ]
     },
     "execution_count": 13,
     "metadata": {},
     "output_type": "execute_result"
    }
   ],
   "source": [
    "dir(list)"
   ]
  },
  {
   "cell_type": "markdown",
   "id": "2cdd2ce5",
   "metadata": {},
   "source": [
    "Modülleri tekrar yüklemek\n",
    "-----\n",
    "Bir `import` işlemi bir modül dosyasını baştan sona bir kere işletir, ama ikinci bir `import` komutu dosyayı baştan çalıştırmaz. Dolayısıyla, etkileşimli çalışırken (sözgelişi Spyder gibi bir IDE ile veya Jupyter defteri ile) modül dosyasında bir değişiklik yaptıysanız, tekrar `import` yapmak bu değişikliklerin görülmesini sağlamaz.\n",
    "\n",
    "Söz gelişi, `basitmodul.py` dosyasında `g()` fonksiyonunun tanımını değiştirelim:"
   ]
  },
  {
   "cell_type": "code",
   "execution_count": 14,
   "id": "1e607c61",
   "metadata": {},
   "outputs": [
    {
     "name": "stdout",
     "output_type": "stream",
     "text": [
      "Overwriting basitmodul.py\n"
     ]
    }
   ],
   "source": [
    "%%writefile basitmodul.py\n",
    "print(\"basitmodul çalıştırıldı.\")\n",
    "x = 5\n",
    "def f(x):\n",
    "    return x**2\n",
    "def g():\n",
    "    print(\"Namaste\")"
   ]
  },
  {
   "cell_type": "markdown",
   "id": "d6eed54c",
   "metadata": {},
   "source": [
    "Bu yeni modül dosyasını `import` ile işletmeye çalışalım:"
   ]
  },
  {
   "cell_type": "code",
   "execution_count": 15,
   "id": "8bd0914d",
   "metadata": {},
   "outputs": [
    {
     "name": "stdout",
     "output_type": "stream",
     "text": [
      "Merhaba\n"
     ]
    }
   ],
   "source": [
    "import basitmodul\n",
    "basitmodul.g()"
   ]
  },
  {
   "cell_type": "markdown",
   "id": "2d09aec9",
   "metadata": {},
   "source": [
    "Görüldüğü gibi `g()`'nin eski tanımını kullanıyor. Zaten başta `\"basitmodul çalıştırıldı\"` mesajının çıkmaması da modülün işletilmediğine işaret ediyor.\n",
    "\n",
    "Modülünüzün güncellenmiş olarak yeniden işletilmesini istiyorsanız ya Python yorumlayıcınızı kapatıp açmalısınız (Jupyter'de kernel restart), ya da `importlib.reload()` fonksiyonunu kullanmalısınız. Bu fonksiyon bir _modül nesnesi_ döndürür."
   ]
  },
  {
   "cell_type": "code",
   "execution_count": 16,
   "id": "d5b21177",
   "metadata": {},
   "outputs": [
    {
     "name": "stdout",
     "output_type": "stream",
     "text": [
      "basitmodul çalıştırıldı.\n"
     ]
    }
   ],
   "source": [
    "from importlib import reload\n",
    "bm = reload(basitmodul)"
   ]
  },
  {
   "cell_type": "code",
   "execution_count": 17,
   "id": "a08725c7",
   "metadata": {},
   "outputs": [
    {
     "name": "stdout",
     "output_type": "stream",
     "text": [
      "Namaste\n"
     ]
    }
   ],
   "source": [
    "bm.g()"
   ]
  },
  {
   "cell_type": "markdown",
   "id": "617d6ef0",
   "metadata": {},
   "source": [
    "Tabii bir modül aslında dinamik bir nesne olduğu için, böyle bir değişiklik yapmak için her zaman dosyayı değiştirip tekrar yüklemek gerekmez; çalışma sırasında bir komutla da değişiklik yapılabilir. "
   ]
  },
  {
   "cell_type": "code",
   "execution_count": 18,
   "id": "70f5ebd6",
   "metadata": {},
   "outputs": [],
   "source": [
    "bm.g = lambda: print(\"Guten Tag\")"
   ]
  },
  {
   "cell_type": "code",
   "execution_count": 19,
   "id": "a0bb9e9f",
   "metadata": {},
   "outputs": [
    {
     "name": "stdout",
     "output_type": "stream",
     "text": [
      "Guten Tag\n"
     ]
    }
   ],
   "source": [
    "bm.g()"
   ]
  },
  {
   "cell_type": "markdown",
   "id": "b69d0378",
   "metadata": {},
   "source": [
    "Paketler\n",
    "=====\n",
    "Bir _modül_ belli bir işe dair fonksiyonların ve sınıfların tanımlandığı bir dosyadır. İşlev olarak ilişkili, ama birbirinden ayrı birkaç modülünüz varsa bunları ortak bir dizinde tutmak mantıklı olur. Bunlar bir Python _paketi_ oluşturur.\n",
    "\n",
    "Python'da bir _paket_ bir dizindir; bu dizinde modüller ve `__init__.py` isimli bir dosya mevcut olmalıdır. Paket yüklenirken `__init__.py` dosyasının içindeki komutlar çalıştırılır. Paket yüklemesinde ilk olarak yapılmasını istediğimiz işlemleri bu dosyaya koyabiliriz. Paket dizininde mutlaka `__init__.py` isimli bir dosya bulunmalıdır; bu boş bir dosya olabilir.\n",
    "\n",
    "Örnek olarak, çalıştığımız dizinin altında *modullerim* isimli bir dizin, ve içinde *modul_A.py*, *modul_B.py* ve *\\_\\_init\\_\\_.py* isimli üç tane dosya yaratalım.\n",
    "\n",
    "    modullerim/\n",
    "        __init__.py\n",
    "        modul_A.py\n",
    "        modul_B.py"
   ]
  },
  {
   "cell_type": "code",
   "execution_count": 20,
   "id": "db920be5",
   "metadata": {},
   "outputs": [
    {
     "name": "stdout",
     "output_type": "stream",
     "text": [
      "Writing modullerim/__init__.py\n"
     ]
    }
   ],
   "source": [
    "%%writefile modullerim/__init__.py\n",
    "print(\"modullerim yüklendi\")"
   ]
  },
  {
   "cell_type": "code",
   "execution_count": 21,
   "id": "e465eacc",
   "metadata": {},
   "outputs": [
    {
     "name": "stdout",
     "output_type": "stream",
     "text": [
      "Writing modullerim/modul_A.py\n"
     ]
    }
   ],
   "source": [
    "%%writefile modullerim/modul_A.py    \n",
    "print(\"Modül A yüklendi\")\n",
    "pi = 3.14159\n",
    "def çevre(yarıçap):\n",
    "    return 2*pi*yarıçap"
   ]
  },
  {
   "cell_type": "code",
   "execution_count": 22,
   "id": "37e3012b",
   "metadata": {},
   "outputs": [
    {
     "name": "stdout",
     "output_type": "stream",
     "text": [
      "Writing modullerim/modul_B.py\n"
     ]
    }
   ],
   "source": [
    "%%writefile modullerim/modul_B.py\n",
    "print(\"Modül B yüklendi\")\n",
    "def fib(n):\n",
    "    \"\"\"Fibonacci dizisinin n terimi.\"\"\"\n",
    "    a,b=1,1\n",
    "    L = [1,1]\n",
    "    for i in range(n-2):\n",
    "        a,b = b,a+b\n",
    "        L += [b]\n",
    "    return L"
   ]
  },
  {
   "cell_type": "code",
   "execution_count": 23,
   "id": "a4e6f403",
   "metadata": {},
   "outputs": [
    {
     "name": "stdout",
     "output_type": "stream",
     "text": [
      "modullerim yüklendi\n",
      "Modül A yüklendi\n"
     ]
    }
   ],
   "source": [
    "import modullerim.modul_A"
   ]
  },
  {
   "cell_type": "code",
   "execution_count": 24,
   "id": "3e48bc3b",
   "metadata": {},
   "outputs": [
    {
     "data": {
      "text/plain": [
       "3.14159"
      ]
     },
     "execution_count": 24,
     "metadata": {},
     "output_type": "execute_result"
    }
   ],
   "source": [
    "modullerim.modul_A.pi"
   ]
  },
  {
   "cell_type": "markdown",
   "id": "ca998b19",
   "metadata": {},
   "source": [
    "`from ... import` komutu ile doğrudan `modul_A` isim alanını yaratabiliriz."
   ]
  },
  {
   "cell_type": "code",
   "execution_count": 25,
   "id": "ac604765",
   "metadata": {},
   "outputs": [
    {
     "data": {
      "text/plain": [
       "(3.14159, 12.56636)"
      ]
     },
     "execution_count": 25,
     "metadata": {},
     "output_type": "execute_result"
    }
   ],
   "source": [
    "from modullerim import modul_A\n",
    "modul_A.pi, modul_A.çevre(2)"
   ]
  },
  {
   "cell_type": "markdown",
   "id": "1a4421b3",
   "metadata": {},
   "source": [
    "Bu ikinci import ile `\"Modul A yüklendi\"` mesajının çıkmadığına dikkat edin. Bir oturumda modül içeriği sadece ilk import komutunda çalıştırılır. Sonraki import işlemlerinde modül tekrar çalıştırılmaz; yine de yukarıda görüldüğü gibi bu modülle yeni bir isim alanı oluşturmak mümkündür."
   ]
  },
  {
   "cell_type": "markdown",
   "id": "8722514d",
   "metadata": {},
   "source": [
    "Yazma zahmetini kısaltmak için `as` kelimesiyle modüle daha kısa bir isim alanı adı verebiliriz."
   ]
  },
  {
   "cell_type": "code",
   "execution_count": 26,
   "id": "a8ac0cd1",
   "metadata": {},
   "outputs": [
    {
     "data": {
      "text/plain": [
       "(3.14159, 31.4159)"
      ]
     },
     "execution_count": 26,
     "metadata": {},
     "output_type": "execute_result"
    }
   ],
   "source": [
    "from modullerim import modul_A as A\n",
    "A.pi, A.çevre(5)"
   ]
  },
  {
   "cell_type": "markdown",
   "id": "9ab59990",
   "metadata": {},
   "source": [
    "*modul_B* içindeki bütün değişken isimlerini mevcut isim alanına ekleyebiliriz. Ama yukarıda açıkladığımız gibi bu pek tavsiye edilmez."
   ]
  },
  {
   "cell_type": "code",
   "execution_count": 27,
   "id": "30b76a32",
   "metadata": {},
   "outputs": [
    {
     "name": "stdout",
     "output_type": "stream",
     "text": [
      "Modül B yüklendi\n"
     ]
    }
   ],
   "source": [
    "from modullerim.modul_B import *"
   ]
  },
  {
   "cell_type": "code",
   "execution_count": 28,
   "id": "e3490943",
   "metadata": {},
   "outputs": [
    {
     "data": {
      "text/plain": [
       "[1, 1, 2, 3, 5, 8, 13, 21, 34, 55]"
      ]
     },
     "execution_count": 28,
     "metadata": {},
     "output_type": "execute_result"
    }
   ],
   "source": [
    "fib(10)"
   ]
  },
  {
   "cell_type": "markdown",
   "id": "3439e335",
   "metadata": {},
   "source": [
    "Yukarıdaki örneklerde `çevre()` fonksiyonunu bir modülden, `fib()` fonksiyonunu başka bir modülden aldık; bunun için de modülleri ayrıca import etme gibi bir adım atmamız icap etti. Bunun yerine bu isimleri doğrudan *\\_\\_init\\_\\_.py* içinde import edersek, modülleri ayrıca yüklememize gerek kalmaz. Bunun için *\\_\\_init\\_\\_.py* dosyasını aşağıdaki gibi değiştirelim:"
   ]
  },
  {
   "cell_type": "code",
   "execution_count": 29,
   "id": "d620b3f2",
   "metadata": {},
   "outputs": [
    {
     "name": "stdout",
     "output_type": "stream",
     "text": [
      "Overwriting modullerim/__init__.py\n"
     ]
    }
   ],
   "source": [
    "%%writefile modullerim/__init__.py\n",
    "from .modul_A import çevre\n",
    "from .modul_B import fib"
   ]
  },
  {
   "cell_type": "markdown",
   "id": "95d82ea3",
   "metadata": {},
   "source": [
    "Modül adının başındaki noktalar, dosyanın mevcut dizinde bulunduğunu gösterir. Değişikliğin görülebilmesi için yorumlayıcıyı tekrar başlatmak (Jupyter'de \"Restart Kernel\"), veya yukarıda gördüğümüz gibi `reload()` kullanmak gerekir."
   ]
  },
  {
   "cell_type": "code",
   "execution_count": 30,
   "id": "1162c33d",
   "metadata": {},
   "outputs": [],
   "source": [
    "from importlib import reload\n",
    "m = reload(modullerim)"
   ]
  },
  {
   "cell_type": "markdown",
   "id": "b443eaa4",
   "metadata": {},
   "source": [
    "Şimdi `çevre()` ve `fib()` fonksiyonlarını, tanımlandıkları modülleri import etmeye gerek kalmadan doğrudan doğruya kullanabiliriz."
   ]
  },
  {
   "cell_type": "code",
   "execution_count": 31,
   "id": "28cdcc25",
   "metadata": {},
   "outputs": [
    {
     "name": "stdout",
     "output_type": "stream",
     "text": [
      "31.4159\n",
      "[1, 1, 2, 3, 5, 8, 13, 21, 34, 55]\n"
     ]
    }
   ],
   "source": [
    "print(m.çevre(5))\n",
    "print(m.fib(10))"
   ]
  },
  {
   "cell_type": "markdown",
   "id": "e9289e93",
   "metadata": {},
   "source": [
    "## Paketlerde alt dizinler\n",
    "Bir paketin altında başka dizinler de bulunabilir. Bu durumda her bir dizinin altında kendi *\\_\\_init\\_\\_.py* dosyası bulunmalıdır.\n",
    "\n",
    "İç içe dizinler şeklinde düzenlemiş bir pakete örnek olarak _SciPy_ paketini ele alalım. Bu paketin altındaki dizinlerin bir kısmı şöyledir:\n",
    "\n",
    "    scipy/\n",
    "        integrate/\n",
    "            __init__.py\n",
    "            ...\n",
    "        linalg/\n",
    "            __init__.py\n",
    "            ...\n",
    "        stats/\n",
    "            __init__.py\n",
    "            distributions.py\n",
    "            ...\n",
    "\n",
    "Alt paketlerdeki fonksiyonları import ederken nokta (.) işlemini kullanabiliriz."
   ]
  },
  {
   "cell_type": "code",
   "execution_count": 32,
   "id": "931d9b9e",
   "metadata": {},
   "outputs": [
    {
     "data": {
      "text/plain": [
       "(3.7500000000000004, 4.1633363423443377e-14)"
      ]
     },
     "execution_count": 32,
     "metadata": {},
     "output_type": "execute_result"
    }
   ],
   "source": [
    "from scipy.integrate import quad\n",
    "quad(lambda x: x**3, 1, 2)  # x^3 fonksiyonunun 1'den 2'ye kadar integrali"
   ]
  },
  {
   "cell_type": "code",
   "execution_count": 33,
   "id": "f65a5790",
   "metadata": {},
   "outputs": [
    {
     "data": {
      "text/plain": [
       "(3.7500000000000004, 4.1633363423443377e-14)"
      ]
     },
     "execution_count": 33,
     "metadata": {},
     "output_type": "execute_result"
    }
   ],
   "source": [
    "import scipy\n",
    "scipy.integrate.quad(lambda x: x**3, 1, 2)"
   ]
  },
  {
   "cell_type": "code",
   "execution_count": 34,
   "id": "97b88089",
   "metadata": {},
   "outputs": [
    {
     "data": {
      "text/plain": [
       "(3.7500000000000004, 4.1633363423443377e-14)"
      ]
     },
     "execution_count": 34,
     "metadata": {},
     "output_type": "execute_result"
    }
   ],
   "source": [
    "import scipy.integrate as intg\n",
    "intg.quad(lambda x: x**3, 1, 2 )"
   ]
  },
  {
   "cell_type": "code",
   "execution_count": 35,
   "id": "48f712e3",
   "metadata": {},
   "outputs": [
    {
     "data": {
      "text/plain": [
       "array([0.05399097, 0.24197072, 0.39894228, 0.24197072, 0.05399097])"
      ]
     },
     "execution_count": 35,
     "metadata": {},
     "output_type": "execute_result"
    }
   ],
   "source": [
    "from scipy.stats.distributions import norm\n",
    "norm.pdf((-2,-1,0, 1, 2))  # Normal dağılımın -2, -1, 0, 1, 2 için değerleri"
   ]
  },
  {
   "cell_type": "markdown",
   "id": "903282cf",
   "metadata": {},
   "source": [
    "Hata yakalama (exception handling) beklenmedik durumlarda programınızın bir hata mesajı vermesi ve çalışmayı durdurması yerine, hataya kendi istediğimiz şekilde cevap vermesini sağlamanın bir yoludur. Hata yakalama Python programcılığının önemli bir parçasıdır, kaynak kodunu çok karışık hale getirmeden programınızın güvenilir bir şekilde çalışmasını sağlar.\n"
   ]
  },
  {
   "cell_type": "markdown",
   "id": "f5fd3abe",
   "metadata": {},
   "source": [
    "## Hatalı girdiyi yakalamak\n",
    "Bir örnekle başlayalım: Etkileşimli çalışarak kullanıcıdan sayılar alan ve aldığı sayıların karesini ekrana basan bir program yazalım. Boş satır okuduğunda program sonlansın."
   ]
  },
  {
   "cell_type": "code",
   "execution_count": null,
   "id": "3a960d35",
   "metadata": {},
   "outputs": [],
   "source": [
    "while True:\n",
    "    x = input(\"Bir sayı girin: \")\n",
    "    if not x:\n",
    "        break\n",
    "    print(float(x)**2)"
   ]
  },
  {
   "cell_type": "markdown",
   "id": "69748f9d",
   "metadata": {},
   "source": [
    "Örnek olarak, programımız şöyle çalışabilir.\n",
    "\n",
    "    Bir sayı girin: 1\n",
    "    1.0\n",
    "    Bir sayı girin: -45.5\n",
    "    2070.25\n",
    "    Bir sayı girin: abc\n",
    "        ---------------------------------------------------------------------------\n",
    "    ValueError                                Traceback (most recent call last)\n",
    "    <ipython-input-1-297c961843d7> in <module>()\n",
    "          3     if not x:\n",
    "          4         break\n",
    "    ----> 5     print(float(x)**2)\n",
    "\n",
    "    ValueError: could not convert string to float: 'abc'\n",
    "\n",
    "Son girdimiz `\"abc\"` sayıya dönüştürülemediği için `float()` fonksiyonu bir `ValueError` hatası (Python terimiyle \"exception\") verdi. Böyle hatalar programımızın çalışmasını durdurur. Oysa, bir hata yakalama (exception handling) yapısı kullanırsak bu tür sorunları programımızı durdurmadan halletmemiz mümkün olur. Söz gelişi:"
   ]
  },
  {
   "cell_type": "code",
   "execution_count": null,
   "id": "cf9d1481",
   "metadata": {},
   "outputs": [],
   "source": [
    "while True:\n",
    "    x = input(\"Bir sayı girin: \")\n",
    "    if not x:\n",
    "        break\n",
    "    try:\n",
    "        y = float(x)\n",
    "    except ValueError:\n",
    "        print(\"Geçersiz sayı\")\n",
    "        continue\n",
    "    print(y**2)"
   ]
  },
  {
   "cell_type": "markdown",
   "id": "57fea359",
   "metadata": {},
   "source": [
    "Bu program hatalı girdi verdiğimizde ekrana bir uyarı yazar ve tekrar girdi alır:\n",
    "\n",
    "    Bir sayı girin: 3\n",
    "    9.0\n",
    "    Bir sayı girin: -2\n",
    "    4.0\n",
    "    Bir sayı girin: abc\n",
    "    Geçersiz sayı\n",
    "    Bir sayı girin: 1.5\n",
    "    2.25\n",
    "    Bir sayı girin: \n",
    "\n",
    "Bu programda, hata mesajı çıkarabilecek bölümü `try:` blokunun içine aldık. Eğer `float(x)` işlemi `valueError` hatası verirse `except ValueError` bloku çalıştırılır, ve kullanıcıya bir uyarı verilerek tekrar döngünün başına dönülür. Bu sayede program durmadan hatayı yakalayıp sorunu gidermiş oluruz."
   ]
  },
  {
   "cell_type": "markdown",
   "id": "fd4950d2",
   "metadata": {},
   "source": [
    "## Hata tipleri\n",
    "Yukarıdaki örnekte `ValueError` hatasını yakaladık, ama başka durumlardaki hata isimlerini nereden bileceğiz? \n",
    "\n",
    "Öncelikle, yazdığınız her kod satırında neler olabileceğini düşünün. Hata durumu (exception) yaratan bir çok durum olabilir: Çağırdığınız fonksiyonda bir sayıyı sıfıra bölüyor olmanız mümkün mü? Bir matematiksel fonksiyona verdiğiniz değişken sayısal olmazsa ne olur? Üçüncü elemanını almaya çalıştığınız listede sadece iki eleman varsa? Açmak istediğiniz dosya diskte mevcut değilse?\n",
    "\n",
    "Bu hata durumlarının ne olduğunu anlamak için komutları çalıştırıp ne tip hata aldığınıza bakabilirsiniz ve sonra buna göre _try/except_ blokları yazabilirsiniz. Yardım belgelerinde de fonksiyonun hangi durumlarda hangi hataları yayınlayacağına dair bilgi mevcuttur.\n",
    "\n",
    "**Çalışma.** Yukarıdaki hata durumlarını yaratan Python kodları yazın ve hangi hataların yayınlandığına bakın. Bu hataları bir _try/except_ yapısı içine koyup uygun bulduğunuz şekilde düzenleyin.\n",
    "\n",
    "**Çalışma.** `open()` fonksiyonunun yardım belgelerine bakarak hangi durumda hangi hataların yayınlandığını inceleyin.\n",
    "\n",
    "Python dilindeki ön tanımlı hataların tam listesini ve hangi durumlarda yayınlandıklarını [resmi Python dökümanlarından](https://docs.python.org/3/library/exceptions.html) okuyabilirsiniz."
   ]
  },
  {
   "cell_type": "markdown",
   "id": "d0cce533",
   "metadata": {},
   "source": [
    "## try & except & else & finally"
   ]
  },
  {
   "cell_type": "code",
   "execution_count": 70,
   "id": "38d5f2d1",
   "metadata": {},
   "outputs": [
    {
     "name": "stdout",
     "output_type": "stream",
     "text": [
      "Numaranızı giriniz: enes\n",
      "Lütfen gerçekten numara giriniz\n",
      "finally çağırıldı\n",
      "Numaranızı giriniz: deneme\n",
      "Lütfen gerçekten numara giriniz\n",
      "finally çağırıldı\n",
      "Numaranızı giriniz: 10\n",
      "Teşekkürler\n",
      "finally çağırıldı\n"
     ]
    }
   ],
   "source": [
    "while True:\n",
    "    try:\n",
    "        benimInt = int(input(\"Numaranızı giriniz: \"))\n",
    "    except:\n",
    "        print(\"Lütfen gerçekten numara giriniz\")\n",
    "        continue\n",
    "    else:\n",
    "        print(\"Teşekkürler\")\n",
    "        break\n",
    "    finally:\n",
    "        print(\"finally çağırıldı\")"
   ]
  },
  {
   "cell_type": "markdown",
   "id": "62ef06df",
   "metadata": {},
   "source": [
    "## Birden fazla hata durumu"
   ]
  },
  {
   "cell_type": "markdown",
   "id": "05e7b6fe",
   "metadata": {},
   "source": [
    "Yukarıdaki örneğimizde, `float()` fonksiyonuna yanlış parametre vermekle ortaya çıkan `ValueError` hatasını yakalamıştık. Alternatif olarak şu kodu da kullanabilirdik:"
   ]
  },
  {
   "cell_type": "code",
   "execution_count": null,
   "id": "df34daf4",
   "metadata": {},
   "outputs": [],
   "source": [
    "while True:\n",
    "    x = input(\"Bir sayı girin: \")\n",
    "    if not x:\n",
    "        break\n",
    "    try:\n",
    "        y = 1/float(x)\n",
    "    except:\n",
    "        print(\"Geçersiz sayı\")\n",
    "        continue\n",
    "    print(y)"
   ]
  },
  {
   "cell_type": "markdown",
   "id": "03e333a3",
   "metadata": {},
   "source": [
    "    Bir sayı girin: 0\n",
    "    Geçersiz sayı\n",
    "    Bir sayı girin: abc\n",
    "    Geçersiz sayı\n",
    "    Bir sayı girin: 2\n",
    "    0.5\n",
    "    Bir sayı girin: "
   ]
  },
  {
   "cell_type": "markdown",
   "id": "867b53bd",
   "metadata": {},
   "source": [
    "Bu değişiklikle `try` bloku içindeki _herhangi_ bir hata ile `except` bloku çalıştırılır. Ancak, bu yaklaşımda farklı hataların hepsi aynı `except` blokuna yönlendirilir. Söz gelişi, yukarıda girdi olarak 0 verdiğimizde de ekrana `\"Geçersiz sayı\"` yazılır. Oysa bu iki ayrı hata durumunun ayrı şekilde düzenlenmesini isteyebiliriz. O zaman iki farklı `except` bloku kullanırız:"
   ]
  },
  {
   "cell_type": "code",
   "execution_count": null,
   "id": "fe62289d",
   "metadata": {},
   "outputs": [],
   "source": [
    "while True:\n",
    "    x = input(\"Bir sayı girin: \")\n",
    "    if not x:\n",
    "        break\n",
    "    try:\n",
    "        y = 1/float(x)\n",
    "    except ValueError:\n",
    "        print(\"Geçersiz sayı\")\n",
    "        continue\n",
    "    except ZeroDivisionError:\n",
    "        print(\"Sıfıra bölme\")\n",
    "        continue\n",
    "    print(y)"
   ]
  },
  {
   "cell_type": "markdown",
   "id": "782fc251",
   "metadata": {},
   "source": [
    "Bu program farklı hatalar için farklı uyarılar gösterir:\n",
    "\n",
    "    Bir sayı girin: abc\n",
    "    Geçersiz sayı\n",
    "    Bir sayı girin: 0\n",
    "    Sıfıra bölme\n",
    "    Bir sayı girin: 4\n",
    "    0.25\n",
    "    Bir sayı girin: "
   ]
  },
  {
   "cell_type": "markdown",
   "id": "a59c4942",
   "metadata": {},
   "source": [
    "## Hata durumu hiyerarşisi"
   ]
  },
  {
   "cell_type": "markdown",
   "id": "94f0c3e8",
   "metadata": {},
   "source": [
    "Hata durumları bir nesne hiyerarşisi içinde tanımlanır. Bunların en geneli `BaseException` sınıfıdır; diğer daha özelleşmiş hata durumları bunlardan türetilir.\n",
    "\n",
    "Hata durumları hiyerarşisinin bir bölümü şöyledir (tam bir listeyi [Python belgelerinde](https://docs.python.org/3/library/exceptions.html#exception-hierarchy) bulabilirsiniz):\n",
    "\n",
    "    BaseException\n",
    "     +-- SystemExit\n",
    "     +-- KeyboardInterrupt\n",
    "     +-- Exception\n",
    "          +-- StopIteration\n",
    "          +-- StopAsyncIteration\n",
    "          +-- ArithmeticError\n",
    "          |    +-- FloatingPointError\n",
    "          |    +-- OverflowError\n",
    "          |    +-- ZeroDivisionError\n",
    "          +-- ImportError\n",
    "          |    +-- ModuleNotFoundError\n",
    "          +-- LookupError\n",
    "          |    +-- IndexError\n",
    "          |    +-- KeyError\n",
    "          +-- OSError\n",
    "          +-- ValueError"
   ]
  },
  {
   "cell_type": "markdown",
   "id": "54e05531",
   "metadata": {},
   "source": [
    "Bu hiyerarşi sebebiyle, alt seviye bir hatayı yayınlayan bir kod, onun üstündeki hataları da yayınlar. Söz gelişi, `1/0` işlemi `ZeroDivisionError`, `ArithmeticError`, `Exception` ve `BaseException` hatalarının hepsine uyar.\n",
    "\n",
    "Bir try/except yapısında bir hata durumu belirtmezsek en genel durum olan `BaseException` yayınlanır."
   ]
  },
  {
   "cell_type": "code",
   "execution_count": 1,
   "id": "28ba839e",
   "metadata": {},
   "outputs": [
    {
     "name": "stdout",
     "output_type": "stream",
     "text": [
      "Bir hata oldu.\n"
     ]
    }
   ],
   "source": [
    "try:\n",
    "    1/0\n",
    "except:\n",
    "    print(\"Bir hata oldu.\")"
   ]
  },
  {
   "cell_type": "markdown",
   "id": "35182eef",
   "metadata": {},
   "source": [
    "Ama böyle bir kullanım, okunaklı yazılım geliştirme açısından doğru değildir. Eğer `try` blokumuz genişse ve birden fazla farklı hata olması ihtimali varsa, hepsi birden bu mesajı verir, ve hangi hatanın gerçekleştiğini tespit etmemiz mümkün olmaz."
   ]
  },
  {
   "cell_type": "code",
   "execution_count": 2,
   "id": "2a754d17",
   "metadata": {},
   "outputs": [
    {
     "name": "stdout",
     "output_type": "stream",
     "text": [
      "Bir hata oldu.\n"
     ]
    }
   ],
   "source": [
    "try:\n",
    "    int(\"abc\")\n",
    "except:\n",
    "    print(\"Bir hata oldu.\")"
   ]
  },
  {
   "cell_type": "markdown",
   "id": "a4c154cf",
   "metadata": {},
   "source": [
    "Belirsizliği azaltmak için en iyi yol, hiyerarşide en alt noktadaki (en dar kapsamlı) hata durumunu yakalamak ve ona göre ayrı `except` blokları içinde sorunu gidermektir."
   ]
  },
  {
   "cell_type": "code",
   "execution_count": 3,
   "id": "1497885a",
   "metadata": {},
   "outputs": [
    {
     "name": "stdout",
     "output_type": "stream",
     "text": [
      "İşlem çok büyük.\n"
     ]
    }
   ],
   "source": [
    "try:\n",
    "    2.5**1000\n",
    "except OverflowError:\n",
    "    print(\"İşlem çok büyük.\")\n",
    "except ZeroDivisionError:\n",
    "    print(\"Sıfıra bölme.\")"
   ]
  },
  {
   "cell_type": "markdown",
   "id": "aea01195",
   "metadata": {},
   "source": [
    "Hatta, yaptığınız işlemin yeni bir hata durumu olmasını da sağlayabilirsiniz. Öntanımlı hata durumlarından yeni hatalar türetmeyi aşağıda göreceğiz."
   ]
  },
  {
   "cell_type": "markdown",
   "id": "effb8e29",
   "metadata": {},
   "source": [
    "## Fonksiyonlarımızda hata durumu yayınlamak"
   ]
  },
  {
   "cell_type": "markdown",
   "id": "eaf35054",
   "metadata": {},
   "source": [
    "Gördüğümüz gibi birçok Python fonksiyonu normal işleyişe uymayan durumlarda bir hata durumu yayınlıyor, ve programımızda bu hata durumunu yakalayarak işlem yapıyoruz. Kendi yazdığımız fonksiyonların içinde `raise` komutu kullanarak bir hata durumu yayınlanmasını sağlayabiliriz. Örnek olarak, negatif argüman aldığında `ValueError` yayınlayan bir faktöriyel fonksiyonu yazalım. Hata mesajını değiştirmemiz de mümkündür:"
   ]
  },
  {
   "cell_type": "code",
   "execution_count": 4,
   "id": "9a3abfc8",
   "metadata": {},
   "outputs": [],
   "source": [
    "def faktöryel(x):\n",
    "    x = int(x)    \n",
    "    if x<0:\n",
    "        raise ValueError(\"Negatif değer\")\n",
    "    p = 1\n",
    "    for i in range(1,x+1):\n",
    "        p *= i\n",
    "    return p"
   ]
  },
  {
   "cell_type": "markdown",
   "id": "beba143e",
   "metadata": {},
   "source": [
    "Şimdi bu fonksiyonu bir try/except bloku içinde kullanalım."
   ]
  },
  {
   "cell_type": "code",
   "execution_count": 5,
   "id": "e0e7434f",
   "metadata": {},
   "outputs": [
    {
     "name": "stdout",
     "output_type": "stream",
     "text": [
      "120\n",
      "-5 :  Negatif değer\n",
      "abc :  invalid literal for int() with base 10: 'abc'\n",
      "120\n"
     ]
    }
   ],
   "source": [
    "for x in [5, -5, \"abc\", 5]:\n",
    "    try:\n",
    "        y = faktöryel(x)\n",
    "    except ValueError as e:\n",
    "        print(x,\": \", e)\n",
    "        continue\n",
    "    print(y)"
   ]
  },
  {
   "cell_type": "markdown",
   "id": "d44bcf16",
   "metadata": {},
   "source": [
    "Bu koddaki `except ValueError as e:` komutu ile hata durumu `e` isimli bir yerel değişkende saklanabilir ve blok içinde kullanılabilir. Yukarıdaki gibi `print()` içinde kullanıldığında hata mesajını ekrana basarız. Negatif girdi ve harf girdisi durumlarında farklı hata mesajları çıktığına dikkat edin."
   ]
  },
  {
   "cell_type": "markdown",
   "id": "5f2fead8",
   "metadata": {},
   "source": [
    "## Yeni hata durumları yaratmak"
   ]
  },
  {
   "cell_type": "markdown",
   "id": "ecae2699",
   "metadata": {},
   "source": [
    "Python'un standart hata durumlarına ek olarak, kendi hata durumlarımızı da yaratabiliriz. Yukarıda gördüğümüz hata durumu hiyerarşisi, aslında bir nesne hiyerarşisidir. Nesne sınıfları tanımlamayı sonraki bölümlerde göreceğiz, ama buradaki örneği nesne programlama bilmeden de uygulayabilirsiniz.\n",
    "\n",
    "Yeni bir hata tanımlarken varolan bir hatayı temel alırız. Söz gelişi, genel `Exception` nesne sınıfından türetilmiş bir `VektörBoyuHatası` tanımlayalım. "
   ]
  },
  {
   "cell_type": "code",
   "execution_count": 6,
   "id": "ce68940a",
   "metadata": {},
   "outputs": [],
   "source": [
    "class VektörBoyuHatası(Exception):\n",
    "    pass"
   ]
  },
  {
   "cell_type": "markdown",
   "id": "58252365",
   "metadata": {},
   "source": [
    "Buradaki `pass`  kelimesi etkisiz bir komuttur. Python sözdizimi gereğince doldurulması gereken bir yere herhangi bir kod koymak istemediğimizde kullanırız.\n",
    "\n",
    "Şimdi iki sayı listesinin iç çarpımını veren bir fonksiyon yazalım. Listeler aynı uzunlukta değilse iç çarpım tanımlı olmaz; bu durumda `VektörBoyuHatası` yayınlayalım."
   ]
  },
  {
   "cell_type": "code",
   "execution_count": 7,
   "id": "c42d821d",
   "metadata": {},
   "outputs": [],
   "source": [
    "def iç_çarpım(L1, L2):\n",
    "    if len(L1)!=len(L2):\n",
    "        raise VektörBoyuHatası(\"Parametreler aynı sayıda elemandan oluşmalı.\")\n",
    "    return sum( [a*b for (a,b) in zip(L1,L2)] )"
   ]
  },
  {
   "cell_type": "code",
   "execution_count": 8,
   "id": "ad635e28",
   "metadata": {},
   "outputs": [
    {
     "data": {
      "text/plain": [
       "2"
      ]
     },
     "execution_count": 8,
     "metadata": {},
     "output_type": "execute_result"
    }
   ],
   "source": [
    "iç_çarpım([1,2,3], [-1,0,1])"
   ]
  },
  {
   "cell_type": "code",
   "execution_count": 9,
   "id": "3aee4406",
   "metadata": {
    "scrolled": true
   },
   "outputs": [
    {
     "ename": "VektörBoyuHatası",
     "evalue": "Parametreler aynı sayıda elemandan oluşmalı.",
     "output_type": "error",
     "traceback": [
      "\u001b[0;31m---------------------------------------------------------------------------\u001b[0m",
      "\u001b[0;31mVektörBoyuHatası\u001b[0m                          Traceback (most recent call last)",
      "\u001b[0;32m<ipython-input-9-5f70170b4bfa>\u001b[0m in \u001b[0;36m<module>\u001b[0;34m()\u001b[0m\n\u001b[0;32m----> 1\u001b[0;31m \u001b[0miç_çarpım\u001b[0m\u001b[0;34m(\u001b[0m\u001b[0;34m[\u001b[0m\u001b[0;36m1\u001b[0m\u001b[0;34m,\u001b[0m\u001b[0;36m2\u001b[0m\u001b[0;34m,\u001b[0m\u001b[0;36m3\u001b[0m\u001b[0;34m,\u001b[0m\u001b[0;36m4\u001b[0m\u001b[0;34m]\u001b[0m\u001b[0;34m,\u001b[0m \u001b[0;34m[\u001b[0m\u001b[0;34m-\u001b[0m\u001b[0;36m1\u001b[0m\u001b[0;34m,\u001b[0m\u001b[0;36m0\u001b[0m\u001b[0;34m,\u001b[0m\u001b[0;36m1\u001b[0m\u001b[0;34m]\u001b[0m\u001b[0;34m)\u001b[0m\u001b[0;34m\u001b[0m\u001b[0m\n\u001b[0m",
      "\u001b[0;32m<ipython-input-7-ec326e885a8f>\u001b[0m in \u001b[0;36miç_çarpım\u001b[0;34m(L1, L2)\u001b[0m\n\u001b[1;32m      1\u001b[0m \u001b[0;32mdef\u001b[0m \u001b[0miç_çarpım\u001b[0m\u001b[0;34m(\u001b[0m\u001b[0mL1\u001b[0m\u001b[0;34m,\u001b[0m \u001b[0mL2\u001b[0m\u001b[0;34m)\u001b[0m\u001b[0;34m:\u001b[0m\u001b[0;34m\u001b[0m\u001b[0m\n\u001b[1;32m      2\u001b[0m     \u001b[0;32mif\u001b[0m \u001b[0mlen\u001b[0m\u001b[0;34m(\u001b[0m\u001b[0mL1\u001b[0m\u001b[0;34m)\u001b[0m\u001b[0;34m!=\u001b[0m\u001b[0mlen\u001b[0m\u001b[0;34m(\u001b[0m\u001b[0mL2\u001b[0m\u001b[0;34m)\u001b[0m\u001b[0;34m:\u001b[0m\u001b[0;34m\u001b[0m\u001b[0m\n\u001b[0;32m----> 3\u001b[0;31m         \u001b[0;32mraise\u001b[0m \u001b[0mVektörBoyuHatası\u001b[0m\u001b[0;34m(\u001b[0m\u001b[0;34m\"Parametreler aynı sayıda elemandan oluşmalı.\"\u001b[0m\u001b[0;34m)\u001b[0m\u001b[0;34m\u001b[0m\u001b[0m\n\u001b[0m\u001b[1;32m      4\u001b[0m     \u001b[0;32mreturn\u001b[0m \u001b[0msum\u001b[0m\u001b[0;34m(\u001b[0m \u001b[0;34m[\u001b[0m\u001b[0ma\u001b[0m\u001b[0;34m*\u001b[0m\u001b[0mb\u001b[0m \u001b[0;32mfor\u001b[0m \u001b[0;34m(\u001b[0m\u001b[0ma\u001b[0m\u001b[0;34m,\u001b[0m\u001b[0mb\u001b[0m\u001b[0;34m)\u001b[0m \u001b[0;32min\u001b[0m \u001b[0mzip\u001b[0m\u001b[0;34m(\u001b[0m\u001b[0mL1\u001b[0m\u001b[0;34m,\u001b[0m\u001b[0mL2\u001b[0m\u001b[0;34m)\u001b[0m\u001b[0;34m]\u001b[0m \u001b[0;34m)\u001b[0m\u001b[0;34m\u001b[0m\u001b[0m\n",
      "\u001b[0;31mVektörBoyuHatası\u001b[0m: Parametreler aynı sayıda elemandan oluşmalı."
     ]
    }
   ],
   "source": [
    "iç_çarpım([1,2,3,4], [-1,0,1])"
   ]
  },
  {
   "cell_type": "markdown",
   "id": "171945f5",
   "metadata": {},
   "source": [
    "Bu fonksiyonu bir try/except yapısı içinde kullanabiliriz:"
   ]
  },
  {
   "cell_type": "code",
   "execution_count": 10,
   "id": "f70501e8",
   "metadata": {},
   "outputs": [
    {
     "name": "stdout",
     "output_type": "stream",
     "text": [
      "Parametreler aynı sayıda elemandan oluşmalı.\n"
     ]
    }
   ],
   "source": [
    "try:\n",
    "    iç_çarpım([1,2,3,4], [-1,0,1])\n",
    "except VektörBoyuHatası as e:\n",
    "    print(e)"
   ]
  },
  {
   "cell_type": "markdown",
   "id": "c975d58b",
   "metadata": {},
   "source": [
    "Hata yakalama (exception handling) beklenmedik durumlarda programınızın bir hata mesajı vermesi ve çalışmayı durdurması yerine, hataya kendi istediğimiz şekilde cevap vermesini sağlamanın bir yoludur. Hata yakalama Python programcılığının önemli bir parçasıdır, kaynak kodunu çok karışık hale getirmeden programınızın güvenilir bir şekilde çalışmasını sağlar.\n"
   ]
  }
 ],
 "metadata": {
  "kernelspec": {
   "display_name": "Python 3 (ipykernel)",
   "language": "python",
   "name": "python3"
  },
  "language_info": {
   "codemirror_mode": {
    "name": "ipython",
    "version": 3
   },
   "file_extension": ".py",
   "mimetype": "text/x-python",
   "name": "python",
   "nbconvert_exporter": "python",
   "pygments_lexer": "ipython3",
   "version": "3.11.5"
  }
 },
 "nbformat": 4,
 "nbformat_minor": 5
}
