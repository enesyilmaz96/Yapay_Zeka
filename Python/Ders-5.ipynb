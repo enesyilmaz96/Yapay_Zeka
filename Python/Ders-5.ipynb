{
 "cells": [
  {
   "cell_type": "markdown",
   "id": "59d90dfa",
   "metadata": {},
   "source": [
    "# Obje Odaklı Programlama\n",
    "\n"
   ]
  },
  {
   "cell_type": "markdown",
   "id": "3eae4835",
   "metadata": {},
   "source": [
    "Class\n",
    "-----------\n"
   ]
  },
  {
   "cell_type": "code",
   "execution_count": 1,
   "id": "1a39020a",
   "metadata": {},
   "outputs": [],
   "source": [
    "superKahramanAdi = \"Superman\"\n",
    "superKahramanYasi= 30\n",
    "superKahramanMeslegi = \"Gazeteci\""
   ]
  },
  {
   "cell_type": "code",
   "execution_count": 2,
   "id": "df2a520e",
   "metadata": {},
   "outputs": [],
   "source": [
    "ikinciSuperKahramanAdi = \"Batman\"\n"
   ]
  },
  {
   "cell_type": "markdown",
   "id": "1ba91f58",
   "metadata": {},
   "source": [
    "Bu şekilde kod yazmak oldukça karmaşık ve uzundur. Bunun yerine sınıf (class) oluşturarak aynı kodu yazmak daha kullanışlıdır.\n"
   ]
  },
  {
   "cell_type": "code",
   "execution_count": 8,
   "id": "c483b796",
   "metadata": {},
   "outputs": [],
   "source": [
    "class Deneme():\n",
    "    \n",
    "    # Bu kısımı birebir aynı yazmak gerekiyor. İnit tanımlı bir fonksiyoun başlatma gibi düşünülebilir.\n",
    "    # Bu sınıfa ait herhangi bir obje oluşturulduğunda init fonksiyonuı çağırılır.\n",
    "    # Self (kendi) anlamına gelir.\n",
    "    def __init__(self):\n",
    "        print(\"init çağırıldı\")"
   ]
  },
  {
   "cell_type": "code",
   "execution_count": 9,
   "id": "c832c774",
   "metadata": {},
   "outputs": [
    {
     "name": "stdout",
     "output_type": "stream",
     "text": [
      "init çağırıldı\n"
     ]
    }
   ],
   "source": [
    "bir = Deneme()"
   ]
  },
  {
   "cell_type": "code",
   "execution_count": 10,
   "id": "a310ec6a",
   "metadata": {},
   "outputs": [
    {
     "name": "stdout",
     "output_type": "stream",
     "text": [
      "init çağırıldı\n"
     ]
    }
   ],
   "source": [
    "iki = Deneme()"
   ]
  },
  {
   "cell_type": "markdown",
   "id": "3b93bda7",
   "metadata": {},
   "source": [
    "`__init__` mantığını anladığımıza göre **`class`**'ı geliştirmeye devam edelim"
   ]
  },
  {
   "cell_type": "code",
   "execution_count": 12,
   "id": "0f66fa1b",
   "metadata": {},
   "outputs": [],
   "source": [
    "class SuperKahraman():\n",
    "    \n",
    "\"\"\"  \n",
    " Self ile bu sınıfa ait etiketler oluşturabiliriz. \n",
    " Burada isimInput, yasInput...  gibi ifadeler kullanmak çok doğdur değildir.\n",
    " Onun yerine direk isim, yas, meslek olarak kullanmak daha doğru olur.\n",
    " Artık self.isim bizim için `Attribute` (ekiket) temsil eder. isimInput ise argümanı temsil eder.\n",
    " Fakat bu örnekte ikisinin farklı şeyler olduğunu anlamak için kodu bu şekilde yazdık.\n",
    " Normalde doğru kullanım aşağıdaki gibidir;\n",
    " \n",
    "def __init__(self,isim,yas,meslek):\n",
    "        print(\"init çağırıldı\")\n",
    "        self.isim=isim\n",
    "        self.yas=yas\n",
    "        self.meslek=meslek        \n",
    "\"\"\"\"\n",
    "\n",
    "    def __init__(self,isimInput,yasInput,meslekInput):\n",
    "        print(\"init çağırıldı\")\n",
    "        self.isim=isimInput\n",
    "        self.yas=yasInput\n",
    "        self.meslek=meslekInput\n",
    "        "
   ]
  },
  {
   "cell_type": "code",
   "execution_count": 13,
   "id": "09d18cd3",
   "metadata": {},
   "outputs": [
    {
     "ename": "TypeError",
     "evalue": "SuperKahraman.__init__() missing 3 required positional arguments: 'isimInput', 'yasInput', and 'meslekInput'",
     "output_type": "error",
     "traceback": [
      "\u001b[1;31m---------------------------------------------------------------------------\u001b[0m",
      "\u001b[1;31mTypeError\u001b[0m                                 Traceback (most recent call last)",
      "Cell \u001b[1;32mIn[13], line 1\u001b[0m\n\u001b[1;32m----> 1\u001b[0m superman\u001b[38;5;241m=\u001b[39mSuperKahraman()\n",
      "\u001b[1;31mTypeError\u001b[0m: SuperKahraman.__init__() missing 3 required positional arguments: 'isimInput', 'yasInput', and 'meslekInput'"
     ]
    }
   ],
   "source": [
    "superman=SuperKahraman()"
   ]
  },
  {
   "cell_type": "markdown",
   "id": "333563f9",
   "metadata": {},
   "source": [
    "Kodu yukarıdaki gibi çalıştırdığımızda `__init__`içerisinde 3 adet argüman tanımlı olduğunu fakat bunlara değer değer verilmediğini söyleyen bir hata alınırız.\n"
   ]
  },
  {
   "cell_type": "code",
   "execution_count": 14,
   "id": "badf1142",
   "metadata": {},
   "outputs": [
    {
     "name": "stdout",
     "output_type": "stream",
     "text": [
      "init çağırıldı\n"
     ]
    }
   ],
   "source": [
    "# Oluşturulan argümanlara değerleri verince hata almadan init fonksiyonunu çalıştırdık.\n",
    "\n",
    "superman=SuperKahraman(\"Superman\",30,\"Gazeteci\")"
   ]
  },
  {
   "cell_type": "code",
   "execution_count": 15,
   "id": "e197b00c",
   "metadata": {},
   "outputs": [
    {
     "data": {
      "text/plain": [
       "'Superman'"
      ]
     },
     "execution_count": 15,
     "metadata": {},
     "output_type": "execute_result"
    }
   ],
   "source": [
    "# Artık oluşturduğumuz sınıfa ait etiketlerimiz var (isim, yas, meslek)\n",
    "# Bu sayede sınıf içerisindeki istediğimiz değişkenin istediğimiz bilgisine çok raha ulaşabiliriz. \n",
    "superman.isim"
   ]
  },
  {
   "cell_type": "code",
   "execution_count": 16,
   "id": "71eff4cf",
   "metadata": {},
   "outputs": [
    {
     "data": {
      "text/plain": [
       "30"
      ]
     },
     "execution_count": 16,
     "metadata": {},
     "output_type": "execute_result"
    }
   ],
   "source": [
    "superman.yas"
   ]
  },
  {
   "cell_type": "code",
   "execution_count": 19,
   "id": "0a6c0230",
   "metadata": {},
   "outputs": [
    {
     "data": {
      "text/plain": [
       "'Clark Kent'"
      ]
     },
     "execution_count": 19,
     "metadata": {},
     "output_type": "execute_result"
    }
   ],
   "source": [
    "# Bu etiketler ile istediğimiz değişkene ait argümanda değişiklik yapabiliriz.\n",
    "superman.isim=\"Clark Kent\"\n",
    "superman.isim"
   ]
  },
  {
   "cell_type": "markdown",
   "id": "603135e3",
   "metadata": {},
   "source": [
    "# Methodlar\n"
   ]
  },
  {
   "cell_type": "code",
   "execution_count": 31,
   "id": "30f9bb25",
   "metadata": {},
   "outputs": [],
   "source": [
    "class YeniSuperKahraman():\n",
    "\n",
    "    # Bu şekilde bir etiket atarsak bu sınıfa dahil edilen her elemana aynı özelliği ekler\n",
    "\n",
    "    ozelGuc = \"Gorunmezlik\"\n",
    "    \n",
    "    def __init__(self,isim,yas,meslek):\n",
    "        \n",
    "        print (f\"Kahramanın özel gücü = {self.ozelGuc}\")\n",
    "        self.isim = isim\n",
    "        self.yas = yas\n",
    "        self.meslek = meslek\n",
    "    \n",
    "    # Sınıf içinde farklı methodlar oluşturabiliriz. Oluşturulan methodlar sınıfa ait tüm elemanlar için çalışır.\n",
    "    def ornekMethod(self):\n",
    "        # Burada self.meslek yerine meslek yazarsak hata alırız. Sınıf içinde self kullanmak gerekiyor.\n",
    "        print(f\"ben süperkahramanım ve meslegim: {self.meslek}\")"
   ]
  },
  {
   "cell_type": "code",
   "execution_count": 32,
   "id": "8315783a",
   "metadata": {},
   "outputs": [
    {
     "name": "stdout",
     "output_type": "stream",
     "text": [
      "Kahramanın özel gücü = Gorunmezlik\n",
      "Kahramanın özel gücü = Gorunmezlik\n"
     ]
    }
   ],
   "source": [
    "\n",
    "\n",
    "batman = YeniSuperKahraman(\"Bruce\",30,\"is adamı\")\n",
    "ironman = YeniSuperKahraman(\"Stark\",45,\"Mühendis\")"
   ]
  },
  {
   "cell_type": "code",
   "execution_count": 37,
   "id": "2fa614a6",
   "metadata": {},
   "outputs": [
    {
     "name": "stdout",
     "output_type": "stream",
     "text": [
      " Batman Dovus Ustası İronman ise Teknolojik Kapasite yeteneğine sahip\n"
     ]
    },
    {
     "data": {
      "text/plain": [
       "'Teknolojik Kapasite'"
      ]
     },
     "execution_count": 37,
     "metadata": {},
     "output_type": "execute_result"
    }
   ],
   "source": [
    "# Her elemana görünmezlik özel gücü eklenir fakat bunu istersek değiştirebiliriz.\n",
    "\n",
    "batman.ozelGuc=\"Dovus Ustası\"\n",
    "ironman.ozelGuc=\"Teknolojik Kapasite\"\n",
    "\n",
    "print(f\" Batman {batman.ozelGuc} İronman ise {ironman.ozelGuc} yeteneğine sahip\")\n"
   ]
  },
  {
   "cell_type": "code",
   "execution_count": 39,
   "id": "ed121a23",
   "metadata": {},
   "outputs": [
    {
     "name": "stdout",
     "output_type": "stream",
     "text": [
      "ben süperkahramanım ve meslegim: is adamı\n"
     ]
    }
   ],
   "source": [
    "# Oluşturulan her eleman için methodları çalıştırmak mümkündür. \n",
    "\n",
    "batman.ornekMethod()"
   ]
  },
  {
   "cell_type": "code",
   "execution_count": 40,
   "id": "836ac532",
   "metadata": {},
   "outputs": [
    {
     "name": "stdout",
     "output_type": "stream",
     "text": [
      "ben süperkahramanım ve meslegim: Mühendis\n"
     ]
    }
   ],
   "source": [
    "# Hangi kahramana ait methodu çalıtırırsak onun mesleği ekrana gelir.\n",
    "\n",
    "ironman.ornekMethod()"
   ]
  },
  {
   "cell_type": "code",
   "execution_count": 58,
   "id": "51e9ce02",
   "metadata": {},
   "outputs": [],
   "source": [
    "class Kopek():\n",
    "    \n",
    "    # Eğer tanımlanan değişkene herhangi bir değer vermezse aşağıdaki gibi bir varsayılan değer atanabilir.\n",
    "    def __init__(self,yas=5):\n",
    "        self.yas=yas\n",
    "    \n",
    "    def insanYasınıHesapla(self,insanYasi=7):\n",
    "        self.insanYasi = insanYasi\n",
    "        return self.yas * self.insanYasi\n",
    "        "
   ]
  },
  {
   "cell_type": "code",
   "execution_count": 60,
   "id": "5017349b",
   "metadata": {},
   "outputs": [
    {
     "data": {
      "text/plain": [
       "5"
      ]
     },
     "execution_count": 60,
     "metadata": {},
     "output_type": "execute_result"
    }
   ],
   "source": [
    "# Herhangi bir değer vermezsek default değeri (5) yas olarak kabul eder.\n",
    "benimKopek = Kopek()\n",
    "benimKopek.yas"
   ]
  },
  {
   "cell_type": "code",
   "execution_count": 61,
   "id": "ec14325c",
   "metadata": {},
   "outputs": [
    {
     "data": {
      "text/plain": [
       "3"
      ]
     },
     "execution_count": 61,
     "metadata": {},
     "output_type": "execute_result"
    }
   ],
   "source": [
    "# Eğer değeri kendimiz verirsek o zaman default değeri kullanmaz.\n",
    "benimKopek = Kopek(3)\n",
    "benimKopek.yas"
   ]
  },
  {
   "cell_type": "code",
   "execution_count": 62,
   "id": "125dc334",
   "metadata": {},
   "outputs": [
    {
     "data": {
      "text/plain": [
       "21"
      ]
     },
     "execution_count": 62,
     "metadata": {},
     "output_type": "execute_result"
    }
   ],
   "source": [
    "benimKopek.insanYasınıHesapla()"
   ]
  },
  {
   "cell_type": "markdown",
   "id": "ae81eee5",
   "metadata": {},
   "source": [
    "**Yani Python programlama dilinde bir sınıf (class) tanımlamak ve kullanmak için şu adımları takip edebilirsiniz:**\n",
    "\n",
    "\n",
    "### 1) Sınıf Tanımlama:\n",
    "\n",
    "Bu örnekte, **`Araba`** adında bir sınıf tanımlıyoruz. Bu sınıfın özellikleri **`marka`, `model`, `renk`** ve bir metodu **` bilgileri_goster`** bulunmaktadır.\n"
   ]
  },
  {
   "cell_type": "code",
   "execution_count": 63,
   "id": "dc9d396f",
   "metadata": {},
   "outputs": [],
   "source": [
    "class Araba:\n",
    "    def __init__(self, marka, model, renk):\n",
    "        self.marka = marka\n",
    "        self.model = model\n",
    "        self.renk = renk\n",
    "\n",
    "    def bilgileri_goster(self):\n",
    "        print(f\"Marka: {self.marka}, Model: {self.model}, Renk: {self.renk}\")\n"
   ]
  },
  {
   "cell_type": "markdown",
   "id": "af349626",
   "metadata": {},
   "source": [
    "### 2) Nesne Oluşturma:\n",
    "\n",
    "**`Araba`** sınıfından bir nesne (araba1) oluşturur ve bu nesnenin özelliklerine başlangıç değerlerini atar.\n",
    "\n"
   ]
  },
  {
   "cell_type": "code",
   "execution_count": 67,
   "id": "0abc0bd6",
   "metadata": {},
   "outputs": [],
   "source": [
    "araba1 = Araba(\"Toyota\", \"Corolla\", \"Mavi\")\n"
   ]
  },
  {
   "cell_type": "markdown",
   "id": "bdff48c1",
   "metadata": {},
   "source": [
    "### 3) Nesne Özelliklerine Erişim:\n",
    "\n",
    "Oluşturulan nesnenin özelliklerine erişebiliriz."
   ]
  },
  {
   "cell_type": "code",
   "execution_count": 68,
   "id": "cbbf8032",
   "metadata": {},
   "outputs": [
    {
     "name": "stdout",
     "output_type": "stream",
     "text": [
      "Toyota\n"
     ]
    }
   ],
   "source": [
    "print(araba1.marka)  # Çıktı: Toyota\n"
   ]
  },
  {
   "cell_type": "markdown",
   "id": "18c7e627",
   "metadata": {},
   "source": [
    "### 4) Nesne Metodlarını Çağırma:\n",
    "\n",
    "Oluşturulan nesnenin metodlarını çağırabiliriz."
   ]
  },
  {
   "cell_type": "code",
   "execution_count": 69,
   "id": "8bdb4d97",
   "metadata": {},
   "outputs": [
    {
     "name": "stdout",
     "output_type": "stream",
     "text": [
      "Marka: Toyota, Model: Corolla, Renk: Mavi\n"
     ]
    }
   ],
   "source": [
    "araba1.bilgileri_goster()  # Çıktı: Marka: Toyota, Model: Corolla, Renk: Mavi\n"
   ]
  },
  {
   "cell_type": "markdown",
   "id": "8f2d0ef7",
   "metadata": {},
   "source": [
    "Yukarıdaki adımları takip ederek sınıfları tanımlayabilir, nesneler oluşturabilir ve bu nesnelerin özellerine veya metodlarına erişebiliriz."
   ]
  },
  {
   "cell_type": "markdown",
   "id": "1a2ea5df",
   "metadata": {},
   "source": [
    "## inheritance\n",
    "\n",
    "Inheritance (Miras) bir nesne yönelimli programlama (OOP) konseptidir ve bir sınıfın başka bir sınıftan özelliklerini ve davranışlarını devralmasını sağlar. Bu, kodun tekrar kullanılabilirliğini artırır ve sınıflar arasında hiyerarşik bir ilişki oluşturarak kod organizasyonunu kolaylaştırır."
   ]
  },
  {
   "cell_type": "code",
   "execution_count": 106,
   "id": "8fabf1df",
   "metadata": {},
   "outputs": [],
   "source": [
    "class Hayvan():\n",
    "    \n",
    "    def __init__(self):\n",
    "        print(\"Hayvan sınıfı init çağırıldı.\")\n",
    "        \n",
    "    def method1(self):\n",
    "        print(\"Hayvan sınıfı method1 çağırıldı.\")\n",
    "        \n",
    "    def method2(self):\n",
    "        print(\"Hayvan sınıfı method2 çağırıldı.\")\n",
    "    \n",
    "    def ortakMethod(self):\n",
    "        print(\"Hayvan sınıfındaki ortak method çağıırldı\")"
   ]
  },
  {
   "cell_type": "code",
   "execution_count": 107,
   "id": "1cbd5794",
   "metadata": {},
   "outputs": [
    {
     "name": "stdout",
     "output_type": "stream",
     "text": [
      "Hayvan sınıfı init çağırıldı.\n"
     ]
    }
   ],
   "source": [
    "benimHayvanım = Hayvan()"
   ]
  },
  {
   "cell_type": "code",
   "execution_count": 108,
   "id": "c6ddb338",
   "metadata": {},
   "outputs": [
    {
     "name": "stdout",
     "output_type": "stream",
     "text": [
      "Hayvan sınıfı method1 çağırıldı.\n"
     ]
    }
   ],
   "source": [
    "benimHayvanım.method1()"
   ]
  },
  {
   "cell_type": "code",
   "execution_count": 109,
   "id": "565c0917",
   "metadata": {},
   "outputs": [
    {
     "name": "stdout",
     "output_type": "stream",
     "text": [
      "Hayvan sınıfı method2 çağırıldı.\n"
     ]
    }
   ],
   "source": [
    "benimHayvanım.method2()"
   ]
  },
  {
   "cell_type": "code",
   "execution_count": 110,
   "id": "1744c2a1",
   "metadata": {},
   "outputs": [
    {
     "name": "stdout",
     "output_type": "stream",
     "text": [
      "Hayvan sınıfındaki ortak method çağıırldı\n"
     ]
    }
   ],
   "source": [
    "benimHayvanım.ortakMethod()"
   ]
  },
  {
   "cell_type": "code",
   "execution_count": 111,
   "id": "4f5d4ebd",
   "metadata": {},
   "outputs": [],
   "source": [
    "# Burada kedi adında yeni bir class oluşturduk ve parantez içine bir önceki sınıfımız olan 'Hayvan' yazdık.\n",
    "# Bu sayede artık kedi sınıfı içirinde Hayvan sınıfına ait tüm özellikleri kullanabiliriz.\n",
    "\n",
    "class Kedi(Hayvan):\n",
    "    def __init__(self):\n",
    "        \n",
    "        # Hayvan sınıfının init (başlangıç) fonksiyonunu çalıştırdım ve böylece ekrana\n",
    "        # 'Hayvan sınıfı init çağırıldı' yazdırdım.\n",
    "        Hayvan.__init__(self)\n",
    "        \n",
    "        # Daha sonra kedi sınıfına ait init fonk. çalıştı ve ekrana 'Kedi sınıfı init çağırıldı' yazdı.\n",
    "        print(\"Kedi sınıfı init çağırıldı\")\n",
    "     \n",
    "    # Bu method sadece kedi sınıfna ait yani benimHayvanım. yazdığınızda miyavla methodunu kullanamazsınız.\n",
    "    # Çünkü hayvan sınıfı kedi sınıfından miras almıyor.\n",
    "    def miyavla(self):\n",
    "        print(\"Miyav\")\n",
    "    \n",
    "    # Bu hayvan sayısının çoğaldığını varsayalım. (kedi, köpek, at, eşek, tavşan, ......)\n",
    "    # Bu alt sınıfların hepsinde method1-method2 ve ortakMethod fonksiyonları çalışacaktır.\n",
    "    # Fakat diyelim ki ben kedi sınıfındayken ortakMethod fonksiyonunu çalıştırdığımda\n",
    "    # diğlerinden farklı bir işlevi yerine getirsin. İşte o zaman kedi sınıfı içerisinde aynı fonksiyon\n",
    "    # isminde (ortakMethod) bir fonksiyon oluşturursam artık. Kedi sınıfı için ortakMethodu çalıştırdığımda \n",
    "    # Burada oluşturduğum fonksiyon aktif olacak. Aksi halde Hayvan sınıfındaki fonksiyon çalışacak\n",
    "    # Bu işleme override (üstüne yazmak) denir.\n",
    "    def ortakMethod(self):\n",
    "        print(\"Kedi sınıfındaki ortak method çağırıldı.\")"
   ]
  },
  {
   "cell_type": "code",
   "execution_count": 112,
   "id": "c02fbb09",
   "metadata": {},
   "outputs": [
    {
     "name": "stdout",
     "output_type": "stream",
     "text": [
      "Hayvan sınıfı init çağırıldı.\n",
      "Kedi sınıfı init çağırıldı\n"
     ]
    }
   ],
   "source": [
    "benimKedi = Kedi()"
   ]
  },
  {
   "cell_type": "code",
   "execution_count": 113,
   "id": "baf51a93",
   "metadata": {},
   "outputs": [
    {
     "name": "stdout",
     "output_type": "stream",
     "text": [
      "Hayvan sınıfı method1 çağırıldı.\n"
     ]
    }
   ],
   "source": [
    " # benimKedi sınıfına method1 yazmamış olmama rağmen Hayvan sınıfına ait method1'i kullanabilirim.\n",
    "benimKedi.method1()"
   ]
  },
  {
   "cell_type": "code",
   "execution_count": 115,
   "id": "db531c14",
   "metadata": {},
   "outputs": [
    {
     "name": "stdout",
     "output_type": "stream",
     "text": [
      "Miyav\n"
     ]
    }
   ],
   "source": [
    "# Sadece kedi sınıfına ait olan methodu çalıştırabiliriz.\n",
    "benimKedi.miyavla()"
   ]
  },
  {
   "cell_type": "code",
   "execution_count": 119,
   "id": "29e5fd20",
   "metadata": {},
   "outputs": [
    {
     "name": "stdout",
     "output_type": "stream",
     "text": [
      "Kedi sınıfındaki ortak method çağırıldı.\n",
      "Hayvan sınıfındaki ortak method çağıırldı\n"
     ]
    }
   ],
   "source": [
    "# Artık her iki sınıfda ta ortakMethod adında fonksiyon olduğu için başında hangi sınıf yazıyorsa (Kedi, hayvan)\n",
    "# o sınıfın içerisindeki ortakMethod fonksiyonu çalışır.\n",
    "\n",
    "benimKedi.ortakMethod()\n",
    "\n",
    "benimHayvanım.ortakMethod()"
   ]
  },
  {
   "cell_type": "markdown",
   "id": "8af63f56",
   "metadata": {},
   "source": [
    "Bu durumda hangi sınıf hangi methodu kullanabilir aşağıda gösterilmiştir.\n",
    "\n",
    "**Kedi sınıfına ait methodlar :**\n",
    "    `benimKedi.method1`\n",
    "    `benimKedi.method2`\n",
    "    `benimKedi.miyavla`\n",
    "    \n",
    "**Hayvan sınıfına ait methodlar:**\n",
    "    `benimHayvanım.method1`\n",
    "    `benimHayvanım.method2`\n",
    "    "
   ]
  },
  {
   "cell_type": "code",
   "execution_count": null,
   "id": "0173f9da",
   "metadata": {},
   "outputs": [],
   "source": []
  },
  {
   "cell_type": "markdown",
   "id": "66ed30b3",
   "metadata": {},
   "source": [
    "Başka bir örnek üzerinden devam edelim. Örneğin, bir \"Taşıt\" sınıfı oluşturalım ve bu sınıftan türeyen \"Araba\" ve \"Motosiklet\" sınıflarını inşa edelim:\n",
    "\n",
    "Bu örnekte, \"Taşıt\" sınıfı genel özellikleri içerir ve \"Araba\" ile \"Motosiklet\" sınıfları bu genel özellikleri miras alır. Her iki alt sınıf da \"hareket_et\" metodunu kendi ihtiyaçlarına göre özelleştirir. Bu sayede, \"Araba\" ve \"Motosiklet\" sınıfları, \"Taşıt\" sınıfının genel özelliklerini paylaşırken kendi özel davranışlarını da tanımlayabilir."
   ]
  },
  {
   "cell_type": "code",
   "execution_count": 98,
   "id": "d0eecdf9",
   "metadata": {},
   "outputs": [],
   "source": [
    "class Taşıt:\n",
    "    def __init__(self, marka, model):\n",
    "        self.marka = marka\n",
    "        self.model = model\n",
    "\n",
    "    def hareket_et(self):\n",
    "        pass  # Bu metod, alt sınıflar tarafından özelleştirilecek\n",
    "\n",
    "class Araba(Taşıt):\n",
    "    def hareket_et(self):\n",
    "        return f\"{self.marka} {self.model} arabası ilerliyor.\"\n",
    "\n",
    "class Motosiklet(Taşıt):\n",
    "    def hareket_et(self):\n",
    "        return f\"{self.marka} {self.model} motosikleti ilerliyor.\"\n"
   ]
  },
  {
   "cell_type": "code",
   "execution_count": 99,
   "id": "2f1d3d05",
   "metadata": {},
   "outputs": [],
   "source": [
    "motorum = Taşıt(\"Volta\",\"RS7\")\n",
    "arabam = Taşıt(\"Ford\",\"Focus\")"
   ]
  },
  {
   "cell_type": "code",
   "execution_count": 102,
   "id": "5d0784d2",
   "metadata": {},
   "outputs": [
    {
     "data": {
      "text/plain": [
       "'Ford Focus arabası ilerliyor.'"
      ]
     },
     "execution_count": 102,
     "metadata": {},
     "output_type": "execute_result"
    }
   ],
   "source": [
    "Araba.hareket_et(arabam)"
   ]
  },
  {
   "cell_type": "code",
   "execution_count": 103,
   "id": "2a3f8a11",
   "metadata": {},
   "outputs": [
    {
     "data": {
      "text/plain": [
       "'Volta RS7 motosikleti ilerliyor.'"
      ]
     },
     "execution_count": 103,
     "metadata": {},
     "output_type": "execute_result"
    }
   ],
   "source": [
    "Motosiklet.hareket_et(motorum)"
   ]
  },
  {
   "cell_type": "markdown",
   "id": "483d24e1",
   "metadata": {},
   "source": [
    "## Polymorphism\n",
    "\n",
    "Polimorfizm, bir programın aynı ismi taşıyan ancak farklı görevleri yerine getiren metodlara sahip olabilmesini ifade eder. Bu, aynı sınıfa ait farklı alt sınıfların aynı adı taşıyan metodları farklı şekillerde uygulayabilmesi anlamına gelir.\n",
    "\n",
    "Aşağıdaki örnekte iki çeşit meyve var ve ikisinde de **`bilgiVer`** fonksiyonu var. Yani aynı isimde 2 method var.\n",
    "Biz hangi sınıfa ait bilgiyi almak istiyorsak bilgiVer methodunun başına o sınıfın adını yazmamız gerekiyor.\n",
    "yani muz.bilgiVer dediğimizde muz sınıfına ait, elma.bilgiVer dediğimizde ise elma sınıfına ait bilgiVer methodu çalışır."
   ]
  },
  {
   "cell_type": "code",
   "execution_count": 120,
   "id": "5bb72254",
   "metadata": {},
   "outputs": [],
   "source": [
    "class Elma():\n",
    "    def __init__(self,isim):\n",
    "        self.isim=isim\n",
    "        \n",
    "    def bilgiVer(self):\n",
    "        return self.isim+\" 100 kaloridir \"\n",
    "    "
   ]
  },
  {
   "cell_type": "code",
   "execution_count": 121,
   "id": "710554b5",
   "metadata": {},
   "outputs": [],
   "source": [
    "class Muz():\n",
    "    def __init__(self,isim):\n",
    "        self.isim=isim\n",
    "        \n",
    "    def bilgiVer(self):\n",
    "        return self.isim +\" 150 kaloridir\""
   ]
  },
  {
   "cell_type": "code",
   "execution_count": 122,
   "id": "a7eabed0",
   "metadata": {},
   "outputs": [],
   "source": [
    "elma = Elma(\"Elma\")\n",
    "muz = Muz(\"Muz\")"
   ]
  },
  {
   "cell_type": "code",
   "execution_count": 123,
   "id": "d5cdd9f0",
   "metadata": {},
   "outputs": [
    {
     "data": {
      "text/plain": [
       "'Elma 100 kaloridir '"
      ]
     },
     "execution_count": 123,
     "metadata": {},
     "output_type": "execute_result"
    }
   ],
   "source": [
    "elma.bilgiVer()"
   ]
  },
  {
   "cell_type": "code",
   "execution_count": 124,
   "id": "3ce514f7",
   "metadata": {},
   "outputs": [
    {
     "data": {
      "text/plain": [
       "'Muz 150 kaloridir'"
      ]
     },
     "execution_count": 124,
     "metadata": {},
     "output_type": "execute_result"
    }
   ],
   "source": [
    "muz.bilgiVer()"
   ]
  },
  {
   "cell_type": "code",
   "execution_count": 127,
   "id": "73f44c2b",
   "metadata": {},
   "outputs": [],
   "source": [
    "# Bilgi almak için ayrı bir fonksiyon oluşturuduk. Buradaki fonksiyon sınıfların içerisinde değil\n",
    "# Fonksiyon çalıştırıldığında hangi meyve hakkında bilgi almak istiyorsak o sınıfa giderek oradaki bilgiVer \n",
    "# methoduna gidecek ve o fonksiyon içerisindeki komutları gerçekleştirecek.\n",
    "def bilgiAl(meyve):\n",
    "    print(meyve.bilgiVer())\n"
   ]
  },
  {
   "cell_type": "code",
   "execution_count": 128,
   "id": "5e2d9605",
   "metadata": {},
   "outputs": [
    {
     "name": "stdout",
     "output_type": "stream",
     "text": [
      "Muz 150 kaloridir\n"
     ]
    }
   ],
   "source": [
    "# Aşağıda muz meyvesinden bilgi almak istediğimiz için.\n",
    "# muz.bilgiVer() methodu çalıştı ve ekrana muz ile ilgili bilgi çıktı.\n",
    "bilgiAl(muz)"
   ]
  },
  {
   "cell_type": "markdown",
   "id": "9d45f711",
   "metadata": {},
   "source": [
    "## Özel Methodlar\n",
    "\n",
    "Özel (veya sihirli) metodlar, Python'da çeşitli özel davranışları tanımlamak için kullanılan, çift alt çizgi ile başlayıp biten adlandırmalara sahip metodlardır. Bu metodlar, nesne yönelimli programlamada kullanılır ve sınıfların temel davranışlarını özelleştirmek için tanımlanabilirler. İşte bazı yaygın kullanılan özel metodlar:"
   ]
  },
  {
   "cell_type": "markdown",
   "id": "21e3edae",
   "metadata": {},
   "source": [
    "**`__init__(self, ...)`**: Bir nesne oluşturulduğunda çağrılan ilk metod. İlgili sınıfın örnek değişkenlerini başlatmak için kullanılır."
   ]
  },
  {
   "cell_type": "code",
   "execution_count": 130,
   "id": "a8ca6f8a",
   "metadata": {},
   "outputs": [],
   "source": [
    "class Araba:\n",
    "    def __init__(self, marka, model):\n",
    "        self.marka = marka\n",
    "        self.model = model\n",
    "\n",
    "araba1 = Araba(\"Toyota\", \"Corolla\")\n"
   ]
  },
  {
   "cell_type": "markdown",
   "id": "c5c314a2",
   "metadata": {},
   "source": [
    "**`__str__(self)`**: `print()` fonksiyonu çağrıldığında veya `str()` fonksiyonu ile bir nesnenin string temsilini elde etmek için kullanılır."
   ]
  },
  {
   "cell_type": "code",
   "execution_count": 131,
   "id": "bc8a42f8",
   "metadata": {},
   "outputs": [
    {
     "name": "stdout",
     "output_type": "stream",
     "text": [
      "Python Öğreniyorum - Guido van Rossum\n"
     ]
    }
   ],
   "source": [
    "class Kitap:\n",
    "    def __init__(self, baslik, yazar):\n",
    "        self.baslik = baslik\n",
    "        self.yazar = yazar\n",
    "\n",
    "    def __str__(self):\n",
    "        return f\"{self.baslik} - {self.yazar}\"\n",
    "\n",
    "kitap = Kitap(\"Python Öğreniyorum\", \"Guido van Rossum\")\n",
    "\n",
    "# print içerisinde sınıfımızı kullandığımızda def __str__ methodu aktif olur.\n",
    "print(kitap)  # Python Öğreniyorum - Guido van Rossum\n"
   ]
  },
  {
   "cell_type": "markdown",
   "id": "65e69f78",
   "metadata": {},
   "source": [
    "**`__len__(self)`**: `len()` fonksiyonu ile nesnenin uzunluğunu elde etmek için kullanılır."
   ]
  },
  {
   "cell_type": "code",
   "execution_count": 138,
   "id": "42c6baac",
   "metadata": {},
   "outputs": [
    {
     "name": "stdout",
     "output_type": "stream",
     "text": [
      "3\n"
     ]
    }
   ],
   "source": [
    "class OgrenciListesi:\n",
    "    def __init__(self, ogrenciler):\n",
    "        self.ogrenciler = ogrenciler\n",
    "    \n",
    "    # self.ogrenciler sınıfının uzunluğunu yazdırmasını istedik.v  \n",
    "    def __len__(self):\n",
    "        return len(self.ogrenciler)\n",
    "\n",
    "ogrenci_listesi = OgrenciListesi([\"Ali\", \"Veli\", \"Ayşe\"])\n",
    "\n",
    "# len fonksiyonu ile ogrenci_listesi sınıfı çağırıldığında ilgili sınıf içindeki def __len__ methodu aktif olur.\n",
    "print(len(ogrenci_listesi))  # 3\n"
   ]
  },
  {
   "cell_type": "code",
   "execution_count": 1,
   "id": "03ba10dd",
   "metadata": {},
   "outputs": [],
   "source": [
    "class Yas:\n",
    "    def __init__(self,ad,yas):\n",
    "        self.ad = ad\n",
    "        self.yas = yas\n",
    "    \n",
    "    # len methodu içersine ne yazarsak komut len komutu çalıştırıldığında onu yapar.\n",
    "    \n",
    "    def __len__(self):\n",
    "        return self.yas"
   ]
  },
  {
   "cell_type": "code",
   "execution_count": 2,
   "id": "78a26a6f",
   "metadata": {},
   "outputs": [
    {
     "data": {
      "text/plain": [
       "35"
      ]
     },
     "execution_count": 2,
     "metadata": {},
     "output_type": "execute_result"
    }
   ],
   "source": [
    "alininYasi = Yas(\"Ali\", 35)\n",
    "\n",
    "# Normal şartlarda len(alininYasi) fonksiyonu çalıştırıldığında yaş verisinin uzunluğunu vermesi gerekir.\n",
    "# Fakat sınıf içerisinde \"def__len__(self)\" len komutu çalıştırıldığında o kişiye ait yas değerinin gösterilmesi söyledik.\n",
    "len(alininYasi)"
   ]
  },
  {
   "cell_type": "markdown",
   "id": "e6d6f98f",
   "metadata": {},
   "source": [
    "**`__getitem__(self, key)`**: Nesnenin belirli bir öğesine erişim sağlamak için kullanılır."
   ]
  },
  {
   "cell_type": "code",
   "execution_count": 133,
   "id": "af334037",
   "metadata": {},
   "outputs": [
    {
     "name": "stdout",
     "output_type": "stream",
     "text": [
      "Kitap2\n"
     ]
    }
   ],
   "source": [
    "class Kitaplik:\n",
    "    def __init__(self, kitaplar):\n",
    "        self.kitaplar = kitaplar\n",
    "\n",
    "    def __getitem__(self, index):\n",
    "        return self.kitaplar[index]\n",
    "\n",
    "kitaplik = Kitaplik([\"Kitap1\", \"Kitap2\", \"Kitap3\"])\n",
    "print(kitaplik[1])  # Kitap2\n"
   ]
  },
  {
   "cell_type": "markdown",
   "id": "0a827762",
   "metadata": {},
   "source": [
    "### ÖRNEK\n",
    "\n",
    "Bir hayvanat bahçesinde farklı türlerde hayvanlar bulunmaktadır. Bu hayvanları temsil eden bir **`HayvanatBahcesi`** sınıfı oluşturun. Her hayvanın bir isim, bir tür ve bir yaş değeri olsun. Ayrıca, her hayvanın kendisini ekrana tanıtan **`hayvanıTanit`** metodu olsun.\n",
    "\n",
    "Ardından, bu sınıftan türetilmiş en az iki farklı hayvan türü (mesela Kedi ve Kus) için örnekler oluşturun ve her birini ekrana tanıtan bir yöntem kullanarak bilgilerini görüntüleyin."
   ]
  },
  {
   "cell_type": "code",
   "execution_count": 33,
   "id": "639b703a",
   "metadata": {},
   "outputs": [
    {
     "name": "stdout",
     "output_type": "stream",
     "text": [
      "Hayvanın Adı= Kanarya, Türü= Memeli, Yaşı= 5\n"
     ]
    }
   ],
   "source": [
    "class HayvanatBahcesi():\n",
    "    def __init__(self,isim,tur,yas):\n",
    "        self.isim=isim\n",
    "        self.tur=tur\n",
    "        self.yas=yas\n",
    "        \n",
    "    def hayvaniTanit(self):\n",
    "        return print(f\"Hayvanın Adı= {self.isim}, Türü= {self.tur}, Yaşı= {self.yas}\")\n",
    "                     \n",
    "class Kus(HayvanatBahcesi):\n",
    "    def __init__(self,isim,yas,tur=\"Memeli\"):\n",
    "        self.isim=isim\n",
    "        self.tur=tur\n",
    "        self.yas=yas\n",
    "                     \n",
    "class Kopek(HayvanatBahcesi):\n",
    "    def __init__(self,isim,yas,tur=\"Memeli\"):\n",
    "        self.isim=isim\n",
    "        self.tur=tur\n",
    "        self.yas=yas\n",
    "        \n",
    "class Yılan(HayvanatBahcesi):\n",
    "     def __init__(self,isim,yas,tur=\"Surungen\"):    \n",
    "        self.isim=isim\n",
    "        self.tur=tur\n",
    "        self.yas=yas\n",
    "        \n",
    "kus1=Kus(\"Kanarya\",5)\n",
    "kus1.hayvaniTanit()"
   ]
  },
  {
   "cell_type": "code",
   "execution_count": 34,
   "id": "d459539c",
   "metadata": {},
   "outputs": [
    {
     "data": {
      "text/plain": [
       "'Anaconda'"
      ]
     },
     "execution_count": 34,
     "metadata": {},
     "output_type": "execute_result"
    }
   ],
   "source": [
    "yılan1=Yılan(\"Anaconda\",15)\n",
    "yılan1.isim"
   ]
  },
  {
   "cell_type": "code",
   "execution_count": 35,
   "id": "659de2a5",
   "metadata": {},
   "outputs": [
    {
     "name": "stdout",
     "output_type": "stream",
     "text": [
      "Hayvanın Adı= Piton, Türü= Surungen, Yaşı= 5\n"
     ]
    }
   ],
   "source": [
    "yılan2=Yılan(\"Piton\",5)\n",
    "yılan2.hayvaniTanit()"
   ]
  },
  {
   "cell_type": "code",
   "execution_count": 38,
   "id": "060bc7e9",
   "metadata": {},
   "outputs": [
    {
     "name": "stdout",
     "output_type": "stream",
     "text": [
      "Hayvanın Adı= Piton, Türü= Surungen, Yaşı= 5\n"
     ]
    }
   ],
   "source": [
    "HayvanatBahcesi.hayvaniTanit(yılan2)"
   ]
  },
  {
   "cell_type": "markdown",
   "id": "adf584b9",
   "metadata": {},
   "source": [
    "**Düzeltme_1**\n",
    "\n",
    "Yukarıdaki kodu daha kullanışlı hale getirecek olursak her sınıf içersinde \"isim, tur, yas\" özelliklerini tanıtmak yerine.\n",
    "**`super()`** fonksiyonunu kullanabiiriz."
   ]
  },
  {
   "cell_type": "code",
   "execution_count": 39,
   "id": "8cb0ae5c",
   "metadata": {},
   "outputs": [
    {
     "name": "stdout",
     "output_type": "stream",
     "text": [
      "Hayvanın Adı= Kanarya, Türü= Kuş, Yaşı= 5\n"
     ]
    }
   ],
   "source": [
    "class HayvanatBahcesi:\n",
    "    def __init__(self, isim, tur, yas):\n",
    "        self.isim = isim\n",
    "        self.tur = tur\n",
    "        self.yas = yas\n",
    "\n",
    "    def hayvani_tanit(self):\n",
    "        print(f\"Hayvanın Adı= {self.isim}, Türü= {self.tur}, Yaşı= {self.yas}\")\n",
    "\n",
    "class Kus(HayvanatBahcesi):\n",
    "    def __init__(self, isim, yas, tur=\"Kuş\"):\n",
    "        super().__init__(isim, tur, yas)\n",
    "\n",
    "class Kopek(HayvanatBahcesi):\n",
    "    def __init__(self, isim, yas, tur=\"Memeli\"):\n",
    "        super().__init__(isim, tur, yas)\n",
    "\n",
    "class Yilan(HayvanatBahcesi):\n",
    "    def __init__(self, isim, yas, tur=\"Sürüngen\"):\n",
    "        super().__init__(isim, tur, yas)\n",
    "\n",
    "# Kus sınıfından bir örnek oluşturalım\n",
    "kus1 = Kus(\"Kanarya\", 5)\n",
    "\n",
    "# Oluşturduğumuz örneği tanıtalım\n",
    "kus1.hayvani_tanit()\n"
   ]
  },
  {
   "cell_type": "code",
   "execution_count": null,
   "id": "c15bc87c",
   "metadata": {},
   "outputs": [],
   "source": []
  }
 ],
 "metadata": {
  "kernelspec": {
   "display_name": "Python 3 (ipykernel)",
   "language": "python",
   "name": "python3"
  },
  "language_info": {
   "codemirror_mode": {
    "name": "ipython",
    "version": 3
   },
   "file_extension": ".py",
   "mimetype": "text/x-python",
   "name": "python",
   "nbconvert_exporter": "python",
   "pygments_lexer": "ipython3",
   "version": "3.11.5"
  }
 },
 "nbformat": 4,
 "nbformat_minor": 5
}
