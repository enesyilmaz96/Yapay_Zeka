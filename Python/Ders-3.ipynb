{
 "cells": [
  {
   "cell_type": "markdown",
   "id": "6b49ce1d",
   "metadata": {},
   "source": [
    "\n",
    "\n",
    "Kütüphane fonksiyonları kullanma\n",
    "--------------------\n",
    "Bir _kütüphane_ belli bir işlev için hazırlanan fonksiyonların topluluğudur. \n",
    "\n",
    "Kütüphaneler diskimize kurulu olarak hazır bekliyor olsalar da, onları kullanmak için önce `import` komutuyla yorumlayıcıya yüklememiz gerekir."
   ]
  },
  {
   "cell_type": "code",
   "execution_count": 1,
   "id": "20364a3a",
   "metadata": {},
   "outputs": [
    {
     "name": "stdout",
     "output_type": "stream",
     "text": [
      "1.4142135623730951\n",
      "1.0\n"
     ]
    }
   ],
   "source": [
    "import math\n",
    "print( math.sqrt(2) )\n",
    "print( math.sin(math.pi/2) )"
   ]
  },
  {
   "cell_type": "markdown",
   "id": "f90bd41c",
   "metadata": {},
   "source": [
    "\n",
    "Yükleme sırasında modülün adını değiştirebiliriz. Özellikle uzun isimli modülleri daha kısa isimle kullanmak için bu özellik faydalı olur."
   ]
  },
  {
   "cell_type": "code",
   "execution_count": 2,
   "id": "a9d60852",
   "metadata": {},
   "outputs": [
    {
     "name": "stdout",
     "output_type": "stream",
     "text": [
      "1.4142135623730951\n",
      "1.0\n"
     ]
    }
   ],
   "source": [
    "import math as m\n",
    "print( m.sqrt(2) )\n",
    "print( m.sin(m.pi/2) )"
   ]
  },
  {
   "cell_type": "markdown",
   "id": "a8aaf03f",
   "metadata": {},
   "source": [
    "Veya, modüldeki bütün isimlere ihtiyacınız yoksa, onları mevcut isim alanınıza tek tek belirleyerek alabilirsiniz. İsim değiştirme burada da geçerlidir. Modül içindeki isimleri değiştirerek alabilirsiniz."
   ]
  },
  {
   "cell_type": "code",
   "execution_count": 1,
   "id": "0e656368",
   "metadata": {},
   "outputs": [
    {
     "name": "stdout",
     "output_type": "stream",
     "text": [
      "1.4142135623730951\n",
      "1.0\n"
     ]
    }
   ],
   "source": [
    "from math import sqrt, sin\n",
    "from math import pi as π\n",
    "print( sqrt(2) )\n",
    "print( sin(π/2) )"
   ]
  },
  {
   "cell_type": "markdown",
   "id": "043d876d",
   "metadata": {},
   "source": [
    "(Jupyter defterinin kod hücresinde $\\pi$ yazmak için `\\pi` yazın ve `Tab` tuşuna basın.)\n",
    "\n",
    "Başka bir alternatif, modüldeki bütün isimleri mevcut isim alanına yüklemektir."
   ]
  },
  {
   "cell_type": "code",
   "execution_count": 4,
   "id": "0dd14acf",
   "metadata": {},
   "outputs": [
    {
     "data": {
      "text/plain": [
       "(-1.0, 0.9999999999999999)"
      ]
     },
     "execution_count": 4,
     "metadata": {},
     "output_type": "execute_result"
    }
   ],
   "source": [
    "from math import *\n",
    "cos(pi), tan(pi/4)"
   ]
  },
  {
   "cell_type": "markdown",
   "id": "1fde46cf",
   "metadata": {},
   "source": [
    "\n",
    "Bir modülde tanımlı bütün isimlere `dir` fonksiyonuyla erişilebilir."
   ]
  },
  {
   "cell_type": "code",
   "execution_count": 5,
   "id": "3533995c",
   "metadata": {},
   "outputs": [
    {
     "data": {
      "text/plain": [
       "['__doc__',\n",
       " '__file__',\n",
       " '__loader__',\n",
       " '__name__',\n",
       " '__package__',\n",
       " '__spec__',\n",
       " 'acos',\n",
       " 'acosh',\n",
       " 'asin',\n",
       " 'asinh',\n",
       " 'atan',\n",
       " 'atan2',\n",
       " 'atanh',\n",
       " 'ceil',\n",
       " 'copysign',\n",
       " 'cos',\n",
       " 'cosh',\n",
       " 'degrees',\n",
       " 'e',\n",
       " 'erf',\n",
       " 'erfc',\n",
       " 'exp',\n",
       " 'expm1',\n",
       " 'fabs',\n",
       " 'factorial',\n",
       " 'floor',\n",
       " 'fmod',\n",
       " 'frexp',\n",
       " 'fsum',\n",
       " 'gamma',\n",
       " 'gcd',\n",
       " 'hypot',\n",
       " 'inf',\n",
       " 'isclose',\n",
       " 'isfinite',\n",
       " 'isinf',\n",
       " 'isnan',\n",
       " 'ldexp',\n",
       " 'lgamma',\n",
       " 'log',\n",
       " 'log10',\n",
       " 'log1p',\n",
       " 'log2',\n",
       " 'modf',\n",
       " 'nan',\n",
       " 'pi',\n",
       " 'pow',\n",
       " 'radians',\n",
       " 'sin',\n",
       " 'sinh',\n",
       " 'sqrt',\n",
       " 'tan',\n",
       " 'tanh',\n",
       " 'tau',\n",
       " 'trunc']"
      ]
     },
     "execution_count": 5,
     "metadata": {},
     "output_type": "execute_result"
    }
   ],
   "source": [
    "import math\n",
    "dir(math)"
   ]
  },
  {
   "cell_type": "code",
   "execution_count": 6,
   "id": "15a6f9c9",
   "metadata": {},
   "outputs": [
    {
     "name": "stdout",
     "output_type": "stream",
     "text": [
      "Help on built-in function sin in module math:\n",
      "\n",
      "sin(...)\n",
      "    sin(x)\n",
      "    \n",
      "    Return the sine of x (measured in radians).\n",
      "\n"
     ]
    }
   ],
   "source": [
    "help(sin)"
   ]
  },
  {
   "cell_type": "markdown",
   "id": "7409bdf2",
   "metadata": {},
   "source": [
    "# Fonksiyon Tanımlama\n"
   ]
  },
  {
   "cell_type": "code",
   "execution_count": 5,
   "id": "ef482705",
   "metadata": {},
   "outputs": [
    {
     "name": "stdout",
     "output_type": "stream",
     "text": [
      "ilk fonksiyonum yazdırılıyor\n"
     ]
    }
   ],
   "source": [
    "def ilkFonksiyon():\n",
    "    print(\"ilk fonksiyonum yazdırılıyor\")\n",
    "    \n",
    "ilkFonksiyon()"
   ]
  },
  {
   "cell_type": "code",
   "execution_count": 7,
   "id": "587cfeab",
   "metadata": {},
   "outputs": [
    {
     "name": "stdout",
     "output_type": "stream",
     "text": [
      "ab\n"
     ]
    }
   ],
   "source": [
    "def f1(x):\n",
    "    print(x)\n",
    "\n",
    "f1(3)  # parantez içine ne yazarsanız çıktı olarak onu alanızı sağlar."
   ]
  },
  {
   "cell_type": "code",
   "execution_count": 9,
   "id": "22e97bcc",
   "metadata": {},
   "outputs": [
    {
     "name": "stdout",
     "output_type": "stream",
     "text": [
      "merhaba\n",
      "12.75\n",
      "(2, 37)\n"
     ]
    },
    {
     "data": {
      "text/plain": [
       "(None, None, None)"
      ]
     },
     "execution_count": 9,
     "metadata": {},
     "output_type": "execute_result"
    }
   ],
   "source": [
    "f1(\"merhaba\"), f1(3.0*4.25), f1( (2,37) )"
   ]
  },
  {
   "cell_type": "code",
   "execution_count": 28,
   "id": "852792a9",
   "metadata": {},
   "outputs": [],
   "source": [
    "def superToplama(num1, num2, num3):\n",
    "    print(num1+num2+num3)"
   ]
  },
  {
   "cell_type": "code",
   "execution_count": 29,
   "id": "a985fbe3",
   "metadata": {},
   "outputs": [
    {
     "name": "stdout",
     "output_type": "stream",
     "text": [
      "60\n"
     ]
    }
   ],
   "source": [
    "superToplama(10,20,30)"
   ]
  },
  {
   "cell_type": "markdown",
   "id": "0f390652",
   "metadata": {},
   "source": [
    "## Return\n",
    "\n",
    "Eğer return komutu kullanılamazsa fonksiyon çalışır gerekli sonucu bulur fakat sonuç fonksiyon içerisinde kalır döndürülmez. \n",
    "\n",
    "Aşağıdaki örnekte `return`komutu kullanılmamıştır. Fonksiyon çağırıldığında sonuç hesaplanır döndürülmediği için görülmez."
   ]
  },
  {
   "cell_type": "code",
   "execution_count": 16,
   "id": "fabcf915",
   "metadata": {},
   "outputs": [],
   "source": [
    "def carp(a,b):\n",
    "    a*b\n",
    "carp(2,-7)"
   ]
  },
  {
   "cell_type": "markdown",
   "id": "d161cf0d",
   "metadata": {},
   "source": [
    "Aşağıdaki yöntemle sonucu görmek mümkündür fakat sonuç sadece ekrana yazdırılır. Başka bir hücrede bu değişkeni kullanmak mümkün değildir."
   ]
  },
  {
   "cell_type": "code",
   "execution_count": 18,
   "id": "541921c9",
   "metadata": {},
   "outputs": [
    {
     "name": "stdout",
     "output_type": "stream",
     "text": [
      "-14\n"
     ]
    }
   ],
   "source": [
    "def carp(a,b):\n",
    "    print(a*b)\n",
    "carp(2,-7)"
   ]
  },
  {
   "cell_type": "code",
   "execution_count": 22,
   "id": "e363a06d",
   "metadata": {},
   "outputs": [
    {
     "name": "stdout",
     "output_type": "stream",
     "text": [
      "Ekrana yazdırılıyor = -14\n"
     ]
    }
   ],
   "source": [
    "def carp(a,b):\n",
    "    print(\"Ekrana yazdırılıyor =\",a*b)\n",
    "\n",
    "sonuc=carp(2,-7)\n",
    "sonuc  # Sonuc değişkenini Output olarak göremiyoruz. Çünkü fonksiyon içerisnde return edilmedi."
   ]
  },
  {
   "cell_type": "code",
   "execution_count": 25,
   "id": "db8a3028",
   "metadata": {},
   "outputs": [
    {
     "name": "stdout",
     "output_type": "stream",
     "text": [
      "Sonuc ekrana yazdırılır ve return ediliyor = -14\n"
     ]
    },
    {
     "data": {
      "text/plain": [
       "-14"
      ]
     },
     "execution_count": 25,
     "metadata": {},
     "output_type": "execute_result"
    }
   ],
   "source": [
    "def carp(a,b):\n",
    "    print(\"Sonuc ekrana yazdırılır ve return ediliyor =\",a*b)\n",
    "    return a*b  # Bu sayede carp fonksiyonu output olarak a*b sonucunu verecek.\n",
    "\n",
    "\n",
    "sonuc = carp (2,-7)  # Fonksiyonu çağırdık ve a=2, b=-7 değerlerini verdik.\n",
    "sonuc  # Return ettiğimiz için artık fonksiyon sonucu \"sonuc\" değişkenine atandı ve Ouput olarak görebiliriz."
   ]
  },
  {
   "cell_type": "markdown",
   "id": "586a5c70",
   "metadata": {},
   "source": [
    "Fonksiyondan elde edilen sonucu başka işlemlerde de kullanmak mümkündür."
   ]
  },
  {
   "cell_type": "code",
   "execution_count": 27,
   "id": "b72473e1",
   "metadata": {},
   "outputs": [
    {
     "name": "stdout",
     "output_type": "stream",
     "text": [
      "Sonuc ekrana yazdırılır ve return ediliyor = -14\n"
     ]
    },
    {
     "data": {
      "text/plain": [
       "-11"
      ]
     },
     "execution_count": 27,
     "metadata": {},
     "output_type": "execute_result"
    }
   ],
   "source": [
    "y = carp(2, -7)\n",
    "y + 3\n"
   ]
  },
  {
   "cell_type": "markdown",
   "id": "75c72a61",
   "metadata": {},
   "source": [
    "**String ile çarpma**\n"
   ]
  },
  {
   "cell_type": "code",
   "execution_count": 11,
   "id": "44737cb8",
   "metadata": {},
   "outputs": [
    {
     "data": {
      "text/plain": [
       "'merhabamerhabamerhaba'"
      ]
     },
     "execution_count": 11,
     "metadata": {},
     "output_type": "execute_result"
    }
   ],
   "source": [
    "carp(\"merhaba\",3)"
   ]
  },
  {
   "cell_type": "code",
   "execution_count": 12,
   "id": "47047d0a",
   "metadata": {},
   "outputs": [
    {
     "ename": "TypeError",
     "evalue": "can't multiply sequence by non-int of type 'str'",
     "output_type": "error",
     "traceback": [
      "\u001b[0;31m---------------------------------------------------------------------------\u001b[0m",
      "\u001b[0;31mTypeError\u001b[0m                                 Traceback (most recent call last)",
      "\u001b[0;32m<ipython-input-12-5dfbcca2560b>\u001b[0m in \u001b[0;36m<module>\u001b[0;34m()\u001b[0m\n\u001b[0;32m----> 1\u001b[0;31m \u001b[0mcarp\u001b[0m\u001b[0;34m(\u001b[0m\u001b[0;34m\"merhaba\"\u001b[0m\u001b[0;34m,\u001b[0m\u001b[0;34m\"dunya\"\u001b[0m\u001b[0;34m)\u001b[0m\u001b[0;34m\u001b[0m\u001b[0m\n\u001b[0m",
      "\u001b[0;32m<ipython-input-9-c813e8533fc7>\u001b[0m in \u001b[0;36mcarp\u001b[0;34m(a, b)\u001b[0m\n\u001b[1;32m      1\u001b[0m \u001b[0;32mdef\u001b[0m \u001b[0mcarp\u001b[0m\u001b[0;34m(\u001b[0m\u001b[0ma\u001b[0m\u001b[0;34m,\u001b[0m\u001b[0mb\u001b[0m\u001b[0;34m)\u001b[0m\u001b[0;34m:\u001b[0m\u001b[0;34m\u001b[0m\u001b[0m\n\u001b[0;32m----> 2\u001b[0;31m     \u001b[0;32mreturn\u001b[0m \u001b[0ma\u001b[0m\u001b[0;34m*\u001b[0m\u001b[0mb\u001b[0m\u001b[0;34m\u001b[0m\u001b[0m\n\u001b[0m\u001b[1;32m      3\u001b[0m \u001b[0;34m\u001b[0m\u001b[0m\n\u001b[1;32m      4\u001b[0m \u001b[0mcarp\u001b[0m\u001b[0;34m(\u001b[0m\u001b[0;36m2\u001b[0m\u001b[0;34m,\u001b[0m\u001b[0;34m-\u001b[0m\u001b[0;36m7\u001b[0m\u001b[0;34m)\u001b[0m\u001b[0;34m\u001b[0m\u001b[0m\n",
      "\u001b[0;31mTypeError\u001b[0m: can't multiply sequence by non-int of type 'str'"
     ]
    }
   ],
   "source": [
    "carp(\"merhaba\",\"dunya\")  # string bir değer string ile çarpılamaz."
   ]
  },
  {
   "cell_type": "markdown",
   "id": "57fe199e",
   "metadata": {},
   "source": [
    "\n",
    "\n",
    "Birkaç tane değer geri verme\n",
    "---------------------\n",
    "\n"
   ]
  },
  {
   "cell_type": "code",
   "execution_count": 29,
   "id": "7d760c1c",
   "metadata": {},
   "outputs": [
    {
     "name": "stdout",
     "output_type": "stream",
     "text": [
      "Toplam = 8 Fark = -2\n"
     ]
    }
   ],
   "source": [
    "def f(x, y):\n",
    "    return x+y, x-y\n",
    "\n",
    "toplam, fark = f(3,5)\n",
    "print(\"Toplam =\",toplam, \"Fark =\", fark)"
   ]
  },
  {
   "cell_type": "code",
   "execution_count": 28,
   "id": "41d71d2e",
   "metadata": {},
   "outputs": [
    {
     "name": "stdout",
     "output_type": "stream",
     "text": [
      "Toplam = 8, Fark = -2\n"
     ]
    }
   ],
   "source": [
    "def f(x, y):\n",
    "    return x+y, x-y\n",
    "\n",
    "toplam, fark = f(3,5)\n",
    "print(\"Toplam = {}, Fark = {}\".format(toplam,fark))"
   ]
  },
  {
   "cell_type": "markdown",
   "id": "a3db3550",
   "metadata": {},
   "source": [
    "Fonksiyon veren fonksiyonlar\n",
    "--------------------------------"
   ]
  },
  {
   "cell_type": "code",
   "execution_count": 14,
   "id": "1af96111",
   "metadata": {
    "collapsed": true
   },
   "outputs": [],
   "source": [
    "test = True\n",
    "if test:\n",
    "    def f1(): print(5)\n",
    "else:\n",
    "    def f2(): print(10)"
   ]
  },
  {
   "cell_type": "code",
   "execution_count": 15,
   "id": "07e80eb3",
   "metadata": {},
   "outputs": [
    {
     "name": "stdout",
     "output_type": "stream",
     "text": [
      "5\n"
     ]
    }
   ],
   "source": [
    "f1()"
   ]
  },
  {
   "cell_type": "code",
   "execution_count": 16,
   "id": "f27949c6",
   "metadata": {},
   "outputs": [
    {
     "ename": "NameError",
     "evalue": "name 'f2' is not defined",
     "output_type": "error",
     "traceback": [
      "\u001b[0;31m---------------------------------------------------------------------------\u001b[0m",
      "\u001b[0;31mNameError\u001b[0m                                 Traceback (most recent call last)",
      "\u001b[0;32m<ipython-input-16-fdec4c1c071f>\u001b[0m in \u001b[0;36m<module>\u001b[0;34m()\u001b[0m\n\u001b[0;32m----> 1\u001b[0;31m \u001b[0mf2\u001b[0m\u001b[0;34m(\u001b[0m\u001b[0;34m)\u001b[0m\u001b[0;34m\u001b[0m\u001b[0m\n\u001b[0m",
      "\u001b[0;31mNameError\u001b[0m: name 'f2' is not defined"
     ]
    }
   ],
   "source": [
    "f2()"
   ]
  },
  {
   "cell_type": "markdown",
   "id": "bddec7d2",
   "metadata": {},
   "source": [
    "`def` komutu atama (`=`) işlemi gibi çalışır."
   ]
  },
  {
   "cell_type": "code",
   "execution_count": 17,
   "id": "21ffaceb",
   "metadata": {},
   "outputs": [
    {
     "name": "stdout",
     "output_type": "stream",
     "text": [
      "5\n"
     ]
    }
   ],
   "source": [
    "yenifonk = f1\n",
    "yenifonk()"
   ]
  },
  {
   "cell_type": "markdown",
   "id": "531d97fb",
   "metadata": {},
   "source": [
    "İki ismin de aynı nesneye işaret ettiğini `is` komutuyla doğrulayabiliriz."
   ]
  },
  {
   "cell_type": "code",
   "execution_count": 18,
   "id": "86ce40d6",
   "metadata": {},
   "outputs": [
    {
     "data": {
      "text/plain": [
       "True"
      ]
     },
     "execution_count": 18,
     "metadata": {},
     "output_type": "execute_result"
    }
   ],
   "source": [
    "yenifonk is f1"
   ]
  },
  {
   "cell_type": "markdown",
   "id": "6ff1ccdb",
   "metadata": {},
   "source": [
    "Yine aynı dinamik özellik sayesinde, <em>fonksiyon veren fonksiyonlar</em> (\"fonksiyon fabrikaları\") tanımlanabilir."
   ]
  },
  {
   "cell_type": "code",
   "execution_count": 19,
   "id": "ca0b623b",
   "metadata": {
    "collapsed": true
   },
   "outputs": [],
   "source": [
    "def kuvvetfonk(n):\n",
    "    def fonk(x):\n",
    "        return x**n\n",
    "    return fonk"
   ]
  },
  {
   "cell_type": "markdown",
   "id": "b36a81bb",
   "metadata": {},
   "source": [
    "Buradaki `kuvvetfonk` fonksiyonu, aldığı parametreyi kullanarak yarattığı bir fonksiyon nesnesini verir. Bu fonksiyon nesnesine bir isim atayıp bu isimle çalıştırabiliriz."
   ]
  },
  {
   "cell_type": "code",
   "execution_count": 20,
   "id": "552b98f2",
   "metadata": {},
   "outputs": [
    {
     "data": {
      "text/plain": [
       "(25, 125)"
      ]
     },
     "execution_count": 20,
     "metadata": {},
     "output_type": "execute_result"
    }
   ],
   "source": [
    "kare = kuvvetfonk(2)\n",
    "kup = kuvvetfonk(3)\n",
    "kare(5), kup(5)"
   ]
  },
  {
   "cell_type": "markdown",
   "id": "5e94eff6",
   "metadata": {},
   "source": [
    "Aslında bu fonksiyon nesneleri bir isme atamadan da çağrılabilir, ama her seferinde bu fonksiyonlar baştan yaratılacağı için hesaplama açısından verimsiz olur."
   ]
  },
  {
   "cell_type": "code",
   "execution_count": 21,
   "id": "9e969f95",
   "metadata": {},
   "outputs": [
    {
     "data": {
      "text/plain": [
       "(25, 125)"
      ]
     },
     "execution_count": 21,
     "metadata": {},
     "output_type": "execute_result"
    }
   ],
   "source": [
    "kuvvetfonk(2)(5), kuvvetfonk(3)(5)"
   ]
  },
  {
   "cell_type": "markdown",
   "id": "a40494aa",
   "metadata": {},
   "source": [
    "Fonksiyon alan fonksiyonlar\n",
    "------------------------------\n",
    "Fonksiyonlar, başka fonksiyonları parametre olarak alabilirler. Basit bir örnek olarak, $\\sum_{i=a}^{b} f(i)$ toplamını veren bir fonksiyon yazalım."
   ]
  },
  {
   "cell_type": "code",
   "execution_count": 22,
   "id": "e024380f",
   "metadata": {
    "collapsed": true
   },
   "outputs": [],
   "source": [
    "def fntoplam(f, a, b):\n",
    "    i = a\n",
    "    toplam = 0\n",
    "    while i<=b:\n",
    "        toplam += f(i)\n",
    "        i += 1\n",
    "    return toplam\n",
    "\n",
    "def f1(x):\n",
    "    return 1.0/x\n",
    "\n",
    "def f2(x):\n",
    "    return 2.0**-x"
   ]
  },
  {
   "cell_type": "code",
   "execution_count": 23,
   "id": "621b8933",
   "metadata": {},
   "outputs": [
    {
     "data": {
      "text/plain": [
       "2.9289682539682538"
      ]
     },
     "execution_count": 23,
     "metadata": {},
     "output_type": "execute_result"
    }
   ],
   "source": [
    "fntoplam(f1, 1, 10)     # def f1(x)' e göre işlem yapacak her değeri (1-10) x'e (yani i) bölerek toplayacak."
   ]
  },
  {
   "cell_type": "code",
   "execution_count": 24,
   "id": "dc0b68de",
   "metadata": {},
   "outputs": [
    {
     "data": {
      "text/plain": [
       "0.9990234375"
      ]
     },
     "execution_count": 24,
     "metadata": {},
     "output_type": "execute_result"
    }
   ],
   "source": [
    "fntoplam(f2, 1, 10)   # def f2(x)' e göre işlem yapacak her değerin (1-10) 2^-x' ini alacak ve toplayacak"
   ]
  },
  {
   "cell_type": "markdown",
   "id": "ac13f0cf",
   "metadata": {},
   "source": [
    "Değiştirilebilir parametreler\n",
    "-------------------------\n",
    "Fonksiyonlara, listeler gibi değiştirilebilir (mutable) parametreler veriyorsanız, ve bunlar fonksiyon içinde değiştiriliyorsa, bu değişiklik kalıcı olur."
   ]
  },
  {
   "cell_type": "code",
   "execution_count": 25,
   "id": "7e772d58",
   "metadata": {},
   "outputs": [
    {
     "name": "stdout",
     "output_type": "stream",
     "text": [
      "[-10, 2, 3]\n"
     ]
    }
   ],
   "source": [
    "def f(x):\n",
    "    x[0] = -10\n",
    "    print(x)\n",
    "\n",
    "x = [1,2,3]\n",
    "f(x)"
   ]
  },
  {
   "cell_type": "code",
   "execution_count": 26,
   "id": "19135f8e",
   "metadata": {},
   "outputs": [
    {
     "data": {
      "text/plain": [
       "[-10, 2, 3]"
      ]
     },
     "execution_count": 26,
     "metadata": {},
     "output_type": "execute_result"
    }
   ],
   "source": [
    "x"
   ]
  },
  {
   "cell_type": "markdown",
   "id": "7141bac6",
   "metadata": {},
   "source": [
    "Değişken ufku, yerel ve global değişkenler (Local, Enclosing, Global, Built-In)\n",
    "----------------\n",
    "Bir fonksiyon blokunun dışında ve içinde aynı isimde değişkenler kullanırsanız, içeride olanın değeri kullanılır olur. Fonksiyon, dıştaki değişkenin değerini değiştirmez."
   ]
  },
  {
   "cell_type": "code",
   "execution_count": 27,
   "id": "64021234",
   "metadata": {},
   "outputs": [
    {
     "name": "stdout",
     "output_type": "stream",
     "text": [
      "20\n"
     ]
    }
   ],
   "source": [
    "x = 10\n",
    "def f():\n",
    "    x = 20\n",
    "    print(x)\n",
    "\n",
    "f()"
   ]
  },
  {
   "cell_type": "code",
   "execution_count": 28,
   "id": "64dda913",
   "metadata": {},
   "outputs": [
    {
     "data": {
      "text/plain": [
       "10"
      ]
     },
     "execution_count": 28,
     "metadata": {},
     "output_type": "execute_result"
    }
   ],
   "source": [
    "x"
   ]
  },
  {
   "cell_type": "markdown",
   "id": "1d673e9b",
   "metadata": {},
   "source": [
    "\n",
    "Bir seviye daha karmaşık bir örnek olarak, `f` fonksiyonu içinde başka bir fonksiyon tanımlayalım."
   ]
  },
  {
   "cell_type": "code",
   "execution_count": 33,
   "id": "c7f8c025",
   "metadata": {},
   "outputs": [
    {
     "name": "stdout",
     "output_type": "stream",
     "text": [
      "(Global) x = 10\n",
      "f içinde (Enclosing) x = 20\n",
      "g içinde (Local) x = 30\n"
     ]
    }
   ],
   "source": [
    "x = 10\n",
    "print(\"(Global) x =\",x)\n",
    "def f():\n",
    "    x = 20\n",
    "    print(\"f içinde (Enclosing) x =\",x)\n",
    "    def g():\n",
    "        x = 30\n",
    "        print(\"g içinde (Local) x =\", x)\n",
    "    g()\n",
    "f()"
   ]
  },
  {
   "cell_type": "markdown",
   "id": "5e4c0ec5",
   "metadata": {},
   "source": [
    "**x** değişkenini çağırdığımızda `Global`olan değerin geleceğini görebiliriz."
   ]
  },
  {
   "cell_type": "code",
   "execution_count": 52,
   "id": "c66216d3",
   "metadata": {
    "scrolled": true
   },
   "outputs": [
    {
     "data": {
      "text/plain": [
       "10"
      ]
     },
     "execution_count": 52,
     "metadata": {},
     "output_type": "execute_result"
    }
   ],
   "source": [
    "x"
   ]
  },
  {
   "cell_type": "code",
   "execution_count": 58,
   "id": "8ac975f1",
   "metadata": {},
   "outputs": [],
   "source": [
    "benimAdim = \"Enes\"\n",
    "#Global\n",
    "\n",
    "def benimFonksiyonum():\n",
    "    benimAdim = \"Mahmut\"\n",
    "    #Enclosing\n",
    "    \n",
    "    def icFonksiyon():\n",
    "        benimAdim = \"Rıza\"\n",
    "        #Local\n",
    "        print(benimAdim)\n",
    "    \n",
    "    icFonksiyon()"
   ]
  },
  {
   "cell_type": "code",
   "execution_count": 64,
   "id": "b97b11fc",
   "metadata": {},
   "outputs": [
    {
     "name": "stdout",
     "output_type": "stream",
     "text": [
      "Rıza\n"
     ]
    }
   ],
   "source": [
    "benimFonksiyonum()"
   ]
  },
  {
   "cell_type": "code",
   "execution_count": 55,
   "id": "e5fdb8c6",
   "metadata": {
    "scrolled": true
   },
   "outputs": [
    {
     "name": "stdout",
     "output_type": "stream",
     "text": [
      "Enes\n"
     ]
    }
   ],
   "source": [
    "print(benimAdim)"
   ]
  },
  {
   "cell_type": "code",
   "execution_count": 72,
   "id": "785d86a7",
   "metadata": {},
   "outputs": [],
   "source": [
    "y = 10\n",
    "\n",
    "def yeniFonksiyon(y):\n",
    "    print(\"y değeri\",y,\"olarak girilmiştir.\")\n",
    "    y = 5\n",
    "    print(\"Girdiğiniz y değeri\",y,\"ile değiştirilmiştir.\")\n",
    "    return y  # Output olarak y'nin son değerini döndürür"
   ]
  },
  {
   "cell_type": "code",
   "execution_count": 73,
   "id": "a8afac13",
   "metadata": {},
   "outputs": [
    {
     "name": "stdout",
     "output_type": "stream",
     "text": [
      "y değeri 3 olarak girilmiştir.\n",
      "Girdiğiniz y değeri 5 ile değiştirilmiştir.\n"
     ]
    },
    {
     "data": {
      "text/plain": [
       "5"
      ]
     },
     "execution_count": 73,
     "metadata": {},
     "output_type": "execute_result"
    }
   ],
   "source": [
    "yeniFonksiyon(3)"
   ]
  },
  {
   "cell_type": "code",
   "execution_count": 74,
   "id": "f0bc9d46",
   "metadata": {},
   "outputs": [
    {
     "data": {
      "text/plain": [
       "10"
      ]
     },
     "execution_count": 74,
     "metadata": {},
     "output_type": "execute_result"
    }
   ],
   "source": [
    "y # Sonucu return etsek bile global y değişkeni 10 olduğu için y hala 10'a eşittir"
   ]
  },
  {
   "cell_type": "code",
   "execution_count": 68,
   "id": "d38e2b55",
   "metadata": {},
   "outputs": [
    {
     "name": "stdout",
     "output_type": "stream",
     "text": [
      "y değeri 3 olarak girilmiştir.\n",
      "Girdiğiniz y değeri 5 ile değiştirilmiştir.\n"
     ]
    }
   ],
   "source": [
    "y = yeniFonksiyon(3) # Eğer değişkenimizi fonksiyon sonucuna eşitlersek y artık return edilen değere eşit olur."
   ]
  },
  {
   "cell_type": "code",
   "execution_count": 65,
   "id": "8469a4ab",
   "metadata": {},
   "outputs": [
    {
     "data": {
      "text/plain": [
       "5"
      ]
     },
     "execution_count": 65,
     "metadata": {},
     "output_type": "execute_result"
    }
   ],
   "source": [
    "y"
   ]
  },
  {
   "cell_type": "markdown",
   "id": "8c7d2be2",
   "metadata": {},
   "source": [
    "\n",
    "\n",
    "Peki, diyelim ki tam tersini istiyoruz. Yani, bir fonksiyon içinde, fonksiyonun dışında tanımlanmış bir değişkene yeni bir değer atamak istiyoruz. Somut olarak, iki önceki örnekte, fonksiyon çalıştıktan sonra `x`'in 20 olmasını istiyoruz. Bunu, fonksiyon içinde `global` komutuyla sağlarız."
   ]
  },
  {
   "cell_type": "code",
   "execution_count": 61,
   "id": "390e89e8",
   "metadata": {},
   "outputs": [],
   "source": [
    "y = 10\n",
    "\n",
    "def ornekFonksiyon():\n",
    "    global y\n",
    "    y = 5\n",
    "    print(y)"
   ]
  },
  {
   "cell_type": "code",
   "execution_count": 62,
   "id": "02d959a2",
   "metadata": {},
   "outputs": [
    {
     "name": "stdout",
     "output_type": "stream",
     "text": [
      "5\n"
     ]
    }
   ],
   "source": [
    "ornekFonksiyon()"
   ]
  },
  {
   "cell_type": "code",
   "execution_count": 63,
   "id": "f913e1b9",
   "metadata": {},
   "outputs": [
    {
     "data": {
      "text/plain": [
       "5"
      ]
     },
     "execution_count": 63,
     "metadata": {},
     "output_type": "execute_result"
    }
   ],
   "source": [
    "y"
   ]
  },
  {
   "cell_type": "code",
   "execution_count": 30,
   "id": "98d93493",
   "metadata": {},
   "outputs": [
    {
     "name": "stdout",
     "output_type": "stream",
     "text": [
      "x = 20\n"
     ]
    }
   ],
   "source": [
    "x = 10\n",
    "def f():\n",
    "    global x\n",
    "    x = 20\n",
    "\n",
    "f()\n",
    "print(\"x =\",x)"
   ]
  },
  {
   "cell_type": "markdown",
   "id": "c3de33c1",
   "metadata": {},
   "source": [
    "\n",
    "\n",
    "Belgeleme dizeleri\n",
    "---------------------\n"
   ]
  },
  {
   "cell_type": "code",
   "execution_count": 76,
   "id": "3efda28a",
   "metadata": {},
   "outputs": [],
   "source": [
    "def fntoplam(f, a, b):\n",
    "    \"\"\"f(a) + f(a+1) + ... + f(b) toplamını döndürür.\"\"\"\n",
    "    i = a\n",
    "    toplam = 0\n",
    "    while i<=b:\n",
    "        toplam += f(i)\n",
    "        i += 1\n",
    "    return toplam"
   ]
  },
  {
   "cell_type": "code",
   "execution_count": 32,
   "id": "18b18469",
   "metadata": {},
   "outputs": [
    {
     "name": "stdout",
     "output_type": "stream",
     "text": [
      "Help on function fntoplam in module __main__:\n",
      "\n",
      "fntoplam(f, a, b)\n",
      "    f(a) + f(a+1) + ... + f(b) toplamını döndürür.\n",
      "\n"
     ]
    }
   ],
   "source": [
    "help(fntoplam)"
   ]
  },
  {
   "attachments": {
    "jupyter_online_help.png": {
     "image/png": "[encoded data removed]"
    }
   },
   "cell_type": "markdown",
   "id": "ca171fd0",
   "metadata": {},
   "source": [
    "Bütünleşik geliştirme ortamlarında (IDE'lerde) çalışırken, fonksiyonu yazdığınız sırada bu belgeleme dizesine ulaşabilirsiniz. Sözgelişi Jupyter defterinde `Shift-Tab` basarsanız bir yardım penceresi açılır.\n",
    "\n",
    "![jupyter_online_help.png](attachment:jupyter_online_help.png)"
   ]
  },
  {
   "cell_type": "markdown",
   "id": "103e6063",
   "metadata": {},
   "source": [
    "\n",
    "\n",
    "Parametre eşleştirme\n",
    "---------------------\n",
    "Aldığı parametreleri ekrana yazan basit bir fonksiyonu ele alalım:"
   ]
  },
  {
   "cell_type": "code",
   "execution_count": 79,
   "id": "a97671db",
   "metadata": {},
   "outputs": [],
   "source": [
    "def f(a,b,c):\n",
    "    print(\"a = {}, b = {}, c = {}\".format(a,b,c))"
   ]
  },
  {
   "cell_type": "markdown",
   "id": "79610f55",
   "metadata": {},
   "source": [
    "Bu fonksiyonu çağırırken üç tane parametre değeri vermemiz gerekir:"
   ]
  },
  {
   "cell_type": "code",
   "execution_count": 2,
   "id": "cca3a843",
   "metadata": {},
   "outputs": [
    {
     "name": "stdout",
     "output_type": "stream",
     "text": [
      "a = 1, b = 2, c = 3\n"
     ]
    }
   ],
   "source": [
    "f(1,2,3)"
   ]
  },
  {
   "cell_type": "markdown",
   "id": "bd47295a",
   "metadata": {},
   "source": [
    "\n",
    "\n",
    "Buna **_konumla eşleştirme_** deniyor: Fonksiyon tanımında isimler hangi sırada verildiyse, fonksiyon çağrısında verilen parametreler de aynı sırayla atanır."
   ]
  },
  {
   "cell_type": "code",
   "execution_count": 3,
   "id": "c130b85d",
   "metadata": {},
   "outputs": [
    {
     "name": "stdout",
     "output_type": "stream",
     "text": [
      "a = 3, b = 2, c = 1\n"
     ]
    }
   ],
   "source": [
    "f(3,2,1)"
   ]
  },
  {
   "cell_type": "markdown",
   "id": "ae0f16c8",
   "metadata": {},
   "source": [
    "Konumla eşleştirmede fonksiyona lüzumundan az veya fazla sayıda parametre vermek bir hata mesajına yol açar."
   ]
  },
  {
   "cell_type": "code",
   "execution_count": 4,
   "id": "a6a19a44",
   "metadata": {},
   "outputs": [
    {
     "ename": "TypeError",
     "evalue": "f() missing 1 required positional argument: 'c'",
     "output_type": "error",
     "traceback": [
      "\u001b[0;31m---------------------------------------------------------------------------\u001b[0m",
      "\u001b[0;31mTypeError\u001b[0m                                 Traceback (most recent call last)",
      "\u001b[0;32m<ipython-input-4-c0c95413393f>\u001b[0m in \u001b[0;36m<module>\u001b[0;34m()\u001b[0m\n\u001b[0;32m----> 1\u001b[0;31m \u001b[0mf\u001b[0m\u001b[0;34m(\u001b[0m\u001b[0;36m1\u001b[0m\u001b[0;34m,\u001b[0m\u001b[0;36m2\u001b[0m\u001b[0;34m)\u001b[0m\u001b[0;34m\u001b[0m\u001b[0m\n\u001b[0m",
      "\u001b[0;31mTypeError\u001b[0m: f() missing 1 required positional argument: 'c'"
     ]
    }
   ],
   "source": [
    "f(1,2)"
   ]
  },
  {
   "cell_type": "code",
   "execution_count": 5,
   "id": "d21fafd9",
   "metadata": {},
   "outputs": [
    {
     "ename": "TypeError",
     "evalue": "f() takes 3 positional arguments but 4 were given",
     "output_type": "error",
     "traceback": [
      "\u001b[0;31m---------------------------------------------------------------------------\u001b[0m",
      "\u001b[0;31mTypeError\u001b[0m                                 Traceback (most recent call last)",
      "\u001b[0;32m<ipython-input-5-525f5b13dc35>\u001b[0m in \u001b[0;36m<module>\u001b[0;34m()\u001b[0m\n\u001b[0;32m----> 1\u001b[0;31m \u001b[0mf\u001b[0m\u001b[0;34m(\u001b[0m\u001b[0;36m1\u001b[0m\u001b[0;34m,\u001b[0m\u001b[0;36m2\u001b[0m\u001b[0;34m,\u001b[0m\u001b[0;36m3\u001b[0m\u001b[0;34m,\u001b[0m\u001b[0;36m4\u001b[0m\u001b[0;34m)\u001b[0m\u001b[0;34m\u001b[0m\u001b[0m\n\u001b[0m",
      "\u001b[0;31mTypeError\u001b[0m: f() takes 3 positional arguments but 4 were given"
     ]
    }
   ],
   "source": [
    "f(1,2,3,4)"
   ]
  },
  {
   "cell_type": "markdown",
   "id": "7b7c693b",
   "metadata": {},
   "source": [
    "Parametreleri eşleştirmenin başka bir yolu fonksiyon çağrısında parametre isimlerini kullanmaktır. O zaman tanımlanma sırasına sadık kalmak gerekli olmaz. Bu yönteme **_isimle eşleştirme_** denir."
   ]
  },
  {
   "cell_type": "code",
   "execution_count": 80,
   "id": "fee997bb",
   "metadata": {},
   "outputs": [
    {
     "name": "stdout",
     "output_type": "stream",
     "text": [
      "a = asdf, b = 1, c = 4\n"
     ]
    }
   ],
   "source": [
    "f(c=4, b=1, a=\"asdf\")"
   ]
  },
  {
   "cell_type": "markdown",
   "id": "f0472448",
   "metadata": {},
   "source": [
    "Konuma göre ve isme göre eşleştirmeler karıştırılabilir de. Bu durumda, öncelikle soldan sağa doğru konumsal eşleştirmeler yapılır, ardından isim eşleştirmeleri yapılır."
   ]
  },
  {
   "cell_type": "code",
   "execution_count": 7,
   "id": "7ec6178e",
   "metadata": {},
   "outputs": [
    {
     "name": "stdout",
     "output_type": "stream",
     "text": [
      "a = 1, b = 2, c = 3\n"
     ]
    }
   ],
   "source": [
    "f(1, c=3, b=2)"
   ]
  },
  {
   "cell_type": "markdown",
   "id": "746abb88",
   "metadata": {},
   "source": [
    "Bir parametre konumla eşleştirilmişse, ardından ayrıca isimle eşleştirmek hata oluşturur."
   ]
  },
  {
   "cell_type": "code",
   "execution_count": 8,
   "id": "9ac4d3c6",
   "metadata": {},
   "outputs": [
    {
     "ename": "TypeError",
     "evalue": "f() got multiple values for argument 'b'",
     "output_type": "error",
     "traceback": [
      "\u001b[0;31m---------------------------------------------------------------------------\u001b[0m",
      "\u001b[0;31mTypeError\u001b[0m                                 Traceback (most recent call last)",
      "\u001b[0;32m<ipython-input-8-ac46997206a4>\u001b[0m in \u001b[0;36m<module>\u001b[0;34m()\u001b[0m\n\u001b[0;32m----> 1\u001b[0;31m \u001b[0mf\u001b[0m\u001b[0;34m(\u001b[0m\u001b[0;36m1\u001b[0m\u001b[0;34m,\u001b[0m \u001b[0;36m2\u001b[0m\u001b[0;34m,\u001b[0m \u001b[0mb\u001b[0m\u001b[0;34m=\u001b[0m\u001b[0;36m9\u001b[0m\u001b[0;34m)\u001b[0m\u001b[0;34m\u001b[0m\u001b[0m\n\u001b[0m",
      "\u001b[0;31mTypeError\u001b[0m: f() got multiple values for argument 'b'"
     ]
    }
   ],
   "source": [
    "f(1, 2, b=9)"
   ]
  },
  {
   "cell_type": "markdown",
   "id": "37818d48",
   "metadata": {},
   "source": [
    "Öncelikli olarak konum eşleştirmesi yapıldığı için, isim eşleştirmelerinden sonra isimsiz bir parametre verilemez."
   ]
  },
  {
   "cell_type": "code",
   "execution_count": 9,
   "id": "7bc0089b",
   "metadata": {},
   "outputs": [
    {
     "ename": "SyntaxError",
     "evalue": "positional argument follows keyword argument (<ipython-input-9-a17b662ec26d>, line 1)",
     "output_type": "error",
     "traceback": [
      "\u001b[0;36m  File \u001b[0;32m\"<ipython-input-9-a17b662ec26d>\"\u001b[0;36m, line \u001b[0;32m1\u001b[0m\n\u001b[0;31m    f(1, b=2, 3)\u001b[0m\n\u001b[0m             ^\u001b[0m\n\u001b[0;31mSyntaxError\u001b[0m\u001b[0;31m:\u001b[0m positional argument follows keyword argument\n"
     ]
    }
   ],
   "source": [
    "f(1, b=2, 3)"
   ]
  },
  {
   "cell_type": "markdown",
   "id": "fc018c0b",
   "metadata": {},
   "source": [
    "\n",
    "\n",
    "Varsayılan değerler\n",
    "--------------------\n"
   ]
  },
  {
   "cell_type": "code",
   "execution_count": 10,
   "id": "2fc0c9aa",
   "metadata": {
    "collapsed": true
   },
   "outputs": [],
   "source": [
    "def f(a, b=2, c=3):\n",
    "    print(\"a = {}, b = {}, c = {}\".format(a,b,c))"
   ]
  },
  {
   "cell_type": "markdown",
   "id": "072e4a5e",
   "metadata": {},
   "source": [
    "Bu fonksiyonu çağırırken `a` için bir değer vermek zorundayız, ama `b` ve `c` için varsayılan değerler kullanılabilir. Yani en az bir, en fazla üç parametre değeri verebiliriz. Bu parametreler konuma göre veya isme göre verilebilir."
   ]
  },
  {
   "cell_type": "code",
   "execution_count": 11,
   "id": "38537f04",
   "metadata": {},
   "outputs": [
    {
     "name": "stdout",
     "output_type": "stream",
     "text": [
      "a = 1, b = 2, c = 3\n",
      "a = 4, b = 2, c = 3\n",
      "a = 1, b = 7, c = 3\n",
      "a = 1, b = hede, c = 6\n",
      "a = 1, b = 2, c = 8\n"
     ]
    }
   ],
   "source": [
    "f(1)    # b ve c varsayılan değerde\n",
    "f(a = 4)  # b ve c varsayılan değerde\n",
    "f(1,7)  # c varsayılan değerde\n",
    "f(1,\"hede\",6)    # hepsine yeni değer\n",
    "f(1,c=8)   # b varsayılan değerde"
   ]
  },
  {
   "cell_type": "markdown",
   "id": "751b2f64",
   "metadata": {},
   "source": [
    "## Belirsiz sayıda parametreler\n",
    "args, kwargs, pargs\n",
    "----------------------------\n"
   ]
  },
  {
   "cell_type": "code",
   "execution_count": 98,
   "id": "c8acc360",
   "metadata": {},
   "outputs": [],
   "source": [
    "def yeniToplama(*args):\n",
    "    return sum(args)"
   ]
  },
  {
   "cell_type": "code",
   "execution_count": 99,
   "id": "f500c46b",
   "metadata": {},
   "outputs": [
    {
     "data": {
      "text/plain": [
       "210"
      ]
     },
     "execution_count": 99,
     "metadata": {},
     "output_type": "execute_result"
    }
   ],
   "source": [
    "yeniToplama(10,20,30,40,50,60)"
   ]
  },
  {
   "cell_type": "code",
   "execution_count": 100,
   "id": "f88082a2",
   "metadata": {},
   "outputs": [
    {
     "data": {
      "text/plain": [
       "30"
      ]
     },
     "execution_count": 100,
     "metadata": {},
     "output_type": "execute_result"
    }
   ],
   "source": [
    "yeniToplama(10,20)"
   ]
  },
  {
   "cell_type": "code",
   "execution_count": 101,
   "id": "ecb96c62",
   "metadata": {},
   "outputs": [],
   "source": [
    "def benimFonksiyonum(*args):\n",
    "    return args"
   ]
  },
  {
   "cell_type": "code",
   "execution_count": 102,
   "id": "4ec24bb5",
   "metadata": {},
   "outputs": [
    {
     "data": {
      "text/plain": [
       "tuple"
      ]
     },
     "execution_count": 102,
     "metadata": {},
     "output_type": "execute_result"
    }
   ],
   "source": [
    "type(benimFonksiyonum(20,30,40))"
   ]
  },
  {
   "cell_type": "markdown",
   "id": "cfd130e3",
   "metadata": {},
   "source": [
    "Fonksiyon içerisine atanacak parametre sayısı belirli olmadığında veya daha sonra yeni parametre değerleri eklenebilir durumda olduğu zaman kullanılır\n",
    "\n",
    "# Konum eşleştirmeli parametreler çokuzu (pargs)"
   ]
  },
  {
   "cell_type": "code",
   "execution_count": 82,
   "id": "02a3a9c5",
   "metadata": {},
   "outputs": [],
   "source": [
    "def f(*par):\n",
    "    print(\"Parametreler:\", par)"
   ]
  },
  {
   "cell_type": "code",
   "execution_count": 83,
   "id": "324d476c",
   "metadata": {},
   "outputs": [
    {
     "name": "stdout",
     "output_type": "stream",
     "text": [
      "Parametreler: ()\n",
      "Parametreler: (3,)\n",
      "Parametreler: (45, (3-4j), 'merhaba', [1, 2, 3])\n"
     ]
    }
   ],
   "source": [
    "f()      # hiç parametre yok, boş çokuz.\n",
    "f(3)     # tek parametre, tekli çokuz.\n",
    "f(45, 3-4j, \"merhaba\", [1,2,3])   # dörtlü çokuz"
   ]
  },
  {
   "cell_type": "markdown",
   "id": "6308d184",
   "metadata": {},
   "source": [
    "**Tek yıldız (*)** ile tanımladığımızda \"a=4\" gibi keyword veremeyiz. "
   ]
  },
  {
   "cell_type": "code",
   "execution_count": 14,
   "id": "031c48b0",
   "metadata": {},
   "outputs": [
    {
     "ename": "TypeError",
     "evalue": "f() got an unexpected keyword argument 'a'",
     "output_type": "error",
     "traceback": [
      "\u001b[0;31m---------------------------------------------------------------------------\u001b[0m",
      "\u001b[0;31mTypeError\u001b[0m                                 Traceback (most recent call last)",
      "\u001b[0;32m<ipython-input-14-251e036e5708>\u001b[0m in \u001b[0;36m<module>\u001b[0;34m()\u001b[0m\n\u001b[0;32m----> 1\u001b[0;31m \u001b[0mf\u001b[0m\u001b[0;34m(\u001b[0m\u001b[0ma\u001b[0m\u001b[0;34m=\u001b[0m\u001b[0;36m4\u001b[0m\u001b[0;34m)\u001b[0m\u001b[0;34m\u001b[0m\u001b[0m\n\u001b[0m",
      "\u001b[0;31mTypeError\u001b[0m: f() got an unexpected keyword argument 'a'"
     ]
    }
   ],
   "source": [
    "f(a=4)"
   ]
  },
  {
   "cell_type": "code",
   "execution_count": 15,
   "id": "eb7fd79d",
   "metadata": {},
   "outputs": [
    {
     "ename": "TypeError",
     "evalue": "f() got an unexpected keyword argument 'a'",
     "output_type": "error",
     "traceback": [
      "\u001b[0;31m---------------------------------------------------------------------------\u001b[0m",
      "\u001b[0;31mTypeError\u001b[0m                                 Traceback (most recent call last)",
      "\u001b[0;32m<ipython-input-15-bb907f52501b>\u001b[0m in \u001b[0;36m<module>\u001b[0;34m()\u001b[0m\n\u001b[0;32m----> 1\u001b[0;31m \u001b[0mf\u001b[0m\u001b[0;34m(\u001b[0m\u001b[0;34m**\u001b[0m\u001b[0;34m{\u001b[0m\u001b[0;34m\"a\"\u001b[0m\u001b[0;34m:\u001b[0m\u001b[0;36m4\u001b[0m\u001b[0;34m}\u001b[0m\u001b[0;34m)\u001b[0m\u001b[0;34m\u001b[0m\u001b[0m\n\u001b[0m",
      "\u001b[0;31mTypeError\u001b[0m: f() got an unexpected keyword argument 'a'"
     ]
    }
   ],
   "source": [
    "f(**{\"a\":4})"
   ]
  },
  {
   "cell_type": "markdown",
   "id": "a0ca4ecb",
   "metadata": {},
   "source": [
    "Böyle bir durumda, parametre paketleme işleminde **_çift yıldız_ (`**`)** kullanırız. O zaman, isimlerle verilmiş bir parametre listesinin bir sözlüğe toplanmasını sağlayabiliriz."
   ]
  },
  {
   "cell_type": "code",
   "execution_count": 86,
   "id": "2732498b",
   "metadata": {},
   "outputs": [],
   "source": [
    "def g(**par):\n",
    "    print(\"Parametreler:\",par)"
   ]
  },
  {
   "cell_type": "code",
   "execution_count": 87,
   "id": "e568bdfb",
   "metadata": {},
   "outputs": [
    {
     "name": "stdout",
     "output_type": "stream",
     "text": [
      "Parametreler: {}\n",
      "Parametreler: {'a': 1, 'b': 4}\n"
     ]
    }
   ],
   "source": [
    "g()\n",
    "g(a=1, b=4)"
   ]
  },
  {
   "cell_type": "code",
   "execution_count": 103,
   "id": "e66f1790",
   "metadata": {},
   "outputs": [
    {
     "ename": "TypeError",
     "evalue": "g() takes 0 positional arguments but 3 were given",
     "output_type": "error",
     "traceback": [
      "\u001b[1;31m---------------------------------------------------------------------------\u001b[0m",
      "\u001b[1;31mTypeError\u001b[0m                                 Traceback (most recent call last)",
      "Cell \u001b[1;32mIn[103], line 1\u001b[0m\n\u001b[1;32m----> 1\u001b[0m g(\u001b[38;5;241m1\u001b[39m,\u001b[38;5;241m2\u001b[39m,\u001b[38;5;241m3\u001b[39m)\n",
      "\u001b[1;31mTypeError\u001b[0m: g() takes 0 positional arguments but 3 were given"
     ]
    }
   ],
   "source": [
    "g(1,2,3)"
   ]
  },
  {
   "cell_type": "markdown",
   "id": "4c446d67",
   "metadata": {},
   "source": [
    "# İsim eşleştirmeli parametreler sözlüğü (kwargs)"
   ]
  },
  {
   "cell_type": "code",
   "execution_count": 89,
   "id": "27bdb1aa",
   "metadata": {},
   "outputs": [],
   "source": [
    "def ornekFonksiyon(**kwargs):\n",
    "    return(kwargs)"
   ]
  },
  {
   "cell_type": "code",
   "execution_count": 90,
   "id": "a10346a8",
   "metadata": {},
   "outputs": [
    {
     "data": {
      "text/plain": [
       "dict"
      ]
     },
     "execution_count": 90,
     "metadata": {},
     "output_type": "execute_result"
    }
   ],
   "source": [
    "type(ornekFonksiyon(muz = 100, elma = 200, ananas = 300))"
   ]
  },
  {
   "cell_type": "code",
   "execution_count": 93,
   "id": "19a8107c",
   "metadata": {},
   "outputs": [],
   "source": [
    "def keyWordKontrolu(**kwargs):\n",
    "    if \"enes\" in kwargs:\n",
    "        print(\"enes var\")\n",
    "    else:\n",
    "        print(\"enes yok\")"
   ]
  },
  {
   "cell_type": "code",
   "execution_count": 96,
   "id": "39293dca",
   "metadata": {},
   "outputs": [
    {
     "name": "stdout",
     "output_type": "stream",
     "text": [
      "enes var\n"
     ]
    }
   ],
   "source": [
    "keyWordKontrolu(enes = 70, zeynep = 50, mehmet = 40)"
   ]
  },
  {
   "cell_type": "markdown",
   "id": "f351e3c1",
   "metadata": {},
   "source": [
    "Daha genel bir fonksiyon arayüzü şöyle yazılabilir."
   ]
  },
  {
   "cell_type": "code",
   "execution_count": 19,
   "id": "e92d7814",
   "metadata": {
    "collapsed": true
   },
   "outputs": [],
   "source": [
    "def f( *pargs, **kwargs ):\n",
    "    print(pargs)    # Konum eşleştirmeli parametreler çokuzu\n",
    "    print(kwargs)   # İsim eşleştirmeli parametreler sözlüğü"
   ]
  },
  {
   "cell_type": "code",
   "execution_count": 20,
   "id": "0e187a39",
   "metadata": {},
   "outputs": [
    {
     "name": "stdout",
     "output_type": "stream",
     "text": [
      "()\n",
      "{}\n"
     ]
    }
   ],
   "source": [
    "f()"
   ]
  },
  {
   "cell_type": "code",
   "execution_count": 21,
   "id": "b3ed29fb",
   "metadata": {
    "scrolled": true
   },
   "outputs": [
    {
     "name": "stdout",
     "output_type": "stream",
     "text": [
      "(1, 2)\n",
      "{'a': 'xyz', 'b': 3.14}\n"
     ]
    }
   ],
   "source": [
    "f(1, 2, a = \"xyz\", b = 3.14)"
   ]
  },
  {
   "cell_type": "markdown",
   "id": "2b63fc32",
   "metadata": {},
   "source": [
    "Böyle tanımlanmış bir fonksiyon hem konum hem de isim eşleştirmeli parametrelerle çalışabilir. Birçok hazır kütüphanede, böyle genel bir arayüzle tanımlanmış fonksiyonlar bulunur.\n",
    "\n",
    "Parametre çözme\n",
    "------------------\n"
   ]
  },
  {
   "cell_type": "code",
   "execution_count": 22,
   "id": "8ec69c86",
   "metadata": {},
   "outputs": [
    {
     "name": "stdout",
     "output_type": "stream",
     "text": [
      "13 9 5 1\n"
     ]
    }
   ],
   "source": [
    "def f(a,b,c,d):\n",
    "    print(d,c,b,a)\n",
    "\n",
    "f(1,5,9,13)"
   ]
  },
  {
   "cell_type": "code",
   "execution_count": 23,
   "id": "f601037a",
   "metadata": {},
   "outputs": [
    {
     "ename": "TypeError",
     "evalue": "f() missing 3 required positional arguments: 'b', 'c', and 'd'",
     "output_type": "error",
     "traceback": [
      "\u001b[0;31m---------------------------------------------------------------------------\u001b[0m",
      "\u001b[0;31mTypeError\u001b[0m                                 Traceback (most recent call last)",
      "\u001b[0;32m<ipython-input-23-3a2b3f8aa072>\u001b[0m in \u001b[0;36m<module>\u001b[0;34m()\u001b[0m\n\u001b[1;32m      1\u001b[0m \u001b[0mx\u001b[0m \u001b[0;34m=\u001b[0m \u001b[0;34m(\u001b[0m\u001b[0;36m1\u001b[0m\u001b[0;34m,\u001b[0m\u001b[0;36m5\u001b[0m\u001b[0;34m,\u001b[0m\u001b[0;36m9\u001b[0m\u001b[0;34m,\u001b[0m\u001b[0;36m13\u001b[0m\u001b[0;34m)\u001b[0m\u001b[0;34m\u001b[0m\u001b[0m\n\u001b[0;32m----> 2\u001b[0;31m \u001b[0mf\u001b[0m\u001b[0;34m(\u001b[0m\u001b[0mx\u001b[0m\u001b[0;34m)\u001b[0m\u001b[0;34m\u001b[0m\u001b[0m\n\u001b[0m",
      "\u001b[0;31mTypeError\u001b[0m: f() missing 3 required positional arguments: 'b', 'c', and 'd'"
     ]
    }
   ],
   "source": [
    "x = (1,5,9,13)\n",
    "f(x)"
   ]
  },
  {
   "cell_type": "markdown",
   "id": "55052efb",
   "metadata": {},
   "source": [
    "\n",
    "Eğer fonksiyon çağrısını `f(*x)` şeklinde yazarsak `x`'in elemanları tek tek alınıp parametre olarak `f`'ye verilir ve sorunsuzca çalışır. Bu işleme _parametre çözme_ (argument unpacking) deniyor."
   ]
  },
  {
   "cell_type": "code",
   "execution_count": 24,
   "id": "bc893399",
   "metadata": {},
   "outputs": [
    {
     "name": "stdout",
     "output_type": "stream",
     "text": [
      "13 9 5 1\n"
     ]
    }
   ],
   "source": [
    "f(*x)"
   ]
  },
  {
   "cell_type": "markdown",
   "id": "b686f05b",
   "metadata": {},
   "source": [
    "Parametreler başka bir sıralı veri tipinde (liste, dize) saklanıyorsa da aynı işlem geçerli olur."
   ]
  },
  {
   "cell_type": "code",
   "execution_count": 25,
   "id": "5fcac439",
   "metadata": {},
   "outputs": [
    {
     "name": "stdout",
     "output_type": "stream",
     "text": [
      "4 3 2 1\n",
      "t z y x\n"
     ]
    }
   ],
   "source": [
    "f(*[1,2,3,4])\n",
    "f(*\"xyzt\")"
   ]
  },
  {
   "cell_type": "markdown",
   "id": "99ae32d8",
   "metadata": {},
   "source": [
    "Fonksiyonda parametre isimlerini `a, b, c, d` olarak tanımlamıştık. Bu isimleri kullanarak isim eşleştirmesi yapmak isteyebiliriz. Burada parametre çözme işlemi uygularken çokuz kullanamayız çünkü çokuzda parametre isimleri mevcut değil, sadece değerler mevcut. Bu durumda parametre çözmeyi `**` notasyonu kullanarak, parametre isimlerini ve değerlerini içeren bir sözlükle yapmalıyız."
   ]
  },
  {
   "cell_type": "code",
   "execution_count": 26,
   "id": "4fa60b40",
   "metadata": {},
   "outputs": [
    {
     "name": "stdout",
     "output_type": "stream",
     "text": [
      "4 3 2 1\n"
     ]
    }
   ],
   "source": [
    "D = {'b':2, 'd':4, 'a':1, 'c':3}\n",
    "f(**D)"
   ]
  },
  {
   "cell_type": "markdown",
   "id": "364395a9",
   "metadata": {},
   "source": [
    "İki yaklaşımı birleştirmek de mümkün:"
   ]
  },
  {
   "cell_type": "code",
   "execution_count": 27,
   "id": "ca1d3041",
   "metadata": {},
   "outputs": [
    {
     "name": "stdout",
     "output_type": "stream",
     "text": [
      "[5, 6] merhaba 2 1\n"
     ]
    }
   ],
   "source": [
    "f( *(1,2), **{'c':\"merhaba\", 'd':[5,6]} )"
   ]
  },
  {
   "cell_type": "markdown",
   "id": "9c8920ca",
   "metadata": {},
   "source": [
    "Lambda Fonksiyonlar\n",
    "------------\n",
    "\n",
    "İsimsiz fonksiyon oluşturmak için kullanılır. Aynı işlemleri **`def`** ile de yapmak mümkündür. "
   ]
  },
  {
   "cell_type": "code",
   "execution_count": 105,
   "id": "f939a363",
   "metadata": {},
   "outputs": [],
   "source": [
    "f = lambda x: x*x"
   ]
  },
  {
   "cell_type": "markdown",
   "id": "fc9eb650",
   "metadata": {},
   "source": [
    "Bundan sonra `f` alıştığımız şekilde bir fonksiyon olarak kullanılabilir."
   ]
  },
  {
   "cell_type": "code",
   "execution_count": 106,
   "id": "2befaec1",
   "metadata": {},
   "outputs": [
    {
     "data": {
      "text/plain": [
       "(1.44, 16, 256)"
      ]
     },
     "execution_count": 106,
     "metadata": {},
     "output_type": "execute_result"
    }
   ],
   "source": [
    "f(1.2), f(4), f(f(4))"
   ]
  },
  {
   "cell_type": "code",
   "execution_count": 107,
   "id": "a70f5ca2",
   "metadata": {},
   "outputs": [],
   "source": [
    "carpma = lambda numara : numara * 3"
   ]
  },
  {
   "cell_type": "code",
   "execution_count": 108,
   "id": "0f41ab87",
   "metadata": {},
   "outputs": [
    {
     "data": {
      "text/plain": [
       "30"
      ]
     },
     "execution_count": 108,
     "metadata": {},
     "output_type": "execute_result"
    }
   ],
   "source": [
    "carpma(10)"
   ]
  },
  {
   "cell_type": "markdown",
   "id": "28e67587",
   "metadata": {},
   "source": [
    "Nitekim aynı `f` fonksiyonunu `def` ile de tanımlayabilirdik."
   ]
  },
  {
   "cell_type": "code",
   "execution_count": 3,
   "id": "ced860e5",
   "metadata": {
    "collapsed": true
   },
   "outputs": [],
   "source": [
    "def f(x): return x*x"
   ]
  },
  {
   "cell_type": "code",
   "execution_count": 4,
   "id": "64a76d9b",
   "metadata": {},
   "outputs": [
    {
     "data": {
      "text/plain": [
       "(1.44, 16, 256)"
      ]
     },
     "execution_count": 4,
     "metadata": {},
     "output_type": "execute_result"
    }
   ],
   "source": [
    "f(1.2), f(4), f(f(4))"
   ]
  },
  {
   "cell_type": "markdown",
   "id": "0044ff06",
   "metadata": {},
   "source": [
    "\n",
    "\n",
    "Elbette `lambda` ile yaratılan fonksiyon nesnesi tek başına da kullanılabilir."
   ]
  },
  {
   "cell_type": "code",
   "execution_count": 5,
   "id": "64390adb",
   "metadata": {},
   "outputs": [
    {
     "data": {
      "text/plain": [
       "1.44"
      ]
     },
     "execution_count": 5,
     "metadata": {},
     "output_type": "execute_result"
    }
   ],
   "source": [
    "(lambda x: x*x)(1.2)"
   ]
  },
  {
   "cell_type": "markdown",
   "id": "6bbeb0bb",
   "metadata": {},
   "source": [
    " $f(a) + f(a+1) + f(a+2) +\\cdots + f(b)$ toplamını hesaplayan bir fonksiyon yazalım. \n",
    " Bu toplamı veren fonksiyonu şöyle tanımlayabiliriz:"
   ]
  },
  {
   "cell_type": "code",
   "execution_count": 6,
   "id": "e6aa0a71",
   "metadata": {
    "collapsed": true
   },
   "outputs": [],
   "source": [
    "def seritoplam(f, a, b):\n",
    "    toplam = 0\n",
    "    x = a\n",
    "    while x<=b:\n",
    "        toplam += f(x)\n",
    "        x += 1\n",
    "    return toplam"
   ]
  },
  {
   "cell_type": "code",
   "execution_count": 7,
   "id": "a94688f9",
   "metadata": {},
   "outputs": [
    {
     "data": {
      "text/plain": [
       "1.9990234375"
      ]
     },
     "execution_count": 7,
     "metadata": {},
     "output_type": "execute_result"
    }
   ],
   "source": [
    "def g(x): return 2.0**(-x)\n",
    "\n",
    "seritoplam(g, 0, 10)"
   ]
  },
  {
   "cell_type": "markdown",
   "id": "e0e6fd42",
   "metadata": {},
   "source": [
    "Aynısını bir isimsiz fonksiyonla şöyle yapabiliriz:"
   ]
  },
  {
   "cell_type": "code",
   "execution_count": 8,
   "id": "920bb59c",
   "metadata": {},
   "outputs": [
    {
     "data": {
      "text/plain": [
       "1.9990234375"
      ]
     },
     "execution_count": 8,
     "metadata": {},
     "output_type": "execute_result"
    }
   ],
   "source": [
    "seritoplam( lambda x: 2.0**(-x), 0, 10 )"
   ]
  },
  {
   "cell_type": "markdown",
   "id": "1c9a40be",
   "metadata": {},
   "source": [
    "\n",
    "\n",
    "`seritoplam` fonksiyonunu birçok farklı fonksiyon parametresi vererek denemek istiyor olabilirsiniz. Mesela $ 1+ 1/2 + 1/3 + \\cdots + 1/10$ toplamını bulalım:"
   ]
  },
  {
   "cell_type": "code",
   "execution_count": 9,
   "id": "cb40e862",
   "metadata": {},
   "outputs": [
    {
     "data": {
      "text/plain": [
       "2.9289682539682538"
      ]
     },
     "execution_count": 9,
     "metadata": {},
     "output_type": "execute_result"
    }
   ],
   "source": [
    "seritoplam( lambda x: 1/x, 1, 10 )"
   ]
  },
  {
   "cell_type": "markdown",
   "id": "13e11761",
   "metadata": {},
   "source": [
    "Bir listenin elemanlarını sıralamak için `sorted` fonksiyonu kullanılabilir. "
   ]
  },
  {
   "cell_type": "code",
   "execution_count": 10,
   "id": "d5cb0085",
   "metadata": {},
   "outputs": [
    {
     "data": {
      "text/plain": [
       "[-5.6, -3.4, -1.2, 2.3, 4.0, 6.1, 7.8, 8.5]"
      ]
     },
     "execution_count": 10,
     "metadata": {},
     "output_type": "execute_result"
    }
   ],
   "source": [
    "L = [ 6.1, 2.3, -5.6, 8.5, 4.0, -1.2, -3.4, 7.8]\n",
    "sorted(L)"
   ]
  },
  {
   "cell_type": "markdown",
   "id": "feb8f4f4",
   "metadata": {},
   "source": [
    "listedaki sayıların _mutlak değerlerine_ göre sıralamak için `key` parametresine `abs` fonksiyonunu verebilirsiniz."
   ]
  },
  {
   "cell_type": "code",
   "execution_count": 11,
   "id": "061c6380",
   "metadata": {},
   "outputs": [
    {
     "data": {
      "text/plain": [
       "[-1.2, 2.3, -3.4, 4.0, -5.6, 6.1, 7.8, 8.5]"
      ]
     },
     "execution_count": 11,
     "metadata": {},
     "output_type": "execute_result"
    }
   ],
   "source": [
    "sorted(L, key=abs)"
   ]
  },
  {
   "cell_type": "markdown",
   "id": "d524ff79",
   "metadata": {},
   "source": [
    "Gördüğünüz gibi burada da fonksiyon alan bir fonksiyonumuz var. Aynı sıralamayı bir isimsiz fonksiyonla şöyle elde ederdik."
   ]
  },
  {
   "cell_type": "code",
   "execution_count": 12,
   "id": "c85e0372",
   "metadata": {},
   "outputs": [
    {
     "data": {
      "text/plain": [
       "[-1.2, 2.3, -3.4, 4.0, -5.6, 6.1, 7.8, 8.5]"
      ]
     },
     "execution_count": 12,
     "metadata": {},
     "output_type": "execute_result"
    }
   ],
   "source": [
    "sorted(L, key=lambda x: x if x>0 else -x)"
   ]
  },
  {
   "cell_type": "markdown",
   "id": "c5ecbc81",
   "metadata": {},
   "source": [
    "Üçlü if-else yapısını [başka bir bölümde](http://www.veridefteri.com/2017/12/16/python-programlamaya-giris-secim-yapma-mantik-islemleri-karsilastirmalar/) daha ayrıntılı işlemiştik.\n",
    "\n",
    "Başka bir örnek olarak, listelerden oluşan bir listeyi sıralamayı ele alalım. `key` parametresini kullanmadan `sorted` ilk elemana göre sıralama yapar."
   ]
  },
  {
   "cell_type": "code",
   "execution_count": 13,
   "id": "1b7691ee",
   "metadata": {},
   "outputs": [
    {
     "data": {
      "text/plain": [
       "[[-2, 'guten tag'], [1, 'merhaba'], [6, 'hello']]"
      ]
     },
     "execution_count": 13,
     "metadata": {},
     "output_type": "execute_result"
    }
   ],
   "source": [
    "L = [ [1, \"merhaba\"], [6, \"hello\"], [-2, \"guten tag\"] ]\n",
    "sorted(L)"
   ]
  },
  {
   "cell_type": "markdown",
   "id": "5747e4e2",
   "metadata": {},
   "source": [
    "Eğer ikinci elemana göre sıralama yapmak istiyorsak, `key` parametresine listenin ikinci elemanını (1 indeksli) veren bir fonksiyon koyarız."
   ]
  },
  {
   "cell_type": "code",
   "execution_count": 14,
   "id": "085fafb4",
   "metadata": {},
   "outputs": [
    {
     "data": {
      "text/plain": [
       "[[-2, 'guten tag'], [6, 'hello'], [1, 'merhaba']]"
      ]
     },
     "execution_count": 14,
     "metadata": {},
     "output_type": "execute_result"
    }
   ],
   "source": [
    "sorted(L, key = lambda i: i[1])"
   ]
  },
  {
   "cell_type": "markdown",
   "id": "f54effce",
   "metadata": {},
   "source": [
    "**Örnek: Sayısal integral hesaplama**\n",
    "\n",
    "\n",
    "Bir belirli integrali sayısal olarak hesaplamanın pek çok yöntemi vardır. Bunlara şimdilik hiç girmeden, SciPy paketi içindeki integral alma modülünü kullanalım ve $\\int_{-2}^4 6x^3 - 4x^2\\, \\mathrm{d}x$ integralini hesaplayalım."
   ]
  },
  {
   "cell_type": "code",
   "execution_count": 15,
   "id": "0c415ed9",
   "metadata": {},
   "outputs": [
    {
     "data": {
      "text/plain": [
       "(264.00000000000006, 3.703317987014864e-12)"
      ]
     },
     "execution_count": 15,
     "metadata": {},
     "output_type": "execute_result"
    }
   ],
   "source": [
    "import scipy.integrate\n",
    "\n",
    "scipy.integrate.quad(lambda x: 6*x**3 - 4*x**2, -2, 4)"
   ]
  },
  {
   "cell_type": "markdown",
   "id": "d85feadb",
   "metadata": {},
   "source": [
    "\n",
    "\n",
    "İsimsiz fonksiyonlarda parametre kullanımı kuralları isimli fonksiyonlardakilerle aynıdır. Örneğin birden fazla parametre alabilirler."
   ]
  },
  {
   "cell_type": "code",
   "execution_count": 16,
   "id": "79feece7",
   "metadata": {},
   "outputs": [
    {
     "data": {
      "text/plain": [
       "9"
      ]
     },
     "execution_count": 16,
     "metadata": {},
     "output_type": "execute_result"
    }
   ],
   "source": [
    "f = lambda x, y: x+y\n",
    "f(4,5)"
   ]
  },
  {
   "cell_type": "code",
   "execution_count": 17,
   "id": "8dcdd818",
   "metadata": {},
   "outputs": [
    {
     "data": {
      "text/plain": [
       "'helloworld'"
      ]
     },
     "execution_count": 17,
     "metadata": {},
     "output_type": "execute_result"
    }
   ],
   "source": [
    "f(\"hello\",\"world\")"
   ]
  },
  {
   "cell_type": "markdown",
   "id": "adaa0201",
   "metadata": {},
   "source": [
    "Parametre paketleme / parametre çözme kuralları isimsiz fonksiyonlarda da aynen geçerlidir."
   ]
  },
  {
   "cell_type": "code",
   "execution_count": 18,
   "id": "b30c2392",
   "metadata": {},
   "outputs": [
    {
     "data": {
      "text/plain": [
       "15.25"
      ]
     },
     "execution_count": 18,
     "metadata": {},
     "output_type": "execute_result"
    }
   ],
   "source": [
    "g = lambda *p : sum(p)\n",
    "g(0.25, 2, 13)"
   ]
  },
  {
   "cell_type": "markdown",
   "id": "cbfbbb20",
   "metadata": {},
   "source": [
    "Parametrelere varsayılan değerler atanabilir."
   ]
  },
  {
   "cell_type": "code",
   "execution_count": 109,
   "id": "c3ca082c",
   "metadata": {
    "scrolled": true
   },
   "outputs": [
    {
     "name": "stdout",
     "output_type": "stream",
     "text": [
      "9\n",
      "243\n"
     ]
    }
   ],
   "source": [
    "h = lambda x, n=2: x**n  # üst alma. Varsayılan kuvvet 2.\n",
    "print(h(3)) # 3**2\n",
    "print(h(3,5)) # 3**5"
   ]
  },
  {
   "cell_type": "markdown",
   "id": "03b30ce1",
   "metadata": {},
   "source": [
    "## map"
   ]
  },
  {
   "cell_type": "code",
   "execution_count": 119,
   "id": "ef7c689f",
   "metadata": {},
   "outputs": [],
   "source": [
    "def bolmeIslemi(numara):\n",
    "    return numara / 2"
   ]
  },
  {
   "cell_type": "code",
   "execution_count": 120,
   "id": "c7f28dd9",
   "metadata": {},
   "outputs": [
    {
     "data": {
      "text/plain": [
       "10.0"
      ]
     },
     "execution_count": 120,
     "metadata": {},
     "output_type": "execute_result"
    }
   ],
   "source": [
    "bolmeIslemi(20)"
   ]
  },
  {
   "cell_type": "code",
   "execution_count": 121,
   "id": "196c2813",
   "metadata": {},
   "outputs": [],
   "source": [
    "benimListem = [1,2,3,4,5,6,7,8,9,10]"
   ]
  },
  {
   "cell_type": "code",
   "execution_count": 122,
   "id": "7f9c1aad",
   "metadata": {},
   "outputs": [],
   "source": [
    "yeniListe = []\n",
    "for eleman in benimListem:\n",
    "    yeniListe.append(bolmeIslemi(eleman))"
   ]
  },
  {
   "cell_type": "code",
   "execution_count": 123,
   "id": "5fcb566a",
   "metadata": {},
   "outputs": [
    {
     "data": {
      "text/plain": [
       "[0.5, 1.0, 1.5, 2.0, 2.5, 3.0, 3.5, 4.0, 4.5, 5.0]"
      ]
     },
     "execution_count": 123,
     "metadata": {},
     "output_type": "execute_result"
    }
   ],
   "source": [
    "yeniListe"
   ]
  },
  {
   "cell_type": "code",
   "execution_count": 124,
   "id": "8eaeeb44",
   "metadata": {},
   "outputs": [
    {
     "data": {
      "text/plain": [
       "[0.5, 1.0, 1.5, 2.0, 2.5, 3.0, 3.5, 4.0, 4.5, 5.0]"
      ]
     },
     "execution_count": 124,
     "metadata": {},
     "output_type": "execute_result"
    }
   ],
   "source": [
    "list(map(bolmeIslemi,benimListem))"
   ]
  },
  {
   "cell_type": "code",
   "execution_count": 112,
   "id": "aa46975d",
   "metadata": {},
   "outputs": [],
   "source": [
    "def kontrolFonksiyonu(string):\n",
    "    return \"a\" in string"
   ]
  },
  {
   "cell_type": "code",
   "execution_count": 113,
   "id": "28860617",
   "metadata": {},
   "outputs": [
    {
     "data": {
      "text/plain": [
       "True"
      ]
     },
     "execution_count": 113,
     "metadata": {},
     "output_type": "execute_result"
    }
   ],
   "source": [
    "kontrolFonksiyonu(\"atıl\")"
   ]
  },
  {
   "cell_type": "code",
   "execution_count": 114,
   "id": "63330943",
   "metadata": {},
   "outputs": [
    {
     "data": {
      "text/plain": [
       "False"
      ]
     },
     "execution_count": 114,
     "metadata": {},
     "output_type": "execute_result"
    }
   ],
   "source": [
    "kontrolFonksiyonu(\"zeynep\")"
   ]
  },
  {
   "cell_type": "code",
   "execution_count": 115,
   "id": "5cbc6a4c",
   "metadata": {},
   "outputs": [],
   "source": [
    "stringListesi = [\"atıl\",\"samancıoğlu\",\"atlas\",\"zeynep\",\"mehmet\",\"ahmet\",\"levent\"]"
   ]
  },
  {
   "cell_type": "code",
   "execution_count": 116,
   "id": "924878d7",
   "metadata": {},
   "outputs": [],
   "source": [
    "sonucListesi = list(map(kontrolFonksiyonu,stringListesi))"
   ]
  },
  {
   "cell_type": "code",
   "execution_count": 117,
   "id": "45f71621",
   "metadata": {},
   "outputs": [
    {
     "data": {
      "text/plain": [
       "3"
      ]
     },
     "execution_count": 117,
     "metadata": {},
     "output_type": "execute_result"
    }
   ],
   "source": [
    "sonucListesi.count(False)"
   ]
  },
  {
   "cell_type": "markdown",
   "id": "0bdb9398",
   "metadata": {},
   "source": [
    "## filter"
   ]
  },
  {
   "cell_type": "code",
   "execution_count": 20,
   "id": "b050eedc",
   "metadata": {},
   "outputs": [
    {
     "data": {
      "text/plain": [
       "['atıl', 'samancıoğlu', 'atlas', 'ahmet']"
      ]
     },
     "execution_count": 20,
     "metadata": {},
     "output_type": "execute_result"
    }
   ],
   "source": [
    "list(filter(kontrolFonksiyonu,stringListesi))"
   ]
  }
 ],
 "metadata": {
  "kernelspec": {
   "display_name": "Python 3 (ipykernel)",
   "language": "python",
   "name": "python3"
  },
  "language_info": {
   "codemirror_mode": {
    "name": "ipython",
    "version": 3
   },
   "file_extension": ".py",
   "mimetype": "text/x-python",
   "name": "python",
   "nbconvert_exporter": "python",
   "pygments_lexer": "ipython3",
   "version": "3.11.5"
  }
 },
 "nbformat": 4,
 "nbformat_minor": 5
}
