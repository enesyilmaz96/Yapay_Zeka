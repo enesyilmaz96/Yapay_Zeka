{
 "cells": [
  {
   "cell_type": "markdown",
   "id": "ef067d88",
   "metadata": {},
   "source": [
    "# COMPREHENSIONS"
   ]
  },
  {
   "cell_type": "markdown",
   "id": "5adc0fa9",
   "metadata": {},
   "source": [
    "### Enumerate: Otomatik Counter/Indexer ile for döngüsü için"
   ]
  },
  {
   "cell_type": "markdown",
   "id": "f1a162df",
   "metadata": {},
   "source": [
    " İlk iki döngü, öğrenci listesinde dolaşmayı ve öğrencileri ekrana yazdırmayı sağlar. Üçüncü döngü, öğrencileri indekslerine göre iki farklı liste olan A ve B'ye ayırır. Çift indekslere sahip öğrenciler A listesine eklenir, tek indekslere sahip olanlar ise B listesine eklenir."
   ]
  },
  {
   "cell_type": "code",
   "execution_count": 3,
   "id": "f2947bfb",
   "metadata": {},
   "outputs": [
    {
     "name": "stdout",
     "output_type": "stream",
     "text": [
      "John\n",
      "Mark\n",
      "Venessa\n",
      "Mariam\n"
     ]
    }
   ],
   "source": [
    "# Öğrenci listesini oluşturun\n",
    "students = [\"John\", \"Mark\", \"Venessa\", \"Mariam\"]\n",
    "\n",
    "# Tüm öğrencileri ekrana yazdırın\n",
    "for student in students:\n",
    "    print(student)"
   ]
  },
  {
   "cell_type": "code",
   "execution_count": 4,
   "id": "a76cd3b5",
   "metadata": {},
   "outputs": [
    {
     "name": "stdout",
     "output_type": "stream",
     "text": [
      "0 John\n",
      "1 Mark\n",
      "2 Venessa\n",
      "3 Mariam\n"
     ]
    }
   ],
   "source": [
    "# Enumerate kullanarak öğrencileri ve indekslerini ekrana yazdırın\n",
    "for index, student in enumerate(students):\n",
    "    print(index, student)\n",
    "\n",
    "# A ve B adında iki boş liste oluşturun\n",
    "A = []\n",
    "B = []\n",
    "\n",
    "# Öğrencileri indekslerine göre A ve B listelerine ayırın\n",
    "for index, student in enumerate(students):\n",
    "    if index % 2 == 0:\n",
    "        # İndeks çiftse A listesine ekle\n",
    "        A.append(student)\n",
    "    else:\n",
    "        # İndeks tekse B listesine ekle\n",
    "        B.append(student)\n"
   ]
  },
  {
   "cell_type": "markdown",
   "id": "c9ed9afd",
   "metadata": {},
   "source": [
    "## List Comprehension\n",
    "\n",
    "List Comprehension, Python programlama dilinde, listenin içinde döngüler ve koşullar kullanarak yeni bir liste oluşturmayı sağlayan kısa ve özlü bir syntax (söz dizimi) yöntemidir. Bu, bir liste oluşturmak için daha okunabilir ve kompakt bir yol sunar.\n",
    "\n",
    "Genel formül şu şekildedir:\n",
    "\n",
    "```python\n",
    "new_list = [expression for item in iterable if condition]\n",
    "```\n",
    "\n",
    "- `expression`: Her bir elemana uygulanacak ifade.\n",
    "- `item`: Her bir eleman.\n",
    "- `iterable`: Döngüde kullanılacak olan veri yapısı (liste, dize, demet vb.).\n",
    "- `condition` (isteğe bağlı): Bir filtreleme koşulu. Bu koşul sağlandığında sadece elemanın eklenmesini sağlar.\n",
    "\n",
    "Örneğin, bir listenin elemanlarının karesini almak istediğinizi düşünelim:\n",
    "\n",
    "```python\n",
    "original_list = [1, 2, 3, 4, 5]\n",
    "squared_list = [x**2 for x in original_list]\n",
    "```\n",
    "\n",
    "Bu, `squared_list` adında yeni bir liste oluşturacak ve bu liste, `original_list`'teki her elemanın karesini içerecektir.\n",
    "\n",
    "List Comprehension, kodunuzu daha kısa ve okunabilir hale getirebilir, ancak çok karmaşık veya okunması zor hale gelebileceği durumlar için aşırı kullanımından kaçınılmalıdır. Örneğin;"
   ]
  },
  {
   "cell_type": "markdown",
   "id": "33043c76",
   "metadata": {},
   "source": [
    "Bu kod, her bir maaşı yüzde 20 artıran bir fonksiyon içerir ve bu fonksiyonu kullanarak verilen maaş listesindeki her bir maaşı günceller. Döngü, her güncellenmiş maaşı ekrana yazdırır."
   ]
  },
  {
   "cell_type": "code",
   "execution_count": 18,
   "id": "b37d638b",
   "metadata": {},
   "outputs": [
    {
     "name": "stdout",
     "output_type": "stream",
     "text": [
      "1200.0\n",
      "2400.0\n",
      "3600.0\n",
      "4800.0\n",
      "6000.0\n"
     ]
    }
   ],
   "source": [
    "# Maaşları içeren bir liste oluşturun\n",
    "salaries = [1000, 2000, 3000, 4000, 5000]\n",
    "\n",
    "# Yeni maaş hesaplamak için bir fonksiyon tanımlayın\n",
    "def new_salary(x):\n",
    "    # Maaşı artıran formülü uygulayın (yüzde 20 artış)\n",
    "    return x * 20 / 100 + x\n",
    "\n",
    "# Her bir maaşı yeni maaş formülüne göre hesaplayın ve ekrana yazdırın\n",
    "for salary in salaries:\n",
    "    print(new_salary(salary))\n",
    "   "
   ]
  },
  {
   "cell_type": "markdown",
   "id": "a4c4dac5",
   "metadata": {},
   "source": [
    "Bu kod, **salaries** adlı bir maaş listesi içindeki her bir elemanı alır, bu elemanı **new_salary** fonksiyonuna gönderir ve fonksiyonun döndürdüğü değeri **null_list** adlı boş bir listeye ekler. Yani, her bir maaşı yeni bir maaş formülüne göre hesaplar ve bu hesaplanan maaşları içeren bir **null_list** oluşturur."
   ]
  },
  {
   "cell_type": "code",
   "execution_count": 11,
   "id": "ad65ab2d",
   "metadata": {},
   "outputs": [
    {
     "name": "stdout",
     "output_type": "stream",
     "text": [
      "[1200.0, 2400.0, 3600.0, 4800.0, 6000.0]\n"
     ]
    }
   ],
   "source": [
    "# Boş bir liste oluşturun\n",
    "null_list = []\n",
    "\n",
    "# Her bir maaşı new_salary fonksiyonuna gönderip, elde edilen sonuçları null_list'e ekleyin\n",
    "for salary in salaries:\n",
    "    null_list.append(new_salary(salary))\n",
    "    \n",
    "print(null_list)"
   ]
  },
  {
   "cell_type": "markdown",
   "id": "039e3e47",
   "metadata": {},
   "source": [
    "Bu kod, `salaries` adlı maaş listesindeki her bir elemanı alır. Eğer maaş 3000'den büyükse, o maaşı doğrudan `new_salary` fonksiyonuna gönderir ve elde edilen sonucu `null_list` adlı boş bir liste içine ekler. Eğer maaş 3000'den küçükse, maaşı iki katına çıkarıp (`salary * 2`), bu değeri `new_salary` fonksiyonuna gönderir ve elde edilen sonucu yine `null_list` içine ekler. Bu şekilde, her bir maaşı farklı bir kuralla işleyerek yeni bir liste oluşturmuş oluyorsunuz."
   ]
  },
  {
   "cell_type": "code",
   "execution_count": 15,
   "id": "985fb230",
   "metadata": {},
   "outputs": [
    {
     "name": "stdout",
     "output_type": "stream",
     "text": [
      "[2400.0, 4800.0, 3600.0, 4800.0, 6000.0]\n"
     ]
    }
   ],
   "source": [
    "# Boş bir liste oluşturun\n",
    "null_list = []\n",
    "\n",
    "# Maaşları kontrol edin ve yeni maaşları null_list'e ekleyin\n",
    "for salary in salaries:\n",
    "    if salary >= 3000:\n",
    "        # Eğer maaş 3000'den büyükse, new_salary fonksiyonunu doğrudan uygulayın\n",
    "        null_list.append(new_salary(salary))\n",
    "    else:\n",
    "        # Eğer maaş 3000'den küçükse, maaşı iki katına çıkarıp new_salary fonksiyonunu uygulayın\n",
    "        null_list.append(new_salary(salary * 2))\n",
    "print(null_list)"
   ]
  },
  {
   "cell_type": "markdown",
   "id": "6e9c7458",
   "metadata": {},
   "source": [
    "Şimdu bu yukarıdaki kodu **List Comprehension** kullanarak tek bir satırda yazalım;\n",
    "\n",
    "Bu ifade, List Comprehension kullanarak, verilen `salaries` listesindeki her bir maaşı belirli bir koşula göre işleyerek yeni bir liste oluşturur. İşte bu ifadeyi açıklamalarla birlikte:\n",
    "\n",
    "Bu ifade, `salaries` listesindeki her bir `salary` değeri için şu işlemi gerçekleştirir:\n",
    "\n",
    "- Eğer `salary` 3000'den küçükse, `salary`'yi iki katına çıkarıp (`salary * 2`), `new_salary` fonksiyonuna gönderir.\n",
    "- Eğer `salary` 3000'den büyük veya eşitse, `salary`'yi doğrudan `new_salary` fonksiyonuna gönderir.\n"
   ]
  },
  {
   "cell_type": "code",
   "execution_count": 20,
   "id": "f357dcdb",
   "metadata": {},
   "outputs": [
    {
     "data": {
      "text/plain": [
       "[2400.0, 4800.0, 3600.0, 4800.0, 6000.0]"
      ]
     },
     "execution_count": 20,
     "metadata": {},
     "output_type": "execute_result"
    }
   ],
   "source": [
    "# Yeni maaşları içeren bir liste oluşturun, her bir maaşı belirli bir koşula göre işleyerek\n",
    "[new_salary(salary * 2) if salary < 3000 else new_salary(salary) for salary in salaries]"
   ]
  },
  {
   "cell_type": "markdown",
   "id": "95bb129b",
   "metadata": {},
   "source": [
    "İstersen kodu çeşitlendirebiliriz;\n",
    "\n",
    "Bu ifade, `salaries` listesindeki her bir `salary` değeri için şu işlemi gerçekleştirir:\n",
    "\n",
    "- Eğer `salary` 3000'den küçükse, `salary`'yi iki katına çıkarıp (`salary * 2`), `new_salary` fonksiyonuna gönderir.\n",
    "- Eğer `salary` 3000'den büyük veya eşitse, `salary`'yi 0.2 katına çıkarıp (`salary * 0.2`), yani %20'sini alıp, bu değeri `new_salary` fonksiyonuna gönderir."
   ]
  },
  {
   "cell_type": "code",
   "execution_count": 22,
   "id": "c0b7e666",
   "metadata": {},
   "outputs": [
    {
     "data": {
      "text/plain": [
       "[2400.0, 4800.0, 720.0, 960.0, 1200.0]"
      ]
     },
     "execution_count": 22,
     "metadata": {},
     "output_type": "execute_result"
    }
   ],
   "source": [
    "# Yeni maaşları içeren bir liste oluşturun, her bir maaşı belirli bir koşula göre işleyerek\n",
    "[new_salary(salary * 2) if salary < 3000 else new_salary(salary * 0.2) for salary in salaries]"
   ]
  },
  {
   "cell_type": "markdown",
   "id": "7b78504e",
   "metadata": {},
   "source": [
    "# Dict Comprehension\n",
    "\n",
    "Sözlük (dictionary) oluşturmak için kullanılan bir yöntem olan \"dictionary comprehension\" veya Türkçe adıyla \"sözlük anlama\" ifadesi, list comprehension'ın sözlük veri türüne uyarlanmış bir versiyonudur. List comprehension ile benzer bir syntax'a sahiptir, ancak sonuç olarak bir sözlük elde edersiniz.\n",
    "\n",
    "Genel syntax şu şekildedir:\n",
    "\n",
    "```python\n",
    "{key_expression: value_expression for item in iterable}\n",
    "```\n",
    "\n",
    "Burada:\n",
    "- `key_expression`: Her öğe için anahtarın değerini belirten ifade.\n",
    "- `value_expression`: Her öğe için değeri belirten ifade.\n",
    "- `item`: İterasyon sırasında her bir öğeyi temsil eden değişken.\n",
    "- `iterable`: İterasyonun gerçekleştirildiği veri yapısı.\n",
    "\n",
    "Örnek olarak, bir liste içindeki her elemanın karesini içeren bir sözlük oluşturabilirsiniz:\n",
    "\n",
    "```python\n",
    "my_list = [1, 2, 3, 4, 5]\n",
    "my_dict = {x: x**2 for x in my_list}\n",
    "print(my_dict)\n",
    "```\n",
    "\n",
    "Bu örnekte, `my_dict` sözlüğü `{1: 1, 2: 4, 3: 9, 4: 16, 5: 25}` değerini alacaktır.\n",
    "\n",
    "Dictionary comprehension, sözlük oluşturmak için kompakt ve okunabilir bir yol sunar."
   ]
  },
  {
   "cell_type": "markdown",
   "id": "42b9897b",
   "metadata": {},
   "source": [
    "- `dictionary.keys()`: Sözlükteki tüm anahtarları içeren bir view nesnesi döndürür. Bu, sözlükteki anahtarları elde etmenizi sağlar.\n",
    "- `dictionary.values()`: Sözlükteki tüm değerleri içeren bir view nesnesi döndürür. Bu, sözlükteki değerleri elde etmenizi sağlar.\n",
    "- `dictionary.items()`: Sözlükteki tüm anahtar-değer çiftlerini içeren bir view nesnesi döndürür. Bu, sözlükteki her bir öğeyi ve onun değerini birlikte elde etmenizi sağlar.\n",
    "\n",
    "Bu fonksiyonlar, sözlüklerde bulunan verilere erişmek ve bu verilerle çalışmak için yaygın olarak kullanılır."
   ]
  },
  {
   "cell_type": "code",
   "execution_count": 23,
   "id": "d508cd50",
   "metadata": {},
   "outputs": [],
   "source": [
    "# Bir sözlük (dictionary) oluşturun\n",
    "dictionary = {'a': 1, 'b': 2, 'c': 3, 'd': 4}\n",
    "\n",
    "# Sözlükteki anahtarları (keys) alın\n",
    "keys = dictionary.keys()\n",
    "\n",
    "# Sözlükteki değerleri (values) alın\n",
    "values = dictionary.values()\n",
    "\n",
    "# Sözlükteki anahtar-değer çiftlerini (items) alın\n",
    "items = dictionary.items()"
   ]
  },
  {
   "cell_type": "markdown",
   "id": "5c12381b",
   "metadata": {},
   "source": [
    "Bu ifade, `dictionary` adlı sözlükteki her bir öğe için şu işlemi gerçekleştirir:\n",
    "\n",
    "- Anahtar (`k`): Her bir anahtar değeri.\n",
    "- Değer (`v`): Her bir değer.\n",
    "\n",
    "Orjinal sözlükteki her bir değerin karesini içerir. Yani, `v ** 2` ifadesi, her bir değeri karesine çıkartır. Bu tür ifadeler, dictionary comprehension kullanarak sözlükleri hızlı ve okunabilir bir şekilde dönüştürmek için kullanılır."
   ]
  },
  {
   "cell_type": "code",
   "execution_count": 26,
   "id": "659d9a29",
   "metadata": {},
   "outputs": [
    {
     "data": {
      "text/plain": [
       "{'a': 1, 'b': 4, 'c': 9, 'd': 16}"
      ]
     },
     "execution_count": 26,
     "metadata": {},
     "output_type": "execute_result"
    }
   ],
   "source": [
    "# Her bir anahtar-değer çiftini kullanarak yeni bir sözlük oluşturun, değerleri karesi alınmış olarak\n",
    "{k: v ** 2 for (k, v) in dictionary.items()}"
   ]
  },
  {
   "cell_type": "markdown",
   "id": "a11693b6",
   "metadata": {},
   "source": [
    "Orijinal sözlükteki her bir anahtarı büyük harfe çevirir (`k.upper()`) ve bu büyük harfli anahtarlara karşılık gelen orijinal değerleri korur. Bu tür işlemler, dictionary comprehension kullanarak sözlükleri dönüştürmek veya filtrelemek için sıkça kullanılır."
   ]
  },
  {
   "cell_type": "code",
   "execution_count": 28,
   "id": "4457efa9",
   "metadata": {},
   "outputs": [
    {
     "data": {
      "text/plain": [
       "{'A': 1, 'B': 2, 'C': 3, 'D': 4}"
      ]
     },
     "execution_count": 28,
     "metadata": {},
     "output_type": "execute_result"
    }
   ],
   "source": [
    "# Her bir anahtar-değer çiftini kullanarak yeni bir sözlük oluşturun, anahtarları büyük harfli yapın\n",
    "{k.upper(): v for (k, v) in dictionary.items()}"
   ]
  },
  {
   "cell_type": "markdown",
   "id": "37250013",
   "metadata": {},
   "source": [
    "Orijinal sözlükteki her bir anahtarın büyük harfli versiyonuna ve bu büyük harfli anahtarlara karşılık gelen orijinal değerlerin iki katına çıkartılmış haline sahiptir."
   ]
  },
  {
   "cell_type": "code",
   "execution_count": 30,
   "id": "0bbfaee2",
   "metadata": {},
   "outputs": [
    {
     "data": {
      "text/plain": [
       "{'A': 2, 'B': 4, 'C': 6, 'D': 8}"
      ]
     },
     "execution_count": 30,
     "metadata": {},
     "output_type": "execute_result"
    }
   ],
   "source": [
    "# Her bir anahtar-değer çiftini kullanarak yeni bir sözlük oluşturun,\n",
    "# anahtarları büyük harfli yapın, değerleri iki katına çıkartın\n",
    "{k.upper(): v*2 for (k, v) in dictionary.items()}"
   ]
  },
  {
   "cell_type": "markdown",
   "id": "f8ce4eb1",
   "metadata": {},
   "source": [
    "## List & Dict Comprehension Uygulamalar"
   ]
  },
  {
   "cell_type": "markdown",
   "id": "7846336d",
   "metadata": {},
   "source": [
    "Bir Veri Setindeki Değişken İsimlerini Değiştirmek\n",
    "--\n",
    "**before:**\n",
    "['total', 'speeding', 'alcohol', 'not_distracted', 'no_previous', 'ins_premium', 'ins_losses', 'abbrev']\n",
    "\n",
    "**after:**\n",
    "['TOTAL', 'SPEEDING', 'ALCOHOL', 'NOT_DISTRACTED', 'NO_PREVIOUS', 'INS_PREMIUM', 'INS_LOSSES', 'ABBREV']"
   ]
  },
  {
   "cell_type": "markdown",
   "id": "b52d03dc",
   "metadata": {},
   "source": [
    "Bu kod, seaborn kütüphanesinde bulunan \"car_crashes\" veri setini yükler, veri setinin sütun isimlerini büyük harflere çevirir ve ardından bu sütun isimlerini ekrana veya bir listeye yazdırır. \n",
    "\n",
    "Bu kodun her adımı şu işlevi yerine getirir:\n",
    "\n",
    "1. Seaborn kütüphanesinden \"car_crashes\" veri setini yükler.\n",
    "2. Veri setindeki sütun isimlerini büyük harfe çevirip ekrana yazdırır.\n",
    "3. Sütun isimlerini içeren bir listeyi oluşturur (bu adım, döngü kullanarak veya list comprehension ile yapılabilir).\n",
    "4. Bu listeyi kullanarak veri setinin sütun isimlerini büyük harfe çevirir. Hem döngü kullanarak hem de list comprehension kullanarak iki farklı yöntemi gösterilmiştir."
   ]
  },
  {
   "cell_type": "code",
   "execution_count": 32,
   "id": "318c1abc",
   "metadata": {},
   "outputs": [
    {
     "name": "stdout",
     "output_type": "stream",
     "text": [
      "TOTAL\n",
      "SPEEDING\n",
      "ALCOHOL\n",
      "NOT_DISTRACTED\n",
      "NO_PREVIOUS\n",
      "INS_PREMIUM\n",
      "INS_LOSSES\n",
      "ABBREV\n"
     ]
    }
   ],
   "source": [
    "# seaborn kütüphanesinden \"car_crashes\" veri setini yükleyin\n",
    "import seaborn as sns\n",
    "df = sns.load_dataset(\"car_crashes\")\n",
    "\n",
    "# Veri setindeki sütun isimlerini ekrana yazdırın (büyük harfe çevrilmiş hali)\n",
    "for col in df.columns:\n",
    "    print(col.upper())\n",
    "\n",
    "# Sütun isimlerini içeren bir listeyi oluşturun (büyük harfe çevriliş hali)\n",
    "A = []\n",
    "for col in df.columns:\n",
    "    A.append(col.upper())\n",
    "\n",
    "# Sütun isimlerini veri setine uygulayarak büyük harfe çevirin\n",
    "df.columns = A\n"
   ]
  },
  {
   "cell_type": "code",
   "execution_count": 34,
   "id": "114d79ec",
   "metadata": {},
   "outputs": [
    {
     "data": {
      "text/plain": [
       "Index(['TOTAL', 'SPEEDING', 'ALCOHOL', 'NOT_DISTRACTED', 'NO_PREVIOUS',\n",
       "       'INS_PREMIUM', 'INS_LOSSES', 'ABBREV'],\n",
       "      dtype='object')"
      ]
     },
     "execution_count": 34,
     "metadata": {},
     "output_type": "execute_result"
    }
   ],
   "source": [
    "# Alternatif olarak, list comprehension kullanarak sütun isimlerini büyük harfe çevirin ve doğrudan veri setine atayın\n",
    "df.columns = [col.upper() for col in df.columns]\n",
    "df.columns"
   ]
  },
  {
   "cell_type": "markdown",
   "id": "a90691a1",
   "metadata": {},
   "source": [
    "İsminde \"INS\" olan değişkenlerin başına FLAG diğerlerine NO_FLAG eklemek istiyoruz.\n",
    "--\n",
    "\n",
    "**before:**\n",
    "['TOTAL',\n",
    "'SPEEDING',\n",
    "'ALCOHOL',\n",
    "'NOT_DISTRACTED',\n",
    "'NO_PREVIOUS',\n",
    "'INS_PREMIUM',\n",
    "'INS_LOSSES',\n",
    "'ABBREV']\n",
    "\n",
    "**after:**\n",
    "['NO_FLAG_TOTAL',\n",
    "'NO_FLAG_SPEEDING',\n",
    "'NO_FLAG_ALCOHOL',\n",
    "'NO_FLAG_NOT_DISTRACTED',\n",
    "'NO_FLAG_NO_PREVIOUS',\n",
    "'FLAG_INS_PREMIUM',\n",
    "'FLAG_INS_LOSSES',\n",
    "'NO_FLAG_ABBREV']"
   ]
  },
  {
   "cell_type": "markdown",
   "id": "bd07c94c",
   "metadata": {},
   "source": [
    "Bu kod bloğu, DataFrame'i yükler, \"INS\" içeren sütunları seçer, bu sütunlara \"FLAG_\" ön ekini ekleyerek yeni bir liste oluşturur ve son olarak DataFrame'in sütunlarını bu yeni listeyle günceller. Bu şekilde, işlemleri daha sade ve okunabilir bir şekilde gerçekleştirebilirsiniz."
   ]
  },
  {
   "cell_type": "code",
   "execution_count": 35,
   "id": "1a8a6c90",
   "metadata": {},
   "outputs": [],
   "source": [
    "# DataFrame'i yükleyin\n",
    "import seaborn as sns\n",
    "df = sns.load_dataset(\"car_crashes\")\n",
    "\n",
    "# \"INS\" içeren sütunları bulun\n",
    "selected_columns = [col for col in df.columns if \"INS\" in col]\n",
    "\n",
    "# \"FLAG_\" ön ekini ekleyerek yeni bir liste oluşturun\n",
    "modified_columns = [\"FLAG_\" + col for col in selected_columns]\n",
    "\n",
    "# \"INS\" içeren sütunlara \"FLAG_\" ön ekini, diğerlerine \"NO_FLAG_\" ön ekini ekleyerek sütunları güncelleyin\n",
    "df.columns = [\"FLAG_\" + col if \"INS\" in col else \"NO_FLAG_\" + col for col in df.columns]\n"
   ]
  },
  {
   "cell_type": "markdown",
   "id": "053b8495",
   "metadata": {},
   "source": [
    "Amaç:\n",
    "--\n",
    "\n",
    "Key'i string, value'su aşağıdaki gibi bir liste olan sözlük oluşturmak. Sadece sayısal değişkenler için yapmak istiyoruz.\n",
    "\n",
    "**Output:**\n",
    "{'total': ['mean', 'min', 'max', 'var'],\n",
    "\n",
    "'speeding': ['mean', 'min', 'max', 'var'],\n",
    "\n",
    "'alcohol': ['mean', 'min', 'max', 'var'],\n",
    "\n",
    "'not_distracted': ['mean', 'min', 'max', 'var'],\n",
    "\n",
    "'no_previous': ['mean', 'min', 'max', 'var'],\n",
    "\n",
    "'ins_premium': ['mean', 'min', 'max', 'var'],\n",
    "\n",
    "'ins_losses': ['mean', 'min', 'max', 'var']}"
   ]
  },
  {
   "cell_type": "markdown",
   "id": "ff6c1f0d",
   "metadata": {},
   "source": [
    "Bu kod bloğu, seaborn kütüphanesinde bulunan \"car_crashes\" veri setindeki sayısal sütunların belirli bir liste üzerindeki istatistiksel hesaplamalarını içerir. İşte bu kodun açıklamalarla birlikte detaylı açıklamaları:\n",
    "\n",
    "Bu kodun her adımı şu işlevi yerine getirir:\n",
    "\n",
    "1. `num_cols`: Veri setindeki sayısal sütunları belirler.\n",
    "2. `agg_list`: İstatistiksel hesaplamalar için kullanılacak aggregation (toplulama) listesini belirler (ortalama, minimum, maksimum, toplam).\n",
    "3. `soz`: Boş bir sözlük oluşturulur.\n",
    "4. Her bir sayısal sütun için, `agg_list` içindeki istatistiksel hesaplamaların olduğu liste, `soz` adlı sözlüğe eklenir.\n",
    "\n",
    "Bu şekilde, her bir sayısal sütunun hangi istatistiksel hesaplamalara tabi tutulacağını belirten bir sözlük oluşturulmuş olur."
   ]
  },
  {
   "cell_type": "code",
   "execution_count": 41,
   "id": "bdb5edd5",
   "metadata": {},
   "outputs": [
    {
     "data": {
      "text/plain": [
       "{'total': ['mean', 'min', 'max', 'sum'],\n",
       " 'speeding': ['mean', 'min', 'max', 'sum'],\n",
       " 'alcohol': ['mean', 'min', 'max', 'sum'],\n",
       " 'not_distracted': ['mean', 'min', 'max', 'sum'],\n",
       " 'no_previous': ['mean', 'min', 'max', 'sum'],\n",
       " 'ins_premium': ['mean', 'min', 'max', 'sum'],\n",
       " 'ins_losses': ['mean', 'min', 'max', 'sum']}"
      ]
     },
     "execution_count": 41,
     "metadata": {},
     "output_type": "execute_result"
    }
   ],
   "source": [
    "# seaborn kütüphanesinden \"car_crashes\" veri setini yükleyin\n",
    "import seaborn as sns\n",
    "df = sns.load_dataset(\"car_crashes\")\n",
    "\n",
    "# Veri setindeki sayısal sütunları seçin\n",
    "num_cols = [col for col in df.columns if df[col].dtype != \"O\"]\n",
    "\n",
    "# İstatistiksel hesaplamalar için kullanılacak aggregation listesini belirtin\n",
    "agg_list = [\"mean\", \"min\", \"max\", \"sum\"]\n",
    "\n",
    "# Boş bir sözlük oluşturun\n",
    "soz = {}\n",
    "\n",
    "# Her bir sayısal sütun için aggregation listesini sözlüğe ekleyin\n",
    "for col in num_cols:\n",
    "    soz[col] = agg_list\n",
    "\n",
    "#Ekrana yazdırma    \n",
    "soz"
   ]
  },
  {
   "cell_type": "markdown",
   "id": "29c2cc4b",
   "metadata": {},
   "source": [
    "### kısa yol"
   ]
  },
  {
   "cell_type": "code",
   "execution_count": 44,
   "id": "be579669",
   "metadata": {},
   "outputs": [
    {
     "data": {
      "text/plain": [
       "{'total': ['mean', 'min', 'max', 'sum'],\n",
       " 'speeding': ['mean', 'min', 'max', 'sum'],\n",
       " 'alcohol': ['mean', 'min', 'max', 'sum'],\n",
       " 'not_distracted': ['mean', 'min', 'max', 'sum'],\n",
       " 'no_previous': ['mean', 'min', 'max', 'sum'],\n",
       " 'ins_premium': ['mean', 'min', 'max', 'sum'],\n",
       " 'ins_losses': ['mean', 'min', 'max', 'sum']}"
      ]
     },
     "execution_count": 44,
     "metadata": {},
     "output_type": "execute_result"
    }
   ],
   "source": [
    "# Her bir sayısal sütun için istatistiksel hesaplamaları içeren bir sözlük oluşturun\n",
    "new_dict = {col: agg_list for col in num_cols}\n",
    "\n",
    "#Ekrana yazdırma\n",
    "new_dict"
   ]
  },
  {
   "cell_type": "code",
   "execution_count": 45,
   "id": "5e0e0118",
   "metadata": {},
   "outputs": [
    {
     "data": {
      "text/html": [
       "<div>\n",
       "<style scoped>\n",
       "    .dataframe tbody tr th:only-of-type {\n",
       "        vertical-align: middle;\n",
       "    }\n",
       "\n",
       "    .dataframe tbody tr th {\n",
       "        vertical-align: top;\n",
       "    }\n",
       "\n",
       "    .dataframe thead th {\n",
       "        text-align: right;\n",
       "    }\n",
       "</style>\n",
       "<table border=\"1\" class=\"dataframe\">\n",
       "  <thead>\n",
       "    <tr style=\"text-align: right;\">\n",
       "      <th></th>\n",
       "      <th>total</th>\n",
       "      <th>speeding</th>\n",
       "      <th>alcohol</th>\n",
       "      <th>not_distracted</th>\n",
       "      <th>no_previous</th>\n",
       "      <th>ins_premium</th>\n",
       "      <th>ins_losses</th>\n",
       "    </tr>\n",
       "  </thead>\n",
       "  <tbody>\n",
       "    <tr>\n",
       "      <th>mean</th>\n",
       "      <td>15.790196</td>\n",
       "      <td>4.998196</td>\n",
       "      <td>4.886784</td>\n",
       "      <td>13.573176</td>\n",
       "      <td>14.004882</td>\n",
       "      <td>886.957647</td>\n",
       "      <td>134.493137</td>\n",
       "    </tr>\n",
       "    <tr>\n",
       "      <th>min</th>\n",
       "      <td>5.900000</td>\n",
       "      <td>1.792000</td>\n",
       "      <td>1.593000</td>\n",
       "      <td>1.760000</td>\n",
       "      <td>5.900000</td>\n",
       "      <td>641.960000</td>\n",
       "      <td>82.750000</td>\n",
       "    </tr>\n",
       "    <tr>\n",
       "      <th>max</th>\n",
       "      <td>23.900000</td>\n",
       "      <td>9.450000</td>\n",
       "      <td>10.038000</td>\n",
       "      <td>23.661000</td>\n",
       "      <td>21.280000</td>\n",
       "      <td>1301.520000</td>\n",
       "      <td>194.780000</td>\n",
       "    </tr>\n",
       "    <tr>\n",
       "      <th>sum</th>\n",
       "      <td>805.300000</td>\n",
       "      <td>254.908000</td>\n",
       "      <td>249.226000</td>\n",
       "      <td>692.232000</td>\n",
       "      <td>714.249000</td>\n",
       "      <td>45234.840000</td>\n",
       "      <td>6859.150000</td>\n",
       "    </tr>\n",
       "  </tbody>\n",
       "</table>\n",
       "</div>"
      ],
      "text/plain": [
       "           total    speeding     alcohol  not_distracted  no_previous  \\\n",
       "mean   15.790196    4.998196    4.886784       13.573176    14.004882   \n",
       "min     5.900000    1.792000    1.593000        1.760000     5.900000   \n",
       "max    23.900000    9.450000   10.038000       23.661000    21.280000   \n",
       "sum   805.300000  254.908000  249.226000      692.232000   714.249000   \n",
       "\n",
       "       ins_premium   ins_losses  \n",
       "mean    886.957647   134.493137  \n",
       "min     641.960000    82.750000  \n",
       "max    1301.520000   194.780000  \n",
       "sum   45234.840000  6859.150000  "
      ]
     },
     "execution_count": 45,
     "metadata": {},
     "output_type": "execute_result"
    }
   ],
   "source": [
    "# Belirli sayısal sütunların ilk beş gözlemini gösterin\n",
    "df[num_cols].head()\n",
    "\n",
    "# Oluşturulan sözlüğü kullanarak belirli sayısal sütunlar için istatistiksel hesaplamaları yapın\n",
    "result = df[num_cols].agg(new_dict)\n",
    "\n",
    "#Ekrana yazdırma\n",
    "result"
   ]
  }
 ],
 "metadata": {
  "kernelspec": {
   "display_name": "Python 3 (ipykernel)",
   "language": "python",
   "name": "python3"
  },
  "language_info": {
   "codemirror_mode": {
    "name": "ipython",
    "version": 3
   },
   "file_extension": ".py",
   "mimetype": "text/x-python",
   "name": "python",
   "nbconvert_exporter": "python",
   "pygments_lexer": "ipython3",
   "version": "3.11.5"
  }
 },
 "nbformat": 4,
 "nbformat_minor": 5
}
