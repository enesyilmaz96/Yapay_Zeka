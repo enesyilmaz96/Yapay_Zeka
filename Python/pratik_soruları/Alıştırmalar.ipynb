{
 "cells": [
  {
   "cell_type": "markdown",
   "id": "ac98414e",
   "metadata": {},
   "source": [
    "1\n",
    "--\n",
    "Verilen string ifadenin tüm harflerini büyük harfe çeviriniz. Virgül ve nokta yerine space koyunuz, kelime kelime ayırınız.\n",
    "\n",
    "\n",
    "text = \"The goal is to turn data into information, and information into insight.\""
   ]
  },
  {
   "cell_type": "code",
   "execution_count": 2,
   "id": "2ed58c20",
   "metadata": {},
   "outputs": [
    {
     "data": {
      "text/plain": [
       "'THE GOAL IS TO TURN DATA INTO INFORMATION, AND INFORMATION INTO INSIGHT.'"
      ]
     },
     "execution_count": 2,
     "metadata": {},
     "output_type": "execute_result"
    }
   ],
   "source": [
    "text = \"The goal is to turn data into information, and information into insight.\"\n",
    "upper_text=text.upper()\n",
    "upper_text"
   ]
  },
  {
   "cell_type": "code",
   "execution_count": 4,
   "id": "9028c888",
   "metadata": {},
   "outputs": [
    {
     "data": {
      "text/plain": [
       "'THE GOAL IS TO TURN DATA INTO INFORMATION  AND INFORMATION INTO INSIGHT '"
      ]
     },
     "execution_count": 4,
     "metadata": {},
     "output_type": "execute_result"
    }
   ],
   "source": [
    "replace_text=upper_text.replace(\",\",\" \").replace(\".\",\" \")\n",
    "replace_text"
   ]
  },
  {
   "cell_type": "code",
   "execution_count": 5,
   "id": "c3838730",
   "metadata": {},
   "outputs": [
    {
     "data": {
      "text/plain": [
       "['THE',\n",
       " 'GOAL',\n",
       " 'IS',\n",
       " 'TO',\n",
       " 'TURN',\n",
       " 'DATA',\n",
       " 'INTO',\n",
       " 'INFORMATION',\n",
       " 'AND',\n",
       " 'INFORMATION',\n",
       " 'INTO',\n",
       " 'INSIGHT']"
      ]
     },
     "execution_count": 5,
     "metadata": {},
     "output_type": "execute_result"
    }
   ],
   "source": [
    "split_text=replace_text.split()\n",
    "split_text"
   ]
  },
  {
   "cell_type": "markdown",
   "id": "075b8119",
   "metadata": {},
   "source": [
    "2\n",
    "--\n",
    "Verilen liste için aşağıdaki görevleri yapınız.\n",
    "\n",
    "lst = [\"D\",\"A\",\"T\",\"A\",\"S\",\"C\",\"I\",\"E\",\"N\",\"C\",\"E\"]\n",
    "\n",
    "**Adım 1** = Listenin eleman sayısına bakınız.\n",
    "\n",
    "**Adım 2** = Sıfırıncı ve onuncu indeksteki elemanları çağırınz.\n",
    "\n",
    "**Adım 3** = Verilen liste üzerinden [\"D\",\"A\",\"T\",\"A\"] listesi oluşturunuz.\n",
    "\n",
    "**Adım 4** = Sekizinci indeksteki elemanı siliniz.\n",
    "\n",
    "**Adım 5** = Yeni bir eleman ekleyiniz.\n",
    "\n",
    "**Adım 6** = Sekizinci indekse \"N\" elemanını tekrar ekleyiniz."
   ]
  },
  {
   "cell_type": "code",
   "execution_count": 6,
   "id": "97f8398b",
   "metadata": {},
   "outputs": [],
   "source": [
    "lst = [\"D\",\"A\",\"T\",\"A\",\"S\",\"C\",\"I\",\"E\",\"N\",\"C\",\"E\"]"
   ]
  },
  {
   "cell_type": "code",
   "execution_count": 39,
   "id": "a3cd3266",
   "metadata": {},
   "outputs": [
    {
     "data": {
      "text/plain": [
       "5"
      ]
     },
     "execution_count": 39,
     "metadata": {},
     "output_type": "execute_result"
    }
   ],
   "source": [
    "# Adım 1\n",
    "\n",
    "eleman_sayısı=len(lst)\n",
    "eleman_sayısı"
   ]
  },
  {
   "cell_type": "code",
   "execution_count": 8,
   "id": "1be202fc",
   "metadata": {},
   "outputs": [
    {
     "name": "stdout",
     "output_type": "stream",
     "text": [
      "Sıfırıncı eleman = D \n",
      "Onunucu Elaman = E\n"
     ]
    }
   ],
   "source": [
    "# Adım 2\n",
    "\n",
    "print(f\"Sıfırıncı eleman = {lst[0]} \\nOnunucu Elaman = {lst[10]}\")"
   ]
  },
  {
   "cell_type": "code",
   "execution_count": 10,
   "id": "a5f6e4cb",
   "metadata": {},
   "outputs": [
    {
     "data": {
      "text/plain": [
       "['D', 'A', 'T', 'A']"
      ]
     },
     "execution_count": 10,
     "metadata": {},
     "output_type": "execute_result"
    }
   ],
   "source": [
    "# Adım 3\n",
    "\n",
    "data_lst=lst[:4]\n",
    "data_lst"
   ]
  },
  {
   "cell_type": "code",
   "execution_count": 13,
   "id": "5cede0f0",
   "metadata": {},
   "outputs": [
    {
     "data": {
      "text/plain": [
       "['D', 'A', 'T', 'A', 'S', 'C', 'I', 'E', 'C', 'E']"
      ]
     },
     "execution_count": 13,
     "metadata": {},
     "output_type": "execute_result"
    }
   ],
   "source": [
    "# Adım 4\n",
    "\n",
    "pop_index = lst.pop(8)\n",
    "lst"
   ]
  },
  {
   "cell_type": "code",
   "execution_count": 14,
   "id": "debe92a9",
   "metadata": {},
   "outputs": [
    {
     "data": {
      "text/plain": [
       "'N'"
      ]
     },
     "execution_count": 14,
     "metadata": {},
     "output_type": "execute_result"
    }
   ],
   "source": [
    "pop_index"
   ]
  },
  {
   "cell_type": "code",
   "execution_count": 15,
   "id": "8c8e2eb7",
   "metadata": {},
   "outputs": [
    {
     "data": {
      "text/plain": [
       "['D', 'A', 'T', 'A', 'S', 'C', 'I', 'E', 'C', 'E', '101']"
      ]
     },
     "execution_count": 15,
     "metadata": {},
     "output_type": "execute_result"
    }
   ],
   "source": [
    "# Adım 5\n",
    "\n",
    "new_member=lst.append(\"101\")\n",
    "lst"
   ]
  },
  {
   "cell_type": "code",
   "execution_count": 16,
   "id": "d23bbe83",
   "metadata": {},
   "outputs": [
    {
     "data": {
      "text/plain": [
       "['D', 'A', 'T', 'A', 'S', 'C', 'I', 'E', 'N', 'C', 'E', '101']"
      ]
     },
     "execution_count": 16,
     "metadata": {},
     "output_type": "execute_result"
    }
   ],
   "source": [
    "# Adım 6\n",
    "\n",
    "inster_lst = lst.insert(8,\"N\")\n",
    "lst"
   ]
  },
  {
   "cell_type": "markdown",
   "id": "e1d60c2c",
   "metadata": {},
   "source": [
    "3\n",
    "--\n",
    "``\n",
    "dict = {'Christian': [\"America\",18],\n",
    "        \n",
    "        'Daisy':[\"England\",12],\n",
    "        \n",
    "        'Antonio':[\"Spain\",22],\n",
    "        \n",
    "        'Dante':[\"Italy\",25]}\n",
    "```\n",
    "\n",
    "**Adım 1**: Key değerlerine erişiniz.\n",
    "\n",
    "**Adım 2**: Value'lara erişiniz.\n",
    "\n",
    "**Adım 3**: Daisy key'ine ait 12 değerini 13 olarak güncelleyiniz.\n",
    "\n",
    "**Adım 4**: Key değeri Ahmet value değeri [Turkey,24] olan yeni bir değer ekleyiniz.\n",
    "\n",
    "**Adım 5**: Antonio'yu dictionary'den siliniz."
   ]
  },
  {
   "cell_type": "code",
   "execution_count": 18,
   "id": "3ccaacf4",
   "metadata": {},
   "outputs": [],
   "source": [
    "dict = {'Christian': [\"America\",18],\n",
    "        \n",
    "        'Daisy':[\"England\",12],\n",
    "        \n",
    "        'Antonio':[\"Spain\",22],\n",
    "        \n",
    "        'Dante':[\"Italy\",25]}"
   ]
  },
  {
   "cell_type": "code",
   "execution_count": 19,
   "id": "718ef770",
   "metadata": {},
   "outputs": [
    {
     "data": {
      "text/plain": [
       "dict_keys(['Christian', 'Daisy', 'Antonio', 'Dante'])"
      ]
     },
     "execution_count": 19,
     "metadata": {},
     "output_type": "execute_result"
    }
   ],
   "source": [
    "# Adım 1\n",
    "\n",
    "dict.keys()"
   ]
  },
  {
   "cell_type": "code",
   "execution_count": 21,
   "id": "a93470e8",
   "metadata": {},
   "outputs": [
    {
     "data": {
      "text/plain": [
       "dict_values([['America', 18], ['England', 12], ['Spain', 22], ['Italy', 25]])"
      ]
     },
     "execution_count": 21,
     "metadata": {},
     "output_type": "execute_result"
    }
   ],
   "source": [
    "# Adım 2\n",
    "\n",
    "dict.values()"
   ]
  },
  {
   "cell_type": "code",
   "execution_count": 27,
   "id": "068f7149",
   "metadata": {},
   "outputs": [
    {
     "data": {
      "text/plain": [
       "{'Christian': ['America', 18],\n",
       " 'Daisy': ['England', 13],\n",
       " 'Antonio': ['Spain', 22],\n",
       " 'Dante': ['Italy', 25]}"
      ]
     },
     "execution_count": 27,
     "metadata": {},
     "output_type": "execute_result"
    }
   ],
   "source": [
    "# Adım 3\n",
    "\n",
    "dict[\"Daisy\"][1]=13\n",
    "dict\n",
    "\n",
    "# veya\n",
    "\n",
    "dict.update({\"Daisy\":[\"England\",13]})\n",
    "dict"
   ]
  },
  {
   "cell_type": "code",
   "execution_count": 28,
   "id": "9096b88e",
   "metadata": {},
   "outputs": [
    {
     "data": {
      "text/plain": [
       "{'Christian': ['America', 18],\n",
       " 'Daisy': ['England', 13],\n",
       " 'Antonio': ['Spain', 22],\n",
       " 'Dante': ['Italy', 25],\n",
       " 'Ahmet': ['Turkey', 24]}"
      ]
     },
     "execution_count": 28,
     "metadata": {},
     "output_type": "execute_result"
    }
   ],
   "source": [
    "# Adım 4\n",
    "\n",
    "dict.update({\"Ahmet\":[\"Turkey\",24]})\n",
    "dict"
   ]
  },
  {
   "cell_type": "code",
   "execution_count": 29,
   "id": "19f3b182",
   "metadata": {},
   "outputs": [
    {
     "data": {
      "text/plain": [
       "{'Christian': ['America', 18],\n",
       " 'Daisy': ['England', 13],\n",
       " 'Dante': ['Italy', 25],\n",
       " 'Ahmet': ['Turkey', 24]}"
      ]
     },
     "execution_count": 29,
     "metadata": {},
     "output_type": "execute_result"
    }
   ],
   "source": [
    "# Adım 5\n",
    "\n",
    "dict.pop(\"Antonio\")\n",
    "dict"
   ]
  },
  {
   "cell_type": "markdown",
   "id": "1d1576fc",
   "metadata": {},
   "source": [
    "4\n",
    "--\n",
    "Arguman olarak bir liste alan, listenin içerisindeki tek ve çift sayıları ayrı listelere atıyan ve bu listeleri return eden fonskiyon yazınız."
   ]
  },
  {
   "cell_type": "code",
   "execution_count": 30,
   "id": "ef01dc1f",
   "metadata": {},
   "outputs": [
    {
     "name": "stdout",
     "output_type": "stream",
     "text": [
      "Tek sayılar = [13, 93] \n",
      "Çift Sayılar = [2, 18, 22]\n"
     ]
    }
   ],
   "source": [
    "lst=[2,13,18,93,22]\n",
    "\n",
    "def func(list):\n",
    "    single_lst=[]\n",
    "    double_lst=[]\n",
    "    for a in list:\n",
    "        if a % 2 == 0:\n",
    "            double_lst.append(a)\n",
    "        else:\n",
    "            single_lst.append(a)\n",
    "    return print(f\"Tek sayılar = {single_lst} \\nÇift Sayılar = {double_lst}\")\n",
    "\n",
    "\n",
    "func(lst)"
   ]
  },
  {
   "cell_type": "code",
   "execution_count": 32,
   "id": "c2353248",
   "metadata": {},
   "outputs": [
    {
     "name": "stdout",
     "output_type": "stream",
     "text": [
      "Tek sayıları =  [13, 93] \n",
      "Çift Sayılar = [2, 18, 22]\n"
     ]
    }
   ],
   "source": [
    "# veya\n",
    "\n",
    "lst=[2,13,18,93,22]\n",
    "\n",
    "def func(list):\n",
    "    single_lst=[]\n",
    "    double_lst=[]\n",
    "    for a in list:\n",
    "        if a % 2 == 0:\n",
    "            double_lst.append(a)\n",
    "        else:\n",
    "            single_lst.append(a)\n",
    "    return single_lst, double_lst\n",
    "\n",
    "tek,cift = func(lst)\n",
    "print(\"Tek sayıları = \", tek, \"\\nÇift Sayılar =\",cift)"
   ]
  },
  {
   "cell_type": "markdown",
   "id": "8a154e19",
   "metadata": {},
   "source": [
    "5\n",
    "--\n",
    "\n",
    "Aşağıda verilen listede mühendislik ve tıp fakülterinde dereceye giren öğrencilerin isimleri bulunmaktadır.\n",
    "\n",
    "Sırasıyla ilk üç öğrenci mühendislik fakültesinin başarı sırasını temsil ederken son üç öğrenci de tıp fakültesi öğrenci sırasına aittir.\n",
    "\n",
    "Enumarate kullanarak öğrenci derecelerini fakülte özelinde yazdırınız.\n",
    "\n",
    "ogrenciler = [\"Ali\",\"Veli\",\"Ayşe\",\"Talat\",\"Zeynep\",\"Ece\"]"
   ]
  },
  {
   "cell_type": "code",
   "execution_count": 34,
   "id": "d860a930",
   "metadata": {},
   "outputs": [
    {
     "name": "stdout",
     "output_type": "stream",
     "text": [
      "Mühendislik Fakültesi 1. = Ali\n",
      "Mühendislik Fakültesi 2. = Veli\n",
      "Mühendislik Fakültesi 3. = Ayşe\n",
      "Tıp Fakültesi 1. = Talat\n",
      "Tıp Fakültesi 2. = Zeynep\n",
      "Tıp Fakültesi 3. = Ece\n"
     ]
    }
   ],
   "source": [
    "ogrenciler = [\"Ali\",\"Veli\",\"Ayşe\",\"Talat\",\"Zeynep\",\"Ece\"]\n",
    "\n",
    "for i,x in enumerate(ogrenciler):\n",
    "    \n",
    "    if i < 3:\n",
    "        i += 1\n",
    "        print(f\"Mühendislik Fakültesi {i}. = {x}\")\n",
    "    else:\n",
    "        i -= 2\n",
    "        print(f\"Tıp Fakültesi {i}. = {x}\")"
   ]
  },
  {
   "cell_type": "markdown",
   "id": "31a792f5",
   "metadata": {},
   "source": [
    "6\n",
    "--\n",
    "Aşağıda 3 adet liste verilmiştir. Listelerde sırası ile bir dersin kodu, kredisi ve kontenjan bilgileri yer almaktadır. Zip kullanarak ders bilgilerini bastırınız.\n"
   ]
  },
  {
   "cell_type": "code",
   "execution_count": 35,
   "id": "bc80887a",
   "metadata": {},
   "outputs": [],
   "source": [
    "ders_kodu = [\"CMP1005\",\"PSY1001\",\"HUK1005\",\"SEN2204\"]\n",
    "kredi = [3,4,2,4]\n",
    "kontenjan = [30,75,150,25]"
   ]
  },
  {
   "cell_type": "code",
   "execution_count": 36,
   "id": "3cd60dde",
   "metadata": {},
   "outputs": [
    {
     "name": "stdout",
     "output_type": "stream",
     "text": [
      "Kredisi 3 olan CMP1005 kodlu dersin kontenjanı 30 kişidir\n",
      "Kredisi 4 olan PSY1001 kodlu dersin kontenjanı 75 kişidir\n",
      "Kredisi 2 olan HUK1005 kodlu dersin kontenjanı 150 kişidir\n",
      "Kredisi 4 olan SEN2204 kodlu dersin kontenjanı 25 kişidir\n"
     ]
    }
   ],
   "source": [
    "for ders_kodu, kredi, kontenjan in zip(ders_kodu, kredi, kontenjan):\n",
    "    print(f\"Kredisi {kredi} olan {ders_kodu} kodlu dersin kontenjanı {kontenjan} kişidir\")"
   ]
  },
  {
   "cell_type": "markdown",
   "id": "a2bc2919",
   "metadata": {},
   "source": [
    "7\n",
    "--\n",
    "\n",
    "Aşağıda 2 adet set verilmiştir.\n",
    "\n",
    "Sizden istenilen eğer 1. küme 2. kümeyi kapsiyor ise ortak elemanlarını eğer kapsamıyor ise 2. kümenin 1. kümeden farkını yazdıracak fonksiyonu tanımlamanız beklenmektedir."
   ]
  },
  {
   "cell_type": "code",
   "execution_count": 37,
   "id": "21df0ca5",
   "metadata": {},
   "outputs": [],
   "source": [
    "kume1 = set([\"data\", \"python\"])\n",
    "kume2 = set([\"data\", \"function\", \"qcut\", \"lambda\", \"python\", \"miuul\"])"
   ]
  },
  {
   "cell_type": "code",
   "execution_count": 38,
   "id": "885b0eea",
   "metadata": {},
   "outputs": [
    {
     "name": "stdout",
     "output_type": "stream",
     "text": [
      "{'miuul', 'qcut', 'function', 'lambda'}\n"
     ]
    }
   ],
   "source": [
    "def kume(set1, set2):\n",
    "    \n",
    "    if set1.issuperset(set2):\n",
    "        print(set1.intersection(set2))\n",
    "    else:\n",
    "        print(set2.difference(set1))\n",
    "        \n",
    "kume(kume1, kume2)"
   ]
  }
 ],
 "metadata": {
  "kernelspec": {
   "display_name": "Python 3 (ipykernel)",
   "language": "python",
   "name": "python3"
  },
  "language_info": {
   "codemirror_mode": {
    "name": "ipython",
    "version": 3
   },
   "file_extension": ".py",
   "mimetype": "text/x-python",
   "name": "python",
   "nbconvert_exporter": "python",
   "pygments_lexer": "ipython3",
   "version": "3.11.5"
  }
 },
 "nbformat": 4,
 "nbformat_minor": 5
}
