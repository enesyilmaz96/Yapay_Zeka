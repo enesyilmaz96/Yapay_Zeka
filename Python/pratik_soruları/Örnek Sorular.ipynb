{
 "cells": [
  {
   "cell_type": "markdown",
   "id": "d299d894",
   "metadata": {},
   "source": [
    "# SIFIRDAN PYTHON ÖĞRENME SÜRECİ ÇALIŞMA SORULARI\n"
   ]
  },
  {
   "cell_type": "markdown",
   "id": "93b0a018",
   "metadata": {},
   "source": [
    "## ÖRNEK 1\n",
    "\n",
    "Asal Sayı\n",
    "==============\n",
    "\n",
    "Klavyeden girilen sayının asal olup olmadığını tespit eden program yazalım.\n",
    "\n",
    "**`NOT =`**  \"1\" sayısından ve kendisinden başka hiçbir sayıya bölünmeyen rakamlar asal sayı olarak ifade edilmektedir. Ancak bu sayıları mutlaka pozitif olmalıdır. "
   ]
  },
  {
   "cell_type": "code",
   "execution_count": 37,
   "id": "28a6043c",
   "metadata": {},
   "outputs": [
    {
     "name": "stdout",
     "output_type": "stream",
     "text": [
      "Lütfen asalsayı kontrolü için bir tamsayı giriniz = 2\n",
      "2 Sayısı asaldır. 1'den ve 2 den başka hiçbir sayıya tam bölünmez!\n"
     ]
    }
   ],
   "source": [
    "n = int(input(\"Lütfen asalsayı kontrolü için bir tamsayı giriniz = \"))\n",
    "i=2 # Her sayı 1'e tam bölündüğü için kontrolü 2 den başlattık.\n",
    "asalKontrol = True\n",
    "if n <=0:  # Girilen sayı negatif ise uyarı verir ve program sonlanır.\n",
    "    print(\"Lütfen pozitif bir tamsayı sayı giriniz!\")  # Kullanıcının pozitif tamsayı girmesi için uyarılır.\n",
    "elif n==1: # Eğer girilen sayı 1 ise hiç kontrol etmeden asal sayı olmadığını söyler.\n",
    "    print(\"'1' Asal sayı değildir. Asal sayıların 2 pozitif tam sayı böleni olmalıdır.\")\n",
    "else: # Eğer girilen sayı 1 veya negatif değilse asal sayı kontrolü gerçekleşir.\n",
    "    while i < n: # 2 den başlayarak girilen sayıya kadar (girilen dahil değil) bir döngü oluşturduk.\n",
    "        if n % i == 0:  # Her döngüde girilen sayının \"i\" değerine bölümünden kalan sıfır mı diye kontrol ettik.\n",
    "                        # Eğer bölümünden kalan sıfır ise tam bölünebilir anlamnıa gelir.\n",
    "            print(\"Girdiğiniz sayı asal değildir. Çünkü\", i, \"sayısı\", n, \"sayısını bölebilir.\")\n",
    "            asalKontrol=False  # Eğer tam bölünebiliyorsa asal sayı olmadığı için kontrol değişkeni değerini 'False' yaptık.\n",
    "            break   # Asal sayı olmadığını tespit ettiğimiz için döngüyü sonlandırdık.                 \n",
    "        else:\n",
    "            i +=1  # 2 sayısı ile girilen sayı arasındaki tüm değerleri kontrol etmek için her seferinde i'yi bir arttırdık.\n",
    "if asalKontrol==True:  # Eğer asal kontrolü sonucunda 'False' değerini almadıysa ekrana bunun bir asal sayı olduğunu yazdırdık.\n",
    "    print(n, \"Sayısı asaldır. 1'den ve\", n, \"den başka hiçbir sayıya tam bölünmez!\" )\n",
    "            "
   ]
  },
  {
   "cell_type": "markdown",
   "id": "376fe503",
   "metadata": {},
   "source": [
    "**Alıştırma_1**\n",
    "\n",
    "Verilen bir $N$ sayısından küçükeşit bütün asalları listeleyen bir program yazalım.\n",
    "\n",
    "Programı 2 ile $N$ arasındaki her tamsayı için çalıştıracağız."
   ]
  },
  {
   "cell_type": "code",
   "execution_count": 1,
   "id": "1f751dad",
   "metadata": {},
   "outputs": [
    {
     "name": "stdout",
     "output_type": "stream",
     "text": [
      "Lütfen bir sayı veriniz. Vereceğiniz sayıya kadar olan tüm asalların bir listesini alacaksınız = 27\n",
      "1 . asal sayı =  2\n",
      "2 . asal sayı =  3\n",
      "3 . asal sayı =  5\n",
      "4 . asal sayı =  7\n",
      "5 . asal sayı =  11\n",
      "6 . asal sayı =  13\n",
      "7 . asal sayı =  17\n",
      "8 . asal sayı =  19\n",
      "9 . asal sayı =  23\n"
     ]
    }
   ],
   "source": [
    "n = int(input(\"Lütfen bir sayı veriniz. Vereceğiniz sayıya kadar olan tüm asalların bir listesini alacaksınız = \"))\n",
    "i = 2\n",
    "sayac=1\n",
    "\n",
    "if n <=0:\n",
    "    print(\"Lütfen pozitif tamsayı veriniz.\")\n",
    "elif n == 1:\n",
    "    print(\"Verdiğiniz aralıkta asal sayı bulunamadı 1'den büyük sayı giriniz.\")\n",
    "else:\n",
    "    while i <= n:\n",
    "        a=2\n",
    "        while a < i:            \n",
    "            if i % a == 0:\n",
    "                break\n",
    "            else:\n",
    "                a +=1\n",
    "        else:  # Buradaki else içteki \"while\" döngüsüne aittir. Break komutu hiç çalışmazsa kontrol edilen sayı asal demektir.          \n",
    "            print(sayac,\". asal sayı = \", a,) \n",
    "            sayac += 1\n",
    "        i += 1\n",
    "        "
   ]
  },
  {
   "cell_type": "markdown",
   "id": "d9559101",
   "metadata": {},
   "source": [
    "**Alıştırma_2** \n",
    "\n",
    "Yukarıdaki programı değiştirerek ilk $k$ asal sayıyı basmasını sağlayın. Yani, meselâ 6 girildiğinde 2, 3, 5, 7, 11, 13 sayılarını çıkarsın."
   ]
  },
  {
   "cell_type": "code",
   "execution_count": 25,
   "id": "855481e2",
   "metadata": {},
   "outputs": [
    {
     "name": "stdout",
     "output_type": "stream",
     "text": [
      "Lütfen bir sayı veriniz. Vereceğiniz sayıya kadar olan asalların bir listesini alacaksınız = 27\n",
      "Kaç adet asal sayı görmek istediğinizi belirtiniz = 6\n",
      "1 . asal sayı =  2\n",
      "2 . asal sayı =  3\n",
      "3 . asal sayı =  5\n",
      "4 . asal sayı =  7\n",
      "5 . asal sayı =  11\n",
      "6 . asal sayı =  13\n"
     ]
    }
   ],
   "source": [
    "n = int(input(\"Lütfen bir sayı veriniz. Vereceğiniz sayıya kadar olan asalların bir listesini alacaksınız = \"))\n",
    "k = int(input(\"Kaç adet asal sayı görmek istediğinizi belirtiniz = \"))\n",
    "i = 2\n",
    "sayac=0\n",
    "\n",
    "if n <=0:\n",
    "    print(\"Lütfen pozitif tamsayı veriniz.\")\n",
    "elif n == 1:\n",
    "    print(\"Verdiğiniz aralıkta asal sayı bulunamadı 1'den büyük sayı giriniz.\")\n",
    "else:\n",
    "    while i <= n:\n",
    "        if k == sayac:\n",
    "            break\n",
    "        else:\n",
    "            a=2\n",
    "            while a < i:            \n",
    "                if i % a == 0:\n",
    "                    break\n",
    "                else:\n",
    "                    a +=1\n",
    "            else:  # Buradaki else içteki \"while\" döngüsüne aittir. Break komutu hiç çalışmazsa kontrol edilen sayı asal demektir.          \n",
    "\n",
    "                sayac += 1\n",
    "                print(sayac,\". asal sayı = \", a,) \n",
    "            i += 1\n",
    "        "
   ]
  },
  {
   "cell_type": "markdown",
   "id": "28bef6b3",
   "metadata": {},
   "source": [
    "**Alıştırma_3** \n",
    "\n",
    "Verilen sayı asal ise `True` degilse `False`döndüren fonksiyonu oluşturunuz.\n"
   ]
  },
  {
   "cell_type": "code",
   "execution_count": 2,
   "id": "422dd360",
   "metadata": {},
   "outputs": [],
   "source": [
    "def asal_mı(n):\n",
    "\n",
    "    i=2 \n",
    "\n",
    "    if n <=1:  \n",
    "        asalKontrol = False\n",
    "    elif n==2:\n",
    "        asalKontrol = True       \n",
    "    else: \n",
    "        while i < n: \n",
    "            if n % i == 0:  \n",
    "                asalKontrol=False  \n",
    "                break            \n",
    "            else:\n",
    "                asalKontrol=True\n",
    "                i += 1 \n",
    "    return asalKontrol"
   ]
  },
  {
   "cell_type": "code",
   "execution_count": 5,
   "id": "884b0891",
   "metadata": {},
   "outputs": [
    {
     "data": {
      "text/plain": [
       "False"
      ]
     },
     "execution_count": 5,
     "metadata": {},
     "output_type": "execute_result"
    }
   ],
   "source": [
    "asal_mı(12)"
   ]
  },
  {
   "cell_type": "markdown",
   "id": "1a089ce8",
   "metadata": {},
   "source": [
    "**Alıştırma_4** \n",
    "\n",
    "verilen N sayısının asal çarpanlarını yukarıda tanımladığımız `asal_mı()` fonksiyonunu kullanarak yazınız.\n",
    "\n",
    "**NOT :** Asal çarpanlara ayırma işlemi, Asal çarpanlara ayrılmasını istenilen sayıyı bir bölme işlemine sokarak bölenleri bulunmasından oluşur. Sayının bölenleri bulunduğunda bu sayılardan asal olanları sayının asal çarpanlarını vermektedir. \n",
    "\n",
    "**Örneğin =** 12 sayısının çarpanları 1, 2, 3, 4, 6 ve 12 sayılarıdır. Bu çarpanlar arasındaki asal çarpanlar ise 2 ve 3 sayılarıdır. Diğer çarpanlar asal değildir. Bundan dolayı 12 sayısının asal çarpanları **yalnızca 2 ve 3 sayıları** olmaktadır.\n"
   ]
  },
  {
   "cell_type": "code",
   "execution_count": 23,
   "id": "d009201b",
   "metadata": {},
   "outputs": [
    {
     "name": "stdout",
     "output_type": "stream",
     "text": [
      "Asal çarpanlarına ayırmak istediğiniz sayıyı giriniz: 600851475143\n",
      "Girdiğiniz sayının asal çarpanları = [71, 839, 1471, 6857] şeklindedir. \n"
     ]
    }
   ],
   "source": [
    "x = int(input(\"Asal çarpanlarına ayırmak istediğiniz sayıyı giriniz: \"))\n",
    "asalCarpanListesi=[]\n",
    "i=2\n",
    "\n",
    "while i <= x:\n",
    "    if x % i == 0:\n",
    "        if asal_mı(i) == True:\n",
    "            asalCarpanListesi.append(i) \n",
    "            x //= i # x'in mevcut değerini i ile böler. \n",
    "                    # Bölme işlemi sonucu elde edilen tamsayı bölme sonucunu x'in yeni değeri olarak atar.\n",
    "    i+=1    \n",
    "    \n",
    "print(\"Girdiğiniz sayının asal çarpanları =\", asalCarpanListesi, \"şeklindedir. \")\n",
    "            \n",
    "        "
   ]
  },
  {
   "cell_type": "markdown",
   "id": "3b48736c",
   "metadata": {},
   "source": [
    "**Alıştırma_5** \n",
    "\n",
    "Verilen bir sayının asal çarpanlarını listelemek;\n",
    "\n",
    "Verilen sayıya $N$ diyelim. Bir $x$ değişkenine başta 2 atayalım. Eğer $x$ asal sayıysa, ve $N$ sayısı $x$'e bölünüyorsa, $x$'i ekrana basalım. Ardından $N$'yi $x$'e bölebildiğimiz kadar bölelim, böylece içinde $x$ çarpanı kalmasın. $N$ birden büyük olduğu sürece, $x$'i bir artırıp tekrarlayalım."
   ]
  },
  {
   "cell_type": "code",
   "execution_count": 19,
   "id": "d0d483df",
   "metadata": {},
   "outputs": [
    {
     "name": "stdout",
     "output_type": "stream",
     "text": [
      "Bir sayı giriniz = 42\n",
      "2\n",
      "3\n",
      "7\n"
     ]
    }
   ],
   "source": [
    "N = int(input(\"Bir sayı giriniz = \"))\n",
    "x=2\n",
    "while N > 1:\n",
    "    if asal_mı(x) == True and N%x == 0:       \n",
    "        print(x)\n",
    "        N = N/x\n",
    "        if N <= x:\n",
    "            break\n",
    "    x += 1"
   ]
  },
  {
   "cell_type": "markdown",
   "id": "b884bc5e",
   "metadata": {},
   "source": [
    "**Alıştırma_6**\n",
    "\n",
    "Kullanıcıdan bir sayı isteyelim. Verilen sayıya $N$ diyelim. Verilen sayının hem **tam sayı bölen**lerini hemde **asal sayı bölen**lerini ekrana yazdıralım. Tüm bunları yaparken daha önce oluşturduğumuz asal sayı kontrolü sağlayan **`asal_mı`** fonksiyonunu ve dizileri kullanalım.\n",
    "\n",
    "**NOT:** Ayrıca `while` döngüsü yerine `for` döngüsünü kullanınız."
   ]
  },
  {
   "cell_type": "code",
   "execution_count": 3,
   "id": "b744dcc1",
   "metadata": {},
   "outputs": [
    {
     "name": "stdout",
     "output_type": "stream",
     "text": [
      "Bir sayı giriniz = 60\n",
      "Girdiğiniz sayının tam sayı bölenleri = [2, 3, 4, 5, 6, 10, 12, 15, 20, 30]\n",
      "Girdiğiniz sayının asal bölenler = [2, 3, 5]\n"
     ]
    }
   ],
   "source": [
    "N = int(input(\"Bir sayı giriniz = \"))\n",
    "x=2\n",
    "bölenDizi=[]\n",
    "\n",
    "for x in range(2,N):\n",
    "    if N%x == 0:\n",
    "        bölenDizi.append(x)\n",
    "    x += 1\n",
    "\n",
    "print(\"Girdiğiniz sayının tam sayı bölenleri =\", bölenDizi)\n",
    "\n",
    "asalBölenDizi=[]\n",
    "for i in bölenDizi:\n",
    "    if asal_mı(i) == True:\n",
    "        asalBölenDizi.append(i)\n",
    "print(\"Girdiğiniz sayının asal bölenler =\",asalBölenDizi)"
   ]
  },
  {
   "cell_type": "markdown",
   "id": "0bc4d5a3",
   "metadata": {},
   "source": [
    "## ÖRNEK 2\n",
    "\n",
    "Bu programdaki döngüde `else` kullanmadık.\n",
    "\n",
    "Fibonacci dizisi\n",
    "========\n",
    "\n",
    "Temel programlama derslerinin olmazsa olmazı Fibonacci dizisi şöyle tanımlanır:\n",
    "\n",
    "$$\\begin{array}{rcl} F_0 &=& 1 \\\\ F_1 &=& 1 \\\\ F_n &=& F_{n-1} + F_{n-2}\\end{array}$$\n",
    "\n",
    "Yani, dizideki her terim, önceki iki terimin toplamıdır. Dizideki sayılar şöyle gider: 1, 1, 2, 3, 5, 8, 13, 21, 34, 55, 89, 144, ...\n",
    "\n",
    "Fibonacci dizisinin ilk elli terimini ekrana yazacak bir program yazalım."
   ]
  },
  {
   "cell_type": "code",
   "execution_count": 16,
   "id": "ce531295",
   "metadata": {},
   "outputs": [
    {
     "name": "stdout",
     "output_type": "stream",
     "text": [
      "1\n",
      "1\n",
      "2\n",
      "3\n",
      "5\n",
      "8\n",
      "13\n",
      "21\n",
      "34\n",
      "55\n",
      "89\n",
      "144\n",
      "233\n",
      "377\n",
      "610\n",
      "987\n",
      "1597\n",
      "2584\n",
      "4181\n",
      "6765\n",
      "10946\n",
      "17711\n",
      "28657\n",
      "46368\n",
      "75025\n",
      "121393\n",
      "196418\n",
      "317811\n",
      "514229\n",
      "832040\n",
      "1346269\n",
      "2178309\n",
      "3524578\n",
      "5702887\n",
      "9227465\n",
      "14930352\n",
      "24157817\n",
      "39088169\n",
      "63245986\n",
      "102334155\n",
      "165580141\n",
      "267914296\n",
      "433494437\n",
      "701408733\n",
      "1134903170\n",
      "1836311903\n",
      "2971215073\n",
      "4807526976\n",
      "7778742049\n",
      "12586269025\n",
      "20365011074\n"
     ]
    }
   ],
   "source": [
    "f0 = 1\n",
    "f1 = 1\n",
    "i=0\n",
    "while i <=50:\n",
    "    print(f0)\n",
    "    f0,f1 = f1,f0 + f1 # F0 değerini (başlangıçta 1) F1'e (başlangıçta 1) F1'i ise F0+F1'e eşitleyerek 50 adım devam ettik.\n",
    "    i += 1             # Başlangıçta      F0=1, F1=1\n",
    "                       # İkinci döngüde   F0=1, F1=2\n",
    "                       # Üçüncü döngüde   F0=2, F1=3\n",
    "                       # Dördüncü döngüde F0=3, F1=4 olacak şekilde ilk 50 adımı yazdırır.  \n",
    "    # Her döngüde \"F0\" değişkeni bir önceki döngüye ait F1'in değerini alır. \n",
    "    # \"F1\" ise bir önceki döngüdeki F0+F1 değerini alır.\n",
    "    \n",
    "    "
   ]
  },
  {
   "cell_type": "markdown",
   "id": "7d094f4c",
   "metadata": {},
   "source": [
    "**Alıştırma_1**\n",
    "\n",
    "Döngüde, Python'a özgü bir çokuz ataması yaptığımıza dikkat edin:\n",
    "\n",
    "    a,b = b, a+b\n",
    "Bu işlemin sonunda `b`'nin eski değeri `a`'ya, `a+b` toplamının eski değeri de `b`'ye atanır. Başka dillerde çokuz ataması bulunmayabilir. Aynı işi başka türlü nasıl yaparız? İlk akla gelen şey şu olabilir:\n",
    "\n",
    "    a = b\n",
    "    b = a + b   # yanlış\n",
    "Bu yanlış, çünkü ikinci atamada eşitliğin sağ tarafında `a`'nın yeni değeri kullanılıyor. Bir önceki ifadede `a`'ya `b`'nin değerini atamıştık. Böylece atamanın sonunda sadece `b`'yi iki katına çıkarmış oluruz.\n",
    "\n",
    "Doğru yöntem, eski değerler için ayrı değişkenler kullanmaktır. Yukarıdaki programı bu yaklaşımla tekrar yazalım:"
   ]
  },
  {
   "cell_type": "code",
   "execution_count": 20,
   "id": "e6de5333",
   "metadata": {},
   "outputs": [
    {
     "name": "stdout",
     "output_type": "stream",
     "text": [
      "1\n",
      "1\n",
      "2\n",
      "3\n",
      "5\n",
      "8\n",
      "13\n",
      "21\n",
      "34\n",
      "55\n",
      "89\n",
      "144\n",
      "233\n",
      "377\n",
      "610\n",
      "987\n",
      "1597\n",
      "2584\n",
      "4181\n",
      "6765\n",
      "10946\n",
      "17711\n",
      "28657\n",
      "46368\n",
      "75025\n",
      "121393\n",
      "196418\n",
      "317811\n",
      "514229\n",
      "832040\n",
      "1346269\n",
      "2178309\n",
      "3524578\n",
      "5702887\n",
      "9227465\n",
      "14930352\n",
      "24157817\n",
      "39088169\n",
      "63245986\n",
      "102334155\n",
      "165580141\n",
      "267914296\n",
      "433494437\n",
      "701408733\n",
      "1134903170\n",
      "1836311903\n",
      "2971215073\n",
      "4807526976\n",
      "7778742049\n",
      "12586269025\n",
      "20365011074\n"
     ]
    }
   ],
   "source": [
    "f0=1\n",
    "f1=1\n",
    "i=0\n",
    "\n",
    "while i <=50:\n",
    "    print(f0) # Hesaplanan her F0 değerini ekrana yazdırdık.\n",
    "    bellek=f0 # Her döngüde F değerini bir sonraki F'e eşitleyeceğimiz için, bir önceki F değerini bellek adındaki değişkene\n",
    "              # atadık.Böylece bir önceki ve bir sonraki F değerimizi kaybetmedik.\n",
    "    f0=f1 # Her döngüde F'i bir sonraki F değerine eşitledik.\n",
    "    f1=bellek+f1  # Bir sonraki F değerini hesaplamak için önceki iki değeri topladık.\n",
    "    \n",
    "    i +=1"
   ]
  },
  {
   "cell_type": "markdown",
   "id": "03b194df",
   "metadata": {},
   "source": [
    "## ÖRNEK 3\n",
    "\n",
    "En uzun Collatz zinciri\n",
    "=============\n",
    "Diziyi $n$ sayısıyla başlatırsak, sonraki sayıyı şu kuralla buluruz:\n",
    "\n",
    "* $n_i$ çift sayıysa: $n_{i+1} = n_i/2$\n",
    "* $n_i$ tek sayıysa: $n_{i+1} = 3n_i+1$\n",
    "* $n_i=1$ ise dizi sonlanır.\n",
    "\n",
    "Meselâ 13 ile başlarsak, on eleman uzunlukta olan 13, 40, 20, 10, 5, 16, 8, 4, 2, 1 dizisini elde ederiz. Bu dizinin uzunluğu 10'dur.\n",
    "\n",
    "Sorumuz şu: Bir milyonun altındaki bütün başlangıç değerleri içinde hangisi **en uzun** Collatz dizisini verir? (Başlangıçtan sonraki değerler bir milyonun üzerine çıkabilir.)\n",
    "\n",
    "(Kaynak: Euler Project, <a href=\"http://projecteuler.net/problem=14\">14. problem</a>)"
   ]
  },
  {
   "cell_type": "code",
   "execution_count": 22,
   "id": "4db73192",
   "metadata": {
    "scrolled": true
   },
   "outputs": [
    {
     "name": "stdout",
     "output_type": "stream",
     "text": [
      "En uzun Collatz dizisininin başlangıç değeri  837799 olarak hesaplanmıştır. \n",
      " Dizinin tamamı aşağıdadır;\n"
     ]
    },
    {
     "data": {
      "text/plain": [
       "[837799,\n",
       " 2513398,\n",
       " 1256699,\n",
       " 3770098,\n",
       " 1885049,\n",
       " 5655148,\n",
       " 2827574,\n",
       " 1413787,\n",
       " 4241362,\n",
       " 2120681,\n",
       " 6362044,\n",
       " 3181022,\n",
       " 1590511,\n",
       " 4771534,\n",
       " 2385767,\n",
       " 7157302,\n",
       " 3578651,\n",
       " 10735954,\n",
       " 5367977,\n",
       " 16103932,\n",
       " 8051966,\n",
       " 4025983,\n",
       " 12077950,\n",
       " 6038975,\n",
       " 18116926,\n",
       " 9058463,\n",
       " 27175390,\n",
       " 13587695,\n",
       " 40763086,\n",
       " 20381543,\n",
       " 61144630,\n",
       " 30572315,\n",
       " 91716946,\n",
       " 45858473,\n",
       " 137575420,\n",
       " 68787710,\n",
       " 34393855,\n",
       " 103181566,\n",
       " 51590783,\n",
       " 154772350,\n",
       " 77386175,\n",
       " 232158526,\n",
       " 116079263,\n",
       " 348237790,\n",
       " 174118895,\n",
       " 522356686,\n",
       " 261178343,\n",
       " 783535030,\n",
       " 391767515,\n",
       " 1175302546,\n",
       " 587651273,\n",
       " 1762953820,\n",
       " 881476910,\n",
       " 440738455,\n",
       " 1322215366,\n",
       " 661107683,\n",
       " 1983323050,\n",
       " 991661525,\n",
       " 2974984576,\n",
       " 1487492288,\n",
       " 743746144,\n",
       " 371873072,\n",
       " 185936536,\n",
       " 92968268,\n",
       " 46484134,\n",
       " 23242067,\n",
       " 69726202,\n",
       " 34863101,\n",
       " 104589304,\n",
       " 52294652,\n",
       " 26147326,\n",
       " 13073663,\n",
       " 39220990,\n",
       " 19610495,\n",
       " 58831486,\n",
       " 29415743,\n",
       " 88247230,\n",
       " 44123615,\n",
       " 132370846,\n",
       " 66185423,\n",
       " 198556270,\n",
       " 99278135,\n",
       " 297834406,\n",
       " 148917203,\n",
       " 446751610,\n",
       " 223375805,\n",
       " 670127416,\n",
       " 335063708,\n",
       " 167531854,\n",
       " 83765927,\n",
       " 251297782,\n",
       " 125648891,\n",
       " 376946674,\n",
       " 188473337,\n",
       " 565420012,\n",
       " 282710006,\n",
       " 141355003,\n",
       " 424065010,\n",
       " 212032505,\n",
       " 636097516,\n",
       " 318048758,\n",
       " 159024379,\n",
       " 477073138,\n",
       " 238536569,\n",
       " 715609708,\n",
       " 357804854,\n",
       " 178902427,\n",
       " 536707282,\n",
       " 268353641,\n",
       " 805060924,\n",
       " 402530462,\n",
       " 201265231,\n",
       " 603795694,\n",
       " 301897847,\n",
       " 905693542,\n",
       " 452846771,\n",
       " 1358540314,\n",
       " 679270157,\n",
       " 2037810472,\n",
       " 1018905236,\n",
       " 509452618,\n",
       " 254726309,\n",
       " 764178928,\n",
       " 382089464,\n",
       " 191044732,\n",
       " 95522366,\n",
       " 47761183,\n",
       " 143283550,\n",
       " 71641775,\n",
       " 214925326,\n",
       " 107462663,\n",
       " 322387990,\n",
       " 161193995,\n",
       " 483581986,\n",
       " 241790993,\n",
       " 725372980,\n",
       " 362686490,\n",
       " 181343245,\n",
       " 544029736,\n",
       " 272014868,\n",
       " 136007434,\n",
       " 68003717,\n",
       " 204011152,\n",
       " 102005576,\n",
       " 51002788,\n",
       " 25501394,\n",
       " 12750697,\n",
       " 38252092,\n",
       " 19126046,\n",
       " 9563023,\n",
       " 28689070,\n",
       " 14344535,\n",
       " 43033606,\n",
       " 21516803,\n",
       " 64550410,\n",
       " 32275205,\n",
       " 96825616,\n",
       " 48412808,\n",
       " 24206404,\n",
       " 12103202,\n",
       " 6051601,\n",
       " 18154804,\n",
       " 9077402,\n",
       " 4538701,\n",
       " 13616104,\n",
       " 6808052,\n",
       " 3404026,\n",
       " 1702013,\n",
       " 5106040,\n",
       " 2553020,\n",
       " 1276510,\n",
       " 638255,\n",
       " 1914766,\n",
       " 957383,\n",
       " 2872150,\n",
       " 1436075,\n",
       " 4308226,\n",
       " 2154113,\n",
       " 6462340,\n",
       " 3231170,\n",
       " 1615585,\n",
       " 4846756,\n",
       " 2423378,\n",
       " 1211689,\n",
       " 3635068,\n",
       " 1817534,\n",
       " 908767,\n",
       " 2726302,\n",
       " 1363151,\n",
       " 4089454,\n",
       " 2044727,\n",
       " 6134182,\n",
       " 3067091,\n",
       " 9201274,\n",
       " 4600637,\n",
       " 13801912,\n",
       " 6900956,\n",
       " 3450478,\n",
       " 1725239,\n",
       " 5175718,\n",
       " 2587859,\n",
       " 7763578,\n",
       " 3881789,\n",
       " 11645368,\n",
       " 5822684,\n",
       " 2911342,\n",
       " 1455671,\n",
       " 4367014,\n",
       " 2183507,\n",
       " 6550522,\n",
       " 3275261,\n",
       " 9825784,\n",
       " 4912892,\n",
       " 2456446,\n",
       " 1228223,\n",
       " 3684670,\n",
       " 1842335,\n",
       " 5527006,\n",
       " 2763503,\n",
       " 8290510,\n",
       " 4145255,\n",
       " 12435766,\n",
       " 6217883,\n",
       " 18653650,\n",
       " 9326825,\n",
       " 27980476,\n",
       " 13990238,\n",
       " 6995119,\n",
       " 20985358,\n",
       " 10492679,\n",
       " 31478038,\n",
       " 15739019,\n",
       " 47217058,\n",
       " 23608529,\n",
       " 70825588,\n",
       " 35412794,\n",
       " 17706397,\n",
       " 53119192,\n",
       " 26559596,\n",
       " 13279798,\n",
       " 6639899,\n",
       " 19919698,\n",
       " 9959849,\n",
       " 29879548,\n",
       " 14939774,\n",
       " 7469887,\n",
       " 22409662,\n",
       " 11204831,\n",
       " 33614494,\n",
       " 16807247,\n",
       " 50421742,\n",
       " 25210871,\n",
       " 75632614,\n",
       " 37816307,\n",
       " 113448922,\n",
       " 56724461,\n",
       " 170173384,\n",
       " 85086692,\n",
       " 42543346,\n",
       " 21271673,\n",
       " 63815020,\n",
       " 31907510,\n",
       " 15953755,\n",
       " 47861266,\n",
       " 23930633,\n",
       " 71791900,\n",
       " 35895950,\n",
       " 17947975,\n",
       " 53843926,\n",
       " 26921963,\n",
       " 80765890,\n",
       " 40382945,\n",
       " 121148836,\n",
       " 60574418,\n",
       " 30287209,\n",
       " 90861628,\n",
       " 45430814,\n",
       " 22715407,\n",
       " 68146222,\n",
       " 34073111,\n",
       " 102219334,\n",
       " 51109667,\n",
       " 153329002,\n",
       " 76664501,\n",
       " 229993504,\n",
       " 114996752,\n",
       " 57498376,\n",
       " 28749188,\n",
       " 14374594,\n",
       " 7187297,\n",
       " 21561892,\n",
       " 10780946,\n",
       " 5390473,\n",
       " 16171420,\n",
       " 8085710,\n",
       " 4042855,\n",
       " 12128566,\n",
       " 6064283,\n",
       " 18192850,\n",
       " 9096425,\n",
       " 27289276,\n",
       " 13644638,\n",
       " 6822319,\n",
       " 20466958,\n",
       " 10233479,\n",
       " 30700438,\n",
       " 15350219,\n",
       " 46050658,\n",
       " 23025329,\n",
       " 69075988,\n",
       " 34537994,\n",
       " 17268997,\n",
       " 51806992,\n",
       " 25903496,\n",
       " 12951748,\n",
       " 6475874,\n",
       " 3237937,\n",
       " 9713812,\n",
       " 4856906,\n",
       " 2428453,\n",
       " 7285360,\n",
       " 3642680,\n",
       " 1821340,\n",
       " 910670,\n",
       " 455335,\n",
       " 1366006,\n",
       " 683003,\n",
       " 2049010,\n",
       " 1024505,\n",
       " 3073516,\n",
       " 1536758,\n",
       " 768379,\n",
       " 2305138,\n",
       " 1152569,\n",
       " 3457708,\n",
       " 1728854,\n",
       " 864427,\n",
       " 2593282,\n",
       " 1296641,\n",
       " 3889924,\n",
       " 1944962,\n",
       " 972481,\n",
       " 2917444,\n",
       " 1458722,\n",
       " 729361,\n",
       " 2188084,\n",
       " 1094042,\n",
       " 547021,\n",
       " 1641064,\n",
       " 820532,\n",
       " 410266,\n",
       " 205133,\n",
       " 615400,\n",
       " 307700,\n",
       " 153850,\n",
       " 76925,\n",
       " 230776,\n",
       " 115388,\n",
       " 57694,\n",
       " 28847,\n",
       " 86542,\n",
       " 43271,\n",
       " 129814,\n",
       " 64907,\n",
       " 194722,\n",
       " 97361,\n",
       " 292084,\n",
       " 146042,\n",
       " 73021,\n",
       " 219064,\n",
       " 109532,\n",
       " 54766,\n",
       " 27383,\n",
       " 82150,\n",
       " 41075,\n",
       " 123226,\n",
       " 61613,\n",
       " 184840,\n",
       " 92420,\n",
       " 46210,\n",
       " 23105,\n",
       " 69316,\n",
       " 34658,\n",
       " 17329,\n",
       " 51988,\n",
       " 25994,\n",
       " 12997,\n",
       " 38992,\n",
       " 19496,\n",
       " 9748,\n",
       " 4874,\n",
       " 2437,\n",
       " 7312,\n",
       " 3656,\n",
       " 1828,\n",
       " 914,\n",
       " 457,\n",
       " 1372,\n",
       " 686,\n",
       " 343,\n",
       " 1030,\n",
       " 515,\n",
       " 1546,\n",
       " 773,\n",
       " 2320,\n",
       " 1160,\n",
       " 580,\n",
       " 290,\n",
       " 145,\n",
       " 436,\n",
       " 218,\n",
       " 109,\n",
       " 328,\n",
       " 164,\n",
       " 82,\n",
       " 41,\n",
       " 124,\n",
       " 62,\n",
       " 31,\n",
       " 94,\n",
       " 47,\n",
       " 142,\n",
       " 71,\n",
       " 214,\n",
       " 107,\n",
       " 322,\n",
       " 161,\n",
       " 484,\n",
       " 242,\n",
       " 121,\n",
       " 364,\n",
       " 182,\n",
       " 91,\n",
       " 274,\n",
       " 137,\n",
       " 412,\n",
       " 206,\n",
       " 103,\n",
       " 310,\n",
       " 155,\n",
       " 466,\n",
       " 233,\n",
       " 700,\n",
       " 350,\n",
       " 175,\n",
       " 526,\n",
       " 263,\n",
       " 790,\n",
       " 395,\n",
       " 1186,\n",
       " 593,\n",
       " 1780,\n",
       " 890,\n",
       " 445,\n",
       " 1336,\n",
       " 668,\n",
       " 334,\n",
       " 167,\n",
       " 502,\n",
       " 251,\n",
       " 754,\n",
       " 377,\n",
       " 1132,\n",
       " 566,\n",
       " 283,\n",
       " 850,\n",
       " 425,\n",
       " 1276,\n",
       " 638,\n",
       " 319,\n",
       " 958,\n",
       " 479,\n",
       " 1438,\n",
       " 719,\n",
       " 2158,\n",
       " 1079,\n",
       " 3238,\n",
       " 1619,\n",
       " 4858,\n",
       " 2429,\n",
       " 7288,\n",
       " 3644,\n",
       " 1822,\n",
       " 911,\n",
       " 2734,\n",
       " 1367,\n",
       " 4102,\n",
       " 2051,\n",
       " 6154,\n",
       " 3077,\n",
       " 9232,\n",
       " 4616,\n",
       " 2308,\n",
       " 1154,\n",
       " 577,\n",
       " 1732,\n",
       " 866,\n",
       " 433,\n",
       " 1300,\n",
       " 650,\n",
       " 325,\n",
       " 976,\n",
       " 488,\n",
       " 244,\n",
       " 122,\n",
       " 61,\n",
       " 184,\n",
       " 92,\n",
       " 46,\n",
       " 23,\n",
       " 70,\n",
       " 35,\n",
       " 106,\n",
       " 53,\n",
       " 160,\n",
       " 80,\n",
       " 40,\n",
       " 20,\n",
       " 10,\n",
       " 5,\n",
       " 16,\n",
       " 8,\n",
       " 4,\n",
       " 2,\n",
       " 1]"
      ]
     },
     "execution_count": 22,
     "metadata": {},
     "output_type": "execute_result"
    }
   ],
   "source": [
    "collatzZinciri=[]\n",
    "sonZincir=[]\n",
    "enUzunZincir=[]\n",
    "x = 2\n",
    "while x <= 1000000:\n",
    "    a=x\n",
    "    collatzZinciri.clear()\n",
    "    collatzZinciri.append(int(a))\n",
    "    while a != 1:\n",
    "        \n",
    "        if a % 2 == 0:\n",
    "            a = a/2\n",
    "            collatzZinciri.append(int(a))\n",
    "        else:\n",
    "            a = (3*a)+1\n",
    "            collatzZinciri.append(int(a))\n",
    "\n",
    "    sonZincir = collatzZinciri.copy()\n",
    "\n",
    "    if len(sonZincir) > len(enUzunZincir):\n",
    "        enUzunZincir = sonZincir.copy()\n",
    "    \n",
    "    x +=1\n",
    "print(\"En uzun Collatz dizisininin başlangıç değeri \", enUzunZincir[0], \"olarak hesaplanmıştır. \\n Dizinin tamamı aşağıdadır;\")\n",
    "enUzunZincir"
   ]
  },
  {
   "cell_type": "markdown",
   "id": "af656b2e",
   "metadata": {},
   "source": [
    "**Alıştırma_1**\n",
    "\n",
    "**Yukarıdaki kodun çalışması çok uzun sürdüğü için internet üzerinden hazır kod bulunmuştur;**\n",
    "\n",
    "Burada tüm zinciri 1 e kadar takip etmek yerine daha önce hesapladigimiz bir sayi gördüğümüzde duruyoruz. Taramayı küçük sayılardan büyük sayılara doğru yapacağız. Collatz dizisini oluştururken, başladığımız sayıdan daha küçük bir sayıya rastlarsak, dizinin kalan kısmını daha önceki taramalarda bulmuş olacağımız için, bu kısmın uzunluğunu hafızadan okuyacağız. \n",
    "\n",
    "**Örneğin:** 13 → 40 → 20 → 10 → 5 → 16 → 8 → 4 → 2 → 1 serisinde, 10 sayısının Collatz uzunluğunu hafızadan bulup, üzerine 3 ekleyeğiz"
   ]
  },
  {
   "cell_type": "code",
   "execution_count": 24,
   "id": "f527789e",
   "metadata": {},
   "outputs": [
    {
     "name": "stdout",
     "output_type": "stream",
     "text": [
      "En uzun Collatz dizisininin başlangıç değeri  837799\n"
     ]
    }
   ],
   "source": [
    "def collatz_sonraki(n):\n",
    "    if(n==1):\n",
    "        return 1\n",
    "    if(n%2==0):\n",
    "        return n//2\n",
    "    else:\n",
    "        return 3*n+1\n",
    "\n",
    "def collatz_uzunlugu(sayi,hafiza):\n",
    "    dizi = [sayi]\n",
    "    n=sayi\n",
    "    while n not in hafiza.keys():\n",
    "        n = collatz_sonraki(n)\n",
    "        dizi.append(n)       \n",
    "    ret = len(dizi)+hafiza[n]-1\n",
    "    hafiza[sayi] = ret\n",
    "    dizi.reverse()\n",
    "    for idx,i in enumerate(dizi[1:]):\n",
    "        hafiza[i]=idx+1+hafiza[dizi[0]]\n",
    "    return ret\n",
    "\n",
    "\n",
    "hafiza = {1:1}\n",
    "for i in range(2,1000000):\n",
    "    collatz_uzunlugu(i,hafiza)\n",
    "\n",
    "\n",
    "en_uzun_collatz_dizisi = max(hafiza, key=hafiza.get)\n",
    "print(\"En uzun Collatz dizisininin başlangıç değeri \",en_uzun_collatz_dizisi)\n"
   ]
  },
  {
   "cell_type": "markdown",
   "id": "6c228b6e",
   "metadata": {},
   "source": [
    "## ÖRNEK 4\n",
    "\n",
    "Üstel fonksiyon için Taylor serisi\n",
    "===================\n",
    "Üstel fonksiyonun $x=0$ çevresinde bir sonsuz seri ile gösterilebileceğini temel analiz derslerinden biliyoruz.\n",
    "\n",
    "$$e^x = \\sum_{n=0}^{\\infty} \\frac {x^n}{n!} = 1 + x + \\frac{1}{2}x^2 + \\frac{1}{6}x^3 + \\cdots$$\n",
    "\n",
    "Bu seri bütün $x$ değerleri için yakınsar, yani her $x$ değeri için yeterince terim ekleyerek $e^x$ değerini istediğimiz hassasiyette hesaplayabiliriz.\n",
    "\n",
    "$x$ değerini kullanıcıdan sorarak, yukarıdaki seriyle $e^x$ değerini veren bir program yazın. Programın içinde     `tol` isimli bir tolerans değişkeni tanımlayın ve $10^{-10}$ değeri verin. Bir döngü içinde, son terimin mutlak değeri `tol`'den küçük olana kadar seriye yeni terimler ekleyin.\n",
    "\n",
    "Her terimi sıfırdan hesaplamak gereksiz yük bindirecektir. Eklenecek yeni terimi hesaplarken, bir önceki terimi $x$ ile çarpıp, iterasyon değişkeni olan $n$'ye bölmek daha verimli olur.\n",
    "\n",
    "Çeşitli $x$ ve `tol` değerleri kullanarak $e^x$ değerlerini, kaç terim gerektiğini, ve son terimi ekrana bastırın.\n",
    "\n",
    "Örnek çıktı:\n",
    "\n",
    "    x değerini girin: 3.0\n",
    "    e^x ~  20.0855369232\n",
    "    22 terim kullanıldı\n",
    "    Son terim = 2.79190741015e-11\n",
    "Matematik kütüphanesindeki fonksiyonla karşılaştırmak isterseniz `math.exp()` fonksiyonunu kullanabilirsiniz."
   ]
  },
  {
   "cell_type": "code",
   "execution_count": 1,
   "id": "0f7c52ed",
   "metadata": {},
   "outputs": [
    {
     "name": "stdout",
     "output_type": "stream",
     "text": [
      "X değeri giriniz = 3\n",
      "e^ 3 ~ 20.085536923183504\n",
      "22 terim kullanıldı.\n",
      "Son terim =  2.791907410153296e-11\n"
     ]
    }
   ],
   "source": [
    "x = int(input(\"X değeri giriniz = \"))\n",
    "tol = 10**-10\n",
    "taylorSerisi = 1\n",
    "sayac=1\n",
    "sonTerim=1\n",
    "while True:\n",
    "    sonTerim = (sonTerim*x)/sayac\n",
    "    taylorSerisi = taylorSerisi+sonTerim\n",
    "    if sonTerim < tol:\n",
    "        break\n",
    "    else:\n",
    "        sayac += 1\n",
    "\n",
    "print(\"e^\",x,\"~\",taylorSerisi)\n",
    "print(sayac, \"terim kullanıldı.\")\n",
    "print(\"Son terim = \", sonTerim)"
   ]
  },
  {
   "cell_type": "markdown",
   "id": "39471320",
   "metadata": {},
   "source": [
    "## ÖRNEK 5\n",
    "\n",
    "Babil yöntemiyle karekök bulma\n",
    "===================\n",
    "Verilen bir $N$ sayısının karekökünü bulmak için Babil döneminden beri kullanılan tekrarlamalı (iteratif) bir yöntem vardır: Önce, karekök için bir tahminde bulunun ve buna $x_0$ deyin. Bir sonraki tahminimiz\n",
    "$$x_1 = \\frac{1}{2}\\left(x_0 + N/x_0\\right)$$\n",
    "olacak. Genel olarak,\n",
    "$$x_{n+1} = \\frac{1}{2}\\left(x_n + N/x_n\\right)$$\n",
    "kuralıyla ardışık iterasyonlar yaparsak, $x_n$ değerleri hızlıca $N$'nin kareköküne yakınsayacaktır.\n",
    "\n",
    "Bu yöntem, fonksiyon köklerini bulmak için kullanılan en iyi algoritmalardan biri olan Newton yönteminin özel bir durumudur.\n",
    "\n",
    "Bu yöntemi kullanarak karekök değerini hesaplayan bir program yazın. Program kullanıcıya karekökü alınacak sayıyı ve ilk tahmini sorsun. Bir döngü içinde, hata değeri $|x_n^2 - N|$ programda belirlenen bir toleranstan (sözgelişi $10^{-10}$) küçük olana kadar iterasyonlar tekrarlansın. Program karekökün tahmini değerini ve sonuca ulaşmak için kaç iterasyon gerektiğini ekrana bassın.\n",
    "\n",
    "Örnek çıktı:\n",
    "\n",
    "    Karekökü alınacak sayı: 135.646\n",
    "    İlk tahmin: 10\n",
    "    Karekök ~  11.6467162754\n",
    "    4 iterasyon"
   ]
  },
  {
   "cell_type": "code",
   "execution_count": 4,
   "id": "cef9c749",
   "metadata": {},
   "outputs": [
    {
     "name": "stdout",
     "output_type": "stream",
     "text": [
      "Karekökü alınacak sayıyı giriniz =135.646\n",
      "İlk tahmininiz nedir =10\n",
      "Karekökü alınacak sayı: 135.646\n",
      "İlk tahmin:  10\n",
      "Karekök ~ 11.646716275414285\n",
      "4  iterasyon\n"
     ]
    }
   ],
   "source": [
    "N = float(input(\"Karekökü alınacak sayıyı giriniz =\"))\n",
    "ilkTahmin = int(input(\"İlk tahmininiz nedir =\"))\n",
    "\n",
    "print(\"Karekökü alınacak sayı:\", N)\n",
    "print(\"İlk tahmin: \",ilkTahmin)\n",
    "\n",
    "tolerans = 10**(-10)\n",
    "iterasyon = 0\n",
    "x=ilkTahmin\n",
    "hataDegeri=(x**2)-N\n",
    "while abs((x**2)-N) > tolerans:   \n",
    "    x = ( ilkTahmin + (N/ilkTahmin) ) / 2\n",
    "    ilkTahmin = x\n",
    "    iterasyon += 1\n",
    "    \n",
    "\n",
    "print(\"Karekök ~\", x)\n",
    "print(iterasyon,\"iterasyon\")\n"
   ]
  },
  {
   "cell_type": "markdown",
   "id": "6a7fe0c9",
   "metadata": {},
   "source": [
    "## ÖRNEK 6\n",
    "\n",
    "\n",
    "Pi sayısı ve Machin formülü\n",
    "================\n",
    "Pi'yi hesaplamak için <a href=\"http://www.acikbilim.com/2013/03/dosyalar/pi-gunu-kutlu-olsun.html\">tarih boyunca çeşitli yöntemler geliştirildi</a>. Önceki bir örnekte kullandığımız Leibniz formülü $\\arctan$ fonksiyonunun Taylor açılımına dayanır:\n",
    "\n",
    "$$\\arctan x = x - \\frac{1}{3}x^3 + \\frac{1}{5}x^5 - \\frac{1}{7} x^7 + \\cdots$$\n",
    "\n",
    "Bu formülde $x=1$ koyarak Leibniz formülünü elde ederiz:\n",
    "\n",
    "$$\\frac{\\pi}{4} = 1 - \\frac{1}{3} + \\frac{1}{5} - \\frac{1}{7} + \\ldots$$\n",
    "\n",
    "Bu formül, onu ilk defa 14. yüzyılın sonunda keşfeden dâhi Hintli matematikçi Madhava'nın, ve astronom James Gregory'nin de adı eklenerek, Madhava-Gregory-Leibniz serisi olarak da anılır.\n",
    "\n",
    "Daha önce gördüğümüz gibi, $x=1$ için bu seri çok yavaş yakınsar. Ancak, $x$'in birden küçük olduğu değerlerde yakınsama hızlı olur. 1706'da John Machin $\\pi$ için hızlı yakınsayan, böylelikle az sayıda terimle yüksek doğruluk sağlayan bir formül yayınladı.\n",
    "\n",
    "$$\\pi = 16 \\arctan \\frac{1}{5} - 4 \\arctan \\frac{1}{239}$$\n",
    "\n",
    "Buradaki her bir terim, $\\arctan$ fonksiyonunun yukarıda verilen açılımıyla hesaplanabilir.\n",
    "\n",
    "Bu formülle Machin, $\\pi$'yi o dönem için bir rekor olan 100 basamağa kadar hesaplayabilmişti. $\\pi$'nin birkaç $\\arctan$ teriminin toplamı olarak ifade edildiği formüllere <a href=\"http://en.wikipedia.org/wiki/Machin-like_formula\">_Machin benzeri_</a> adı verilir. Bu algoritmalar, $\\pi$'yi trilyon basamağa kadar hesaplarken bile kullanılabilecek kadar verimlidirler.\n",
    "\n",
    "Machin formülüyle $\\pi$'yi hesaplayacak bir program yazın. Programda $\\arctan$ fonksiyonlarının değerlerini yine bir döngü içinde, serinin son terimi belli bir hata payı değerinin altında olacak şekilde hesaplatın."
   ]
  },
  {
   "cell_type": "markdown",
   "id": "b30ec597",
   "metadata": {},
   "source": [
    "# SORUDA TAM OLARAK NE İSTENİYOR ANLAMADIM !!"
   ]
  },
  {
   "cell_type": "code",
   "execution_count": 119,
   "id": "a2a88815",
   "metadata": {},
   "outputs": [
    {
     "name": "stdout",
     "output_type": "stream",
     "text": [
      "Hesaplanan Pi: 3.1415926535897936\n"
     ]
    }
   ],
   "source": [
    "import math\n",
    "\n",
    "def machin_pi():\n",
    "    pi_approx = (16*math.atan(1/5))-(4*math.atan(1/239))\n",
    "    return pi_approx\n",
    "\n",
    "# Örnek kullanım\n",
    "hesaplanan_pi = machin_pi()\n",
    "print(\"Hesaplanan Pi:\", hesaplanan_pi)"
   ]
  },
  {
   "cell_type": "markdown",
   "id": "6577b791",
   "metadata": {},
   "source": [
    "## ÖRNEK 7\n",
    "\n",
    "\n",
    "Lojistik fonksiyon ve kaos\n",
    "===============\n",
    "Matematiksel kaosun gözlendiği en basit sistemlerden biri, <a href=\"https://www.wikizero.com/en/Logistic_map\">_lojistik fonksiyon_</a> denen fonksiyonun iterasyonlarında bulunur. Lojistik dizinin her yeni terimi $x_{t+1}$, bir önceki terim $x_t$'den şu formülle elde edilir.:\n",
    "\n",
    "$$x_{t+1} = r x_t (1-x_t)$$\n",
    "\n",
    "Burada $x_t$ 0 ile 1 arasında kalan dinamik değişken, $r$ ise 0 ile 4 arasında bir parametredir. Parametre bir kere belirlendikten sonra dizi içinde değişmez.\n",
    "\n",
    "**1)**\n",
    "$x_0 = 0.1$ değerinden başlayarak, kullanıcıdan alınan bir $r$ değerini kullanarak ardışık $x_0\\ldots x_{100}$ değerlerini ekrana yazan bir program yazın. Programı r parametresine sırayla 2.1, 3.1, 3.4, 3.5 değerleri vererek çalıştırın. Elde edilen $x_t$ değerlerinin uzun vadeli davranışını inceleyin (sabit bir noktaya mı yakınsıyor, periyodik bir döngüye mi oturuyor?)\n",
    "Örnek çıktı:\n",
    "<pre>\n",
    "r parametresi (0-4): 2.1\n",
    "0.1\n",
    "0.189\n",
    "0.3218859\n",
    "0.4583782715\n",
    "0.521362026605\n",
    "0.524041694021\n",
    "...\n",
    "0.52380952381\n",
    "0.52380952381\n",
    "0.5238095238\n",
    "</pre>\n",
    "\n"
   ]
  },
  {
   "cell_type": "code",
   "execution_count": 64,
   "id": "e8080e89",
   "metadata": {
    "scrolled": true
   },
   "outputs": [
    {
     "name": "stdout",
     "output_type": "stream",
     "text": [
      "0-4 arasında bir r parametresi giriniz = 2.1\n",
      "0.1\n",
      "0.18900000000000003\n",
      "0.32188590000000006\n",
      "0.4583782715004991\n",
      "0.521362026605099\n",
      "0.5240416940205784\n",
      "0.5237861935921039\n",
      "0.5238118556882378\n",
      "0.5238092906102334\n",
      "0.5238095471293387\n",
      "0.5238095214775412\n",
      "0.5238095240427221\n",
      "0.5238095237862039\n",
      "0.5238095238118559\n",
      "0.5238095238092906\n",
      "0.5238095238095472\n",
      "0.5238095238095215\n",
      "0.5238095238095241\n",
      "0.5238095238095238\n",
      "0.5238095238095238\n",
      "0.5238095238095238\n",
      "0.5238095238095238\n",
      "0.5238095238095238\n",
      "0.5238095238095238\n",
      "0.5238095238095238\n",
      "0.5238095238095238\n",
      "0.5238095238095238\n",
      "0.5238095238095238\n",
      "0.5238095238095238\n",
      "0.5238095238095238\n",
      "0.5238095238095238\n",
      "0.5238095238095238\n",
      "0.5238095238095238\n",
      "0.5238095238095238\n",
      "0.5238095238095238\n",
      "0.5238095238095238\n",
      "0.5238095238095238\n",
      "0.5238095238095238\n",
      "0.5238095238095238\n",
      "0.5238095238095238\n",
      "0.5238095238095238\n",
      "0.5238095238095238\n",
      "0.5238095238095238\n",
      "0.5238095238095238\n",
      "0.5238095238095238\n",
      "0.5238095238095238\n",
      "0.5238095238095238\n",
      "0.5238095238095238\n",
      "0.5238095238095238\n",
      "0.5238095238095238\n",
      "0.5238095238095238\n",
      "0.5238095238095238\n",
      "0.5238095238095238\n",
      "0.5238095238095238\n",
      "0.5238095238095238\n",
      "0.5238095238095238\n",
      "0.5238095238095238\n",
      "0.5238095238095238\n",
      "0.5238095238095238\n",
      "0.5238095238095238\n",
      "0.5238095238095238\n",
      "0.5238095238095238\n",
      "0.5238095238095238\n",
      "0.5238095238095238\n",
      "0.5238095238095238\n",
      "0.5238095238095238\n",
      "0.5238095238095238\n",
      "0.5238095238095238\n",
      "0.5238095238095238\n",
      "0.5238095238095238\n",
      "0.5238095238095238\n",
      "0.5238095238095238\n",
      "0.5238095238095238\n",
      "0.5238095238095238\n",
      "0.5238095238095238\n",
      "0.5238095238095238\n",
      "0.5238095238095238\n",
      "0.5238095238095238\n",
      "0.5238095238095238\n",
      "0.5238095238095238\n",
      "0.5238095238095238\n",
      "0.5238095238095238\n",
      "0.5238095238095238\n",
      "0.5238095238095238\n",
      "0.5238095238095238\n",
      "0.5238095238095238\n",
      "0.5238095238095238\n",
      "0.5238095238095238\n",
      "0.5238095238095238\n",
      "0.5238095238095238\n",
      "0.5238095238095238\n",
      "0.5238095238095238\n",
      "0.5238095238095238\n",
      "0.5238095238095238\n",
      "0.5238095238095238\n",
      "0.5238095238095238\n",
      "0.5238095238095238\n",
      "0.5238095238095238\n",
      "0.5238095238095238\n",
      "0.5238095238095238\n",
      "0.5238095238095238\n"
     ]
    }
   ],
   "source": [
    "r = float(input(\"0-4 arasında bir r parametresi giriniz = \"))\n",
    "x=0.1\n",
    "i=0\n",
    "while i <= 100:\n",
    "    print(x)\n",
    "    x = (r*x)*(1-x)\n",
    "    i += 1"
   ]
  },
  {
   "cell_type": "markdown",
   "id": "1d15a94a",
   "metadata": {},
   "source": [
    "**2)**  $r $= 3.5 için dizi, periyotu dört olan bir salınıma oturur. Deneme yanılma ile, dört periyotlu salınım veren en düşük ve en yüksek $r$ değerlerini belirleyin.</li>\n"
   ]
  },
  {
   "cell_type": "code",
   "execution_count": 63,
   "id": "52767be8",
   "metadata": {
    "scrolled": true
   },
   "outputs": [
    {
     "name": "stdout",
     "output_type": "stream",
     "text": [
      "0-4 arasında bir r parametresi giriniz = 3.45\n",
      "0.1\n",
      "0.31050000000000005\n",
      "0.7386096375000002\n",
      "0.6660757710778088\n",
      "0.7673449920001438\n",
      "0.6159169606209285\n",
      "0.816143240929401\n",
      "0.5176844066905586\n",
      "0.8614210530720102\n",
      "0.41184313726730115\n",
      "0.835687868058292\n",
      "0.4737321105727517\n",
      "0.8601194930483808\n",
      "0.4150831300066915\n",
      "0.8376224819073614\n",
      "0.4692381560019612\n",
      "0.8592352958907492\n",
      "0.4172775075426862\n",
      "0.8388916128836913\n",
      "0.46627603777396165\n",
      "0.8585762955826298\n",
      "0.4189094888495228\n",
      "0.8398139350546724\n",
      "0.4641163889221732\n",
      "0.8580576642732528\n",
      "0.4201917462403799\n",
      "0.8405257170798484\n",
      "0.46244571422503\n",
      "0.8576343808887651\n",
      "0.4212368911417685\n",
      "0.8410974857563029\n",
      "0.4611011429770141\n",
      "0.8572797322819534\n",
      "0.4221116155068481\n",
      "0.8415702284856121\n",
      "0.4599877375923892\n",
      "0.8569766150567346\n",
      "0.4228585522440939\n",
      "0.8419697297815237\n",
      "0.45904562850037317\n",
      "0.8567134511199934\n",
      "0.423506522575721\n",
      "0.8423131802948175\n",
      "0.4582348187577448\n",
      "0.8564820602435156\n",
      "0.4240758654996579\n",
      "0.8426125640112901\n",
      "0.4575273768865532\n",
      "0.8562764631862279\n",
      "0.42458143213931787\n",
      "0.8428765366953607\n",
      "0.45690309801409273\n",
      "0.8560921667852991\n",
      "0.42503437220182005\n",
      "0.8431115335384454\n",
      "0.4563469406574922\n",
      "0.8559257159146362\n",
      "0.42544325238975533\n",
      "0.843322455280949\n",
      "0.4558474363645198\n",
      "0.8557744013792314\n",
      "0.42581478486521085\n",
      "0.8435131108011474\n",
      "0.4553956623416292\n",
      "0.8556360630641003\n",
      "0.426154317736522\n",
      "0.8436865124780931\n",
      "0.45498455493522716\n",
      "0.8555089534843905\n",
      "0.42646617477389553\n",
      "0.8438450790892776\n",
      "0.4546084374720051\n",
      "0.8553916408768716\n",
      "0.42675389650221435\n",
      "0.8439907787122511\n",
      "0.4542626873552398\n",
      "0.8552829389005223\n",
      "0.42702041497541665\n",
      "0.8441252315852568\n",
      "0.45394349620305724\n",
      "0.8551818546801075\n",
      "0.42726818286569646\n",
      "0.8442497855783808\n",
      "0.453647693695874\n",
      "0.8550875497659953\n",
      "0.4274992704040772\n",
      "0.8443655725178032\n",
      "0.4533726160024754\n",
      "0.8549993103623387\n",
      "0.4277154392658106\n",
      "0.8444735508641552\n",
      "0.453116006004889\n",
      "0.854916524319379\n",
      "0.4279181996394282\n",
      "0.8445745384958865\n",
      "0.45287593660019665\n",
      "0.8548386631379851\n",
      "0.4281088548414441\n",
      "0.8446692382048806\n",
      "0.4526507510116721\n",
      "0.8547652677398325\n"
     ]
    }
   ],
   "source": [
    "# 2 \n",
    "# r=3.5 için dizi, periyotu dört olan bir salınıma oturur. \n",
    "# Deneme yanılma ile, dört periyotlu salınım veren en düşük ve en yüksek r değerlerini belirleyin\n",
    "\n",
    "r = float(input(\"0-4 arasında bir r parametresi giriniz = \"))\n",
    "x=0.1\n",
    "i=0\n",
    "while i <= 100:\n",
    "    print(x)\n",
    "    x = (r*x)*(1-x)\n",
    "    i += 1\n",
    "\n",
    "# En yüksek r parametresi = 3.538\n",
    "# En düşük r parametresi = 3.45"
   ]
  },
  {
   "cell_type": "markdown",
   "id": "865d85a5",
   "metadata": {},
   "source": [
    "**3)** <i>Kaos</i>'un alametifarikası, birbirine çok yakın yerden başlayan iki yörüngenin hızla (üstel olarak) birbirinden uzaklaşmasıdır. Bunu görmek için programı biraz değiştirelim: Programı iki ayrı değerle başlayan dizileri, iki ayrı sütunda basacak şekilde değiştirin. Başlangıç değerleri 0.1 ve 0.10001 olsun. Bu programı $r=$ 3.1, 3.5, 3.57, 3.7 ve 4.0 için çalıştırın.\n",
    "\n",
    "<ul>\n",
    "<li>Hangi $r$ değerleri için uzun vadede iki sütundaki sayılar eşitleniyor? (Kaos olmayan durum)\n",
    "<li>Hangi değerlerde sütunlardaki sayılar birbirine yakın başlamasına rağmen sonunda çok farklı hale geliyorlar? \n",
    "<li>Sütunlardaki sayıların arasındaki farkın belli bir miktar açılması için gereken zaman $r$ ile nasıl değişiyor?</li></li>\n",
    "</ol>"
   ]
  },
  {
   "cell_type": "code",
   "execution_count": 69,
   "id": "ce1192f5",
   "metadata": {
    "scrolled": true
   },
   "outputs": [
    {
     "name": "stdout",
     "output_type": "stream",
     "text": [
      "0-4 arasında bir r parametresi giriniz = 3.1\n",
      "0.1 0.1001\n",
      "0.2790000000000001 0.279247969\n",
      "0.6235929 0.6239324765090626\n",
      "0.727646864715729 0.727386297925625\n",
      "0.6143484054538055 0.6147159616986047\n",
      "0.7344657707275335 0.7342047692078493\n",
      "0.6045799873071455 0.604959190848924\n",
      "0.7410953813899956 0.7408490615946514\n",
      "0.5948063529244789 0.5951743615398251\n",
      "0.7471364418799934 0.7469197068070087\n",
      "0.5856630951941797 0.5859950410100567\n",
      "0.7522516857774341 0.7520750440572038\n",
      "0.5777441697695722 0.5780203337070322\n",
      "0.7562631166072038 0.7561297653375544\n",
      "0.5714205667069643 0.5716323842552009\n",
      "0.7591872182188938 0.7590932847303372\n",
      "0.5667481563270498 0.5668990764036977\n",
      "0.7611885192435132 0.7611259920866299\n",
      "0.563519727987681 0.5636209703959972\n",
      "0.7624922568847502 0.7624523535902021\n",
      "0.561403226734206 0.5614681624943869\n",
      "0.7633118956145459 0.7632871614986473\n",
      "0.5600672214464109 0.5601075988289542\n",
      "0.7638149796138943 0.7637999373453543\n",
      "0.5592451352470936 0.55926973847542\n",
      "0.7641190432436161 0.7641100041132715\n",
      "0.5587475060878382 0.558762307754592\n",
      "0.7643010646382241 0.7642956726807993\n",
      "0.5584493364164139 0.5584581719468317\n",
      "0.7644093927246908 0.7644061906111675\n",
      "0.5582717864207768 0.558277035736122\n",
      "0.7644736366127273 0.7644717400280134\n",
      "0.5581664561642011 0.5581695660523202\n",
      "0.764511656469624 0.7645105349143828\n",
      "0.5581041091342563 0.558105948449852\n",
      "0.7645341287553148 0.7645334661397039\n",
      "0.5580672536433663 0.5580683404055539\n",
      "0.7645474015683826 0.7645470103118887\n",
      "0.5580454842025924 0.5580461259386286\n",
      "0.7645552374674285 0.7645550065169023\n",
      "0.5580326316185129 0.5580330104332094\n",
      "0.764559862369033 0.764559726070183\n",
      "0.5580250455921629 0.5580252691591763\n",
      "0.764562591660485 0.764562511230916\n",
      "0.5580205687910512 0.5580207007186935\n",
      "0.764564202151205 0.7645641546931465\n",
      "0.5580179271142987 0.5580180049596526\n",
      "0.7645651524134157 0.7645651244115553\n",
      "0.558016368398245 0.5580164143298045\n",
      "0.7645657130934252 0.7645656965717686\n",
      "0.558015448711639 0.5580154758122341\n",
      "0.7645660439034403 0.7645660341554682\n",
      "0.5580149060811771 0.5580149220708677\n",
      "0.7645662390844159 0.7645662333330446\n",
      "0.5580145859238559 0.5580145953578916\n",
      "0.7645663542422589 0.7645663508489264\n",
      "0.5580143970291747 0.5580144025952966\n",
      "0.7645664221857581 0.7645664201836836\n",
      "0.5580142855806643 0.5580142888646908\n",
      "0.7645664622725519 0.7645664610913251\n",
      "0.5580142198258178 0.5580142217633983\n",
      "0.7645664859238053 0.7645664852268804\n",
      "0.5580141810303798 0.558014182173554\n",
      "0.7645664998780604 0.7645664994668744\n",
      "0.5580141581410442 0.5580141588155175\n",
      "0.7645665081110763 0.7645665078684765\n",
      "0.5580141446363266 0.5580141450342662\n",
      "0.7645665129685577 0.7645665128254238\n",
      "0.5580141366685398 0.5580141369033241\n",
      "0.7645665158344724 0.7645665157500234\n",
      "0.5580141319675443 0.5580141321060671\n",
      "0.7645665175253623 0.7645665174755374\n",
      "0.5580141291939567 0.5580141292756852\n",
      "0.7645665185229874 0.7645665184935907\n",
      "0.5580141275575399 0.5580141276057597\n",
      "0.7645665191115862 0.7645665190942421\n",
      "0.558014126592054 0.5580141266205036\n",
      "0.7645665194588596 0.7645665194486266\n",
      "0.5580141260224172 0.5580141260392024\n",
      "0.7645665196637508 0.7645665196577134\n",
      "0.5580141256863316 0.5580141256962348\n",
      "0.7645665197846366 0.7645665197810746\n",
      "0.558014125488041 0.5580141254938839\n",
      "0.7645665198559592 0.7645665198538577\n",
      "0.5580141253710496 0.5580141253744968\n",
      "0.7645665198980396 0.7645665198967998\n",
      "0.5580141253020248 0.5580141253040584\n",
      "0.764566519922867 0.7645665199221356\n",
      "0.5580141252613001 0.5580141252624996\n",
      "0.7645665199375151 0.7645665199370837\n",
      "0.5580141252372726 0.5580141252379802\n",
      "0.7645665199461577 0.7645665199459031\n",
      "0.5580141252230961 0.5580141252235136\n",
      "0.7645665199512567 0.7645665199511065\n",
      "0.558014125214732 0.5580141252149784\n",
      "0.7645665199542652 0.7645665199541765\n",
      "0.5580141252097972 0.5580141252099426\n",
      "0.7645665199560402 0.7645665199559878\n",
      "0.5580141252068855 0.5580141252069716\n",
      "0.7645665199570875 0.7645665199570565\n",
      "0.5580141252051678 0.5580141252052185\n"
     ]
    }
   ],
   "source": [
    "r = float(input(\"0-4 arasında bir r parametresi giriniz = \"))\n",
    "x=0.1\n",
    "y=0.1001\n",
    "i=0\n",
    "while i <= 100:\n",
    "    print(x,y)\n",
    "    x = (r*x)*(1-x)\n",
    "    y = (r*y)*(1-y)\n",
    "    i += 1"
   ]
  },
  {
   "cell_type": "markdown",
   "id": "31b196be",
   "metadata": {},
   "source": [
    "## ÖRNEK 8\n",
    "\n",
    "\n",
    "sındaki farkın belli bir miktar açılması için gereken zaman $r$ ile nasıl değişiyor?</li></li>\n",
    "</ol>\n",
    "\n",
    "Salgın hastalıklar - SIR modeli\n",
    "=================\n",
    "<a href=\"https://www.wikizero.com/en/Compartmental_models_in_epidemiology\">SIR (susceptible-infected-recovered) modeli</a>, salgın hastalıkların yayılmasını incelemekte kullanılan modellerin en sadelerindendir. Modelde bir topluluk üç kategoriye ayrılır: Şimdilik sağlıklı olan ama hastalığa yakalanması mümkün olanlar (S), hastalığa yakalanmış ve S'lere bulaştırabilecek olanlar (I), ve hastalanıp iyileşmiş, tekrar hastalanmayacak ve hastalığı başkasına bulaştıramayacak olanlar (R). Belli bir $t$ anında bu üç kategoride bulunanların nüfustaki oranlarını sırayla $S_t, I_t, R_t$ olarak gösterelim. O zaman, ayrık zaman adımlarında modelin denklemleri şöyle yazılabilir:\n",
    "\n",
    "$$\\begin{array}{rcl}S_{t+1} &=& S_t - a I_t S_t \\\\ I_{t+1} &=& I_t + a I_t S_t - b I_t \\\\ R_{t+1} &=& R_t + bI_t \\end{array}$$\n",
    "\n",
    "Burada $a$ parametresi, kullanılan zaman birimi içinde (gün, hafta, ay) hastalıkla temas sıklığı veya bulaşma olasılığı, $b$ parametresi ise ortalama iyileşme oranıdır. Buna göre 1/$b$ değeri hastalığın iyileşmesi için bir zaman ölçeği sağlar, bu bilgiyle de $b$ için bir tahmin yapılabilir.\n",
    "\n",
    "SIR modelini kullanarak her zaman adımında S, I, ve R kategorisindekilerin oranını listeleyen bir program yazın. Veriler hasta olanların oranı %0.1'in üzerinde olduğu sürece, ama en fazla 100 zaman adımı gösterecek şekilde listelensin. Başlangıçta sağlıklı olanların oranı %99, hastaların oranı %1, iyileşmiş olanlar ise %0 olsun. Parametreler için $a = 0.6$ ve $b = 0.2$ kullanın (epeyce bulaşıcı, ama tipik iyileşme süresinin 5 zaman adımı olduğu bir hastalık).\n",
    "\n",
    "SIR modelinde salgının kısa sürdüğü ve salgın süresince toplam nüfusun sabit kaldığı varsayılır. Yukarıdaki denklemlerin sağ taraflarını topladığınızda bazı terimlerin birbirini götürdüğünü ve $S_{t+1} + I_{t+1} + R_{t+1} = S_t + I_t + R_t = 1$ olacağını görebilirsiniz. Her zaman adımında $S_t + I_t + R_t$ toplamını da ekrana bastırın. Bu toplamın sabit kalmaması programınızda bir hata olduğunu göstergesidir.\n",
    "\n",
    "Örnek çıktı:\n",
    "\n",
    "    t     s     i     r   toplam\n",
    "    -- ----- ----- ----- --------\n",
    "     0 0.990 0.010 0.000 1.000000\n",
    "     1 0.984 0.014 0.002 1.000000\n",
    "     2 0.976 0.019 0.005 1.000000\n",
    "     3 0.964 0.027 0.009 1.000000\n",
    "     4 0.949 0.037 0.014 1.000000\n",
    "     5 0.928 0.051 0.021 1.000000\n",
    "    ...\n",
    "    47 0.046 0.002 0.952 1.000000\n",
    "    48 0.046 0.001 0.952 1.000000\n",
    "    49 0.046 0.001 0.953 1.000000\n",
    "\n",
    "Çeşitli başlangıç şartları, ve parametreler için çeşitli değerler deneyerek sistemin davranışına bakın. Hasta olanların oranı kaçıncı zaman adımında azami sayıya ulaşıyor? Salgın dindiğinde hiç hasta olmayanların oranı ne kadar? Bu sayılar parametrelerle nasıl değişiyor?\n",
    "\n",
    "**Not.** Dinamik değişkenlerin güncellenmesi sırasında sağ tarafta hep eski (bir önceki zamandaki) değerlerin kullanılmasına dikkat etmek gerekiyor. Sözgelişi,\n",
    "\n",
    "    s = s - a*i*s\n",
    "    i = i + a*i*s - b*i    # hata\n",
    "    r = r + b*i            # hata\n",
    "    ...\n",
    "\n",
    "yazmak, ilk bakışta gözden kaçabilecek ciddi bir hataya yol açar. İkinci atamadaki `s` değişkeni aslında $S_{t}$ değerini değil, yenilenen $S_{t+1}$ değerini taşımaktadır. Aynı sorun üçüncü atamadaki `i` değişkeni için de geçerli. Bunu engellemenin iki yolu var. Birincisi, eski değerleri ayrı adlar altında saklamak ve döngünün sonunda güncelleme yapmak:\n",
    "\n",
    "    s = s_eski - a * i_eski * s_eski\n",
    "    i = i_eski + a* i_eski * s_eski - b * i_eski\n",
    "    r = r_eski + b * i_eski\n",
    "    ...\n",
    "    s_eski = s\n",
    "    i_eski = i\n",
    "    r_eski = r\n",
    "    ...\n",
    "İkinci yol ise, Python'un çoklu atama özelliğini kullanarak, geçici değişken kullanmadan bütün değişkenleri tek bir atamada güncellemek:\n",
    "    \n",
    "    s, i, r = s - a*i*s, i + a*i*s - b*i, r + b*i\n",
    "Bu atamada önce eşit işaretinin sağ tarafının değeri (bir üçüz) bulunur. Sağ tarafta eski değerler kullanılır. Sonra bu üçüzün elemanları `s`, `i`, ve `r`'ye sırayla atanır.\n"
   ]
  },
  {
   "cell_type": "code",
   "execution_count": null,
   "id": "3915d95b",
   "metadata": {},
   "outputs": [],
   "source": []
  },
  {
   "cell_type": "markdown",
   "id": "1d571a73",
   "metadata": {},
   "source": [
    "## ÖRNEK 9\n",
    "\n",
    "En küçük parametre değeri\n",
    "-------------------\n",
    "Belirsiz sayıda sayısal parametre alıp, parametreler arasındaki en küçük değeri geri veren bir fonksiyon yazın. (İpucu: Parametre paketlemesi kullandığımızda bütün parametrelerin fonksiyon içinde bir çokuza toplandığını görmüştük. Bu çokuz üzerinde bir döngüyle en küçük değeri bulabilirsiniz.)\n",
    "\n",
    "Örnekler:\n",
    "\n",
    "    enkucuk(7)\n",
    "    7\n",
    "    \n",
    "    enkucuk(3,1,4)\n",
    "    1\n",
    "    \n",
    "    enkucuk(1,2,3,-1,4,-2,5)\n",
    "    -2\n",
    "Parametre listesi boş ise `None` dönsün (`return None` komutunu kullanın).\n",
    "\n",
    "    enkucuk()\n",
    "    None"
   ]
  },
  {
   "cell_type": "code",
   "execution_count": 10,
   "id": "22ae6bdb",
   "metadata": {},
   "outputs": [
    {
     "name": "stdout",
     "output_type": "stream",
     "text": [
      "-2\n"
     ]
    }
   ],
   "source": [
    "def enkucuk(*args): # *args parametresi belirsiz sayıda parametre almayı sağlar.\n",
    "    if not args:  # İçi boşsa None ifadesinin döndürür.\n",
    "        return None\n",
    "    \n",
    "    enKucukSayi=args[0]\n",
    "    \n",
    "    for i in args:\n",
    "        if i < enKucukSayi:\n",
    "            enKucukSayi=i\n",
    "\n",
    "    return enKucukSayi\n",
    "\n",
    "print(enkucuk(1,2,3,-1,4,-2,5))"
   ]
  },
  {
   "cell_type": "markdown",
   "id": "107b227c",
   "metadata": {},
   "source": [
    "## ÖRNEK 10\n",
    "\n",
    "Fibonacci sayıları\n",
    "--------------------\n",
    "İlk `n` Fibonacci sayısını bir liste halinde veren bir fonksiyon yazın. Örnekler:\n",
    "\n",
    "    fib(0)\n",
    "    []\n",
    "    \n",
    "    fib(1)\n",
    "    [1]\n",
    "    \n",
    "    fib(2)\n",
    "    [1, 1]\n",
    "    \n",
    "    fib(10)\n",
    "    [1, 1, 2, 3, 5, 8, 13, 21, 34, 55]"
   ]
  },
  {
   "cell_type": "code",
   "execution_count": 7,
   "id": "d305e0f4",
   "metadata": {},
   "outputs": [
    {
     "data": {
      "text/plain": [
       "[1, 1, 2, 3, 5, 8, 13, 21, 34, 55]"
      ]
     },
     "execution_count": 7,
     "metadata": {},
     "output_type": "execute_result"
    }
   ],
   "source": [
    "def fib(x):        \n",
    "    fibonacci=[]\n",
    "    i=0\n",
    "    a=1\n",
    "    b=1\n",
    "    while i < x:\n",
    "        fibonacci.append(a)\n",
    "        a,b=b,a+b\n",
    "        i+=1\n",
    "    return fibonacci\n",
    "fib(10)"
   ]
  },
  {
   "cell_type": "markdown",
   "id": "778233b6",
   "metadata": {},
   "source": [
    "## ÖRNEK 11\n",
    "\n",
    "Satranç atının hareketi\n",
    "---------------------------\n",
    "Satranç tahtasında at L biçiminde hareket eder: Şekilde gösterildiği gibi bir yönde iki kare, sonra ona dik olarak bir kare.\n",
    "\n",
    "<img src=\"img/satranc_at.png\" />\n",
    "\n",
    "Atın tahtadaki pozisyonunu iki parametre olarak alan ve gidebileceği karelerin listesini veren bir fonksiyon yazın. Her kareyi bir ikili çokuzla gösterin, `('a',1)`, `('g',5)` gibi. At tahtanın sınırlarına yakınsa, tahtanın dışına çıkacak hamleleri eleyin.\n",
    "\n",
    "Örnek:\n",
    "    \n",
    "    athareket('d', 7)\n",
    "    [('c',5),('e',5),('b',6),('f',6),('b',8),('f',8)]\n",
    "    \n",
    "    athareket('f',3)\n",
    "    [('d',2),('d',4),('e',1),('e',5),('g',5),('g',1),('h',4),('h',2)]\n",
    "\n"
   ]
  },
  {
   "cell_type": "code",
   "execution_count": 110,
   "id": "9ced71f6",
   "metadata": {},
   "outputs": [
    {
     "name": "stdout",
     "output_type": "stream",
     "text": [
      "[('b', 6), ('b', 8), ('c', 5), ('e', 5), ('f', 6), ('f', 8)]\n",
      "[('d', 2), ('d', 4), ('e', 1), ('e', 5), ('g', 1), ('g', 5), ('h', 2), ('h', 4)]\n"
     ]
    }
   ],
   "source": [
    "def athareket(sutun, satir):\n",
    "    # Tahtanın sınırları\n",
    "    tahta_sutunlar = ['a', 'b', 'c', 'd', 'e', 'f', 'g', 'h']\n",
    "    tahta_satirlar = [1, 2, 3, 4, 5, 6, 7, 8]\n",
    "    \n",
    "    # Girilen değerin tahta sınırı içinde olup olmadığını kontrol eder. Dışında ise uyarı verir. \n",
    "    # Dışında değilse yeni hamleleri hesaplar.\n",
    "    if satir in tahta_satirlar and sutun in tahta_sutunlar:\n",
    "           \n",
    "        # Atın hareketlerini tanımlayan tüm kombinasyonlar\n",
    "        hareket_kombinasyonlari = [(-2, -1), (-2, 1), (-1, -2), (-1, 2), (1, -2), (1, 2), (2, -1), (2, 1)]\n",
    "\n",
    "        hamleler = []\n",
    "\n",
    "        # Her bir hareket kombinasyonu için potansiyel hamleleri kontrol et\n",
    "        for kombinasyon in hareket_kombinasyonlari:\n",
    "            yeni_sutun = tahta_sutunlar.index(sutun) + kombinasyon[0]\n",
    "            yeni_satir = satir + kombinasyon[1]\n",
    "\n",
    "            # Yeni konum tahtanın içinde mi kontrol et\n",
    "            if 0 <= yeni_sutun < len(tahta_sutunlar) and 0 < yeni_satir <= len(tahta_satirlar):\n",
    "                # Aynı komut yandaki gibi de yazılabilir. if 0 <= yeni_sutun < 7 and 0 < yeni_satir <= 8:\n",
    "\n",
    "                hamleler.append((tahta_sutunlar[yeni_sutun], yeni_satir))\n",
    "\n",
    "        return hamleler\n",
    "    else:\n",
    "         return print(\"Girdiğiniz değerler tahta sınırlarının dışındadır. '1-8' ve 'a-h' değer girin\")\n",
    "\n",
    "# Örnek kullanım\n",
    "print(athareket('d', 7))\n",
    "\n",
    "print(athareket('f', 3))\n"
   ]
  },
  {
   "cell_type": "markdown",
   "id": "95af505e",
   "metadata": {},
   "source": [
    "## ÖRNEK 12\n",
    "\n",
    "Karekök fonksiyonu\n",
    "---------------------\n",
    "Verilen bir $N$ sayısının karekökünü bulmak için Babil döneminden beri kullanılan tekrarlamalı (iteratif) bir yöntem vardır: Önce, karekök için bir tahminde bulunun ve buna $x_0$ deyin. Bir sonraki tahminimiz\n",
    "$$x_1 = \\frac{1}{2}\\left(x_0 + N/x_0\\right)$$\n",
    "olacak. Genel olarak,\n",
    "$$x_{n+1} = \\frac{1}{2}\\left(x_n + N/x_n\\right)$$\n",
    "kuralıyla ardışık iterasyonlar yaparsak, $x_n$ değerleri hızlıca $N$'nin kareköküne yakınsayacaktır.\n",
    "\n",
    "Bu yöntem, fonksiyon köklerini bulmak için kullanılan en iyi algoritmalardan biri olan Newton yönteminin özel bir durumudur.\n",
    "\n",
    "Bu algoritmayı kullanarak, bir sayının karekökünü veren bir fonksiyon yazın.\n",
    "\n",
    "Parametreler:\n",
    "* Karekökü alınacak sayı `N`.\n",
    "* İlk tahmin `x0`.\n",
    "* Tolerans `tol`. Varsayılan değer $10^{-10}$.\n",
    "* Azami iterasyon sayısı `maxiter`. Varsayılan değer 10.\n",
    "\n",
    "Sonuç:\n",
    "* `N`'nin karekökü için en iyi tahmin\n",
    "\n",
    "Fonksiyon içinde, yukarıdaki formülü tekrar tekrar işleterek daha iyi tahminlere ulaşan bir döngü yazın. Her adıımda, hata değeri $|x_n^2 - N|$ ile tolerans `tol` karşılaştırılsın. Hata,i toleransın altına düşünce döngü sonlansın. Ayrıca, döngü iterasyonları sayısı `maxiter`'den fazla olursa yine döngü sonlansın. Bu durumda bir uyarı mesajı ekrana yazılsın ve fonksiyon döngüde elde edilen son sonucu versin. \n",
    "\n",
    "Örnekler:\n",
    "\n",
    "    karekok(N=10, x0=1)\n",
    "    3.162277660168379\n",
    "    \n",
    "    karekok(N=10000, x0=0.1)\n",
    "    10 iterasyonda sonuca ulaşılamadı. 'hata' veya 'maxiter' değerlerini değiştirin\n",
    "    103.38412392442035\n",
    "    \n",
    "    karekok(N=10000, x0=0.1, maxiter=15)\n",
    "    100.0"
   ]
  },
  {
   "cell_type": "code",
   "execution_count": 111,
   "id": "6b062d2d",
   "metadata": {},
   "outputs": [
    {
     "name": "stdout",
     "output_type": "stream",
     "text": [
      "3.162277660168379\n",
      "10 iterasyonda sonuca ulaşılamadı. 'hata' veya 'maxiter' değerlerini değiştirin.\n",
      "129.61915927068787\n",
      "100.0\n"
     ]
    }
   ],
   "source": [
    "def karekok(N, x0, tol=1e-10, maxiter=10):\n",
    "    xn = x0\n",
    "    iterasyon = 0\n",
    "    \n",
    "    # Belirlenen azami iterasyon sayısı kadar döngü oluşturulur.\n",
    "    while iterasyon < maxiter:\n",
    "        \n",
    "        # Her döngüde verilen formüle göre yeni karakök tahmini ve hata değeri hesaplanır.\n",
    "        xn1 = (1/2) * (xn + N / xn)\n",
    "        hata = abs(xn1**2 - N)\n",
    "        \n",
    "        # Her iterasyondan sonra hata değeri kontrol edilir. Eğer hata toleransın altına düştüyse\n",
    "        # iterasyon sonlandırılır ve karekök tahmini return edilir.\n",
    "        if hata < tol:\n",
    "            return xn1\n",
    "        \n",
    "        xn = xn1\n",
    "        iterasyon += 1\n",
    "    \n",
    "    # Eğer belirlenen sayıda iterasyondan sonra hata değeri istenen orana düşmezse aşağıdakı uyarıyı verir.\n",
    "    print(f\"{maxiter} iterasyonda sonuca ulaşılamadı. 'hata' veya 'maxiter' değerlerini değiştirin.\")\n",
    "    return xn\n",
    "\n",
    "# Örnek kullanımlar\n",
    "print(karekok(N=10, x0=1))\n",
    "print(karekok(N=10000, x0=0.1))\n",
    "print(karekok(N=10000, x0=0.1, maxiter=15))\n"
   ]
  },
  {
   "cell_type": "code",
   "execution_count": 90,
   "id": "3bf7bceb",
   "metadata": {},
   "outputs": [
    {
     "name": "stdout",
     "output_type": "stream",
     "text": [
      "10 iterasyonda sonuca ulaşılamadı.'Hata' veya 'maxiter' değerlerini değiştirin!\n"
     ]
    },
    {
     "data": {
      "text/plain": [
       "129.61915927068787"
      ]
     },
     "execution_count": 90,
     "metadata": {},
     "output_type": "execute_result"
    }
   ],
   "source": [
    "def karekok(N,x0):\n",
    "    tol = 10**-10\n",
    "    maxİter = 10\n",
    "    x=x0\n",
    "    i=0\n",
    "    \n",
    "    while i <= maxİter:\n",
    "        hata = abs((x**2)-N)\n",
    "        if hata < tol:\n",
    "            break\n",
    "            \n",
    "        elif i == maxİter:\n",
    "            print(\"10 iterasyonda sonuca ulaşılamadı.'Hata' veya 'maxiter' değerlerini değiştirin!\")          \n",
    "            break\n",
    "        else:\n",
    "            x = (1/2)*(x+(N / x))\n",
    "        i += 1\n",
    "    return x\n",
    "karekok(N=10000, x0=0.1)"
   ]
  },
  {
   "cell_type": "code",
   "execution_count": 85,
   "id": "b3ea8bf3",
   "metadata": {},
   "outputs": [
    {
     "data": {
      "text/plain": [
       "3.1622776601683795"
      ]
     },
     "execution_count": 85,
     "metadata": {},
     "output_type": "execute_result"
    }
   ],
   "source": [
    "math.sqrt(10)"
   ]
  },
  {
   "cell_type": "markdown",
   "id": "5baf1568",
   "metadata": {},
   "source": [
    "# ÖRNEK 13\n",
    "\n",
    "Machin formülü ile Pi sayısı\n",
    "--------------------------------\n",
    "Pi sayısını hesaplamak için birçok yöntem vardır. Bunların hepsi teorik olarak $\\pi$'ye eşit olsalar da, bazıları belli bir hassasiyete ulaşmak için çok fazla hesap gerektirdikleri için pratikte işe yaramazlar. 1706'da John Machin $\\pi$ sayısı için hızlı yakınsayan, böylelikle az sayıda terimle yüksek doğruluk sağlayan bir formül yayınladı.\n",
    "\n",
    "$$\\pi = 16 \\arctan \\frac{1}{5} - 4 \\arctan \\frac{1}{239}$$\n",
    "\n",
    "Bu formüldeki arktanjant fonksiyonunu hesaplamak için bir Taylor serisi kullanılabilir.\n",
    "\n",
    "$$\\arctan x = x - \\frac{1}{3}x^3 + \\frac{1}{5}x^5 - \\frac{1}{7} x^7 + \\cdots$$\n",
    "\n",
    "Machin formülünde arktanjantı alınan sayılar küçük oldukları için, serinin az sayıda elemanıyla yüksek hassasiyeti sağlamak mümkün olacaktır.\n",
    "\n",
    "Machin formülü ile $\\pi$ sayısını yaklaşık olarak hesaplayan bir fonksiyon yazın. Fonksiyon sadece tolerans değerini parametre olarak alsın (varsayılan değer $10^{-8}$). Arktanjant fonksiyonu için matematik kütüphanesi kullanmayın, Taylor serisindeki terimleri gerekli toleransı sağlayana kadar ekleyin. Yeni eklenen terim toleransın altına düştüğünde durun."
   ]
  },
  {
   "cell_type": "code",
   "execution_count": 114,
   "id": "28b6f9dd",
   "metadata": {},
   "outputs": [
    {
     "name": "stdout",
     "output_type": "stream",
     "text": [
      "Hesaplanan Pi: 3.141592682405425\n"
     ]
    }
   ],
   "source": [
    "def atan_taylor(x, tol=1e-8):\n",
    "    sonuc = 0\n",
    "    term = x\n",
    "    n = 1\n",
    "    \n",
    "    while abs(term) > tol:\n",
    "        sonuc += term\n",
    "        n += 2\n",
    "        \n",
    "        # (-1)**(n//2) ifadesi iterasyonların +1,-1,+1,-1,.. şeklinde devam etmesini sağlar.\n",
    "        # n // 2 ifadesi, Python dilinde \"n'yi 2'ye böl, ancak sonucu tam sayıya (integer) yuvarla\" anlamına gelir. \n",
    "        # Eğer n 5 ise, n // 2 ifadesi 2 olur. (-1)^2 de +1 e eşittir. \n",
    "        # Eğer n 7 ise, n // 2 ifadesi 3 olur. (-1)^3 de -1 e eşittir. \n",
    "        term = (-1) ** (n // 2) * (x ** n) / n\n",
    "    \n",
    "    return sonuc\n",
    "\n",
    "def machin_pi(tolerans=1e-8):\n",
    "    pi_approx = 4 * (4 * atan_taylor(1/5, tolerans) - atan_taylor(1/239, tolerans))\n",
    "    return pi_approx\n",
    "\n",
    "# Örnek kullanım\n",
    "hesaplanan_pi = machin_pi()\n",
    "print(\"Hesaplanan Pi:\", hesaplanan_pi)\n"
   ]
  },
  {
   "cell_type": "markdown",
   "id": "d7826088",
   "metadata": {},
   "source": [
    "# ÖRNEK 14\n",
    "\n",
    "İkinci derece denklemin kökleri\n",
    "--------------------------------\n",
    "\n",
    "Bir $x$ değişkeni için genel ikinci derece denklem $ax^2 + bx + c = 0$ olarak ifade edilir. Eğer $a\\neq 0$ ise, denklemin iki kökü\n",
    "\n",
    "$$x_{1,2} = \\frac{-b \\pm \\sqrt{b^2-4ac}}{2a}$$\n",
    "\n",
    "formülüyle bulunur. Eğer $a=0$ ise çözüm $x = -c/b$ olur.\n",
    "\n",
    "Denklemin katsayıları `a`, `b` ve `c`'yi parametre olarak alan ve denklemin köklerini (ikili çokuz olarak) veren bir fonksiyon yazın. Fonksiyon `a`'nın 0 olduğu özel durumda tekli çokuz vermeli.\n",
    "\n",
    "Diskriminantın ($b^2 -4ac$) negatif olduğu durumlarda kökler reel sayı değil karmaşık sayı olacaktır. Bu durumlarda da fonksiyonun hatasız çalışması için, karmaşık sayıli matematik kütüphanesini `import cmath` komutuyla yükleyip, karekök almak için `cmath.sqrt()` fonksiyonunu kullanabilirsiniz.\n",
    "\n",
    "Örnekler:\n",
    "\n",
    "    kökler(1,0,-4)\n",
    "    ((2+0j), (-2+0j))\n",
    "    \n",
    "    kökler(1,0,4)\n",
    "    (2j, -2j)\n",
    "    \n",
    "    kökler(0,1,4)\n",
    "    -4.0"
   ]
  },
  {
   "cell_type": "code",
   "execution_count": 32,
   "id": "56f0ff54",
   "metadata": {},
   "outputs": [
    {
     "data": {
      "text/plain": [
       "[(2+0j), (-2+0j)]"
      ]
     },
     "execution_count": 32,
     "metadata": {},
     "output_type": "execute_result"
    }
   ],
   "source": [
    "import cmath\n",
    "\n",
    "def kökler(a,b,c):\n",
    "    kökler=[]\n",
    "    if a == 0:\n",
    "        x = -c/b\n",
    "        kökler.append(x)\n",
    "    else:\n",
    "        x1 = ((-b) + cmath.sqrt((b**2)-(4*a*c)))/(2*a)\n",
    "        x2 = ((-b) - cmath.sqrt((b**2)-(4*a*c)))/(2*a)\n",
    "        kökler.append(x1)\n",
    "        kökler.append(x2)\n",
    "    return kökler\n",
    "\n",
    "kökler(1,0,-4)"
   ]
  },
  {
   "cell_type": "markdown",
   "id": "4aad0032",
   "metadata": {},
   "source": [
    "# ÖRNEK 15\n",
    "\n",
    "Mükemmel sayılar\n",
    "------------------\n",
    "Bir sayı bütün çarpanlarının (1 dahil, kendisi hariç) toplamına eşitse, o sayıya _mükemmel sayı_ denir. Sözgelişi, 1+2+3=6 olduğundan, 6 bir mükemmel sayıdır.\n",
    "\n",
    "Verilen bir sayı \"mükemmel\"se `True`, değilse `False` veren bir fonksiyon yazın. Örnek:\n",
    "\n",
    "    mukemmel(6)\n",
    "    True\n",
    "    \n",
    "    mukemmel(10)\n",
    "    False\n"
   ]
  },
  {
   "cell_type": "code",
   "execution_count": 15,
   "id": "0f6485bb",
   "metadata": {},
   "outputs": [
    {
     "data": {
      "text/plain": [
       "True"
      ]
     },
     "execution_count": 15,
     "metadata": {},
     "output_type": "execute_result"
    }
   ],
   "source": [
    "def mukemmel(x):\n",
    "    toplam = sum([i for i in range(1,x) if x%i == 0])\n",
    "    \n",
    "    mukemmel = True if toplam == x else False\n",
    "\n",
    "    return mukemmel\n",
    "\n",
    "mukemmel(6)"
   ]
  },
  {
   "cell_type": "markdown",
   "id": "1fb6b2b9",
   "metadata": {},
   "source": [
    "**Alıştırma_1**\n",
    "\n",
    "Bu fonksiyonu kullanarak, 10 000'den küçük bütün \"mükemmel\" sayıları bulun."
   ]
  },
  {
   "cell_type": "code",
   "execution_count": 23,
   "id": "99db91ac",
   "metadata": {},
   "outputs": [
    {
     "name": "stdout",
     "output_type": "stream",
     "text": [
      "İstediğiniz mükemmel sayılar listesi = [6, 28, 496, 8128]\n"
     ]
    }
   ],
   "source": [
    "mukemmelSayılar=[]\n",
    "for x in range(1,10000):\n",
    "    if mukemmel(x) == True:\n",
    "        mukemmelSayılar.append(x)\n",
    "print(\"İstediğiniz mükemmel sayılar listesi =\",mukemmelSayılar)"
   ]
  },
  {
   "cell_type": "markdown",
   "id": "529466de",
   "metadata": {},
   "source": [
    "# ÖRNEK 16\n",
    "\n",
    "Standart sapma\n",
    "-----------------\n",
    "Elimizde $N$ tane $x_1, x_2,\\ldots,x_N$ sayısı olsun. Sayıların ortalamasına $\\bar{x}$ diyelim. Bu sayıların standart sapması şöyle tanımlanır:\n",
    "\n",
    "$$ \\sigma = \\sqrt{ \\frac{1}{N-1} \\left[ (x_1-\\bar{x})^2 + (x_2-\\bar{x})^2 + \\ldots + (x_N-\\bar{x})^2\\right]}$$\n",
    "\n"
   ]
  },
  {
   "cell_type": "markdown",
   "id": "64b21004",
   "metadata": {},
   "source": [
    "NOT:\n",
    "\n",
    "Kolay çözüm için formülü basitleştirmek gerekmektedir. \n",
    "Öncelikle bize sayıların ortalaması $\\bar{x}$ lazım.\n",
    "Daha sonra veri setimizdeki tüm değerler bu ortalamadan çıkarılarak karesi alınacak ve toplanacak.\n",
    "Toplanan bu veriler veri setinin uzunluğu -1'e bölünecek (N-1).\n",
    "Son olarak ise karekökü alınacak. Karekök alma işlemi için math kütüphanesinden yararlanabiliriz. (import math)\n"
   ]
  },
  {
   "cell_type": "code",
   "execution_count": 7,
   "id": "28986968",
   "metadata": {},
   "outputs": [
    {
     "name": "stdout",
     "output_type": "stream",
     "text": [
      "Girdiğiniz verilerin standart sapması = 82.0942916850662\n"
     ]
    }
   ],
   "source": [
    "import math\n",
    "\n",
    "def standartSapma(*veri):\n",
    "    # Veri setinin uzunluğu\n",
    "    n=len(veri)\n",
    "    \n",
    "    # Veri setinin ortalaması\n",
    "    ortalama = sum(veri)/n\n",
    "    \n",
    "    # Her eleman için ortalama ile farkının bulunup karesinin alınması.\n",
    "    toplam=0\n",
    "    for x in veri:\n",
    "        farkKaresi = (x-ortalama)**2\n",
    "        toplam += farkKaresi\n",
    "    \n",
    "    # Varyans hesabı\n",
    "    varyans = toplam/(n-1)\n",
    "    \n",
    "    # Standart sapma hesabı\n",
    "    stSapma = math.sqrt(varyans)\n",
    "    \n",
    "    return print (\"Girdiğiniz verilerin standart sapması =\", stSapma)\n",
    "        \n",
    "standartSapma(3,6,1,6,8,9,3,1,72,277,26)\n"
   ]
  },
  {
   "cell_type": "markdown",
   "id": "79cfc5f9",
   "metadata": {},
   "source": [
    "# ÖRNEK 17\n",
    "\n",
    "Basit Hesap Makinesi\n",
    "---\n",
    "Kullanıcıdan aldığı iki değer ile toplama, çıkarma, bölme ve çarpma işlemlerinin yapılacağı basit bir hesap makinesi fonksiyonu yazınız. \n"
   ]
  },
  {
   "cell_type": "code",
   "execution_count": null,
   "id": "3b39ce7c",
   "metadata": {
    "scrolled": true
   },
   "outputs": [
    {
     "name": "stdout",
     "output_type": "stream",
     "text": [
      "İlk sayıyı giriniz: 5\n",
      "İkinci sayıyı giriniz: 6\n",
      "Yapılacak işlemi seçiniz (+-/*):*\n",
      "5 x 6 = 30\n",
      "None\n",
      "İlk sayıyı giriniz: 5\n",
      "İkinci sayıyı giriniz: 6\n",
      "Yapılacak işlemi seçiniz (+-/*):i\n",
      "Lütfen şu işlemlerden birini seçiniz:  +  -  /  *  \n",
      "İlk sayıyı giriniz: sa\n",
      "Lütfen sayıları düzgün giriniz\n",
      "İlk sayıyı giriniz: 6\n",
      "İkinci sayıyı giriniz: a\n",
      "Lütfen sayıları düzgün giriniz\n",
      "İlk sayıyı giriniz: 5\n",
      "İkinci sayıyı giriniz: 5+\n",
      "Lütfen sayıları düzgün giriniz\n",
      "İlk sayıyı giriniz: 5\n",
      "İkinci sayıyı giriniz: 20\n",
      "Yapılacak işlemi seçiniz (+-/*):/\n",
      "5 / 20 = 0.25\n",
      "None\n",
      "İlk sayıyı giriniz: 5\n",
      "İkinci sayıyı giriniz: 4\n",
      "Yapılacak işlemi seçiniz (+-/*):a\n",
      "Lütfen şu işlemlerden birini seçiniz:  +  -  /  *  \n"
     ]
    }
   ],
   "source": [
    "def hesapla(a,b,islem):\n",
    "    \n",
    "    # Eğer istenene işlemler dışında başka bir ifade girilirse ekrana hata mesajı verecek.\n",
    "    if islem not in \"+-/*\":\n",
    "        return \"Lütfen şu işlemlerden birini seçiniz:  +  -  /  *  \"\n",
    "    \n",
    "    # Girilen değerler ve seçilen işleme göre aşağıdaki işlemleri yapacak.\n",
    "    if islem == \"+\":\n",
    "        return print(a, \"+\", b, \"=\", a+b)\n",
    "    elif islem == \"-\":\n",
    "        return print(a, \"-\", b, \"=\", a-b)\n",
    "    elif islem == \"/\":\n",
    "        return print(a, \"/\", b, \"=\", a/b)\n",
    "    elif islem == \"*\":\n",
    "        return print(a, \"x\", b, \"=\", a*b)\n",
    "    \n",
    "    # While true sayesinde a ve b değişkenine integer bir değer girene kadar döngüde kalması sağlanır.\n",
    "    # a ve b değişkeninin int olması gerektiğini belirttik.\n",
    "    # Eğer metinsel ifade girilse string olacağı için False olacak ve except bölümünü çalıştırarak döngü tekrarlanacak\n",
    "    \n",
    "while True:\n",
    "    try:\n",
    "        a=int(input(\"İlk sayıyı giriniz: \"))\n",
    "        b=int(input(\"İkinci sayıyı giriniz: \"))\n",
    "        islem=input(\"Yapılacak işlemi seçiniz (+-/*):\")\n",
    "        print(hesapla(a,b,islem))\n",
    "    except:\n",
    "        print(\"Lütfen sayıları düzgün giriniz\")"
   ]
  },
  {
   "cell_type": "markdown",
   "id": "d80922a2",
   "metadata": {},
   "source": [
    "# ÖRNEK 18\n",
    "\n",
    "Liste Ters Çevirme\n",
    "---\n",
    "\n",
    "Verilen bir listedeki öğelerin sırasını tersine çeviren bir fonksiyon yaz."
   ]
  },
  {
   "cell_type": "code",
   "execution_count": 88,
   "id": "832deb19",
   "metadata": {},
   "outputs": [
    {
     "name": "stdout",
     "output_type": "stream",
     "text": [
      "[11, 10, 9, 8, 7, 6, 5, 4, 3, 2, 1]\n"
     ]
    }
   ],
   "source": [
    "veri=[1,2,3,4,5,6,7,8,9,10,11]\n",
    "veriUzunluğu=len(veri)\n",
    "donguSayısı = veriUzunluğu // 2\n",
    "i=0\n",
    "b=-1\n",
    "while i <= donguSayısı: \n",
    "    veri[i],veri[b]=veri[b],veri[i]    \n",
    "    i += 1\n",
    "    b -= 1\n",
    "print(veri)\n"
   ]
  },
  {
   "cell_type": "markdown",
   "id": "05e36649",
   "metadata": {},
   "source": [
    "**Alıştırma_1**"
   ]
  },
  {
   "cell_type": "code",
   "execution_count": 115,
   "id": "fad78ad6",
   "metadata": {},
   "outputs": [
    {
     "name": "stdout",
     "output_type": "stream",
     "text": [
      "[13, 12, 11, 10, 9, 8, 7, 6, 5, 4, 3, 2, 1]\n"
     ]
    }
   ],
   "source": [
    "veri2=[1,2,3,4,5,6,7,8,9,10,11,12,13]\n",
    "\n",
    "for i in range(len(veri2)//2):\n",
    "    veri2[i],veri2[-(i+1)]= veri2[-(i+1)], veri2[i]\n",
    "print(veri2)"
   ]
  },
  {
   "cell_type": "markdown",
   "id": "680e2efc",
   "metadata": {},
   "source": [
    "**Alıştırma_2**\n",
    "\n",
    "Listeyi tersine çevirmenin fonksiyon olarak yazılmış hali"
   ]
  },
  {
   "cell_type": "code",
   "execution_count": 117,
   "id": "f14a6e52",
   "metadata": {},
   "outputs": [
    {
     "data": {
      "text/plain": [
       "[7, 6, 5, 4, 3, 2, 1]"
      ]
     },
     "execution_count": 117,
     "metadata": {},
     "output_type": "execute_result"
    }
   ],
   "source": [
    "def reverseVeri(cevir):\n",
    "    reversed_veri=cevir[::-1]\n",
    "    return reversed_veri\n",
    "\n",
    "deneme1=[1,2,3,4,5,6,7]\n",
    "reverseVeri(deneme1)"
   ]
  },
  {
   "cell_type": "markdown",
   "id": "52c9e64f",
   "metadata": {},
   "source": [
    "# ÖRNEK 19\n",
    "\n",
    "Kelime Sayma\n",
    "---\n",
    "\n",
    "Bir metindeki kelime sayısını bulan bir fonksiyon yaz."
   ]
  },
  {
   "cell_type": "code",
   "execution_count": 79,
   "id": "c29c6d25",
   "metadata": {},
   "outputs": [
    {
     "data": {
      "text/plain": [
       "7"
      ]
     },
     "execution_count": 79,
     "metadata": {},
     "output_type": "execute_result"
    }
   ],
   "source": [
    "def kelimeSayma(metin):\n",
    "    sayac = 1\n",
    "    for a  in metin:\n",
    "        if a == \" \":\n",
    "            sayac +=1\n",
    "    return sayac\n",
    "\n",
    "kelimeSayma(\"Bu metinde kaç adet kelime olduğunu hesaplayınız.\")"
   ]
  },
  {
   "cell_type": "markdown",
   "id": "d3fd1418",
   "metadata": {},
   "source": [
    "**Alıştırma_1**"
   ]
  },
  {
   "cell_type": "code",
   "execution_count": 83,
   "id": "aa208e3d",
   "metadata": {},
   "outputs": [
    {
     "name": "stdout",
     "output_type": "stream",
     "text": [
      "7\n"
     ]
    }
   ],
   "source": [
    "def kelimeSayma(metin):\n",
    "    # split komutu her boşluktan sonrasını bir eleman olarak kabul ederek yeni liste oluşturur.\n",
    "    kelimeler = metin.split()\n",
    "    return len(kelimeler)\n",
    "\n",
    "metin = \"Bu metinde kaç adet kelime olduğunu hesaplayınız.\"\n",
    "print(kelimeSayma(metin))"
   ]
  },
  {
   "cell_type": "markdown",
   "id": "188ca0b3",
   "metadata": {},
   "source": [
    "# ÖRNEK 20\n",
    "\n",
    "En Büyük Ortak Bölen (OBEB):\n",
    "---\n",
    "\n",
    "İki sayının en büyük ortak bölenini bulan bir fonksiyon yaz."
   ]
  },
  {
   "cell_type": "code",
   "execution_count": 205,
   "id": "c01707ae",
   "metadata": {},
   "outputs": [
    {
     "name": "stdout",
     "output_type": "stream",
     "text": [
      "En büyük ortak bölenini bulmak istediğiniz ilk sayıyı giriniz.30\n",
      "En büyük ortak bölenini bulmak istediğiniz ikinci sayıyı giriniz.50\n",
      "30 Sayısının bölenleri = [1, 2, 3, 5, 6, 10, 15]\n",
      "50 Sayısının bölenleri = [1, 2, 5, 10, 25]\n",
      "En büyük ortak bölen = 10\n"
     ]
    }
   ],
   "source": [
    "def xBolenleri(x):\n",
    "    aBolen=[]\n",
    "    for a in range(1,x):\n",
    "        if x % a ==0:\n",
    "            aBolen.append(a)\n",
    "    print(f\"{x} Sayısının bölenleri = {aBolen}\")\n",
    "    return aBolen\n",
    "                            \n",
    "def yBolenleri(y):\n",
    "    bBolen=[]\n",
    "    for b in range(1,y):\n",
    "        if y % b ==0:\n",
    "            bBolen.append(b)\n",
    "    print(f\"{y} Sayısının bölenleri = {bBolen}\")\n",
    "    return bBolen\n",
    "    \n",
    "def ebob(x,y):\n",
    "    aBolen=xBolenleri(x)\n",
    "    bBolen=yBolenleri(y)\n",
    "    ortakBolen=[i for i in aBolen if i in bBolen]        \n",
    "    print(f\"En büyük ortak bölen = {max(ortakBolen)}\") \n",
    "                           \n",
    "x=int(input(\"En büyük ortak bölenini bulmak istediğiniz ilk sayıyı giriniz.\"))\n",
    "y=int(input(\"En büyük ortak bölenini bulmak istediğiniz ikinci sayıyı giriniz.\"))\n",
    "ebob(x,y)"
   ]
  },
  {
   "cell_type": "markdown",
   "id": "a1a2f227",
   "metadata": {},
   "source": [
    "# ÖRNEK 21\n",
    "\n",
    "Dik Üçgen Kontrolü:\n",
    "---\n",
    "\n",
    "Verilen üç kenar uzunluğu ile bir dik üçgen olup olmadığını kontrol eden bir fonksiyon yaz.\n",
    "\n",
    "NOT: Eğer üçgenin sadece kenar uzunluklarını biliyorsak, dik üçgen olup olmadığını anlamak için **en uzun kenarın karesinin, diğer iki kenarın kareleri toplamına** eşit olup olmadığına bakabiliriz. Eğer eşit ise bu bir dik üçgendir."
   ]
  },
  {
   "cell_type": "code",
   "execution_count": 182,
   "id": "14578b88",
   "metadata": {},
   "outputs": [
    {
     "name": "stdout",
     "output_type": "stream",
     "text": [
      "(3, 4, 5) Bir dik üçgendir.\n"
     ]
    }
   ],
   "source": [
    "def dikUcgen(*kenarUzunlugu):\n",
    "    kısaKenarToplam=0\n",
    "    for a in kenarUzunlugu:\n",
    "        if a == max(kenarUzunlugu):\n",
    "            uzunKenar = a**2\n",
    "        else:\n",
    "            kısaKenarToplam += a**2\n",
    "    if uzunKenar == kısaKenarToplam:\n",
    "        return print(f\"{kenarUzunlugu} Bir dik üçgendir.\")\n",
    "    else:\n",
    "        return print(f\"{kenarUzunlugu} Bir dik üçgen değildir.\")\n",
    "\n",
    "\n",
    "dikUcgen(3,4,5)"
   ]
  },
  {
   "cell_type": "markdown",
   "id": "dffb3832",
   "metadata": {},
   "source": [
    "**Alıştırma_1**\n",
    "\n",
    "Dik üçgen kontrolü yaparken kenar uzunluklarını kullanıcan isteyin ve yukarıdakinden farklı bir fonksiyon oluşturun."
   ]
  },
  {
   "cell_type": "code",
   "execution_count": 181,
   "id": "d17da75c",
   "metadata": {},
   "outputs": [
    {
     "name": "stdout",
     "output_type": "stream",
     "text": [
      "Üçgenin ilk kenar uzunluğunu giriniz=3\n",
      "Üçgenin ikinci kenar uzunluğunu giriniz=4\n",
      "Üçgenin üçüncü kenar uzunluğunu giriniz=5\n",
      "(3, 4, 5) Bir dik üçgendir.\n"
     ]
    }
   ],
   "source": [
    "def dikUcgen(a,b,c):\n",
    "    uzunKenar= max(a,b,c)\n",
    "    diğerKenarlar = [x for x in[a,b,c] if x != uzunKenar] \n",
    "\n",
    "    if uzunKenar**2 == diğerKenarlar[0]**2+diğerKenarlar[1]**2:\n",
    "        print(f\"{a,b,c} Bir dik üçgendir.\")\n",
    "    else:\n",
    "        print(f\"{a,b,c} Bir dik üçgen değildir.\")\n",
    "\n",
    "a=int(input(\"Üçgenin ilk kenar uzunluğunu giriniz=\"))\n",
    "b=int(input(\"Üçgenin ikinci kenar uzunluğunu giriniz=\"))\n",
    "c=int(input(\"Üçgenin üçüncü kenar uzunluğunu giriniz=\"))\n",
    "dikUcgen(a,b,c)"
   ]
  },
  {
   "cell_type": "markdown",
   "id": "5c1d050a",
   "metadata": {},
   "source": [
    "# ÖRNEK 22\n",
    "\n",
    "Palindrome Kontrolü:\n",
    "---\n",
    "\n",
    "Bir kelimenin palindrom (tersten okunuşlu) olup olmadığını kontrol eden bir fonksiyon yaz."
   ]
  },
  {
   "cell_type": "code",
   "execution_count": 113,
   "id": "1bae0583",
   "metadata": {},
   "outputs": [
    {
     "name": "stdout",
     "output_type": "stream",
     "text": [
      "verdiğiniz kelime palindrom değil\n"
     ]
    }
   ],
   "source": [
    "\n",
    "tersOkunuş =\"enes\"\n",
    "\n",
    "palindrom=True\n",
    "for i in range(len(tersOkunuş)//2):\n",
    "    if tersOkunuş[i] != tersOkunuş[-(i+1)]:\n",
    "        palindrom=False       \n",
    "        break\n",
    "if palindrom:\n",
    "    print(\"Verdiğiniz kelime palindrom\")\n",
    "else:\n",
    "    print(\"verdiğiniz kelime palindrom değil\")"
   ]
  },
  {
   "cell_type": "markdown",
   "id": "47936416",
   "metadata": {},
   "source": [
    "**Alıştırma_1**\n",
    "\n",
    "Kodun fonksiyona dönüştürülmüş hali"
   ]
  },
  {
   "cell_type": "code",
   "execution_count": 114,
   "id": "23b53a20",
   "metadata": {},
   "outputs": [
    {
     "name": "stdout",
     "output_type": "stream",
     "text": [
      "Verdiğiniz kelime palindrom\n"
     ]
    }
   ],
   "source": [
    "def palindrom(kelime):\n",
    "    palindrom=True\n",
    "    for i in range(len(kelime)//2):\n",
    "        if kelime[i] != kelime[-(i+1)]:\n",
    "            palindrom=False       \n",
    "            break\n",
    "    if palindrom:\n",
    "        return print(\"Verdiğiniz kelime palindrom\")\n",
    "    else:\n",
    "        return print(\"verdiğiniz kelime palindrom değil\")\n",
    "\n",
    "deneme=\"anna\"\n",
    "palindrom(deneme)"
   ]
  },
  {
   "cell_type": "markdown",
   "id": "13b62c6d",
   "metadata": {},
   "source": [
    "**Alıştırma_2**\n",
    "\n",
    "Biraz daha basite indirgenmiş çözüm"
   ]
  },
  {
   "cell_type": "code",
   "execution_count": 110,
   "id": "4808c348",
   "metadata": {},
   "outputs": [
    {
     "name": "stdout",
     "output_type": "stream",
     "text": [
      "Verdiğiniz kelime palindrom değil.\n"
     ]
    }
   ],
   "source": [
    "def is_palindrome(word):\n",
    "    reversed_word = word[::-1]\n",
    "    # Eğer alttaki sorgu doğru ise True değerinin döndürür.\n",
    "    return word == reversed_word\n",
    "\n",
    "kelime = \"enes\"\n",
    "\n",
    "# if, fonksiyonun çıktısı True ise çalışır.\n",
    "if is_palindrome(kelime):\n",
    "    print(\"Verdiğiniz kelime palindrom.\")\n",
    "# Else, fonksiyon çıktısı False ise çalışır.\n",
    "else:\n",
    "    print(\"Verdiğiniz kelime palindrom değil.\")\n"
   ]
  },
  {
   "cell_type": "markdown",
   "id": "7ef33d72",
   "metadata": {},
   "source": [
    "# ÖRNEK 23\n",
    "\n",
    "Çift Sayıları Toplama:\n",
    "---\n",
    "\n",
    "1'den 100'e kadar olan çift sayıları toplayan bir program yaz."
   ]
  },
  {
   "cell_type": "code",
   "execution_count": 8,
   "id": "f20982b6",
   "metadata": {},
   "outputs": [
    {
     "name": "stdout",
     "output_type": "stream",
     "text": [
      "2550\n"
     ]
    }
   ],
   "source": [
    "i=1\n",
    "toplam=0\n",
    "while i <= 101:\n",
    "    if i %2 ==0:\n",
    "        toplam +=i\n",
    "    i +=1\n",
    "print(toplam)"
   ]
  },
  {
   "cell_type": "markdown",
   "id": "a8450f68",
   "metadata": {},
   "source": [
    "**Alıştırma_1**"
   ]
  },
  {
   "cell_type": "code",
   "execution_count": 10,
   "id": "0e0db009",
   "metadata": {},
   "outputs": [
    {
     "name": "stdout",
     "output_type": "stream",
     "text": [
      "2550\n"
     ]
    }
   ],
   "source": [
    "toplam = sum([i for i in range(1,101) if i%2 == 0])\n",
    "print(toplam)"
   ]
  },
  {
   "cell_type": "markdown",
   "id": "c673e3d8",
   "metadata": {},
   "source": [
    "**Alıştırma_2**"
   ]
  },
  {
   "cell_type": "code",
   "execution_count": 7,
   "id": "d3867fab",
   "metadata": {
    "scrolled": true
   },
   "outputs": [
    {
     "name": "stdout",
     "output_type": "stream",
     "text": [
      "2550\n"
     ]
    }
   ],
   "source": [
    "print(sum([i for i in range(1,101) if i%2 == 0]))"
   ]
  },
  {
   "cell_type": "markdown",
   "id": "1aaf4dba",
   "metadata": {},
   "source": [
    "# ÖRNEK 24\n",
    "\n",
    "Dosya Okuma/Yazma:\n",
    "---\n",
    "\n",
    "Bir dosyadan metin okuyan ve bu metni başka bir dosyaya yazan bir program yaz."
   ]
  },
  {
   "cell_type": "code",
   "execution_count": null,
   "id": "0e132b16",
   "metadata": {},
   "outputs": [],
   "source": []
  },
  {
   "cell_type": "markdown",
   "id": "dde7d2cc",
   "metadata": {},
   "source": [
    "# ÖRNEK 25\n",
    "\n",
    "Dizi Elemanının İndexini Bulma:\n",
    "---"
   ]
  },
  {
   "cell_type": "markdown",
   "id": "773fbf2c",
   "metadata": {},
   "source": [
    "Elimizde bir dizi olsun;\n",
    "    \n",
    "    [1,3,8,12,23,27,32,45,52]\n",
    "    \n",
    "Aradığımz \"K\" elemanının bu dizinin kaçıncı elemanı olduğunu bulacak bir algoritma tasarlayınız."
   ]
  },
  {
   "cell_type": "code",
   "execution_count": null,
   "id": "3daa9028",
   "metadata": {},
   "outputs": [],
   "source": [
    "k = int(input(\"Bulmak istediğiniz elemanı giriniz =\"))  #Kullanıcıdan hangi elemanı bulmak istediği bilgisini aldık.\n",
    "dizi=[1,3,8,12,23,27,32,45,52]  # Elemanlarımızı tanımladık\n",
    "i = 0 \n",
    "\n",
    "while i < len(dizi): # Listemizin boyutunda bir döngü oluşturduk (0 Dan başlayarak 8'e kadar devam edecek)\n",
    "    if dizi[i]==k: # Her döngüde dizini \"i\" elemanı kullanıcıdan istenen değere eşit mi diye kontrol ettik.\n",
    "        arananIndex=i  # Eğer eşit ise arananIndex değerini belirledik.\n",
    "     \n",
    "        break # ve while döngüsünden çıkmasını sağladık.\n",
    "    else:  # Değilse i değerini bir arttırarak döngüyü devam ettirdik.\n",
    "        i +=1\n",
    "        \n",
    "print(\"Aradığınız eleman dizinin \" , arananIndex,\". elemanıdır.\")  # Aranan index değerini döndürdük."
   ]
  },
  {
   "cell_type": "markdown",
   "id": "bb501105",
   "metadata": {},
   "source": [
    "**Alıştırma_1**"
   ]
  },
  {
   "cell_type": "code",
   "execution_count": 120,
   "id": "105a9877",
   "metadata": {},
   "outputs": [
    {
     "name": "stdout",
     "output_type": "stream",
     "text": [
      "Bulmak istediğiniz elemanı giriniz =5\n",
      "Aradığınız eleman bu dizinin elemanı değil.\n"
     ]
    }
   ],
   "source": [
    "k = int(input(\"Bulmak istediğiniz elemanı giriniz =\")) \n",
    "dizi=[1,3,8,12,23,27,32,45,52]  # Elemanlarımızı tanımladık\n",
    "sayac = 0 \n",
    "bulduk=False\n",
    "for i in dizi:\n",
    "    if k == i:\n",
    "        arananIndex=sayac\n",
    "        bulduk=True\n",
    "        break\n",
    "    sayac+=1\n",
    "if bulduk:\n",
    "    print(\"Aradığınız eleman dizinin \" , arananIndex,\". elemanıdır.\")  \n",
    "else:\n",
    "    print(\"Aradığınız eleman bu dizinin elemanı değil.\")\n",
    "\n",
    "        "
   ]
  },
  {
   "cell_type": "markdown",
   "id": "fa35de86",
   "metadata": {},
   "source": [
    "**Alıştırma_2**\n",
    "\n",
    "Hazır fonksiyon kullanarak çözüm"
   ]
  },
  {
   "cell_type": "code",
   "execution_count": 125,
   "id": "09e6cc8e",
   "metadata": {},
   "outputs": [
    {
     "name": "stdout",
     "output_type": "stream",
     "text": [
      "Bulmak istediğiniz elemanı giriniz =8\n"
     ]
    },
    {
     "data": {
      "text/plain": [
       "2"
      ]
     },
     "execution_count": 125,
     "metadata": {},
     "output_type": "execute_result"
    }
   ],
   "source": [
    "k = int(input(\"Bulmak istediğiniz elemanı giriniz =\")) \n",
    "dizi=[1,3,8,12,23,27,32,45,52]  # Elemanlarımızı tanımladık\n",
    "dizi.index(k)"
   ]
  },
  {
   "cell_type": "markdown",
   "id": "72cae49b",
   "metadata": {},
   "source": [
    "**Alıştırma_3**\n",
    "\n",
    "Aranan elemanın indexini bulan fonksiyon oluşturma"
   ]
  },
  {
   "cell_type": "code",
   "execution_count": 127,
   "id": "8bd0a60c",
   "metadata": {},
   "outputs": [
    {
     "name": "stdout",
     "output_type": "stream",
     "text": [
      "Index değerinin bulmak istediğiniz elemanı giriniz32\n",
      "Aradığınız eleman dizinin  6 . elemanıdır.\n"
     ]
    }
   ],
   "source": [
    "def elemanBul(dizi,eleman):\n",
    "    \n",
    "    sayac = 0 \n",
    "    bulduk=False\n",
    "    for i in dizi:\n",
    "        if eleman == i:\n",
    "            arananIndex=sayac\n",
    "            bulduk=True\n",
    "            break\n",
    "        sayac+=1\n",
    "    if bulduk:\n",
    "        print(\"Aradığınız eleman dizinin \" , arananIndex,\". elemanıdır.\")  \n",
    "    else:\n",
    "        print(\"Aradığınız eleman bu dizinin elemanı değil.\")    \n",
    "\n",
    "\n",
    "dizi=[1,3,8,12,23,27,32,45,52]\n",
    "eleman=int(input(\"Index değerinin bulmak istediğiniz elemanı giriniz\"))\n",
    "elemanBul(dizi,eleman)"
   ]
  },
  {
   "cell_type": "markdown",
   "id": "b05d3cda",
   "metadata": {},
   "source": [
    "# ÖRNEK 26\n",
    "\n",
    "Dizi Elemanını Çıkarma:\n",
    "---\n",
    "\n",
    "Elimizde bir dizi olsun;\n",
    "\n",
    "    [1,3,8,12,23,27,32,45,52]\n",
    "\n",
    "İstediğimiz \"K\" elemanını bu diziden çıkarmak istiyoruz. Bu algoritmayı tasarlayınız.\n"
   ]
  },
  {
   "cell_type": "code",
   "execution_count": 136,
   "id": "69bd08fc",
   "metadata": {},
   "outputs": [
    {
     "name": "stdout",
     "output_type": "stream",
     "text": [
      "Diziden çıkarılacak elemanı giriniz=12\n",
      "Çıkarmak istediğiniz 12 diziden çıkarılmıştır = [1, 3, 8, 23, 27, 32, 45, 52]\n"
     ]
    }
   ],
   "source": [
    "def elemanCıkar(dizi,eleman):\n",
    "    if eleman in dizi:\n",
    "        dizi.remove(eleman)\n",
    "        return print(f\"Çıkarmak istediğiniz {eleman} diziden çıkarılmıştır = {dizi}\")\n",
    "    \n",
    "    else:\n",
    "        return print(\"Çıkarmak istediğiniz eleman bu diziye ait değil.\")\n",
    "    \n",
    "\n",
    "dizi=[1,3,8,12,23,27,32,45,52]\n",
    "elemanCık=int(input(\"Diziden çıkarılacak elemanı giriniz=\"))\n",
    "elemanCıkar(dizi,elemanCık)"
   ]
  },
  {
   "cell_type": "markdown",
   "id": "74303126",
   "metadata": {},
   "source": [
    "**Alıştırma_1**"
   ]
  },
  {
   "cell_type": "code",
   "execution_count": 143,
   "id": "de62e093",
   "metadata": {},
   "outputs": [
    {
     "name": "stdout",
     "output_type": "stream",
     "text": [
      "Listeden çıkarmak istediğiniz elemanı giriniz (1,3,8,12,23,27,32,45,52) = 12\n"
     ]
    },
    {
     "data": {
      "text/plain": [
       "[1, 3, 8, 23, 27, 32, 45, 52]"
      ]
     },
     "execution_count": 143,
     "metadata": {},
     "output_type": "execute_result"
    }
   ],
   "source": [
    "k = int(input(\"Listeden çıkarmak istediğiniz elemanı giriniz (1,3,8,12,23,27,32,45,52) = \")) \n",
    "# Eğer burada int olarak tanımlamazsak bilgisayar bunu string olarak kabul edecektir. Bu sebeple if konutu ile kullanıcının \n",
    "# verdiği değişkenin dizi içersinde olup olmadığını kontrol ettiğimizde yanlış işlem yapacaktır.\n",
    "\n",
    "dizi = [1,3,8,12,23,27,32,45,52]  #diziyi tanımladık.\n",
    "yeniDizi=[0]*(len(dizi)-1)  # Eski listedeki eleman sayısından bir az olacak şekilde yeni listeyim oluşturduk.\n",
    "i=0\n",
    "a=0 # yeni dizinin indeksini oluşturmak için değişken tanımladık\n",
    "\n",
    "while i < len(dizi):   # Listemizdeki eleman sayısı kadar döngü oluşturduk.\n",
    "    if k == dizi[i] :  # Dizinin i' elamanı çıkarılmak istenen eleman mı diye kontrol ettik. \n",
    "                       # input değerinin \"int\" olarak tanımlanması gerekir.\n",
    "        i += 1 # Bu if'in içine girdiğinde sonsuz döngüye girmemesi için i'yi bir arttırdk.\n",
    "        continue  # Eğer çıkarmak istenen eleman ise alttaki işlemi yapmaması için döngüyü bir ileri atlattık.\n",
    "    else:\n",
    "        yeniDizi[a] = dizi[i]  # Eski listedeki ilk elemandan başlayarak yeni listenin içine attık.\n",
    "        i=i+1 # Her seferinden i'yi bir arttırarak işleme devam ettik.\n",
    "        a += 1 # Yeni diziye her eleman eklendiğinde indeks değerini bir attırdık.\n",
    "\n",
    "yeniDizi"
   ]
  },
  {
   "cell_type": "markdown",
   "id": "6caecbb6",
   "metadata": {},
   "source": [
    "**Alıştırma_2**"
   ]
  },
  {
   "cell_type": "code",
   "execution_count": 145,
   "id": "3c736631",
   "metadata": {},
   "outputs": [
    {
     "name": "stdout",
     "output_type": "stream",
     "text": [
      "Diziden çıkarılacak elemanı giriniz=12\n",
      "Çıkarmak istediğiniz 12 diziden çıkarılmıştır = [1, 3, 8, 23, 27, 32, 45, 52]\n"
     ]
    }
   ],
   "source": [
    "def kCıkar(dizi,k):\n",
    "    if k in dizi:\n",
    "        dizi = [1,3,8,12,23,27,32,45,52]  #diziyi tanımladık.\n",
    "        yeniDizi=[0]*(len(dizi)-1)  # Eski listedeki eleman sayısından bir az olacak şekilde yeni listeyim oluşturduk.\n",
    "        i=0\n",
    "        a=0 # yeni dizinin indeksini oluşturmak için değişken tanımladık\n",
    "        while i < len(dizi):   # Listemizdeki eleman sayısı kadar döngü oluşturduk.\n",
    "            if k == dizi[i] :  # Dizinin i' elamanı çıkarılmak istenen eleman mı diye kontrol ettik. \n",
    "                               # input değerinin \"int\" olarak tanımlanması gerekir.\n",
    "                i += 1 # Bu if'in içine girdiğinde sonsuz döngüye girmemesi için i'yi bir arttırdk.\n",
    "                continue  # Eğer çıkarmak istenen eleman ise alttaki işlemi yapmaması için döngüyü bir ileri atlattık.\n",
    "            else:\n",
    "                yeniDizi[a] = dizi[i]  # Eski listedeki ilk elemandan başlayarak yeni listenin içine attık.\n",
    "                i=i+1 # Her seferinden i'yi bir arttırarak işleme devam ettik.\n",
    "                a += 1 # Yeni diziye her eleman eklendiğinde indeks değerini bir attırdık.\n",
    "        return  print(f\"Çıkarmak istediğiniz {eleman} diziden çıkarılmıştır = {yeniDizi}\")\n",
    "    else:\n",
    "        return print(\"Çıkarmak istediğiniz eleman bu diziye ait değil.\")\n",
    "\n",
    "dizi=[1,3,8,12,23,27,32,45,52]\n",
    "k=int(input(\"Diziden çıkarılacak elemanı giriniz=\"))\n",
    "elemanCıkar(dizi,k)"
   ]
  },
  {
   "cell_type": "markdown",
   "id": "0275bfec",
   "metadata": {},
   "source": [
    "# ÖRNEK 27\n",
    "\n",
    "Linked List Örneği\n",
    "---\n",
    "Elimizde bir dizi olsun;\n",
    "\n",
    "    [1,3,7,12,15,22,28,35,47,50,52]\n",
    "\n",
    "İstediğimiz \"K\" elemanını bu diziden çıkarmak istiyoruz. Linkli liste (bağlantılı liste) kullanarak bu algoritmayı tasarlayınız."
   ]
  },
  {
   "cell_type": "code",
   "execution_count": 150,
   "id": "8ef2cb7a",
   "metadata": {},
   "outputs": [],
   "source": [
    "data=[1,3,7,12,15,22,28,35,47,50,52]\n",
    "adres=[0,1,2,3,4,5,6,7,8,9,10]\n",
    "\n"
   ]
  },
  {
   "cell_type": "markdown",
   "id": "35bcce0d",
   "metadata": {},
   "source": [
    "**ChatGPT Çözümü**"
   ]
  },
  {
   "cell_type": "code",
   "execution_count": 149,
   "id": "e5dd072a",
   "metadata": {},
   "outputs": [
    {
     "name": "stdout",
     "output_type": "stream",
     "text": [
      "Başlangıç Linkli Listesi:\n",
      "52 50 47 35 28 22 15 12 7 3 1 \n",
      "28 çıkarıldıktan sonra Linkli Listesi:\n",
      "52 50 47 35 22 15 12 7 3 1 \n"
     ]
    }
   ],
   "source": [
    "class Node:\n",
    "    def __init__(self, data=None):\n",
    "        self.data = data\n",
    "        self.next = None\n",
    "\n",
    "def remove_element(head, key):\n",
    "    current = head\n",
    "    prev = None\n",
    "\n",
    "    # Listenin başındaki elemanı kontrol et\n",
    "    if current is not None and current.data == key:\n",
    "        head = current.next\n",
    "        return head\n",
    "\n",
    "    # Elemanı listede ara ve çıkar\n",
    "    while current is not None and current.data != key:\n",
    "        prev = current\n",
    "        current = current.next\n",
    "\n",
    "    # Elemanı bulamadık\n",
    "    if current is None:\n",
    "        print(f\"{key} bulunamadı.\")\n",
    "        return head\n",
    "\n",
    "    # Elemanı listeden çıkar\n",
    "    prev.next = current.next\n",
    "    return head\n",
    "\n",
    "def print_list(head):\n",
    "    current = head\n",
    "    while current:\n",
    "        print(current.data, end=\" \")\n",
    "        current = current.next\n",
    "    print()\n",
    "\n",
    "# Örnek kullanım\n",
    "elements = [1, 3, 7, 12, 15, 22, 28, 35, 47, 50, 52]\n",
    "\n",
    "# Linked list oluşturma\n",
    "head = None\n",
    "for element in elements:\n",
    "    new_node = Node(element)\n",
    "    new_node.next = head\n",
    "    head = new_node\n",
    "\n",
    "# Linkli listeyi görüntüleme\n",
    "print(\"Başlangıç Linkli Listesi:\")\n",
    "print_list(head)\n",
    "\n",
    "# Belirli bir elemanı listeden çıkarma\n",
    "k = 28\n",
    "head = remove_element(head, k)\n",
    "\n",
    "# Eleman çıkarıldıktan sonra linkli listeyi görüntüleme\n",
    "print(f\"{k} çıkarıldıktan sonra Linkli Listesi:\")\n",
    "print_list(head)\n"
   ]
  },
  {
   "cell_type": "markdown",
   "id": "324f2690",
   "metadata": {},
   "source": [
    "# ÖRNEK 28\n",
    "\n",
    "**Amaç**: Aşağıdaki şekilde string değiştiren fonksiyon yazmak istiyoruz.\n",
    "\n",
    "before: \"hi my name is Enes and i am learning python\"\n",
    "\n",
    "#after: \"Hi mY NaMe iS EnEs aNd i aM LeArNiNg pYtHoN\""
   ]
  },
  {
   "cell_type": "code",
   "execution_count": 3,
   "id": "906601f6",
   "metadata": {},
   "outputs": [
    {
     "name": "stdout",
     "output_type": "stream",
     "text": [
      "Hi mY NaMe iS EnEs aNd i aM LeArNiNg pYtHoN\n"
     ]
    }
   ],
   "source": [
    "def alternating(string):\n",
    "    new_string=\"\"\n",
    "    for string_index in range(len(string)):\n",
    "        if string_index %2==0:\n",
    "            new_string += string[string_index].upper()\n",
    "        else:\n",
    "            new_string += string[string_index].lower()\n",
    "    print(new_string)\n",
    "\n",
    "alternating(\"hi my name is Enes and i am learning python\")"
   ]
  },
  {
   "cell_type": "markdown",
   "id": "03003333",
   "metadata": {},
   "source": [
    "### Alıştırma_1\n",
    "\n",
    "Yukarıdaki **alternating** fonksiyonunu enumarete kullanarak yeniden oluşturun"
   ]
  },
  {
   "cell_type": "code",
   "execution_count": 12,
   "id": "38f31b49",
   "metadata": {},
   "outputs": [
    {
     "name": "stdout",
     "output_type": "stream",
     "text": [
      "Hi mY NaMe iS EnEs aNd i aM LeArNiNg pYtHoN\n"
     ]
    }
   ],
   "source": [
    "def alternating_with_enumarete(string):\n",
    "    new_string=\"\"\n",
    "    for index, harf in enumerate(string):\n",
    "        if index%2==0:\n",
    "            new_string+=harf.upper()\n",
    "        else:\n",
    "            new_string+=harf.lower()\n",
    "    print(new_string)\n",
    "\n",
    "alternating_with_enumarete(\"hi my name is Enes and i am learning python\")"
   ]
  },
  {
   "cell_type": "markdown",
   "id": "b32d93dd",
   "metadata": {},
   "source": [
    "# ÖRNEK 29\n",
    "\n",
    "**divide_students** fonksiyonu yazınız.\n",
    "\n",
    "Çift indexte yer alan öğrencileri bir listeye alınız.\n",
    "Tek indexte yer alan öğrencileri başka bir listeye alınız.\n",
    "\n",
    "Fakat bu iki liste tek bir liste olarak return olsun."
   ]
  },
  {
   "cell_type": "code",
   "execution_count": 10,
   "id": "c5a1e390",
   "metadata": {},
   "outputs": [
    {
     "name": "stdout",
     "output_type": "stream",
     "text": [
      "[['John', 'Venessa'], ['Mark', 'Mariam']]\n",
      "Tek indexte yer alan öğrenciler= ['John', 'Venessa']\n",
      "Çift indexte yer alan öğrenciler= ['Mark', 'Mariam']\n"
     ]
    }
   ],
   "source": [
    "students = [\"John\", \"Mark\", \"Venessa\", \"Mariam\"]\n",
    "\n",
    "def divide_students(students):\n",
    "    groups=[[],[]]\n",
    "    for index, student in enumerate(students):\n",
    "        if index %2==0:\n",
    "            groups[0].append(student)\n",
    "        else:\n",
    "            groups[1].append(student)\n",
    "    print(groups)\n",
    "    return groups\n",
    "\n",
    "st=divide_students(students)\n",
    "print(\"Tek indexte yer alan öğrenciler=\",st[0])\n",
    "print(\"Çift indexte yer alan öğrenciler=\",st[1])"
   ]
  },
  {
   "cell_type": "markdown",
   "id": "f7b759f9",
   "metadata": {},
   "source": [
    "# ÖRNEK 30\n",
    "\n",
    "**Amaç**: Çift sayıların karesi alınarak bir sözlüğe eklenmek istemektedir\n",
    "\n",
    "Key'ler orjinal değerler value'lar ise değiştirilmiş değerler olacak."
   ]
  },
  {
   "cell_type": "code",
   "execution_count": 18,
   "id": "27c4bdd2",
   "metadata": {},
   "outputs": [
    {
     "name": "stdout",
     "output_type": "stream",
     "text": [
      "{0: 0, 2: 4, 4: 16, 6: 36, 8: 64}\n"
     ]
    }
   ],
   "source": [
    "# numbers aralığındaki çift sayıları içeren yeni bir sözlük oluşturun\n",
    "new_dict = {}\n",
    "\n",
    "# numbers aralığı üzerinde döngü kullanarak işlem yapın\n",
    "for n in numbers:\n",
    "    # Eğer n çift sayı ise, n'nin karesini yeni sözlüğe ekleyin\n",
    "    if n % 2 == 0:\n",
    "        new_dict[n] = n ** 2\n",
    "\n",
    "# Oluşturulan sözlüğü ekrana yazdırın\n",
    "print(new_dict)"
   ]
  },
  {
   "cell_type": "markdown",
   "id": "95c4485b",
   "metadata": {},
   "source": [
    "### Alıştırma_1\n",
    "\n",
    "**dictionary comprehension** ile daha kısa ve okunabilir bir çözüm yapınız."
   ]
  },
  {
   "cell_type": "code",
   "execution_count": 17,
   "id": "78b8825c",
   "metadata": {},
   "outputs": [
    {
     "data": {
      "text/plain": [
       "{0: 0, 2: 4, 4: 16, 6: 36, 8: 64}"
      ]
     },
     "execution_count": 17,
     "metadata": {},
     "output_type": "execute_result"
    }
   ],
   "source": [
    "# Dictionary comprehension kullanarak aynı sonucu elde edin\n",
    "{n: n ** 2 for n in numbers if n % 2 == 0}"
   ]
  }
 ],
 "metadata": {
  "kernelspec": {
   "display_name": "Python 3 (ipykernel)",
   "language": "python",
   "name": "python3"
  },
  "language_info": {
   "codemirror_mode": {
    "name": "ipython",
    "version": 3
   },
   "file_extension": ".py",
   "mimetype": "text/x-python",
   "name": "python",
   "nbconvert_exporter": "python",
   "pygments_lexer": "ipython3",
   "version": "3.11.5"
  }
 },
 "nbformat": 4,
 "nbformat_minor": 5
}
