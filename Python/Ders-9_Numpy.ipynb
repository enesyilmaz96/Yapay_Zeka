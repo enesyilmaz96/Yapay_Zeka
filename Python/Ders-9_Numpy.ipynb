{
 "cells": [
  {
   "cell_type": "markdown",
   "id": "90258c35",
   "metadata": {},
   "source": [
    "# PYTHON İLE VERİ ANALİZİ \n",
    "\n",
    " - NumPy\n",
    " - Pandas\n",
    " - Veri Görselleştirme: Matplotlib & Seaborn\n",
    " - Gelişmiş Fonksiyonel Keşifçi Veri Analizi (Advanced Functional Exploratory Data Analysis)"
   ]
  },
  {
   "cell_type": "markdown",
   "id": "1b8a9fde",
   "metadata": {},
   "source": [
    "***********\n",
    "# NUMPY\n",
    "\n",
    "NumPy, çok boyutlu diziler (arrays) ve matematiksel işlemler için güçlü bir temel sağlar.\n",
    "\n",
    "NumPy'nin temel özellikleri şunlardır:\n",
    "\n",
    "1. **Çok Boyutlu Diziler (Arrays):** NumPy, tek boyutlu, iki boyutlu veya daha yüksek boyutlu diziler oluşturmanıza izin verir. Bu diziler, homojen veri tipleriyle çalışır ve genellikle sayısal veri setlerini temsil etmek için kullanılır.\n",
    "\n",
    "2. **Matematiksel İşlemler:** NumPy, diziler üzerinde hızlı ve etkili matematiksel işlemler gerçekleştirmenizi sağlar. Toplama, çıkarma, çarpma, bölme gibi temel aritmetik işlemlerin yanı sıra trigonometrik, logaritmik, lineer cebir, istatistiksel ve diğer matematiksel işlemleri destekler.\n",
    "\n",
    "3. **Yayın (Broadcasting):** NumPy'nin yayın özelliği, farklı boyutlardaki diziler üzerinde işlem yapmayı kolaylaştırır. Bu, örneğin iki farklı şekildeki dizileri toplamak veya çarpmak gibi işlemleri kolayca gerçekleştirmenizi sağlar.\n",
    "\n",
    "4. **Rastgele Sayı Üretme:** NumPy, rastgele sayılar üretmek için kullanışlı bir alt modül olan `numpy.random` içerir. Bu, istatistiksel analiz, simülasyonlar ve diğer uygulamalarda kullanılır.\n",
    "\n",
    "5. **Dosya İ/O:** NumPy, verileri diskten okumak ve yazmak için kullanışlı fonksiyonlar içerir. Bu sayede çeşitli veri formatlarından veri okuyabilir veya veriyi belirli bir formatta diske yazabilirsiniz.\n",
    "\n",
    "NumPy, genellikle diğer veri bilimi kütüphaneleri (örneğin, Pandas, Matplotlib, SciPy) ile birlikte kullanılır ve bu ekosistemde veri analizi, görselleştirme ve bilimsel hesaplamalar için güçlü bir temel oluşturur.\n",
    "\n",
    "\n",
    "Ele alınacak konu başlıkları;\n",
    "--\n",
    "\n",
    "- Neden NumPy? (Why Numpy?)\n",
    "- NumPy Array'i Oluşturmak (Creating Numpy Arrays)\n",
    "- NumPy Array Özellikleri (Attibutes of Numpy Arrays)\n",
    "- Index Seçimi (Index Selection)\n",
    "- Slicing\n",
    "- Fancy Index\n",
    "- Numpy'da Koşullu İşlemler (Conditions on Numpy)\n",
    "- Matematiksel İşlemler (Mathematical Operations)"
   ]
  },
  {
   "cell_type": "markdown",
   "id": "6145c428",
   "metadata": {},
   "source": [
    "## Neden NumPy?\n",
    "\n",
    "Daha az çaba ile daha fazla işlem yapma imkanı sağlar. Örneğin 2 listenin elemanların çarparak yeni bir liste oluşturalım;"
   ]
  },
  {
   "cell_type": "markdown",
   "id": "3da0857d",
   "metadata": {},
   "source": [
    "İlk kısım, klasik Python listeleri (a ve b) kullanarak iki liste arasında eleman bazında çarpma işlemi yapar. Her iki liste (**`a`** ve **`b`**) üzerinde döngüye girer, her iki listenin aynı pozisyondaki elemanlarını çarpar ve sonuçları **`ab`** adlı yeni bir liste içinde biriktirir. Bu, eleman bazında çarpma işlemi yapmanın temel bir Python döngüsüyle gerçekleştirildiği klasik bir yaklaşımdır."
   ]
  },
  {
   "cell_type": "code",
   "execution_count": 1,
   "id": "fc9a3a5e",
   "metadata": {},
   "outputs": [
    {
     "name": "stdout",
     "output_type": "stream",
     "text": [
      "[2, 6, 12, 20]\n"
     ]
    }
   ],
   "source": [
    "a = [1, 2, 3, 4]\n",
    "b = [2, 3, 4, 5]\n",
    "\n",
    "ab = []\n",
    "\n",
    "# Her iki listenin aynı pozisyondaki elemanlarını çarpıp, yeni bir liste oluştur\n",
    "for i in range(0, len(a)):\n",
    "    ab.append(a[i] * b[i])\n",
    "\n",
    "# Elde edilen liste\n",
    "print(ab)"
   ]
  },
  {
   "cell_type": "markdown",
   "id": "e16351ee",
   "metadata": {},
   "source": [
    "İkinci kısım, NumPy kütüphanesini kullanarak aynı eleman bazında çarpma işlemi için vektörleştirilmiş bir yaklaşımı gösterir:\n",
    "\n",
    "Bu kısım, NumPy kütüphanesini kullanarak iki NumPy dizisini eleman bazında çarpmayı gösterir. NumPy, vektörleştirilmiş operasyonları destekler, bu nedenle her iki dizi üzerinde doğrudan çarpma işlemi yapılabilir. Sonuç olarak, **result** adlı bir NumPy dizisi elde edilir. Vektörleştirilmiş operasyonlar, genellikle daha hızlı ve temiz bir kod sunar."
   ]
  },
  {
   "cell_type": "code",
   "execution_count": 4,
   "id": "da6e0324",
   "metadata": {},
   "outputs": [
    {
     "name": "stdout",
     "output_type": "stream",
     "text": [
      "[ 2  6 12 20]\n"
     ]
    }
   ],
   "source": [
    "import numpy as np\n",
    "\n",
    "a = np.array([1, 2, 3, 4])\n",
    "b = np.array([2, 3, 4, 5])\n",
    "\n",
    "# NumPy dizilerini eleman bazında çarpma işlemi\n",
    "result = a * b\n",
    "\n",
    "# Sonuç\n",
    "print(result)\n"
   ]
  },
  {
   "cell_type": "markdown",
   "id": "d1dd4833",
   "metadata": {},
   "source": [
    "## NumPy Array'i Oluşturmak (Creating Numpy Arrays)\n",
    "\n",
    "Bu kod bloğu, NumPy kütüphanesini kullanarak farklı tip ve boyutlarda numpy dizileri oluşturan işlemleri içerir."
   ]
  },
  {
   "cell_type": "markdown",
   "id": "dad87c8e",
   "metadata": {},
   "source": [
    "1. **Tek Boyutlu Dizi Oluşturma:**\n",
    "\n",
    "Bu ifade, **1'den 5'e kadar** olan sayıları içeren tek boyutlu bir **NumPy dizisi** oluşturur."
   ]
  },
  {
   "cell_type": "code",
   "execution_count": 5,
   "id": "5edc862b",
   "metadata": {},
   "outputs": [
    {
     "data": {
      "text/plain": [
       "array([1, 2, 3, 4, 5])"
      ]
     },
     "execution_count": 5,
     "metadata": {},
     "output_type": "execute_result"
    }
   ],
   "source": [
    "np.array([1, 2, 3, 4, 5])"
   ]
  },
  {
   "cell_type": "markdown",
   "id": "eaa7ee82",
   "metadata": {},
   "source": [
    "2. **Dizi Türünü Kontrol Etme:**\n",
    "\n",
    "Bu ifade, oluşturulan **NumPy dizisinin veri tipini kontrol eder** ve tipinin **\"numpy.ndarray\"** olduğunu belirtir."
   ]
  },
  {
   "cell_type": "code",
   "execution_count": 6,
   "id": "5c02764c",
   "metadata": {},
   "outputs": [
    {
     "data": {
      "text/plain": [
       "numpy.ndarray"
      ]
     },
     "execution_count": 6,
     "metadata": {},
     "output_type": "execute_result"
    }
   ],
   "source": [
    "type(np.array([1, 2, 3, 4, 5]))"
   ]
  },
  {
   "cell_type": "markdown",
   "id": "4f8567b3",
   "metadata": {},
   "source": [
    "3. **Sıfırlardan Oluşan Dizi Oluşturma:**\n",
    "\n",
    "Bu ifade, **10 elemanı sıfır** olan bir **diziyi \"`int`\" veri tipinde** oluşturur."
   ]
  },
  {
   "cell_type": "code",
   "execution_count": 8,
   "id": "94d7955e",
   "metadata": {},
   "outputs": [
    {
     "data": {
      "text/plain": [
       "array([0, 0, 0, 0, 0, 0, 0, 0, 0, 0])"
      ]
     },
     "execution_count": 8,
     "metadata": {},
     "output_type": "execute_result"
    }
   ],
   "source": [
    "np.zeros(10, dtype=int)"
   ]
  },
  {
   "cell_type": "markdown",
   "id": "af67e6fa",
   "metadata": {},
   "source": [
    "4. **Rastgele Sayılardan Oluşan Dizi Oluşturma:**\n",
    "\n",
    "Bu ifade, **0 ile 10 arasında rastgele tamsayıları** içeren, **10 elemanlı bir NumPy dizisi** oluşturur.\n"
   ]
  },
  {
   "cell_type": "code",
   "execution_count": null,
   "id": "0c93530a",
   "metadata": {},
   "outputs": [],
   "source": [
    "np.random.randint(0, 10, size=10)"
   ]
  },
  {
   "cell_type": "markdown",
   "id": "8c44466e",
   "metadata": {},
   "source": [
    "5. **Normal Dağılıma Sahip Dizi Oluşturma:**\n",
    "\n",
    "Bu ifade, **ortalama değeri 10**, **standart sapması 4** olan **normal dağılım**a sahip, **3x4 boyutunda** bir **NumPy dizisi** oluşturur.\n"
   ]
  },
  {
   "cell_type": "code",
   "execution_count": 9,
   "id": "d301db21",
   "metadata": {},
   "outputs": [
    {
     "data": {
      "text/plain": [
       "array([[10.59948823,  9.55868812, 13.57907862,  2.17012952],\n",
       "       [10.62577861,  4.9319989 ,  9.5200292 ,  5.30643426],\n",
       "       [15.66841652, 10.28565907, 13.36023835,  9.26963497]])"
      ]
     },
     "execution_count": 9,
     "metadata": {},
     "output_type": "execute_result"
    }
   ],
   "source": [
    "np.random.normal(10, 4, (3, 4))"
   ]
  },
  {
   "cell_type": "markdown",
   "id": "b0a5eba2",
   "metadata": {},
   "source": [
    "Her bir ifade, NumPy kütüphanesinin sağladığı güçlü özelliklerden birini kullanarak farklı türde diziler oluşturmayı gösterir."
   ]
  },
  {
   "cell_type": "markdown",
   "id": "b8b998b4",
   "metadata": {},
   "source": [
    "## NumPy Array Özellikleri (Attibutes of Numpy Arrays)\n",
    "\n",
    "- **ndim**: boyut sayısı\n",
    "- **shape**: boyut bilgisi\n",
    "- **size**: toplam eleman sayısı\n",
    "- **dtype**: array veri tipi\n",
    "\n",
    "NumPy kütüphanesini kullanarak rastgele tamsayılardan oluşan bir dizi oluşturduktan sonra, bu dizinin bazı özelliklerini kontrol eder. \n",
    "\n",
    "NumPy dizisinin temel özelliklerini kontrol ederek dizinin boyutu, şekli, eleman sayısı ve veri tipi gibi bilgileri sağlar."
   ]
  },
  {
   "cell_type": "markdown",
   "id": "af8b9fb2",
   "metadata": {},
   "source": [
    "1. **Rastgele Sayılardan Oluşan Dizi Oluşturma:**\n",
    "\n",
    "Bu ifade, 0 ile 9 arasında (10 hariç) **rastgele tamsayıları** içeren, **5 elemanlı bir NumPy dizisi** oluşturur."
   ]
  },
  {
   "cell_type": "code",
   "execution_count": 10,
   "id": "2e934fa0",
   "metadata": {},
   "outputs": [],
   "source": [
    "a = np.random.randint(10, size=5)"
   ]
  },
  {
   "cell_type": "markdown",
   "id": "e0e701ef",
   "metadata": {},
   "source": [
    "2. **Dizinin Boyutunu Kontrol Etme:**\n",
    "\n",
    "Bu ifade, oluşturulan NumPy **dizisinin boyutunu (dimension) kontrol** eder. Tek boyutlu bir dizi olduğu için çıktı olarak `1` döner."
   ]
  },
  {
   "cell_type": "code",
   "execution_count": 11,
   "id": "fc0f22d6",
   "metadata": {},
   "outputs": [
    {
     "data": {
      "text/plain": [
       "1"
      ]
     },
     "execution_count": 11,
     "metadata": {},
     "output_type": "execute_result"
    }
   ],
   "source": [
    "a.ndim"
   ]
  },
  {
   "cell_type": "markdown",
   "id": "47072438",
   "metadata": {},
   "source": [
    "3. **Dizinin Şeklini Kontrol Etme:**\n",
    "\n",
    "Bu ifade, oluşturulan NumPy **dizisinin şeklini (shape) kontrol eder**. Her boyuttaki eleman sayısını belirlitir. Bu örnekte tek boyutlu bir dizi olduğu için çıktı olarak **`(5,)`** döner. 5 elemanlı tek boyutlu bir dizi olduğunu belirtir."
   ]
  },
  {
   "cell_type": "code",
   "execution_count": 12,
   "id": "5b7347c9",
   "metadata": {},
   "outputs": [
    {
     "data": {
      "text/plain": [
       "(5,)"
      ]
     },
     "execution_count": 12,
     "metadata": {},
     "output_type": "execute_result"
    }
   ],
   "source": [
    "a.shape"
   ]
  },
  {
   "cell_type": "markdown",
   "id": "14f70adc",
   "metadata": {},
   "source": [
    "4. **Dizinin Eleman Sayısını Kontrol Etme:**\n",
    "\n",
    "Bu ifade, oluşturulan NumPy dizisinin toplam eleman sayısını kontrol eder. Tek boyutlu bir dizi olduğu için çıktı olarak **`5`** döner."
   ]
  },
  {
   "cell_type": "code",
   "execution_count": 13,
   "id": "0e9a9531",
   "metadata": {},
   "outputs": [
    {
     "data": {
      "text/plain": [
       "5"
      ]
     },
     "execution_count": 13,
     "metadata": {},
     "output_type": "execute_result"
    }
   ],
   "source": [
    "a.size"
   ]
  },
  {
   "cell_type": "markdown",
   "id": "26bfc402",
   "metadata": {},
   "source": [
    "5. **Dizinin Veri Tipini Kontrol Etme:**\n",
    "\n",
    "Bu ifade, oluşturulan NumPy **dizisinin veri tipini kontrol** eder. Rastgele tamsayılarla oluşturulduğu için çıktı olarak **`int64`** (64-bit tamsayı) döner."
   ]
  },
  {
   "cell_type": "code",
   "execution_count": null,
   "id": "5060a6bc",
   "metadata": {},
   "outputs": [],
   "source": [
    "a.dtype"
   ]
  },
  {
   "cell_type": "markdown",
   "id": "04dc99ed",
   "metadata": {},
   "source": [
    "## Yeniden Şekillendirme (Reshaping)\n",
    "\n",
    "Bu kod bloğu, NumPy kütüphanesini kullanarak rastgele tamsayılardan oluşan bir diziyi oluşturur ve bu **diziyi farklı boyutlara dönüştürür**. "
   ]
  },
  {
   "cell_type": "markdown",
   "id": "f5de39e8",
   "metadata": {},
   "source": [
    "1. **Tek Boyutlu Dizi Oluşturma:**\n",
    "\n",
    "Bu ifade, **1 ile 9 arasında** (10 hariç) **rastgele tamsayıları içeren, 9 elemanlı bir NumPy dizisi** oluşturur. Ancak, bu dizi bir **değişkene atanmamıştır** ve bu nedenle oluşturulan dizi gösterilmez."
   ]
  },
  {
   "cell_type": "code",
   "execution_count": 15,
   "id": "a7db5cd5",
   "metadata": {},
   "outputs": [
    {
     "data": {
      "text/plain": [
       "array([5, 8, 3, 8, 1, 6, 5, 5, 2])"
      ]
     },
     "execution_count": 15,
     "metadata": {},
     "output_type": "execute_result"
    }
   ],
   "source": [
    "np.random.randint(1, 10, size=9)"
   ]
  },
  {
   "cell_type": "markdown",
   "id": "31b4857f",
   "metadata": {},
   "source": [
    "2. **Tek Boyutlu Dizi Oluşturma ve Yeniden Şekillendirme (Reshape):**\n",
    "\n",
    "Bu ifade, 1 ile 9 arasında rastgele tamsayıları içeren, 9 elemanlı bir NumPy dizisi oluşturur ve bu **diziyi 3x3 boyutlarına dönüştürür** (reshape). Sonuç olarak, **3x3 boyutlu bir matris elde edilir**.\n",
    "\n",
    "Not: Burada size 9 olduğu için 3x3'lük matris elde edebiliriz. Fakat size=10 olsaydı 3x3'lük bir matris oluşturamayacağımız için hata verir. Verilecek değerler ona göre ayarlanmalıdır."
   ]
  },
  {
   "cell_type": "code",
   "execution_count": 16,
   "id": "e0cc515e",
   "metadata": {},
   "outputs": [
    {
     "data": {
      "text/plain": [
       "array([[5, 3, 7],\n",
       "       [8, 4, 9],\n",
       "       [8, 9, 2]])"
      ]
     },
     "execution_count": 16,
     "metadata": {},
     "output_type": "execute_result"
    }
   ],
   "source": [
    "np.random.randint(1, 10, size=9).reshape(3, 3)"
   ]
  },
  {
   "cell_type": "markdown",
   "id": "8f4854fa",
   "metadata": {},
   "source": [
    "3. **Tek Boyutlu Dizi Oluşturma, Değişken Atama ve Yeniden Şekillendirme:**\n",
    "\n",
    "Bu ifade, 1 ile 9 arasında rastgele tamsayıları içeren, 9 elemanlı bir NumPy dizisi oluşturur ve bu diziyi **`ar` adlı bir değişkene atar**. Daha sonra, bu **diziyi 3x3 boyutlarına dönüştürür** (reshape). **Elde edilen 3x3 boyutlu matris, `ar` değişkenine atanmış olur**."
   ]
  },
  {
   "cell_type": "code",
   "execution_count": 17,
   "id": "4d9a8401",
   "metadata": {},
   "outputs": [
    {
     "data": {
      "text/plain": [
       "array([[7, 4, 2],\n",
       "       [7, 3, 1],\n",
       "       [4, 5, 4]])"
      ]
     },
     "execution_count": 17,
     "metadata": {},
     "output_type": "execute_result"
    }
   ],
   "source": [
    "ar = np.random.randint(1, 10, size=9)\n",
    "ar.reshape(3, 3)"
   ]
  },
  {
   "cell_type": "markdown",
   "id": "0e6df2a9",
   "metadata": {},
   "source": [
    "Bu kod bloğu, **rastgele tamsayılardan oluşan diziyi oluşturma**, bu **diziyi değişkenlere atama** ve bu **diziyi yeniden şekillendirme (reshape)** işlemlerini gösterir."
   ]
  },
  {
   "cell_type": "markdown",
   "id": "b2aeff94",
   "metadata": {},
   "source": [
    "## Index Seçimi (Index Selection)\n",
    "\n",
    "**İndexlerin sıfırdan başladığını unutmayın**. Yani normalde birinci satır birinci sütunda yer alan değerin, satır ve sütun indexi sıfırdır."
   ]
  },
  {
   "cell_type": "code",
   "execution_count": 20,
   "id": "22ef4055",
   "metadata": {},
   "outputs": [
    {
     "data": {
      "text/plain": [
       "array([8, 1, 2, 1, 6, 5, 2, 8, 4, 1])"
      ]
     },
     "execution_count": 20,
     "metadata": {},
     "output_type": "execute_result"
    }
   ],
   "source": [
    "import numpy as np\n",
    "\n",
    "# Tek Boyutlu Dizi Oluşturma ve Eleman Erişim\n",
    "a = np.random.randint(10, size=10)\n",
    "a"
   ]
  },
  {
   "cell_type": "code",
   "execution_count": 22,
   "id": "8cbe4fec",
   "metadata": {},
   "outputs": [
    {
     "data": {
      "text/plain": [
       "8"
      ]
     },
     "execution_count": 22,
     "metadata": {},
     "output_type": "execute_result"
    }
   ],
   "source": [
    "a[0]  # İlk elemanı al"
   ]
  },
  {
   "cell_type": "code",
   "execution_count": 23,
   "id": "a69175bf",
   "metadata": {},
   "outputs": [
    {
     "data": {
      "text/plain": [
       "array([8, 1, 2, 1, 6])"
      ]
     },
     "execution_count": 23,
     "metadata": {},
     "output_type": "execute_result"
    }
   ],
   "source": [
    "a[0:5]  # İlk beş elemanı al"
   ]
  },
  {
   "cell_type": "code",
   "execution_count": 24,
   "id": "e6bdbed8",
   "metadata": {},
   "outputs": [
    {
     "data": {
      "text/plain": [
       "array([999,   1,   2,   1,   6,   5,   2,   8,   4,   1])"
      ]
     },
     "execution_count": 24,
     "metadata": {},
     "output_type": "execute_result"
    }
   ],
   "source": [
    "a[0] = 999  # İlk elemanı 999 olarak değiştir\n",
    "a"
   ]
  },
  {
   "cell_type": "code",
   "execution_count": 25,
   "id": "c43dd080",
   "metadata": {},
   "outputs": [
    {
     "data": {
      "text/plain": [
       "array([[5, 2, 4, 0, 4],\n",
       "       [7, 5, 2, 9, 5],\n",
       "       [2, 7, 9, 3, 0]])"
      ]
     },
     "execution_count": 25,
     "metadata": {},
     "output_type": "execute_result"
    }
   ],
   "source": [
    "# İki Boyutlu Matris Oluşturma ve Eleman Erişim (3x5'lik matris oluşturur)\n",
    "m = np.random.randint(10, size=(3, 5))\n",
    "m"
   ]
  },
  {
   "cell_type": "code",
   "execution_count": 26,
   "id": "5a0d3905",
   "metadata": {},
   "outputs": [
    {
     "data": {
      "text/plain": [
       "5"
      ]
     },
     "execution_count": 26,
     "metadata": {},
     "output_type": "execute_result"
    }
   ],
   "source": [
    "m[0, 0]  # Sıfırıncı satır, sıfırıncı sütunda yer alan elemana eriş"
   ]
  },
  {
   "cell_type": "code",
   "execution_count": 27,
   "id": "b1008f3f",
   "metadata": {},
   "outputs": [
    {
     "data": {
      "text/plain": [
       "5"
      ]
     },
     "execution_count": 27,
     "metadata": {},
     "output_type": "execute_result"
    }
   ],
   "source": [
    "m[1, 1]  # 1. satır 1. sütundaki elemana eriş"
   ]
  },
  {
   "cell_type": "code",
   "execution_count": 28,
   "id": "95decc1e",
   "metadata": {},
   "outputs": [
    {
     "data": {
      "text/plain": [
       "3"
      ]
     },
     "execution_count": 28,
     "metadata": {},
     "output_type": "execute_result"
    }
   ],
   "source": [
    "m[2, 3]  # 2. satır, 3. sütundaki elemana eriş"
   ]
  },
  {
   "cell_type": "code",
   "execution_count": 29,
   "id": "4c500f4b",
   "metadata": {},
   "outputs": [
    {
     "data": {
      "text/plain": [
       "array([[  5,   2,   4,   0,   4],\n",
       "       [  7,   5,   2,   9,   5],\n",
       "       [  2,   7,   9, 999,   0]])"
      ]
     },
     "execution_count": 29,
     "metadata": {},
     "output_type": "execute_result"
    }
   ],
   "source": [
    "m[2, 3] = 999  # 2.satır, 3. sütundaki elemanı 999 olarak değiştir\n",
    "m"
   ]
  },
  {
   "cell_type": "code",
   "execution_count": 31,
   "id": "be88acb6",
   "metadata": {},
   "outputs": [
    {
     "data": {
      "text/plain": [
       "array([[5, 2, 4, 0, 4],\n",
       "       [7, 5, 2, 9, 5],\n",
       "       [2, 7, 9, 2, 0]])"
      ]
     },
     "execution_count": 31,
     "metadata": {},
     "output_type": "execute_result"
    }
   ],
   "source": [
    "# 2. satır, 3. sütundaki elemana ondalıklı sayı atar, otomatik dönüşüm\n",
    "m[2, 3] = 2.9 \n",
    "m"
   ]
  },
  {
   "cell_type": "markdown",
   "id": "63895c6e",
   "metadata": {},
   "source": [
    "Numpy **sabit type** da bir arraydır. Numpy'ı hızlı kılan verimli veri saklama yönüdür. Üzerinde bin tane veri daha tutsan **hepsini tek bir type da tutar**. Bu sebeple girilecek verinin veri seti içindeki type ile uyumlu olması gerekir.\n",
    "Başlangıçta integer değerler ile oluşturulduğundan, sonradan eklenen değerleri de integera çevirir."
   ]
  },
  {
   "cell_type": "code",
   "execution_count": 32,
   "id": "fb4d3abe",
   "metadata": {},
   "outputs": [
    {
     "data": {
      "text/plain": [
       "array([5, 7, 2])"
      ]
     },
     "execution_count": 32,
     "metadata": {},
     "output_type": "execute_result"
    }
   ],
   "source": [
    "# Dilimleme (Slicing) İşlemleri\n",
    " # Tüm satırları ve sadece ilk sütunu seç\n",
    "m[:, 0] "
   ]
  },
  {
   "cell_type": "code",
   "execution_count": 33,
   "id": "238102a8",
   "metadata": {},
   "outputs": [
    {
     "data": {
      "text/plain": [
       "array([7, 5, 2, 9, 5])"
      ]
     },
     "execution_count": 33,
     "metadata": {},
     "output_type": "execute_result"
    }
   ],
   "source": [
    "m[1, :]  # İkinci satırı seç"
   ]
  },
  {
   "cell_type": "code",
   "execution_count": 34,
   "id": "7d1085ae",
   "metadata": {},
   "outputs": [
    {
     "data": {
      "text/plain": [
       "array([[5, 2, 4],\n",
       "       [7, 5, 2]])"
      ]
     },
     "execution_count": 34,
     "metadata": {},
     "output_type": "execute_result"
    }
   ],
   "source": [
    "m[0:2, 0:3]  # İlk iki satırı ve ilk üç sütunu seç\n"
   ]
  },
  {
   "cell_type": "markdown",
   "id": "a9e31be0",
   "metadata": {},
   "source": [
    "## Fancy Index (Süslü İndeks)"
   ]
  },
  {
   "cell_type": "code",
   "execution_count": 47,
   "id": "61248b5e",
   "metadata": {},
   "outputs": [
    {
     "data": {
      "text/plain": [
       "array([ 0,  3,  6,  9, 12, 15, 18, 21, 24, 27])"
      ]
     },
     "execution_count": 47,
     "metadata": {},
     "output_type": "execute_result"
    }
   ],
   "source": [
    "# 0'dan 30'a kadar 3'er 3'er artan bir aralık oluşturun\n",
    "v = np.arange(0, 30, 3)\n",
    "v"
   ]
  },
  {
   "cell_type": "code",
   "execution_count": 52,
   "id": "8fe80a8c",
   "metadata": {},
   "outputs": [
    {
     "name": "stdout",
     "output_type": "stream",
     "text": [
      "Dizinin 1. indisi= 3 \n",
      "Dizinin 4. indisi= 12\n"
     ]
    }
   ],
   "source": [
    "# Oluşturulan dizinin 1. ve 4. indislerine erişin\n",
    "element_at_1 = v[1]\n",
    "element_at_4 = v[4]\n",
    "print(\"Dizinin 1. indisi=\", element_at_1, \"\\nDizinin 4. indisi=\", element_at_4)"
   ]
  },
  {
   "cell_type": "markdown",
   "id": "0dce1d14",
   "metadata": {},
   "source": [
    "**`v[catch]`**: catch adlı listeyi kullanarak, catch listesindeki indislerdeki elemanlara erişir. Bu durumda, catch listesindeki indisler [1, 2, 3] olduğu için bu indislerdeki elemanlara ulaşır."
   ]
  },
  {
   "cell_type": "code",
   "execution_count": 54,
   "id": "582daec1",
   "metadata": {},
   "outputs": [
    {
     "name": "stdout",
     "output_type": "stream",
     "text": [
      "Dizinin 1, 2 ve 3. indisleri= [3 6 9]\n"
     ]
    }
   ],
   "source": [
    "# Bir liste kullanarak belirli indislerdeki elemanlara erişin\n",
    "# Ulaşmak istediğimiz indisleri bir değişkene tanımladık\n",
    "catch = [1, 2, 3]\n",
    "\n",
    "# Seçilecek indis değerlerini selected_elements isimli değişkene atadık.\n",
    "selected_elements = v[catch]\n",
    "\n",
    "# Ekrana yazdır\n",
    "print(\"Dizinin 1, 2 ve 3. indisleri=\",selected_elements)"
   ]
  },
  {
   "cell_type": "markdown",
   "id": "927af932",
   "metadata": {},
   "source": [
    "## Numpy'da Koşullu İşlemler (Conditions on Numpy)"
   ]
  },
  {
   "cell_type": "code",
   "execution_count": 55,
   "id": "6c0f8a4a",
   "metadata": {},
   "outputs": [
    {
     "data": {
      "text/plain": [
       "array([1, 2, 3, 4, 5])"
      ]
     },
     "execution_count": 55,
     "metadata": {},
     "output_type": "execute_result"
    }
   ],
   "source": [
    "# 1'den 5'e kadar olan sayıları içeren bir NumPy dizisi oluşturun\n",
    "v = np.array([1, 2, 3, 4, 5])\n",
    "v"
   ]
  },
  {
   "cell_type": "markdown",
   "id": "52b21681",
   "metadata": {},
   "source": [
    "### Klasik döngü ile\n",
    "\n",
    "NumPy dizisi (v) üzerinde **döngü kullanarak** belirli bir **koşulu sağlayan elemanları seçer** ve bu **elemanları başka bir listeye (ab) ekler**. \n",
    "\n",
    "Aşağıdaki örnekte klasik döngü ile değeri 3 den küçük olan elemanlar başka listeye eklenmiştir."
   ]
  },
  {
   "cell_type": "code",
   "execution_count": 56,
   "id": "2a9c5d93",
   "metadata": {},
   "outputs": [
    {
     "data": {
      "text/plain": [
       "[1, 2]"
      ]
     },
     "execution_count": 56,
     "metadata": {},
     "output_type": "execute_result"
    }
   ],
   "source": [
    "ab = []  # Boş bir liste oluştur\n",
    "\n",
    "# NumPy dizisi üzerinde döngü\n",
    "for i in v:\n",
    "    if i < 3:\n",
    "        ab.append(i)  # Koşulu sağlayan elemanları listeye ekle\n",
    "\n",
    "ab"
   ]
  },
  {
   "cell_type": "markdown",
   "id": "0ddd42ee",
   "metadata": {},
   "source": [
    "### Numpy ile\n",
    "\n",
    "NumPy dizileri üzerinde mantıksal indeksleme kullanarak belirli koşulları sağlayan elemanları seçmeyi gösterir."
   ]
  },
  {
   "cell_type": "code",
   "execution_count": 57,
   "id": "f3f230d9",
   "metadata": {},
   "outputs": [
    {
     "data": {
      "text/plain": [
       "array([1, 2])"
      ]
     },
     "execution_count": 57,
     "metadata": {},
     "output_type": "execute_result"
    }
   ],
   "source": [
    "# NumPy dizisi üzerinde koşulu sağlayan elemanları belirleme\n",
    "condition_lt_3 = v < 3  # 3'ten küçük olanları belirle\n",
    "v[condition_lt_3]  # 3'ten küçük olan elemanları seç"
   ]
  },
  {
   "cell_type": "code",
   "execution_count": 58,
   "id": "e35d594a",
   "metadata": {},
   "outputs": [
    {
     "data": {
      "text/plain": [
       "array([4, 5])"
      ]
     },
     "execution_count": 58,
     "metadata": {},
     "output_type": "execute_result"
    }
   ],
   "source": [
    "condition_gt_3 = v > 3  # 3'ten büyük olanları belirle\n",
    "v[condition_gt_3]  # 3'ten büyük olan elemanları seç"
   ]
  },
  {
   "cell_type": "code",
   "execution_count": 59,
   "id": "427c3572",
   "metadata": {},
   "outputs": [
    {
     "data": {
      "text/plain": [
       "array([1, 2, 4, 5])"
      ]
     },
     "execution_count": 59,
     "metadata": {},
     "output_type": "execute_result"
    }
   ],
   "source": [
    "condition_not_equal_3 = v != 3  # 3'e eşit olmayanları belirle\n",
    "v[condition_not_equal_3]  # 3'e eşit olmayan elemanları seç"
   ]
  },
  {
   "cell_type": "code",
   "execution_count": 60,
   "id": "7fb80c9f",
   "metadata": {},
   "outputs": [
    {
     "data": {
      "text/plain": [
       "array([1, 2, 4, 5])"
      ]
     },
     "execution_count": 60,
     "metadata": {},
     "output_type": "execute_result"
    }
   ],
   "source": [
    "condition_not_equal_3 = v != 3  # 3'e eşit olmayanları belirle\n",
    "v[condition_not_equal_3]  # 3'e eşit olmayan elemanları seç"
   ]
  },
  {
   "cell_type": "code",
   "execution_count": 61,
   "id": "d83a306a",
   "metadata": {},
   "outputs": [
    {
     "data": {
      "text/plain": [
       "array([3, 4, 5])"
      ]
     },
     "execution_count": 61,
     "metadata": {},
     "output_type": "execute_result"
    }
   ],
   "source": [
    "condition_greater_equal_3 = v >= 3  # 3'ten büyük eşit olanları belirle\n",
    "v[condition_greater_equal_3]  # 3'ten büyük eşit olan elemanları seç"
   ]
  },
  {
   "cell_type": "markdown",
   "id": "689e80a8",
   "metadata": {},
   "source": [
    "Kodları aşağıdaki gibi tek satırda yazmakta mümkündür. Ayrıca istenirse bu değer herhangi bir değişkene atılabilir."
   ]
  },
  {
   "cell_type": "code",
   "execution_count": 62,
   "id": "e3640ff0",
   "metadata": {},
   "outputs": [
    {
     "data": {
      "text/plain": [
       "array([1, 2])"
      ]
     },
     "execution_count": 62,
     "metadata": {},
     "output_type": "execute_result"
    }
   ],
   "source": [
    "v[v<3]"
   ]
  },
  {
   "cell_type": "markdown",
   "id": "03097b05",
   "metadata": {},
   "source": [
    "## Matematiksel İşlemler (Mathematical Operations)\n",
    "\n",
    "Bu kod bloğu, NumPy dizileri üzerinde temel matematiksel işlemleri ve bazı istatistiksel hesaplamaları gösterir. \n",
    "\n",
    "Bu kodun her bölümü, NumPy dizileri üzerinde farklı matematiksel işlemleri gerçekleştirir. **`np.subtract`**, **`np.add`**, **`np.mean`**, **`np.sum`**, **`np.min`**, **`np.max`**, **`np.var`** gibi NumPy fonksiyonları, diziler üzerinde işlemler yapmayı sağlar. Özellikle, **`v = np.subtract(v, 1)`** ifadesi, **`v`** dizisinin elemanlarından 1 çıkararak bu değişikliği orijinal dizinin üzerine uygular."
   ]
  },
  {
   "cell_type": "code",
   "execution_count": 76,
   "id": "16b770f3",
   "metadata": {},
   "outputs": [
    {
     "data": {
      "text/plain": [
       "array([0.2, 0.4, 0.6, 0.8, 1. ])"
      ]
     },
     "execution_count": 76,
     "metadata": {},
     "output_type": "execute_result"
    }
   ],
   "source": [
    "v = np.array([1, 2, 3, 4, 5])\n",
    "# Dizinin Elemanlarını 5'e Bölme\n",
    "result_divide_by_5 = v / 5\n",
    "\n",
    "#Ekrana yazdırma\n",
    "result_divide_by_5"
   ]
  },
  {
   "cell_type": "code",
   "execution_count": 77,
   "id": "78f7e91f",
   "metadata": {},
   "outputs": [
    {
     "data": {
      "text/plain": [
       "array([0.5, 1. , 1.5, 2. , 2.5])"
      ]
     },
     "execution_count": 77,
     "metadata": {},
     "output_type": "execute_result"
    }
   ],
   "source": [
    "# Dizinin Elemanlarını 5 ile Çarpıp 10'a Bölme\n",
    "result_multiply_by_5_divide_by_10 = v * 5 / 10\n",
    "result_multiply_by_5_divide_by_10"
   ]
  },
  {
   "cell_type": "code",
   "execution_count": 78,
   "id": "82b2919e",
   "metadata": {},
   "outputs": [
    {
     "data": {
      "text/plain": [
       "array([ 1,  4,  9, 16, 25])"
      ]
     },
     "execution_count": 78,
     "metadata": {},
     "output_type": "execute_result"
    }
   ],
   "source": [
    "# Dizinin Elemanlarının Kareleri\n",
    "result_square = v ** 2\n",
    "result_square"
   ]
  },
  {
   "cell_type": "code",
   "execution_count": 79,
   "id": "047dcb04",
   "metadata": {},
   "outputs": [
    {
     "data": {
      "text/plain": [
       "array([0, 1, 2, 3, 4])"
      ]
     },
     "execution_count": 79,
     "metadata": {},
     "output_type": "execute_result"
    }
   ],
   "source": [
    "# Dizinin Elemanlarından 1 Çıkarma\n",
    "result_subtract_1 = v - 1\n",
    "result_subtract_1"
   ]
  },
  {
   "cell_type": "code",
   "execution_count": 80,
   "id": "105738ce",
   "metadata": {},
   "outputs": [
    {
     "data": {
      "text/plain": [
       "array([0, 1, 2, 3, 4])"
      ]
     },
     "execution_count": 80,
     "metadata": {},
     "output_type": "execute_result"
    }
   ],
   "source": [
    "# NumPy Fonksiyonları ile İşlemler\n",
    "\n",
    "# Orjinal diziden ([1, 2, 3, 4, 5]), 1 çıkarır.\n",
    "result_subtract_np = np.subtract(v, 1)  # Diziden 1 çıkarma\n",
    "result_subtract_np"
   ]
  },
  {
   "cell_type": "code",
   "execution_count": 81,
   "id": "f3eb977e",
   "metadata": {},
   "outputs": [
    {
     "data": {
      "text/plain": [
       "array([2, 3, 4, 5, 6])"
      ]
     },
     "execution_count": 81,
     "metadata": {},
     "output_type": "execute_result"
    }
   ],
   "source": [
    "# Diziye 1 ekleme\n",
    "# Orjinal diziye ([1, 2, 3, 4, 5]), 1 ekler\n",
    "result_add_np = np.add(v, 1)  \n",
    "result_add_np"
   ]
  },
  {
   "cell_type": "code",
   "execution_count": 82,
   "id": "ce4d99a0",
   "metadata": {},
   "outputs": [
    {
     "name": "stdout",
     "output_type": "stream",
     "text": [
      "Dizinin Ortalaması= 3.0 \n",
      "Dizinin Toplamı= 15 \n",
      "En Küçük Eleman= 1 \n",
      "En Büyük Eleman= 5 \n",
      "Dizinin Varyansı= 2.0\n"
     ]
    }
   ],
   "source": [
    "mean_value = np.mean(v)  # Dizinin ortalamasını alma\n",
    "sum_value = np.sum(v)  # Dizinin toplamını alma\n",
    "min_value = np.min(v)  # Dizinin en küçük elemanını bulma\n",
    "max_value = np.max(v)  # Dizinin en büyük elemanını bulma\n",
    "variance_value = np.var(v)  # Dizinin varyansını bulma\n",
    "\n",
    "# Değerleri ekrana yazdırma\n",
    "print(\"Dizinin Ortalaması=\", mean_value, \"\\nDizinin Toplamı=\",sum_value,\n",
    "     \"\\nEn Küçük Eleman=\",min_value, \"\\nEn Büyük Eleman=\",max_value,\n",
    "     \"\\nDizinin Varyansı=\",variance_value)"
   ]
  },
  {
   "cell_type": "markdown",
   "id": "35eddb6b",
   "metadata": {},
   "source": [
    "## NumPy ile İki Bilinmeyenli Denklem Çözümü\n",
    "\n",
    "Aşağıda yer alan iki bilinmeyenli denklemi çözelim;\n",
    "\n",
    "5*x0 + x1 = 12\n",
    "\n",
    "x0 + 3*x1 = 10"
   ]
  },
  {
   "cell_type": "markdown",
   "id": "8798de8b",
   "metadata": {},
   "source": [
    "Bu kod bloğu, NumPy kütüphanesini kullanarak lineer denklemleri çözmek için **`np.linalg.solve`** fonksiyonunu kullanır. \n",
    "\n",
    "Bu ifadelerin açıklamaları şu şekildedir:\n",
    "\n",
    "- **`a`**: İki bilinmeyenli lineer denklemleri temsil eden katsayı matrisi.\n",
    "- **`b`**: Denklemlerin sağ tarafındaki değerleri temsil eden vektör.\n",
    "- **`np.linalg.solve(a, b)`**: Bu ifade, **`a`** katsayı matrisi ve **`b`** sağ taraf vektörü ile temsil edilen lineer denklem sistemini çözer ve bilinmeyenlerin değerlerini içeren bir vektörü (**`solution`**) döndürür.\n",
    "\n",
    "Bu örnekte, lineer denklem sistemi:\n",
    "\n",
    "\\[5x_1 + x_2 = 12\\]\n",
    "\n",
    "\\[x_1 + 3x_2 = 10\\]\n"
   ]
  },
  {
   "cell_type": "code",
   "execution_count": 84,
   "id": "9059cd4f",
   "metadata": {},
   "outputs": [
    {
     "name": "stdout",
     "output_type": "stream",
     "text": [
      "[1.85714286 2.71428571]\n"
     ]
    }
   ],
   "source": [
    "import numpy as np\n",
    "\n",
    "# İki bilinmeyenli lineer denklem sistemi için katsayı matrisi\n",
    "a = np.array([[5, 1], [1, 3]])\n",
    "\n",
    "# Sağ taraf vektörü\n",
    "b = np.array([12, 10])\n",
    "\n",
    "# Lineer denklem sistemini çözme\n",
    "solution = np.linalg.solve(a, b)\n",
    "\n",
    "print(solution)"
   ]
  },
  {
   "cell_type": "code",
   "execution_count": null,
   "id": "45297418",
   "metadata": {},
   "outputs": [],
   "source": []
  }
 ],
 "metadata": {
  "kernelspec": {
   "display_name": "Python 3 (ipykernel)",
   "language": "python",
   "name": "python3"
  },
  "language_info": {
   "codemirror_mode": {
    "name": "ipython",
    "version": 3
   },
   "file_extension": ".py",
   "mimetype": "text/x-python",
   "name": "python",
   "nbconvert_exporter": "python",
   "pygments_lexer": "ipython3",
   "version": "3.11.5"
  }
 },
 "nbformat": 4,
 "nbformat_minor": 5
}
