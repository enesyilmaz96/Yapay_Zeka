{
 "cells": [
  {
   "cell_type": "markdown",
   "id": "e9666c2b",
   "metadata": {},
   "source": [
    "## İleri Seviye \n",
    "\n",
    "Python'da yeni bir liste oluşturmak için, boş bir listeden başlayabiliriz ve bir döngü içinde `append()` metoduyla büyütebiliriz. Bu yazıda bu işlemi daha hızlı verimli olarak yapmamızı sağlayan özel _liste kurma_ yazımını göreceğiz. Liste kurma, genel olarak bir _üreteç ifadesi_ örneğidir. Liste kurma gibi sözlük ve kümeleri de hızlıca kurmak için benzer bir yazım kullanırız.\n",
    "\n",
    "Python Programlamaya Giriş yazı dizimizin bütün yazılarına erişmek için <a href=\"http://www.veridefteri.com/category/python-giris/\"><em>Python Programlamaya Giriş</em></a> kategorimize bakabilirsiniz. Bu dizideki yazılar ayrıca Jupyter defterleri halinde <a href=\"https://github.com/sibirbil/VeriDefteri/tree/master/Python_Programlama\">GitHub depomuzda</a> da mevcut.\n",
    "\n",
    "Basit liste kurma\n",
    "------\n",
    "Basit bir örnekle başlayalım: Bir sayı listesi alalım, ve liste elemanlarının karelerinden oluşan yeni bir liste oluşturalım. \n",
    "\n",
    "Şimdiye kadar gördüğümüz yöntemlerle bu işi yapmak için önce boş bir liste yaratırız, sonra bir `for` döngüsü içinde sayıları tek tek alırız, karelerini teker teker boş listeye ekleriz."
   ]
  },
  {
   "cell_type": "code",
   "execution_count": 1,
   "id": "1917b1e9",
   "metadata": {},
   "outputs": [
    {
     "data": {
      "text/plain": [
       "[1, 4, 9, 16, 25]"
      ]
     },
     "execution_count": 1,
     "metadata": {},
     "output_type": "execute_result"
    }
   ],
   "source": [
    "sayılar = [1,2,3,4,5]\n",
    "kareler = []\n",
    "for x in sayılar:\n",
    "    kareler.append(x*x)\n",
    "\n",
    "kareler"
   ]
  },
  {
   "cell_type": "markdown",
   "id": "ee761a4d",
   "metadata": {},
   "source": [
    "Aynı işi daha kısa yoldan ve daha hızlı yapmak için Python'da liste kurma (list comprehensions) denen bir yapı vardır."
   ]
  },
  {
   "cell_type": "code",
   "execution_count": 5,
   "id": "634150dd",
   "metadata": {},
   "outputs": [
    {
     "data": {
      "text/plain": [
       "[1, 4, 9, 16, 25]"
      ]
     },
     "execution_count": 5,
     "metadata": {},
     "output_type": "execute_result"
    }
   ],
   "source": [
    "sayılar = [1,2,3,4,5]\n",
    "kareler = [x*x for x in sayılar]\n",
    "kareler"
   ]
  },
  {
   "cell_type": "markdown",
   "id": "8c76e484",
   "metadata": {},
   "source": [
    "En basit halinde, liste kurma yapısının genel hali şöyledir:\n",
    "\n",
    "    [ <ifade> for <değişken> in <sıralı nesne> ]\n",
    "\n",
    "Bu yapıda, `<sıralı nesne>`'deki değerler tek tek `<değişken>`'e atanır, ve `<ifade>`'nin değeri hesaplanarak listeye eklenir.\n",
    "\n",
    "Yukarıdaki liste kurma ifadesi aşağıdaki kod parçasına denktir:\n",
    "\n",
    "    L = []\n",
    "    for <değişken> in <sıralı nesne>:\n",
    "        L.append(<ifade>)\n",
    "\n",
    "Birkaç örnek vererek açıklayalım. İkinin ilk on kuvvetinin listesi:"
   ]
  },
  {
   "cell_type": "code",
   "execution_count": 6,
   "id": "08eec63f",
   "metadata": {},
   "outputs": [
    {
     "data": {
      "text/plain": [
       "[2, 4, 8, 16, 32, 64, 128, 256, 512, 1024]"
      ]
     },
     "execution_count": 6,
     "metadata": {},
     "output_type": "execute_result"
    }
   ],
   "source": [
    "[2**i for i in range(1,11)]"
   ]
  },
  {
   "cell_type": "markdown",
   "id": "b99d10aa",
   "metadata": {},
   "source": [
    "Bir dizedeki karakterleri tek tek almak:"
   ]
  },
  {
   "cell_type": "code",
   "execution_count": 7,
   "id": "998a082f",
   "metadata": {},
   "outputs": [
    {
     "data": {
      "text/plain": [
       "['m*', 'e*', 'r*', 'h*', 'a*', 'b*', 'a*']"
      ]
     },
     "execution_count": 7,
     "metadata": {},
     "output_type": "execute_result"
    }
   ],
   "source": [
    "[c+\"*\" for c in \"merhaba\"]"
   ]
  },
  {
   "cell_type": "markdown",
   "id": "fe112ebe",
   "metadata": {},
   "source": [
    "Çokuzlardaki elemanların toplamlarının listesi:"
   ]
  },
  {
   "cell_type": "code",
   "execution_count": 8,
   "id": "dc812f14",
   "metadata": {},
   "outputs": [
    {
     "data": {
      "text/plain": [
       "[3, 1, 6, 10]"
      ]
     },
     "execution_count": 8,
     "metadata": {},
     "output_type": "execute_result"
    }
   ],
   "source": [
    "[ x[0] + x[1] for x in [(1,2), (2,-1), (4,2), (3,7)] ]"
   ]
  },
  {
   "cell_type": "markdown",
   "id": "0af2550d",
   "metadata": {},
   "source": [
    "Yukarıdaki örnek, _çokuz ataması_ özelliği sayesinde şöyle de yazılabilir:"
   ]
  },
  {
   "cell_type": "code",
   "execution_count": 6,
   "id": "b7b54ad8",
   "metadata": {
    "scrolled": true
   },
   "outputs": [
    {
     "data": {
      "text/plain": [
       "[3, 1, 6, 10]"
      ]
     },
     "execution_count": 6,
     "metadata": {},
     "output_type": "execute_result"
    }
   ],
   "source": [
    "[ x+y for x,y in [(1,2), (2,-1), (4,2), (3,7)] ]"
   ]
  },
  {
   "cell_type": "markdown",
   "id": "c9b3366f",
   "metadata": {},
   "source": [
    "Aradaki fark şöyle: Birinci durumda `x` değişkenine sırayla çokuzlar atanıyor, sonra indeksleme ile tek tek elemanlarını alıyoruz. İkinci durumda ise çokuzun birinci ve ikinci elemanı sırasıyla `x` ve `y` değişkenlerine atanıyor."
   ]
  },
  {
   "cell_type": "markdown",
   "id": "d3594005",
   "metadata": {},
   "source": [
    "Liste kurma ifadelerinin döngülerden bir farkı da, döngü değişkeninin **kalıcı olmamasıdır**."
   ]
  },
  {
   "cell_type": "code",
   "execution_count": 9,
   "id": "ce081c05",
   "metadata": {},
   "outputs": [
    {
     "data": {
      "text/plain": [
       "[0, 1, 4, 9, 16, 25, 36, 49, 64, 81]"
      ]
     },
     "execution_count": 9,
     "metadata": {},
     "output_type": "execute_result"
    }
   ],
   "source": [
    "[i*i for i in range(10)]"
   ]
  },
  {
   "cell_type": "code",
   "execution_count": 10,
   "id": "222815ed",
   "metadata": {},
   "outputs": [
    {
     "ename": "NameError",
     "evalue": "name 'i' is not defined",
     "output_type": "error",
     "traceback": [
      "\u001b[0;31m---------------------------------------------------------------------------\u001b[0m",
      "\u001b[0;31mNameError\u001b[0m                                 Traceback (most recent call last)",
      "\u001b[0;32m<ipython-input-10-372e25f23b5a>\u001b[0m in \u001b[0;36m<module>\u001b[0;34m()\u001b[0m\n\u001b[0;32m----> 1\u001b[0;31m \u001b[0mi\u001b[0m\u001b[0;34m\u001b[0m\u001b[0m\n\u001b[0m",
      "\u001b[0;31mNameError\u001b[0m: name 'i' is not defined"
     ]
    }
   ],
   "source": [
    "i"
   ]
  },
  {
   "cell_type": "markdown",
   "id": "6453c248",
   "metadata": {},
   "source": [
    "Oysa bir döngü kullandığımızda iç değişkenler döngüden sonra da erişilebilir olurlar."
   ]
  },
  {
   "cell_type": "code",
   "execution_count": 10,
   "id": "be3927e6",
   "metadata": {},
   "outputs": [
    {
     "data": {
      "text/plain": [
       "9"
      ]
     },
     "execution_count": 10,
     "metadata": {},
     "output_type": "execute_result"
    }
   ],
   "source": [
    "L = []\n",
    "for i in range(10):\n",
    "    L.append(i*i)\n",
    "\n",
    "i"
   ]
  },
  {
   "cell_type": "code",
   "execution_count": 12,
   "id": "e5a5123a",
   "metadata": {},
   "outputs": [
    {
     "data": {
      "text/plain": [
       "['E', 'n', 'e', 's', ' ', 'Y', 'ı', 'l', 'm', 'a', 'z']"
      ]
     },
     "execution_count": 12,
     "metadata": {},
     "output_type": "execute_result"
    }
   ],
   "source": [
    "yeniString = \"Enes Yılmaz\"\n",
    "yeniListeOrnegi = [eleman for eleman in yeniString]\n",
    "yeniListeOrnegi"
   ]
  },
  {
   "cell_type": "code",
   "execution_count": 13,
   "id": "e4707035",
   "metadata": {},
   "outputs": [
    {
     "data": {
      "text/plain": [
       "[0, 1, 32, 243, 1024, 3125, 7776, 16807, 32768, 59049]"
      ]
     },
     "execution_count": 13,
     "metadata": {},
     "output_type": "execute_result"
    }
   ],
   "source": [
    "ikinciListeOrnegi = [numara**5 for numara in list(range(0,10))]\n",
    "ikinciListeOrnegi"
   ]
  },
  {
   "cell_type": "markdown",
   "id": "6477e5e4",
   "metadata": {},
   "source": [
    "Hız farkı\n",
    "------\n",
    "Liste kurma ile, bir döngü içinde bir listeye `append()` ile eleman ekleme aynı işi yapıyorsa, neden liste kurmayı kullanalım? Birincisi, daha sade bir yapı olduğu için. Daha da önemlisi, liste kurma işlemi daha hızlı çalışır.\n",
    "\n",
    "Hız farkının iki sebebi vardır: Birincisi Python gibi yorumlanan dillerde döngülerin nispeten yavaş çalışmasıdır (C gibi derlenen dillere göre). Bir liste kurma ifadesi yine de örtük bir döngü içeriyor elbette, ama bu döngü alt seviyededir ve Python yorumlayıcısı tarafından yüksek hızda işletilir. İkinci sebep ise her iterasyonda listenin `append()` metodunun çağırılması gereğidir - fonksiyon çağrıları uzun zaman alan işlemlerdir ve programı yavaşlatırlar.\n",
    "\n",
    "Bunu daha somut olarak görmek için 1 ile 1000 arasındaki sayıların karelerini alan bir liste kurma ve bir döngü oluşturalım ve iki yaklaşım arasındaki zaman farkına bakalım."
   ]
  },
  {
   "cell_type": "code",
   "execution_count": 12,
   "id": "2068d8d2",
   "metadata": {},
   "outputs": [
    {
     "name": "stdout",
     "output_type": "stream",
     "text": [
      "79.8 µs ± 9.52 µs per loop (mean ± std. dev. of 7 runs, 10000 loops each)\n"
     ]
    }
   ],
   "source": [
    "%%timeit\n",
    "[x*x for x in range(1000)]"
   ]
  },
  {
   "cell_type": "code",
   "execution_count": 13,
   "id": "bc8029e4",
   "metadata": {},
   "outputs": [
    {
     "name": "stdout",
     "output_type": "stream",
     "text": [
      "150 µs ± 13.2 µs per loop (mean ± std. dev. of 7 runs, 10000 loops each)\n"
     ]
    }
   ],
   "source": [
    "%%timeit\n",
    "L = []\n",
    "for x in range(1000):\n",
    "    L.append(x*x)"
   ]
  },
  {
   "cell_type": "markdown",
   "id": "a7ac0a93",
   "metadata": {},
   "source": [
    "Şartlı liste kurma\n",
    "---\n",
    "Liste kurma işleminde her elemanı eklemek zorunda değiliz; bir şartı sağlayanları da eklememiz mümkün. Sözgelişi, bir sayı listesi içinde, sadece beşten büyük olanların karesini barındıran bir liste oluşturalım."
   ]
  },
  {
   "cell_type": "code",
   "execution_count": 14,
   "id": "2fe5f186",
   "metadata": {
    "scrolled": true
   },
   "outputs": [
    {
     "data": {
      "text/plain": [
       "[49, 81, 121]"
      ]
     },
     "execution_count": 14,
     "metadata": {},
     "output_type": "execute_result"
    }
   ],
   "source": [
    "[x*x for x in [1,3,5,7,9,11] if x>5 ]"
   ]
  },
  {
   "cell_type": "markdown",
   "id": "b4d5822c",
   "metadata": {},
   "source": [
    "Bu ifade, aşağıdaki döngüye denktir:\n",
    "\n",
    "    L = []\n",
    "    for x in [1,3,5,7,9,11]:\n",
    "        if x>5:\n",
    "            L.append(x*x)\n"
   ]
  },
  {
   "cell_type": "markdown",
   "id": "6e8ed113",
   "metadata": {},
   "source": [
    "Şartlı liste kurmanın genel ifadesi şöyledir:\n",
    "\n",
    "    [<ifade> for <değişken> in <sıralı nesne> if <şart>]\n",
    "\n",
    "Bu yapıda, sadece şartın doğru olduğu değişken değerleri için listeye eleman eklenir. Şart yanlışsa eklenmez. Eğer şart yanlış olduğunda da listeye belli değerler eklenmesini istiyorsak, daha önce gördüğümüz _üçlü if-else_ ifadesini kullanabiliriz.\n",
    "\n",
    "Söz gelişi, girdi listesindeki sayı beşten büyükse o sayının karesini, değilse sıfırı barındıran bir liste kuralım."
   ]
  },
  {
   "cell_type": "code",
   "execution_count": 16,
   "id": "11c59241",
   "metadata": {},
   "outputs": [
    {
     "data": {
      "text/plain": [
       "[0, 0, 0, 49, 81, 121]"
      ]
     },
     "execution_count": 16,
     "metadata": {},
     "output_type": "execute_result"
    }
   ],
   "source": [
    "[x*x if x>5 else 0 for x in [1,3,5,7,9,11] ]"
   ]
  },
  {
   "cell_type": "markdown",
   "id": "6c5e3d19",
   "metadata": {},
   "source": [
    "Buradaki `if-else` komutunun asıl ifadeye ait olduğuna dikkat edin; liste kurma şartı olarak kullanılmamıştır. "
   ]
  },
  {
   "cell_type": "markdown",
   "id": "52dd08bc",
   "metadata": {},
   "source": [
    "İç içe döngülerle liste kurma\n",
    "---\n",
    "Diyelim iki ayrı listeden elemanları birleştirerek mümkün bütün çiftleri kurmak istiyoruz, (a,1), (a,2),.., (b,1), (b,2),... gibi. Bunun için birinci listedeki her bir eleman için ikinci listedeki elemanlar üzerinde döngü kurmamız gerek. Yani döngü içinde döngü kurmalıyız. Bunu alışıldık yöntemle şöyle yapabiliriz:"
   ]
  },
  {
   "cell_type": "code",
   "execution_count": 17,
   "id": "97449b12",
   "metadata": {},
   "outputs": [
    {
     "data": {
      "text/plain": [
       "[('a', 1),\n",
       " ('a', 2),\n",
       " ('a', 3),\n",
       " ('b', 1),\n",
       " ('b', 2),\n",
       " ('b', 3),\n",
       " ('c', 1),\n",
       " ('c', 2),\n",
       " ('c', 3),\n",
       " ('d', 1),\n",
       " ('d', 2),\n",
       " ('d', 3)]"
      ]
     },
     "execution_count": 17,
     "metadata": {},
     "output_type": "execute_result"
    }
   ],
   "source": [
    "liste = []\n",
    "for c in \"abcd\":\n",
    "    for b in [1,2,3]:\n",
    "        liste.append((c,b))\n",
    "liste"
   ]
  },
  {
   "cell_type": "markdown",
   "id": "0ee8298e",
   "metadata": {},
   "source": [
    "Aynı işi liste kurma işlemiyle yapmak da mümkündür:"
   ]
  },
  {
   "cell_type": "code",
   "execution_count": 15,
   "id": "07de5cf8",
   "metadata": {},
   "outputs": [
    {
     "data": {
      "text/plain": [
       "[('a', 1),\n",
       " ('a', 2),\n",
       " ('a', 3),\n",
       " ('b', 1),\n",
       " ('b', 2),\n",
       " ('b', 3),\n",
       " ('c', 1),\n",
       " ('c', 2),\n",
       " ('c', 3),\n",
       " ('d', 1),\n",
       " ('d', 2),\n",
       " ('d', 3)]"
      ]
     },
     "execution_count": 15,
     "metadata": {},
     "output_type": "execute_result"
    }
   ],
   "source": [
    "[(c,b) for c in \"abcd\" for b in (1,2,3)]"
   ]
  },
  {
   "cell_type": "markdown",
   "id": "d4d94aee",
   "metadata": {},
   "source": [
    "Başka bir örnek olarak, iki ayrı listeden alınan sayılar ve onların toplamlarından oluşan çokuzlarla bir liste kurabiliriz."
   ]
  },
  {
   "cell_type": "code",
   "execution_count": 19,
   "id": "fb34a949",
   "metadata": {},
   "outputs": [
    {
     "data": {
      "text/plain": [
       "[(4, 1, 5),\n",
       " (5, 1, 6),\n",
       " (6, 1, 7),\n",
       " (4, 2, 6),\n",
       " (5, 2, 7),\n",
       " (6, 2, 8),\n",
       " (4, 3, 7),\n",
       " (5, 3, 8),\n",
       " (6, 3, 9)]"
      ]
     },
     "execution_count": 19,
     "metadata": {},
     "output_type": "execute_result"
    }
   ],
   "source": [
    "[(a,b,a+b) for b in (1,2,3) for a in (4,5,6)]"
   ]
  },
  {
   "cell_type": "markdown",
   "id": "8d1140e0",
   "metadata": {},
   "source": [
    "Kullanabileceğimiz iç içe döngülerin sınırı yok, istediğimiz kadar derine inebiliriz."
   ]
  },
  {
   "cell_type": "code",
   "execution_count": 20,
   "id": "a3e1d9fb",
   "metadata": {},
   "outputs": [
    {
     "data": {
      "text/plain": [
       "[(5, 3, 1, 9),\n",
       " (6, 3, 1, 10),\n",
       " (7, 3, 1, 11),\n",
       " (5, 4, 1, 10),\n",
       " (6, 4, 1, 11),\n",
       " (7, 4, 1, 12),\n",
       " (5, 3, 2, 10),\n",
       " (6, 3, 2, 11),\n",
       " (7, 3, 2, 12),\n",
       " (5, 4, 2, 11),\n",
       " (6, 4, 2, 12),\n",
       " (7, 4, 2, 13)]"
      ]
     },
     "execution_count": 20,
     "metadata": {},
     "output_type": "execute_result"
    }
   ],
   "source": [
    "[(a,b,c,a+b+c) for c in (1,2) for b in (3,4) for a in (5,6,7)]"
   ]
  },
  {
   "cell_type": "markdown",
   "id": "35a26553",
   "metadata": {},
   "source": [
    "Her `for` ile beraber bir şart ekleyebiliriz."
   ]
  },
  {
   "cell_type": "code",
   "execution_count": 21,
   "id": "f508e343",
   "metadata": {},
   "outputs": [
    {
     "data": {
      "text/plain": [
       "[(3, 5, 8), (3, 6, 9), (3, 7, 10), (4, 5, 9), (4, 6, 10), (4, 7, 11)]"
      ]
     },
     "execution_count": 21,
     "metadata": {},
     "output_type": "execute_result"
    }
   ],
   "source": [
    "[(a,b,a+b) for a in (1,2,3,4) if a>2 for b in (5,6,7)]"
   ]
  },
  {
   "cell_type": "code",
   "execution_count": 22,
   "id": "fd21980f",
   "metadata": {},
   "outputs": [
    {
     "data": {
      "text/plain": [
       "[(3, 5, 8), (3, 6, 9), (4, 5, 9), (4, 6, 10)]"
      ]
     },
     "execution_count": 22,
     "metadata": {},
     "output_type": "execute_result"
    }
   ],
   "source": [
    "[(a,b,a+b) for a in (1,2,3,4) if a>2 for b in (5,6,7) if b<7]"
   ]
  },
  {
   "cell_type": "markdown",
   "id": "b93464e7",
   "metadata": {},
   "source": [
    "Şartlarımız değişkenlerin hepsini birleştiren bir ifade halinde de olabilir. Örnek olarak, `a+b+c==10` şartını sağlayan bütün üçlüleri bulalım. Tekrarlardan kaçınmak için `b>=a` ve `c>=b` şartlarını da koyalım."
   ]
  },
  {
   "cell_type": "code",
   "execution_count": 23,
   "id": "a4de6965",
   "metadata": {},
   "outputs": [
    {
     "data": {
      "text/plain": [
       "[(1, 1, 8),\n",
       " (1, 2, 7),\n",
       " (1, 3, 6),\n",
       " (1, 4, 5),\n",
       " (2, 2, 6),\n",
       " (2, 3, 5),\n",
       " (2, 4, 4),\n",
       " (3, 3, 4)]"
      ]
     },
     "execution_count": 23,
     "metadata": {},
     "output_type": "execute_result"
    }
   ],
   "source": [
    "[ (a,b,c) for a in range(1,10) for b in range(a, 10) for c in range(b,10) if a+b+c==10 ]"
   ]
  },
  {
   "cell_type": "markdown",
   "id": "c7c0811d",
   "metadata": {},
   "source": [
    "Liste kurma ifadesinde solda kalan değişken sağ tarafta tanınır, ama tersi doğru değildir. Aşağıdaki kod yanlış olur:"
   ]
  },
  {
   "cell_type": "code",
   "execution_count": 17,
   "id": "67f2ab8c",
   "metadata": {},
   "outputs": [
    {
     "ename": "NameError",
     "evalue": "name 'a' is not defined",
     "output_type": "error",
     "traceback": [
      "\u001b[1;31m---------------------------------------------------------------------------\u001b[0m",
      "\u001b[1;31mNameError\u001b[0m                                 Traceback (most recent call last)",
      "Cell \u001b[1;32mIn[17], line 1\u001b[0m\n\u001b[1;32m----> 1\u001b[0m [ (a,b,c) \u001b[38;5;28;01mfor\u001b[39;00m b \u001b[38;5;129;01min\u001b[39;00m \u001b[38;5;28mrange\u001b[39m(a,\u001b[38;5;241m10\u001b[39m) \u001b[38;5;28;01mfor\u001b[39;00m a \u001b[38;5;129;01min\u001b[39;00m \u001b[38;5;28mrange\u001b[39m(\u001b[38;5;241m1\u001b[39m, \u001b[38;5;241m10\u001b[39m) \u001b[38;5;28;01mfor\u001b[39;00m c \u001b[38;5;129;01min\u001b[39;00m \u001b[38;5;28mrange\u001b[39m(b,\u001b[38;5;241m10\u001b[39m) \u001b[38;5;28;01mif\u001b[39;00m a\u001b[38;5;241m+\u001b[39mb\u001b[38;5;241m+\u001b[39mc\u001b[38;5;241m==\u001b[39m\u001b[38;5;241m10\u001b[39m ]\n",
      "\u001b[1;31mNameError\u001b[0m: name 'a' is not defined"
     ]
    }
   ],
   "source": [
    "[ (a,b,c) for b in range(a,10) for a in range(1, 10) for c in range(b,10) if a+b+c==10 ]"
   ]
  },
  {
   "cell_type": "markdown",
   "id": "e5281ee2",
   "metadata": {},
   "source": [
    "Liste kurmanın yorumlanması sol taraftan başladığı için, yukarıdaki örnekte `a` henüz tanımlanmamış oluyor ve yorumlayıcı hata mesajı veriyor. Bu davranışı anlamak için yukarıda bir önceki örneği döngülerle yazalım:\n",
    "\n",
    "    L = []\n",
    "    for a in range(1,10):\n",
    "        for b in range(a,10):\n",
    "            for c in range(b,10):\n",
    "                if (a+b+c==10):\n",
    "                    L.append((a,b,c))\n",
    "              \n",
    "Buradan da görülebileceği gibi, `for b in range(a,10):` satırı önce gelirse, `a`'nın değeri tanımsız oluyor.\n",
    "\n",
    "Fakat aşağıdaki gibi yazarsak yine çalışır, sadece a ve b nin aldığı değerler yer değiştirir;"
   ]
  },
  {
   "cell_type": "code",
   "execution_count": 19,
   "id": "9758e355",
   "metadata": {},
   "outputs": [
    {
     "data": {
      "text/plain": [
       "[(1, 1, 8),\n",
       " (2, 1, 7),\n",
       " (3, 1, 6),\n",
       " (4, 1, 5),\n",
       " (2, 2, 6),\n",
       " (3, 2, 5),\n",
       " (4, 2, 4),\n",
       " (3, 3, 4)]"
      ]
     },
     "execution_count": 19,
     "metadata": {},
     "output_type": "execute_result"
    }
   ],
   "source": [
    "[ (a,b,c) for b in range(1,10) for a in range(b, 10) for c in range(a,10) if a+b+c==10 ]"
   ]
  },
  {
   "cell_type": "markdown",
   "id": "88e58737",
   "metadata": {},
   "source": [
    "İç içe listeler ve matrisler kurma\n",
    "----\n",
    "Bir önceki bölümde gördüğümüz iç içe `for` döngülerinin tek seviyeli bir liste kurduğuna dikkat edin. Listeye yeni eleman eklemek ancak en içteki döngüde gerçekleşiyor. Eğer bir _listeler listesi_ oluşturmak istiyorsak başka bir yaklaşım kullanacağız, yani bir liste kurma işlemini başka birinin içine yerleştireceğiz."
   ]
  },
  {
   "cell_type": "code",
   "execution_count": 25,
   "id": "99bc592d",
   "metadata": {},
   "outputs": [
    {
     "data": {
      "text/plain": [
       "[['ax', 'bx', 'cx'], ['ay', 'by', 'cy'], ['az', 'bz', 'cz']]"
      ]
     },
     "execution_count": 25,
     "metadata": {},
     "output_type": "execute_result"
    }
   ],
   "source": [
    "[ [a+b for a in \"abc\"] for b in \"xyz\"]"
   ]
  },
  {
   "cell_type": "markdown",
   "id": "f545583d",
   "metadata": {},
   "source": [
    "Bir matris bir listeler listesi olarak yazılabilir. Listenin her elemanı (satır) bir listedir. Sözgelişi, $\\left[\\begin{array}{ccc}1&2&3\\\\ 4&5&6\\\\7&8&9\\end{array}\\right]$ matrisini bu şekilde temsil etmek için aşağıdaki yapıyı kullanabiliriz."
   ]
  },
  {
   "cell_type": "code",
   "execution_count": 26,
   "id": "b9dc21b1",
   "metadata": {},
   "outputs": [
    {
     "data": {
      "text/plain": [
       "[[1, 2, 3], [4, 5, 6], [7, 8, 9]]"
      ]
     },
     "execution_count": 26,
     "metadata": {},
     "output_type": "execute_result"
    }
   ],
   "source": [
    "[ [3*sütun + satır for satır in [1,2,3] ] for sütun in [0,1,2] ]"
   ]
  },
  {
   "cell_type": "markdown",
   "id": "22c7470b",
   "metadata": {},
   "source": [
    "Daha karmaşık bir örnek olarak, _Kronecker delta_ $\\delta_{i,j}$ matrisi, yani diyagonal elemanları 1, diğer elemanları 0 olan matris bir üçlü if-else ifadesiyle yazılabilir:"
   ]
  },
  {
   "cell_type": "code",
   "execution_count": 27,
   "id": "1c6f778a",
   "metadata": {
    "scrolled": true
   },
   "outputs": [
    {
     "data": {
      "text/plain": [
       "[[1, 0, 0, 0, 0],\n",
       " [0, 1, 0, 0, 0],\n",
       " [0, 0, 1, 0, 0],\n",
       " [0, 0, 0, 1, 0],\n",
       " [0, 0, 0, 0, 1]]"
      ]
     },
     "execution_count": 27,
     "metadata": {},
     "output_type": "execute_result"
    }
   ],
   "source": [
    "[ [ 1 if satır==sütun else 0 for sütun in range(5)] for satır in range(5)]"
   ]
  },
  {
   "cell_type": "markdown",
   "id": "4fe7f261",
   "metadata": {},
   "source": [
    "Üreteç ifadeler\n",
    "---\n",
    "Yukarıda gördüğümüz liste kurma yapısı, aslında daha genel ve daha verimli olan **_üreteç ifadeleri_** nin (generator expressions) özel bir durumudur. İlk örneğimizi, bir üreteç olarak şöyle yazabiliriz:"
   ]
  },
  {
   "cell_type": "code",
   "execution_count": 28,
   "id": "dd5d11d8",
   "metadata": {},
   "outputs": [
    {
     "data": {
      "text/plain": [
       "<generator object <genexpr> at 0x7f26157b7a98>"
      ]
     },
     "execution_count": 28,
     "metadata": {},
     "output_type": "execute_result"
    }
   ],
   "source": [
    "(x*x for x in [1,2,3,4,5])"
   ]
  },
  {
   "cell_type": "markdown",
   "id": "764b8468",
   "metadata": {},
   "source": [
    "Somut bir listeye çevirmek için bu üreteç ifadesini çıplak halde (çevresinde parantezler olmadan) bir `list()` fonksiyonuna verebiliriz. Bu, liste kurma ifadesiyle birebir aynı sonucu verir."
   ]
  },
  {
   "cell_type": "code",
   "execution_count": 29,
   "id": "8addc546",
   "metadata": {},
   "outputs": [
    {
     "data": {
      "text/plain": [
       "[1, 4, 9, 16, 25]"
      ]
     },
     "execution_count": 29,
     "metadata": {},
     "output_type": "execute_result"
    }
   ],
   "source": [
    "list(x*x for x in [1,2,3,4,5])"
   ]
  },
  {
   "cell_type": "markdown",
   "id": "2f9c406c",
   "metadata": {},
   "source": [
    "Üreteçler, sıralı nesneler gibi iterasyonlarda kullanılabilirler. Önemli bir farkları vardır: Bütün elemanları bir seferde yaratılıp bellekte saklanmaz. Bunun yerine, her eleman sırası geldikçe üretilir. Üreteç en son kaldığı yeri aklında tutar."
   ]
  },
  {
   "cell_type": "code",
   "execution_count": 30,
   "id": "d8de298f",
   "metadata": {},
   "outputs": [
    {
     "data": {
      "text/plain": [
       "(1, 4, 9)"
      ]
     },
     "execution_count": 30,
     "metadata": {},
     "output_type": "execute_result"
    }
   ],
   "source": [
    "g = (x*x for x in [1,2,3,4,5])\n",
    "next(g), next(g), next(g)"
   ]
  },
  {
   "cell_type": "markdown",
   "id": "63a92cf1",
   "metadata": {},
   "source": [
    "Üreteci bir döngüde kullanabiliriz:"
   ]
  },
  {
   "cell_type": "code",
   "execution_count": 31,
   "id": "e144c389",
   "metadata": {},
   "outputs": [
    {
     "name": "stdout",
     "output_type": "stream",
     "text": [
      "16\n",
      "25\n"
     ]
    }
   ],
   "source": [
    "for i in g:\n",
    "    print(i)"
   ]
  },
  {
   "cell_type": "markdown",
   "id": "88dec28f",
   "metadata": {},
   "source": [
    "Üreteç ifadelerinin listelere göre avantajı daha az yer kaplamalarıdır. Bir listede bütün elemanlar baştan sonra üretilip bellekte saklanırken, bir üreteçte her eleman sadece ihtiyaç duyulduğu anda (söz gelişi, döngüde sırası geldiği zaman) dinamik olarak üretilirler. Özellikle çok elemanlı dizilerde bu önemli miktarda bellek tasarrufu sağlayabilir.\n",
    "\n",
    "Üreteç ifadeleri, dizili nesne alan fonksiyonlara parametre olarak verilebilir:"
   ]
  },
  {
   "cell_type": "code",
   "execution_count": 32,
   "id": "cf7da34d",
   "metadata": {},
   "outputs": [
    {
     "data": {
      "text/plain": [
       "1.6439345666815615"
      ]
     },
     "execution_count": 32,
     "metadata": {},
     "output_type": "execute_result"
    }
   ],
   "source": [
    "sum(1/(x*x) for x in range(1,1001))"
   ]
  },
  {
   "cell_type": "markdown",
   "id": "7be59397",
   "metadata": {},
   "source": [
    "Bir de kendi tanımladığımız fonksiyonla kullanalım."
   ]
  },
  {
   "cell_type": "code",
   "execution_count": 33,
   "id": "3cb2e167",
   "metadata": {},
   "outputs": [
    {
     "data": {
      "text/plain": [
       "2520"
      ]
     },
     "execution_count": 33,
     "metadata": {},
     "output_type": "execute_result"
    }
   ],
   "source": [
    "def çarpım(L):\n",
    "    \"\"\"Liste elemanlarının çarpımını döndürür.\"\"\"\n",
    "    p = 1\n",
    "    for x in L:\n",
    "        p *= x\n",
    "    return p\n",
    "\n",
    "çarpım(x+2 for x in range(1,6))"
   ]
  },
  {
   "cell_type": "markdown",
   "id": "0054bf49",
   "metadata": {},
   "source": [
    "Çokuz ve küme kurma\n",
    "----\n",
    "Liste yerine küme kurmak için köşeli parantez `[]` yerine küme parantezi `{}` kullanmak yeterlidir. Aynı kurallar geçerlidir."
   ]
  },
  {
   "cell_type": "code",
   "execution_count": 34,
   "id": "e080a6db",
   "metadata": {},
   "outputs": [
    {
     "data": {
      "text/plain": [
       "{1, 2, 4, 5, 7, 8}"
      ]
     },
     "execution_count": 34,
     "metadata": {},
     "output_type": "execute_result"
    }
   ],
   "source": [
    "{i for i in range(10) if i%3 > 0}"
   ]
  },
  {
   "cell_type": "markdown",
   "id": "80a4e825",
   "metadata": {},
   "source": [
    "Ancak, yuvarlak parantez `()` üreteç kurma için kullanıldığından, çokuz üretmek için üreteci `tuple()` fonksiyonuna vermek gerekir."
   ]
  },
  {
   "cell_type": "code",
   "execution_count": 35,
   "id": "b2c8084f",
   "metadata": {},
   "outputs": [
    {
     "data": {
      "text/plain": [
       "((0, 0, 0),\n",
       " (1, 1, 1),\n",
       " (2, 4, 8),\n",
       " (3, 9, 27),\n",
       " (4, 16, 64),\n",
       " (5, 25, 125),\n",
       " (6, 36, 216),\n",
       " (7, 49, 343),\n",
       " (8, 64, 512),\n",
       " (9, 81, 729))"
      ]
     },
     "execution_count": 35,
     "metadata": {},
     "output_type": "execute_result"
    }
   ],
   "source": [
    "tuple( (i,i**2, i**3) for i in range(10) )"
   ]
  },
  {
   "cell_type": "markdown",
   "id": "72898114",
   "metadata": {},
   "source": [
    "Sözlük kurma\n",
    "----\n",
    "Liste kurma yapısını sözlük kurmaya adapte etmek mümkündür. Sözlük kurma yapısında, ikililerden oluşan bir sıralı nesne üzerinden iterasyon yapılır. İkililerin birinci elemanı sözlüğe anahtar, ikinci elemanı ise o anahtara ait değer olarak atanır."
   ]
  },
  {
   "cell_type": "code",
   "execution_count": 36,
   "id": "1148ca60",
   "metadata": {},
   "outputs": [
    {
     "data": {
      "text/plain": [
       "{'a': 1, 'b': 2, 'c': 6}"
      ]
     },
     "execution_count": 36,
     "metadata": {},
     "output_type": "execute_result"
    }
   ],
   "source": [
    "{k:v for k,v in ((\"a\",1),(\"b\",2),(\"c\",6))}"
   ]
  },
  {
   "cell_type": "markdown",
   "id": "a5c576a4",
   "metadata": {},
   "source": [
    "Anahtarlar ve değerler ayrı nesnelerde sıralanmışlarsa, bunlar `zip()` fonksiyonuyla istenen biçime sokulabilir."
   ]
  },
  {
   "cell_type": "code",
   "execution_count": 37,
   "id": "5c9fae99",
   "metadata": {},
   "outputs": [
    {
     "data": {
      "text/plain": [
       "{'a': 1, 'b': 2, 'c': 3}"
      ]
     },
     "execution_count": 37,
     "metadata": {},
     "output_type": "execute_result"
    }
   ],
   "source": [
    "anahtarlar = (\"a\",\"b\",\"c\")\n",
    "değerler = (1,2,3)\n",
    "{k:v for k,v in zip(anahtarlar,değerler)}"
   ]
  },
  {
   "cell_type": "markdown",
   "id": "a9379adb",
   "metadata": {},
   "source": [
    "Bir sözlüğün `items()` metodu anahtar-değer ikililerinden oluşan bir dizi verir. Bu dizi üzerinden iterasyon yaparsak, mevcut bir sözlükteki verilerle yeni bir sözlük oluşturabiliriz.\n",
    "\n",
    "Söz gelişi, `d` sözlüğündeki değerlerin karesini barındıran yeni bir sözlük oluşturalım:"
   ]
  },
  {
   "cell_type": "code",
   "execution_count": 38,
   "id": "aaeb1727",
   "metadata": {},
   "outputs": [
    {
     "data": {
      "text/plain": [
       "{'aa': 1, 'bb': 4, 'cc': 9}"
      ]
     },
     "execution_count": 38,
     "metadata": {},
     "output_type": "execute_result"
    }
   ],
   "source": [
    "d = {'a': 1, 'b': 2, 'c': 3}\n",
    "{k*2:v*v for k,v in d.items()}"
   ]
  },
  {
   "cell_type": "markdown",
   "id": "86b621c1",
   "metadata": {},
   "source": [
    "Bu yöntemle bir sözlüğün anahtar ve değerlerini ters çevirmek çok kolaydır: "
   ]
  },
  {
   "cell_type": "code",
   "execution_count": 39,
   "id": "3e26c160",
   "metadata": {},
   "outputs": [
    {
     "data": {
      "text/plain": [
       "{1: 'a', 2: 'b', 3: 'c'}"
      ]
     },
     "execution_count": 39,
     "metadata": {},
     "output_type": "execute_result"
    }
   ],
   "source": [
    "{v:k for k,v in d.items()}"
   ]
  },
  {
   "cell_type": "markdown",
   "id": "2612e317",
   "metadata": {},
   "source": [
    "Bu son örnekte, iki ayrı anahtarda aynı değer varsa, sonra gelenin öncekini sileceğine dikkat edin."
   ]
  },
  {
   "cell_type": "code",
   "execution_count": 40,
   "id": "261036c8",
   "metadata": {},
   "outputs": [
    {
     "data": {
      "text/plain": [
       "{1: 'a', 2: 'd', 3: 'c'}"
      ]
     },
     "execution_count": 40,
     "metadata": {},
     "output_type": "execute_result"
    }
   ],
   "source": [
    "d = {'a': 1, 'b': 2, 'c': 3, 'd':2}\n",
    "{v:k for k,v in d.items()}"
   ]
  }
 ],
 "metadata": {
  "kernelspec": {
   "display_name": "Python 3 (ipykernel)",
   "language": "python",
   "name": "python3"
  },
  "language_info": {
   "codemirror_mode": {
    "name": "ipython",
    "version": 3
   },
   "file_extension": ".py",
   "mimetype": "text/x-python",
   "name": "python",
   "nbconvert_exporter": "python",
   "pygments_lexer": "ipython3",
   "version": "3.11.5"
  }
 },
 "nbformat": 4,
 "nbformat_minor": 5
}
