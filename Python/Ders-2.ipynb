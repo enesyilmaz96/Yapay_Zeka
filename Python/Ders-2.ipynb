{
 "cells": [
  {
   "cell_type": "markdown",
   "id": "2e87d98e",
   "metadata": {},
   "source": [
    "# If komutu\n",
    "\n",
    "`if`den sonra tahminin hedefe eşit olup olmadığını yoklayan bir mantık ifadesi var. Bunun değeri ya doğru (`True`) yada yanlış (`False`) olacak. Eşitlik şartı için `==`(iki tane eşit işareti) kullanılır.\n"
   ]
  },
  {
   "cell_type": "code",
   "execution_count": 1,
   "id": "31afdbb8",
   "metadata": {},
   "outputs": [
    {
     "name": "stdout",
     "output_type": "stream",
     "text": [
      "Tahmininiz nedir: 42\n",
      "Tahmininiz doğru!\n"
     ]
    }
   ],
   "source": [
    "hedef= \"42\"\n",
    "tahmin = input(\"Tahmininiz nedir: \")\n",
    "\n",
    "if tahmin == hedef:\n",
    "    print(\"Tahmininiz doğru!\")"
   ]
  },
  {
   "cell_type": "code",
   "execution_count": 5,
   "id": "74a13fc2",
   "metadata": {},
   "outputs": [
    {
     "name": "stdout",
     "output_type": "stream",
     "text": [
      "Bu kod çalışır\n"
     ]
    }
   ],
   "source": [
    "a=1 \n",
    "b=3\n",
    "c=10\n",
    "\n",
    "if a<b and c> a+b:  # Burada hem a'nın b'den küçük olması hem de c'nin a+b'den büyük olması gerekir.\n",
    "    print(\"Bu kod çalışır\")"
   ]
  },
  {
   "cell_type": "code",
   "execution_count": 9,
   "id": "b1fe6cb1",
   "metadata": {},
   "outputs": [
    {
     "name": "stdout",
     "output_type": "stream",
     "text": [
      "Kaç tane sayı var = 10\n",
      "Onlarca\n"
     ]
    }
   ],
   "source": [
    "x=int(input(\"Kaç tane sayı var = \")) # Metinsel ifade olarak algılamaması için int olarak tanımladık.\n",
    "\n",
    "if x >= 1000:  # x değeri bine eşit veya büyükse altındaki kod çalışır\n",
    "    print(\"Binlerce\")\n",
    "if x >= 100 and x < 1000: # x değeri yüze eşit veya büyük ve binden küçükse altındaki komut çalışır.\n",
    "    print(\"Yüzlerce\")\n",
    "if x >= 10 and x < 100: # x değeri ona eşit veya büyük ve yüzden küçükse altındaki komut çalışır.\n",
    "    print(\"Onlarca\")\n",
    "if x >=1 and x < 10: # x değeri bire eşit veya büyük ve ondan küçükse altındaki komut çalışır.\n",
    "    print(\"Birkaç tane\")\n",
    "    "
   ]
  },
  {
   "cell_type": "markdown",
   "id": "ab19b6cc",
   "metadata": {},
   "source": [
    "## if, else ve elif komutu\n",
    "\n",
    "Yukarıda gördüğünüz kodu sadece if komutu ile yazmaya çalıştığımızda işlem oldukça uzamaktadır. Onun yerine else ve elif komutları ile işlem daha kısa hale getirilebilir."
   ]
  },
  {
   "cell_type": "code",
   "execution_count": 15,
   "id": "7e68d098",
   "metadata": {},
   "outputs": [
    {
     "name": "stdout",
     "output_type": "stream",
     "text": [
      "Kaç tane sayı var =999\n",
      "Yüzlerce sayı var\n"
     ]
    }
   ],
   "source": [
    "x = int(input(\"Kaç tane sayı var =\")) \n",
    "\n",
    "if x >= 1000: # Eğer girilen sayı bine eşit veya büyükse altındaki kodu çalıştırır.\n",
    "    print(\"Binlerce sayı var\")\n",
    "elif x >= 100: # Burada farklı olan şey her seferinde yüze eşit veya büyük ve binden ufak diye sorgulamaya gerek yok.\n",
    "               # Zaten bir önceki if sorgusundan binden büyük olup olmadığını kontrol ettik. Eğer büyük olsaydı bu adıma \n",
    "               # gelmeden kodu bitirecekti. If sorgusu doğru değilse bu sorguyu kontrol eder. Eğer bu da doğru \n",
    "               # değilse bir sonraki sorguyu kontrol eder.\n",
    "    print(\"Yüzlerce sayı var\")\n",
    "elif x >=10:\n",
    "    print(\"Onlarca sayı var\")\n",
    "elif x >=1:\n",
    "    print(\"Birkaç sayı var\")\n",
    "else:      # Eğer yukarıdaki sorguların hiçbiri doğru değilse son olarak else komutu çalışır. Bunun kendi içerisinde bir şartı\n",
    "           # yoktur. Tek şart yukarıdaki if ve elif sorgularının çalışmamış olmasıdır.\n",
    "    print(\"Hiç sayı yok\")"
   ]
  },
  {
   "cell_type": "code",
   "execution_count": 16,
   "id": "7c206605",
   "metadata": {},
   "outputs": [
    {
     "name": "stdout",
     "output_type": "stream",
     "text": [
      "Super kahraman seçiniz: enes\n",
      "Bu kim gerçekten bilmiyoruz\n"
     ]
    }
   ],
   "source": [
    "benimKahramanim = input(\"Super kahraman seçiniz: \")\n",
    "if benimKahramanim == \"Batman\":\n",
    "    print(\"Batman'i seçtiniz tebrikler\")\n",
    "elif benimKahramanim == \"Superman\":\n",
    "    print(\"Keşke Batman'i seçseydiniz\")\n",
    "elif benimKahramanim == \"Ironman\":\n",
    "    print(\"Iron man kimdir?\")\n",
    "else:\n",
    "    print(\"Bu kim gerçekten bilmiyoruz\")"
   ]
  },
  {
   "cell_type": "code",
   "execution_count": 18,
   "id": "57fffe9f",
   "metadata": {},
   "outputs": [
    {
     "name": "stdout",
     "output_type": "stream",
     "text": [
      "Aranan metni giriniz: dsa\n",
      "dsa, Enes Yılmaz içerisinde mevcut değil\n"
     ]
    }
   ],
   "source": [
    "benimAdım = \"Enes Yılmaz\"\n",
    "arananMetin = input(\"Aranan metni giriniz: \")\n",
    "\n",
    "if arananMetin in benimAdım:\n",
    "    print(\"Aranan metin adınızın içerisinde mevcut\")\n",
    "else:\n",
    "    print(arananMetin + \", \" + benimAdım + \" içerisinde mevcut değil\" )\n",
    "    "
   ]
  },
  {
   "cell_type": "code",
   "execution_count": 25,
   "id": "94c55641",
   "metadata": {},
   "outputs": [
    {
     "name": "stdout",
     "output_type": "stream",
     "text": [
      "Aradığınız anahtar kelimeyi giriniz = muz\n",
      "Aradığınız keys sözlükte mevcut\n"
     ]
    }
   ],
   "source": [
    "benimSozluk = {\"muz\":100, \"elma\":200, \"kivi\":500}\n",
    "arananKeys = input(\"Aradığınız anahtar kelimeyi giriniz = \")\n",
    "\n",
    "if arananKeys in benimSozluk.keys():\n",
    "    print(\"Aradığınız keys sözlükte mevcut\")\n",
    "else:\n",
    "    print(\"Sözlükte böyle bir anahtar kelime yok\")"
   ]
  },
  {
   "cell_type": "code",
   "execution_count": 26,
   "id": "94237eed",
   "metadata": {},
   "outputs": [
    {
     "data": {
      "text/plain": [
       "dict_values([100, 200, 500])"
      ]
     },
     "execution_count": 26,
     "metadata": {},
     "output_type": "execute_result"
    }
   ],
   "source": [
    "benimSozluk.values()"
   ]
  },
  {
   "cell_type": "code",
   "execution_count": 28,
   "id": "681183e0",
   "metadata": {},
   "outputs": [
    {
     "name": "stdout",
     "output_type": "stream",
     "text": [
      "Aradığınız değeri giriniz = 10\n",
      "Aradığınız değer sözlükteki değerler ile eşleşmiyor.\n"
     ]
    }
   ],
   "source": [
    "arananDeger = int(input(\"Aradığınız değeri giriniz = \"))\n",
    "if arananDeger in benimSozluk.values():\n",
    "    print(\"Aradığınız değer sözlükte mevcut\")\n",
    "else:\n",
    "    print(\"Aradığınız değer sözlükteki değerler ile eşleşmiyor.\")"
   ]
  },
  {
   "cell_type": "markdown",
   "id": "d37bb43d",
   "metadata": {},
   "source": [
    "## Üçlü if-else ifadesi\n"
   ]
  },
  {
   "cell_type": "code",
   "execution_count": 30,
   "id": "2fcf86bd",
   "metadata": {},
   "outputs": [
    {
     "name": "stdout",
     "output_type": "stream",
     "text": [
      "Bir sayı giriniz =-5\n",
      "5.0\n"
     ]
    }
   ],
   "source": [
    "x = float(input(\"Bir sayı giriniz =\"))\n",
    "\n",
    "m = x if x>0 else -x # Buradaki m değeri klavyeden girilen x'e eşitlenmek isteniyor. \n",
    "print(m)             # if sorgusu ile girilen değerin sıfırdan büyük olup olmadığı kontrol ediliyor.\n",
    "                     # Eğer büyükse m değerini x'e eşitleyecek değilse m değerini -x'e eşitleyecek"
   ]
  },
  {
   "cell_type": "code",
   "execution_count": 31,
   "id": "c82b9999",
   "metadata": {},
   "outputs": [
    {
     "name": "stdout",
     "output_type": "stream",
     "text": [
      "Tahmininiz: 35\n",
      "Yanlış\n"
     ]
    }
   ],
   "source": [
    "hedef = \"42\"\n",
    "x = input(\"Tahmininiz: \")\n",
    "print(\"Doğru!\" if x == hedef else \"Yanlış\") # Eğer x = hedef ise doğru değilse yanlış yazdıracak."
   ]
  },
  {
   "cell_type": "markdown",
   "id": "de4161dd",
   "metadata": {},
   "source": [
    "# for: Sıralı Nesneler Üzerinde Döngü"
   ]
  },
  {
   "cell_type": "code",
   "execution_count": 32,
   "id": "4bd7bd54",
   "metadata": {},
   "outputs": [
    {
     "name": "stdout",
     "output_type": "stream",
     "text": [
      "0 0\n",
      "1 1\n",
      "2 4\n",
      "3 9\n",
      "4 16\n",
      "5 25\n",
      "6 36\n",
      "7 49\n",
      "8 64\n",
      "9 81\n",
      "10 100\n"
     ]
    }
   ],
   "source": [
    "for x in range(11): # Burada x 0 dan başlayarak 10'a kadar değer alacak ve her değer için aşağıdaki komutu gerçekleştirecek.\n",
    "    print(x, x**2)"
   ]
  },
  {
   "cell_type": "markdown",
   "id": "0acc01ef",
   "metadata": {},
   "source": [
    "`for` döngüsü, bir dizeyi de bir liste gibi eleman eleman alabilir. Dizenin elemanları onu oluşturan karakterlerdir."
   ]
  },
  {
   "cell_type": "code",
   "execution_count": null,
   "id": "6e4a5bf7",
   "metadata": {},
   "outputs": [],
   "source": [
    "for c in \"Merhaba\": # Döngü oluşturara c değişekeninin \"Merhaba\" kelimesindeki harfleri almasını sağladık.\n",
    "                    # c değeri tüm harfleri alana kadar döngü devam eder ve sonra döngü biter.\n",
    "    print(c,end=\",\") # Her c değişkeninden sonra (end) virgül koyduk."
   ]
  },
  {
   "cell_type": "markdown",
   "id": "a4bb59a0",
   "metadata": {},
   "source": [
    "Bir çokuzdaki elemanların toplamını bulalım."
   ]
  },
  {
   "cell_type": "code",
   "execution_count": 34,
   "id": "596a964d",
   "metadata": {},
   "outputs": [
    {
     "name": "stdout",
     "output_type": "stream",
     "text": [
      "25.5\n"
     ]
    }
   ],
   "source": [
    "toplam = 0\n",
    "for x in (4,5,6,-5,10,5.5):    # x'in sırayla tüm değerleri almasını sağlayacak bir döngü kurduk.\n",
    "    toplam += x   # Başlangıçta sıfır olan toplam değerini her seferinde yeni x değişkeni ile topladık\n",
    "print(toplam)"
   ]
  },
  {
   "cell_type": "markdown",
   "id": "7696b282",
   "metadata": {},
   "source": [
    "Elimizde sayı çiftlerinden oluşan bir liste olsun ve bu çiftlerin toplamlarının listesini elde etmek istiyoruz diyelim."
   ]
  },
  {
   "cell_type": "code",
   "execution_count": 37,
   "id": "4972f339",
   "metadata": {},
   "outputs": [
    {
     "name": "stdout",
     "output_type": "stream",
     "text": [
      "1 + 2  =  3\n",
      "2 + 4  =  6\n",
      "5 + 1  =  6\n"
     ]
    }
   ],
   "source": [
    "L = [(1,2), (2,4), (5,1)]\n",
    "\n",
    "for a in L: # L değişkeninde 3 eleman kümesi var a ilk döngüde 2 değer alacak a0=1 ve a1=2\n",
    "            # İkinci döngüde a0=2 a1=4 değerini ve son döngüde ise a0=5 ve a1=1 değerini alacak\n",
    "    print(a[0], \"+\", a[1], \" = \", a[0]+a[1])  # Her döngüde a'nın değerleri ve toplamı ekrana yazdırılacak."
   ]
  },
  {
   "cell_type": "markdown",
   "id": "9711487e",
   "metadata": {},
   "source": [
    "Aynısını çokuz atamalarından faydalanarak yazmak kodu sadeleştirir."
   ]
  },
  {
   "cell_type": "code",
   "execution_count": 38,
   "id": "e72c2901",
   "metadata": {},
   "outputs": [
    {
     "name": "stdout",
     "output_type": "stream",
     "text": [
      "1 + 2  =  3\n",
      "2 + 4  =  6\n",
      "5 + 1  =  6\n"
     ]
    }
   ],
   "source": [
    "L = [(1,2), (2,4), (5,1)]\n",
    "\n",
    "for a,b in L: # Burada ise a'nın tuple içerisindeki ilk değeri, b'nin ise ikinci değeri almasını sağladık.\n",
    "    print(a, \"+\", b, \" = \", a+b)"
   ]
  },
  {
   "cell_type": "code",
   "execution_count": 40,
   "id": "0615dbc7",
   "metadata": {},
   "outputs": [
    {
     "name": "stdout",
     "output_type": "stream",
     "text": [
      "H\n",
      "a\n",
      "r\n",
      "f\n",
      " \n",
      "D\n",
      "ö\n",
      "n\n",
      "g\n",
      "ü\n",
      "s\n",
      "ü\n"
     ]
    }
   ],
   "source": [
    "dongu =\"Harf Döngüsü\"\n",
    "for harf in dongu:\n",
    "    print(harf)"
   ]
  },
  {
   "cell_type": "code",
   "execution_count": 41,
   "id": "cfad16fd",
   "metadata": {},
   "outputs": [
    {
     "name": "stdout",
     "output_type": "stream",
     "text": [
      "1\n",
      "2\n",
      "3\n",
      "4\n",
      "5\n",
      "6\n"
     ]
    }
   ],
   "source": [
    "tupleDongu = (1,2,3,4,5,6)\n",
    "for e in tupleDongu:\n",
    "    print(e)"
   ]
  },
  {
   "cell_type": "code",
   "execution_count": 43,
   "id": "2ff4d8e1",
   "metadata": {},
   "outputs": [
    {
     "name": "stdout",
     "output_type": "stream",
     "text": [
      "x değeri =  1  y değeri =  2  z değeri =  3\n",
      "x değeri =  4  y değeri =  5  z değeri =  6\n",
      "x değeri =  7  y değeri =  8  z değeri =  9\n"
     ]
    }
   ],
   "source": [
    "benimGaripListem = [(1,2,3),(4,5,6),(7,8,9)]\n",
    "for x, y, z in benimGaripListem:\n",
    "    print(\"x değeri = \", x, \" y değeri = \", y, \" z değeri = \", z)"
   ]
  },
  {
   "cell_type": "code",
   "execution_count": 45,
   "id": "f6829759",
   "metadata": {},
   "outputs": [
    {
     "name": "stdout",
     "output_type": "stream",
     "text": [
      "Anahtar kelime =  muz\n",
      "Anahtar kelimenin değeri=  150\n",
      "Anahtar kelime =  portakal\n",
      "Anahtar kelimenin değeri=  250\n",
      "Anahtar kelime =  elma\n",
      "Anahtar kelimenin değeri=  400\n"
     ]
    }
   ],
   "source": [
    "sozlukDongu= {\"muz\": 150, \"portakal\" : 250, \"elma\" : 400}\n",
    "for anahtar, deger in sozlukDongu.items():\n",
    "    print(\"Anahtar kelime = \", anahtar)\n",
    "    print(\"Anahtar kelimenin değeri= \", deger)"
   ]
  },
  {
   "cell_type": "markdown",
   "id": "b90f5703",
   "metadata": {},
   "source": [
    "while döngüsü\n",
    "========\n",
    "\n",
    "Basit bir örnekle başlayalım: 10'a kadar olan (10 dahil değil) sayıları sırayla ekrana yazan bir program yazalım."
   ]
  },
  {
   "cell_type": "code",
   "execution_count": 48,
   "id": "0cfdf24c",
   "metadata": {},
   "outputs": [
    {
     "name": "stdout",
     "output_type": "stream",
     "text": [
      "1 2 3 4 5 6 7 8 9 "
     ]
    }
   ],
   "source": [
    "a=1\n",
    "b=10\n",
    "while a<b: # a değişkeni b'den küçük olduğu sürece döngü devam edecek.\n",
    "    print(a, end=\" \") # Burada a değişkeninin yan yana ve aralarında boşlukla yazılmasını sağladık.\n",
    "    a += 1  # a = a + 1 ile aynı anlama gelir. a'yı her döngüden sonra bir arttırdık ki a değişkeni 1 ile 10 arasındaki tüm\n",
    "            # değerleri alsın ve 10 olunca döngü sonlansın."
   ]
  },
  {
   "cell_type": "code",
   "execution_count": 49,
   "id": "e4305c08",
   "metadata": {},
   "outputs": [
    {
     "name": "stdout",
     "output_type": "stream",
     "text": [
      "55\n"
     ]
    }
   ],
   "source": [
    "a=1\n",
    "b=10\n",
    "toplam=0\n",
    "while a<=b: # Burada <= kulllandığımız için bu sefer a=10 olduğunda da döngü çalışacak.\n",
    "    toplam += a # 1'den 10'a kadar olan tüm değerleri topladık.\n",
    "    a += 1 # Döngünün tamamlanması için her seferinde a'yı bir arttırdık.\n",
    "print(toplam)"
   ]
  },
  {
   "cell_type": "code",
   "execution_count": 51,
   "id": "b994dbd2",
   "metadata": {},
   "outputs": [
    {
     "name": "stdout",
     "output_type": "stream",
     "text": [
      "3 Hala listenin içerisinde \n",
      "3 Hala listenin içerisinde \n",
      "3 Hala listenin içerisinde \n",
      "3 Hala listenin içerisinde \n",
      "Yeni liste =  [1, 2]\n"
     ]
    }
   ],
   "source": [
    "whileListem= [1,2,3,4,5,6] # 1 den 6 ya kadar eleman içersen bir liste oluşturuduk.\n",
    " \n",
    "while 3 in whileListem:  # Listenin içerisinde 3 değeri olduğu sürece (Yani sorgu True ise) devam edecek döngü oluşturduk.\n",
    "    print(\"3 Hala listenin içerisinde \")\n",
    "    whileListem.pop() # .pop komutu ile her döngüde listenin son elemanını listeden attık.\n",
    "\n",
    "print(\"Yeni liste = \", whileListem) # Döngü sona erdiğinde yeni listeyi ekrana yazdırdık."
   ]
  },
  {
   "cell_type": "markdown",
   "id": "9274e2a0",
   "metadata": {},
   "source": [
    "## İç İçe Döngü Kurmak\n",
    "\n",
    "İçiçe döngüler yazmanın en kolay yolu, dış döngüdeki parametreleri sabit tutup en içteki döngüyle başlamaktır. İlk aşamada $1^p + 2^p + \\cdots + 10^p$ toplamını sadece $p=1$ için hesaplayalım."
   ]
  },
  {
   "cell_type": "code",
   "execution_count": 52,
   "id": "8f4c297f",
   "metadata": {},
   "outputs": [
    {
     "name": "stdout",
     "output_type": "stream",
     "text": [
      "p = 1 , 1^p + ... + 10^p = 55\n"
     ]
    }
   ],
   "source": [
    "p=1\n",
    "a=1\n",
    "b=10\n",
    "toplam=0\n",
    "while a<=b:\n",
    "    toplam += a**p\n",
    "    a += 1\n",
    "print(\"p =\",p,\", 1^p + ... + 10^p =\", toplam)"
   ]
  },
  {
   "cell_type": "markdown",
   "id": "afa972e0",
   "metadata": {},
   "source": [
    "Şimdi yapmamız gereken bunu $p=2,3,4,5,6$ için tekrarlamak. Tembel işi yapıp, aynı kodu altı kere yapıştırıp $p$ değerlerini değiştirebiliriz."
   ]
  },
  {
   "cell_type": "code",
   "execution_count": 54,
   "id": "c52f2bb4",
   "metadata": {},
   "outputs": [
    {
     "name": "stdout",
     "output_type": "stream",
     "text": [
      "p = 1 , 1^p + ... + 10^p = 55\n",
      "p = 2 , 1^p + ... + 10^p = 385\n",
      "p = 3 , 1^p + ... + 10^p = 3025\n",
      "p = 4 , 1^p + ... + 10^p = 25333\n",
      "p = 5 , 1^p + ... + 10^p = 220825\n",
      "p = 6 , 1^p + ... + 10^p = 1978405\n"
     ]
    }
   ],
   "source": [
    "p=1\n",
    "a=1\n",
    "b=10\n",
    "toplam=0\n",
    "while a<=b:\n",
    "    toplam += a**p\n",
    "    a += 1\n",
    "print(\"p =\",p,\", 1^p + ... + 10^p =\", toplam)\n",
    "\n",
    "p=2\n",
    "a=1\n",
    "b=10\n",
    "toplam=0\n",
    "while a<=b:\n",
    "    toplam += a**p\n",
    "    a += 1\n",
    "print(\"p =\",p,\", 1^p + ... + 10^p =\", toplam)\n",
    "\n",
    "p=3\n",
    "a=1\n",
    "b=10\n",
    "toplam=0\n",
    "while a<=b:\n",
    "    toplam += a**p\n",
    "    a += 1\n",
    "print(\"p =\",p,\", 1^p + ... + 10^p =\", toplam)\n",
    "\n",
    "p=4\n",
    "a=1\n",
    "b=10\n",
    "toplam=0\n",
    "while a<=b:\n",
    "    toplam += a**p\n",
    "    a += 1\n",
    "print(\"p =\",p,\", 1^p + ... + 10^p =\", toplam)\n",
    "\n",
    "p=5\n",
    "a=1\n",
    "b=10\n",
    "toplam=0\n",
    "while a<=b:\n",
    "    toplam += a**p\n",
    "    a += 1\n",
    "print(\"p =\",p,\", 1^p + ... + 10^p =\", toplam)\n",
    "\n",
    "p=6\n",
    "a=1\n",
    "b=10\n",
    "toplam=0\n",
    "while a<=b:\n",
    "    toplam += a**p\n",
    "    a += 1\n",
    "print(\"p =\",p,\", 1^p + ... + 10^p =\", toplam)"
   ]
  },
  {
   "cell_type": "markdown",
   "id": "971e1fef",
   "metadata": {},
   "source": [
    "Aynı hesabı $p$'yi -100 ile 100 arasında tekrarladığınızı düşünün. Bu durum oldukça uzun ve karmaşık bir hal alacatır. Bunun yerine iç içe while döngüsü kullanmak oldukça basittir. Yukarıdaki örneği iç içe döngü kurararak çözelim\n",
    "\n",
    "En iyi Çözüm\n",
    "--------\n"
   ]
  },
  {
   "cell_type": "code",
   "execution_count": 5,
   "id": "2e48b883",
   "metadata": {},
   "outputs": [
    {
     "name": "stdout",
     "output_type": "stream",
     "text": [
      "p = 1 p^1 + p^2 +.....+ p^10 =  55\n",
      "p = 2 p^1 + p^2 +.....+ p^10 =  385\n",
      "p = 3 p^1 + p^2 +.....+ p^10 =  3025\n",
      "p = 4 p^1 + p^2 +.....+ p^10 =  25333\n",
      "p = 5 p^1 + p^2 +.....+ p^10 =  220825\n",
      "p = 6 p^1 + p^2 +.....+ p^10 =  1978405\n"
     ]
    }
   ],
   "source": [
    "p=1\n",
    "b=10   # İçteki döngü 10 kere çalışağı için b değerinin 10 a eşitledik.Döngü içerisinde b değeri değişmediği için döngü \n",
    "       # İçine yazıp değerini düzeltmeye gerek yok.\n",
    "    \n",
    "while p <= 6:  # p = 1 den başlayıp 6 olana kadar devam edecek bir döngü oluşturduk.\n",
    "    a = 1    # p değeri her arttığında a değerinin 1 olması gerekiyor ki alttaki while döngüsü düzgün çalışsın.    \n",
    "    toplam = 0  # p değeri her değiştiğinde toplam değerini sıfırladık.\n",
    "    \n",
    "    while a <= b:  \n",
    "        toplam += a**p\n",
    "        a += 1 \n",
    "    \n",
    "    print(\"p =\",p, \"p^1 + p^2 +.....+ p^10 = \", toplam )\n",
    "    p += 1\n",
    "    "
   ]
  },
  {
   "cell_type": "code",
   "execution_count": 8,
   "id": "f4d585b4",
   "metadata": {},
   "outputs": [
    {
     "name": "stdout",
     "output_type": "stream",
     "text": [
      "p = 1 p^1 + p^2 +.....+ p^10 =  55\n",
      "p = 2 p^1 + p^2 +.....+ p^10 =  385\n",
      "p = 3 p^1 + p^2 +.....+ p^10 =  3025\n",
      "p = 4 p^1 + p^2 +.....+ p^10 =  25333\n",
      "p = 5 p^1 + p^2 +.....+ p^10 =  220825\n",
      "p = 6 p^1 + p^2 +.....+ p^10 =  1978405\n"
     ]
    }
   ],
   "source": [
    "# Aynı işlemi for kullanarka da yapmak mümkün\n",
    "\n",
    "for p in (1,2,3,4,5,6):  # p = 1 den başlayıp 6 olana kadar devam edecek bir döngü oluşturduk.\n",
    "    a=1    # p değeri her arttığında a değerinin 1 olması gerekiyor ki alttaki while döngüsü düzgün çalışsın.\n",
    "    b=10   # İçteki döngü 10 kere çalışağı için b değerinin 10 a eşitledik.\n",
    "    toplam=0  \n",
    "    \n",
    "    while a <= b:\n",
    "        toplam += a**p\n",
    "        a += 1 \n",
    "    \n",
    "    print(\"p =\",p, \"p^1 + p^2 +.....+ p^10 = \", toplam )\n",
    "    p += 1\n",
    "    "
   ]
  },
  {
   "cell_type": "markdown",
   "id": "d6142d20",
   "metadata": {},
   "source": [
    "break: Döngüyü bitirmek\n",
    "==============\n"
   ]
  },
  {
   "cell_type": "code",
   "execution_count": 9,
   "id": "a9bbc66e",
   "metadata": {},
   "outputs": [
    {
     "name": "stdout",
     "output_type": "stream",
     "text": [
      "Bir sayı girin (bitirmek için -99): 5\n",
      "Bir sayı girin (bitirmek için -99): 10\n",
      "Bir sayı girin (bitirmek için -99): 15\n",
      "Bir sayı girin (bitirmek için -99): -99\n",
      "Toplam: 30\n"
     ]
    }
   ],
   "source": [
    "toplam = 0\n",
    "while True:   # Şart hep doğru - sonsuz döngü\n",
    "    x = int(input(\"Bir sayı girin (bitirmek için -99): \"))\n",
    "    if x == -99:\n",
    "        break # break sayesinde while döngüsü sonlandırılır\n",
    "    toplam += x\n",
    "print(\"Toplam:\", toplam)"
   ]
  },
  {
   "cell_type": "markdown",
   "id": "6e7fb03b",
   "metadata": {},
   "source": [
    "continue: Döngünün kalanını atlamak \n",
    "=======\n"
   ]
  },
  {
   "cell_type": "code",
   "execution_count": 11,
   "id": "0ac120f5",
   "metadata": {},
   "outputs": [
    {
     "name": "stdout",
     "output_type": "stream",
     "text": [
      "Bir sayı girin (bitirmek için -99): 5\n",
      "Bir sayı girin (bitirmek için -99): 10\n",
      "Bir sayı girin (bitirmek için -99): 120\n",
      "0-100 arası olmalı.\n",
      "Bir sayı girin (bitirmek için -99): -20\n",
      "0-100 arası olmalı.\n",
      "Bir sayı girin (bitirmek için -99): 15\n",
      "Bir sayı girin (bitirmek için -99): -99\n",
      "Toplam: 30\n"
     ]
    }
   ],
   "source": [
    "toplam = 0\n",
    "while True: # Sonsuz döngü oluşturduk.\n",
    "    x = int(input(\"Bir sayı girin (bitirmek için -99): \"))\n",
    "    if x == -99: # Eğer x değeri -99 a eşitse aranan şart sağlanmış olacak ve döngüyü \"break\" ile bitirecek\n",
    "        break\n",
    "    if x < 0 or x > 100:  # eğer x değeri 0'dan küçük veya 100'den büyükse uyarı verecek ve toplamaya dahil etmeden bir\n",
    "                          # sonraki döngüye geçecek\n",
    "        print(\"0-100 arası olmalı.\")\n",
    "        continue # Bu komut ile while bir sonraki döngüye geçer ve altında kalan adımları gerçekleştirmez.\n",
    "    toplam += x\n",
    "print(\"Toplam:\", toplam)"
   ]
  },
  {
   "cell_type": "markdown",
   "id": "8f097426",
   "metadata": {},
   "source": [
    "else\n",
    "====="
   ]
  },
  {
   "cell_type": "code",
   "execution_count": 12,
   "id": "fc2a9540",
   "metadata": {},
   "outputs": [
    {
     "name": "stdout",
     "output_type": "stream",
     "text": [
      "Aranan 3 değeri 4 pozisyonunda.\n"
     ]
    }
   ],
   "source": [
    "data = [1,2,4,-1,3,4,-5,1]\n",
    "i = 0\n",
    "aranan = 3  # Bulmak istediğimiz değişkeni tanımladık.\n",
    "\n",
    "bulduk = False\n",
    "while i<len(data) and not bulduk:  # Burada i değeri 0 ile 8 arasında (data uzunluğu) değer alabilir ve ayrıca bulduk değişkeni\n",
    "                                   # \"False\" olduğu sürece döngü devam eder. bulduk değişkeninin \"True\" olması veya\n",
    "                                   # i değişkeninin 7 den büyük olması durumunda döngü sonlanır.\n",
    "    if data[i] == aranan:  # Eğer tuple ın \"i\" indeksli elemanı aradığımız değere eşitse bulduk değişkeninin \"True\" yaparak.\n",
    "                           # döngünün sonlanmasını sağladık.\n",
    "        bulduk = True\n",
    "    else:   # Eğer aradığımız eleman değilse döngüyü bir arttırarak devam ettik. \n",
    "        i += 1\n",
    "\n",
    "if bulduk: # Bu tanımlama eğer bulduk = True ise alttaki komutu yap anlamındadır.\n",
    "    print(\"Aranan\", aranan, \"değeri\", i, \"pozisyonunda.\")\n",
    "else:\n",
    "    print(\"Bulamadık\")"
   ]
  },
  {
   "cell_type": "markdown",
   "id": "4ef85aa1",
   "metadata": {},
   "source": [
    "`while` ile birlikte `else` kullanmak bu programı biraz sadeleştirir."
   ]
  },
  {
   "cell_type": "code",
   "execution_count": 13,
   "id": "7bc787df",
   "metadata": {},
   "outputs": [
    {
     "name": "stdout",
     "output_type": "stream",
     "text": [
      "Aranan değer: 3\n",
      "Aranan 3 değeri 4 pozisyonunda.\n"
     ]
    }
   ],
   "source": [
    "data = [1,2,4,-1,3,4,-5,1]\n",
    "i = 0\n",
    "aranan = int(input(\"Aranan değer: \"))\n",
    "\n",
    "while i<len(data):\n",
    "    if data[i] == aranan:\n",
    "        print (\"Aranan\", aranan, \"değeri\", i, \"pozisyonunda.\")\n",
    "        break;\n",
    "    i += 1\n",
    "else:\n",
    "    print(\"Bulamadık\")"
   ]
  },
  {
   "cell_type": "markdown",
   "id": "8564acb5",
   "metadata": {},
   "source": [
    "İkinci programdaki `else`, `if`'e değil `while`'a aittir.\n",
    "\n",
    "Döngü `else`'ini kullanmadan şöyle yapabiliriz:"
   ]
  },
  {
   "cell_type": "code",
   "execution_count": 16,
   "id": "2c87fe9d",
   "metadata": {},
   "outputs": [
    {
     "name": "stdout",
     "output_type": "stream",
     "text": [
      "Bir pozitif tamsayı girin: 9\n",
      "Asal değil, 3 böler.\n"
     ]
    }
   ],
   "source": [
    "x = int(input(\"Bir pozitif tamsayı girin: \"))\n",
    "asal = True\n",
    "i = 2\n",
    "while i*i <= x and asal:\n",
    "    if x % i==0:\n",
    "        asal = False\n",
    "    else:\n",
    "        i += 1\n",
    "\n",
    "if asal:\n",
    "    print(\"Asal.\")\n",
    "else:\n",
    "    print(\"Asal değil,\", i, \"böler.\")"
   ]
  },
  {
   "cell_type": "markdown",
   "id": "f880cbc3",
   "metadata": {},
   "source": [
    "(Karekök alma işlemi CPU'yu fazla kullandığı için, döngü şartını $i \\leq \\sqrt{x}$ yerine $i^2 \\leq x$ olarak yazdım.)\n",
    "\n",
    "Aynı programı döngü `else`'ini kullanarak şöyle yazabiliriz:"
   ]
  },
  {
   "cell_type": "code",
   "execution_count": 18,
   "id": "7b9dbd04",
   "metadata": {},
   "outputs": [
    {
     "name": "stdout",
     "output_type": "stream",
     "text": [
      "Bir pozitif tamsayı girin: 9\n",
      "Asal değil, 3 böler.\n"
     ]
    }
   ],
   "source": [
    "x = int(input(\"Bir pozitif tamsayı girin: \"))\n",
    "i = 2\n",
    "while i*i <= x:\n",
    "    if x % i == 0:\n",
    "        print(\"Asal değil,\", i, \"böler.\")\n",
    "        break\n",
    "    i += 1\n",
    "else:\n",
    "    print(\"Asal.\")"
   ]
  },
  {
   "cell_type": "code",
   "execution_count": 20,
   "id": "5e616a78",
   "metadata": {},
   "outputs": [
    {
     "name": "stdout",
     "output_type": "stream",
     "text": [
      "yeniDegisken'in güncel değeri: 0\n",
      "yeniDegisken'in güncel değeri: 1\n",
      "yeniDegisken'in güncel değeri: 2\n",
      "yeniDegisken'in güncel değeri: 3\n",
      "yeniDegisken'in güncel değeri: 4\n",
      "yeniDegisken'in güncel değeri: 5\n",
      "yeniDegisken'in güncel değeri: 6\n",
      "yeniDegisken'in güncel değeri: 7\n",
      "yeniDegisken'in güncel değeri: 8\n",
      "yeniDegisken'in güncel değeri: 9\n",
      "yeniDegisken'in güncel değeri: 10\n",
      "Degişken değeri 10'oldu döngü sonlandırılacak!\n"
     ]
    }
   ],
   "source": [
    "yeniDegisken = 0\n",
    "while yeniDegisken < 15:\n",
    "        \n",
    "    #print(\"yeniDegisken'in güncel değeri: \" + str(yeniDegisken))\n",
    "    print(f\"yeniDegisken'in güncel değeri: {yeniDegisken}\")\n",
    "    if yeniDegisken == 10:\n",
    "        print(\"Degişken değeri 10'oldu döngü sonlandırılacak!\")\n",
    "        break\n",
    "    yeniDegisken = yeniDegisken + 1"
   ]
  },
  {
   "cell_type": "code",
   "execution_count": null,
   "id": "8d73b3e5",
   "metadata": {},
   "outputs": [],
   "source": []
  }
 ],
 "metadata": {
  "kernelspec": {
   "display_name": "Python 3 (ipykernel)",
   "language": "python",
   "name": "python3"
  },
  "language_info": {
   "codemirror_mode": {
    "name": "ipython",
    "version": 3
   },
   "file_extension": ".py",
   "mimetype": "text/x-python",
   "name": "python",
   "nbconvert_exporter": "python",
   "pygments_lexer": "ipython3",
   "version": "3.11.5"
  }
 },
 "nbformat": 4,
 "nbformat_minor": 5
}
