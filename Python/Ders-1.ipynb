{
 "cells": [
  {
   "cell_type": "markdown",
   "id": "6011a58b",
   "metadata": {},
   "source": [
    "\n",
    "# SIFIRDAN PYTHON ÖĞRENME SÜRECİ\n"
   ]
  },
  {
   "cell_type": "markdown",
   "id": "fee91d52",
   "metadata": {},
   "source": [
    "Jupyter Notebook üzerindeki bilinmesi gereken bazı kısa yol tuşları;\n",
    "\n",
    "Shift + Enter = Seçili olan hücredeki (Cell) kodu çalıştırır ve altındaki hücreye geçer.\n",
    "\n",
    "Alt + Enter = Seçili olan hücreyi çalıştırır ve altına yeni bir boş hücre açar.\n",
    "\n",
    "CTRL + Enter = Sadece seçili olan hücreyi çalıştırır ve durur.\n",
    "\n",
    "\"#\" = Markdown tipindeki hücreye diez işaretini koyduğunuzda başlık yapmanıza olanak tanır. Code tipindeki hücre içerisinde diez kullandığınızda ise o satırı metinsel ifade (açıklama) olarak görür ve koda dahil etmez.\n",
    "\n",
    "Hücre tipini (cell type) belirleme için aşağıdaki kısayol tuşları kullanılır;\n",
    "\n",
    "Y = \"Code\" Kod yazmak için kullanılır.\n",
    "\n",
    "M = \"Markdown\" Başlık, açıklama vb. metinsel ifadeler için kullanılır.\n",
    "\n",
    "R = \"Raw NBConvert\" \n",
    "\n",
    "NOT: Aşağıda yer alan kısayol tuşlarının çalışması için hücre içerisinin seçili olmaması gerekir. Yani kod yazılan satıra değil \"In, Out\" bölümüne tıklanarak kısayol tuşları çalıştırılmalıdır. İlgili yere tıkladığınızda hücrenin mavi renge döndüğünü fark edeceksiniz. Yeşil renk iken basmış olduğunuz tuşlar hücre içerisine yazılacaktır.\n",
    "\n",
    "D+D = Herhangi bir hücre seçiliyken iki kere D tuşuna basılırsa o hücreyi siler.\n",
    "\n",
    "A = Seçili hücrenin üstüne yeni hücre ekler.\n",
    "\n",
    "X = Seçili olan hücreyi keser.\n",
    "\n",
    "C = Seçili hücreyi kopyalar.\n",
    "\n",
    "V = Kopyalanan hücreyi seçilen hücrenin altına yapıştırır.\n",
    "\n",
    "Shift + V = Kopyalanan hücreyi seçilen hücrenin üzerine yapıştırır.\n",
    "\n",
    "Z = Silinen hücreyi geri getirir\n",
    "\n",
    "CTRL + S = Kayıt işlemi yapar.\n"
   ]
  },
  {
   "cell_type": "markdown",
   "id": "100e32dc",
   "metadata": {},
   "source": [
    "# DERS-1"
   ]
  },
  {
   "cell_type": "markdown",
   "id": "ab3d5cb8",
   "metadata": {},
   "source": [
    "\n",
    "# Sayılar ve Aritmetik\n",
    "\n",
    "Bu üç sayı tipiyle öntanımlı olarak yedi aritmetik işlem yapılabilir: Toplama (+), çıkarma (-), çarpma (*), bölme (/), tamsayı bölme (//), kalan (%), ve üs alma (**)."
   ]
  },
  {
   "cell_type": "code",
   "execution_count": 1,
   "id": "50e1d795",
   "metadata": {},
   "outputs": [
    {
     "data": {
      "text/plain": [
       "5"
      ]
     },
     "execution_count": 1,
     "metadata": {},
     "output_type": "execute_result"
    }
   ],
   "source": [
    "2+3"
   ]
  },
  {
   "cell_type": "code",
   "execution_count": 2,
   "id": "6fe5d024",
   "metadata": {
    "scrolled": true
   },
   "outputs": [
    {
     "data": {
      "text/plain": [
       "(2, -2)"
      ]
     },
     "execution_count": 2,
     "metadata": {},
     "output_type": "execute_result"
    }
   ],
   "source": [
    "7-5, 5-7"
   ]
  },
  {
   "cell_type": "code",
   "execution_count": 3,
   "id": "f5a29a22",
   "metadata": {
    "scrolled": true
   },
   "outputs": [
    {
     "data": {
      "text/plain": [
       "28"
      ]
     },
     "execution_count": 3,
     "metadata": {},
     "output_type": "execute_result"
    }
   ],
   "source": [
    "23+5"
   ]
  },
  {
   "cell_type": "code",
   "execution_count": 4,
   "id": "de5ef82e",
   "metadata": {},
   "outputs": [
    {
     "data": {
      "text/plain": [
       "15445383597460525862771087421073478123802094534281015332400536047781785847751826215666863239345512169090185060060988826169"
      ]
     },
     "execution_count": 4,
     "metadata": {},
     "output_type": "execute_result"
    }
   ],
   "source": [
    "3**254 # üst alma işlemlerinde kullanılır. Tamsayılarda üst sınır yoktur; bellek yettiğince büyük sayılara çıkılabilir."
   ]
  },
  {
   "cell_type": "code",
   "execution_count": 5,
   "id": "3cccdf15",
   "metadata": {},
   "outputs": [
    {
     "ename": "OverflowError",
     "evalue": "(34, 'Result too large')",
     "output_type": "error",
     "traceback": [
      "\u001b[1;31m---------------------------------------------------------------------------\u001b[0m",
      "\u001b[1;31mOverflowError\u001b[0m                             Traceback (most recent call last)",
      "Cell \u001b[1;32mIn[5], line 1\u001b[0m\n\u001b[1;32m----> 1\u001b[0m \u001b[38;5;241m2.9\u001b[39m\u001b[38;5;241m*\u001b[39m\u001b[38;5;241m*\u001b[39m\u001b[38;5;241m1000\u001b[39m\n",
      "\u001b[1;31mOverflowError\u001b[0m: (34, 'Result too large')"
     ]
    }
   ],
   "source": [
    "2.9**1000 #Reel sayılarda ise üst sınırı aşma (overflow) problemi, başka dillerde olduğu gibi mevcuttur."
   ]
  },
  {
   "cell_type": "code",
   "execution_count": 6,
   "id": "e699d291",
   "metadata": {},
   "outputs": [
    {
     "data": {
      "text/plain": [
       "3.3333333333333335"
      ]
     },
     "execution_count": 6,
     "metadata": {},
     "output_type": "execute_result"
    }
   ],
   "source": [
    "10/3"
   ]
  },
  {
   "cell_type": "code",
   "execution_count": 7,
   "id": "a71c53a1",
   "metadata": {},
   "outputs": [
    {
     "data": {
      "text/plain": [
       "3"
      ]
     },
     "execution_count": 7,
     "metadata": {},
     "output_type": "execute_result"
    }
   ],
   "source": [
    "10//3 # Tam sayı bölme işlemi yaptığı için virgülden sonraki kısmın çıktısını vermez."
   ]
  },
  {
   "cell_type": "code",
   "execution_count": 8,
   "id": "8486bb3f",
   "metadata": {},
   "outputs": [
    {
     "data": {
      "text/plain": [
       "1"
      ]
     },
     "execution_count": 8,
     "metadata": {},
     "output_type": "execute_result"
    }
   ],
   "source": [
    "10%3 # (Remainder) 10/3 işleminden kalanı gösterir. Genellikle sayıların çift mi tek mi olduğunu belirlemede kullanılır."
   ]
  },
  {
   "cell_type": "markdown",
   "id": "ead208cb",
   "metadata": {},
   "source": [
    "\n",
    "# Değişken Atamaları\n",
    "\n",
    "Python'da değişkenlerin tiplerini (int, float, vs.) önceden beyan etmek gerekmez. Değişken isimleri, atamanın sağ tarafındaki ifadeye işaret eden bir isimdir sadece."
   ]
  },
  {
   "cell_type": "code",
   "execution_count": 9,
   "id": "54af77cf",
   "metadata": {},
   "outputs": [
    {
     "data": {
      "text/plain": [
       "(-2, 1.5, 'MerhabaDünya')"
      ]
     },
     "execution_count": 9,
     "metadata": {},
     "output_type": "execute_result"
    }
   ],
   "source": [
    "x = -2      # bir tamsayı\n",
    "y = 3/4 * 2 # reel sayı\n",
    "z = \"Merhaba\"+\"Dünya\" # string\n",
    "x,y,z # Yukarıda oluşturulan 3 değişkeni de yazdırdık."
   ]
  },
  {
   "cell_type": "code",
   "execution_count": 10,
   "id": "eb2aab5e",
   "metadata": {},
   "outputs": [
    {
     "data": {
      "text/plain": [
       "50"
      ]
     },
     "execution_count": 10,
     "metadata": {},
     "output_type": "execute_result"
    }
   ],
   "source": [
    "x=5 \n",
    "y=10 \n",
    "x*y"
   ]
  },
  {
   "cell_type": "markdown",
   "id": "edf1f597",
   "metadata": {},
   "source": [
    "Çoklu atamalar yapmak mümkündür. "
   ]
  },
  {
   "cell_type": "code",
   "execution_count": 11,
   "id": "5d2404ac",
   "metadata": {},
   "outputs": [
    {
     "data": {
      "text/plain": [
       "(-2, 1.5, 'Merhaba Dünya')"
      ]
     },
     "execution_count": 11,
     "metadata": {},
     "output_type": "execute_result"
    }
   ],
   "source": [
    "x, y, z = -2, 1.5, \"Merhaba Dünya\"\n",
    "x,y,z"
   ]
  },
  {
   "cell_type": "markdown",
   "id": "ab28f1eb",
   "metadata": {},
   "source": [
    "Bu usulü kullanarak iki değişkenin değerini, bir ara değişken kullanmadan değiştokuş etmek mümkün olur."
   ]
  },
  {
   "cell_type": "code",
   "execution_count": 12,
   "id": "e48f8400",
   "metadata": {},
   "outputs": [
    {
     "data": {
      "text/plain": [
       "(1.5, -2)"
      ]
     },
     "execution_count": 12,
     "metadata": {},
     "output_type": "execute_result"
    }
   ],
   "source": [
    "x,y = y,x # Kodu çalıştırmadan önce x=-2, y=1.5 idi. Bu kod ile x'i y değerine y'yi ise x değerine eşitledik ve böylece artık\n",
    "x,y       # x=1.5, y=-2 olmuş oldu."
   ]
  },
  {
   "cell_type": "markdown",
   "id": "61f5b034",
   "metadata": {},
   "source": [
    "Python 3 ile değişken isimlerinde herhangi Unicode karakterleri kullanabilirsiniz. Yani \"ı,o,ğ,ç\" gibi harflerin kullanımına izin verir. Yine de bu durum kodların başka Python versiyonlarında da çalışması adına pek tavsiye edilmez."
   ]
  },
  {
   "cell_type": "code",
   "execution_count": 13,
   "id": "a7b2b792",
   "metadata": {},
   "outputs": [
    {
     "data": {
      "text/plain": [
       "(5, 0.5)"
      ]
     },
     "execution_count": 13,
     "metadata": {},
     "output_type": "execute_result"
    }
   ],
   "source": [
    "kağıt_sayısı, ölçü = 5, 0.5\n",
    "kağıt_sayısı, ölçü"
   ]
  },
  {
   "cell_type": "markdown",
   "id": "79c06abb",
   "metadata": {},
   "source": [
    "Bir değişkeni del komutuyla bellekten silebiliriz. Genel olarak, belli bir isme bağlı bir nesneyi bellekten kaldırır. Sıralı nesnelerde, bir dilimi silmek için de kullanılabilir."
   ]
  },
  {
   "cell_type": "code",
   "execution_count": 14,
   "id": "05e10575",
   "metadata": {},
   "outputs": [
    {
     "ename": "NameError",
     "evalue": "name 'ölçü' is not defined",
     "output_type": "error",
     "traceback": [
      "\u001b[1;31m---------------------------------------------------------------------------\u001b[0m",
      "\u001b[1;31mNameError\u001b[0m                                 Traceback (most recent call last)",
      "Cell \u001b[1;32mIn[14], line 2\u001b[0m\n\u001b[0;32m      1\u001b[0m \u001b[38;5;28;01mdel\u001b[39;00m ölçü\n\u001b[1;32m----> 2\u001b[0m ölçü\n",
      "\u001b[1;31mNameError\u001b[0m: name 'ölçü' is not defined"
     ]
    }
   ],
   "source": [
    "del ölçü\n",
    "ölçü"
   ]
  },
  {
   "cell_type": "code",
   "execution_count": 15,
   "id": "be69c5d8",
   "metadata": {},
   "outputs": [
    {
     "data": {
      "text/plain": [
       "[1, 3, 4, 5, 6]"
      ]
     },
     "execution_count": 15,
     "metadata": {},
     "output_type": "execute_result"
    }
   ],
   "source": [
    "L = [1,2,3,4,5,6]\n",
    "del L[1]   # ikinci elemanı siler\n",
    "L"
   ]
  },
  {
   "cell_type": "code",
   "execution_count": 16,
   "id": "2df51198",
   "metadata": {},
   "outputs": [
    {
     "data": {
      "text/plain": [
       "[1, 3, 6]"
      ]
     },
     "execution_count": 16,
     "metadata": {},
     "output_type": "execute_result"
    }
   ],
   "source": [
    "del L[2:4]    # üçüncüden dördüncüye kadar olan elemanları siler\n",
    "L"
   ]
  },
  {
   "cell_type": "code",
   "execution_count": 17,
   "id": "d2301db0",
   "metadata": {},
   "outputs": [
    {
     "data": {
      "text/plain": [
       "[]"
      ]
     },
     "execution_count": 17,
     "metadata": {},
     "output_type": "execute_result"
    }
   ],
   "source": [
    "del L[:]      # bütün elemanları siler, ama L listesini silmez.\n",
    "L"
   ]
  },
  {
   "cell_type": "code",
   "execution_count": 18,
   "id": "69631f3c",
   "metadata": {},
   "outputs": [
    {
     "ename": "NameError",
     "evalue": "name 'L' is not defined",
     "output_type": "error",
     "traceback": [
      "\u001b[1;31m---------------------------------------------------------------------------\u001b[0m",
      "\u001b[1;31mNameError\u001b[0m                                 Traceback (most recent call last)",
      "Cell \u001b[1;32mIn[18], line 2\u001b[0m\n\u001b[0;32m      1\u001b[0m \u001b[38;5;28;01mdel\u001b[39;00m L         \u001b[38;5;66;03m# L listesini siler\u001b[39;00m\n\u001b[1;32m----> 2\u001b[0m L\n",
      "\u001b[1;31mNameError\u001b[0m: name 'L' is not defined"
     ]
    }
   ],
   "source": [
    "del L         # L listesini siler\n",
    "L      # Listeyi sildik ve ekrana yazmak istediğimizde böyle bir ifade bulamadığı için hata verdi"
   ]
  },
  {
   "cell_type": "markdown",
   "id": "0531f494",
   "metadata": {},
   "source": [
    "# Integer, Float ve Complex\n",
    "\n",
    "Tam sayılar integer (int), kesirli sayılar float, karmaşık sayılar ise complex olarak tanımlanır. Herhangi bir değişkenin tipini öğrenmek için \"type\" komutu kullanılır.\n"
   ]
  },
  {
   "cell_type": "code",
   "execution_count": 19,
   "id": "8275370e",
   "metadata": {},
   "outputs": [],
   "source": [
    "ilkDeger = 10\n",
    "ikinciDeger = 20\n",
    "toplam = ilkDeger + ikinciDeger\n",
    "bolum = ilkDeger/ikinciDeger"
   ]
  },
  {
   "cell_type": "code",
   "execution_count": 20,
   "id": "b6c18cc1",
   "metadata": {},
   "outputs": [
    {
     "data": {
      "text/plain": [
       "(30, int)"
      ]
     },
     "execution_count": 20,
     "metadata": {},
     "output_type": "execute_result"
    }
   ],
   "source": [
    "toplam, type(toplam)"
   ]
  },
  {
   "cell_type": "code",
   "execution_count": 21,
   "id": "fd72210a",
   "metadata": {},
   "outputs": [
    {
     "data": {
      "text/plain": [
       "(0.5, float)"
      ]
     },
     "execution_count": 21,
     "metadata": {},
     "output_type": "execute_result"
    }
   ],
   "source": [
    "bolum, type(bolum)"
   ]
  },
  {
   "cell_type": "markdown",
   "id": "517a306a",
   "metadata": {},
   "source": [
    "İki farklı tipte sayı aynı işlemde kullanılırsa, hangi tip daha genelse sonuç o tipte verilir. Tamsayı ve reel sayı kullanılırsa sonuç reeldir; reel sayı ve karmaşık sayı kullanılırsa sonuç karmaşıktır.\n",
    "Herhangi bir değişkenin tipini öğrenmek için \"type\" komutu kullanılır."
   ]
  },
  {
   "cell_type": "code",
   "execution_count": 22,
   "id": "4682ab2d",
   "metadata": {},
   "outputs": [
    {
     "data": {
      "text/plain": [
       "(int, float, complex)"
      ]
     },
     "execution_count": 22,
     "metadata": {},
     "output_type": "execute_result"
    }
   ],
   "source": [
    "type(1+4), type(1+4.0), type(1+4+0j)"
   ]
  },
  {
   "cell_type": "markdown",
   "id": "8334ab38",
   "metadata": {},
   "source": [
    "# Öntanımlı Veri Yapıları\n",
    "\n",
    "\n",
    "# String\n",
    "\n",
    "Metinsel ifadeler string olarak tanımlanır. Herhangi bir değişkeni string (str) olarak tanımladığımızda içerisinde rakam olsa bile bilgisayar onu metin olarak algılayacaktır."
   ]
  },
  {
   "cell_type": "code",
   "execution_count": 23,
   "id": "0020efb9",
   "metadata": {},
   "outputs": [
    {
     "data": {
      "text/plain": [
       "'1020'"
      ]
     },
     "execution_count": 23,
     "metadata": {},
     "output_type": "execute_result"
    }
   ],
   "source": [
    "ilkMetinselRakam = str(10)\n",
    "ikinciMetinselRakam = str(20)\n",
    "metinselToplam = ilkMetinselRakam+ikinciMetinselRakam\n",
    "metinselToplam"
   ]
  },
  {
   "cell_type": "markdown",
   "id": "55bee3b9",
   "metadata": {},
   "source": [
    "Yukarıdaki örnekte gördüğümüz gibi string olarak tanımladığımız için 10+20 sonucunu 30 olarak değilde 1020 olarak verdi. \n",
    "Çünkü o bilgisayara göre artık bir metin. Type komutu ile tipini kontrol ettiğimizde string olduğunu görebiliriz;"
   ]
  },
  {
   "cell_type": "code",
   "execution_count": 24,
   "id": "a87f325d",
   "metadata": {},
   "outputs": [
    {
     "data": {
      "text/plain": [
       "str"
      ]
     },
     "execution_count": 24,
     "metadata": {},
     "output_type": "execute_result"
    }
   ],
   "source": [
    "type(metinselToplam)"
   ]
  },
  {
   "cell_type": "markdown",
   "id": "412e8a9d",
   "metadata": {},
   "source": [
    "Aynı şekilde kullanıcıdan rakamsal olarak girdi almak istediğimizde bunu integer olarak tanımlamamız gerekir. Aksi halde aşağıdaki örnekte olduğu gibi metinsel ifade olarak algılayacaktır. "
   ]
  },
  {
   "cell_type": "code",
   "execution_count": 28,
   "id": "577d26dc",
   "metadata": {},
   "outputs": [
    {
     "name": "stdout",
     "output_type": "stream",
     "text": [
      "Bir rakam giriniz = 10\n"
     ]
    }
   ],
   "source": [
    "ilkGirdi = input(\"Bir rakam giriniz = \")"
   ]
  },
  {
   "cell_type": "code",
   "execution_count": 29,
   "id": "dce93775",
   "metadata": {},
   "outputs": [
    {
     "ename": "TypeError",
     "evalue": "can only concatenate str (not \"int\") to str",
     "output_type": "error",
     "traceback": [
      "\u001b[1;31m---------------------------------------------------------------------------\u001b[0m",
      "\u001b[1;31mTypeError\u001b[0m                                 Traceback (most recent call last)",
      "Cell \u001b[1;32mIn[29], line 1\u001b[0m\n\u001b[1;32m----> 1\u001b[0m ilkGirdi\u001b[38;5;241m+\u001b[39m\u001b[38;5;241m10\u001b[39m\n",
      "\u001b[1;31mTypeError\u001b[0m: can only concatenate str (not \"int\") to str"
     ]
    }
   ],
   "source": [
    "ilkGirdi+10"
   ]
  },
  {
   "cell_type": "markdown",
   "id": "9e08d138",
   "metadata": {},
   "source": [
    "Şimdi ise kullanıcıdan alınan veriyi int olarak tanımlayalım ve sonucu görelim;"
   ]
  },
  {
   "cell_type": "code",
   "execution_count": 30,
   "id": "e6087272",
   "metadata": {},
   "outputs": [
    {
     "name": "stdout",
     "output_type": "stream",
     "text": [
      "Bir rakam giriniz = 10\n"
     ]
    }
   ],
   "source": [
    "ikinciGirdi = int(input(\"Bir rakam giriniz = \"))"
   ]
  },
  {
   "cell_type": "code",
   "execution_count": 31,
   "id": "72cc4461",
   "metadata": {},
   "outputs": [
    {
     "data": {
      "text/plain": [
       "20"
      ]
     },
     "execution_count": 31,
     "metadata": {},
     "output_type": "execute_result"
    }
   ],
   "source": [
    "ikinciGirdi+10"
   ]
  },
  {
   "cell_type": "markdown",
   "id": "5fc65fc7",
   "metadata": {},
   "source": [
    "### Index ve Slicing\n",
    "\n",
    "Index yardımı ile string, liste, tuple, dictionary gibi verilerin istediğimiz elamanını veya karakterini çağırabiliriz\n",
    "Aynı şekilde veri içerisindeki istediğimiz bölümü dilimleyebiliriz (slicing);"
   ]
  },
  {
   "cell_type": "code",
   "execution_count": 32,
   "id": "36494f86",
   "metadata": {},
   "outputs": [
    {
     "data": {
      "text/plain": [
       "'E'"
      ]
     },
     "execution_count": 32,
     "metadata": {},
     "output_type": "execute_result"
    }
   ],
   "source": [
    "isim = \"Enes YILMAZ\"  # Bu bir metinsel ifadedir (string). Şimdi bu ifadenin istediğimiz elamınını çağırabiliriz.\n",
    "isim[0] # İlk karakterin indexi sıfırdan başlamaktadır. "
   ]
  },
  {
   "cell_type": "code",
   "execution_count": 33,
   "id": "13c49fab",
   "metadata": {},
   "outputs": [
    {
     "data": {
      "text/plain": [
       "'n'"
      ]
     },
     "execution_count": 33,
     "metadata": {},
     "output_type": "execute_result"
    }
   ],
   "source": [
    "isim[1] # İkinci karakter"
   ]
  },
  {
   "cell_type": "code",
   "execution_count": 34,
   "id": "055604c9",
   "metadata": {},
   "outputs": [
    {
     "data": {
      "text/plain": [
       "'Z'"
      ]
     },
     "execution_count": 34,
     "metadata": {},
     "output_type": "execute_result"
    }
   ],
   "source": [
    "isim[-1] # Son karakter"
   ]
  },
  {
   "cell_type": "code",
   "execution_count": 35,
   "id": "19ef7273",
   "metadata": {},
   "outputs": [
    {
     "data": {
      "text/plain": [
       "'A'"
      ]
     },
     "execution_count": 35,
     "metadata": {},
     "output_type": "execute_result"
    }
   ],
   "source": [
    "isim[-2] # Sondan bir önceki karakter"
   ]
  },
  {
   "cell_type": "code",
   "execution_count": 36,
   "id": "22b0f9a2",
   "metadata": {},
   "outputs": [
    {
     "data": {
      "text/plain": [
       "'Enes YILMAZ'"
      ]
     },
     "execution_count": 36,
     "metadata": {},
     "output_type": "execute_result"
    }
   ],
   "source": [
    "isim[::] # Tamamını çağırmak için kullanılır."
   ]
  },
  {
   "cell_type": "code",
   "execution_count": 37,
   "id": "f889f853",
   "metadata": {},
   "outputs": [
    {
     "data": {
      "text/plain": [
       "'ne'"
      ]
     },
     "execution_count": 37,
     "metadata": {},
     "output_type": "execute_result"
    }
   ],
   "source": [
    "isim[1:3] # Kaçıncı karakterden başlayacağını ve nerde duracağını seçebiliriz. 3'ü dahil etmez."
   ]
  },
  {
   "cell_type": "code",
   "execution_count": 38,
   "id": "b96d26e0",
   "metadata": {},
   "outputs": [
    {
     "data": {
      "text/plain": [
       "'EsIA'"
      ]
     },
     "execution_count": 38,
     "metadata": {},
     "output_type": "execute_result"
    }
   ],
   "source": [
    "isim[0:10:3] # Başlangıç, bitiş ve atlanacak karakter sayısını belirleyebiliriz."
   ]
  },
  {
   "cell_type": "code",
   "execution_count": 39,
   "id": "626567c8",
   "metadata": {},
   "outputs": [
    {
     "data": {
      "text/plain": [
       "'s YILMAZ'"
      ]
     },
     "execution_count": 39,
     "metadata": {},
     "output_type": "execute_result"
    }
   ],
   "source": [
    "isim[3:] # İlk 3 karakteri atlar ve devamını alır."
   ]
  },
  {
   "cell_type": "code",
   "execution_count": 40,
   "id": "29eacf70",
   "metadata": {},
   "outputs": [
    {
     "data": {
      "text/plain": [
       "'Ene'"
      ]
     },
     "execution_count": 40,
     "metadata": {},
     "output_type": "execute_result"
    }
   ],
   "source": [
    "isim[:3] # Sadece ilk 3 karakteri alır."
   ]
  },
  {
   "cell_type": "code",
   "execution_count": 41,
   "id": "bba5813b",
   "metadata": {},
   "outputs": [
    {
     "data": {
      "text/plain": [
       "'ZAMLIY senE'"
      ]
     },
     "execution_count": 41,
     "metadata": {},
     "output_type": "execute_result"
    }
   ],
   "source": [
    "isim[::-1] # Karakterlerin tamamını alır fakat sonra -1 olduğu için tersten başlar. Böylece metni kolayca ters çevirebiliriz."
   ]
  },
  {
   "cell_type": "code",
   "execution_count": 42,
   "id": "fee0ca25",
   "metadata": {},
   "outputs": [
    {
     "data": {
      "text/plain": [
       "'ZMI eE'"
      ]
     },
     "execution_count": 42,
     "metadata": {},
     "output_type": "execute_result"
    }
   ],
   "source": [
    "isim[::-2] # Aynı şekilde karakterleri alırken atlama yapabiiriz."
   ]
  },
  {
   "cell_type": "code",
   "execution_count": 43,
   "id": "dacf61e7",
   "metadata": {},
   "outputs": [
    {
     "data": {
      "text/plain": [
       "'EY'"
      ]
     },
     "execution_count": 43,
     "metadata": {},
     "output_type": "execute_result"
    }
   ],
   "source": [
    "isim[0]+isim[5] # Birden fazla index kullanarak birleştirme yapılabilir. Direk topladığımız için yan yana yazdık. "
   ]
  },
  {
   "cell_type": "code",
   "execution_count": 44,
   "id": "ba4fa612",
   "metadata": {},
   "outputs": [
    {
     "data": {
      "text/plain": [
       "'E.Y'"
      ]
     },
     "execution_count": 44,
     "metadata": {},
     "output_type": "execute_result"
    }
   ],
   "source": [
    "isim[0]+ \".\"+isim[5] # İstersek bu şekilde alternatifler üretebiliriz."
   ]
  },
  {
   "cell_type": "markdown",
   "id": "7d0feb24",
   "metadata": {},
   "source": [
    "### Büyük-küçük harf değişiklikleri\n",
    "\n",
    "Dizeleri tamamen küçük veya büyük harfe çevirmek, cümlenin ilk harfinin büyük olmasını sağlamak, veya bir başlıktaki gibi her kelimenin büyük harfle başlamasını sağlamak için çeşitli dize metodları vardır."
   ]
  },
  {
   "cell_type": "code",
   "execution_count": 45,
   "id": "7b81443c",
   "metadata": {},
   "outputs": [
    {
     "name": "stdout",
     "output_type": "stream",
     "text": [
      "s.upper(): PIJAMALI HASTA YAĞIZ ŞOFÖRE ÇABUCAK GÜVENDI.\n",
      "s.lower(): pijamalı hasta yağız şoföre çabucak güvendi.\n",
      "s.capitalize(): Pijamalı hasta yağız şoföre çabucak güvendi.\n",
      "s.swapcase(): pIJAMALI HASTA YAĞIZ ŞOFÖRE ÇABUCAK GÜVENDI.\n",
      "s.title(): Pijamalı Hasta Yağız Şoföre Çabucak Güvendi.\n"
     ]
    }
   ],
   "source": [
    "s = \"Pijamalı hasta yağız şoföre çabucak güvendi.\"\n",
    "\n",
    "print(\"s.upper():\", s.upper())   # Hepsini büyük harfe çevir.\n",
    "print(\"s.lower():\", s.lower())   # Hepsini küçük harfe çevir.\n",
    "print(\"s.capitalize():\", s.capitalize())   # Sadece cümlelerin ilk harfini büyük yap. \n",
    "print(\"s.swapcase():\", s.swapcase())   # Büyük harfleri küçüğe, küçükleri büyüğe çevir.\n",
    "print(\"s.title():\", s.title())   # Her kelimenin ilk harfini büyük yap."
   ]
  },
  {
   "cell_type": "markdown",
   "id": "e2e1eb99",
   "metadata": {},
   "source": [
    "### Center, Split"
   ]
  },
  {
   "cell_type": "code",
   "execution_count": 46,
   "id": "cc31829d",
   "metadata": {},
   "outputs": [
    {
     "data": {
      "text/plain": [
       "'Enes yilmaz'"
      ]
     },
     "execution_count": 46,
     "metadata": {},
     "output_type": "execute_result"
    }
   ],
   "source": [
    "isim.capitalize() # capitalize komutu ile metnin ilk harfini büyük kalanları küçük hale çevirebiliriz."
   ]
  },
  {
   "cell_type": "code",
   "execution_count": 47,
   "id": "08bb2c42",
   "metadata": {},
   "outputs": [
    {
     "data": {
      "text/plain": [
       "'Enes YILMAZ'"
      ]
     },
     "execution_count": 47,
     "metadata": {},
     "output_type": "execute_result"
    }
   ],
   "source": [
    "isim # Fakat bunu başka bir değişene tanımalamadığımız sürece orjinal halini korumaya devam eder."
   ]
  },
  {
   "cell_type": "code",
   "execution_count": 48,
   "id": "fa3adb33",
   "metadata": {},
   "outputs": [
    {
     "data": {
      "text/plain": [
       "'*******Enes YILMAZ*******'"
      ]
     },
     "execution_count": 48,
     "metadata": {},
     "output_type": "execute_result"
    }
   ],
   "source": [
    "isim.center(25, '*') # Metni belirlenen karakter sayısına göre ortalar ve boşlukları ne ile dolduracağımızı seçebiliriz."
   ]
  },
  {
   "cell_type": "code",
   "execution_count": 49,
   "id": "c24d9cf4",
   "metadata": {},
   "outputs": [
    {
     "data": {
      "text/plain": [
       "['Enes', 'YILMAZ']"
      ]
     },
     "execution_count": 49,
     "metadata": {},
     "output_type": "execute_result"
    }
   ],
   "source": [
    "isim.split() # Metin içerisindeki her kelimeyi ayırır (boşluktan sonra)"
   ]
  },
  {
   "cell_type": "markdown",
   "id": "7c6e14a0",
   "metadata": {},
   "source": [
    "# Dize\n",
    "\n",
    "Bir veya daha fazla karakterden bir araya gelmiş bir sıralı veri tipidir. Dizelerle düz metin halindeki veriler alınıp işlenebilir. Veriler pek çok zaman düz metin dosyaları halinde bulunur. HTML, XML, JSON veya CSV gibi standartlardaki veriler de düz metinden oluşur. Bir metin verisini dize halinde aldığımızda, dize metodlarını kullanarak bu verileri işleyebilir, biçimlerini değiştirebilir, parçalayabilir, birleştirebilir, sıralayabilir, değişiklik yapabiliriz."
   ]
  },
  {
   "cell_type": "markdown",
   "id": "b9802f04",
   "metadata": {},
   "source": [
    "## Temel işlemler\n",
    "\n",
    "Sıralı nesnelerle kullanılan len, in, not in, +, * gibi işlemler dizelerde de aynı şekilde çalışır:"
   ]
  },
  {
   "cell_type": "code",
   "execution_count": 50,
   "id": "b39ce6f3",
   "metadata": {},
   "outputs": [
    {
     "name": "stdout",
     "output_type": "stream",
     "text": [
      "True\n",
      "False\n",
      "True\n"
     ]
    }
   ],
   "source": [
    "print( \"Def\" in \"Abcç Defg\" )  # Eğer \"Def\" ifadesi \"Abcç Defg\" nin içerisinde varsa True yoksa False döndürür.\n",
    "print( \"def\" in \"ABcç Defg\" )  # Burada False dönmesinin sebebi büyük küçük karakter farkıdır.\n",
    "print( \"def\" not in \"ABcç Defg\" ) # \"not in\" komutunu kullandığımızda metnin içerisinde yoksa True varsa False döndürür."
   ]
  },
  {
   "cell_type": "code",
   "execution_count": 51,
   "id": "fd7cf83d",
   "metadata": {},
   "outputs": [
    {
     "data": {
      "text/plain": [
       "11"
      ]
     },
     "execution_count": 51,
     "metadata": {},
     "output_type": "execute_result"
    }
   ],
   "source": [
    "len(\"Enes YILMAZ\") # \"len\" komutu ile uzunluk (karakter sayısı) hesaplanabilir. Boşlukları da dahil eder."
   ]
  },
  {
   "cell_type": "code",
   "execution_count": 52,
   "id": "79421b90",
   "metadata": {},
   "outputs": [
    {
     "data": {
      "text/plain": [
       "'EnesYılmaz'"
      ]
     },
     "execution_count": 52,
     "metadata": {},
     "output_type": "execute_result"
    }
   ],
   "source": [
    "\"Enes\" + \"Yılmaz\"  # İstediğimiz kadar string tipindeki veriyi toplayabiliriz."
   ]
  },
  {
   "cell_type": "code",
   "execution_count": 53,
   "id": "4386aa7c",
   "metadata": {},
   "outputs": [
    {
     "data": {
      "text/plain": [
       "'Enes YILMAZ'"
      ]
     },
     "execution_count": 53,
     "metadata": {},
     "output_type": "execute_result"
    }
   ],
   "source": [
    "\"Enes\" + \" \" + \"YILMAZ\""
   ]
  },
  {
   "cell_type": "code",
   "execution_count": 54,
   "id": "eef43287",
   "metadata": {},
   "outputs": [
    {
     "ename": "TypeError",
     "evalue": "can only concatenate str (not \"int\") to str",
     "output_type": "error",
     "traceback": [
      "\u001b[1;31m---------------------------------------------------------------------------\u001b[0m",
      "\u001b[1;31mTypeError\u001b[0m                                 Traceback (most recent call last)",
      "Cell \u001b[1;32mIn[54], line 1\u001b[0m\n\u001b[1;32m----> 1\u001b[0m \u001b[38;5;124m\"\u001b[39m\u001b[38;5;124mEnes YILMAZ\u001b[39m\u001b[38;5;124m\"\u001b[39m \u001b[38;5;241m+\u001b[39m \u001b[38;5;241m5\u001b[39m\n",
      "\u001b[1;31mTypeError\u001b[0m: can only concatenate str (not \"int\") to str"
     ]
    }
   ],
   "source": [
    "\"Enes YILMAZ\" + 5  # Bir integer ile toplama yaptığımızda hata alırız."
   ]
  },
  {
   "cell_type": "code",
   "execution_count": 55,
   "id": "0ffb846d",
   "metadata": {},
   "outputs": [
    {
     "data": {
      "text/plain": [
       "'Enes YILMAZEnes YILMAZEnes YILMAZEnes YILMAZEnes YILMAZ'"
      ]
     },
     "execution_count": 55,
     "metadata": {},
     "output_type": "execute_result"
    }
   ],
   "source": [
    "\"Enes YILMAZ\" * 5 # Fakat integer bir değişken ile çarpma işlemi yapabiliriz. "
   ]
  },
  {
   "cell_type": "code",
   "execution_count": 56,
   "id": "3b8072b8",
   "metadata": {},
   "outputs": [
    {
     "data": {
      "text/plain": [
       "'Enes YILMAZ Enes YILMAZ Enes YILMAZ Enes YILMAZ Enes YILMAZ '"
      ]
     },
     "execution_count": 56,
     "metadata": {},
     "output_type": "execute_result"
    }
   ],
   "source": [
    "(\"Enes YILMAZ\" + \" \")*5"
   ]
  },
  {
   "cell_type": "markdown",
   "id": "aaf441c5",
   "metadata": {},
   "source": [
    "## Tek tırnak, çift tırnak, üçlü tırnak\n",
    "\n",
    "Python'da diziler istenirse tek tırnakla, istenirse çift tırnakla sınırlandırarak kullanılabilirler. İkisi de aynı nesneyi üretir; yani \"abc\" ile 'abc' aynı dizedir.\n",
    "\n",
    "Bu esneklik, dizenin içinde bir çeşit tırnak varsa, dizenin çevresinde öbür çeşit tırnağı kullanma imkânı verir."
   ]
  },
  {
   "cell_type": "code",
   "execution_count": 57,
   "id": "f0636556",
   "metadata": {},
   "outputs": [
    {
     "name": "stdout",
     "output_type": "stream",
     "text": [
      "Enes'de bizimle gelecek mi?\n"
     ]
    }
   ],
   "source": [
    "print(\"Enes'de bizimle gelecek mi?\")"
   ]
  },
  {
   "cell_type": "code",
   "execution_count": 58,
   "id": "d818e699",
   "metadata": {},
   "outputs": [
    {
     "name": "stdout",
     "output_type": "stream",
     "text": [
      "Dedim ki: \"Gel!\"\n"
     ]
    }
   ],
   "source": [
    "print('Dedim ki: \"Gel!\"')"
   ]
  },
  {
   "cell_type": "markdown",
   "id": "34e25306",
   "metadata": {},
   "source": [
    "Eğer dize içerisinde her iki tırnak (\",') işaretini de kullanmamaız gerekiyorsa, kaçış karakterleri (\\) kullanabiliriz. Tırnak açtıkdan sonra \"\\\" (ters slash) işaretini koyduğumuzda kendinden sonra gelen karakteri kaçış karakteri olarak algılar ve metinsel ifade olarak yazar."
   ]
  },
  {
   "cell_type": "code",
   "execution_count": 59,
   "id": "f256927c",
   "metadata": {},
   "outputs": [
    {
     "name": "stdout",
     "output_type": "stream",
     "text": [
      "Enes'e dedim ki: \"Gelme!\"\n"
     ]
    }
   ],
   "source": [
    "print(\"Enes'e dedim ki: \\\"Gelme!\\\"\")"
   ]
  },
  {
   "cell_type": "markdown",
   "id": "1d60d3a1",
   "metadata": {},
   "source": [
    "Üç tırnak (\"\"\" veya ''') kullanarak birkaç satıra yayılan bir dize yaratabiliriz. Yaptığımız kaydırmalar, satırbaşları, boş satırlar dizenin parçası olarak kaydedilir. Bu tür dizeler özellikle fonksiyonlardaki belge dizelerinde (docstring) çok kullanılır."
   ]
  },
  {
   "cell_type": "code",
   "execution_count": 60,
   "id": "e4e44d45",
   "metadata": {},
   "outputs": [
    {
     "name": "stdout",
     "output_type": "stream",
     "text": [
      "\n",
      "              Enes\n",
      "              YILMAZ\n",
      "              1996\n"
     ]
    }
   ],
   "source": [
    "ucTirnak = \"\"\"\n",
    "              Enes\n",
    "              YILMAZ\n",
    "              1996\"\"\"\n",
    "print(ucTirnak)"
   ]
  },
  {
   "cell_type": "markdown",
   "id": "ee72939c",
   "metadata": {},
   "source": [
    "## Dize metodları\n",
    "\n",
    "Dize sınıfı içinde tanımlanmış pek çok metod mevcut. Bunların tam bir listesini görmek için dir(str) komutunu verebilirsiniz."
   ]
  },
  {
   "cell_type": "code",
   "execution_count": 61,
   "id": "c47020f3",
   "metadata": {},
   "outputs": [
    {
     "data": {
      "text/plain": [
       "['__add__',\n",
       " '__class__',\n",
       " '__contains__',\n",
       " '__delattr__',\n",
       " '__dir__',\n",
       " '__doc__',\n",
       " '__eq__',\n",
       " '__format__',\n",
       " '__ge__',\n",
       " '__getattribute__',\n",
       " '__getitem__',\n",
       " '__getnewargs__',\n",
       " '__getstate__',\n",
       " '__gt__',\n",
       " '__hash__',\n",
       " '__init__',\n",
       " '__init_subclass__',\n",
       " '__iter__',\n",
       " '__le__',\n",
       " '__len__',\n",
       " '__lt__',\n",
       " '__mod__',\n",
       " '__mul__',\n",
       " '__ne__',\n",
       " '__new__',\n",
       " '__reduce__',\n",
       " '__reduce_ex__',\n",
       " '__repr__',\n",
       " '__rmod__',\n",
       " '__rmul__',\n",
       " '__setattr__',\n",
       " '__sizeof__',\n",
       " '__str__',\n",
       " '__subclasshook__',\n",
       " 'capitalize',\n",
       " 'casefold',\n",
       " 'center',\n",
       " 'count',\n",
       " 'encode',\n",
       " 'endswith',\n",
       " 'expandtabs',\n",
       " 'find',\n",
       " 'format',\n",
       " 'format_map',\n",
       " 'index',\n",
       " 'isalnum',\n",
       " 'isalpha',\n",
       " 'isascii',\n",
       " 'isdecimal',\n",
       " 'isdigit',\n",
       " 'isidentifier',\n",
       " 'islower',\n",
       " 'isnumeric',\n",
       " 'isprintable',\n",
       " 'isspace',\n",
       " 'istitle',\n",
       " 'isupper',\n",
       " 'join',\n",
       " 'ljust',\n",
       " 'lower',\n",
       " 'lstrip',\n",
       " 'maketrans',\n",
       " 'partition',\n",
       " 'removeprefix',\n",
       " 'removesuffix',\n",
       " 'replace',\n",
       " 'rfind',\n",
       " 'rindex',\n",
       " 'rjust',\n",
       " 'rpartition',\n",
       " 'rsplit',\n",
       " 'rstrip',\n",
       " 'split',\n",
       " 'splitlines',\n",
       " 'startswith',\n",
       " 'strip',\n",
       " 'swapcase',\n",
       " 'title',\n",
       " 'translate',\n",
       " 'upper',\n",
       " 'zfill']"
      ]
     },
     "execution_count": 61,
     "metadata": {},
     "output_type": "execute_result"
    }
   ],
   "source": [
    "dir(str)"
   ]
  },
  {
   "cell_type": "markdown",
   "id": "acbe1a45",
   "metadata": {},
   "source": [
    "Her bir metodun kısa bir açıklaması için help() komutunu kullanabilirsiniz."
   ]
  },
  {
   "cell_type": "code",
   "execution_count": 62,
   "id": "c5d557c2",
   "metadata": {},
   "outputs": [
    {
     "name": "stdout",
     "output_type": "stream",
     "text": [
      "Help on method_descriptor:\n",
      "\n",
      "translate(self, table, /)\n",
      "    Replace each character in the string using the given translation table.\n",
      "    \n",
      "      table\n",
      "        Translation table, which must be a mapping of Unicode ordinals to\n",
      "        Unicode ordinals, strings, or None.\n",
      "    \n",
      "    The table must implement lookup/indexing via __getitem__, for instance a\n",
      "    dictionary or list.  If this operation raises LookupError, the character is\n",
      "    left untouched.  Characters mapped to None are deleted.\n",
      "\n"
     ]
    }
   ],
   "source": [
    "help(str.translate)"
   ]
  },
  {
   "cell_type": "markdown",
   "id": "a4bbccfc",
   "metadata": {},
   "source": [
    "Burada bu metodların belli başlılarının kullanımlarını örnekleyerek açıklayacağız. Özellikle, metin şeklindeki verilerin analizinde kullanılabilecek metodları seçtik. Tam bir liste için [Python yardım belgelerine](https://docs.python.org/3.6/library/stdtypes.html#string-methods)  bakabilirsiniz."
   ]
  },
  {
   "cell_type": "markdown",
   "id": "4e1924fe",
   "metadata": {},
   "source": [
    "startswith, endswith\n",
    "----------------\n",
    "\n",
    "Bir dizenin başlangıcında veya sonunda belli bir alt dizenin bulunması halinde `True` verirler."
   ]
  },
  {
   "cell_type": "code",
   "execution_count": 63,
   "id": "38d2cfdc",
   "metadata": {},
   "outputs": [
    {
     "data": {
      "text/plain": [
       "(True, False)"
      ]
     },
     "execution_count": 63,
     "metadata": {},
     "output_type": "execute_result"
    }
   ],
   "source": [
    "s = \"Python Programlamaya Giriş\"\n",
    "s.startswith(\"Pyth\"), s.startswith(\"python\")"
   ]
  },
  {
   "cell_type": "code",
   "execution_count": 64,
   "id": "d75de3c1",
   "metadata": {},
   "outputs": [
    {
     "data": {
      "text/plain": [
       "(True, False)"
      ]
     },
     "execution_count": 64,
     "metadata": {},
     "output_type": "execute_result"
    }
   ],
   "source": [
    "s.endswith(\"iriş\"), s.endswith(\"xyz\")"
   ]
  },
  {
   "cell_type": "markdown",
   "id": "18022974",
   "metadata": {},
   "source": [
    "Bir alt dizenin yerini bulmak: find, rfind, index, rindex\n",
    "-------------------\n",
    "`find` metodu, bir dizenin içinde bir alt dizenin ilk bulunduğu konumu verir. Aranan alt dize mevcut değilse -1 döndürür."
   ]
  },
  {
   "cell_type": "code",
   "execution_count": 65,
   "id": "8416957b",
   "metadata": {},
   "outputs": [
    {
     "data": {
      "text/plain": [
       "2"
      ]
     },
     "execution_count": 65,
     "metadata": {},
     "output_type": "execute_result"
    }
   ],
   "source": [
    "s = \"ABRAKADABRA\"  # Aradığımız metin 'RA' olduğu için ilk gördüğü 'RA' nın başlangıç indexini verir.\n",
    "s.find(\"RA\")"
   ]
  },
  {
   "cell_type": "code",
   "execution_count": 66,
   "id": "353167f0",
   "metadata": {},
   "outputs": [
    {
     "data": {
      "text/plain": [
       "-1"
      ]
     },
     "execution_count": 66,
     "metadata": {},
     "output_type": "execute_result"
    }
   ],
   "source": [
    "s.find(\"XYZ\")  # Bulamadığı zaman -1 döndürür."
   ]
  },
  {
   "cell_type": "markdown",
   "id": "096e75a2",
   "metadata": {},
   "source": [
    "Konum saymanın sıfır ile başladığını hatırlayın; o yüzden \"RA\" dizesi üçüncü harfte başlıyor, ama konum indeksi 2.\n",
    "\n",
    "Dikkat: Amacınız belli bir alt dizenin yerini bulmak değil, sadece mevcut olup olmadığını anlamaksa find yerine in kullanın."
   ]
  },
  {
   "cell_type": "code",
   "execution_count": 67,
   "id": "f5f4e7cb",
   "metadata": {},
   "outputs": [
    {
     "data": {
      "text/plain": [
       "(True, False)"
      ]
     },
     "execution_count": 67,
     "metadata": {},
     "output_type": "execute_result"
    }
   ],
   "source": [
    "\"RA\" in s, \"XYZ\" in s # Aradığımız ifade \"s\" değişkeninin içerisinde varsa True yoksa False döndürür."
   ]
  },
  {
   "cell_type": "markdown",
   "id": "ca5b81d2",
   "metadata": {},
   "source": [
    "Aramaya sağdan başlamak isterseniz rfind metodunu kullanın."
   ]
  },
  {
   "cell_type": "code",
   "execution_count": 68,
   "id": "eb3329b5",
   "metadata": {},
   "outputs": [
    {
     "data": {
      "text/plain": [
       "9"
      ]
     },
     "execution_count": 68,
     "metadata": {},
     "output_type": "execute_result"
    }
   ],
   "source": [
    "s.rfind(\"RA\") # İfadenin sonundan başlarak ilk gördüğü 'RA' nın indexini verir."
   ]
  },
  {
   "cell_type": "markdown",
   "id": "5ef47557",
   "metadata": {},
   "source": [
    "index ile find aynı işi yapar. Tek farkları, aranan alt dize bulunamayınca index'in bir hata işareti (\"ValueError\") vermesidir. Hata yakalamaya dayalı programlarda tercih edilir."
   ]
  },
  {
   "cell_type": "code",
   "execution_count": 69,
   "id": "bfb0b78d",
   "metadata": {},
   "outputs": [
    {
     "data": {
      "text/plain": [
       "2"
      ]
     },
     "execution_count": 69,
     "metadata": {},
     "output_type": "execute_result"
    }
   ],
   "source": [
    "s.index(\"RA\")"
   ]
  },
  {
   "cell_type": "code",
   "execution_count": 70,
   "id": "c1fbaff6",
   "metadata": {},
   "outputs": [
    {
     "ename": "ValueError",
     "evalue": "substring not found",
     "output_type": "error",
     "traceback": [
      "\u001b[1;31m---------------------------------------------------------------------------\u001b[0m",
      "\u001b[1;31mValueError\u001b[0m                                Traceback (most recent call last)",
      "Cell \u001b[1;32mIn[70], line 1\u001b[0m\n\u001b[1;32m----> 1\u001b[0m s\u001b[38;5;241m.\u001b[39mindex(\u001b[38;5;124m\"\u001b[39m\u001b[38;5;124mXYZ\u001b[39m\u001b[38;5;124m\"\u001b[39m)\n",
      "\u001b[1;31mValueError\u001b[0m: substring not found"
     ]
    }
   ],
   "source": [
    "s.index(\"XYZ\")"
   ]
  },
  {
   "cell_type": "markdown",
   "id": "5e9c2455",
   "metadata": {},
   "source": [
    "Aramaya sağdan başlamak isterseniz `rindex` komutunu kullanabilirsiniz."
   ]
  },
  {
   "cell_type": "markdown",
   "id": "dfedc696",
   "metadata": {},
   "source": [
    "Dizeleri birleştirmek: join\n",
    "-------------\n",
    "Bir sıralı nesnenin (liste, çokuz, dize, vs.) dize tipi elemanlarını birleştirerek yeni bir dize üretir."
   ]
  },
  {
   "cell_type": "code",
   "execution_count": 71,
   "id": "20e6ddf8",
   "metadata": {},
   "outputs": [
    {
     "data": {
      "text/plain": [
       "'A67B0.15'"
      ]
     },
     "execution_count": 71,
     "metadata": {},
     "output_type": "execute_result"
    }
   ],
   "source": [
    "\"\".join([\"A\",\"67\",\"B\",\"0.15\"])    # yanyana yapıştırır"
   ]
  },
  {
   "cell_type": "code",
   "execution_count": 72,
   "id": "2422c2f7",
   "metadata": {},
   "outputs": [
    {
     "data": {
      "text/plain": [
       "'A 67 B 0.15'"
      ]
     },
     "execution_count": 72,
     "metadata": {},
     "output_type": "execute_result"
    }
   ],
   "source": [
    "\" \".join([\"A\",\"67\",\"B\",\"0.15\"])   # araya bir boşluk koyarak yapıştırır"
   ]
  },
  {
   "cell_type": "code",
   "execution_count": 73,
   "id": "e59af78d",
   "metadata": {},
   "outputs": [
    {
     "data": {
      "text/plain": [
       "'A-*-67-*-B-*-0.15'"
      ]
     },
     "execution_count": 73,
     "metadata": {},
     "output_type": "execute_result"
    }
   ],
   "source": [
    "\"-*-\".join([\"A\",\"67\",\"B\",\"0.15\"]) # araya -*- koyarak yapıştır"
   ]
  },
  {
   "cell_type": "code",
   "execution_count": 74,
   "id": "3dd9d9f4",
   "metadata": {},
   "outputs": [
    {
     "data": {
      "text/plain": [
       "'merhaba'"
      ]
     },
     "execution_count": 74,
     "metadata": {},
     "output_type": "execute_result"
    }
   ],
   "source": [
    "L = ['m', 'e', 'r', 'h', 'a', 'b', 'a']\n",
    "\"\".join(L)"
   ]
  },
  {
   "cell_type": "markdown",
   "id": "20bd105e",
   "metadata": {},
   "source": [
    "Boşlukları atmak: lstrip, rstrip, strip\n",
    "--------------------\n",
    "Bu metodlar bir dizenin sol ve/veya sağ tarafındaki boş karakterleri (boşluk, kaydırma `\\t`, satırbaşı `\\n`) kaldırır. `lstrip` soldaki, `rstrip` sağdaki, `strip` ise her iki yandaki boşlukları temizler. Bu metodlar özellikle bir dosya satır satır okunurken yararlı olur."
   ]
  },
  {
   "cell_type": "code",
   "execution_count": 75,
   "id": "1773d2e2",
   "metadata": {},
   "outputs": [
    {
     "data": {
      "text/plain": [
       "'\\n       Enes YILMAZ   \\n'"
      ]
     },
     "execution_count": 75,
     "metadata": {},
     "output_type": "execute_result"
    }
   ],
   "source": [
    "s = \"\"\"\n",
    "       Enes YILMAZ   \n",
    "\"\"\"\n",
    "s"
   ]
  },
  {
   "cell_type": "code",
   "execution_count": 76,
   "id": "805b20c1",
   "metadata": {},
   "outputs": [
    {
     "data": {
      "text/plain": [
       "'Enes YILMAZ   \\n'"
      ]
     },
     "execution_count": 76,
     "metadata": {},
     "output_type": "execute_result"
    }
   ],
   "source": [
    "s.lstrip()  # Dizenin solunda kalan boşlukları siler."
   ]
  },
  {
   "cell_type": "code",
   "execution_count": 77,
   "id": "075bfa64",
   "metadata": {},
   "outputs": [
    {
     "data": {
      "text/plain": [
       "'\\n       Enes YILMAZ'"
      ]
     },
     "execution_count": 77,
     "metadata": {},
     "output_type": "execute_result"
    }
   ],
   "source": [
    "s.rstrip()  # Dizenin sağında halan boşlukları siler."
   ]
  },
  {
   "cell_type": "code",
   "execution_count": 78,
   "id": "e66515af",
   "metadata": {},
   "outputs": [
    {
     "data": {
      "text/plain": [
       "'Enes YILMAZ'"
      ]
     },
     "execution_count": 78,
     "metadata": {},
     "output_type": "execute_result"
    }
   ],
   "source": [
    "s.strip()  # Dizenin hem sağ hem de sol tarafındaki boşluklarını siler."
   ]
  },
  {
   "cell_type": "markdown",
   "id": "9868dd0f",
   "metadata": {},
   "source": [
    "Değiştirme: replace\n",
    "-----------\n",
    "Dizede belli bir alt dizenin ortaya çıktığı her yeri başka bir alt dizeyle değiştirir."
   ]
  },
  {
   "cell_type": "code",
   "execution_count": 79,
   "id": "3343de2e",
   "metadata": {},
   "outputs": [
    {
     "data": {
      "text/plain": [
       "\"yenişehir'de yeni bir evde yeni bir kapı\""
      ]
     },
     "execution_count": 79,
     "metadata": {},
     "output_type": "execute_result"
    }
   ],
   "source": [
    "s = \"eskişehir'de eski bir evde eski bir kapı\"\n",
    "s.replace(\"eski\", \"yeni\")"
   ]
  },
  {
   "cell_type": "markdown",
   "id": "c9a462d0",
   "metadata": {},
   "source": [
    "Tercihe bağlı olarak, soldan itibaren sadece belli sayıda değiştirme de yapılabilir:"
   ]
  },
  {
   "cell_type": "code",
   "execution_count": 80,
   "id": "71efc862",
   "metadata": {},
   "outputs": [
    {
     "data": {
      "text/plain": [
       "\"yenişehir'de yeni bir evde eski bir kapı\""
      ]
     },
     "execution_count": 80,
     "metadata": {},
     "output_type": "execute_result"
    }
   ],
   "source": [
    "s.replace(\"eski\", \"yeni\", 2)"
   ]
  },
  {
   "cell_type": "markdown",
   "id": "a92cdb98",
   "metadata": {},
   "source": [
    "Bölme: split, rsplit, splitlines\n",
    "----------------\n",
    "`split` metodu bir dizedeki kelimeleri belli yerlerden (varsayılan olarak boşluk karakterlerinden) böler ve ortaya çıkan bölümlerden oluşan bir dize listesi verir. Fazlalık boşluklar hesaba katılmaz."
   ]
  },
  {
   "cell_type": "code",
   "execution_count": 81,
   "id": "f1ffd165",
   "metadata": {},
   "outputs": [
    {
     "data": {
      "text/plain": [
       "['kedi', 'köpek', 'balık', 'kuş']"
      ]
     },
     "execution_count": 81,
     "metadata": {},
     "output_type": "execute_result"
    }
   ],
   "source": [
    "\"   kedi köpek   balık    kuş   \".split()"
   ]
  },
  {
   "cell_type": "markdown",
   "id": "0043a5fd",
   "metadata": {},
   "source": [
    "Boşluk yerine başka bir ayırıcı kullanılabilir. Ayrıcı istenilen sayıda karakterden oluşabilir."
   ]
  },
  {
   "cell_type": "code",
   "execution_count": 82,
   "id": "9e6572c2",
   "metadata": {},
   "outputs": [
    {
     "data": {
      "text/plain": [
       "['1', '2', '3', '4', '5', '6']"
      ]
     },
     "execution_count": 82,
     "metadata": {},
     "output_type": "execute_result"
    }
   ],
   "source": [
    "\"1,2,3,4,5,6\".split(\",\")"
   ]
  },
  {
   "cell_type": "code",
   "execution_count": 83,
   "id": "ba2a3da3",
   "metadata": {},
   "outputs": [
    {
     "data": {
      "text/plain": [
       "['a', 'b', 'c', 'd', 'e']"
      ]
     },
     "execution_count": 83,
     "metadata": {},
     "output_type": "execute_result"
    }
   ],
   "source": [
    "\"a<>b<>c<>d<>e\".split(\"<>\")"
   ]
  },
  {
   "cell_type": "markdown",
   "id": "4b740bab",
   "metadata": {},
   "source": [
    "Sadece belli sayıda bölme yapmak da mümkündür. Arta kalan kısım tek bir dizede toplanır."
   ]
  },
  {
   "cell_type": "code",
   "execution_count": 84,
   "id": "bc5bc3ae",
   "metadata": {},
   "outputs": [
    {
     "data": {
      "text/plain": [
       "['kedi', 'köpek', 'balık    kuş   ']"
      ]
     },
     "execution_count": 84,
     "metadata": {},
     "output_type": "execute_result"
    }
   ],
   "source": [
    "\"   kedi köpek   balık    kuş   \".split(maxsplit=2)"
   ]
  },
  {
   "cell_type": "markdown",
   "id": "23df8ca5",
   "metadata": {},
   "source": [
    "Soldan değil sağdan başlayarak ayırmamız gerekirse rsplit metodunu kullanırız."
   ]
  },
  {
   "cell_type": "code",
   "execution_count": 85,
   "id": "1d09c7f0",
   "metadata": {},
   "outputs": [
    {
     "data": {
      "text/plain": [
       "['   kedi köpek', 'balık', 'kuş']"
      ]
     },
     "execution_count": 85,
     "metadata": {},
     "output_type": "execute_result"
    }
   ],
   "source": [
    "\"   kedi köpek   balık    kuş   \".rsplit(maxsplit=2)"
   ]
  },
  {
   "cell_type": "markdown",
   "id": "e244f35c",
   "metadata": {},
   "source": [
    "Birden fazla satır barındıran bir dizeyi satır sınırlarından bölmek için splitlines metodu kullanılabilir."
   ]
  },
  {
   "cell_type": "code",
   "execution_count": 86,
   "id": "e8345ea0",
   "metadata": {},
   "outputs": [
    {
     "data": {
      "text/plain": [
       "['abcç', 'defgğ', 'hıi', 'jkl']"
      ]
     },
     "execution_count": 86,
     "metadata": {},
     "output_type": "execute_result"
    }
   ],
   "source": [
    "s = \"\"\"abcç\n",
    "defgğ\n",
    "hıi\n",
    "jkl\"\"\"\n",
    "\n",
    "s.splitlines()"
   ]
  },
  {
   "cell_type": "markdown",
   "id": "6ca63c7b",
   "metadata": {},
   "source": [
    "splitlines metodu sadece satırbaşı (\"\\n\") ile değil, \"\\r\", \"\\v\", \"\\f\", ve satır sonu sayılan başka birkaç karakter ile de böler. Ayrıca, split'ten farklı olarak dize sonundaki \"\\n\" karakterini de göz ardı eder. Bir dosyanın içeriğini bütün olarak bir dizeye yüklediyseniz, onu satırlara bölmek için en uygunu splitlines kullanmaktır."
   ]
  },
  {
   "cell_type": "markdown",
   "id": "49e310f6",
   "metadata": {},
   "source": [
    "# Tuple\n",
    "\n",
    "Stringler ile Tuple ortak özellikleri değiştirilemez (immutable) olmalarıdır. Elemanlarına yeni değerler atayamazsınız ve parantez ile gösterilir ()"
   ]
  },
  {
   "cell_type": "code",
   "execution_count": 87,
   "id": "166e7ead",
   "metadata": {},
   "outputs": [
    {
     "data": {
      "text/plain": [
       "3.14"
      ]
     },
     "execution_count": 87,
     "metadata": {},
     "output_type": "execute_result"
    }
   ],
   "source": [
    "a = (3.14, 2, 'Albert', 3+4j, (7.25,-23)) # Her virgülden sonrasını bir eleman olarak kabul eder. \n",
    "a[0]  # birinci eleman"
   ]
  },
  {
   "cell_type": "code",
   "execution_count": 88,
   "id": "8aff2ec8",
   "metadata": {},
   "outputs": [
    {
     "data": {
      "text/plain": [
       "7.25"
      ]
     },
     "execution_count": 88,
     "metadata": {},
     "output_type": "execute_result"
    }
   ],
   "source": [
    "a[-1][0] # Eleman kümesi içinde elaman oluşturmakta mümkündür. Bu örnekte gördüğümüz gibi son elemanın birinci elemanı"
   ]
  },
  {
   "cell_type": "code",
   "execution_count": 89,
   "id": "bf3e98ea",
   "metadata": {},
   "outputs": [
    {
     "data": {
      "text/plain": [
       "-23"
      ]
     },
     "execution_count": 89,
     "metadata": {},
     "output_type": "execute_result"
    }
   ],
   "source": [
    "a[-1][1] # Son elemanın ikinci elemanı"
   ]
  },
  {
   "cell_type": "markdown",
   "id": "50295991",
   "metadata": {},
   "source": [
    "Çokuzlar atamada kullanılırsa, her eleman birebir eşleştirilerek atama yapılır."
   ]
  },
  {
   "cell_type": "code",
   "execution_count": 90,
   "id": "6f5b410a",
   "metadata": {},
   "outputs": [],
   "source": [
    "(x,y,z)=[(5,-2.5), (\"asd\", 21), \"Hello\"]"
   ]
  },
  {
   "cell_type": "code",
   "execution_count": 91,
   "id": "282cc3b8",
   "metadata": {},
   "outputs": [
    {
     "data": {
      "text/plain": [
       "'H'"
      ]
     },
     "execution_count": 91,
     "metadata": {},
     "output_type": "execute_result"
    }
   ],
   "source": [
    "z[0] "
   ]
  },
  {
   "cell_type": "code",
   "execution_count": 92,
   "id": "5b95aa42",
   "metadata": {},
   "outputs": [
    {
     "data": {
      "text/plain": [
       "'asd'"
      ]
     },
     "execution_count": 92,
     "metadata": {},
     "output_type": "execute_result"
    }
   ],
   "source": [
    "y[0]"
   ]
  },
  {
   "cell_type": "code",
   "execution_count": 93,
   "id": "949152a4",
   "metadata": {},
   "outputs": [
    {
     "data": {
      "text/plain": [
       "'d'"
      ]
     },
     "execution_count": 93,
     "metadata": {},
     "output_type": "execute_result"
    }
   ],
   "source": [
    "y[0][2] # b (\"asd\") nin ikinci karakterini çektik."
   ]
  },
  {
   "cell_type": "code",
   "execution_count": 94,
   "id": "b7f7fbd8",
   "metadata": {},
   "outputs": [
    {
     "data": {
      "text/plain": [
       "24.14"
      ]
     },
     "execution_count": 94,
     "metadata": {},
     "output_type": "execute_result"
    }
   ],
   "source": [
    "a[0]+y[1] # a'nın ilk elemanı (3.14) ile y'nin ikinci elemanını (21) topladık"
   ]
  },
  {
   "cell_type": "markdown",
   "id": "5df671f9",
   "metadata": {},
   "source": [
    "# Listeler\n",
    "\n",
    " Listeler köşeli parantez ile gösterilir []"
   ]
  },
  {
   "cell_type": "code",
   "execution_count": 95,
   "id": "f1299229",
   "metadata": {},
   "outputs": [
    {
     "data": {
      "text/plain": [
       "[4.1, 'merhaba', (2, 3, 1), [12, 0, 2]]"
      ]
     },
     "execution_count": 95,
     "metadata": {},
     "output_type": "execute_result"
    }
   ],
   "source": [
    "liste = [5, \"merhaba\", (2,3,1), [-1,0,2]]\n",
    "liste[0] = 4.1  # birinci elemanı değiştir\n",
    "liste[-1][0] = 12 # son elemanın birinci elemanını değiştir\n",
    "liste"
   ]
  },
  {
   "cell_type": "code",
   "execution_count": 96,
   "id": "8a32d513",
   "metadata": {},
   "outputs": [
    {
     "data": {
      "text/plain": [
       "[4.1, 'merhabaDegisti', (2, 3, 1), [12, 0, 2]]"
      ]
     },
     "execution_count": 96,
     "metadata": {},
     "output_type": "execute_result"
    }
   ],
   "source": [
    "liste[1]=\"merhabaDegisti\" # İkinci elemana başka bir dize atadık.\n",
    "liste"
   ]
  },
  {
   "cell_type": "code",
   "execution_count": 97,
   "id": "a9605aa1",
   "metadata": {},
   "outputs": [
    {
     "data": {
      "text/plain": [
       "['merhabaDegisti', (2, 3, 1), [12, 0, 2]]"
      ]
     },
     "execution_count": 97,
     "metadata": {},
     "output_type": "execute_result"
    }
   ],
   "source": [
    "del liste[0] # İlk elemanı \"5\" sildik.\n",
    "liste"
   ]
  },
  {
   "cell_type": "markdown",
   "id": "3d39a815",
   "metadata": {},
   "source": [
    "Ancak listenin bir elemanı değiştirilemez tipteyse o elemanın alt elemanlarını silemez veya onlara atama yapamazsınız."
   ]
  },
  {
   "cell_type": "code",
   "execution_count": 98,
   "id": "9218ea29",
   "metadata": {},
   "outputs": [
    {
     "ename": "TypeError",
     "evalue": "'str' object does not support item assignment",
     "output_type": "error",
     "traceback": [
      "\u001b[1;31m---------------------------------------------------------------------------\u001b[0m",
      "\u001b[1;31mTypeError\u001b[0m                                 Traceback (most recent call last)",
      "Cell \u001b[1;32mIn[98], line 1\u001b[0m\n\u001b[1;32m----> 1\u001b[0m liste[\u001b[38;5;241m0\u001b[39m][\u001b[38;5;241m2\u001b[39m]\u001b[38;5;241m=\u001b[39m\u001b[38;5;124m\"\u001b[39m\u001b[38;5;124mH\u001b[39m\u001b[38;5;124m\"\u001b[39m\n",
      "\u001b[1;31mTypeError\u001b[0m: 'str' object does not support item assignment"
     ]
    }
   ],
   "source": [
    "liste[0][2]=\"H\""
   ]
  },
  {
   "cell_type": "code",
   "execution_count": 99,
   "id": "7336bfff",
   "metadata": {},
   "outputs": [
    {
     "data": {
      "text/plain": [
       "['ahmet', 'mehmet', 'veli', 'ali', 'yılmaz', 'deniz', 'saygılı', 'karaman']"
      ]
     },
     "execution_count": 99,
     "metadata": {},
     "output_type": "execute_result"
    }
   ],
   "source": [
    "isimlerListesi = [\"ahmet\", \"mehmet\", \"veli\", \"ali\"]  # Listelerde birleştirme yapabiliriz.\n",
    "soyIsimlerListesi=[\"yılmaz\", \"deniz\", \"saygılı\", \"karaman\"]\n",
    "adSoyadListesi = isimlerListesi+soyIsimlerListesi\n",
    "adSoyadListesi"
   ]
  },
  {
   "cell_type": "markdown",
   "id": "7ebb656b",
   "metadata": {},
   "source": [
    "# Dictionary\n",
    "\n",
    "Sözlüklerde her veri için bir anahtar kelime vardır. Bu veriyi çağırmak için anahtar kelime kullanılır. Süslü parantez ile gösterilir.\n"
   ]
  },
  {
   "cell_type": "code",
   "execution_count": 100,
   "id": "0ca82c53",
   "metadata": {},
   "outputs": [],
   "source": [
    "d={\"selamVer\": \"Merhaba\", \"yas\":27}"
   ]
  },
  {
   "cell_type": "code",
   "execution_count": 101,
   "id": "46be4cb6",
   "metadata": {},
   "outputs": [
    {
     "data": {
      "text/plain": [
       "'Merhaba'"
      ]
     },
     "execution_count": 101,
     "metadata": {},
     "output_type": "execute_result"
    }
   ],
   "source": [
    "d[\"selamVer\"]"
   ]
  },
  {
   "cell_type": "code",
   "execution_count": 102,
   "id": "4413b3f4",
   "metadata": {},
   "outputs": [
    {
     "data": {
      "text/plain": [
       "27"
      ]
     },
     "execution_count": 102,
     "metadata": {},
     "output_type": "execute_result"
    }
   ],
   "source": [
    "d[\"yas\"]"
   ]
  },
  {
   "cell_type": "markdown",
   "id": "33ea1428",
   "metadata": {},
   "source": [
    "Sözlüklerde referans olarak sadece değiştirilemez tipler kullanılabilir (sayılar, dizeler, çokuzlar). Listeler kullanılamaz."
   ]
  },
  {
   "cell_type": "code",
   "execution_count": 103,
   "id": "104651c3",
   "metadata": {},
   "outputs": [
    {
     "ename": "TypeError",
     "evalue": "unhashable type: 'list'",
     "output_type": "error",
     "traceback": [
      "\u001b[1;31m---------------------------------------------------------------------------\u001b[0m",
      "\u001b[1;31mTypeError\u001b[0m                                 Traceback (most recent call last)",
      "Cell \u001b[1;32mIn[103], line 1\u001b[0m\n\u001b[1;32m----> 1\u001b[0m d[ [\u001b[38;5;241m1\u001b[39m,\u001b[38;5;241m2\u001b[39m,\u001b[38;5;241m3\u001b[39m] ] \u001b[38;5;241m=\u001b[39m \u001b[38;5;241m5\u001b[39m\n",
      "\u001b[1;31mTypeError\u001b[0m: unhashable type: 'list'"
     ]
    }
   ],
   "source": [
    "d[ [1,2,3] ] = 5"
   ]
  },
  {
   "cell_type": "markdown",
   "id": "f7eff965",
   "metadata": {},
   "source": [
    "Sözlük metodları\n",
    "------------------\n",
    "Bir sözlük nesnesine ait metodları `dir` fonksiyonuyla görebiliriz. Başında ve sonunda altçizgi olan metodlar nesne içi kullanım içindir"
   ]
  },
  {
   "cell_type": "code",
   "execution_count": 104,
   "id": "4ffb7c07",
   "metadata": {},
   "outputs": [
    {
     "data": {
      "text/plain": [
       "['__class__',\n",
       " '__class_getitem__',\n",
       " '__contains__',\n",
       " '__delattr__',\n",
       " '__delitem__',\n",
       " '__dir__',\n",
       " '__doc__',\n",
       " '__eq__',\n",
       " '__format__',\n",
       " '__ge__',\n",
       " '__getattribute__',\n",
       " '__getitem__',\n",
       " '__getstate__',\n",
       " '__gt__',\n",
       " '__hash__',\n",
       " '__init__',\n",
       " '__init_subclass__',\n",
       " '__ior__',\n",
       " '__iter__',\n",
       " '__le__',\n",
       " '__len__',\n",
       " '__lt__',\n",
       " '__ne__',\n",
       " '__new__',\n",
       " '__or__',\n",
       " '__reduce__',\n",
       " '__reduce_ex__',\n",
       " '__repr__',\n",
       " '__reversed__',\n",
       " '__ror__',\n",
       " '__setattr__',\n",
       " '__setitem__',\n",
       " '__sizeof__',\n",
       " '__str__',\n",
       " '__subclasshook__',\n",
       " 'clear',\n",
       " 'copy',\n",
       " 'fromkeys',\n",
       " 'get',\n",
       " 'items',\n",
       " 'keys',\n",
       " 'pop',\n",
       " 'popitem',\n",
       " 'setdefault',\n",
       " 'update',\n",
       " 'values']"
      ]
     },
     "execution_count": 104,
     "metadata": {},
     "output_type": "execute_result"
    }
   ],
   "source": [
    "dir(dict)"
   ]
  },
  {
   "cell_type": "markdown",
   "id": "4ed47bcc",
   "metadata": {},
   "source": [
    "### Sözlükteki bütün maddeleri silmek clear \n",
    "\n",
    "`Clear` metodu ile bir sözlükteki bütün anahtar-değer çiftleri silinebilir."
   ]
  },
  {
   "cell_type": "code",
   "execution_count": 105,
   "id": "fa45a5ee",
   "metadata": {},
   "outputs": [
    {
     "data": {
      "text/plain": [
       "{}"
      ]
     },
     "execution_count": 105,
     "metadata": {},
     "output_type": "execute_result"
    }
   ],
   "source": [
    "D = {'bir': 1, 'iki': 2.0, 'pi': 3.14159}\n",
    "D.clear()\n",
    "D"
   ]
  },
  {
   "cell_type": "markdown",
   "id": "84276960",
   "metadata": {},
   "source": [
    "Sözlüğün kopyasını çıkarmak\n",
    "---------\n",
    "Bazen bir sözlükteki orijinal bilgileri değiştirmeden, bir kopya üzerinde işlemler yapmanız gerekebilir. Bir sözlüğün kopyasını `copy` metoduyla elde edebilirsiniz."
   ]
  },
  {
   "cell_type": "code",
   "execution_count": 106,
   "id": "5fa29d74",
   "metadata": {},
   "outputs": [
    {
     "data": {
      "text/plain": [
       "{'bir': 1, 'iki': 2.0, 'pi': 3.14159}"
      ]
     },
     "execution_count": 106,
     "metadata": {},
     "output_type": "execute_result"
    }
   ],
   "source": [
    "D = {'bir': 1, 'iki': 2.0, 'pi': 3.14159}\n",
    "D2 = D.copy()  # Bu işlemden sonra D2 de yapacağımız değişiklikler D'yi etkilemez.\n",
    "D2"
   ]
  },
  {
   "cell_type": "code",
   "execution_count": 107,
   "id": "6e49120a",
   "metadata": {},
   "outputs": [
    {
     "name": "stdout",
     "output_type": "stream",
     "text": [
      "D = {'bir': 1, 'iki': 2.0, 'pi': 3.14159}\n",
      "D2 = {'bir': 'uno', 'iki': 2.0, 'pi': 3.14159}\n"
     ]
    }
   ],
   "source": [
    "D2[\"bir\"] = \"uno\"\n",
    "print(\"D =\",D)\n",
    "print(\"D2 =\",D2)"
   ]
  },
  {
   "cell_type": "markdown",
   "id": "7ac668b3",
   "metadata": {},
   "source": [
    "İki sözlüğü birleştirmek\n",
    "-------------\n",
    "\n",
    "Sözlüklerin `update` metodu ile varolan bir sözlüğe yeni bir sözlükten anahtar-değer çiftleri ekleyebilirsiniz. Aynı anahtara sahip iki değer varsa, eskisi yenisiyle değiştirilir. Bu metod nesne içi (in-place) değişiklik yapar."
   ]
  },
  {
   "cell_type": "code",
   "execution_count": 108,
   "id": "26acb3f9",
   "metadata": {},
   "outputs": [
    {
     "data": {
      "text/plain": [
       "{'Ali': 3762, 'Zeynep': 8249, 'Mehmet': 1212, 'Fatma': 9212, 'Deniz': 1129}"
      ]
     },
     "execution_count": 108,
     "metadata": {},
     "output_type": "execute_result"
    }
   ],
   "source": [
    "telefonlar = {\"Ali\": 3762, \"Zeynep\": 8249, \"Mehmet\": 2652}\n",
    "telf_2 = {\"Fatma\": 9212, \"Deniz\": 1129, \"Mehmet\": 1212}\n",
    "telefonlar.update(telf_2)\n",
    "telefonlar"
   ]
  },
  {
   "cell_type": "markdown",
   "id": "b392c71b",
   "metadata": {},
   "source": [
    "Elemanlara erişmek\n",
    "-------------\n",
    "Bir `D` sözlüğünde saklanan bir değere erişmenin en basit yolu `D[anahtar]` komutunu kullanmak. Fakat `anahtar` referansı sözlükte tanımlı değilse bir hata mesajı çıkar, bu da programınızın akışınızı bozabilir."
   ]
  },
  {
   "cell_type": "code",
   "execution_count": 109,
   "id": "ff4639d7",
   "metadata": {},
   "outputs": [
    {
     "data": {
      "text/plain": [
       "3762"
      ]
     },
     "execution_count": 109,
     "metadata": {},
     "output_type": "execute_result"
    }
   ],
   "source": [
    "telefonlar = {\"Ali\": 3762, \"Zeynep\": 8249, \"Mehmet\": 2652}\n",
    "telefonlar[\"Ali\"]  # Sözlükde \"Ali\" ye karşılan gelen \"3762\" değerini çıktı olarak verdi"
   ]
  },
  {
   "cell_type": "code",
   "execution_count": 110,
   "id": "128b06dc",
   "metadata": {},
   "outputs": [
    {
     "ename": "KeyError",
     "evalue": "'Kaan'",
     "output_type": "error",
     "traceback": [
      "\u001b[1;31m---------------------------------------------------------------------------\u001b[0m",
      "\u001b[1;31mKeyError\u001b[0m                                  Traceback (most recent call last)",
      "Cell \u001b[1;32mIn[110], line 1\u001b[0m\n\u001b[1;32m----> 1\u001b[0m telefonlar[\u001b[38;5;124m\"\u001b[39m\u001b[38;5;124mKaan\u001b[39m\u001b[38;5;124m\"\u001b[39m]\n",
      "\u001b[1;31mKeyError\u001b[0m: 'Kaan'"
     ]
    }
   ],
   "source": [
    "telefonlar[\"Kaan\"] # Sözlükte \"Kaan\" şeklinde bir anahtar kelime olmadığı için hata mesajı verdi."
   ]
  },
  {
   "cell_type": "markdown",
   "id": "2fea1515",
   "metadata": {},
   "source": [
    "Verilen anahtarın sözlükte bulunmaması durumunda varsayılan bir değer döndürülmesini istiyorsanız, `get` metodunu kullanabilirsiniz. `D.get(k, d)` ifadesi, `k` anahtarı sözlükte varsa `D[k]` değerini, yoksa varsayılan `d` değerini geri verir."
   ]
  },
  {
   "cell_type": "code",
   "execution_count": 111,
   "id": "864946bf",
   "metadata": {},
   "outputs": [
    {
     "name": "stdout",
     "output_type": "stream",
     "text": [
      "Ali telefonu 3762\n",
      "Kaan telefonu mevcut değil\n"
     ]
    }
   ],
   "source": [
    "for isim in [\"Ali\",\"Kaan\"]:\n",
    "    print(\"{} telefonu {}\".format(isim, telefonlar.get(isim, \"mevcut değil\")))"
   ]
  },
  {
   "cell_type": "markdown",
   "id": "65caebfd",
   "metadata": {},
   "source": [
    "Sözlüğe yeni anahtarlar eklemek\n",
    "------------------------\n",
    "\n",
    "Bir `D` sözlüğüne yeni bir anahtar-değer çiftini dinamik olarak kolayca ekleyebiliriz."
   ]
  },
  {
   "cell_type": "code",
   "execution_count": 112,
   "id": "2fa3e049",
   "metadata": {},
   "outputs": [
    {
     "data": {
      "text/plain": [
       "{'abc': 3}"
      ]
     },
     "execution_count": 112,
     "metadata": {},
     "output_type": "execute_result"
    }
   ],
   "source": [
    "D = {}\n",
    "D[\"abc\"] = 3\n",
    "D"
   ]
  },
  {
   "cell_type": "markdown",
   "id": "4f33b06f",
   "metadata": {},
   "source": [
    "Bunun başka bir yolu da setdefault metodunu kullanmaktır. Bu metod, get gibi çalışır, mevcut olmayan bir anahtar verildiğinde bir varsayılan değer döndürür. Ama get'ten farklı olarak, verilen yeni anahtarı sözlüğe ekler."
   ]
  },
  {
   "cell_type": "code",
   "execution_count": 113,
   "id": "3df68163",
   "metadata": {},
   "outputs": [
    {
     "name": "stdout",
     "output_type": "stream",
     "text": [
      "42\n",
      "{'abc': 3}\n"
     ]
    }
   ],
   "source": [
    "print(D.get(\"def\",42))\n",
    "print(D) # sözlük eski halinde kalır."
   ]
  },
  {
   "cell_type": "code",
   "execution_count": 114,
   "id": "b0323810",
   "metadata": {},
   "outputs": [
    {
     "name": "stdout",
     "output_type": "stream",
     "text": [
      "42\n",
      "{'abc': 3, 'def': 42}\n"
     ]
    }
   ],
   "source": [
    "print(D.setdefault(\"def\",42))\n",
    "print(D) # sözlüğe \"def\" anahtarı eklendi."
   ]
  },
  {
   "cell_type": "markdown",
   "id": "54231bae",
   "metadata": {},
   "source": [
    "### Dictionary: keys ve values"
   ]
  },
  {
   "cell_type": "code",
   "execution_count": 115,
   "id": "ed69c10f",
   "metadata": {},
   "outputs": [],
   "source": [
    "yeniSozluk= {\"key1\":100, \"key2\":[10,20,30,40,4.5,\"yılmaz\"],\"key3\":{\"key4\":4}} #Karmaşık ve iç içe bir sözlük oluşturduk"
   ]
  },
  {
   "cell_type": "code",
   "execution_count": 116,
   "id": "75457570",
   "metadata": {},
   "outputs": [
    {
     "data": {
      "text/plain": [
       "dict_keys(['key1', 'key2', 'key3'])"
      ]
     },
     "execution_count": 116,
     "metadata": {},
     "output_type": "execute_result"
    }
   ],
   "source": [
    "yeniSozluk.keys() # keys komutu ile oluşturulan sözlüğün anahtar kelimelerini görebiliriz."
   ]
  },
  {
   "cell_type": "code",
   "execution_count": 117,
   "id": "85e287d4",
   "metadata": {},
   "outputs": [
    {
     "data": {
      "text/plain": [
       "dict_values([100, [10, 20, 30, 40, 4.5, 'yılmaz'], {'key4': 4}])"
      ]
     },
     "execution_count": 117,
     "metadata": {},
     "output_type": "execute_result"
    }
   ],
   "source": [
    "yeniSozluk.values() # Values komutu sayesinde anahtar kelimelere ait değerleri (value) görebiliriz"
   ]
  },
  {
   "cell_type": "markdown",
   "id": "06c2afc8",
   "metadata": {},
   "source": [
    "Bu sayede karmaşık sözlüklerde kullanmamız gereken anahtar kelimeleri ve sahip oldukları değerleri daha kolay görebiliriz."
   ]
  },
  {
   "cell_type": "code",
   "execution_count": 118,
   "id": "dd71a67f",
   "metadata": {},
   "outputs": [
    {
     "data": {
      "text/plain": [
       "'yılmaz'"
      ]
     },
     "execution_count": 118,
     "metadata": {},
     "output_type": "execute_result"
    }
   ],
   "source": [
    "yeniSozluk[\"key2\"][-1]"
   ]
  },
  {
   "cell_type": "code",
   "execution_count": 119,
   "id": "18601be4",
   "metadata": {},
   "outputs": [
    {
     "data": {
      "text/plain": [
       "4"
      ]
     },
     "execution_count": 119,
     "metadata": {},
     "output_type": "execute_result"
    }
   ],
   "source": [
    "yeniSozluk[\"key3\"][\"key4\"]"
   ]
  },
  {
   "cell_type": "markdown",
   "id": "967bda15",
   "metadata": {},
   "source": [
    "## Metodlar\n",
    "\n",
    "### Append"
   ]
  },
  {
   "cell_type": "code",
   "execution_count": 120,
   "id": "81d6bc66",
   "metadata": {},
   "outputs": [],
   "source": [
    "benimListem = [10,20,30,40,50]"
   ]
  },
  {
   "cell_type": "code",
   "execution_count": 121,
   "id": "6a454dad",
   "metadata": {},
   "outputs": [
    {
     "data": {
      "text/plain": [
       "[10, 20, 30, 40, 50]"
      ]
     },
     "execution_count": 121,
     "metadata": {},
     "output_type": "execute_result"
    }
   ],
   "source": [
    "benimListem"
   ]
  },
  {
   "cell_type": "code",
   "execution_count": 122,
   "id": "cc5d123b",
   "metadata": {},
   "outputs": [
    {
     "data": {
      "text/plain": [
       "[10, 20, 30, 40, 50, 100]"
      ]
     },
     "execution_count": 122,
     "metadata": {},
     "output_type": "execute_result"
    }
   ],
   "source": [
    "benimListem.append(100) # Append komutu ile listenin sonuna yeni eleman eklenebilir.\n",
    "benimListem"
   ]
  },
  {
   "cell_type": "markdown",
   "id": "6a1f4a97",
   "metadata": {},
   "source": [
    "### Remove"
   ]
  },
  {
   "cell_type": "code",
   "execution_count": 123,
   "id": "198a49cc",
   "metadata": {},
   "outputs": [
    {
     "data": {
      "text/plain": [
       "[10, 20, 30, 40, 100]"
      ]
     },
     "execution_count": 123,
     "metadata": {},
     "output_type": "execute_result"
    }
   ],
   "source": [
    "benimListem.remove(50) # Verilen bir değere sahip olan ilk elemanı bulur ve onu listeden siler. \n",
    "                       # Değer listede yoksa ValueError hatası verir.\n",
    "benimListem"
   ]
  },
  {
   "cell_type": "markdown",
   "id": "8c7ede9f",
   "metadata": {},
   "source": [
    "### Pop"
   ]
  },
  {
   "cell_type": "code",
   "execution_count": 124,
   "id": "c275e334",
   "metadata": {},
   "outputs": [
    {
     "data": {
      "text/plain": [
       "100"
      ]
     },
     "execution_count": 124,
     "metadata": {},
     "output_type": "execute_result"
    }
   ],
   "source": [
    "benimListem.pop() # Belli bir konumdaki elemanın değerini verir ve listeden siler. Parametre almazsa son elemanı siler."
   ]
  },
  {
   "cell_type": "code",
   "execution_count": 125,
   "id": "0dbfd3f5",
   "metadata": {},
   "outputs": [
    {
     "data": {
      "text/plain": [
       "[10, 20, 30, 40]"
      ]
     },
     "execution_count": 125,
     "metadata": {},
     "output_type": "execute_result"
    }
   ],
   "source": [
    "benimListem"
   ]
  },
  {
   "cell_type": "markdown",
   "id": "ed06a839",
   "metadata": {},
   "source": [
    "### Count"
   ]
  },
  {
   "cell_type": "code",
   "execution_count": 126,
   "id": "579dcb6a",
   "metadata": {},
   "outputs": [
    {
     "data": {
      "text/plain": [
       "1"
      ]
     },
     "execution_count": 126,
     "metadata": {},
     "output_type": "execute_result"
    }
   ],
   "source": [
    "benimListem.count(30) # Sorgulanan değerin listede kaç adet olduğunu gösterir."
   ]
  },
  {
   "cell_type": "code",
   "execution_count": 127,
   "id": "7b81901c",
   "metadata": {},
   "outputs": [],
   "source": [
    "benimListem.append(30)"
   ]
  },
  {
   "cell_type": "code",
   "execution_count": 128,
   "id": "5b3ee340",
   "metadata": {},
   "outputs": [
    {
     "data": {
      "text/plain": [
       "[10, 20, 30, 40, 30]"
      ]
     },
     "execution_count": 128,
     "metadata": {},
     "output_type": "execute_result"
    }
   ],
   "source": [
    "benimListem"
   ]
  },
  {
   "cell_type": "code",
   "execution_count": 129,
   "id": "64f9bb7f",
   "metadata": {},
   "outputs": [
    {
     "data": {
      "text/plain": [
       "2"
      ]
     },
     "execution_count": 129,
     "metadata": {},
     "output_type": "execute_result"
    }
   ],
   "source": [
    "benimListem.count(30) # Az önceki sorguda bir değer bulurken bir tane daha 30 ekledik ve değerimiz ikiye çıktı"
   ]
  },
  {
   "cell_type": "markdown",
   "id": "015c303f",
   "metadata": {},
   "source": [
    "### Reverse\n",
    "\n",
    "Liste elemanlarının sırasını kendi içinde (in-place) ters çevirir. DİKKAT: Yeni bir liste döndürmez, mevcut listeyi değiştirir. Eğer orijinal listeyi bozmak istemiyorsanız bir kopya çıkarmalısınız."
   ]
  },
  {
   "cell_type": "code",
   "execution_count": 130,
   "id": "f1dd6ce7",
   "metadata": {},
   "outputs": [
    {
     "data": {
      "text/plain": [
       "[30, 40, 30, 20, 10]"
      ]
     },
     "execution_count": 130,
     "metadata": {},
     "output_type": "execute_result"
    }
   ],
   "source": [
    "benimListem.reverse() # Listeyi tersine çevirir.\n",
    "benimListem"
   ]
  },
  {
   "cell_type": "markdown",
   "id": "1f528533",
   "metadata": {},
   "source": [
    "### İnsert"
   ]
  },
  {
   "cell_type": "code",
   "execution_count": 131,
   "id": "660341f6",
   "metadata": {},
   "outputs": [
    {
     "data": {
      "text/plain": [
       "[30, 10, 40, 30, 20, 10]"
      ]
     },
     "execution_count": 131,
     "metadata": {},
     "output_type": "execute_result"
    }
   ],
   "source": [
    "benimListem.insert(1,10) # Listede verilen konuma bir eleman sokar, sonraki elemanları kaydırır.\n",
    "benimListem"
   ]
  },
  {
   "cell_type": "markdown",
   "id": "7a3b7555",
   "metadata": {},
   "source": [
    "### Copy"
   ]
  },
  {
   "cell_type": "code",
   "execution_count": 132,
   "id": "f7aa3a53",
   "metadata": {},
   "outputs": [
    {
     "data": {
      "text/plain": [
       "[30, 10, 40, 30, 20, 10]"
      ]
     },
     "execution_count": 132,
     "metadata": {},
     "output_type": "execute_result"
    }
   ],
   "source": [
    "kopyaListe = benimListem.copy\n",
    "kopyaListe()"
   ]
  },
  {
   "cell_type": "markdown",
   "id": "34b233a4",
   "metadata": {},
   "source": [
    "### Extend"
   ]
  },
  {
   "cell_type": "code",
   "execution_count": 133,
   "id": "002744a8",
   "metadata": {},
   "outputs": [
    {
     "data": {
      "text/plain": [
       "[30, 10, 40, 30, 20, 10, 1, 'abc', 3]"
      ]
     },
     "execution_count": 133,
     "metadata": {},
     "output_type": "execute_result"
    }
   ],
   "source": [
    "yeniListe=[1, \"abc\", 3] \n",
    "benimListem.extend(yeniListe)  # Listenin sonuna bir liste ekleyerek genişletir.Bu işlem append komutundan farklıdır.\n",
    "benimListem # Aynı işlemi append ile yaparsak L2 listesi kendi başına L1'in son elemanı olur."
   ]
  },
  {
   "cell_type": "code",
   "execution_count": 134,
   "id": "4311bd9e",
   "metadata": {},
   "outputs": [
    {
     "data": {
      "text/plain": [
       "[30, 10, 40, 30, 20, 10, [1, 2, 3]]"
      ]
     },
     "execution_count": 134,
     "metadata": {},
     "output_type": "execute_result"
    }
   ],
   "source": [
    "benimListem=[30, 10, 40, 30, 20, 10]\n",
    "liste2=[1,2,3]\n",
    "benimListem.append(liste2)\n",
    "benimListem"
   ]
  },
  {
   "cell_type": "markdown",
   "id": "192bcacb",
   "metadata": {},
   "source": [
    "### İndex"
   ]
  },
  {
   "cell_type": "code",
   "execution_count": 135,
   "id": "cdff981e",
   "metadata": {},
   "outputs": [
    {
     "data": {
      "text/plain": [
       "2"
      ]
     },
     "execution_count": 135,
     "metadata": {},
     "output_type": "execute_result"
    }
   ],
   "source": [
    "benimListem.index(40) #Belli bir değerin ilk olarak hangi konumda olduğunu verir. Değer bulunamazsa ValueError hatası çıkarır."
   ]
  },
  {
   "cell_type": "markdown",
   "id": "4224a902",
   "metadata": {},
   "source": [
    "### sort\n",
    "\n",
    "Bir dizi nesnesini alır ve nesne elemanlarının düzgün sıralar."
   ]
  },
  {
   "cell_type": "code",
   "execution_count": 136,
   "id": "da42d3ec",
   "metadata": {},
   "outputs": [
    {
     "data": {
      "text/plain": [
       "[10, 10, 20, 30, 30, 40]"
      ]
     },
     "execution_count": 136,
     "metadata": {},
     "output_type": "execute_result"
    }
   ],
   "source": [
    "benimListem=[30, 10, 40, 30, 20, 10]\n",
    "benimListem.sort()  #Sıralamadan sonra orijinal liste değişir.\n",
    "benimListem"
   ]
  },
  {
   "cell_type": "markdown",
   "id": "0ea63825",
   "metadata": {},
   "source": [
    "sort metodu orijinal listede değişiklik yapar. Bu tür nesne içi (in-place) değişiklikler performansı biraz artırsa da, bazen orijinal listeyi bozmamak isteyebiliriz. O zaman iki seçeneğimiz var: Orijinal listenin bir kopyasını çıkarıp onu sıralarız:"
   ]
  },
  {
   "cell_type": "code",
   "execution_count": 137,
   "id": "4b2e98f7",
   "metadata": {},
   "outputs": [
    {
     "name": "stdout",
     "output_type": "stream",
     "text": [
      "Asıl liste [30, 10, 40, 30, 20, 10]\n",
      "Sıralı Liste [10, 10, 20, 30, 30, 40]\n"
     ]
    }
   ],
   "source": [
    "benimListem=[30, 10, 40, 30, 20, 10]\n",
    "kopyaListe=benimListem.copy()\n",
    "kopyaListe.sort()\n",
    "print(\"Asıl liste\", benimListem)\n",
    "print(\"Sıralı Liste\",kopyaListe)"
   ]
  },
  {
   "cell_type": "markdown",
   "id": "f06128a6",
   "metadata": {},
   "source": [
    "Veya orjinal listeyi bozmadan sıralamak için sorted kullanılır"
   ]
  },
  {
   "cell_type": "markdown",
   "id": "aee9f2ec",
   "metadata": {},
   "source": [
    " ### sorted\n",
    " \n",
    " Bir dizi nesnesini alır ve nesne elemanlarının düzgün sıralanmış olduğu bir liste döndürür."
   ]
  },
  {
   "cell_type": "code",
   "execution_count": 138,
   "id": "5f2c5eec",
   "metadata": {},
   "outputs": [
    {
     "data": {
      "text/plain": [
       "[10, 10, 20, 30, 30, 40]"
      ]
     },
     "execution_count": 138,
     "metadata": {},
     "output_type": "execute_result"
    }
   ],
   "source": [
    "benimListem=[30, 10, 40, 30, 20, 10]\n",
    "benimListem.sort()  # Listeyi kendi içinde (in-place) sıralar. Sıralamadan sonra orijinal liste değişmez\n",
    "benimListem"
   ]
  },
  {
   "cell_type": "code",
   "execution_count": 139,
   "id": "5f1304e2",
   "metadata": {},
   "outputs": [
    {
     "data": {
      "text/plain": [
       "['a', 'a', 'b', 'e', 'h', 'm', 'r']"
      ]
     },
     "execution_count": 139,
     "metadata": {},
     "output_type": "execute_result"
    }
   ],
   "source": [
    "sorted(\"merhaba\")"
   ]
  },
  {
   "cell_type": "code",
   "execution_count": 140,
   "id": "756f7095",
   "metadata": {},
   "outputs": [
    {
     "data": {
      "text/plain": [
       "['Fındık', 'Kaan', 'Meral', 'Ziya']"
      ]
     },
     "execution_count": 140,
     "metadata": {},
     "output_type": "execute_result"
    }
   ],
   "source": [
    "sorted((\"Ziya\",\"Meral\",\"Kaan\",\"Fındık\"))"
   ]
  },
  {
   "cell_type": "markdown",
   "id": "df81111f",
   "metadata": {},
   "source": [
    "key parametresine verilen bir fonksiyon sıralamadan önce her elemana uygulanır; sonuç sıralaması bu fonksiyona göre belirlenir."
   ]
  },
  {
   "cell_type": "code",
   "execution_count": 141,
   "id": "18cf3180",
   "metadata": {},
   "outputs": [
    {
     "data": {
      "text/plain": [
       "[1, -2, 3, 4, 4, -5, 6]"
      ]
     },
     "execution_count": 141,
     "metadata": {},
     "output_type": "execute_result"
    }
   ],
   "source": [
    "sorted([1, 3, -2, 4, -5, 6, 4], key=abs)    # mutlak değere göre sıralar"
   ]
  },
  {
   "cell_type": "code",
   "execution_count": 142,
   "id": "77fdc45e",
   "metadata": {},
   "outputs": [
    {
     "data": {
      "text/plain": [
       "[(2, -1), (0, 2), (1, 2), (3, 4)]"
      ]
     },
     "execution_count": 142,
     "metadata": {},
     "output_type": "execute_result"
    }
   ],
   "source": [
    "sorted( [(1,2), (0,2), (3,4), (2,-1)] , key=sum)  # çokuz elemanların toplamına göre sıralar"
   ]
  },
  {
   "cell_type": "markdown",
   "id": "c8cdacc7",
   "metadata": {},
   "source": [
    "### reverse\n",
    "\n",
    "Sıralamayı tersine çevirir"
   ]
  },
  {
   "cell_type": "code",
   "execution_count": 143,
   "id": "c84d54f7",
   "metadata": {},
   "outputs": [
    {
     "data": {
      "text/plain": [
       "[40, 30, 30, 20, 10, 10]"
      ]
     },
     "execution_count": 143,
     "metadata": {},
     "output_type": "execute_result"
    }
   ],
   "source": [
    "benimListem.sort(reverse=True)  # sırayı ters çevirmek için reverse=True parametresi verilebilir.\n",
    "benimListem"
   ]
  },
  {
   "cell_type": "markdown",
   "id": "441df713",
   "metadata": {},
   "source": [
    "### Türkçe Sıralama\n",
    "\n",
    "Python 3 Unicode kullandığı için İngilizce dışı harfleri kullanırken zorluk çıkarmaz. Ama alfabetik sıralama yapmaya çalıştığımızda doğru cevabı alamayabiliriz."
   ]
  },
  {
   "cell_type": "code",
   "execution_count": 144,
   "id": "c2555aad",
   "metadata": {},
   "outputs": [
    {
     "data": {
      "text/plain": [
       "['Ahmet', 'Mehmet', 'Ziya', 'Ümit', 'İsmail', 'Şebnem']"
      ]
     },
     "execution_count": 144,
     "metadata": {},
     "output_type": "execute_result"
    }
   ],
   "source": [
    "sorted((\"Ahmet\",\"Şebnem\",\"Mehmet\",\"Ziya\",\"İsmail\",\"Ümit\"))"
   ]
  },
  {
   "cell_type": "markdown",
   "id": "99f7ebcd",
   "metadata": {},
   "source": [
    "Türkçe alfabeye göre sıralama yapmak için yerellik ayarı yapmalıyız. Bunun için locale modülünü yüklemeli, ardından da sorted fonksiyonuna key parametresi olarak locale.strxfrm fonksiyonunu vermeliyiz."
   ]
  },
  {
   "cell_type": "code",
   "execution_count": 145,
   "id": "bcffee29",
   "metadata": {},
   "outputs": [
    {
     "data": {
      "text/plain": [
       "['Ahmet', 'İsmail', 'Mehmet', 'Şebnem', 'Ümit', 'Ziya']"
      ]
     },
     "execution_count": 145,
     "metadata": {},
     "output_type": "execute_result"
    }
   ],
   "source": [
    "import locale\n",
    "locale.setlocale(locale.LC_ALL, (\"tr\", 'UTF-8'))\n",
    "sorted((\"Ahmet\",\"Şebnem\",\"Mehmet\",\"Ziya\",\"İsmail\",\"Ümit\"), key=locale.strxfrm)"
   ]
  },
  {
   "cell_type": "markdown",
   "id": "68eb55ea",
   "metadata": {},
   "source": [
    "### range"
   ]
  },
  {
   "cell_type": "code",
   "execution_count": 146,
   "id": "1d9d1237",
   "metadata": {},
   "outputs": [
    {
     "data": {
      "text/plain": [
       "[40, 30, 30, 20, 10, 10]"
      ]
     },
     "execution_count": 146,
     "metadata": {},
     "output_type": "execute_result"
    }
   ],
   "source": [
    "benimListem"
   ]
  },
  {
   "cell_type": "code",
   "execution_count": 147,
   "id": "45801be6",
   "metadata": {},
   "outputs": [
    {
     "data": {
      "text/plain": [
       "range(0, 10)"
      ]
     },
     "execution_count": 147,
     "metadata": {},
     "output_type": "execute_result"
    }
   ],
   "source": [
    "range(10) "
   ]
  },
  {
   "cell_type": "code",
   "execution_count": 148,
   "id": "d91678e1",
   "metadata": {},
   "outputs": [
    {
     "data": {
      "text/plain": [
       "[0, 1, 2, 3, 4, 5, 6, 7, 8, 9]"
      ]
     },
     "execution_count": 148,
     "metadata": {},
     "output_type": "execute_result"
    }
   ],
   "source": [
    "list(range(10)) # 0 dan başlayarak 10'a kadar (10 dahil değil) bir nesne oluşturur. "
   ]
  },
  {
   "cell_type": "markdown",
   "id": "e8632000",
   "metadata": {},
   "source": [
    "sort metodu orijinal listede değişiklik yapar. Bu tür nesne içi (in-place) değişiklikler performansı biraz artırsa da, bazen orijinal listeyi bozmamak isteyebiliriz. O zaman iki seçeneğimiz var: Orijinal listenin bir kopyasını çıkarıp onu sıralarız:"
   ]
  },
  {
   "cell_type": "code",
   "execution_count": 149,
   "id": "dc33f9e0",
   "metadata": {},
   "outputs": [
    {
     "name": "stdout",
     "output_type": "stream",
     "text": [
      "Asıl liste [30, 10, 40, 30, 20, 10]\n",
      "Sıralı Liste [10, 10, 20, 30, 30, 40]\n"
     ]
    }
   ],
   "source": [
    "benimListem=[30, 10, 40, 30, 20, 10]\n",
    "kopyaListe=benimListem.copy()\n",
    "kopyaListe.sort()\n",
    "print(\"Asıl liste\", benimListem)\n",
    "print(\"Sıralı Liste\",kopyaListe)"
   ]
  },
  {
   "cell_type": "code",
   "execution_count": 150,
   "id": "e75ce3fa",
   "metadata": {},
   "outputs": [
    {
     "data": {
      "text/plain": [
       "[2, 3, 4, 5, 6, 7, 8, 9]"
      ]
     },
     "execution_count": 150,
     "metadata": {},
     "output_type": "execute_result"
    }
   ],
   "source": [
    "list(range(2,10)) # Eğer başlangıç değeri belirtiilirse oradan başlayarak bitiş değerine kadar nesne oluşturur."
   ]
  },
  {
   "cell_type": "code",
   "execution_count": 151,
   "id": "dbf65688",
   "metadata": {},
   "outputs": [
    {
     "data": {
      "text/plain": [
       "[2, 5, 8]"
      ]
     },
     "execution_count": 151,
     "metadata": {},
     "output_type": "execute_result"
    }
   ],
   "source": [
    "list(range(2,10,3)) # En sona yazılan değer \"3\" "
   ]
  },
  {
   "cell_type": "markdown",
   "id": "6b1b9282",
   "metadata": {},
   "source": [
    "range işlemi bir liste değil, dizinin başlangıç, bitiş ve adım bilgilerini barındıran bir nesne geri verir sadece. Bu sayede, range(1000000) gibi çok uzun görünen bir dizi bile bellekte ancak range(10) kadar yer kaplar. Elemanlar ve alt aralıklar gerektiğinde aritmetik olarak hesaplanır."
   ]
  },
  {
   "cell_type": "markdown",
   "id": "c7177d46",
   "metadata": {},
   "source": [
    "### len\n",
    "\n",
    "Kapsayıcı bir nesnenin kaç nesne barındırdığını verir. Sıralı olmayan tiplerle de kullanılabilir."
   ]
  },
  {
   "cell_type": "code",
   "execution_count": 152,
   "id": "65dc8a6a",
   "metadata": {},
   "outputs": [
    {
     "data": {
      "text/plain": [
       "3"
      ]
     },
     "execution_count": 152,
     "metadata": {},
     "output_type": "execute_result"
    }
   ],
   "source": [
    "len([1,2,3]) # Liste içerisindeki nesne sayısını verir."
   ]
  },
  {
   "cell_type": "code",
   "execution_count": 153,
   "id": "971d9566",
   "metadata": {},
   "outputs": [
    {
     "data": {
      "text/plain": [
       "7"
      ]
     },
     "execution_count": 153,
     "metadata": {},
     "output_type": "execute_result"
    }
   ],
   "source": [
    "len(\"Merhaba\") # Dize içerisindeki nesnenin kaç nesnesi olduğunu verir."
   ]
  },
  {
   "cell_type": "code",
   "execution_count": 154,
   "id": "9ef69215",
   "metadata": {},
   "outputs": [
    {
     "data": {
      "text/plain": [
       "2"
      ]
     },
     "execution_count": 154,
     "metadata": {},
     "output_type": "execute_result"
    }
   ],
   "source": [
    "len({\"a\":45,\"b\":4.5}) # Sözlük içerisindeki anahtar kelime-değer sayısını verir."
   ]
  },
  {
   "cell_type": "code",
   "execution_count": 155,
   "id": "a691cc76",
   "metadata": {},
   "outputs": [
    {
     "data": {
      "text/plain": [
       "0"
      ]
     },
     "execution_count": 155,
     "metadata": {},
     "output_type": "execute_result"
    }
   ],
   "source": [
    "len([]) # Boş bir listenin uzunluğunu sıfır olarak gösterir."
   ]
  },
  {
   "cell_type": "markdown",
   "id": "a4610582",
   "metadata": {},
   "source": [
    "### list\n",
    "\n",
    "`list`fonksiyonu herhangi bir sıralı nesneyi bir liste nesnesine çevirmek için kullanılır."
   ]
  },
  {
   "cell_type": "code",
   "execution_count": 156,
   "id": "02909cdf",
   "metadata": {},
   "outputs": [
    {
     "data": {
      "text/plain": [
       "['M', 'e', 'r', 'h', 'a', 'b', 'a']"
      ]
     },
     "execution_count": 156,
     "metadata": {},
     "output_type": "execute_result"
    }
   ],
   "source": [
    "s = \"Merhaba\"\n",
    "list(s) #Dizeyi listeye çevirir"
   ]
  },
  {
   "cell_type": "code",
   "execution_count": 157,
   "id": "e0e8a226",
   "metadata": {},
   "outputs": [
    {
     "data": {
      "text/plain": [
       "[1, 2, 3, 4]"
      ]
     },
     "execution_count": 157,
     "metadata": {},
     "output_type": "execute_result"
    }
   ],
   "source": [
    "t=(1,2,3,4)\n",
    "list(t) # Çokuzu listeye çevirir."
   ]
  },
  {
   "cell_type": "markdown",
   "id": "042193d7",
   "metadata": {},
   "source": [
    "`tuple`fonksiyonu ise bir sıralı diziyi çokuza çevirir."
   ]
  },
  {
   "cell_type": "code",
   "execution_count": 158,
   "id": "f9eca765",
   "metadata": {},
   "outputs": [
    {
     "data": {
      "text/plain": [
       "('m', 'e', 'r', 'h', 'a', 'b', 'a')"
      ]
     },
     "execution_count": 158,
     "metadata": {},
     "output_type": "execute_result"
    }
   ],
   "source": [
    "s=\"merhaba\"\n",
    "tuple(s)"
   ]
  },
  {
   "cell_type": "code",
   "execution_count": 159,
   "id": "6bd21984",
   "metadata": {},
   "outputs": [
    {
     "data": {
      "text/plain": [
       "(1, 2, 3, 4)"
      ]
     },
     "execution_count": 159,
     "metadata": {},
     "output_type": "execute_result"
    }
   ],
   "source": [
    "L = [1,2,3,4]\n",
    "tuple(L)"
   ]
  },
  {
   "cell_type": "markdown",
   "id": "296f5bd7",
   "metadata": {},
   "source": [
    "### any\n",
    "\n",
    "Bir liste içide en az bir eleman mantıksal doğruya denkse `True`verir, yoksa `False`verir. Python'da sıfır, boş liste `[]`, boş dize `\"\"` gibi yapıların da `False`sayıldığını; sıfır olmayan sayıların ve boş olmayan nesnelerin de `True`sayıldığını hatırlayın."
   ]
  },
  {
   "cell_type": "code",
   "execution_count": 160,
   "id": "eb6ff3d7",
   "metadata": {},
   "outputs": [
    {
     "data": {
      "text/plain": [
       "True"
      ]
     },
     "execution_count": 160,
     "metadata": {},
     "output_type": "execute_result"
    }
   ],
   "source": [
    "any([0,'',True]) # Burada sondaki \"True\" manktıksal doğruya denk olduğu için True ifadesini döndürdü"
   ]
  },
  {
   "cell_type": "code",
   "execution_count": 161,
   "id": "ac34a43c",
   "metadata": {},
   "outputs": [
    {
     "data": {
      "text/plain": [
       "False"
      ]
     },
     "execution_count": 161,
     "metadata": {},
     "output_type": "execute_result"
    }
   ],
   "source": [
    "any([0,'',False]) # Elemanların hiçbiri mantıksal doğruya denk olmadığı için False ifadesini döndürdü."
   ]
  },
  {
   "cell_type": "code",
   "execution_count": 162,
   "id": "3c4703ea",
   "metadata": {},
   "outputs": [
    {
     "data": {
      "text/plain": [
       "True"
      ]
     },
     "execution_count": 162,
     "metadata": {},
     "output_type": "execute_result"
    }
   ],
   "source": [
    "any([0,\"dolu\",False])  # İkinci eleman \"dolu\" ifadesi mantıksal doğru olduğu için True ifadesini döndürdü."
   ]
  },
  {
   "cell_type": "markdown",
   "id": "57c17817",
   "metadata": {},
   "source": [
    "### enumerate\n",
    "\n",
    "Bir sıralı nesnenin elemanlarına sıra numarası atamak için kullanılır. Özellikle döngülerde, bir nesne üzerinden iterasyon yaparken yararlı olur."
   ]
  },
  {
   "cell_type": "code",
   "execution_count": 163,
   "id": "d17d3a71",
   "metadata": {},
   "outputs": [
    {
     "data": {
      "text/plain": [
       "[(0, 'a'), (1, 'b'), (2, 'c'), (3, ' '), (4, 'd'), (5, 'e'), (6, 'f')]"
      ]
     },
     "execution_count": 163,
     "metadata": {},
     "output_type": "execute_result"
    }
   ],
   "source": [
    "list(enumerate(\"abc def\"))"
   ]
  },
  {
   "cell_type": "code",
   "execution_count": 164,
   "id": "1355b7f7",
   "metadata": {},
   "outputs": [
    {
     "name": "stdout",
     "output_type": "stream",
     "text": [
      "güncel numara: 5 güncel index: 0\n",
      "güncel numara: 6 güncel index: 1\n",
      "güncel numara: 7 güncel index: 2\n",
      "güncel numara: 8 güncel index: 3\n",
      "güncel numara: 9 güncel index: 4\n",
      "güncel numara: 10 güncel index: 5\n",
      "güncel numara: 11 güncel index: 6\n",
      "güncel numara: 12 güncel index: 7\n",
      "güncel numara: 13 güncel index: 8\n",
      "güncel numara: 14 güncel index: 9\n"
     ]
    }
   ],
   "source": [
    "index = 0\n",
    "for numara in list(range(5,15)):\n",
    "    print(f\"güncel numara: {numara} güncel index: {index}\")\n",
    "    index = index + 1"
   ]
  },
  {
   "cell_type": "code",
   "execution_count": 165,
   "id": "2fa47f96",
   "metadata": {},
   "outputs": [
    {
     "name": "stdout",
     "output_type": "stream",
     "text": [
      "(0, 5)\n",
      "(1, 6)\n",
      "(2, 7)\n",
      "(3, 8)\n",
      "(4, 9)\n",
      "(5, 10)\n",
      "(6, 11)\n",
      "(7, 12)\n",
      "(8, 13)\n",
      "(9, 14)\n"
     ]
    }
   ],
   "source": [
    "for eleman in enumerate(list(range(5,15))):\n",
    "    print(eleman)"
   ]
  },
  {
   "cell_type": "code",
   "execution_count": 166,
   "id": "21745da2",
   "metadata": {},
   "outputs": [
    {
     "name": "stdout",
     "output_type": "stream",
     "text": [
      "5\n",
      "6\n",
      "7\n",
      "8\n",
      "9\n",
      "10\n",
      "11\n",
      "12\n",
      "13\n",
      "14\n"
     ]
    }
   ],
   "source": [
    "for (index,numara) in enumerate(list(range(5,15))):\n",
    "    print(numara)"
   ]
  },
  {
   "cell_type": "markdown",
   "id": "5112ac90",
   "metadata": {},
   "source": [
    "### max\n",
    "`max` fonksiyonu bir sıralı nesne veya bir dizi parametre alır, aralarından en büyük değerli olanını geri verir."
   ]
  },
  {
   "cell_type": "code",
   "execution_count": 167,
   "id": "39a664b2",
   "metadata": {},
   "outputs": [
    {
     "data": {
      "text/plain": [
       "8"
      ]
     },
     "execution_count": 167,
     "metadata": {},
     "output_type": "execute_result"
    }
   ],
   "source": [
    "max(4,2,8,3,1,7)"
   ]
  },
  {
   "cell_type": "code",
   "execution_count": 168,
   "id": "7b209e94",
   "metadata": {},
   "outputs": [
    {
     "data": {
      "text/plain": [
       "8"
      ]
     },
     "execution_count": 168,
     "metadata": {},
     "output_type": "execute_result"
    }
   ],
   "source": [
    "L = [4,2,8,3,1,7]\n",
    "max(L)"
   ]
  },
  {
   "cell_type": "markdown",
   "id": "b3d07785",
   "metadata": {},
   "source": [
    "Dizelerden oluşan bir sıralı nesne verildiğinde max alfabetik sırada en ileride olanını döndürür."
   ]
  },
  {
   "cell_type": "code",
   "execution_count": 169,
   "id": "344a6538",
   "metadata": {},
   "outputs": [
    {
     "data": {
      "text/plain": [
       "'zxy'"
      ]
     },
     "execution_count": 169,
     "metadata": {},
     "output_type": "execute_result"
    }
   ],
   "source": [
    "max([\"dfg\",\"zxy\",\"abc\"])"
   ]
  },
  {
   "cell_type": "code",
   "execution_count": 170,
   "id": "fb84a923",
   "metadata": {},
   "outputs": [
    {
     "data": {
      "text/plain": [
       "'r'"
      ]
     },
     "execution_count": 170,
     "metadata": {},
     "output_type": "execute_result"
    }
   ],
   "source": [
    "max(\"merhaba\")"
   ]
  },
  {
   "cell_type": "markdown",
   "id": "be222f05",
   "metadata": {},
   "source": [
    "key parametresi ile her elemana önceden uygulanacak bir fonksiyon belirleyebilirsiniz ve maksimum bu fonksiyonun sonucuna göre tespit edilir. Söz gelişi, mutlak değer olarak en büyük elemanı bulmak için key=abs verebilirsiniz."
   ]
  },
  {
   "cell_type": "code",
   "execution_count": 171,
   "id": "05a688f1",
   "metadata": {},
   "outputs": [
    {
     "data": {
      "text/plain": [
       "-5"
      ]
     },
     "execution_count": 171,
     "metadata": {},
     "output_type": "execute_result"
    }
   ],
   "source": [
    "L = [-1,-3, 4, -5, 2] # abs = mutlak değer\n",
    "max(L, key=abs)  # Burada her her elemanın mutlak değerini alıp olan göre maksimum değeri bulmasını istedik."
   ]
  },
  {
   "cell_type": "markdown",
   "id": "e3b7721f",
   "metadata": {},
   "source": [
    "### min\n",
    "min fonksiyonu verilen bir dizinin içinde, veya parametreler içinde en küçük olanını döndürür. Kullanımı max ile aynıdır."
   ]
  },
  {
   "cell_type": "code",
   "execution_count": 172,
   "id": "04437695",
   "metadata": {},
   "outputs": [
    {
     "data": {
      "text/plain": [
       "-1"
      ]
     },
     "execution_count": 172,
     "metadata": {},
     "output_type": "execute_result"
    }
   ],
   "source": [
    "L = [-1,-3, 4, -5, 2]\n",
    "min(L, key=abs)"
   ]
  },
  {
   "cell_type": "code",
   "execution_count": 173,
   "id": "860eeb12",
   "metadata": {},
   "outputs": [
    {
     "data": {
      "text/plain": [
       "'a'"
      ]
     },
     "execution_count": 173,
     "metadata": {},
     "output_type": "execute_result"
    }
   ],
   "source": [
    "min(\"merhaba\")"
   ]
  },
  {
   "cell_type": "markdown",
   "id": "389eb454",
   "metadata": {},
   "source": [
    "### sum\n",
    "\n",
    "Bir sıralı nesnenin elemanlarının toplamını verir. Elemanlar sayısal değere sahip olmalıdır."
   ]
  },
  {
   "cell_type": "code",
   "execution_count": 174,
   "id": "2a741911",
   "metadata": {},
   "outputs": [
    {
     "data": {
      "text/plain": [
       "10"
      ]
     },
     "execution_count": 174,
     "metadata": {},
     "output_type": "execute_result"
    }
   ],
   "source": [
    "sum([1,2,3,4])"
   ]
  },
  {
   "cell_type": "code",
   "execution_count": 175,
   "id": "8f06a3e1",
   "metadata": {},
   "outputs": [
    {
     "data": {
      "text/plain": [
       "499500"
      ]
     },
     "execution_count": 175,
     "metadata": {},
     "output_type": "execute_result"
    }
   ],
   "source": [
    "sum(range(1,1000)) # 1'den başlayarak 999' a kadar olan bütüm sayıların toplamını verdi."
   ]
  },
  {
   "cell_type": "markdown",
   "id": "d2b4daf2",
   "metadata": {},
   "source": [
    "### zip\n",
    "\n",
    "Aynı uzunlukta iki veya daha çok listenin aynı konumdaki elemanlarını sırayla alır, bu elemanlardan çokuzlar oluşturur ve bu çokuzların listesini verir."
   ]
  },
  {
   "cell_type": "code",
   "execution_count": 176,
   "id": "39504ba7",
   "metadata": {},
   "outputs": [
    {
     "data": {
      "text/plain": [
       "[(4, 'a'), (5, 'b'), (9, 'c')]"
      ]
     },
     "execution_count": 176,
     "metadata": {},
     "output_type": "execute_result"
    }
   ],
   "source": [
    "L1 = [4, 5, 9]\n",
    "L2 = ['a', 'b', 'c']\n",
    "list(zip(L1, L2))"
   ]
  },
  {
   "cell_type": "markdown",
   "id": "7c3d2b1d",
   "metadata": {},
   "source": [
    "`zip` ile farklı verileri birleştirerek bir for döngüsünde işlemek mümkün olur. Tıpkı `enumerate` gibi zip de bizi elemanları bir sayaç değişkeniyle takip etme mecburiyetinden kurtarır. "
   ]
  },
  {
   "cell_type": "code",
   "execution_count": 177,
   "id": "5fa628c5",
   "metadata": {},
   "outputs": [
    {
     "name": "stdout",
     "output_type": "stream",
     "text": [
      "Yaş: 19 Boy: 170 Ağırlık: 75\n",
      "Yaş: 25 Boy: 180 Ağırlık: 78\n",
      "Yaş: 32 Boy: 175 Ağırlık: 81\n",
      "Yaş: 27 Boy: 169 Ağırlık: 71\n"
     ]
    }
   ],
   "source": [
    "yaşlar = [19, 25, 32, 27]\n",
    "boylar = [170, 180, 175, 169]\n",
    "ağırlık = [75, 78, 81, 71]\n",
    "for y, b, a in zip(yaşlar, boylar, ağırlık):\n",
    "    print(\"Yaş:\", y,\"Boy:\", b, \"Ağırlık:\", a)"
   ]
  },
  {
   "cell_type": "markdown",
   "id": "e56fa8da",
   "metadata": {},
   "source": [
    "### Hataya dikkat: Nesne içi değişiklik yapan metodlar\n",
    "Yukarıda gördüğümüz sort ve reverse gibi metodlar, bağlı oldukları listenin verisini doğrudan doğruya değiştirirler. Buna nesne içi (in place) değiştirme denir. Geriye döndürdükleri bir değer yoktur.\n",
    "\n",
    "Yukarıda gördüğümüz sort ve reverse gibi metodlar, bağlı oldukları listenin verisini doğrudan doğruya değiştirirler. Buna nesne içi (in place) değiştirme denir. Geriye döndürdükleri bir değer yoktur."
   ]
  },
  {
   "cell_type": "code",
   "execution_count": 178,
   "id": "3224a4ca",
   "metadata": {},
   "outputs": [
    {
     "name": "stdout",
     "output_type": "stream",
     "text": [
      "None\n"
     ]
    }
   ],
   "source": [
    "benimListem=[30, 10, 40, 30, 20, 10]\n",
    "print(benimListem.sort())"
   ]
  },
  {
   "cell_type": "markdown",
   "id": "573094b7",
   "metadata": {},
   "source": [
    "Yeni başlayan programcıların yaptıkları yaygın bir hata benimListem.sort() çağrısını bir atamanın sağ tarafında kullanmaktır."
   ]
  },
  {
   "cell_type": "code",
   "execution_count": 179,
   "id": "3833eaac",
   "metadata": {},
   "outputs": [],
   "source": [
    "L2=benimListem.sort()"
   ]
  },
  {
   "cell_type": "markdown",
   "id": "0490384a",
   "metadata": {},
   "source": [
    "Programcı burada L2'nin L'nin sıralanmış hali olduğunu ummaktadır (aslında L2 = sorted(L) yazması gerekirdi). Python bu atamayı sessizce yapar, ama aslında L2'yi bir listeye değil None değerine atamıştır."
   ]
  },
  {
   "cell_type": "code",
   "execution_count": 180,
   "id": "4bf5c5b0",
   "metadata": {},
   "outputs": [
    {
     "data": {
      "text/plain": [
       "True"
      ]
     },
     "execution_count": 180,
     "metadata": {},
     "output_type": "execute_result"
    }
   ],
   "source": [
    "L2 is None"
   ]
  },
  {
   "cell_type": "markdown",
   "id": "aca9a8e5",
   "metadata": {},
   "source": [
    "Programın içinde daha sonra L2'yi kullanmak isteyen programcı şaşırtıcı hata mesajlarıyla karşılaşabilir."
   ]
  },
  {
   "cell_type": "code",
   "execution_count": 181,
   "id": "e60456a6",
   "metadata": {},
   "outputs": [
    {
     "ename": "TypeError",
     "evalue": "'NoneType' object is not subscriptable",
     "output_type": "error",
     "traceback": [
      "\u001b[1;31m---------------------------------------------------------------------------\u001b[0m",
      "\u001b[1;31mTypeError\u001b[0m                                 Traceback (most recent call last)",
      "Cell \u001b[1;32mIn[181], line 1\u001b[0m\n\u001b[1;32m----> 1\u001b[0m L2[\u001b[38;5;241m0\u001b[39m]\n",
      "\u001b[1;31mTypeError\u001b[0m: 'NoneType' object is not subscriptable"
     ]
    }
   ],
   "source": [
    "L2[0]"
   ]
  },
  {
   "cell_type": "markdown",
   "id": "b305c99b",
   "metadata": {},
   "source": [
    "## Format = Biçimlendirme"
   ]
  },
  {
   "cell_type": "markdown",
   "id": "0e60d18a",
   "metadata": {},
   "source": [
    "\n",
    "Birçok durumda bir değişkende barındırılan bir değeri uygun bir biçimde düzenleyerek ekrana basmamız gerekir. Bu düzenlemeler ve biçimlendirmeler örneğin şöyle olabilirler:\n",
    "* Bir kalıp dize içindeki boşlukları doldurmak, `İsim:...., Yaş:....` gibi.\n",
    "* Sayıları ondalıktan sonra sabit sayıda basamakla vermek: `9.340, -18.731` gibi.\n",
    "* Sayıları sıfırlarla doldurmak: `099.45, 001.12` gibi.\n",
    "* Tablo halinde basılan listeleri hizalı olarak, belli boşluklar ayırarak basmak.\n",
    "* Tablo içeriklerini sağa veya sola yaslamak, ortalamak.\n",
    "\n",
    "Bu tür düzenlemeler için Python'da kapsamlı bir mini-dil mevcut. Bu tür düzenlemeler, `format()` metoduyla beraber şu şekilde kullanılır:\n",
    "\n",
    "    \"<kalıp dizesi>\".format(<değerler>)\n",
    "\n",
    "Dize biçimlendirmenin bütün ayrıntıları için [Python belgelerine](https://docs.python.org/3/library/string.html#formatstrings) bakabilirsiniz.\n",
    "    \n",
    "Konumla yerleştirme ve isimle yerleştirme\n",
    "------------------------\n",
    "En basit kullanımda, `format()`'a verilen değerler, kalıp dizesinin içinde küme parantezleri (`{}`) ile bırakılan boşluklara sırayla yerleştirilir."
   ]
  },
  {
   "cell_type": "code",
   "execution_count": 182,
   "id": "c5b021be",
   "metadata": {},
   "outputs": [
    {
     "data": {
      "text/plain": [
       "'İsim: Kaan, Telefon: 5555, Boy: 1.8 m'"
      ]
     },
     "execution_count": 182,
     "metadata": {},
     "output_type": "execute_result"
    }
   ],
   "source": [
    "\"İsim: {}, Telefon: {}, Boy: {} m\".format(\"Kaan\", \"5555\", 1.80)"
   ]
  },
  {
   "cell_type": "markdown",
   "id": "760e103c",
   "metadata": {},
   "source": [
    "Yukarıdaki örnekte birinci boşluğa birinci değer (`\"Kaan\"`), ikinci boşluğa ikinci değer (`\"5555\"`), üçüncü boşluğa da üçüncü değer (1.80) yerleştirildi. Bu sırayı değiştirmek için, küme parantezlerinin içine arzu ettiğimiz konum numaralarını koyabiliriz."
   ]
  },
  {
   "cell_type": "code",
   "execution_count": 183,
   "id": "5d27d038",
   "metadata": {},
   "outputs": [
    {
     "data": {
      "text/plain": [
       "'İsim: Kaan, Boy: 1.8 m, Telefon: 5555'"
      ]
     },
     "execution_count": 183,
     "metadata": {},
     "output_type": "execute_result"
    }
   ],
   "source": [
    "\"İsim: {0}, Boy: {2} m, Telefon: {1}\".format(\"Kaan\", \"5555\", 1.80)"
   ]
  },
  {
   "cell_type": "markdown",
   "id": "649a78c0",
   "metadata": {},
   "source": [
    "Başka bir yol da, yer tutuculara isim vermek ve `format()`'a bu isimlerle parametreler vermektir."
   ]
  },
  {
   "cell_type": "code",
   "execution_count": 184,
   "id": "c4c7a24d",
   "metadata": {},
   "outputs": [
    {
     "data": {
      "text/plain": [
       "'Alıcı Adı: Fatma, Yaşı: 32, Şehir: Tekirdağ'"
      ]
     },
     "execution_count": 184,
     "metadata": {},
     "output_type": "execute_result"
    }
   ],
   "source": [
    "\"Alıcı Adı: {isim}, Yaşı: {yaş}, Şehir: {şehir}\".format(yaş=32, isim=\"Fatma\", şehir=\"Tekirdağ\")"
   ]
  },
  {
   "cell_type": "markdown",
   "id": "93427412",
   "metadata": {},
   "source": [
    "Örneklerden gördüğümüz gibi, `format()` fonksiyonu kalıp dizesindeki boşluklarla değerleri eşleştirirken, fonksiyonlardaki [parametre eşleştirme](http://www.veridefteri.com/2018/01/10/python-programlamaya-giris-fonksiyon-parametreleri/) kurallarını kullanıyor. İlk gördüğümüz örnek _konumla eşleştirmeye_ denk iken, son örneğimiz _isimle eşleştirme_ yapıyor.\n",
    "\n",
    "Bu sebepten, fonksiyon çağrılarındaki _parametre çözme_ kuralları da aynen uygulanabilir. Mesela:"
   ]
  },
  {
   "cell_type": "code",
   "execution_count": 185,
   "id": "def690cd",
   "metadata": {},
   "outputs": [
    {
     "data": {
      "text/plain": [
       "'İsim: Kaan, Telefon: 5555, Boy: 1.8 m'"
      ]
     },
     "execution_count": 185,
     "metadata": {},
     "output_type": "execute_result"
    }
   ],
   "source": [
    "p = (\"Kaan\",\"5555\",1.80)\n",
    "\"İsim: {}, Telefon: {}, Boy: {} m\".format(*p)"
   ]
  },
  {
   "cell_type": "markdown",
   "id": "41f31188",
   "metadata": {},
   "source": [
    "`format()`'a verilen parametre bir liste veya sözlük ise, kalıp dizesinde indeksleme uygulanabilir."
   ]
  },
  {
   "cell_type": "code",
   "execution_count": 186,
   "id": "89c9803c",
   "metadata": {},
   "outputs": [
    {
     "data": {
      "text/plain": [
       "'İlk eleman: 3, son eleman: 9'"
      ]
     },
     "execution_count": 186,
     "metadata": {},
     "output_type": "execute_result"
    }
   ],
   "source": [
    "listem = [3,6,7,9]\n",
    "\"İlk eleman: {0[0]}, son eleman: {0[3]}\".format(listem)"
   ]
  },
  {
   "cell_type": "code",
   "execution_count": 187,
   "id": "bf4fac05",
   "metadata": {},
   "outputs": [
    {
     "data": {
      "text/plain": [
       "'İsim: Kaan, Tel: 5555, Boy: 1.8'"
      ]
     },
     "execution_count": 187,
     "metadata": {},
     "output_type": "execute_result"
    }
   ],
   "source": [
    "kayıt = {\"isim\":\"Kaan\", \"boy\":1.80, \"telefon\":\"5555\"}\n",
    "\"İsim: {D[isim]}, Tel: {D[telefon]}, Boy: {D[boy]}\".format(D=kayıt)"
   ]
  },
  {
   "cell_type": "markdown",
   "id": "d328cc7f",
   "metadata": {},
   "source": [
    "Sayı biçimlendirme\n",
    "------------------\n",
    "Yer tutucu içine bir sayı koyacağımız zaman, tamsayılarda `{:d}`, ondalıklı sayılarda ise `{:f}` kodlarını kullanırız."
   ]
  },
  {
   "cell_type": "code",
   "execution_count": 188,
   "id": "8f5833bc",
   "metadata": {},
   "outputs": [
    {
     "data": {
      "text/plain": [
       "'Yaş: 42, Boy: 1.760000'"
      ]
     },
     "execution_count": 188,
     "metadata": {},
     "output_type": "execute_result"
    }
   ],
   "source": [
    "\"Yaş: {:d}, Boy: {:f}\".format(42, 1.76) "
   ]
  },
  {
   "cell_type": "markdown",
   "id": "675d2649",
   "metadata": {},
   "source": [
    "Belli miktarda, söz gelişi 5 karakterlik yer ayırmak için `{:5d}` yazımını kullanabiliriz. Ondalıklı sayılar için `{:5.2f}` yazımı, noktadan sonra 2 basamak olmak üzere en az 5 karakterlik yer ayrılmasını sağlar (ondalık noktası dahil). Türkçeye uygun olarak virgüllerle ayırma yöntemi için bir sonraki bölüme bakın."
   ]
  },
  {
   "cell_type": "code",
   "execution_count": 189,
   "id": "9818584c",
   "metadata": {},
   "outputs": [
    {
     "data": {
      "text/plain": [
       "'Yaş:    42, Boy: 1.760'"
      ]
     },
     "execution_count": 189,
     "metadata": {},
     "output_type": "execute_result"
    }
   ],
   "source": [
    "\"Yaş: {:5d}, Boy: {:5.3f}\".format(42, 1.76) "
   ]
  },
  {
   "cell_type": "markdown",
   "id": "1f7dd00e",
   "metadata": {},
   "source": [
    "Ayırdığımız alanda, sayının değerini değiştirmeden boşlukların sıfırlarla doldurulmasını istiyorsak `{:05d}` veya `{05.3f}` gibi yazımlar kullanırız."
   ]
  },
  {
   "cell_type": "code",
   "execution_count": 190,
   "id": "6032cbdc",
   "metadata": {},
   "outputs": [
    {
     "data": {
      "text/plain": [
       "'Yaş: 00042, Boy: 01.760'"
      ]
     },
     "execution_count": 190,
     "metadata": {},
     "output_type": "execute_result"
    }
   ],
   "source": [
    "\"Yaş: {:05d}, Boy: {:06.3f}\".format(42, 1.76) "
   ]
  },
  {
   "cell_type": "markdown",
   "id": "e8168e15",
   "metadata": {},
   "source": [
    "Negatif sayıların başına her zaman eksi gelir; pozitif sayıların da her zaman artı ile başlaması için `{:+d}` yazımını kullanırız."
   ]
  },
  {
   "cell_type": "code",
   "execution_count": 191,
   "id": "d03732cd",
   "metadata": {},
   "outputs": [
    {
     "data": {
      "text/plain": [
       "'+42, -45'"
      ]
     },
     "execution_count": 191,
     "metadata": {},
     "output_type": "execute_result"
    }
   ],
   "source": [
    "\"{:+d}, {:+d}\".format(42, -45)"
   ]
  },
  {
   "cell_type": "markdown",
   "id": "292a3c98",
   "metadata": {},
   "source": [
    "Bir sayıyı ikili, sekizli, onaltılı tabanda göstermek için sırasıyla `b`, `o`, `x` kullanırız."
   ]
  },
  {
   "cell_type": "code",
   "execution_count": 192,
   "id": "f9a2f47c",
   "metadata": {},
   "outputs": [
    {
     "name": "stdout",
     "output_type": "stream",
     "text": [
      "Onluk tabanda 42\n",
      "İkili tabanda 101010\n",
      "Sekizli tabanda 52\n",
      "Onaltılı tabanda 2a\n"
     ]
    }
   ],
   "source": [
    "print(\"Onluk tabanda {:d}\\nİkili tabanda {:b}\\nSekizli tabanda {:o}\\nOnaltılı tabanda {:x}\".format(42,42,42,42))"
   ]
  },
  {
   "cell_type": "markdown",
   "id": "bdf867e8",
   "metadata": {},
   "source": [
    "Ondalıklı sayıları göstermek için şu kodlar kullanılabilir:\n",
    "* `{:f}` veya `{:F}` (fixed): Ondalıktan sonra sabit sayıda basamak (varsayılan 6).\n",
    "* `{:e}` veya `{:E}` (exponential): Sayıyı bilimsel notasyonda gösterir; üsteli `\"e\"` veya `\"E\"` harfinden sonra koyar.\n",
    "* `{:g}` veya `{:G}` (genel): Yerine göre `f` veya `e`. Belirli bir basamak sayısını (varsayılan 6) verecek şekilde yuvarlar; sayının büyüklüğüne göre `f` veya `e` biçimine getirir.\n",
    "* `{:%}`: Sayıyı 100 ile çarpar ve sonuna yüzde işareti koyar."
   ]
  },
  {
   "cell_type": "code",
   "execution_count": 193,
   "id": "76fe2509",
   "metadata": {},
   "outputs": [
    {
     "name": "stdout",
     "output_type": "stream",
     "text": [
      "Sabit biçim: 12345.678900, 12345.678900\n",
      "Üstel biçim: 1.234568e+04, 1.234568E+04\n",
      "Genel biçim: 12345.7, 12345.7\n"
     ]
    }
   ],
   "source": [
    "x = 12345.6789\n",
    "print(\"Sabit biçim: {:f}, {:F}\".format(x,x))\n",
    "print(\"Üstel biçim: {:e}, {:E}\".format(x,x))\n",
    "print(\"Genel biçim: {:g}, {:G}\".format(x,x))"
   ]
  },
  {
   "cell_type": "code",
   "execution_count": 194,
   "id": "e4f32fb6",
   "metadata": {},
   "outputs": [
    {
     "name": "stdout",
     "output_type": "stream",
     "text": [
      "Sabit biçim: 12345.68, 12345.6789\n",
      "Üstel biçim: 1.235e+04, 1.2346E+04\n",
      "Genel biçim: 12345.6789, 1.2E+04\n"
     ]
    }
   ],
   "source": [
    "x = 12345.6789\n",
    "print(\"Sabit biçim: {:4.2f}, {:4.4F}\".format(x,x))\n",
    "print(\"Üstel biçim: {:1.3e}, {:1.4E}\".format(x,x))\n",
    "print(\"Genel biçim: {:.10g}, {:.2G}\".format(x,x))"
   ]
  },
  {
   "cell_type": "markdown",
   "id": "e4d0fd80",
   "metadata": {},
   "source": [
    "Yüzdeleri gösterirken `%` kodunu kullanabiliriz."
   ]
  },
  {
   "cell_type": "code",
   "execution_count": 195,
   "id": "423b4078",
   "metadata": {},
   "outputs": [
    {
     "data": {
      "text/plain": [
       "'Başarı oranı 23.27%'"
      ]
     },
     "execution_count": 195,
     "metadata": {},
     "output_type": "execute_result"
    }
   ],
   "source": [
    "geçen = 57\n",
    "başvuran = 245\n",
    "\"Başarı oranı {:.2%}\".format(geçen/başvuran)"
   ]
  },
  {
   "cell_type": "markdown",
   "id": "2e6e5297",
   "metadata": {},
   "source": [
    "Sayıları Türk standartlarında biçimlendirmek\n",
    "-----------------\n",
    "Yukarıdaki örneklerde, Amerikan standardına uygun olarak, sayı grupları virgülle ayrıldı ve ondalık için nokta kullanıldı. Oysa Türkiye'deki sayı yazma standartlarında sayı grupları noktayla ayrılır, ondalık için ise virgül kullanılır. Türk standartlarına uygun biçimlendirme yapmak için biraz dolaylı bir yoldan gidip, yerelleştirme işlemleri için kullanılan `locale` kütüphanesini kullanmamız gerekir."
   ]
  },
  {
   "cell_type": "code",
   "execution_count": 196,
   "id": "ceaebad9",
   "metadata": {},
   "outputs": [
    {
     "data": {
      "text/plain": [
       "'tr_TR.UTF-8'"
      ]
     },
     "execution_count": 196,
     "metadata": {},
     "output_type": "execute_result"
    }
   ],
   "source": [
    "import locale\n",
    "loc = locale.getlocale()\n",
    "locale.setlocale(locale.LC_ALL,\"tr_TR.UTF-8\")"
   ]
  },
  {
   "cell_type": "markdown",
   "id": "df9bd3b6",
   "metadata": {},
   "source": [
    "Yerelleştirme ayarlarını yapsak da, bu ayarlar `str.format` metodunu etkilemeyecektir. Bunun yerine, `locale.format` fonksiyonunu kullanmalıyız. Bu fonksiyonun dize biçimleme sintaksı [eski usül](https://docs.python.org/2/library/stdtypes.html#string-formatting) olarak bilinir. Basit bir örnek olarak:"
   ]
  },
  {
   "cell_type": "code",
   "execution_count": 197,
   "id": "8319d3e1",
   "metadata": {},
   "outputs": [
    {
     "name": "stderr",
     "output_type": "stream",
     "text": [
      "C:\\Users\\Administrator\\AppData\\Local\\Temp\\ipykernel_11780\\742679681.py:1: DeprecationWarning: This method will be removed in a future version of Python. Use 'locale.format_string()' instead.\n",
      "  locale.format(\"%f\", 1234567.89, grouping=True)\n"
     ]
    },
    {
     "data": {
      "text/plain": [
       "'1.234.567,890000'"
      ]
     },
     "execution_count": 197,
     "metadata": {},
     "output_type": "execute_result"
    }
   ],
   "source": [
    "locale.format(\"%f\", 1234567.89, grouping=True)"
   ]
  },
  {
   "cell_type": "markdown",
   "id": "90bcc8de",
   "metadata": {},
   "source": [
    "Şimdi de virgülden sonra 3 hane olmak üzere toplam 13 karakterlik yer ayırarak biçimlendirelim."
   ]
  },
  {
   "cell_type": "code",
   "execution_count": 198,
   "id": "4633ade3",
   "metadata": {},
   "outputs": [
    {
     "name": "stderr",
     "output_type": "stream",
     "text": [
      "C:\\Users\\Administrator\\AppData\\Local\\Temp\\ipykernel_11780\\3145349833.py:1: DeprecationWarning: This method will be removed in a future version of Python. Use 'locale.format_string()' instead.\n",
      "  locale.format(\"%013.3f\", 1234567.89, grouping=True)\n"
     ]
    },
    {
     "data": {
      "text/plain": [
       "'001.234.567,890'"
      ]
     },
     "execution_count": 198,
     "metadata": {},
     "output_type": "execute_result"
    }
   ],
   "source": [
    "locale.format(\"%013.3f\", 1234567.89, grouping=True)"
   ]
  },
  {
   "cell_type": "markdown",
   "id": "629a4d6d",
   "metadata": {},
   "source": [
    "Nesne içi değişkenleri kullanmak\n",
    "---------\n",
    "Nesnelerin iç değişkenleri (\"attributes\") kalıp dizede kullanılabilir. Örneğin, karmaşık sayıların gerçek kısımları `real`, sanal kısımları `imag` isimli iç değişkenlerde saklanır."
   ]
  },
  {
   "cell_type": "code",
   "execution_count": 199,
   "id": "475a30a0",
   "metadata": {},
   "outputs": [
    {
     "data": {
      "text/plain": [
       "(8.0, 2.0)"
      ]
     },
     "execution_count": 199,
     "metadata": {},
     "output_type": "execute_result"
    }
   ],
   "source": [
    "z = 3+2j+5\n",
    "z.real, z.imag # real sayı 3+5 = 8 dir. Sanal kısım ise 2j den gelir."
   ]
  },
  {
   "cell_type": "markdown",
   "id": "12e05596",
   "metadata": {},
   "source": [
    "Dize biçimlendirmede bu iç değişkenlerin isimlerini doğrudan kullanabiliriz."
   ]
  },
  {
   "cell_type": "code",
   "execution_count": 200,
   "id": "9d82e682",
   "metadata": {},
   "outputs": [
    {
     "data": {
      "text/plain": [
       "'Gerçek kısım 8.0, sanal kısım 2.0'"
      ]
     },
     "execution_count": 200,
     "metadata": {},
     "output_type": "execute_result"
    }
   ],
   "source": [
    "\"Gerçek kısım {0.real}, sanal kısım {0.imag}\".format(3+2j+5)"
   ]
  },
  {
   "cell_type": "markdown",
   "id": "bcffc7b7",
   "metadata": {},
   "source": [
    "## Küme Metodları"
   ]
  },
  {
   "cell_type": "markdown",
   "id": "d8e64f06",
   "metadata": {},
   "source": [
    "\n",
    "\n",
    "Bir küme, listelerden farklı olarak, belli bir sırası bulunmayan bir veri topluluğudur; yani elemanlarına indeksleme ile erişilemez. Ayrıca, matematiksel kümeler gibi, aynı elemandan birden fazla barındıramaz. Python'da bir küme yaratmanın birinci yolu, nesneleri küme parantezinde toplayarak vermektir:"
   ]
  },
  {
   "cell_type": "code",
   "execution_count": 201,
   "id": "f1a3688b",
   "metadata": {},
   "outputs": [
    {
     "data": {
      "text/plain": [
       "{(1, 2, 3), -1, 123, 'abc'}"
      ]
     },
     "execution_count": 201,
     "metadata": {},
     "output_type": "execute_result"
    }
   ],
   "source": [
    "s = {(1,2,3),\"abc\",123,-1,\"abc\",(1,2,3)}\n",
    "s"
   ]
  },
  {
   "cell_type": "markdown",
   "id": "dc4abef6",
   "metadata": {},
   "source": [
    "İkinci yolu ise, `set()` fonksiyonuna bir sıralı nesne vermektir:"
   ]
  },
  {
   "cell_type": "code",
   "execution_count": 202,
   "id": "a96afb30",
   "metadata": {},
   "outputs": [
    {
     "data": {
      "text/plain": [
       "{-2, 1, 3, 'abc'}"
      ]
     },
     "execution_count": 202,
     "metadata": {},
     "output_type": "execute_result"
    }
   ],
   "source": [
    "set([1,3,1,-2,\"abc\", \"abc\"])"
   ]
  },
  {
   "cell_type": "markdown",
   "id": "61ecdea7",
   "metadata": {},
   "source": [
    "Bir dize de karakterlerden oluşan bir sıralı nesnedir, bu yüzden `set()` fonksiyonu ile dizenin karakterlerinin kümesini elde ederiz."
   ]
  },
  {
   "cell_type": "code",
   "execution_count": 203,
   "id": "fce2a9e4",
   "metadata": {},
   "outputs": [
    {
     "data": {
      "text/plain": [
       "{'a', 'n', 's'}"
      ]
     },
     "execution_count": 203,
     "metadata": {},
     "output_type": "execute_result"
    }
   ],
   "source": [
    "set(\"ananas\")"
   ]
  },
  {
   "cell_type": "markdown",
   "id": "a2ba3e73",
   "metadata": {},
   "source": [
    "Örneklerden de gördüğünüz gibi kümelerde, matematiksel tanıma uygun olarak, bir eleman sadece bir kere mevcut olabilir. Orijinal sıralı nesnede mükerrer eleman varsa alınmaz.\n",
    "\n",
    "Python'da bir liste, bir kümenin elemanı olamaz. Denemeye kalkarsanız hata mesajı alırsınız."
   ]
  },
  {
   "cell_type": "code",
   "execution_count": 204,
   "id": "1021c019",
   "metadata": {},
   "outputs": [
    {
     "ename": "TypeError",
     "evalue": "unhashable type: 'list'",
     "output_type": "error",
     "traceback": [
      "\u001b[1;31m---------------------------------------------------------------------------\u001b[0m",
      "\u001b[1;31mTypeError\u001b[0m                                 Traceback (most recent call last)",
      "Cell \u001b[1;32mIn[204], line 1\u001b[0m\n\u001b[1;32m----> 1\u001b[0m {\u001b[38;5;241m1\u001b[39m,\u001b[38;5;241m2\u001b[39m, [\u001b[38;5;241m1\u001b[39m,\u001b[38;5;241m2\u001b[39m,\u001b[38;5;241m3\u001b[39m]}\n",
      "\u001b[1;31mTypeError\u001b[0m: unhashable type: 'list'"
     ]
    }
   ],
   "source": [
    "{1,2, [1,2,3]}"
   ]
  },
  {
   "cell_type": "markdown",
   "id": "3e61d3eb",
   "metadata": {},
   "source": [
    "Bir kümedeki elemanların _hashable_ olabilmesi, yani bir hash fonksiyonuna verilebilmesi gerekir. Bu da genellikle değiştirilemez (immutable) veri tipleri olmalarını gerektirir. Sayılar, çokuzlar, dizeler küme elemanı olmaya uygundurlar. Buna karşılık listeler, sözlükler ve kümeler, küme elemanı olamazlar (evet, matematiksel tanımda kümeler başka kümelerin elemanı olabilir, ama Python'da teknik sebeplerle bu mümkün olmaz)."
   ]
  },
  {
   "cell_type": "markdown",
   "id": "513943df",
   "metadata": {},
   "source": [
    "Boş küme için `set()` fonksiyonu tek başına kullanılmalıdır. Boş küme parantezleri `{}` kullanmak boş bir sözlük oluşturur, küme değil."
   ]
  },
  {
   "cell_type": "code",
   "execution_count": 205,
   "id": "8b20f322",
   "metadata": {},
   "outputs": [
    {
     "data": {
      "text/plain": [
       "(set, dict)"
      ]
     },
     "execution_count": 205,
     "metadata": {},
     "output_type": "execute_result"
    }
   ],
   "source": [
    "type(set()), type({})"
   ]
  },
  {
   "cell_type": "markdown",
   "id": "ffb616e4",
   "metadata": {},
   "source": [
    "Bir kümenin kaç elemanlı olduğunu bulmak için `len()` fonksiyonu kullanılabilir."
   ]
  },
  {
   "cell_type": "code",
   "execution_count": 206,
   "id": "91702fb2",
   "metadata": {},
   "outputs": [
    {
     "data": {
      "text/plain": [
       "3"
      ]
     },
     "execution_count": 206,
     "metadata": {},
     "output_type": "execute_result"
    }
   ],
   "source": [
    "s = {1,3,1,2,1,3,2}\n",
    "len(s)"
   ]
  },
  {
   "cell_type": "markdown",
   "id": "d464c313",
   "metadata": {},
   "source": [
    "Bir elemanın kümenin içinde olup olmadığını sorgulamak için `e in s` kullanılabilir. Ters şart olarak da `e not in s` kullanılabilir."
   ]
  },
  {
   "cell_type": "code",
   "execution_count": 207,
   "id": "8ee42d6e",
   "metadata": {},
   "outputs": [
    {
     "data": {
      "text/plain": [
       "(True, False, True)"
      ]
     },
     "execution_count": 207,
     "metadata": {},
     "output_type": "execute_result"
    }
   ],
   "source": [
    "1 in s, 4 in s, 4 not in s"
   ]
  },
  {
   "cell_type": "markdown",
   "id": "93d9caae",
   "metadata": {},
   "source": [
    "Küme karşılaştırmaları\n",
    "---\n",
    "Küme nesneleri `==`, `<`, `>` gibi karşılaştırma işlemlerini yeniden tanımlayarak küme teorisine uyumlu hale getirirler. Söz gelişi `A <= B` şartı, A kümesi B kümesinin bir alt kümesi ise doğrudur."
   ]
  },
  {
   "cell_type": "code",
   "execution_count": 208,
   "id": "50c06cfd",
   "metadata": {},
   "outputs": [],
   "source": [
    "Avrupa = {\"Almanya\",\"Fransa\",\"İspanya\",\"Portekiz\",\"Rusya\",\"Türkiye\"}\n",
    "Asya = {\"Rusya\",\"Türkiye\",\"Çin\",\"Hindistan\"}\n",
    "İberya = {\"İspanya\",\"Portekiz\"}"
   ]
  },
  {
   "cell_type": "markdown",
   "id": "fe6474ef",
   "metadata": {},
   "source": [
    "Eşitlik (`==`) ve eşitdeğil (`!=`) işlemleri iki kümenin eşit olup olmadığını test eder."
   ]
  },
  {
   "cell_type": "code",
   "execution_count": 209,
   "id": "f9dddee9",
   "metadata": {},
   "outputs": [
    {
     "data": {
      "text/plain": [
       "(True, True)"
      ]
     },
     "execution_count": 209,
     "metadata": {},
     "output_type": "execute_result"
    }
   ],
   "source": [
    "Avrupa == Avrupa, Avrupa != Asya"
   ]
  },
  {
   "cell_type": "markdown",
   "id": "14970531",
   "metadata": {},
   "source": [
    "Alt küme testi için `<=` işlemi, öz alt küme testi için `<` işlemi kullanılabilir."
   ]
  },
  {
   "cell_type": "code",
   "execution_count": 210,
   "id": "fe8bf62b",
   "metadata": {},
   "outputs": [
    {
     "data": {
      "text/plain": [
       "(True, False, True)"
      ]
     },
     "execution_count": 210,
     "metadata": {},
     "output_type": "execute_result"
    }
   ],
   "source": [
    "İberya < Avrupa, Asya < Asya, Asya <= Asya"
   ]
  },
  {
   "cell_type": "markdown",
   "id": "63ad307f",
   "metadata": {},
   "source": [
    "Kapsama işlemi için `>` ve `>=` işlemleri kullanılır."
   ]
  },
  {
   "cell_type": "code",
   "execution_count": 211,
   "id": "ab78fdde",
   "metadata": {},
   "outputs": [
    {
     "data": {
      "text/plain": [
       "(True, False, True)"
      ]
     },
     "execution_count": 211,
     "metadata": {},
     "output_type": "execute_result"
    }
   ],
   "source": [
    "Avrupa > İberya, Asya > Asya, Asya >= Asya"
   ]
  },
  {
   "cell_type": "markdown",
   "id": "273ba0ec",
   "metadata": {},
   "source": [
    "Bileşim, kesişim, fark, simetrik fark\n",
    "----"
   ]
  },
  {
   "cell_type": "markdown",
   "id": "2d9467c1",
   "metadata": {},
   "source": [
    "İki kümenin bileşim kümesini `|` işlemi ile elde ederiz."
   ]
  },
  {
   "cell_type": "code",
   "execution_count": 212,
   "id": "c0577f0a",
   "metadata": {},
   "outputs": [
    {
     "data": {
      "text/plain": [
       "{'Almanya',\n",
       " 'Fransa',\n",
       " 'Hindistan',\n",
       " 'Portekiz',\n",
       " 'Rusya',\n",
       " 'Türkiye',\n",
       " 'Çin',\n",
       " 'İspanya'}"
      ]
     },
     "execution_count": 212,
     "metadata": {},
     "output_type": "execute_result"
    }
   ],
   "source": [
    "Avrupa | Asya"
   ]
  },
  {
   "cell_type": "markdown",
   "id": "99abb49a",
   "metadata": {},
   "source": [
    "Kümelerin kesişim kümesi ise `&` işlemi ile elde edilir."
   ]
  },
  {
   "cell_type": "code",
   "execution_count": 213,
   "id": "55f6b96b",
   "metadata": {},
   "outputs": [
    {
     "data": {
      "text/plain": [
       "{'Rusya', 'Türkiye'}"
      ]
     },
     "execution_count": 213,
     "metadata": {},
     "output_type": "execute_result"
    }
   ],
   "source": [
    "Avrupa & Asya"
   ]
  },
  {
   "cell_type": "markdown",
   "id": "5e70eeaf",
   "metadata": {},
   "source": [
    "Fark işlemi `A-B`, `A` kümesinde olup `B` kümesinde olmayanları verir."
   ]
  },
  {
   "cell_type": "code",
   "execution_count": 214,
   "id": "a49ee17f",
   "metadata": {},
   "outputs": [
    {
     "data": {
      "text/plain": [
       "{'Almanya', 'Fransa', 'Rusya', 'Türkiye'}"
      ]
     },
     "execution_count": 214,
     "metadata": {},
     "output_type": "execute_result"
    }
   ],
   "source": [
    "Avrupa - İberya"
   ]
  },
  {
   "cell_type": "markdown",
   "id": "1889e5f0",
   "metadata": {},
   "source": [
    "Simetrik fark `A^B` işlemi, ya `A` kümesinde ya da `B` kümesinde olan, ama ikisinde birden olmayan elemanları verir. Bu işlem `A^B == (A|B) - (A&B)` eşitliğini sağlar."
   ]
  },
  {
   "cell_type": "code",
   "execution_count": 215,
   "id": "57c6836e",
   "metadata": {},
   "outputs": [
    {
     "data": {
      "text/plain": [
       "{'Almanya', 'Fransa', 'Hindistan', 'Portekiz', 'Çin', 'İspanya'}"
      ]
     },
     "execution_count": 215,
     "metadata": {},
     "output_type": "execute_result"
    }
   ],
   "source": [
    "Avrupa ^ Asya"
   ]
  },
  {
   "cell_type": "markdown",
   "id": "243d9158",
   "metadata": {},
   "source": [
    "Donuk kümeler\n",
    "--\n",
    "Python, kümelere alternatif olarak bir de _donuk küme_ (frozen set) nesnesi sunar. İkisi arasındaki tek fark, donuk kümelerin bir kere tanımlandıktan sonra değiştirilemez (immutable) olmasıdır. Yani donuk kümeye eleman eklenip çıkarılamaz, kümede değişiklik yapılamaz. Değiştirilemezlik sayesinde donuk kümeler _hashable_ nesnelerdir. Böylece sözlüklerde anahtar olarak kullanılabilirler, veya küme elemanı olabilirler."
   ]
  },
  {
   "cell_type": "code",
   "execution_count": 216,
   "id": "d9ec790a",
   "metadata": {},
   "outputs": [
    {
     "data": {
      "text/plain": [
       "frozenset({1, 2, 'abc', frozenset({'a', 'b', 'c'})})"
      ]
     },
     "execution_count": 216,
     "metadata": {},
     "output_type": "execute_result"
    }
   ],
   "source": [
    "s = frozenset((1,2,\"abc\",frozenset(\"abc\")))\n",
    "s"
   ]
  },
  {
   "cell_type": "markdown",
   "id": "7789ff94",
   "metadata": {},
   "source": [
    "Buraya kadar gösterdiğimiz bütün işlemler, karşılaştırmalar, bileşim, kesişim ve fark işlemleri donuk kümelerde de aynen kullanılabilir. Ancak buradan sonra anlatılacak işlemler kümelerde değişiklik yapmak için kullanıldığından, sadece normal (donuk olmayan) kümeler için geçerlidirler."
   ]
  },
  {
   "cell_type": "markdown",
   "id": "64ad0e92",
   "metadata": {},
   "source": [
    "Kümelere eleman ekleme ve çıkarma\n",
    "----\n",
    "Bir kümeye tek tek eleman eklemek için `add()` metodunu kullanırız."
   ]
  },
  {
   "cell_type": "code",
   "execution_count": 217,
   "id": "167038d7",
   "metadata": {},
   "outputs": [
    {
     "data": {
      "text/plain": [
       "{1, 2, 'abc'}"
      ]
     },
     "execution_count": 217,
     "metadata": {},
     "output_type": "execute_result"
    }
   ],
   "source": [
    "s = set()\n",
    "\n",
    "s.add(1)\n",
    "s.add(\"abc\")\n",
    "s.add(2)\n",
    "s.add(1)\n",
    "\n",
    "s"
   ]
  },
  {
   "cell_type": "markdown",
   "id": "389572ef",
   "metadata": {},
   "source": [
    "Mevcut bir elemanı kümeden silmek için ise `remove()` metodu kullanılabilir."
   ]
  },
  {
   "cell_type": "code",
   "execution_count": 218,
   "id": "10621b78",
   "metadata": {},
   "outputs": [
    {
     "data": {
      "text/plain": [
       "{1, 'abc'}"
      ]
     },
     "execution_count": 218,
     "metadata": {},
     "output_type": "execute_result"
    }
   ],
   "source": [
    "s.remove(2)\n",
    "s"
   ]
  },
  {
   "cell_type": "markdown",
   "id": "b1b75da5",
   "metadata": {},
   "source": [
    "Ancak, belirtilen eleman kümede yoksa, `remove()` çağrısı bir `KeyError` hatası verir."
   ]
  },
  {
   "cell_type": "code",
   "execution_count": 219,
   "id": "f3731245",
   "metadata": {},
   "outputs": [
    {
     "ename": "KeyError",
     "evalue": "2",
     "output_type": "error",
     "traceback": [
      "\u001b[1;31m---------------------------------------------------------------------------\u001b[0m",
      "\u001b[1;31mKeyError\u001b[0m                                  Traceback (most recent call last)",
      "Cell \u001b[1;32mIn[219], line 1\u001b[0m\n\u001b[1;32m----> 1\u001b[0m s\u001b[38;5;241m.\u001b[39mremove(\u001b[38;5;241m2\u001b[39m)\n",
      "\u001b[1;31mKeyError\u001b[0m: 2"
     ]
    }
   ],
   "source": [
    "s.remove(2)"
   ]
  },
  {
   "cell_type": "markdown",
   "id": "3ebd9bf9",
   "metadata": {},
   "source": [
    "Bu hata mesajını yakalayıp ona göre bir işlem yapmanız gereken durumlar olabilir. Eğer böyle bir niyetiniz yoksa `discard()` metodunu kullanabilirsiniz. Bu işlem de bir elemanı kümeden kaldırır, ama kümede o eleman mevcut değilse hata mesajı vermez."
   ]
  },
  {
   "cell_type": "code",
   "execution_count": 220,
   "id": "ff061e25",
   "metadata": {},
   "outputs": [],
   "source": [
    "s.discard(2)"
   ]
  },
  {
   "cell_type": "markdown",
   "id": "fcc323f0",
   "metadata": {},
   "source": [
    "Bir kümedeki bütün elemanları silmek için `clear()` metodunu kullanırız."
   ]
  },
  {
   "cell_type": "code",
   "execution_count": 221,
   "id": "4741184e",
   "metadata": {},
   "outputs": [
    {
     "data": {
      "text/plain": [
       "set()"
      ]
     },
     "execution_count": 221,
     "metadata": {},
     "output_type": "execute_result"
    }
   ],
   "source": [
    "s.clear()\n",
    "s"
   ]
  },
  {
   "cell_type": "markdown",
   "id": "f7af7d33",
   "metadata": {},
   "source": [
    "Bir kümeden herhangi bir elemanı döndüren ve o elemanı kümeden çıkaran bir işlem için `pop()` metodu kullanılabilir. Kümede eleman kalmadıysa, `pop()` metodu `KeyError` hatası verir."
   ]
  },
  {
   "cell_type": "code",
   "execution_count": 222,
   "id": "563d24b4",
   "metadata": {},
   "outputs": [
    {
     "data": {
      "text/plain": [
       "(1, 'abc', (1, 2, 3))"
      ]
     },
     "execution_count": 222,
     "metadata": {},
     "output_type": "execute_result"
    }
   ],
   "source": [
    "s = {1,\"abc\",(1,2,3)}\n",
    "s.pop(), s.pop(), s.pop()"
   ]
  },
  {
   "cell_type": "code",
   "execution_count": 223,
   "id": "2d5acb39",
   "metadata": {},
   "outputs": [
    {
     "ename": "KeyError",
     "evalue": "'pop from an empty set'",
     "output_type": "error",
     "traceback": [
      "\u001b[1;31m---------------------------------------------------------------------------\u001b[0m",
      "\u001b[1;31mKeyError\u001b[0m                                  Traceback (most recent call last)",
      "Cell \u001b[1;32mIn[223], line 1\u001b[0m\n\u001b[1;32m----> 1\u001b[0m s\u001b[38;5;241m.\u001b[39mpop()\n",
      "\u001b[1;31mKeyError\u001b[0m: 'pop from an empty set'"
     ]
    }
   ],
   "source": [
    "s.pop()"
   ]
  },
  {
   "cell_type": "markdown",
   "id": "8a8a780b",
   "metadata": {},
   "source": [
    "Küme güncelleme işlemleri\n",
    "---\n",
    "Sayılarda ve listelerde `+=`, `*=` gibi güncelleme işlemleri olduğunu görmüştük. Kümelerde de, yukarıda gördüğümüz bileşim, kesişim, fark, simetrik fark işlemlerini `|=`, `&=`, `-=`, `^=` yapılarıyla güncelleme işlemi haline getirmek mümkün.\n",
    "\n",
    "Kesişim kümesi boş olmayan iki küme üretelim:"
   ]
  },
  {
   "cell_type": "code",
   "execution_count": 224,
   "id": "86a7b1ff",
   "metadata": {},
   "outputs": [
    {
     "data": {
      "text/plain": [
       "({0, 1, 2, 3, 4}, {2, 3, 4, 5, 6})"
      ]
     },
     "execution_count": 224,
     "metadata": {},
     "output_type": "execute_result"
    }
   ],
   "source": [
    "s1 = set(range(5))\n",
    "s2 = set(range(2,7))\n",
    "s1, s2"
   ]
  },
  {
   "cell_type": "markdown",
   "id": "f129b7c8",
   "metadata": {},
   "source": [
    "Şimdi `s1` kümesini `s1` ve `s2`'nin bileşim kümesi olacak şekilde güncelleyelim:"
   ]
  },
  {
   "cell_type": "code",
   "execution_count": 225,
   "id": "cc38291d",
   "metadata": {},
   "outputs": [
    {
     "data": {
      "text/plain": [
       "({0, 1, 2, 3, 4, 5, 6}, {2, 3, 4, 5, 6})"
      ]
     },
     "execution_count": 225,
     "metadata": {},
     "output_type": "execute_result"
    }
   ],
   "source": [
    "s1 |= s2  # s1 = s1 | s2 ile aynı\n",
    "s1,s2"
   ]
  },
  {
   "cell_type": "markdown",
   "id": "4b63017b",
   "metadata": {},
   "source": [
    "`s1`'i eski haline getirip, `s1` ile `s2`'nin kesişim kümeleri olacak şekilde güncelleyelim:"
   ]
  },
  {
   "cell_type": "code",
   "execution_count": 226,
   "id": "b1f0bafa",
   "metadata": {},
   "outputs": [
    {
     "data": {
      "text/plain": [
       "{2, 3, 4}"
      ]
     },
     "execution_count": 226,
     "metadata": {},
     "output_type": "execute_result"
    }
   ],
   "source": [
    "s1 = set(range(5))\n",
    "s1 &= s2  # s1 = s1 & s2 ile aynı\n",
    "s1"
   ]
  },
  {
   "cell_type": "markdown",
   "id": "aae5b49f",
   "metadata": {},
   "source": [
    "Aynısını fark ve simetrik fark işlemleriyle yapalım:"
   ]
  },
  {
   "cell_type": "code",
   "execution_count": 227,
   "id": "60278044",
   "metadata": {},
   "outputs": [
    {
     "data": {
      "text/plain": [
       "{0, 1}"
      ]
     },
     "execution_count": 227,
     "metadata": {},
     "output_type": "execute_result"
    }
   ],
   "source": [
    "s1 = set(range(5))\n",
    "s1 -= s2  # s1 = s1 - s2 ile aynı\n",
    "s1"
   ]
  },
  {
   "cell_type": "code",
   "execution_count": 228,
   "id": "af87fd7b",
   "metadata": {},
   "outputs": [
    {
     "data": {
      "text/plain": [
       "{0, 1, 5, 6}"
      ]
     },
     "execution_count": 228,
     "metadata": {},
     "output_type": "execute_result"
    }
   ],
   "source": [
    "s1 = set(range(5))\n",
    "s1 ^= s2   # s1 = s1 ^ s2 ile aynı\n",
    "s1"
   ]
  },
  {
   "cell_type": "markdown",
   "id": "e026066f",
   "metadata": {},
   "source": [
    "## Random"
   ]
  },
  {
   "cell_type": "code",
   "execution_count": 229,
   "id": "8f408e57",
   "metadata": {},
   "outputs": [],
   "source": [
    "from random import randint"
   ]
  },
  {
   "cell_type": "code",
   "execution_count": 230,
   "id": "cd8f0b6d",
   "metadata": {},
   "outputs": [
    {
     "data": {
      "text/plain": [
       "45"
      ]
     },
     "execution_count": 230,
     "metadata": {},
     "output_type": "execute_result"
    }
   ],
   "source": [
    "randint(0,100)"
   ]
  },
  {
   "cell_type": "code",
   "execution_count": 231,
   "id": "0ab40b42",
   "metadata": {},
   "outputs": [
    {
     "data": {
      "text/plain": [
       "29"
      ]
     },
     "execution_count": 231,
     "metadata": {},
     "output_type": "execute_result"
    }
   ],
   "source": [
    "randint(0,100)"
   ]
  },
  {
   "cell_type": "code",
   "execution_count": 232,
   "id": "c12419d0",
   "metadata": {},
   "outputs": [
    {
     "data": {
      "text/plain": [
       "[0, 1, 2, 3, 4, 5, 6, 7, 8, 9]"
      ]
     },
     "execution_count": 232,
     "metadata": {},
     "output_type": "execute_result"
    }
   ],
   "source": [
    "yeniListe = list(range(0,10))\n",
    "yeniListe"
   ]
  },
  {
   "cell_type": "code",
   "execution_count": 233,
   "id": "a40761b0",
   "metadata": {},
   "outputs": [
    {
     "data": {
      "text/plain": [
       "[6, 0, 1, 7, 3, 5, 8, 2, 4, 9]"
      ]
     },
     "execution_count": 233,
     "metadata": {},
     "output_type": "execute_result"
    }
   ],
   "source": [
    "from random import shuffle\n",
    "shuffle(yeniListe)\n",
    "yeniListe"
   ]
  },
  {
   "cell_type": "markdown",
   "id": "e3bd371c",
   "metadata": {},
   "source": [
    "Uygulamalar\n",
    "--\n",
    "<h3>Mükerrer (tekrarlanan) elemanları kaldırmak</h3>\n",
    "Bir listeyi kümeye çevirmek mükerrer elemanların atılmasını sağlar. Tekil elemanların listesini bulmak için bu özelliği kullanabiliriz."
   ]
  },
  {
   "cell_type": "code",
   "execution_count": 234,
   "id": "d4b65738",
   "metadata": {},
   "outputs": [
    {
     "data": {
      "text/plain": [
       "[1, 2, 3, 4]"
      ]
     },
     "execution_count": 234,
     "metadata": {},
     "output_type": "execute_result"
    }
   ],
   "source": [
    "L = [1,2,3,4,1,2,3,4,1,3,2,1,4,1,2,1,3,1]\n",
    "list(set(L))"
   ]
  },
  {
   "cell_type": "markdown",
   "id": "bf9fe6c5",
   "metadata": {},
   "source": [
    "Elbette aynı yöntemi çokuzlar ve dizelerle de uygulayabiliriz."
   ]
  },
  {
   "cell_type": "code",
   "execution_count": 235,
   "id": "222d0e77",
   "metadata": {},
   "outputs": [
    {
     "data": {
      "text/plain": [
       "' abcdefklmnorsuyzöüş'"
      ]
     },
     "execution_count": 235,
     "metadata": {},
     "output_type": "execute_result"
    }
   ],
   "source": [
    "dize = \"korkma sönmez bu şafaklarda yüzen al sancak\"\n",
    "\"\".join(sorted(set(dize))) # Boş bir dizenin içine \"dize\" olarak tanımlanan değişkenin içerisindeki dizeyi aktardık.\n",
    "                           # Bunu yaparken sorted ile küçükten büyüğe sıraladık ve 'set' komutunu kullandığmıız için \n",
    "                           # Aynı olan karakterleri sadece bir kere aldı"
   ]
  },
  {
   "cell_type": "markdown",
   "id": "8f7a36e0",
   "metadata": {},
   "source": [
    "<h3>Elemanın varlığını test etmek</h3>\n",
    "Bir kümede belli bir elemanın mevcudiyetini test etmek, listede test etmekten çok daha hızlıdır. Bunun sebebi, bir eleman aranırken listenin baştan sona taranmasıdır. Bu yüzden, liste uzadıkça listede bir elemanın varlığının tespiti için gereken zaman artar. Kümelerde ise hash fonksiyonu kullanarak bir tek işlemde test yapılabilir; işlem kümedeki eleman sayısına bağlı değildir.\n",
    "\n",
    "Bu hız farkını görmek için 1-1.000.000 arasındaki sayılardan oluşan bir liste ve bir küme oluşturalım. Mükerrer eleman olmadığı için ikisi de aynı uzunlukta olacak."
   ]
  },
  {
   "cell_type": "code",
   "execution_count": 236,
   "id": "cc4c7e83",
   "metadata": {},
   "outputs": [],
   "source": [
    "L = list(range(1,1000001))\n",
    "s = set(L)"
   ]
  },
  {
   "cell_type": "code",
   "execution_count": 237,
   "id": "733b74b8",
   "metadata": {},
   "outputs": [],
   "source": [
    "from random import randint"
   ]
  },
  {
   "cell_type": "markdown",
   "id": "bbcdcfc2",
   "metadata": {},
   "source": [
    "1 ile 2.000.000 arasında rastgele bir sayı seçelim ve sayının listede ve kümede varlığını test edelim. Yüzde elli ihtimalle sayı mevcut olmayacak. `%%timeit` hücre sihri ile bu işlemi defalarca tekrarlayıp ortalama süresini bulalım."
   ]
  },
  {
   "cell_type": "code",
   "execution_count": 238,
   "id": "c0c96855",
   "metadata": {},
   "outputs": [
    {
     "name": "stdout",
     "output_type": "stream",
     "text": [
      "5.51 ms ± 246 µs per loop (mean ± std. dev. of 7 runs, 100 loops each)\n"
     ]
    }
   ],
   "source": [
    "%%timeit\n",
    "n = randint(1,2000000)  # Liste içinde arama yapıyoruz.\n",
    "n in L"
   ]
  },
  {
   "cell_type": "code",
   "execution_count": 239,
   "id": "3c860697",
   "metadata": {},
   "outputs": [
    {
     "name": "stdout",
     "output_type": "stream",
     "text": [
      "519 ns ± 5.61 ns per loop (mean ± std. dev. of 7 runs, 1,000,000 loops each)\n"
     ]
    }
   ],
   "source": [
    "%%timeit\n",
    "n = randint(1,2000000)  # Küme içinde arama yapıyoruz.\n",
    "n in s"
   ]
  },
  {
   "cell_type": "markdown",
   "id": "54697763",
   "metadata": {},
   "source": [
    "Küme içinde aramanın listede aramaya göre bin kat daha hızlı olduğunu görebiliyoruz. \n",
    "\n",
    "Şimdi aynı işlemi bir sözlük ile yapalım. Anahtar değerleri 1-1.000.000 arasında olan büyük bir sözlük yaratalım ve yine rastgele seçilmiş anahtar değerlerini sorgulayalım."
   ]
  },
  {
   "cell_type": "code",
   "execution_count": 240,
   "id": "028964c8",
   "metadata": {},
   "outputs": [],
   "source": [
    "D = dict.fromkeys(L)"
   ]
  },
  {
   "cell_type": "code",
   "execution_count": 241,
   "id": "c68e9fbf",
   "metadata": {},
   "outputs": [
    {
     "name": "stdout",
     "output_type": "stream",
     "text": [
      "560 ns ± 11.4 ns per loop (mean ± std. dev. of 7 runs, 1,000,000 loops each)\n"
     ]
    }
   ],
   "source": [
    "%%timeit\n",
    "n = randint(1,2000000)\n",
    "n in D"
   ]
  },
  {
   "cell_type": "markdown",
   "id": "34da3db9",
   "metadata": {},
   "source": [
    "Sözlüklerde eleman tespiti kümelerdeki kadar hızlıdır, çünkü sözlüklerde de anahtarlar hash fonksiyonlarıyla aranır. Bütün sözlük elemanlarını taramak gerekmez. Yaptığımız zaman ölçümü de bunu gösteriyor."
   ]
  },
  {
   "cell_type": "markdown",
   "id": "613b1bb2",
   "metadata": {},
   "source": [
    "# Boolean\n",
    "\n",
    "Boolean iki farklı değer döndüren bir mantıksal veri tipidir. Ya 'true' ya da 'false' değerini döndürür. Yani atandığı değişken veya istenen işlemin sonucunda bu değerlerden birini verir."
   ]
  },
  {
   "cell_type": "code",
   "execution_count": 242,
   "id": "d68b2c18",
   "metadata": {},
   "outputs": [
    {
     "data": {
      "text/plain": [
       "True"
      ]
     },
     "execution_count": 242,
     "metadata": {},
     "output_type": "execute_result"
    }
   ],
   "source": [
    "10 > 5"
   ]
  },
  {
   "cell_type": "code",
   "execution_count": 243,
   "id": "5b9e306e",
   "metadata": {},
   "outputs": [
    {
     "data": {
      "text/plain": [
       "False"
      ]
     },
     "execution_count": 243,
     "metadata": {},
     "output_type": "execute_result"
    }
   ],
   "source": [
    "10 < 5"
   ]
  },
  {
   "cell_type": "code",
   "execution_count": 244,
   "id": "4c9f8d58",
   "metadata": {},
   "outputs": [
    {
     "data": {
      "text/plain": [
       "False"
      ]
     },
     "execution_count": 244,
     "metadata": {},
     "output_type": "execute_result"
    }
   ],
   "source": [
    "listem = [5000,10000,3000,1000,2000,4000]\n",
    "ortalama = sum(listem)/len(listem) # listemizin ortalamasını aldık sonuç = 4166.666\n",
    "listem[3]>ortalama # listemizin üçünü elemanı (1000) ortalamadan büyük mü diye kontrol ettik."
   ]
  },
  {
   "cell_type": "code",
   "execution_count": 245,
   "id": "c2187b09",
   "metadata": {},
   "outputs": [
    {
     "name": "stdout",
     "output_type": "stream",
     "text": [
      "maaş bilgisini giriniz: 17000\n"
     ]
    },
    {
     "data": {
      "text/plain": [
       "True"
      ]
     },
     "execution_count": 245,
     "metadata": {},
     "output_type": "execute_result"
    }
   ],
   "source": [
    "kullaniciMaas = int(input(\"maaş bilgisini giriniz: \"))\n",
    "kullaniciMaas>ortalama"
   ]
  },
  {
   "cell_type": "markdown",
   "id": "e9b7540f",
   "metadata": {},
   "source": [
    "# Mantıksal İşlemler\n",
    "\n",
    "## and, or, not, ==, !=\n",
    "\n",
    "`and`ve anlamnı taşır kendinden sonra gelen ifadenin de doğru olurse True döndürür.\n",
    "`or`veya anlamı taşır ifadelerden herhangi birisi doğru olsa bile True döndürür.\n",
    "`not`sorgulanan ifade yanlışsa True döndürür.\n",
    "`==`sorgulanan değerler eşitse True döndürür.\n",
    "`!=`sorgulanan ifade eşit değilse True döndürür"
   ]
  },
  {
   "cell_type": "code",
   "execution_count": 246,
   "id": "ee43f047",
   "metadata": {},
   "outputs": [],
   "source": [
    "x=8\n",
    "y=10"
   ]
  },
  {
   "cell_type": "code",
   "execution_count": 247,
   "id": "661cce99",
   "metadata": {},
   "outputs": [
    {
     "data": {
      "text/plain": [
       "False"
      ]
     },
     "execution_count": 247,
     "metadata": {},
     "output_type": "execute_result"
    }
   ],
   "source": [
    "y==x"
   ]
  },
  {
   "cell_type": "code",
   "execution_count": 248,
   "id": "3f120223",
   "metadata": {},
   "outputs": [
    {
     "data": {
      "text/plain": [
       "True"
      ]
     },
     "execution_count": 248,
     "metadata": {},
     "output_type": "execute_result"
    }
   ],
   "source": [
    "x!=y"
   ]
  },
  {
   "cell_type": "code",
   "execution_count": 249,
   "id": "c2edacd0",
   "metadata": {},
   "outputs": [
    {
     "data": {
      "text/plain": [
       "True"
      ]
     },
     "execution_count": 249,
     "metadata": {},
     "output_type": "execute_result"
    }
   ],
   "source": [
    "x < y and x != y # Her iki şartta sağlandığı için True"
   ]
  },
  {
   "cell_type": "code",
   "execution_count": 250,
   "id": "9dc4ea44",
   "metadata": {},
   "outputs": [
    {
     "data": {
      "text/plain": [
       "True"
      ]
     },
     "execution_count": 250,
     "metadata": {},
     "output_type": "execute_result"
    }
   ],
   "source": [
    "x > y or x > 5 # şartlardan birisi sağlandığı için (x>5) True"
   ]
  },
  {
   "cell_type": "code",
   "execution_count": 251,
   "id": "0aee37dd",
   "metadata": {},
   "outputs": [
    {
     "data": {
      "text/plain": [
       "False"
      ]
     },
     "execution_count": 251,
     "metadata": {},
     "output_type": "execute_result"
    }
   ],
   "source": [
    "1 > 3 and 3 > 2 # bir üçten büyük olmadığı için False"
   ]
  },
  {
   "cell_type": "code",
   "execution_count": 252,
   "id": "80efa49e",
   "metadata": {},
   "outputs": [
    {
     "data": {
      "text/plain": [
       "True"
      ]
     },
     "execution_count": 252,
     "metadata": {},
     "output_type": "execute_result"
    }
   ],
   "source": [
    "not 5 == 4 # Burada 5==4 sorgusunun False döndürmesi lazım fakat başına \"not\" koyarak sorguladığmız ifadenin yanlış olması \n",
    "           # durumunda True döndürmesini sağladık."
   ]
  },
  {
   "cell_type": "code",
   "execution_count": 253,
   "id": "4d5f1509",
   "metadata": {},
   "outputs": [
    {
     "data": {
      "text/plain": [
       "False"
      ]
     },
     "execution_count": 253,
     "metadata": {},
     "output_type": "execute_result"
    }
   ],
   "source": [
    "5 == 4 # Yukarıdaki ifaden farklı olarak burada \"not\" olmadığı için False döndürür."
   ]
  }
 ],
 "metadata": {
  "kernelspec": {
   "display_name": "Python 3 (ipykernel)",
   "language": "python",
   "name": "python3"
  },
  "language_info": {
   "codemirror_mode": {
    "name": "ipython",
    "version": 3
   },
   "file_extension": ".py",
   "mimetype": "text/x-python",
   "name": "python",
   "nbconvert_exporter": "python",
   "pygments_lexer": "ipython3",
   "version": "3.11.5"
  }
 },
 "nbformat": 4,
 "nbformat_minor": 5
}
